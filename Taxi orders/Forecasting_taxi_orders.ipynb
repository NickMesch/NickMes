{
 "cells": [
  {
   "cell_type": "markdown",
   "metadata": {
    "toc": true
   },
   "source": [
    "<h1>Содержание<span class=\"tocSkip\"></span></h1>\n",
    "<div class=\"toc\"><ul class=\"toc-item\"><li><span><a href=\"#Подготовка\" data-toc-modified-id=\"Подготовка-1\"><span class=\"toc-item-num\">1&nbsp;&nbsp;</span>Подготовка</a></span></li><li><span><a href=\"#Анализ\" data-toc-modified-id=\"Анализ-2\"><span class=\"toc-item-num\">2&nbsp;&nbsp;</span>Анализ</a></span></li><li><span><a href=\"#Обучение\" data-toc-modified-id=\"Обучение-3\"><span class=\"toc-item-num\">3&nbsp;&nbsp;</span>Обучение</a></span><ul class=\"toc-item\"><li><span><a href=\"#Baseline\" data-toc-modified-id=\"Baseline-3.1\"><span class=\"toc-item-num\">3.1&nbsp;&nbsp;</span>Baseline</a></span></li><li><span><a href=\"#Добавление-обучающих-признаков\" data-toc-modified-id=\"Добавление-обучающих-признаков-3.2\"><span class=\"toc-item-num\">3.2&nbsp;&nbsp;</span>Добавление обучающих признаков</a></span></li><li><span><a href=\"#Линейная-регрессия\" data-toc-modified-id=\"Линейная-регрессия-3.3\"><span class=\"toc-item-num\">3.3&nbsp;&nbsp;</span>Линейная регрессия</a></span></li><li><span><a href=\"#Lasso\" data-toc-modified-id=\"Lasso-3.4\"><span class=\"toc-item-num\">3.4&nbsp;&nbsp;</span>Lasso</a></span></li><li><span><a href=\"#RandomForestRegressor\" data-toc-modified-id=\"RandomForestRegressor-3.5\"><span class=\"toc-item-num\">3.5&nbsp;&nbsp;</span>RandomForestRegressor</a></span></li><li><span><a href=\"#LGBMRegressor\" data-toc-modified-id=\"LGBMRegressor-3.6\"><span class=\"toc-item-num\">3.6&nbsp;&nbsp;</span>LGBMRegressor</a></span></li></ul></li><li><span><a href=\"#Тестирование\" data-toc-modified-id=\"Тестирование-4\"><span class=\"toc-item-num\">4&nbsp;&nbsp;</span>Тестирование</a></span></li><li><span><a href=\"#Вывод\" data-toc-modified-id=\"Вывод-5\"><span class=\"toc-item-num\">5&nbsp;&nbsp;</span>Вывод</a></span></li><li><span><a href=\"#Чек-лист-проверки\" data-toc-modified-id=\"Чек-лист-проверки-6\"><span class=\"toc-item-num\">6&nbsp;&nbsp;</span>Чек-лист проверки</a></span></li></ul></div>"
   ]
  },
  {
   "cell_type": "markdown",
   "metadata": {},
   "source": [
    "#  Прогнозирование заказов такси"
   ]
  },
  {
   "cell_type": "markdown",
   "metadata": {},
   "source": [
    "Компания такси собрала исторические данные о заказах такси в аэропортах. Чтобы привлекать больше водителей в период пиковой нагрузки, нужно спрогнозировать количество заказов такси на следующий час. Постройте модель для такого предсказания.\n",
    "\n",
    "Значение метрики *RMSE* на тестовой выборке должно быть не больше 48.\n",
    "\n",
    "Вам нужно:\n",
    "\n",
    "1. Загрузить данные и выполнить их ресемплирование по одному часу.\n",
    "2. Проанализировать данные.\n",
    "3. Обучить разные модели с различными гиперпараметрами. Сделать тестовую выборку размером 10% от исходных данных.\n",
    "4. Проверить данные на тестовой выборке и сделать выводы.\n",
    "\n",
    "\n",
    "Данные лежат в файле `taxi.csv`. Количество заказов находится в столбце `num_orders` (от англ. *number of orders*, «число заказов»)."
   ]
  },
  {
   "cell_type": "markdown",
   "metadata": {},
   "source": [
    "## Подготовка"
   ]
  },
  {
   "cell_type": "code",
   "execution_count": 1,
   "metadata": {},
   "outputs": [],
   "source": [
    "import pandas as pd\n",
    "import matplotlib.pyplot as plt\n",
    "import seaborn as sns\n",
    "import warnings\n",
    "warnings.filterwarnings('ignore')\n",
    "\n",
    "from statsmodels.tsa.seasonal import seasonal_decompose\n",
    "\n",
    "from sklearn.model_selection import train_test_split, TimeSeriesSplit, GridSearchCV\n",
    "\n",
    "from sklearn.metrics import mean_absolute_error, mean_squared_error\n",
    "\n",
    "from sklearn.linear_model import LinearRegression, Lasso\n",
    "from sklearn.ensemble import RandomForestRegressor\n",
    "from lightgbm import LGBMRegressor"
   ]
  },
  {
   "cell_type": "markdown",
   "metadata": {},
   "source": [
    "Загрузим данные и посмотрим общую информацию:"
   ]
  },
  {
   "cell_type": "code",
   "execution_count": 2,
   "metadata": {},
   "outputs": [],
   "source": [
    "try:\n",
    "    data = pd.read_csv('/datasets/taxi.csv', index_col=[0], parse_dates=[0])\n",
    "except:\n",
    "    data = pd.read_csv('C:/ya_pr/taxi/taxi.csv', index_col=[0], parse_dates=[0])"
   ]
  },
  {
   "cell_type": "code",
   "execution_count": 3,
   "metadata": {},
   "outputs": [
    {
     "data": {
      "text/html": [
       "<div>\n",
       "<style scoped>\n",
       "    .dataframe tbody tr th:only-of-type {\n",
       "        vertical-align: middle;\n",
       "    }\n",
       "\n",
       "    .dataframe tbody tr th {\n",
       "        vertical-align: top;\n",
       "    }\n",
       "\n",
       "    .dataframe thead th {\n",
       "        text-align: right;\n",
       "    }\n",
       "</style>\n",
       "<table border=\"1\" class=\"dataframe\">\n",
       "  <thead>\n",
       "    <tr style=\"text-align: right;\">\n",
       "      <th></th>\n",
       "      <th>num_orders</th>\n",
       "    </tr>\n",
       "    <tr>\n",
       "      <th>datetime</th>\n",
       "      <th></th>\n",
       "    </tr>\n",
       "  </thead>\n",
       "  <tbody>\n",
       "    <tr>\n",
       "      <th>2018-03-01 00:00:00</th>\n",
       "      <td>9</td>\n",
       "    </tr>\n",
       "    <tr>\n",
       "      <th>2018-03-01 00:10:00</th>\n",
       "      <td>14</td>\n",
       "    </tr>\n",
       "    <tr>\n",
       "      <th>2018-03-01 00:20:00</th>\n",
       "      <td>28</td>\n",
       "    </tr>\n",
       "    <tr>\n",
       "      <th>2018-03-01 00:30:00</th>\n",
       "      <td>20</td>\n",
       "    </tr>\n",
       "    <tr>\n",
       "      <th>2018-03-01 00:40:00</th>\n",
       "      <td>32</td>\n",
       "    </tr>\n",
       "    <tr>\n",
       "      <th>2018-03-01 00:50:00</th>\n",
       "      <td>21</td>\n",
       "    </tr>\n",
       "    <tr>\n",
       "      <th>2018-03-01 01:00:00</th>\n",
       "      <td>7</td>\n",
       "    </tr>\n",
       "    <tr>\n",
       "      <th>2018-03-01 01:10:00</th>\n",
       "      <td>5</td>\n",
       "    </tr>\n",
       "    <tr>\n",
       "      <th>2018-03-01 01:20:00</th>\n",
       "      <td>17</td>\n",
       "    </tr>\n",
       "    <tr>\n",
       "      <th>2018-03-01 01:30:00</th>\n",
       "      <td>12</td>\n",
       "    </tr>\n",
       "  </tbody>\n",
       "</table>\n",
       "</div>"
      ],
      "text/plain": [
       "                     num_orders\n",
       "datetime                       \n",
       "2018-03-01 00:00:00           9\n",
       "2018-03-01 00:10:00          14\n",
       "2018-03-01 00:20:00          28\n",
       "2018-03-01 00:30:00          20\n",
       "2018-03-01 00:40:00          32\n",
       "2018-03-01 00:50:00          21\n",
       "2018-03-01 01:00:00           7\n",
       "2018-03-01 01:10:00           5\n",
       "2018-03-01 01:20:00          17\n",
       "2018-03-01 01:30:00          12"
      ]
     },
     "execution_count": 3,
     "metadata": {},
     "output_type": "execute_result"
    }
   ],
   "source": [
    "data.head(10)"
   ]
  },
  {
   "cell_type": "code",
   "execution_count": 4,
   "metadata": {},
   "outputs": [
    {
     "name": "stdout",
     "output_type": "stream",
     "text": [
      "<class 'pandas.core.frame.DataFrame'>\n",
      "DatetimeIndex: 26496 entries, 2018-03-01 00:00:00 to 2018-08-31 23:50:00\n",
      "Data columns (total 1 columns):\n",
      " #   Column      Non-Null Count  Dtype\n",
      "---  ------      --------------  -----\n",
      " 0   num_orders  26496 non-null  int64\n",
      "dtypes: int64(1)\n",
      "memory usage: 414.0 KB\n"
     ]
    }
   ],
   "source": [
    "data.info()"
   ]
  },
  {
   "cell_type": "markdown",
   "metadata": {},
   "source": [
    "Проверим, что временная последовательность нигде не нарушена:"
   ]
  },
  {
   "cell_type": "code",
   "execution_count": 5,
   "metadata": {},
   "outputs": [
    {
     "data": {
      "text/plain": [
       "True"
      ]
     },
     "execution_count": 5,
     "metadata": {},
     "output_type": "execute_result"
    }
   ],
   "source": [
    "data.index.is_monotonic_increasing"
   ]
  },
  {
   "cell_type": "markdown",
   "metadata": {},
   "source": [
    "Сгруппируем данные по часам:"
   ]
  },
  {
   "cell_type": "code",
   "execution_count": 6,
   "metadata": {},
   "outputs": [],
   "source": [
    "data = data.resample('1H').sum()"
   ]
  },
  {
   "cell_type": "markdown",
   "metadata": {},
   "source": [
    "## Анализ"
   ]
  },
  {
   "cell_type": "markdown",
   "metadata": {},
   "source": [
    "Период охватываемый предоставленными данными:"
   ]
  },
  {
   "cell_type": "code",
   "execution_count": 7,
   "metadata": {},
   "outputs": [
    {
     "name": "stdout",
     "output_type": "stream",
     "text": [
      "2018-08-31 23:00:00\n",
      "2018-03-01 00:00:00\n"
     ]
    }
   ],
   "source": [
    "print(data.index.max())\n",
    "print(data.index.min())"
   ]
  },
  {
   "cell_type": "markdown",
   "metadata": {},
   "source": [
    "Посмотрим, на тренд и периодичность данных:"
   ]
  },
  {
   "cell_type": "code",
   "execution_count": 8,
   "metadata": {},
   "outputs": [],
   "source": [
    "decomposed = seasonal_decompose(data['2018-08':'2018-09'])"
   ]
  },
  {
   "cell_type": "code",
   "execution_count": 9,
   "metadata": {},
   "outputs": [
    {
     "data": {
      "image/png": "[encoded data removed]",
      "text/plain": [
       "<Figure size 1152x360 with 1 Axes>"
      ]
     },
     "metadata": {
      "needs_background": "light"
     },
     "output_type": "display_data"
    }
   ],
   "source": [
    "plt.figure(figsize=(16, 5))\n",
    "decomposed.seasonal.plot(ax=plt.gca())\n",
    "plt.title('seasonal')\n",
    "plt.show()"
   ]
  },
  {
   "cell_type": "code",
   "execution_count": 10,
   "metadata": {},
   "outputs": [
    {
     "data": {
      "image/png": "[encoded data removed]",
      "text/plain": [
       "<Figure size 1152x360 with 1 Axes>"
      ]
     },
     "metadata": {
      "needs_background": "light"
     },
     "output_type": "display_data"
    }
   ],
   "source": [
    "plt.figure(figsize=(16, 5))\n",
    "decomposed.trend.plot(ax=plt.gca())\n",
    "plt.title('Trend')\n",
    "plt.show()"
   ]
  },
  {
   "cell_type": "code",
   "execution_count": 11,
   "metadata": {},
   "outputs": [
    {
     "data": {
      "image/png": "[encoded data removed]",
      "text/plain": [
       "<Figure size 1152x360 with 1 Axes>"
      ]
     },
     "metadata": {
      "needs_background": "light"
     },
     "output_type": "display_data"
    }
   ],
   "source": [
    "plt.figure(figsize=(16, 5))\n",
    "decomposed.resid.plot(ax=plt.gca())\n",
    "plt.title('Residuals')\n",
    "plt.show()"
   ]
  },
  {
   "cell_type": "markdown",
   "metadata": {},
   "source": [
    "На протяжении всего периода:"
   ]
  },
  {
   "cell_type": "code",
   "execution_count": 12,
   "metadata": {},
   "outputs": [
    {
     "data": {
      "image/png": "[encoded data removed]",
      "text/plain": [
       "<Figure size 1152x360 with 1 Axes>"
      ]
     },
     "metadata": {
      "needs_background": "light"
     },
     "output_type": "display_data"
    }
   ],
   "source": [
    "decomposed = seasonal_decompose(data)\n",
    "\n",
    "plt.figure(figsize=(16, 5))\n",
    "decomposed.trend.plot(ax=plt.gca())\n",
    "plt.title('Trend')\n",
    "plt.show()"
   ]
  },
  {
   "cell_type": "markdown",
   "metadata": {},
   "source": [
    "- Видим наличие тренда, а так же периодические колебания спроса (обусловленные временем суток).\n",
    "- так же видим, что сравнительно равномерный шум имеет выбросы каждые 7 дней - вероятно это всплески спроса связанные с выходными днями."
   ]
  },
  {
   "cell_type": "markdown",
   "metadata": {},
   "source": [
    "Посмотрим на другом масштабе:"
   ]
  },
  {
   "cell_type": "code",
   "execution_count": 13,
   "metadata": {},
   "outputs": [],
   "source": [
    "data_day = data.resample('1D').sum()\n",
    "decomposed = seasonal_decompose(data_day['2018-08':'2018-09'])"
   ]
  },
  {
   "cell_type": "code",
   "execution_count": 14,
   "metadata": {},
   "outputs": [
    {
     "data": {
      "image/png": "[encoded data removed]",
      "text/plain": [
       "<Figure size 1152x360 with 1 Axes>"
      ]
     },
     "metadata": {
      "needs_background": "light"
     },
     "output_type": "display_data"
    }
   ],
   "source": [
    "plt.figure(figsize=(16, 5))\n",
    "decomposed.seasonal.plot(ax=plt.gca())\n",
    "plt.title('seasonal')\n",
    "plt.show()"
   ]
  },
  {
   "cell_type": "markdown",
   "metadata": {},
   "source": [
    " - дни пикового спроса - каждое воскресенье."
   ]
  },
  {
   "cell_type": "markdown",
   "metadata": {},
   "source": [
    "## Обучение"
   ]
  },
  {
   "cell_type": "markdown",
   "metadata": {},
   "source": [
    "Сделаем таблицу для результатов: "
   ]
  },
  {
   "cell_type": "code",
   "execution_count": 15,
   "metadata": {},
   "outputs": [],
   "source": [
    "models = pd.DataFrame({'Модель':[]\n",
    "                       ,'Параметры доп признаков':[]\n",
    "                       ,'Параметры модели':[]\n",
    "                       ,'RMSE на тренировочной выборке':[]\n",
    "                       ,'RMSE тестовой выборке':[]})\n"
   ]
  },
  {
   "cell_type": "markdown",
   "metadata": {},
   "source": [
    "### Baseline"
   ]
  },
  {
   "cell_type": "markdown",
   "metadata": {},
   "source": [
    "В качестве базового прогноза будем использовать предсказание предыдущим значением:"
   ]
  },
  {
   "cell_type": "code",
   "execution_count": 16,
   "metadata": {},
   "outputs": [
    {
     "name": "stdout",
     "output_type": "stream",
     "text": [
      "2018-03-01 00:00:00 2018-08-13 13:00:00\n",
      "2018-08-13 14:00:00 2018-08-31 23:00:00\n"
     ]
    }
   ],
   "source": [
    "train, test = train_test_split(data, shuffle=False, test_size=0.1)\n",
    "\n",
    "print(train.index.min(), train.index.max())\n",
    "print(test.index.min(), test.index.max())"
   ]
  },
  {
   "cell_type": "code",
   "execution_count": 17,
   "metadata": {},
   "outputs": [
    {
     "name": "stdout",
     "output_type": "stream",
     "text": [
      "RMSE базового прогноза (прогноз предыдущим значением): 58.86\n"
     ]
    }
   ],
   "source": [
    "base_prediction = test.shift()\n",
    "base_prediction.iloc[0] = train.iloc[-1]\n",
    "rmse = round(mean_squared_error(test,base_prediction)**0.5,2)\n",
    "print('RMSE базового прогноза (прогноз предыдущим значением):', rmse)"
   ]
  },
  {
   "cell_type": "code",
   "execution_count": 18,
   "metadata": {},
   "outputs": [],
   "source": [
    "new_model = {'Модель':'Прогноз предыдущим значением'\n",
    "             ,'Параметры доп признаков':''\n",
    "             ,'Параметры модели':''\n",
    "             ,'RMSE на тренировочной выборке':''\n",
    "             ,'RMSE на валидационной выборке':rmse}\n",
    "\n",
    "models = models.append(new_model, ignore_index=True)"
   ]
  },
  {
   "cell_type": "code",
   "execution_count": 19,
   "metadata": {},
   "outputs": [
    {
     "data": {
      "text/html": [
       "<div>\n",
       "<style scoped>\n",
       "    .dataframe tbody tr th:only-of-type {\n",
       "        vertical-align: middle;\n",
       "    }\n",
       "\n",
       "    .dataframe tbody tr th {\n",
       "        vertical-align: top;\n",
       "    }\n",
       "\n",
       "    .dataframe thead th {\n",
       "        text-align: right;\n",
       "    }\n",
       "</style>\n",
       "<table border=\"1\" class=\"dataframe\">\n",
       "  <thead>\n",
       "    <tr style=\"text-align: right;\">\n",
       "      <th></th>\n",
       "      <th>Модель</th>\n",
       "      <th>Параметры доп признаков</th>\n",
       "      <th>Параметры модели</th>\n",
       "      <th>RMSE на тренировочной выборке</th>\n",
       "      <th>RMSE тестовой выборке</th>\n",
       "    </tr>\n",
       "  </thead>\n",
       "  <tbody>\n",
       "    <tr>\n",
       "      <th>0</th>\n",
       "      <td>Прогноз предыдущим значением</td>\n",
       "      <td></td>\n",
       "      <td></td>\n",
       "      <td></td>\n",
       "      <td>58.86</td>\n",
       "    </tr>\n",
       "  </tbody>\n",
       "</table>\n",
       "</div>"
      ],
      "text/plain": [
       "                         Модель Параметры доп признаков Параметры модели  \\\n",
       "0  Прогноз предыдущим значением                                            \n",
       "\n",
       "  RMSE на тренировочной выборке  RMSE тестовой выборке  \n",
       "0                                                58.86  "
      ]
     },
     "execution_count": 19,
     "metadata": {},
     "output_type": "execute_result"
    }
   ],
   "source": [
    "models.head()"
   ]
  },
  {
   "cell_type": "markdown",
   "metadata": {},
   "source": [
    "Далее, для обучения и валидации моделей, подбора параметров будем использовать только train выборку:"
   ]
  },
  {
   "cell_type": "code",
   "execution_count": 20,
   "metadata": {},
   "outputs": [],
   "source": [
    "taxi_train = train.copy()"
   ]
  },
  {
   "cell_type": "markdown",
   "metadata": {},
   "source": [
    "### Добавление обучающих признаков"
   ]
  },
  {
   "cell_type": "markdown",
   "metadata": {},
   "source": [
    "Сделаем функцию для создания дополнительных признаков. Добавим: время (час), день недели, отстающие значения (со сдвигами от 1 часа до максимального значения, которое подберем экспериментально) и скользящее среднее: "
   ]
  },
  {
   "cell_type": "code",
   "execution_count": 21,
   "metadata": {},
   "outputs": [],
   "source": [
    "def add_features(data, max_lag, rolling_mean_size):\n",
    "    added_data = data.copy()\n",
    "    added_data['hour'] = added_data.index.hour\n",
    "    added_data['dayofweek'] = added_data.index.dayofweek\n",
    "\n",
    "    for lag in range(1, max_lag + 1):\n",
    "        added_data['lag_{}'.format(lag)] = added_data['num_orders'].shift(lag)\n",
    "\n",
    "    added_data['rolling_mean'] = added_data['num_orders'].shift().rolling(rolling_mean_size).mean()\n",
    "    \n",
    "    return added_data"
   ]
  },
  {
   "cell_type": "markdown",
   "metadata": {},
   "source": [
    "### Линейная регрессия"
   ]
  },
  {
   "cell_type": "markdown",
   "metadata": {},
   "source": [
    "Подберем оптимальный набор дополнительных признаков обучая модель \"линейная регрессия\" на разных наборах:"
   ]
  },
  {
   "cell_type": "code",
   "execution_count": 22,
   "metadata": {
    "scrolled": true
   },
   "outputs": [
    {
     "name": "stdout",
     "output_type": "stream",
     "text": [
      "RMSE на тренировочной выборке:  21.24\n",
      "Лучший RMSE на валидационной выборке:  29.82\n",
      "\n",
      "Лучший максимальный сдвиг:  98\n",
      "Лучший размер скользящего среднего :  36\n"
     ]
    }
   ],
   "source": [
    "best_max_lag = 0\n",
    "best_rolling_mean_size = 0\n",
    "best_rmse = 100\n",
    "best_rmse_train = 100\n",
    "\n",
    "for lag in range(10,101,4):\n",
    "    for roll_min_size in range(4,49,4):\n",
    "        added_data = add_features(taxi_train, lag, roll_min_size)\n",
    "        \n",
    "        train, valid = train_test_split(added_data, shuffle=False, test_size=0.1)\n",
    "        train = train.dropna()\n",
    "        X_train = train.drop('num_orders', axis=1)\n",
    "        y_train = train['num_orders']\n",
    "        X_valid = valid.drop('num_orders', axis=1)\n",
    "        y_valid = valid['num_orders']\n",
    "        \n",
    "        model = LinearRegression()\n",
    "        model.fit(X_train,y_train)\n",
    "        pred_valid = model.predict(X_valid)\n",
    "        \n",
    "        rmse = mean_squared_error(pred_valid,y_valid)**0.5\n",
    "        if rmse < best_rmse:\n",
    "            best_rmse = rmse\n",
    "            best_rolling_mean_size = roll_min_size\n",
    "            best_max_lag = lag\n",
    "            lr_best_model = model\n",
    "            pred_train = model.predict(X_train)\n",
    "            best_rmse_train = mean_squared_error(pred_train,y_train)**0.5\n",
    "        \n",
    "        \n",
    "print(\"RMSE на тренировочной выборке: \", round(best_rmse_train,2))\n",
    "print(\"Лучший RMSE на валидационной выборке: \", round(best_rmse,2))\n",
    "print('')\n",
    "print(\"Лучший максимальный сдвиг: \", best_max_lag)\n",
    "print(\"Лучший размер скользящего среднего : \", best_rolling_mean_size)"
   ]
  },
  {
   "cell_type": "code",
   "execution_count": 23,
   "metadata": {},
   "outputs": [],
   "source": [
    "new_model = {'Модель':'LinearRegression'\n",
    "             ,'Параметры доп признаков':'Макс сдвиг: {}, Размер скользящего среднего: {}'.format(best_max_lag,best_rolling_mean_size)\n",
    "             ,'Параметры модели':''\n",
    "             ,'RMSE на тренировочной выборке':round(best_rmse_train,2)\n",
    "             ,'RMSE на валидационной выборке':round(best_rmse,2)}\n",
    "\n",
    "models = models.append(new_model, ignore_index=True)"
   ]
  },
  {
   "cell_type": "markdown",
   "metadata": {},
   "source": [
    "### Lasso"
   ]
  },
  {
   "cell_type": "code",
   "execution_count": 24,
   "metadata": {},
   "outputs": [
    {
     "name": "stdout",
     "output_type": "stream",
     "text": [
      "RMSE на тренировочной выборке:  21.24\n",
      "Лучший RMSE на валидационной выборке:  29.8\n",
      "\n",
      "Лучший максимальный сдвиг:  98\n",
      "Лучший размер скользящего среднего :  4\n"
     ]
    }
   ],
   "source": [
    "best_max_lag = 0\n",
    "best_rolling_mean_size = 0\n",
    "\n",
    "best_rmse = 100\n",
    "rmse_train = 100\n",
    "\n",
    "alpha = 0.8\n",
    "\n",
    "for lag in range(10,101,4):\n",
    "    for roll_mean_size in range(4,49,4):\n",
    "        added_data = add_features(taxi_train, lag, roll_min_size)\n",
    "        \n",
    "        train, valid = train_test_split(added_data, shuffle=False, test_size=0.1)\n",
    "        train = train.dropna()\n",
    "        X_train = train.drop('num_orders', axis=1)\n",
    "        y_train = train['num_orders']\n",
    "        X_valid = valid.drop('num_orders', axis=1)\n",
    "        y_valid = valid['num_orders']\n",
    "        \n",
    "        model = Lasso(alpha=alpha)\n",
    "        model.fit(X_train,y_train)\n",
    "        pred_valid = model.predict(X_valid)\n",
    "        \n",
    "        rmse = mean_squared_error(pred_valid,y_valid)**0.5\n",
    "        if rmse < best_rmse:\n",
    "            best_rmse = rmse\n",
    "            best_rolling_mean_size = roll_mean_size\n",
    "            best_max_lag = lag\n",
    "            lasso_best_model = model\n",
    "            pred_train = model.predict(X_train)\n",
    "            rmse_train = mean_squared_error(pred_train,y_train)**0.5\n",
    "        \n",
    "        \n",
    "print(\"RMSE на тренировочной выборке: \", round(best_rmse_train,2))\n",
    "print(\"Лучший RMSE на валидационной выборке: \", round(best_rmse,2))\n",
    "print('')\n",
    "print(\"Лучший максимальный сдвиг: \", best_max_lag)\n",
    "print(\"Лучший размер скользящего среднего : \", best_rolling_mean_size)"
   ]
  },
  {
   "cell_type": "code",
   "execution_count": 25,
   "metadata": {},
   "outputs": [],
   "source": [
    "new_model = {'Модель':'Lasso'\n",
    "             ,'Параметры доп признаков':'Макс сдвиг: {}, Размер скользящего среднего: {}'.format(best_max_lag,best_rolling_mean_size)\n",
    "             ,'Параметры модели':'alpha={}'.format(alpha)\n",
    "             ,'RMSE на тренировочной выборке':round(rmse_train,2)\n",
    "             ,'RMSE на валидационной выборке':round(best_rmse,2)}\n",
    "\n",
    "models = models.append(new_model, ignore_index=True)"
   ]
  },
  {
   "cell_type": "markdown",
   "metadata": {},
   "source": [
    "### RandomForestRegressor"
   ]
  },
  {
   "cell_type": "code",
   "execution_count": 26,
   "metadata": {},
   "outputs": [
    {
     "name": "stdout",
     "output_type": "stream",
     "text": [
      "RMSE на тренировочной выборке:  13.52\n",
      "Лучший RMSE на валидационной выборке:  31.07\n",
      "Лучший максимальный сдвиг:  90\n",
      "Лучший максимальная глубина деревьев:  9\n",
      "Лучший n-estimators:  80\n"
     ]
    }
   ],
   "source": [
    "best_max_lag = 0\n",
    "best_rolling_mean_size = 48 \n",
    "\n",
    "best_n_estimators = 0 \n",
    "best_depth = 0 \n",
    "\n",
    "best_rmse = 100\n",
    "rmse_train = 100\n",
    "\n",
    "for lag in range(60,101,10):\n",
    "    for est in range(60,91,10):\n",
    "        for depth in range(7,10):\n",
    "            added_data = add_features(taxi_train, lag, best_rolling_mean_size)\n",
    "            train, valid = train_test_split(added_data, shuffle=False, test_size=0.1)\n",
    "            train = train.dropna()\n",
    "            X_train = train.drop('num_orders', axis=1)\n",
    "            y_train = train['num_orders']\n",
    "            X_valid = valid.drop('num_orders', axis=1)\n",
    "            y_valid = valid['num_orders']\n",
    "        \n",
    "            model = RandomForestRegressor(n_estimators=est, max_depth=depth, n_jobs=-1)\n",
    "            model.fit(X_train,y_train)\n",
    "            pred_valid = model.predict(X_valid)\n",
    "        \n",
    "            rmse = mean_squared_error(pred_valid,y_valid)**0.5\n",
    "            if rmse < best_rmse:\n",
    "                best_rmse = rmse\n",
    "                best_max_lag = lag\n",
    "                best_n_estimators = est\n",
    "                best_depth = depth\n",
    "                rf_best_model = model\n",
    "                \n",
    "                pred_train = model.predict(X_train)\n",
    "                rmse_train = round(mean_squared_error(pred_train,y_train)**0.5,2)\n",
    "            \n",
    "        \n",
    "        \n",
    "print(\"RMSE на тренировочной выборке: \", rmse_train)\n",
    "print(\"Лучший RMSE на валидационной выборке: \", round(best_rmse,2))\n",
    "print(\"Лучший максимальный сдвиг: \", best_max_lag)\n",
    "print(\"Лучший максимальная глубина деревьев: \", best_depth)\n",
    "print(\"Лучший n-estimators: \", best_n_estimators)"
   ]
  },
  {
   "cell_type": "code",
   "execution_count": 27,
   "metadata": {},
   "outputs": [],
   "source": [
    "new_model = {'Модель':'RandomForestRegressor'\n",
    "             ,'Параметры доп признаков':'Макс сдвиг: {}, Размер скользящего среднего: {}'.format(best_max_lag,best_rolling_mean_size)\n",
    "             ,'Параметры модели':'max_depth={}, n-estimators={}'.format(best_depth,best_n_estimators)\n",
    "             ,'RMSE на тренировочной выборке':round(rmse_train,2)\n",
    "             ,'RMSE на валидационной выборке':round(best_rmse,2)}\n",
    "\n",
    "models = models.append(new_model, ignore_index=True)"
   ]
  },
  {
   "cell_type": "markdown",
   "metadata": {},
   "source": [
    "### LGBMRegressor"
   ]
  },
  {
   "cell_type": "code",
   "execution_count": 28,
   "metadata": {},
   "outputs": [
    {
     "name": "stdout",
     "output_type": "stream",
     "text": [
      "RMSE на тренировочной выборке:  4.85\n",
      "Лучший RMSE на валидационной выборке:  29.61\n",
      "Лучший максимальный сдвиг:  85\n",
      "Лучший размер скользящего среднего:  24\n",
      "Лучший learning rate:  0.2\n"
     ]
    }
   ],
   "source": [
    "best_max_lag = 0\n",
    "best_rolling_mean_size = 0\n",
    "best_rate = 0\n",
    "\n",
    "best_rmse = 100\n",
    "rmse_train = 100\n",
    "\n",
    "learning_rates = [0.05, 0.2]\n",
    "\n",
    "for lag in range(60,101,5):\n",
    "    for roll_mean_size in range(20,33,4):\n",
    "        for rate in learning_rates:\n",
    "            added_data = add_features(taxi_train, lag, roll_mean_size)\n",
    "            train, valid = train_test_split(added_data, shuffle=False, test_size=0.1)\n",
    "            train = train.dropna()\n",
    "            X_train = train.drop('num_orders', axis=1)\n",
    "            y_train = train['num_orders']\n",
    "            X_valid = valid.drop('num_orders', axis=1)\n",
    "            y_valid = valid['num_orders']\n",
    "        \n",
    "            model = LGBMRegressor(max_depth=50,learning_rate=rate, n_jobs=4)\n",
    "            model.fit(X_train,y_train)\n",
    "            pred_valid = model.predict(X_valid)\n",
    "        \n",
    "            rmse = mean_squared_error(pred_valid,y_valid)**0.5\n",
    "            if rmse < best_rmse:\n",
    "                best_rmse = rmse\n",
    "                best_rolling_mean_size = roll_mean_size\n",
    "                best_max_lag = lag\n",
    "                best_rate = rate\n",
    "            \n",
    "                LGBM_best_model = model\n",
    "                \n",
    "                pred_train = model.predict(X_train)\n",
    "                rmse_train = round(mean_squared_error(pred_train,y_train)**0.5,2)\n",
    "        \n",
    "\n",
    "print(\"RMSE на тренировочной выборке: \", rmse_train)\n",
    "print(\"Лучший RMSE на валидационной выборке: \", round(best_rmse,2))\n",
    "print(\"Лучший максимальный сдвиг: \", best_max_lag)\n",
    "print(\"Лучший размер скользящего среднего: \", best_rolling_mean_size)\n",
    "print('Лучший learning rate: ',best_rate)"
   ]
  },
  {
   "cell_type": "code",
   "execution_count": 29,
   "metadata": {},
   "outputs": [],
   "source": [
    "new_model = {'Модель':'LGBMRegressor'\n",
    "             ,'Параметры доп признаков':'Макс сдвиг: {}, Размер скользящего среднего: {}'.format(best_max_lag,best_rolling_mean_size)\n",
    "             ,'Параметры модели':'learning rate={}'.format(best_rate)\n",
    "             ,'RMSE на тренировочной выборке':round(rmse_train,2)\n",
    "             ,'RMSE на валидационной выборке':round(best_rmse,2)}\n",
    "\n",
    "models = models.append(new_model, ignore_index=True)"
   ]
  },
  {
   "cell_type": "markdown",
   "metadata": {},
   "source": [
    "## Тестирование"
   ]
  },
  {
   "cell_type": "code",
   "execution_count": 30,
   "metadata": {},
   "outputs": [
    {
     "data": {
      "text/html": [
       "<div>\n",
       "<style scoped>\n",
       "    .dataframe tbody tr th:only-of-type {\n",
       "        vertical-align: middle;\n",
       "    }\n",
       "\n",
       "    .dataframe tbody tr th {\n",
       "        vertical-align: top;\n",
       "    }\n",
       "\n",
       "    .dataframe thead th {\n",
       "        text-align: right;\n",
       "    }\n",
       "</style>\n",
       "<table border=\"1\" class=\"dataframe\">\n",
       "  <thead>\n",
       "    <tr style=\"text-align: right;\">\n",
       "      <th></th>\n",
       "      <th>Модель</th>\n",
       "      <th>Параметры доп признаков</th>\n",
       "      <th>Параметры модели</th>\n",
       "      <th>RMSE на тренировочной выборке</th>\n",
       "      <th>RMSE тестовой выборке</th>\n",
       "      <th>RMSE на валидационной выборке</th>\n",
       "    </tr>\n",
       "  </thead>\n",
       "  <tbody>\n",
       "    <tr>\n",
       "      <th>0</th>\n",
       "      <td>Прогноз предыдущим значением</td>\n",
       "      <td></td>\n",
       "      <td></td>\n",
       "      <td></td>\n",
       "      <td>58.86</td>\n",
       "      <td>NaN</td>\n",
       "    </tr>\n",
       "    <tr>\n",
       "      <th>1</th>\n",
       "      <td>LinearRegression</td>\n",
       "      <td>Макс сдвиг: 98, Размер скользящего среднего: 36</td>\n",
       "      <td></td>\n",
       "      <td>21.24</td>\n",
       "      <td>NaN</td>\n",
       "      <td>29.82</td>\n",
       "    </tr>\n",
       "    <tr>\n",
       "      <th>2</th>\n",
       "      <td>Lasso</td>\n",
       "      <td>Макс сдвиг: 98, Размер скользящего среднего: 4</td>\n",
       "      <td>alpha=0.8</td>\n",
       "      <td>21.25</td>\n",
       "      <td>NaN</td>\n",
       "      <td>29.80</td>\n",
       "    </tr>\n",
       "    <tr>\n",
       "      <th>3</th>\n",
       "      <td>RandomForestRegressor</td>\n",
       "      <td>Макс сдвиг: 90, Размер скользящего среднего: 48</td>\n",
       "      <td>max_depth=9, n-estimators=80</td>\n",
       "      <td>13.52</td>\n",
       "      <td>NaN</td>\n",
       "      <td>31.07</td>\n",
       "    </tr>\n",
       "    <tr>\n",
       "      <th>4</th>\n",
       "      <td>LGBMRegressor</td>\n",
       "      <td>Макс сдвиг: 85, Размер скользящего среднего: 24</td>\n",
       "      <td>learning rate=0.2</td>\n",
       "      <td>4.85</td>\n",
       "      <td>NaN</td>\n",
       "      <td>29.61</td>\n",
       "    </tr>\n",
       "  </tbody>\n",
       "</table>\n",
       "</div>"
      ],
      "text/plain": [
       "                         Модель  \\\n",
       "0  Прогноз предыдущим значением   \n",
       "1              LinearRegression   \n",
       "2                         Lasso   \n",
       "3         RandomForestRegressor   \n",
       "4                 LGBMRegressor   \n",
       "\n",
       "                           Параметры доп признаков  \\\n",
       "0                                                    \n",
       "1  Макс сдвиг: 98, Размер скользящего среднего: 36   \n",
       "2   Макс сдвиг: 98, Размер скользящего среднего: 4   \n",
       "3  Макс сдвиг: 90, Размер скользящего среднего: 48   \n",
       "4  Макс сдвиг: 85, Размер скользящего среднего: 24   \n",
       "\n",
       "               Параметры модели RMSE на тренировочной выборке  \\\n",
       "0                                                               \n",
       "1                                                       21.24   \n",
       "2                     alpha=0.8                         21.25   \n",
       "3  max_depth=9, n-estimators=80                         13.52   \n",
       "4             learning rate=0.2                          4.85   \n",
       "\n",
       "   RMSE тестовой выборке  RMSE на валидационной выборке  \n",
       "0                  58.86                            NaN  \n",
       "1                    NaN                          29.82  \n",
       "2                    NaN                          29.80  \n",
       "3                    NaN                          31.07  \n",
       "4                    NaN                          29.61  "
      ]
     },
     "execution_count": 30,
     "metadata": {},
     "output_type": "execute_result"
    }
   ],
   "source": [
    "models.head()"
   ]
  },
  {
   "cell_type": "markdown",
   "metadata": {},
   "source": [
    "Сделаем прогноз на тестовой выборке, при оптимальном наборе дополнительных признаков, с помощью лучшей из моделей (LGBMRegressor):"
   ]
  },
  {
   "cell_type": "markdown",
   "metadata": {},
   "source": [
    "Для этого мы переходим заново к полному набору данных, добавляем признаки и заново разбиваем на train и test выборки. Т.к. мы используем параметр shuffle=False, то в тестовыую выборку не попадают данные использовавшиеся при подборе оптимальных параметров, а та часть данных которая использовалась при валидации, теперь будет использована как часть тренировочной выборки для повторного обучения модели с ранее подобранными оптимальными параметрами:"
   ]
  },
  {
   "cell_type": "code",
   "execution_count": 31,
   "metadata": {},
   "outputs": [
    {
     "name": "stdout",
     "output_type": "stream",
     "text": [
      "rmse на тестовой выборке:  39.27\n"
     ]
    }
   ],
   "source": [
    "added_data = add_features(data, 85, 24)\n",
    "train, test = train_test_split(added_data, shuffle=False, test_size=0.1)\n",
    "train = train.dropna()\n",
    "\n",
    "X_train = train.drop('num_orders', axis=1)\n",
    "y_train = train['num_orders']\n",
    "X_test = test.drop('num_orders', axis=1)\n",
    "y_test = test['num_orders']\n",
    "        \n",
    "model = model = LGBMRegressor(max_depth=50,learning_rate=0.2, n_jobs=-1)\n",
    "model.fit(X_train,y_train)\n",
    "pred_test = model.predict(X_test)\n",
    "        \n",
    "rmse = round(mean_squared_error(pred_test,y_test)**0.5,2)\n",
    "print('rmse на тестовой выборке: ',rmse)"
   ]
  },
  {
   "cell_type": "markdown",
   "metadata": {},
   "source": [
    "Сравним графики предсказанных значений с реальными:"
   ]
  },
  {
   "cell_type": "code",
   "execution_count": 32,
   "metadata": {},
   "outputs": [],
   "source": [
    "predicted_test = pd.Series(pred_test, index = y_test.index, name='orders_pred')\n",
    "target_pred = pd.concat([y_test,predicted_test],axis=1)"
   ]
  },
  {
   "cell_type": "code",
   "execution_count": 33,
   "metadata": {
    "scrolled": true
   },
   "outputs": [
    {
     "data": {
      "image/png": "[encoded data removed]",
      "text/plain": [
       "<Figure size 1296x360 with 1 Axes>"
      ]
     },
     "metadata": {
      "needs_background": "light"
     },
     "output_type": "display_data"
    }
   ],
   "source": [
    "plt.figure(figsize=(18,5))\n",
    "sns.lineplot(x=target_pred.index, y=target_pred['num_orders'], label='Target')\n",
    "sns.lineplot(x=target_pred.index, y=target_pred['orders_pred'], label='Predictions')\n",
    "plt.show()"
   ]
  },
  {
   "cell_type": "markdown",
   "metadata": {},
   "source": [
    "Более детально:"
   ]
  },
  {
   "cell_type": "code",
   "execution_count": 34,
   "metadata": {
    "scrolled": true
   },
   "outputs": [
    {
     "data": {
      "image/png": "[encoded data removed]",
      "text/plain": [
       "<Figure size 1296x360 with 1 Axes>"
      ]
     },
     "metadata": {
      "needs_background": "light"
     },
     "output_type": "display_data"
    }
   ],
   "source": [
    "target_pred = target_pred['2018-08-19':'2018-08-28']\n",
    "plt.figure(figsize=(18,5))\n",
    "sns.lineplot(x=target_pred.index, y=target_pred['num_orders'], label='Target')\n",
    "sns.lineplot(x=target_pred.index, y=target_pred['orders_pred'], label='Predictions')\n",
    "plt.show()"
   ]
  },
  {
   "cell_type": "markdown",
   "metadata": {},
   "source": [
    " - наихудшие прогнозы приходятся на пики спроса. "
   ]
  },
  {
   "cell_type": "markdown",
   "metadata": {},
   "source": [
    "## Вывод"
   ]
  },
  {
   "cell_type": "markdown",
   "metadata": {},
   "source": [
    "- Все модели показали результат лучше чем baseline (предсказание предыдущим значением).\n",
    "- Лучшие прогнозы получены на модели LGBMRegressor с результатом по RMSE: 39.27 (на 33% лучше, чем результат baseline - 58.87)\n",
    "- Хуже всего удается прогнозировать пики спроса, точнее: резкие изменения спроса."
   ]
  }
 ],
 "metadata": {
  "ExecuteTimeLog": [
   {
    "duration": 376,
    "start_time": "2022-12-27T06:18:34.481Z"
   },
   {
    "duration": 97,
    "start_time": "2022-12-27T06:19:03.839Z"
   },
   {
    "duration": 17,
    "start_time": "2022-12-27T06:19:14.241Z"
   },
   {
    "duration": 28,
    "start_time": "2022-12-27T06:19:19.045Z"
   },
   {
    "duration": 108,
    "start_time": "2022-12-27T06:20:23.069Z"
   },
   {
    "duration": 12,
    "start_time": "2022-12-27T06:20:39.843Z"
   },
   {
    "duration": 7,
    "start_time": "2022-12-27T08:00:17.184Z"
   },
   {
    "duration": 10,
    "start_time": "2022-12-27T08:00:17.621Z"
   },
   {
    "duration": 42,
    "start_time": "2022-12-27T08:00:55.221Z"
   },
   {
    "duration": 7,
    "start_time": "2022-12-27T08:00:55.572Z"
   },
   {
    "duration": 11,
    "start_time": "2022-12-27T08:00:55.917Z"
   },
   {
    "duration": 3,
    "start_time": "2022-12-27T15:06:51.437Z"
   },
   {
    "duration": 43,
    "start_time": "2022-12-27T15:10:28.795Z"
   },
   {
    "duration": 6,
    "start_time": "2022-12-27T15:10:30.258Z"
   },
   {
    "duration": 41,
    "start_time": "2022-12-27T15:10:41.268Z"
   },
   {
    "duration": 7,
    "start_time": "2022-12-27T15:10:42.474Z"
   },
   {
    "duration": 10,
    "start_time": "2022-12-27T15:10:45.314Z"
   },
   {
    "duration": 43,
    "start_time": "2022-12-27T15:10:51.959Z"
   },
   {
    "duration": 6,
    "start_time": "2022-12-27T15:10:52.466Z"
   },
   {
    "duration": 9,
    "start_time": "2022-12-27T15:10:57.348Z"
   },
   {
    "duration": 4,
    "start_time": "2022-12-27T15:10:58.826Z"
   },
   {
    "duration": 4,
    "start_time": "2022-12-27T15:13:28.934Z"
   },
   {
    "duration": 5,
    "start_time": "2022-12-27T15:13:38.893Z"
   },
   {
    "duration": 6,
    "start_time": "2022-12-27T15:17:09.880Z"
   },
   {
    "duration": 8,
    "start_time": "2022-12-27T15:17:18.654Z"
   },
   {
    "duration": 3,
    "start_time": "2022-12-27T15:18:27.796Z"
   },
   {
    "duration": 7,
    "start_time": "2022-12-27T15:18:28.772Z"
   },
   {
    "duration": 4,
    "start_time": "2022-12-27T15:18:35.641Z"
   },
   {
    "duration": 7,
    "start_time": "2022-12-27T15:18:50.731Z"
   },
   {
    "duration": 8,
    "start_time": "2022-12-27T15:18:51.211Z"
   },
   {
    "duration": 6,
    "start_time": "2022-12-27T15:19:19.914Z"
   },
   {
    "duration": 6,
    "start_time": "2022-12-27T15:19:31.266Z"
   },
   {
    "duration": 6,
    "start_time": "2022-12-27T15:19:32.298Z"
   },
   {
    "duration": 7,
    "start_time": "2022-12-27T15:19:46.322Z"
   },
   {
    "duration": 9,
    "start_time": "2022-12-27T15:19:47.001Z"
   },
   {
    "duration": 8,
    "start_time": "2022-12-27T15:20:09.072Z"
   },
   {
    "duration": 6,
    "start_time": "2022-12-27T16:17:04.959Z"
   },
   {
    "duration": 8,
    "start_time": "2022-12-27T16:17:05.516Z"
   },
   {
    "duration": 4,
    "start_time": "2022-12-27T16:17:22.400Z"
   },
   {
    "duration": 4,
    "start_time": "2022-12-27T16:17:39.824Z"
   },
   {
    "duration": 425,
    "start_time": "2022-12-27T16:19:18.919Z"
   },
   {
    "duration": 9,
    "start_time": "2022-12-27T16:20:06.212Z"
   },
   {
    "duration": 1535,
    "start_time": "2022-12-27T16:20:24.098Z"
   },
   {
    "duration": 46,
    "start_time": "2022-12-27T16:20:47.529Z"
   },
   {
    "duration": 3,
    "start_time": "2022-12-27T16:20:56.402Z"
   },
   {
    "duration": 880,
    "start_time": "2022-12-27T16:21:17.898Z"
   },
   {
    "duration": 202,
    "start_time": "2022-12-27T16:21:45.025Z"
   },
   {
    "duration": 218,
    "start_time": "2022-12-27T16:22:00.922Z"
   },
   {
    "duration": 232,
    "start_time": "2022-12-27T16:22:06.008Z"
   },
   {
    "duration": 11,
    "start_time": "2022-12-27T16:22:22.576Z"
   },
   {
    "duration": 791,
    "start_time": "2022-12-27T16:22:39.639Z"
   },
   {
    "duration": 195,
    "start_time": "2022-12-27T16:22:51.078Z"
   },
   {
    "duration": 764,
    "start_time": "2022-12-27T16:22:56.814Z"
   },
   {
    "duration": 300,
    "start_time": "2022-12-27T16:23:24.974Z"
   },
   {
    "duration": 850,
    "start_time": "2022-12-27T16:23:54.740Z"
   },
   {
    "duration": 206,
    "start_time": "2022-12-27T16:24:01.133Z"
   },
   {
    "duration": 218,
    "start_time": "2022-12-27T16:24:52.924Z"
   },
   {
    "duration": 253,
    "start_time": "2022-12-27T16:25:11.579Z"
   },
   {
    "duration": 274,
    "start_time": "2022-12-27T16:25:31.227Z"
   },
   {
    "duration": 5,
    "start_time": "2022-12-27T16:31:44.551Z"
   },
   {
    "duration": 8,
    "start_time": "2022-12-27T16:31:54.429Z"
   },
   {
    "duration": 8,
    "start_time": "2022-12-27T16:31:59.501Z"
   },
   {
    "duration": 8,
    "start_time": "2022-12-27T16:32:06.726Z"
   },
   {
    "duration": 5,
    "start_time": "2022-12-27T16:32:40.389Z"
   },
   {
    "duration": 9,
    "start_time": "2022-12-27T16:32:41.482Z"
   },
   {
    "duration": 4,
    "start_time": "2022-12-27T16:32:52.525Z"
   },
   {
    "duration": 9,
    "start_time": "2022-12-27T16:32:53.380Z"
   },
   {
    "duration": 7,
    "start_time": "2022-12-27T16:34:14.810Z"
   },
   {
    "duration": 407,
    "start_time": "2022-12-27T16:34:21.433Z"
   },
   {
    "duration": 9,
    "start_time": "2022-12-27T16:39:20.083Z"
   },
   {
    "duration": 231,
    "start_time": "2022-12-27T16:39:26.435Z"
   },
   {
    "duration": 6,
    "start_time": "2022-12-27T16:39:36.366Z"
   },
   {
    "duration": 7,
    "start_time": "2022-12-27T17:03:01.961Z"
   },
   {
    "duration": 3,
    "start_time": "2022-12-27T17:03:36.229Z"
   },
   {
    "duration": 3,
    "start_time": "2022-12-27T17:03:56.813Z"
   },
   {
    "duration": 5,
    "start_time": "2022-12-27T17:06:02.633Z"
   },
   {
    "duration": 4,
    "start_time": "2022-12-27T17:06:10.281Z"
   },
   {
    "duration": 3,
    "start_time": "2022-12-27T17:06:18.736Z"
   },
   {
    "duration": 257,
    "start_time": "2022-12-27T17:06:45.018Z"
   },
   {
    "duration": 252,
    "start_time": "2022-12-27T17:08:17.181Z"
   },
   {
    "duration": 10,
    "start_time": "2022-12-27T17:13:23.719Z"
   },
   {
    "duration": 14,
    "start_time": "2022-12-27T17:13:32.306Z"
   },
   {
    "duration": 5,
    "start_time": "2022-12-27T17:13:59.722Z"
   },
   {
    "duration": 6,
    "start_time": "2022-12-27T17:14:51.508Z"
   },
   {
    "duration": 13,
    "start_time": "2022-12-27T17:14:51.952Z"
   },
   {
    "duration": 3,
    "start_time": "2022-12-27T17:15:02.770Z"
   },
   {
    "duration": 45,
    "start_time": "2022-12-27T17:15:03.688Z"
   },
   {
    "duration": 7,
    "start_time": "2022-12-27T17:15:04.153Z"
   },
   {
    "duration": 10,
    "start_time": "2022-12-27T17:15:05.080Z"
   },
   {
    "duration": 7,
    "start_time": "2022-12-27T17:15:07.608Z"
   },
   {
    "duration": 759,
    "start_time": "2022-12-27T17:15:08.531Z"
   },
   {
    "duration": 6,
    "start_time": "2022-12-27T17:15:20.752Z"
   },
   {
    "duration": 4,
    "start_time": "2022-12-27T17:15:23.303Z"
   },
   {
    "duration": 4,
    "start_time": "2022-12-27T17:15:25.095Z"
   },
   {
    "duration": 20,
    "start_time": "2022-12-27T17:15:26.328Z"
   },
   {
    "duration": 43,
    "start_time": "2022-12-27T17:15:39.303Z"
   },
   {
    "duration": 7,
    "start_time": "2022-12-27T17:15:39.639Z"
   },
   {
    "duration": 14,
    "start_time": "2022-12-27T17:15:40.026Z"
   },
   {
    "duration": 6,
    "start_time": "2022-12-27T17:15:40.408Z"
   },
   {
    "duration": 4,
    "start_time": "2022-12-27T17:15:41.087Z"
   },
   {
    "duration": 4,
    "start_time": "2022-12-27T17:15:41.896Z"
   },
   {
    "duration": 222,
    "start_time": "2022-12-27T17:15:44.016Z"
   },
   {
    "duration": 7,
    "start_time": "2022-12-27T17:15:48.669Z"
   },
   {
    "duration": 13,
    "start_time": "2022-12-27T17:15:49.480Z"
   },
   {
    "duration": 7,
    "start_time": "2022-12-27T17:16:34.799Z"
   },
   {
    "duration": 20,
    "start_time": "2022-12-27T17:17:38.129Z"
   },
   {
    "duration": 8,
    "start_time": "2022-12-27T17:18:29.267Z"
   },
   {
    "duration": 188,
    "start_time": "2022-12-27T17:18:30.343Z"
   },
   {
    "duration": 3,
    "start_time": "2022-12-27T17:20:40.914Z"
   },
   {
    "duration": 17,
    "start_time": "2022-12-27T17:21:14.507Z"
   },
   {
    "duration": 3,
    "start_time": "2022-12-27T17:21:51.088Z"
   },
   {
    "duration": 21196,
    "start_time": "2022-12-27T17:21:56.826Z"
   },
   {
    "duration": 18,
    "start_time": "2022-12-27T18:24:51.737Z"
   },
   {
    "duration": 4,
    "start_time": "2022-12-27T18:38:57.563Z"
   },
   {
    "duration": 11,
    "start_time": "2022-12-27T18:56:20.477Z"
   },
   {
    "duration": 35,
    "start_time": "2022-12-27T18:56:21.352Z"
   },
   {
    "duration": 10,
    "start_time": "2022-12-27T18:56:29.450Z"
   },
   {
    "duration": 18,
    "start_time": "2022-12-27T18:56:32.598Z"
   },
   {
    "duration": 17,
    "start_time": "2022-12-27T18:56:53.515Z"
   },
   {
    "duration": 53,
    "start_time": "2022-12-27T18:56:54.112Z"
   },
   {
    "duration": 10,
    "start_time": "2022-12-27T18:56:54.953Z"
   },
   {
    "duration": 188,
    "start_time": "2022-12-27T18:56:56.133Z"
   },
   {
    "duration": 11,
    "start_time": "2022-12-27T18:57:24.314Z"
   },
   {
    "duration": 51,
    "start_time": "2022-12-27T18:57:24.665Z"
   },
   {
    "duration": 10,
    "start_time": "2022-12-27T18:57:25.032Z"
   },
   {
    "duration": 160,
    "start_time": "2022-12-27T18:57:25.563Z"
   },
   {
    "duration": 4,
    "start_time": "2022-12-27T19:31:16.681Z"
   },
   {
    "duration": 19,
    "start_time": "2022-12-27T19:31:52.429Z"
   },
   {
    "duration": 51,
    "start_time": "2022-12-27T19:31:58.113Z"
   },
   {
    "duration": 51,
    "start_time": "2022-12-27T19:32:14.174Z"
   },
   {
    "duration": 8,
    "start_time": "2022-12-27T19:32:21.379Z"
   },
   {
    "duration": 68,
    "start_time": "2022-12-27T19:32:22.661Z"
   },
   {
    "duration": 15,
    "start_time": "2022-12-27T19:32:51.523Z"
   },
   {
    "duration": 52,
    "start_time": "2022-12-27T19:32:53.129Z"
   },
   {
    "duration": 9,
    "start_time": "2022-12-27T19:32:57.329Z"
   },
   {
    "duration": 154,
    "start_time": "2022-12-27T19:32:58.668Z"
   },
   {
    "duration": 94,
    "start_time": "2022-12-27T19:33:02.135Z"
   },
   {
    "duration": 50,
    "start_time": "2022-12-27T19:33:09.784Z"
   },
   {
    "duration": 55,
    "start_time": "2022-12-27T19:40:15.314Z"
   },
   {
    "duration": 208,
    "start_time": "2022-12-27T19:41:06.059Z"
   },
   {
    "duration": 208,
    "start_time": "2022-12-27T19:41:12.405Z"
   },
   {
    "duration": 214,
    "start_time": "2022-12-27T19:41:24.418Z"
   },
   {
    "duration": 415,
    "start_time": "2022-12-27T19:41:45.257Z"
   },
   {
    "duration": 13,
    "start_time": "2022-12-27T19:42:43.943Z"
   },
   {
    "duration": 9,
    "start_time": "2022-12-27T19:42:54.541Z"
   },
   {
    "duration": 42,
    "start_time": "2022-12-27T19:43:09.926Z"
   },
   {
    "duration": 7,
    "start_time": "2022-12-27T19:43:10.157Z"
   },
   {
    "duration": 9,
    "start_time": "2022-12-27T19:43:10.389Z"
   },
   {
    "duration": 5,
    "start_time": "2022-12-27T19:43:10.854Z"
   },
   {
    "duration": 7,
    "start_time": "2022-12-27T19:43:13.812Z"
   },
   {
    "duration": 4,
    "start_time": "2022-12-27T19:43:15.620Z"
   },
   {
    "duration": 8,
    "start_time": "2022-12-27T19:43:16.297Z"
   },
   {
    "duration": 247,
    "start_time": "2022-12-27T19:43:19.061Z"
   },
   {
    "duration": 11,
    "start_time": "2022-12-27T19:43:57.588Z"
   },
   {
    "duration": 217,
    "start_time": "2022-12-27T19:43:58.127Z"
   },
   {
    "duration": 227,
    "start_time": "2022-12-27T19:44:03.789Z"
   },
   {
    "duration": 226,
    "start_time": "2022-12-27T19:44:18.309Z"
   },
   {
    "duration": 227,
    "start_time": "2022-12-27T19:45:03.284Z"
   },
   {
    "duration": 203,
    "start_time": "2022-12-27T19:45:12.150Z"
   },
   {
    "duration": 12,
    "start_time": "2022-12-27T19:45:31.223Z"
   },
   {
    "duration": 11,
    "start_time": "2022-12-27T19:45:35.355Z"
   },
   {
    "duration": 221,
    "start_time": "2022-12-27T19:45:50.450Z"
   },
   {
    "duration": 218,
    "start_time": "2022-12-27T19:50:44.403Z"
   },
   {
    "duration": 1664,
    "start_time": "2022-12-28T06:48:45.204Z"
   },
   {
    "duration": 353,
    "start_time": "2022-12-28T06:48:46.870Z"
   },
   {
    "duration": 12,
    "start_time": "2022-12-28T06:48:47.237Z"
   },
   {
    "duration": 13,
    "start_time": "2022-12-28T06:48:47.378Z"
   },
   {
    "duration": 4,
    "start_time": "2022-12-28T06:48:54.897Z"
   },
   {
    "duration": 9,
    "start_time": "2022-12-28T06:48:56.851Z"
   },
   {
    "duration": 3,
    "start_time": "2022-12-28T07:56:57.907Z"
   },
   {
    "duration": 45,
    "start_time": "2022-12-28T07:56:58.758Z"
   },
   {
    "duration": 8,
    "start_time": "2022-12-28T07:56:59.022Z"
   },
   {
    "duration": 12,
    "start_time": "2022-12-28T07:56:59.406Z"
   },
   {
    "duration": 4,
    "start_time": "2022-12-28T07:57:00.134Z"
   },
   {
    "duration": 7,
    "start_time": "2022-12-28T07:57:01.592Z"
   },
   {
    "duration": 3,
    "start_time": "2022-12-28T07:57:03.255Z"
   },
   {
    "duration": 11,
    "start_time": "2022-12-28T07:57:04.041Z"
   },
   {
    "duration": 275,
    "start_time": "2022-12-28T07:57:04.366Z"
   },
   {
    "duration": 202,
    "start_time": "2022-12-28T07:57:06.150Z"
   },
   {
    "duration": 210,
    "start_time": "2022-12-28T07:57:07.207Z"
   },
   {
    "duration": 280,
    "start_time": "2022-12-28T07:57:08.663Z"
   },
   {
    "duration": 20,
    "start_time": "2022-12-28T07:57:11.388Z"
   },
   {
    "duration": 58,
    "start_time": "2022-12-28T07:57:19.328Z"
   },
   {
    "duration": 10,
    "start_time": "2022-12-28T07:57:29.615Z"
   },
   {
    "duration": 200,
    "start_time": "2022-12-28T07:57:40.418Z"
   },
   {
    "duration": 3,
    "start_time": "2022-12-28T07:57:51.320Z"
   },
   {
    "duration": 44,
    "start_time": "2022-12-28T07:57:52.061Z"
   },
   {
    "duration": 7,
    "start_time": "2022-12-28T07:57:52.445Z"
   },
   {
    "duration": 10,
    "start_time": "2022-12-28T07:57:52.845Z"
   },
   {
    "duration": 5,
    "start_time": "2022-12-28T07:57:53.890Z"
   },
   {
    "duration": 8,
    "start_time": "2022-12-28T07:57:55.196Z"
   },
   {
    "duration": 4,
    "start_time": "2022-12-28T07:57:56.853Z"
   },
   {
    "duration": 8,
    "start_time": "2022-12-28T07:57:59.901Z"
   },
   {
    "duration": 292,
    "start_time": "2022-12-28T07:58:00.253Z"
   },
   {
    "duration": 208,
    "start_time": "2022-12-28T07:58:01.565Z"
   },
   {
    "duration": 217,
    "start_time": "2022-12-28T07:58:03.877Z"
   },
   {
    "duration": 221,
    "start_time": "2022-12-28T07:58:05.557Z"
   },
   {
    "duration": 31,
    "start_time": "2022-12-28T07:58:10.976Z"
   },
   {
    "duration": 71,
    "start_time": "2022-12-28T07:58:12.358Z"
   },
   {
    "duration": 10,
    "start_time": "2022-12-28T07:58:15.782Z"
   },
   {
    "duration": 171,
    "start_time": "2022-12-28T07:58:19.257Z"
   },
   {
    "duration": 10,
    "start_time": "2022-12-28T08:42:42.762Z"
   },
   {
    "duration": 29,
    "start_time": "2022-12-28T08:44:55.813Z"
   },
   {
    "duration": 3,
    "start_time": "2022-12-28T08:45:16.263Z"
   },
   {
    "duration": 46,
    "start_time": "2022-12-28T08:45:17.131Z"
   },
   {
    "duration": 7,
    "start_time": "2022-12-28T08:45:17.747Z"
   },
   {
    "duration": 10,
    "start_time": "2022-12-28T08:45:18.139Z"
   },
   {
    "duration": 4,
    "start_time": "2022-12-28T08:45:22.488Z"
   },
   {
    "duration": 7,
    "start_time": "2022-12-28T08:45:25.332Z"
   },
   {
    "duration": 8,
    "start_time": "2022-12-28T08:45:36.029Z"
   },
   {
    "duration": 10,
    "start_time": "2022-12-28T08:45:37.172Z"
   },
   {
    "duration": 8,
    "start_time": "2022-12-28T08:46:06.243Z"
   },
   {
    "duration": 91,
    "start_time": "2022-12-28T08:47:15.117Z"
   },
   {
    "duration": 7,
    "start_time": "2022-12-28T08:47:23.306Z"
   },
   {
    "duration": 7,
    "start_time": "2022-12-28T08:47:31.753Z"
   },
   {
    "duration": 8,
    "start_time": "2022-12-28T09:33:31.766Z"
   },
   {
    "duration": 2,
    "start_time": "2022-12-28T09:38:41.954Z"
   },
   {
    "duration": 4,
    "start_time": "2022-12-28T09:39:03.672Z"
   },
   {
    "duration": 130,
    "start_time": "2022-12-28T11:40:11.032Z"
   },
   {
    "duration": 15,
    "start_time": "2022-12-28T11:41:13.638Z"
   },
   {
    "duration": 3,
    "start_time": "2022-12-28T11:41:25.506Z"
   },
   {
    "duration": 49,
    "start_time": "2022-12-28T11:41:27.165Z"
   },
   {
    "duration": 8,
    "start_time": "2022-12-28T11:41:27.565Z"
   },
   {
    "duration": 20,
    "start_time": "2022-12-28T11:41:28.808Z"
   },
   {
    "duration": 5,
    "start_time": "2022-12-28T11:41:30.360Z"
   },
   {
    "duration": 7,
    "start_time": "2022-12-28T11:41:31.837Z"
   },
   {
    "duration": 4,
    "start_time": "2022-12-28T11:41:34.026Z"
   },
   {
    "duration": 11,
    "start_time": "2022-12-28T11:41:35.277Z"
   },
   {
    "duration": 246,
    "start_time": "2022-12-28T11:41:37.012Z"
   },
   {
    "duration": 222,
    "start_time": "2022-12-28T11:41:39.838Z"
   },
   {
    "duration": 270,
    "start_time": "2022-12-28T11:41:40.308Z"
   },
   {
    "duration": 336,
    "start_time": "2022-12-28T11:41:41.958Z"
   },
   {
    "duration": 3,
    "start_time": "2022-12-28T11:41:58.869Z"
   },
   {
    "duration": 161,
    "start_time": "2022-12-28T11:42:01.958Z"
   },
   {
    "duration": 6,
    "start_time": "2022-12-28T11:42:23.810Z"
   },
   {
    "duration": 12,
    "start_time": "2022-12-28T11:42:56.276Z"
   },
   {
    "duration": 19,
    "start_time": "2022-12-28T11:43:03.712Z"
   },
   {
    "duration": 13,
    "start_time": "2022-12-28T11:43:28.813Z"
   },
   {
    "duration": 78,
    "start_time": "2022-12-28T11:43:53.010Z"
   },
   {
    "duration": 25,
    "start_time": "2022-12-28T11:44:27.512Z"
   },
   {
    "duration": 57,
    "start_time": "2022-12-28T11:44:28.138Z"
   },
   {
    "duration": 10,
    "start_time": "2022-12-28T11:44:29.074Z"
   },
   {
    "duration": 171,
    "start_time": "2022-12-28T11:44:30.859Z"
   },
   {
    "duration": 14,
    "start_time": "2022-12-28T11:46:18.912Z"
   },
   {
    "duration": 98,
    "start_time": "2022-12-28T11:46:19.730Z"
   },
   {
    "duration": 61,
    "start_time": "2022-12-28T11:46:28.743Z"
   },
   {
    "duration": 4,
    "start_time": "2022-12-28T11:54:22.479Z"
   },
   {
    "duration": 57,
    "start_time": "2022-12-28T11:54:23.537Z"
   },
   {
    "duration": 9,
    "start_time": "2022-12-28T11:54:24.020Z"
   },
   {
    "duration": 12,
    "start_time": "2022-12-28T11:54:25.232Z"
   },
   {
    "duration": 4,
    "start_time": "2022-12-28T11:54:27.017Z"
   },
   {
    "duration": 7,
    "start_time": "2022-12-28T11:54:29.021Z"
   },
   {
    "duration": 4,
    "start_time": "2022-12-28T11:54:30.776Z"
   },
   {
    "duration": 9,
    "start_time": "2022-12-28T11:54:31.576Z"
   },
   {
    "duration": 227,
    "start_time": "2022-12-28T11:54:31.925Z"
   },
   {
    "duration": 211,
    "start_time": "2022-12-28T11:54:33.473Z"
   },
   {
    "duration": 221,
    "start_time": "2022-12-28T11:54:35.029Z"
   },
   {
    "duration": 254,
    "start_time": "2022-12-28T11:54:36.745Z"
   },
   {
    "duration": 53,
    "start_time": "2022-12-28T11:54:43.356Z"
   },
   {
    "duration": 28,
    "start_time": "2022-12-28T11:54:59.629Z"
   },
   {
    "duration": 13,
    "start_time": "2022-12-28T11:55:06.337Z"
   },
   {
    "duration": 205,
    "start_time": "2022-12-28T11:55:07.613Z"
   },
   {
    "duration": 22,
    "start_time": "2022-12-28T11:55:17.076Z"
   },
   {
    "duration": 18,
    "start_time": "2022-12-28T11:55:17.554Z"
   },
   {
    "duration": 158,
    "start_time": "2022-12-28T11:55:18.155Z"
   },
   {
    "duration": 4,
    "start_time": "2022-12-28T11:55:55.733Z"
   },
   {
    "duration": 8,
    "start_time": "2022-12-28T11:55:58.318Z"
   },
   {
    "duration": 11,
    "start_time": "2022-12-28T11:56:01.317Z"
   },
   {
    "duration": 14,
    "start_time": "2022-12-28T11:56:02.742Z"
   },
   {
    "duration": 5,
    "start_time": "2022-12-28T11:56:04.154Z"
   },
   {
    "duration": 83,
    "start_time": "2022-12-28T11:56:04.909Z"
   },
   {
    "duration": 41,
    "start_time": "2022-12-28T11:56:54.782Z"
   },
   {
    "duration": 35,
    "start_time": "2022-12-28T11:58:28.152Z"
   },
   {
    "duration": 25,
    "start_time": "2022-12-28T11:58:53.160Z"
   },
   {
    "duration": 3,
    "start_time": "2022-12-28T11:59:10.553Z"
   },
   {
    "duration": 63334,
    "start_time": "2022-12-28T12:00:29.880Z"
   },
   {
    "duration": 60641,
    "start_time": "2022-12-28T12:02:46.380Z"
   },
   {
    "duration": 31,
    "start_time": "2022-12-28T12:13:36.605Z"
   },
   {
    "duration": 4,
    "start_time": "2022-12-28T12:13:43.005Z"
   },
   {
    "duration": 83988,
    "start_time": "2022-12-28T12:13:49.649Z"
   },
   {
    "duration": 38,
    "start_time": "2022-12-28T12:17:47.956Z"
   },
   {
    "duration": 3,
    "start_time": "2022-12-28T12:20:37.349Z"
   },
   {
    "duration": 95004,
    "start_time": "2022-12-28T12:24:55.529Z"
   },
   {
    "duration": 79646,
    "start_time": "2022-12-28T12:41:58.877Z"
   },
   {
    "duration": 556014,
    "start_time": "2022-12-28T12:43:52.014Z"
   },
   {
    "duration": 59,
    "start_time": "2022-12-28T13:12:25.205Z"
   },
   {
    "duration": 24,
    "start_time": "2022-12-28T13:12:31.684Z"
   },
   {
    "duration": 225863,
    "start_time": "2022-12-28T13:12:40.057Z"
   },
   {
    "duration": 35702,
    "start_time": "2022-12-28T13:16:36.135Z"
   },
   {
    "duration": 450077,
    "start_time": "2022-12-28T13:20:47.581Z"
   },
   {
    "duration": 4,
    "start_time": "2022-12-28T13:35:51.338Z"
   },
   {
    "duration": 5,
    "start_time": "2022-12-28T13:37:30.364Z"
   },
   {
    "duration": 6,
    "start_time": "2022-12-28T14:03:30.673Z"
   },
   {
    "duration": 11,
    "start_time": "2022-12-28T14:03:44.147Z"
   },
   {
    "duration": 4,
    "start_time": "2022-12-28T14:06:29.460Z"
   },
   {
    "duration": 6,
    "start_time": "2022-12-28T14:06:35.282Z"
   },
   {
    "duration": 11,
    "start_time": "2022-12-28T14:07:40.147Z"
   },
   {
    "duration": 11,
    "start_time": "2022-12-28T14:11:37.041Z"
   },
   {
    "duration": 9,
    "start_time": "2022-12-28T14:11:37.941Z"
   },
   {
    "duration": 114,
    "start_time": "2022-12-28T14:12:16.559Z"
   },
   {
    "duration": 12,
    "start_time": "2022-12-28T14:12:21.696Z"
   },
   {
    "duration": 16,
    "start_time": "2022-12-28T14:12:39.840Z"
   },
   {
    "duration": 13,
    "start_time": "2022-12-28T14:12:47.859Z"
   },
   {
    "duration": 9,
    "start_time": "2022-12-28T14:13:14.956Z"
   },
   {
    "duration": 8,
    "start_time": "2022-12-28T14:13:27.045Z"
   },
   {
    "duration": 9,
    "start_time": "2022-12-28T14:13:27.975Z"
   },
   {
    "duration": 9,
    "start_time": "2022-12-28T14:14:20.569Z"
   },
   {
    "duration": 9,
    "start_time": "2022-12-28T14:14:21.068Z"
   },
   {
    "duration": 63911,
    "start_time": "2022-12-28T14:35:42.402Z"
   },
   {
    "duration": 10,
    "start_time": "2022-12-28T14:43:07.711Z"
   },
   {
    "duration": 13,
    "start_time": "2022-12-28T14:43:08.456Z"
   },
   {
    "duration": 122214,
    "start_time": "2022-12-28T14:47:32.807Z"
   },
   {
    "duration": 7,
    "start_time": "2022-12-28T14:57:12.567Z"
   },
   {
    "duration": 15,
    "start_time": "2022-12-28T14:57:13.082Z"
   },
   {
    "duration": 7,
    "start_time": "2022-12-28T14:58:48.186Z"
   },
   {
    "duration": 9,
    "start_time": "2022-12-28T14:58:48.830Z"
   },
   {
    "duration": 5,
    "start_time": "2022-12-28T15:00:02.535Z"
   },
   {
    "duration": 7,
    "start_time": "2022-12-28T15:00:03.073Z"
   },
   {
    "duration": 9,
    "start_time": "2022-12-28T15:00:15.861Z"
   },
   {
    "duration": 9,
    "start_time": "2022-12-28T15:00:16.364Z"
   },
   {
    "duration": 6,
    "start_time": "2022-12-28T15:00:44.593Z"
   },
   {
    "duration": 8,
    "start_time": "2022-12-28T15:00:45.172Z"
   },
   {
    "duration": 11,
    "start_time": "2022-12-28T15:00:50.068Z"
   },
   {
    "duration": 7,
    "start_time": "2022-12-28T15:01:16.484Z"
   },
   {
    "duration": 13,
    "start_time": "2022-12-28T15:01:23.371Z"
   },
   {
    "duration": 21,
    "start_time": "2022-12-28T15:01:24.426Z"
   },
   {
    "duration": 11,
    "start_time": "2022-12-28T15:01:25.266Z"
   },
   {
    "duration": 52,
    "start_time": "2022-12-28T15:02:33.048Z"
   },
   {
    "duration": 141069,
    "start_time": "2022-12-28T15:06:04.974Z"
   },
   {
    "duration": 16,
    "start_time": "2022-12-28T15:08:38.949Z"
   },
   {
    "duration": 14,
    "start_time": "2022-12-28T15:08:39.541Z"
   },
   {
    "duration": 10,
    "start_time": "2022-12-28T15:27:00.136Z"
   },
   {
    "duration": 197900,
    "start_time": "2022-12-28T15:37:22.150Z"
   },
   {
    "duration": 9,
    "start_time": "2022-12-28T15:42:12.270Z"
   },
   {
    "duration": 9,
    "start_time": "2022-12-28T15:42:12.952Z"
   },
   {
    "duration": 69939,
    "start_time": "2022-12-28T15:43:15.010Z"
   },
   {
    "duration": 158931,
    "start_time": "2022-12-28T15:49:55.398Z"
   },
   {
    "duration": 11,
    "start_time": "2022-12-28T15:53:51.008Z"
   },
   {
    "duration": 10,
    "start_time": "2022-12-28T15:53:54.530Z"
   },
   {
    "duration": 1139,
    "start_time": "2022-12-28T16:07:30.900Z"
   },
   {
    "duration": 1068,
    "start_time": "2022-12-28T16:07:42.171Z"
   },
   {
    "duration": 1656,
    "start_time": "2022-12-28T16:08:08.866Z"
   },
   {
    "duration": 11,
    "start_time": "2022-12-28T16:10:40.846Z"
   },
   {
    "duration": 16,
    "start_time": "2022-12-28T16:11:04.216Z"
   },
   {
    "duration": 12,
    "start_time": "2022-12-28T16:11:16.899Z"
   },
   {
    "duration": 10,
    "start_time": "2022-12-28T16:12:49.761Z"
   },
   {
    "duration": 8,
    "start_time": "2022-12-28T16:13:02.071Z"
   },
   {
    "duration": 8,
    "start_time": "2022-12-28T16:13:08.198Z"
   },
   {
    "duration": 5,
    "start_time": "2022-12-28T16:13:31.848Z"
   },
   {
    "duration": 9,
    "start_time": "2022-12-28T16:13:32.365Z"
   },
   {
    "duration": 4,
    "start_time": "2022-12-28T16:14:07.471Z"
   },
   {
    "duration": 8,
    "start_time": "2022-12-28T16:14:07.941Z"
   },
   {
    "duration": 23,
    "start_time": "2022-12-28T16:14:20.840Z"
   },
   {
    "duration": 20,
    "start_time": "2022-12-28T16:15:54.867Z"
   },
   {
    "duration": 365,
    "start_time": "2022-12-28T16:18:23.937Z"
   },
   {
    "duration": 299,
    "start_time": "2022-12-28T16:18:42.025Z"
   },
   {
    "duration": 308,
    "start_time": "2022-12-28T16:18:49.120Z"
   },
   {
    "duration": 347,
    "start_time": "2022-12-28T16:18:59.350Z"
   },
   {
    "duration": 6,
    "start_time": "2022-12-28T16:22:32.244Z"
   },
   {
    "duration": 313,
    "start_time": "2022-12-28T16:22:32.730Z"
   },
   {
    "duration": 270,
    "start_time": "2022-12-28T16:22:37.699Z"
   },
   {
    "duration": 4,
    "start_time": "2022-12-28T16:23:23.982Z"
   },
   {
    "duration": 332,
    "start_time": "2022-12-28T16:23:24.458Z"
   },
   {
    "duration": 289,
    "start_time": "2022-12-28T16:23:25.771Z"
   },
   {
    "duration": 1558,
    "start_time": "2022-12-28T16:34:53.902Z"
   },
   {
    "duration": 50,
    "start_time": "2022-12-28T16:34:55.463Z"
   },
   {
    "duration": 17,
    "start_time": "2022-12-28T16:34:55.515Z"
   },
   {
    "duration": 19,
    "start_time": "2022-12-28T16:34:55.535Z"
   },
   {
    "duration": 5,
    "start_time": "2022-12-28T16:34:55.557Z"
   },
   {
    "duration": 24,
    "start_time": "2022-12-28T16:34:55.565Z"
   },
   {
    "duration": 28,
    "start_time": "2022-12-28T16:34:55.592Z"
   },
   {
    "duration": 23,
    "start_time": "2022-12-28T16:34:55.623Z"
   },
   {
    "duration": 313,
    "start_time": "2022-12-28T16:34:55.648Z"
   },
   {
    "duration": 208,
    "start_time": "2022-12-28T16:34:55.964Z"
   },
   {
    "duration": 314,
    "start_time": "2022-12-28T16:34:56.174Z"
   },
   {
    "duration": 240,
    "start_time": "2022-12-28T16:34:56.490Z"
   },
   {
    "duration": 22,
    "start_time": "2022-12-28T16:34:56.732Z"
   },
   {
    "duration": 16,
    "start_time": "2022-12-28T16:34:56.755Z"
   },
   {
    "duration": 141,
    "start_time": "2022-12-28T16:34:56.773Z"
   },
   {
    "duration": 205,
    "start_time": "2022-12-28T16:34:56.916Z"
   },
   {
    "duration": 0,
    "start_time": "2022-12-28T16:34:57.123Z"
   },
   {
    "duration": 0,
    "start_time": "2022-12-28T16:34:57.124Z"
   },
   {
    "duration": 0,
    "start_time": "2022-12-28T16:34:57.126Z"
   },
   {
    "duration": 0,
    "start_time": "2022-12-28T16:34:57.127Z"
   },
   {
    "duration": 0,
    "start_time": "2022-12-28T16:34:57.128Z"
   },
   {
    "duration": 0,
    "start_time": "2022-12-28T16:34:57.130Z"
   },
   {
    "duration": 0,
    "start_time": "2022-12-28T16:34:57.131Z"
   },
   {
    "duration": 0,
    "start_time": "2022-12-28T16:34:57.132Z"
   },
   {
    "duration": 0,
    "start_time": "2022-12-28T16:34:57.134Z"
   },
   {
    "duration": 0,
    "start_time": "2022-12-28T16:34:57.135Z"
   },
   {
    "duration": 0,
    "start_time": "2022-12-28T16:34:57.136Z"
   },
   {
    "duration": 0,
    "start_time": "2022-12-28T16:34:57.137Z"
   },
   {
    "duration": 0,
    "start_time": "2022-12-28T16:34:57.138Z"
   },
   {
    "duration": 0,
    "start_time": "2022-12-28T16:34:57.140Z"
   },
   {
    "duration": 0,
    "start_time": "2022-12-28T16:34:57.141Z"
   },
   {
    "duration": 0,
    "start_time": "2022-12-28T16:34:57.142Z"
   },
   {
    "duration": 0,
    "start_time": "2022-12-28T16:34:57.143Z"
   },
   {
    "duration": 0,
    "start_time": "2022-12-28T16:34:57.144Z"
   },
   {
    "duration": 0,
    "start_time": "2022-12-28T16:34:57.145Z"
   },
   {
    "duration": 0,
    "start_time": "2022-12-28T16:34:57.146Z"
   },
   {
    "duration": 0,
    "start_time": "2022-12-28T16:34:57.147Z"
   },
   {
    "duration": 1440,
    "start_time": "2022-12-28T16:35:36.998Z"
   },
   {
    "duration": 47,
    "start_time": "2022-12-28T16:35:38.440Z"
   },
   {
    "duration": 10,
    "start_time": "2022-12-28T16:35:38.489Z"
   },
   {
    "duration": 12,
    "start_time": "2022-12-28T16:35:38.501Z"
   },
   {
    "duration": 5,
    "start_time": "2022-12-28T16:35:38.514Z"
   },
   {
    "duration": 21,
    "start_time": "2022-12-28T16:35:38.520Z"
   },
   {
    "duration": 5,
    "start_time": "2022-12-28T16:35:38.543Z"
   },
   {
    "duration": 15,
    "start_time": "2022-12-28T16:35:38.550Z"
   },
   {
    "duration": 359,
    "start_time": "2022-12-28T16:35:38.567Z"
   },
   {
    "duration": 204,
    "start_time": "2022-12-28T16:35:38.929Z"
   },
   {
    "duration": 304,
    "start_time": "2022-12-28T16:35:39.135Z"
   },
   {
    "duration": 227,
    "start_time": "2022-12-28T16:35:39.440Z"
   },
   {
    "duration": 24,
    "start_time": "2022-12-28T16:35:39.670Z"
   },
   {
    "duration": 25,
    "start_time": "2022-12-28T16:35:39.696Z"
   },
   {
    "duration": 196,
    "start_time": "2022-12-28T16:35:39.723Z"
   },
   {
    "duration": 292,
    "start_time": "2022-12-28T16:35:39.921Z"
   },
   {
    "duration": 0,
    "start_time": "2022-12-28T16:35:40.216Z"
   },
   {
    "duration": 0,
    "start_time": "2022-12-28T16:35:40.221Z"
   },
   {
    "duration": 0,
    "start_time": "2022-12-28T16:35:40.223Z"
   },
   {
    "duration": 0,
    "start_time": "2022-12-28T16:35:40.224Z"
   },
   {
    "duration": 0,
    "start_time": "2022-12-28T16:35:40.226Z"
   },
   {
    "duration": 0,
    "start_time": "2022-12-28T16:35:40.227Z"
   },
   {
    "duration": 0,
    "start_time": "2022-12-28T16:35:40.229Z"
   },
   {
    "duration": 0,
    "start_time": "2022-12-28T16:35:40.231Z"
   },
   {
    "duration": 0,
    "start_time": "2022-12-28T16:35:40.232Z"
   },
   {
    "duration": 0,
    "start_time": "2022-12-28T16:35:40.233Z"
   },
   {
    "duration": 0,
    "start_time": "2022-12-28T16:35:40.234Z"
   },
   {
    "duration": 0,
    "start_time": "2022-12-28T16:35:40.235Z"
   },
   {
    "duration": 0,
    "start_time": "2022-12-28T16:35:40.236Z"
   },
   {
    "duration": 0,
    "start_time": "2022-12-28T16:35:40.238Z"
   },
   {
    "duration": 0,
    "start_time": "2022-12-28T16:35:40.239Z"
   },
   {
    "duration": 0,
    "start_time": "2022-12-28T16:35:40.240Z"
   },
   {
    "duration": 0,
    "start_time": "2022-12-28T16:35:40.241Z"
   },
   {
    "duration": 0,
    "start_time": "2022-12-28T16:35:40.242Z"
   },
   {
    "duration": 0,
    "start_time": "2022-12-28T16:35:40.244Z"
   },
   {
    "duration": 0,
    "start_time": "2022-12-28T16:35:40.246Z"
   },
   {
    "duration": 0,
    "start_time": "2022-12-28T16:35:40.247Z"
   },
   {
    "duration": 5,
    "start_time": "2022-12-28T16:36:15.360Z"
   },
   {
    "duration": 10,
    "start_time": "2022-12-28T16:36:15.767Z"
   },
   {
    "duration": 1498,
    "start_time": "2022-12-28T16:36:58.001Z"
   },
   {
    "duration": 48,
    "start_time": "2022-12-28T16:36:59.501Z"
   },
   {
    "duration": 11,
    "start_time": "2022-12-28T16:36:59.551Z"
   },
   {
    "duration": 20,
    "start_time": "2022-12-28T16:36:59.565Z"
   },
   {
    "duration": 4,
    "start_time": "2022-12-28T16:36:59.588Z"
   },
   {
    "duration": 11,
    "start_time": "2022-12-28T16:36:59.593Z"
   },
   {
    "duration": 3,
    "start_time": "2022-12-28T16:36:59.613Z"
   },
   {
    "duration": 12,
    "start_time": "2022-12-28T16:36:59.618Z"
   },
   {
    "duration": 298,
    "start_time": "2022-12-28T16:36:59.631Z"
   },
   {
    "duration": 227,
    "start_time": "2022-12-28T16:36:59.932Z"
   },
   {
    "duration": 379,
    "start_time": "2022-12-28T16:37:00.160Z"
   },
   {
    "duration": 263,
    "start_time": "2022-12-28T16:37:00.542Z"
   },
   {
    "duration": 7,
    "start_time": "2022-12-28T16:37:00.807Z"
   },
   {
    "duration": 20,
    "start_time": "2022-12-28T16:37:00.815Z"
   },
   {
    "duration": 15,
    "start_time": "2022-12-28T16:37:00.837Z"
   },
   {
    "duration": 15,
    "start_time": "2022-12-28T16:37:00.853Z"
   },
   {
    "duration": 17,
    "start_time": "2022-12-28T16:37:00.870Z"
   },
   {
    "duration": 6,
    "start_time": "2022-12-28T16:37:00.889Z"
   },
   {
    "duration": 13,
    "start_time": "2022-12-28T16:37:00.897Z"
   },
   {
    "duration": 67009,
    "start_time": "2022-12-28T16:37:00.912Z"
   },
   {
    "duration": 95,
    "start_time": "2022-12-28T16:38:07.923Z"
   },
   {
    "duration": 105693,
    "start_time": "2022-12-28T16:38:08.021Z"
   },
   {
    "duration": 96,
    "start_time": "2022-12-28T16:39:53.717Z"
   },
   {
    "duration": 192534,
    "start_time": "2022-12-28T16:39:53.815Z"
   },
   {
    "duration": 10,
    "start_time": "2022-12-28T16:43:06.351Z"
   },
   {
    "duration": 99076,
    "start_time": "2022-12-28T16:43:06.363Z"
   },
   {
    "duration": 73,
    "start_time": "2022-12-28T16:44:45.440Z"
   },
   {
    "duration": 14,
    "start_time": "2022-12-28T16:44:45.517Z"
   },
   {
    "duration": 890,
    "start_time": "2022-12-28T16:44:45.533Z"
   },
   {
    "duration": 5,
    "start_time": "2022-12-28T16:44:46.425Z"
   },
   {
    "duration": 430,
    "start_time": "2022-12-28T16:44:46.432Z"
   },
   {
    "duration": 309,
    "start_time": "2022-12-28T16:44:46.864Z"
   },
   {
    "duration": 1893,
    "start_time": "2022-12-30T08:20:22.799Z"
   },
   {
    "duration": 175,
    "start_time": "2022-12-30T08:20:24.694Z"
   },
   {
    "duration": 16,
    "start_time": "2022-12-30T08:20:25.438Z"
   },
   {
    "duration": 19,
    "start_time": "2022-12-30T08:20:25.838Z"
   },
   {
    "duration": 5,
    "start_time": "2022-12-30T08:20:27.180Z"
   },
   {
    "duration": 13,
    "start_time": "2022-12-30T08:20:27.968Z"
   },
   {
    "duration": 4,
    "start_time": "2022-12-30T08:20:30.474Z"
   },
   {
    "duration": 17,
    "start_time": "2022-12-30T08:20:31.909Z"
   },
   {
    "duration": 359,
    "start_time": "2022-12-30T08:20:32.406Z"
   },
   {
    "duration": 258,
    "start_time": "2022-12-30T08:20:33.108Z"
   },
   {
    "duration": 336,
    "start_time": "2022-12-30T08:20:33.877Z"
   },
   {
    "duration": 273,
    "start_time": "2022-12-30T08:20:36.117Z"
   },
   {
    "duration": 5,
    "start_time": "2022-12-30T08:20:42.269Z"
   },
   {
    "duration": 7,
    "start_time": "2022-12-30T08:22:05.843Z"
   },
   {
    "duration": 9,
    "start_time": "2022-12-30T08:22:06.636Z"
   },
   {
    "duration": 10,
    "start_time": "2022-12-30T08:22:10.478Z"
   },
   {
    "duration": 9,
    "start_time": "2022-12-30T08:23:06.528Z"
   },
   {
    "duration": 3,
    "start_time": "2022-12-30T08:23:08.920Z"
   },
   {
    "duration": 10,
    "start_time": "2022-12-30T08:23:16.568Z"
   },
   {
    "duration": 525244,
    "start_time": "2022-12-30T08:42:28.373Z"
   },
   {
    "duration": 5,
    "start_time": "2022-12-30T08:53:17.136Z"
   },
   {
    "duration": 4,
    "start_time": "2022-12-30T08:53:40.944Z"
   },
   {
    "duration": 117,
    "start_time": "2022-12-30T08:54:04.995Z"
   },
   {
    "duration": 49,
    "start_time": "2022-12-30T08:54:10.494Z"
   },
   {
    "duration": 5,
    "start_time": "2022-12-30T08:54:18.541Z"
   },
   {
    "duration": 5,
    "start_time": "2022-12-30T08:54:41.096Z"
   },
   {
    "duration": 239,
    "start_time": "2022-12-30T09:02:08.138Z"
   },
   {
    "duration": 29006,
    "start_time": "2022-12-30T09:02:27.778Z"
   },
   {
    "duration": 11,
    "start_time": "2022-12-30T09:03:08.860Z"
   },
   {
    "duration": 10,
    "start_time": "2022-12-30T09:03:13.948Z"
   },
   {
    "duration": 32513,
    "start_time": "2022-12-30T09:03:21.480Z"
   },
   {
    "duration": 71139,
    "start_time": "2022-12-30T09:51:56.033Z"
   },
   {
    "duration": 65689,
    "start_time": "2022-12-30T09:54:07.764Z"
   },
   {
    "duration": 71570,
    "start_time": "2022-12-30T09:58:23.009Z"
   },
   {
    "duration": 113114,
    "start_time": "2022-12-30T09:59:56.283Z"
   },
   {
    "duration": 140330,
    "start_time": "2022-12-30T10:02:21.637Z"
   },
   {
    "duration": 3125,
    "start_time": "2022-12-30T10:05:46.735Z"
   },
   {
    "duration": 2029144,
    "start_time": "2022-12-30T10:06:39.535Z"
   },
   {
    "duration": 0,
    "start_time": "2022-12-30T10:40:28.682Z"
   },
   {
    "duration": 15,
    "start_time": "2022-12-30T10:40:37.809Z"
   },
   {
    "duration": 326,
    "start_time": "2022-12-30T10:40:38.443Z"
   },
   {
    "duration": 303,
    "start_time": "2022-12-30T10:40:55.242Z"
   },
   {
    "duration": 375,
    "start_time": "2022-12-30T10:41:45.985Z"
   },
   {
    "duration": 11,
    "start_time": "2022-12-30T10:42:42.698Z"
   },
   {
    "duration": 260,
    "start_time": "2022-12-30T10:42:43.373Z"
   },
   {
    "duration": 310,
    "start_time": "2022-12-30T10:42:49.580Z"
   },
   {
    "duration": 12,
    "start_time": "2022-12-30T10:43:00.414Z"
   },
   {
    "duration": 386,
    "start_time": "2022-12-30T10:43:00.887Z"
   },
   {
    "duration": 237,
    "start_time": "2022-12-30T10:43:03.880Z"
   },
   {
    "duration": 13,
    "start_time": "2022-12-30T10:43:20.580Z"
   },
   {
    "duration": 278,
    "start_time": "2022-12-30T10:43:21.614Z"
   },
   {
    "duration": 13,
    "start_time": "2022-12-30T10:44:23.421Z"
   },
   {
    "duration": 249,
    "start_time": "2022-12-30T10:44:24.487Z"
   },
   {
    "duration": 5,
    "start_time": "2022-12-30T10:44:36.016Z"
   },
   {
    "duration": 52,
    "start_time": "2022-12-30T10:44:37.302Z"
   },
   {
    "duration": 9,
    "start_time": "2022-12-30T10:44:38.711Z"
   },
   {
    "duration": 16,
    "start_time": "2022-12-30T10:44:56.784Z"
   },
   {
    "duration": 289,
    "start_time": "2022-12-30T10:44:57.734Z"
   },
   {
    "duration": 16,
    "start_time": "2022-12-30T10:45:09.596Z"
   },
   {
    "duration": 296,
    "start_time": "2022-12-30T10:45:10.046Z"
   },
   {
    "duration": 12,
    "start_time": "2022-12-30T10:57:08.605Z"
   },
   {
    "duration": 410,
    "start_time": "2022-12-30T10:57:09.376Z"
   },
   {
    "duration": 18,
    "start_time": "2022-12-30T10:57:24.672Z"
   },
   {
    "duration": 380,
    "start_time": "2022-12-30T10:57:25.576Z"
   },
   {
    "duration": 511,
    "start_time": "2022-12-30T10:57:31.203Z"
   },
   {
    "duration": 381,
    "start_time": "2022-12-30T10:57:32.549Z"
   },
   {
    "duration": 389,
    "start_time": "2022-12-30T10:57:53.211Z"
   },
   {
    "duration": 17,
    "start_time": "2022-12-30T10:58:08.097Z"
   },
   {
    "duration": 301,
    "start_time": "2022-12-30T10:58:08.801Z"
   },
   {
    "duration": 345,
    "start_time": "2022-12-30T10:58:09.681Z"
   },
   {
    "duration": 2092,
    "start_time": "2022-12-30T11:02:39.178Z"
   },
   {
    "duration": 68,
    "start_time": "2022-12-30T11:02:41.272Z"
   },
   {
    "duration": 13,
    "start_time": "2022-12-30T11:02:41.343Z"
   },
   {
    "duration": 65,
    "start_time": "2022-12-30T11:02:41.358Z"
   },
   {
    "duration": 5,
    "start_time": "2022-12-30T11:02:41.427Z"
   },
   {
    "duration": 28,
    "start_time": "2022-12-30T11:02:41.434Z"
   },
   {
    "duration": 33,
    "start_time": "2022-12-30T11:02:41.464Z"
   },
   {
    "duration": 16,
    "start_time": "2022-12-30T11:02:41.499Z"
   },
   {
    "duration": 387,
    "start_time": "2022-12-30T11:02:41.518Z"
   },
   {
    "duration": 306,
    "start_time": "2022-12-30T11:02:41.907Z"
   },
   {
    "duration": 441,
    "start_time": "2022-12-30T11:02:42.215Z"
   },
   {
    "duration": 353,
    "start_time": "2022-12-30T11:02:42.658Z"
   },
   {
    "duration": 15,
    "start_time": "2022-12-30T11:02:43.014Z"
   },
   {
    "duration": 361,
    "start_time": "2022-12-30T11:02:43.034Z"
   },
   {
    "duration": 5,
    "start_time": "2022-12-30T11:02:43.397Z"
   },
   {
    "duration": 16,
    "start_time": "2022-12-30T11:02:43.404Z"
   },
   {
    "duration": 14,
    "start_time": "2022-12-30T11:02:43.422Z"
   },
   {
    "duration": 27,
    "start_time": "2022-12-30T11:02:43.438Z"
   },
   {
    "duration": 42,
    "start_time": "2022-12-30T11:02:43.467Z"
   },
   {
    "duration": 8,
    "start_time": "2022-12-30T11:02:43.511Z"
   },
   {
    "duration": 10,
    "start_time": "2022-12-30T11:02:43.521Z"
   },
   {
    "duration": 117520,
    "start_time": "2022-12-30T11:02:43.533Z"
   },
   {
    "duration": 32,
    "start_time": "2022-12-30T11:04:41.055Z"
   },
   {
    "duration": 134474,
    "start_time": "2022-12-30T11:04:41.089Z"
   },
   {
    "duration": 14,
    "start_time": "2022-12-30T11:06:55.565Z"
   },
   {
    "duration": 711600,
    "start_time": "2022-12-30T11:06:55.585Z"
   },
   {
    "duration": 10,
    "start_time": "2022-12-30T11:18:47.187Z"
   },
   {
    "duration": 1307860,
    "start_time": "2022-12-30T11:18:47.199Z"
   },
   {
    "duration": 11,
    "start_time": "2022-12-30T11:40:35.062Z"
   },
   {
    "duration": 52,
    "start_time": "2022-12-30T11:40:35.076Z"
   },
   {
    "duration": 6053,
    "start_time": "2022-12-30T11:40:35.130Z"
   },
   {
    "duration": 7,
    "start_time": "2022-12-30T11:40:41.188Z"
   },
   {
    "duration": 555,
    "start_time": "2022-12-30T11:40:41.198Z"
   },
   {
    "duration": 380,
    "start_time": "2022-12-30T11:40:41.755Z"
   },
   {
    "duration": 106,
    "start_time": "2022-12-30T11:40:42.138Z"
   },
   {
    "duration": 12,
    "start_time": "2022-12-30T11:42:58.583Z"
   },
   {
    "duration": 1852,
    "start_time": "2022-12-30T11:49:12.180Z"
   },
   {
    "duration": 70,
    "start_time": "2022-12-30T11:49:14.034Z"
   },
   {
    "duration": 23,
    "start_time": "2022-12-30T11:49:14.106Z"
   },
   {
    "duration": 15,
    "start_time": "2022-12-30T11:49:14.131Z"
   },
   {
    "duration": 9,
    "start_time": "2022-12-30T11:49:14.148Z"
   },
   {
    "duration": 65,
    "start_time": "2022-12-30T11:49:14.159Z"
   },
   {
    "duration": 8,
    "start_time": "2022-12-30T11:49:14.226Z"
   },
   {
    "duration": 64,
    "start_time": "2022-12-30T11:49:14.236Z"
   },
   {
    "duration": 366,
    "start_time": "2022-12-30T11:49:14.302Z"
   },
   {
    "duration": 325,
    "start_time": "2022-12-30T11:49:14.670Z"
   },
   {
    "duration": 404,
    "start_time": "2022-12-30T11:49:14.997Z"
   },
   {
    "duration": 324,
    "start_time": "2022-12-30T11:49:15.403Z"
   },
   {
    "duration": 29,
    "start_time": "2022-12-30T11:49:15.729Z"
   },
   {
    "duration": 386,
    "start_time": "2022-12-30T11:49:15.762Z"
   },
   {
    "duration": 6,
    "start_time": "2022-12-30T11:49:16.151Z"
   },
   {
    "duration": 54,
    "start_time": "2022-12-30T11:49:16.159Z"
   },
   {
    "duration": 11,
    "start_time": "2022-12-30T11:49:16.215Z"
   },
   {
    "duration": 10,
    "start_time": "2022-12-30T11:49:16.228Z"
   },
   {
    "duration": 22,
    "start_time": "2022-12-30T11:49:16.240Z"
   },
   {
    "duration": 34,
    "start_time": "2022-12-30T11:49:16.264Z"
   },
   {
    "duration": 8,
    "start_time": "2022-12-30T11:49:16.300Z"
   },
   {
    "duration": 129875,
    "start_time": "2022-12-30T11:49:16.310Z"
   },
   {
    "duration": 27,
    "start_time": "2022-12-30T11:51:26.196Z"
   },
   {
    "duration": 136854,
    "start_time": "2022-12-30T11:51:26.225Z"
   },
   {
    "duration": 9,
    "start_time": "2022-12-30T11:53:43.153Z"
   },
   {
    "duration": 447003,
    "start_time": "2022-12-30T11:53:43.165Z"
   },
   {
    "duration": 11,
    "start_time": "2022-12-30T12:01:10.178Z"
   },
   {
    "duration": 513413,
    "start_time": "2022-12-30T12:01:10.193Z"
   },
   {
    "duration": 8,
    "start_time": "2022-12-30T12:09:43.608Z"
   },
   {
    "duration": 86,
    "start_time": "2022-12-30T12:09:43.618Z"
   },
   {
    "duration": 8678,
    "start_time": "2022-12-30T12:09:43.706Z"
   },
   {
    "duration": 6,
    "start_time": "2022-12-30T12:09:52.390Z"
   },
   {
    "duration": 591,
    "start_time": "2022-12-30T12:09:52.405Z"
   },
   {
    "duration": 406,
    "start_time": "2022-12-30T12:09:53.000Z"
   }
  ],
  "kernelspec": {
   "display_name": "Python 3 (ipykernel)",
   "language": "python",
   "name": "python3"
  },
  "language_info": {
   "codemirror_mode": {
    "name": "ipython",
    "version": 3
   },
   "file_extension": ".py",
   "mimetype": "text/x-python",
   "name": "python",
   "nbconvert_exporter": "python",
   "pygments_lexer": "ipython3",
   "version": "3.9.13"
  },
  "toc": {
   "base_numbering": 1,
   "nav_menu": {},
   "number_sections": true,
   "sideBar": true,
   "skip_h1_title": true,
   "title_cell": "Содержание",
   "title_sidebar": "Contents",
   "toc_cell": true,
   "toc_position": {},
   "toc_section_display": true,
   "toc_window_display": true
  }
 },
 "nbformat": 4,
 "nbformat_minor": 2
}
