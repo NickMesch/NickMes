{
 "cells": [
  {
   "cell_type": "code",
   "execution_count": 1,
   "id": "4e6d4d3e",
   "metadata": {},
   "outputs": [
    {
     "name": "stdout",
     "output_type": "stream",
     "text": [
      "Defaulting to user installation because normal site-packages is not writeable\n",
      "Requirement already satisfied: vininfo in c:\\users\\korchakmv\\appdata\\roaming\\python\\python39\\site-packages (1.7.0)\n"
     ]
    }
   ],
   "source": [
    "! pip install vininfo"
   ]
  },
  {
   "cell_type": "code",
   "execution_count": 2,
   "id": "17755d3e",
   "metadata": {},
   "outputs": [],
   "source": [
    "import math\n",
    "import pandas as pd\n",
    "import numpy as np\n",
    "import matplotlib.pyplot as plt\n",
    "import seaborn as sns\n",
    "\n",
    "\n",
    "from sklearn.ensemble import RandomForestRegressor\n",
    "from sklearn.linear_model import LinearRegression\n",
    "from catboost import CatBoostRegressor\n",
    "from lightgbm import LGBMRegressor\n",
    "\n",
    "from sklearn.model_selection import train_test_split\n",
    "from sklearn.metrics import mean_absolute_percentage_error\n",
    "\n",
    "\n",
    "from category_encoders import TargetEncoder\n",
    "\n",
    "import time\n",
    "\n",
    "from vininfo import Vin\n",
    "\n",
    "import warnings\n",
    "warnings.filterwarnings('ignore')\n",
    "\n"
   ]
  },
  {
   "cell_type": "markdown",
   "id": "a144b20a",
   "metadata": {},
   "source": [
    "Загрузим датасеты и произведем осмотр данных:"
   ]
  },
  {
   "cell_type": "code",
   "execution_count": 3,
   "id": "29d98546",
   "metadata": {},
   "outputs": [],
   "source": [
    "try:\n",
    "    cars_train = pd.read_csv('C:/ya_pr/car_price_pred/train.csv')\n",
    "    cars_test = pd.read_csv('C:/ya_pr/car_price_pred/test.csv')\n",
    "except:\n",
    "    print('Не смогла!')"
   ]
  },
  {
   "cell_type": "code",
   "execution_count": 4,
   "id": "a3cc1d9c",
   "metadata": {},
   "outputs": [
    {
     "data": {
      "text/html": [
       "<div>\n",
       "<style scoped>\n",
       "    .dataframe tbody tr th:only-of-type {\n",
       "        vertical-align: middle;\n",
       "    }\n",
       "\n",
       "    .dataframe tbody tr th {\n",
       "        vertical-align: top;\n",
       "    }\n",
       "\n",
       "    .dataframe thead th {\n",
       "        text-align: right;\n",
       "    }\n",
       "</style>\n",
       "<table border=\"1\" class=\"dataframe\">\n",
       "  <thead>\n",
       "    <tr style=\"text-align: right;\">\n",
       "      <th></th>\n",
       "      <th>year</th>\n",
       "      <th>make</th>\n",
       "      <th>model</th>\n",
       "      <th>trim</th>\n",
       "      <th>body</th>\n",
       "      <th>transmission</th>\n",
       "      <th>vin</th>\n",
       "      <th>state</th>\n",
       "      <th>condition</th>\n",
       "      <th>odometer</th>\n",
       "      <th>color</th>\n",
       "      <th>interior</th>\n",
       "      <th>seller</th>\n",
       "      <th>sellingprice</th>\n",
       "      <th>saledate</th>\n",
       "    </tr>\n",
       "  </thead>\n",
       "  <tbody>\n",
       "    <tr>\n",
       "      <th>0</th>\n",
       "      <td>2011</td>\n",
       "      <td>Ford</td>\n",
       "      <td>Edge</td>\n",
       "      <td>SEL</td>\n",
       "      <td>suv</td>\n",
       "      <td>automatic</td>\n",
       "      <td>2fmdk3jc4bba41556</td>\n",
       "      <td>md</td>\n",
       "      <td>4.2</td>\n",
       "      <td>111041.0</td>\n",
       "      <td>black</td>\n",
       "      <td>black</td>\n",
       "      <td>santander consumer</td>\n",
       "      <td>12500</td>\n",
       "      <td>Tue Jun 02 2015 02:30:00 GMT-0700 (PDT)</td>\n",
       "    </tr>\n",
       "    <tr>\n",
       "      <th>1</th>\n",
       "      <td>2014</td>\n",
       "      <td>Ford</td>\n",
       "      <td>Fusion</td>\n",
       "      <td>SE</td>\n",
       "      <td>Sedan</td>\n",
       "      <td>automatic</td>\n",
       "      <td>3fa6p0h75er208976</td>\n",
       "      <td>mo</td>\n",
       "      <td>3.5</td>\n",
       "      <td>31034.0</td>\n",
       "      <td>black</td>\n",
       "      <td>black</td>\n",
       "      <td>ars/avis budget group</td>\n",
       "      <td>14500</td>\n",
       "      <td>Wed Feb 25 2015 02:00:00 GMT-0800 (PST)</td>\n",
       "    </tr>\n",
       "    <tr>\n",
       "      <th>2</th>\n",
       "      <td>2012</td>\n",
       "      <td>Nissan</td>\n",
       "      <td>Sentra</td>\n",
       "      <td>2.0 SL</td>\n",
       "      <td>sedan</td>\n",
       "      <td>automatic</td>\n",
       "      <td>3n1ab6ap4cl698412</td>\n",
       "      <td>nj</td>\n",
       "      <td>2.2</td>\n",
       "      <td>35619.0</td>\n",
       "      <td>black</td>\n",
       "      <td>black</td>\n",
       "      <td>nissan-infiniti lt</td>\n",
       "      <td>9100</td>\n",
       "      <td>Wed Jun 10 2015 02:30:00 GMT-0700 (PDT)</td>\n",
       "    </tr>\n",
       "    <tr>\n",
       "      <th>3</th>\n",
       "      <td>2003</td>\n",
       "      <td>HUMMER</td>\n",
       "      <td>H2</td>\n",
       "      <td>Base</td>\n",
       "      <td>suv</td>\n",
       "      <td>automatic</td>\n",
       "      <td>5grgn23u93h101360</td>\n",
       "      <td>tx</td>\n",
       "      <td>2.8</td>\n",
       "      <td>131301.0</td>\n",
       "      <td>gold</td>\n",
       "      <td>beige</td>\n",
       "      <td>wichita falls ford lin inc</td>\n",
       "      <td>13300</td>\n",
       "      <td>Wed Jun 17 2015 03:00:00 GMT-0700 (PDT)</td>\n",
       "    </tr>\n",
       "    <tr>\n",
       "      <th>4</th>\n",
       "      <td>2007</td>\n",
       "      <td>Ford</td>\n",
       "      <td>Fusion</td>\n",
       "      <td>SEL</td>\n",
       "      <td>Sedan</td>\n",
       "      <td>automatic</td>\n",
       "      <td>3fahp08z17r268380</td>\n",
       "      <td>md</td>\n",
       "      <td>2.0</td>\n",
       "      <td>127709.0</td>\n",
       "      <td>black</td>\n",
       "      <td>black</td>\n",
       "      <td>purple heart</td>\n",
       "      <td>1300</td>\n",
       "      <td>Tue Feb 03 2015 04:00:00 GMT-0800 (PST)</td>\n",
       "    </tr>\n",
       "    <tr>\n",
       "      <th>5</th>\n",
       "      <td>2013</td>\n",
       "      <td>Lincoln</td>\n",
       "      <td>MKZ</td>\n",
       "      <td>Base</td>\n",
       "      <td>Sedan</td>\n",
       "      <td>automatic</td>\n",
       "      <td>3ln6l2j91dr817800</td>\n",
       "      <td>mi</td>\n",
       "      <td>2.5</td>\n",
       "      <td>14894.0</td>\n",
       "      <td>black</td>\n",
       "      <td>black</td>\n",
       "      <td>ford motor credit company,llc</td>\n",
       "      <td>22600</td>\n",
       "      <td>Thu May 21 2015 02:00:00 GMT-0700 (PDT)</td>\n",
       "    </tr>\n",
       "    <tr>\n",
       "      <th>6</th>\n",
       "      <td>2010</td>\n",
       "      <td>pontiac</td>\n",
       "      <td>g6</td>\n",
       "      <td>4c</td>\n",
       "      <td>NaN</td>\n",
       "      <td>automatic</td>\n",
       "      <td>1g2za5eb4a4157380</td>\n",
       "      <td>nc</td>\n",
       "      <td>3.4</td>\n",
       "      <td>114587.0</td>\n",
       "      <td>silver</td>\n",
       "      <td>black</td>\n",
       "      <td>north state acceptance</td>\n",
       "      <td>5900</td>\n",
       "      <td>Mon Jan 12 2015 09:30:00 GMT-0800 (PST)</td>\n",
       "    </tr>\n",
       "    <tr>\n",
       "      <th>7</th>\n",
       "      <td>2013</td>\n",
       "      <td>Ford</td>\n",
       "      <td>Escape</td>\n",
       "      <td>SE</td>\n",
       "      <td>SUV</td>\n",
       "      <td>automatic</td>\n",
       "      <td>1fmcu0gx3duc59421</td>\n",
       "      <td>fl</td>\n",
       "      <td>4.8</td>\n",
       "      <td>26273.0</td>\n",
       "      <td>blue</td>\n",
       "      <td>gray</td>\n",
       "      <td>fields bmw</td>\n",
       "      <td>15200</td>\n",
       "      <td>Tue Feb 03 2015 01:00:00 GMT-0800 (PST)</td>\n",
       "    </tr>\n",
       "    <tr>\n",
       "      <th>8</th>\n",
       "      <td>2000</td>\n",
       "      <td>Hyundai</td>\n",
       "      <td>Elantra</td>\n",
       "      <td>GLS</td>\n",
       "      <td>Sedan</td>\n",
       "      <td>automatic</td>\n",
       "      <td>kmhjf35f2yu955691</td>\n",
       "      <td>oh</td>\n",
       "      <td>1.9</td>\n",
       "      <td>182624.0</td>\n",
       "      <td>black</td>\n",
       "      <td>tan</td>\n",
       "      <td>dt inventory</td>\n",
       "      <td>700</td>\n",
       "      <td>Thu Jan 22 2015 01:00:00 GMT-0800 (PST)</td>\n",
       "    </tr>\n",
       "    <tr>\n",
       "      <th>9</th>\n",
       "      <td>2005</td>\n",
       "      <td>Ford</td>\n",
       "      <td>Freestyle</td>\n",
       "      <td>Limited</td>\n",
       "      <td>wagon</td>\n",
       "      <td>automatic</td>\n",
       "      <td>1fmdk06135ga45438</td>\n",
       "      <td>oh</td>\n",
       "      <td>1.0</td>\n",
       "      <td>149364.0</td>\n",
       "      <td>black</td>\n",
       "      <td>tan</td>\n",
       "      <td>wells fargo dealer services</td>\n",
       "      <td>325</td>\n",
       "      <td>Tue Jun 16 2015 05:00:00 GMT-0700 (PDT)</td>\n",
       "    </tr>\n",
       "  </tbody>\n",
       "</table>\n",
       "</div>"
      ],
      "text/plain": [
       "   year     make      model     trim   body transmission                vin  \\\n",
       "0  2011     Ford       Edge      SEL    suv    automatic  2fmdk3jc4bba41556   \n",
       "1  2014     Ford     Fusion       SE  Sedan    automatic  3fa6p0h75er208976   \n",
       "2  2012   Nissan     Sentra   2.0 SL  sedan    automatic  3n1ab6ap4cl698412   \n",
       "3  2003   HUMMER         H2     Base    suv    automatic  5grgn23u93h101360   \n",
       "4  2007     Ford     Fusion      SEL  Sedan    automatic  3fahp08z17r268380   \n",
       "5  2013  Lincoln        MKZ     Base  Sedan    automatic  3ln6l2j91dr817800   \n",
       "6  2010  pontiac         g6       4c    NaN    automatic  1g2za5eb4a4157380   \n",
       "7  2013     Ford     Escape       SE    SUV    automatic  1fmcu0gx3duc59421   \n",
       "8  2000  Hyundai    Elantra      GLS  Sedan    automatic  kmhjf35f2yu955691   \n",
       "9  2005     Ford  Freestyle  Limited  wagon    automatic  1fmdk06135ga45438   \n",
       "\n",
       "  state  condition  odometer   color interior                         seller  \\\n",
       "0    md        4.2  111041.0   black    black             santander consumer   \n",
       "1    mo        3.5   31034.0   black    black          ars/avis budget group   \n",
       "2    nj        2.2   35619.0   black    black             nissan-infiniti lt   \n",
       "3    tx        2.8  131301.0    gold    beige     wichita falls ford lin inc   \n",
       "4    md        2.0  127709.0   black    black                   purple heart   \n",
       "5    mi        2.5   14894.0   black    black  ford motor credit company,llc   \n",
       "6    nc        3.4  114587.0  silver    black         north state acceptance   \n",
       "7    fl        4.8   26273.0    blue     gray                     fields bmw   \n",
       "8    oh        1.9  182624.0   black      tan                   dt inventory   \n",
       "9    oh        1.0  149364.0   black      tan    wells fargo dealer services   \n",
       "\n",
       "   sellingprice                                 saledate  \n",
       "0         12500  Tue Jun 02 2015 02:30:00 GMT-0700 (PDT)  \n",
       "1         14500  Wed Feb 25 2015 02:00:00 GMT-0800 (PST)  \n",
       "2          9100  Wed Jun 10 2015 02:30:00 GMT-0700 (PDT)  \n",
       "3         13300  Wed Jun 17 2015 03:00:00 GMT-0700 (PDT)  \n",
       "4          1300  Tue Feb 03 2015 04:00:00 GMT-0800 (PST)  \n",
       "5         22600  Thu May 21 2015 02:00:00 GMT-0700 (PDT)  \n",
       "6          5900  Mon Jan 12 2015 09:30:00 GMT-0800 (PST)  \n",
       "7         15200  Tue Feb 03 2015 01:00:00 GMT-0800 (PST)  \n",
       "8           700  Thu Jan 22 2015 01:00:00 GMT-0800 (PST)  \n",
       "9           325  Tue Jun 16 2015 05:00:00 GMT-0700 (PDT)  "
      ]
     },
     "execution_count": 4,
     "metadata": {},
     "output_type": "execute_result"
    }
   ],
   "source": [
    "cars_train.head(10)"
   ]
  },
  {
   "cell_type": "code",
   "execution_count": 5,
   "id": "063fa5a6",
   "metadata": {},
   "outputs": [
    {
     "name": "stdout",
     "output_type": "stream",
     "text": [
      "<class 'pandas.core.frame.DataFrame'>\n",
      "RangeIndex: 440236 entries, 0 to 440235\n",
      "Data columns (total 15 columns):\n",
      " #   Column        Non-Null Count   Dtype  \n",
      "---  ------        --------------   -----  \n",
      " 0   year          440236 non-null  int64  \n",
      " 1   make          432193 non-null  object \n",
      " 2   model         432113 non-null  object \n",
      " 3   trim          431899 non-null  object \n",
      " 4   body          429843 non-null  object \n",
      " 5   transmission  388775 non-null  object \n",
      " 6   vin           440236 non-null  object \n",
      " 7   state         440236 non-null  object \n",
      " 8   condition     430831 non-null  float64\n",
      " 9   odometer      440167 non-null  float64\n",
      " 10  color         439650 non-null  object \n",
      " 11  interior      439650 non-null  object \n",
      " 12  seller        440236 non-null  object \n",
      " 13  sellingprice  440236 non-null  int64  \n",
      " 14  saledate      440236 non-null  object \n",
      "dtypes: float64(2), int64(2), object(11)\n",
      "memory usage: 50.4+ MB\n"
     ]
    }
   ],
   "source": [
    "cars_train.info()"
   ]
  },
  {
   "cell_type": "code",
   "execution_count": 6,
   "id": "a3d06705",
   "metadata": {},
   "outputs": [
    {
     "name": "stdout",
     "output_type": "stream",
     "text": [
      "<class 'pandas.core.frame.DataFrame'>\n",
      "Int64Index: 8043 entries, 10 to 440144\n",
      "Data columns (total 15 columns):\n",
      " #   Column        Non-Null Count  Dtype  \n",
      "---  ------        --------------  -----  \n",
      " 0   year          8043 non-null   int64  \n",
      " 1   make          0 non-null      object \n",
      " 2   model         0 non-null      object \n",
      " 3   trim          0 non-null      object \n",
      " 4   body          0 non-null      object \n",
      " 5   transmission  6657 non-null   object \n",
      " 6   vin           8043 non-null   object \n",
      " 7   state         8043 non-null   object \n",
      " 8   condition     7977 non-null   float64\n",
      " 9   odometer      8041 non-null   float64\n",
      " 10  color         8029 non-null   object \n",
      " 11  interior      8029 non-null   object \n",
      " 12  seller        8043 non-null   object \n",
      " 13  sellingprice  8043 non-null   int64  \n",
      " 14  saledate      8043 non-null   object \n",
      "dtypes: float64(2), int64(2), object(11)\n",
      "memory usage: 1005.4+ KB\n"
     ]
    }
   ],
   "source": [
    "cars_train.loc[cars_train['make'].isna()].info()"
   ]
  },
  {
   "cell_type": "code",
   "execution_count": 7,
   "id": "21fdd2ac",
   "metadata": {},
   "outputs": [
    {
     "name": "stdout",
     "output_type": "stream",
     "text": [
      "<class 'pandas.core.frame.DataFrame'>\n",
      "RangeIndex: 110058 entries, 0 to 110057\n",
      "Data columns (total 14 columns):\n",
      " #   Column        Non-Null Count   Dtype  \n",
      "---  ------        --------------   -----  \n",
      " 0   year          110058 non-null  int64  \n",
      " 1   make          107997 non-null  object \n",
      " 2   model         107979 non-null  object \n",
      " 3   trim          107944 non-null  object \n",
      " 4   body          107464 non-null  object \n",
      " 5   transmission  97047 non-null   object \n",
      " 6   vin           110058 non-null  object \n",
      " 7   state         110058 non-null  object \n",
      " 8   condition     107679 non-null  float64\n",
      " 9   odometer      110039 non-null  float64\n",
      " 10  color         109900 non-null  object \n",
      " 11  interior      109900 non-null  object \n",
      " 12  seller        110058 non-null  object \n",
      " 13  saledate      110058 non-null  object \n",
      "dtypes: float64(2), int64(1), object(11)\n",
      "memory usage: 11.8+ MB\n"
     ]
    }
   ],
   "source": [
    "cars_test.info()"
   ]
  },
  {
   "cell_type": "code",
   "execution_count": 8,
   "id": "33611586",
   "metadata": {},
   "outputs": [
    {
     "name": "stdout",
     "output_type": "stream",
     "text": [
      "<class 'pandas.core.frame.DataFrame'>\n",
      "Int64Index: 2061 entries, 22 to 110016\n",
      "Data columns (total 14 columns):\n",
      " #   Column        Non-Null Count  Dtype  \n",
      "---  ------        --------------  -----  \n",
      " 0   year          2061 non-null   int64  \n",
      " 1   make          0 non-null      object \n",
      " 2   model         0 non-null      object \n",
      " 3   trim          0 non-null      object \n",
      " 4   body          0 non-null      object \n",
      " 5   transmission  1707 non-null   object \n",
      " 6   vin           2061 non-null   object \n",
      " 7   state         2061 non-null   object \n",
      " 8   condition     2040 non-null   float64\n",
      " 9   odometer      2060 non-null   float64\n",
      " 10  color         2060 non-null   object \n",
      " 11  interior      2060 non-null   object \n",
      " 12  seller        2061 non-null   object \n",
      " 13  saledate      2061 non-null   object \n",
      "dtypes: float64(2), int64(1), object(11)\n",
      "memory usage: 241.5+ KB\n"
     ]
    }
   ],
   "source": [
    "cars_test.loc[cars_test['make'].isna()].info()"
   ]
  },
  {
   "cell_type": "markdown",
   "id": "27d1f3d4",
   "metadata": {},
   "source": [
    " Общий осмотр позволяет сделать два вывода:\n",
    " 1. Часть данных не имеет одновременно четырех важных признаков make, model, trim, body - это производитель, данные о модели и комплектации. Все признаки отвечающие за стоимость изначальную стоимость нового автомобиля. Такие данные в обучающем и тестовом наборах имеет смысл отделить и обучить на них свою отдельную модель. \n",
    " 2. Имеются и другие пропуски данных.\n",
    " 3. Категориальные признаки включают дубли из-за написания слов с заглавной и строчной букв - имеет смысл привести все тексты к нижнему регистру:"
   ]
  },
  {
   "cell_type": "code",
   "execution_count": 9,
   "id": "f3225543",
   "metadata": {},
   "outputs": [],
   "source": [
    "categorial_columns = ['make','model','trim','body','transmission','vin','state','color','interior','seller']\n",
    "numerical_columns = ['year','condition','odometer','sellingprice']"
   ]
  },
  {
   "cell_type": "code",
   "execution_count": 10,
   "id": "c5c14b09",
   "metadata": {},
   "outputs": [],
   "source": [
    "for column in categorial_columns:\n",
    "    cars_train[column] = cars_train[column].str.lower()\n",
    "    cars_test[column] = cars_test[column].str.lower()"
   ]
  },
  {
   "cell_type": "code",
   "execution_count": 11,
   "id": "e54f9952",
   "metadata": {},
   "outputs": [
    {
     "data": {
      "text/html": [
       "<div>\n",
       "<style scoped>\n",
       "    .dataframe tbody tr th:only-of-type {\n",
       "        vertical-align: middle;\n",
       "    }\n",
       "\n",
       "    .dataframe tbody tr th {\n",
       "        vertical-align: top;\n",
       "    }\n",
       "\n",
       "    .dataframe thead th {\n",
       "        text-align: right;\n",
       "    }\n",
       "</style>\n",
       "<table border=\"1\" class=\"dataframe\">\n",
       "  <thead>\n",
       "    <tr style=\"text-align: right;\">\n",
       "      <th></th>\n",
       "      <th>make</th>\n",
       "      <th>model</th>\n",
       "      <th>trim</th>\n",
       "      <th>body</th>\n",
       "      <th>transmission</th>\n",
       "      <th>vin</th>\n",
       "      <th>state</th>\n",
       "      <th>color</th>\n",
       "      <th>interior</th>\n",
       "      <th>seller</th>\n",
       "    </tr>\n",
       "  </thead>\n",
       "  <tbody>\n",
       "    <tr>\n",
       "      <th>count</th>\n",
       "      <td>432193</td>\n",
       "      <td>432113</td>\n",
       "      <td>431899</td>\n",
       "      <td>429843</td>\n",
       "      <td>388775</td>\n",
       "      <td>440236</td>\n",
       "      <td>440236</td>\n",
       "      <td>439650</td>\n",
       "      <td>439650</td>\n",
       "      <td>440236</td>\n",
       "    </tr>\n",
       "    <tr>\n",
       "      <th>unique</th>\n",
       "      <td>62</td>\n",
       "      <td>839</td>\n",
       "      <td>1850</td>\n",
       "      <td>45</td>\n",
       "      <td>2</td>\n",
       "      <td>440236</td>\n",
       "      <td>38</td>\n",
       "      <td>20</td>\n",
       "      <td>17</td>\n",
       "      <td>13025</td>\n",
       "    </tr>\n",
       "    <tr>\n",
       "      <th>top</th>\n",
       "      <td>ford</td>\n",
       "      <td>altima</td>\n",
       "      <td>base</td>\n",
       "      <td>sedan</td>\n",
       "      <td>automatic</td>\n",
       "      <td>2fmdk3jc4bba41556</td>\n",
       "      <td>fl</td>\n",
       "      <td>black</td>\n",
       "      <td>black</td>\n",
       "      <td>nissan-infiniti lt</td>\n",
       "    </tr>\n",
       "    <tr>\n",
       "      <th>freq</th>\n",
       "      <td>74067</td>\n",
       "      <td>15454</td>\n",
       "      <td>43876</td>\n",
       "      <td>190861</td>\n",
       "      <td>375061</td>\n",
       "      <td>1</td>\n",
       "      <td>65618</td>\n",
       "      <td>87115</td>\n",
       "      <td>192442</td>\n",
       "      <td>15823</td>\n",
       "    </tr>\n",
       "  </tbody>\n",
       "</table>\n",
       "</div>"
      ],
      "text/plain": [
       "          make   model    trim    body transmission                vin  \\\n",
       "count   432193  432113  431899  429843       388775             440236   \n",
       "unique      62     839    1850      45            2             440236   \n",
       "top       ford  altima    base   sedan    automatic  2fmdk3jc4bba41556   \n",
       "freq     74067   15454   43876  190861       375061                  1   \n",
       "\n",
       "         state   color interior              seller  \n",
       "count   440236  439650   439650              440236  \n",
       "unique      38      20       17               13025  \n",
       "top         fl   black    black  nissan-infiniti lt  \n",
       "freq     65618   87115   192442               15823  "
      ]
     },
     "execution_count": 11,
     "metadata": {},
     "output_type": "execute_result"
    }
   ],
   "source": [
    "cars_train[categorial_columns].describe()"
   ]
  },
  {
   "cell_type": "code",
   "execution_count": 12,
   "id": "1b24e40a",
   "metadata": {},
   "outputs": [
    {
     "data": {
      "text/html": [
       "<div>\n",
       "<style scoped>\n",
       "    .dataframe tbody tr th:only-of-type {\n",
       "        vertical-align: middle;\n",
       "    }\n",
       "\n",
       "    .dataframe tbody tr th {\n",
       "        vertical-align: top;\n",
       "    }\n",
       "\n",
       "    .dataframe thead th {\n",
       "        text-align: right;\n",
       "    }\n",
       "</style>\n",
       "<table border=\"1\" class=\"dataframe\">\n",
       "  <thead>\n",
       "    <tr style=\"text-align: right;\">\n",
       "      <th></th>\n",
       "      <th>year</th>\n",
       "      <th>condition</th>\n",
       "      <th>odometer</th>\n",
       "      <th>sellingprice</th>\n",
       "    </tr>\n",
       "  </thead>\n",
       "  <tbody>\n",
       "    <tr>\n",
       "      <th>count</th>\n",
       "      <td>440236.000000</td>\n",
       "      <td>430831.000000</td>\n",
       "      <td>440167.000000</td>\n",
       "      <td>440236.000000</td>\n",
       "    </tr>\n",
       "    <tr>\n",
       "      <th>mean</th>\n",
       "      <td>2010.040101</td>\n",
       "      <td>3.425077</td>\n",
       "      <td>68344.421604</td>\n",
       "      <td>13592.209588</td>\n",
       "    </tr>\n",
       "    <tr>\n",
       "      <th>std</th>\n",
       "      <td>3.977945</td>\n",
       "      <td>0.949973</td>\n",
       "      <td>53542.203908</td>\n",
       "      <td>9751.479098</td>\n",
       "    </tr>\n",
       "    <tr>\n",
       "      <th>min</th>\n",
       "      <td>1982.000000</td>\n",
       "      <td>1.000000</td>\n",
       "      <td>1.000000</td>\n",
       "      <td>1.000000</td>\n",
       "    </tr>\n",
       "    <tr>\n",
       "      <th>25%</th>\n",
       "      <td>2007.000000</td>\n",
       "      <td>2.700000</td>\n",
       "      <td>28258.000000</td>\n",
       "      <td>6900.000000</td>\n",
       "    </tr>\n",
       "    <tr>\n",
       "      <th>50%</th>\n",
       "      <td>2012.000000</td>\n",
       "      <td>3.600000</td>\n",
       "      <td>52098.000000</td>\n",
       "      <td>12100.000000</td>\n",
       "    </tr>\n",
       "    <tr>\n",
       "      <th>75%</th>\n",
       "      <td>2013.000000</td>\n",
       "      <td>4.200000</td>\n",
       "      <td>99272.000000</td>\n",
       "      <td>18200.000000</td>\n",
       "    </tr>\n",
       "    <tr>\n",
       "      <th>max</th>\n",
       "      <td>2015.000000</td>\n",
       "      <td>5.000000</td>\n",
       "      <td>999999.000000</td>\n",
       "      <td>230000.000000</td>\n",
       "    </tr>\n",
       "  </tbody>\n",
       "</table>\n",
       "</div>"
      ],
      "text/plain": [
       "                year      condition       odometer   sellingprice\n",
       "count  440236.000000  430831.000000  440167.000000  440236.000000\n",
       "mean     2010.040101       3.425077   68344.421604   13592.209588\n",
       "std         3.977945       0.949973   53542.203908    9751.479098\n",
       "min      1982.000000       1.000000       1.000000       1.000000\n",
       "25%      2007.000000       2.700000   28258.000000    6900.000000\n",
       "50%      2012.000000       3.600000   52098.000000   12100.000000\n",
       "75%      2013.000000       4.200000   99272.000000   18200.000000\n",
       "max      2015.000000       5.000000  999999.000000  230000.000000"
      ]
     },
     "execution_count": 12,
     "metadata": {},
     "output_type": "execute_result"
    }
   ],
   "source": [
    "cars_train[numerical_columns].describe()"
   ]
  },
  {
   "cell_type": "markdown",
   "id": "22bf24af",
   "metadata": {},
   "source": [
    "Обработаем пропуски (кроме данных относящихся к производителю и модели):"
   ]
  },
  {
   "cell_type": "markdown",
   "id": "c30f8b95",
   "metadata": {},
   "source": [
    "Трансмиссия. \n",
    "\n",
    "Закодируем значения automatic и manual как 1 и 0. Для строк где значение пропущено заполним средним по модели. Если после этого останутся пропущенные значения - заполним средним по датасету:"
   ]
  },
  {
   "cell_type": "code",
   "execution_count": 13,
   "id": "10f06f33",
   "metadata": {},
   "outputs": [],
   "source": [
    "cars_train.loc[cars_train['transmission']=='automatic','transmission'] = 1\n",
    "cars_train.loc[cars_train['transmission']=='manual','transmission'] = 0\n",
    "\n",
    "cars_test.loc[cars_test['transmission']=='automatic','transmission'] = 1\n",
    "cars_test.loc[cars_test['transmission']=='manual','transmission'] = 0"
   ]
  },
  {
   "cell_type": "code",
   "execution_count": 14,
   "id": "77276bf1",
   "metadata": {},
   "outputs": [],
   "source": [
    "cars_train['transmission'] = cars_train['transmission'].fillna(cars_train.groupby('model')['transmission'].transform('mean'))\n",
    "cars_test['transmission'] = cars_test['transmission'].fillna(cars_test.groupby('model')['transmission'].transform('mean'))"
   ]
  },
  {
   "cell_type": "code",
   "execution_count": 15,
   "id": "51477a3f",
   "metadata": {},
   "outputs": [],
   "source": [
    "def transmission(transmission):\n",
    "    if transmission >= 0:\n",
    "        return transmission\n",
    "    return 0.965"
   ]
  },
  {
   "cell_type": "code",
   "execution_count": 16,
   "id": "ec4fcea5",
   "metadata": {},
   "outputs": [],
   "source": [
    "cars_train['transmission'] = cars_train['transmission'].apply(transmission)\n",
    "cars_test['transmission'] = cars_test['transmission'].apply(transmission)"
   ]
  },
  {
   "cell_type": "markdown",
   "id": "df9d2ec0",
   "metadata": {},
   "source": [
    "Из даты продажи выделим год, посчитаем возраст машины на момент продажи и удалим год производства (достаточно возраста и года продажи):"
   ]
  },
  {
   "cell_type": "code",
   "execution_count": 17,
   "id": "a64c6ca7",
   "metadata": {},
   "outputs": [],
   "source": [
    "cars_train['sale_year'] = pd.to_datetime(cars_train.loc[0]['saledate'], utc=True).year\n",
    "cars_train['age'] = cars_train['sale_year'] - cars_train['year']"
   ]
  },
  {
   "cell_type": "code",
   "execution_count": 18,
   "id": "71581fb2",
   "metadata": {},
   "outputs": [],
   "source": [
    "cars_test['sale_year'] = pd.to_datetime(cars_test.loc[0]['saledate'], utc=True).year\n",
    "cars_test['age'] = cars_test['sale_year'] - cars_test['year']"
   ]
  },
  {
   "cell_type": "code",
   "execution_count": 19,
   "id": "955cad67",
   "metadata": {},
   "outputs": [],
   "source": [
    "cars_train = cars_train.drop(['saledate','year'], axis=1)\n",
    "cars_test = cars_test.drop(['saledate','year'], axis=1)"
   ]
  },
  {
   "cell_type": "markdown",
   "id": "d1ac07b6",
   "metadata": {},
   "source": [
    "Пробег и состояние машины заполним соответствующими средними значениями по возрасту машины:"
   ]
  },
  {
   "cell_type": "code",
   "execution_count": 20,
   "id": "3b995ea1",
   "metadata": {},
   "outputs": [],
   "source": [
    "cars_train['odometer_by_age'] = cars_train.groupby('age')['odometer'].transform('mean')\n",
    "cars_train['condition_by_age'] = cars_train.groupby('age')['condition'].transform('mean')\n",
    "\n",
    "cars_test['odometer_by_age'] = cars_test.groupby('age')['odometer'].transform('mean')\n",
    "cars_test['condition_by_age'] = cars_test.groupby('age')['condition'].transform('mean')"
   ]
  },
  {
   "cell_type": "code",
   "execution_count": 21,
   "id": "b793369e",
   "metadata": {},
   "outputs": [],
   "source": [
    "cars_train['condition'] = cars_train['condition'].fillna(cars_train['condition_by_age']) \n",
    "cars_train['odometer'] = cars_train['odometer'].fillna(cars_train['odometer_by_age']) \n",
    "\n",
    "cars_test['condition'] = cars_test['condition'].fillna(cars_test['condition_by_age']) \n",
    "cars_test['odometer'] = cars_test['odometer'].fillna(cars_test['odometer_by_age']) "
   ]
  },
  {
   "cell_type": "code",
   "execution_count": 22,
   "id": "443cfd0c",
   "metadata": {},
   "outputs": [],
   "source": [
    "cars_train.loc[(cars_train['odometer']<100)&(cars_train['age']>0)\n",
    "              ]['odometer'] = cars_train.loc[(cars_train['odometer']<100)&(cars_train['age']>0)]['odometer_by_age']"
   ]
  },
  {
   "cell_type": "code",
   "execution_count": 23,
   "id": "f162fa45",
   "metadata": {},
   "outputs": [],
   "source": [
    "cars_test.loc[(cars_test['odometer']<100)&(cars_test['age']>0)\n",
    "              ]['odometer'] = cars_test.loc[(cars_test['odometer']<100)&(cars_test['age']>0)]['odometer_by_age']"
   ]
  },
  {
   "cell_type": "markdown",
   "id": "7b8dc763",
   "metadata": {},
   "source": [
    "Vin удалим - он не влияет на стоимость машины."
   ]
  },
  {
   "cell_type": "code",
   "execution_count": 24,
   "id": "bb157f96",
   "metadata": {},
   "outputs": [],
   "source": [
    "cars_train = cars_train.drop('vin', axis=1)"
   ]
  },
  {
   "cell_type": "code",
   "execution_count": 25,
   "id": "2215eb3e",
   "metadata": {},
   "outputs": [],
   "source": [
    "categorial_columns = ['make','model','trim','body','state','color','interior','seller']\n",
    "numerical_columns = ['condition','odometer','transmission','sale_year','sale_month','age','sellingprice']"
   ]
  },
  {
   "cell_type": "markdown",
   "id": "92d8efeb",
   "metadata": {},
   "source": [
    "Разделим данные на два набора под две разные модели (в соответствии с выводом №1 по итогам осмотра данных):"
   ]
  },
  {
   "cell_type": "code",
   "execution_count": 26,
   "id": "411683e8",
   "metadata": {
    "scrolled": true
   },
   "outputs": [
    {
     "name": "stdout",
     "output_type": "stream",
     "text": [
      "(8123, 16)\n",
      "(432113, 16)\n",
      "(2079, 16)\n",
      "(107979, 16)\n"
     ]
    }
   ],
   "source": [
    "cars_train1 = cars_train.loc[cars_train['model'].isna()]\n",
    "cars_train2 = cars_train.loc[~cars_train['model'].isna()]\n",
    "print(cars_train1.shape)\n",
    "print(cars_train2.shape)\n",
    "cars_test1 = cars_test.loc[cars_test['model'].isna()]\n",
    "cars_test2 = cars_test.loc[~cars_test['model'].isna()]\n",
    "print(cars_test1.shape)\n",
    "print(cars_test2.shape)"
   ]
  },
  {
   "cell_type": "markdown",
   "id": "1858d35e",
   "metadata": {},
   "source": [
    "Проверки показали что для дорогих брендов имеет смысл так же выделить отдельную модель (отобраны по среденей цене продажи для каждого бренда):"
   ]
  },
  {
   "cell_type": "code",
   "execution_count": 27,
   "id": "7ee9ed16",
   "metadata": {},
   "outputs": [],
   "source": [
    "cheap_makers = ['dodge','chrysler','hyundai','honda','buick','fiat','mazda','scion',\n",
    "                'volkswagen','mitsubishi','mercedes','gmc truck','plymouth','mazda tk',\n",
    "                'smart','suzuki','mercury','pontiac','saab','saturn','isuzu','oldsmobile',\n",
    "                'daewoo','dodge tk','dot','ford truck','geo']\n",
    "\n",
    "medium_makers = ['gmc','lincoln','subaru','hummer','cadillac','jeep','ford',\n",
    "                 'acura','mercedes-b','mini','toyota','chevrolet','kia','nissan','vw','volvo','landrover']\n",
    "\n",
    "\n",
    "lux_makers = ['rolls-royce','ferrari','lamborghini','bentley','airstream',\n",
    "              'tesla','aston martin','fisker','maserati','porsche',\n",
    "              'land rover','ram','mercedes-benz','bmw','infiniti','lexus','audi','jaguar']\n"
   ]
  },
  {
   "cell_type": "code",
   "execution_count": 28,
   "id": "c9df2bd4",
   "metadata": {},
   "outputs": [
    {
     "name": "stdout",
     "output_type": "stream",
     "text": [
      "(63169, 16)\n",
      "(368944, 16)\n",
      "\n",
      "(16025, 16)\n",
      "(91954, 16)\n"
     ]
    }
   ],
   "source": [
    "#cars_train1 = cars_train.loc[cars_train['model'].isna()] \n",
    "\n",
    "#cars_train2 = cars_train.loc[~cars_train['model'].isna()]\n",
    "\n",
    "cars_train3 = cars_train2.loc[cars_train2['make'].isin(lux_makers)] \n",
    "\n",
    "cars_train4 = cars_train2.loc[~cars_train2['make'].isin(lux_makers)]\n",
    "\n",
    "\n",
    "\n",
    "\n",
    "#print(cars_train1.shape)\n",
    "#print(cars_train2.shape)\n",
    "print(cars_train3.shape)\n",
    "print(cars_train4.shape)\n",
    "\n",
    "print()\n",
    "cars_test1 = cars_test.loc[cars_test['model'].isna()]\n",
    "\n",
    "#cars_test2 = cars_test.loc[~cars_test['model'].isna()]\n",
    "\n",
    "cars_test3 = cars_test2.loc[cars_test2['make'].isin(lux_makers)]\n",
    "\n",
    "cars_test4 = cars_test2.loc[~cars_test2['make'].isin(lux_makers)]\n",
    "\n",
    "\n",
    "\n",
    "#print(cars_test1.shape)\n",
    "#print(cars_test2.shape)\n",
    "print(cars_test3.shape)\n",
    "print(cars_test4.shape)\n",
    "\n",
    "\n",
    "\n",
    "\n"
   ]
  },
  {
   "cell_type": "code",
   "execution_count": 29,
   "id": "78f01c99",
   "metadata": {},
   "outputs": [],
   "source": [
    "train_1, valid_1 = train_test_split(cars_train1, test_size=0.1, random_state=321)\n",
    "#train_2, valid_2 = train_test_split(cars_train2, test_size=0.1, random_state=321)\n",
    "train_3, valid_3 = train_test_split(cars_train3, test_size=0.1, random_state=321)\n",
    "train_4, valid_4 = train_test_split(cars_train4, test_size=0.1, random_state=321)\n"
   ]
  },
  {
   "cell_type": "code",
   "execution_count": 30,
   "id": "dd9aa316",
   "metadata": {},
   "outputs": [],
   "source": [
    "test_1 = cars_test1.copy()\n",
    "#test_2 = cars_test2.copy()\n",
    "test_3 = cars_test3.copy()\n",
    "test_4 = cars_test4.copy()\n"
   ]
  },
  {
   "cell_type": "code",
   "execution_count": 31,
   "id": "5bd8db90",
   "metadata": {},
   "outputs": [],
   "source": [
    "target_encoder = TargetEncoder()\n",
    "target_encoder.fit(cars_train[categorial_columns],cars_train['sellingprice'])\n",
    "\n",
    "train_1[categorial_columns] = target_encoder.transform(train_1[categorial_columns])\n",
    "valid_1[categorial_columns] = target_encoder.transform(valid_1[categorial_columns])\n",
    "\n",
    "test_1[categorial_columns] = target_encoder.transform(test_1[categorial_columns])\n",
    "\n",
    "#train_2[categorial_columns] = target_encoder.transform(train_2[categorial_columns])\n",
    "#valid_2[categorial_columns] = target_encoder.transform(valid_2[categorial_columns])\n",
    "\n",
    "#test_2[categorial_columns] = target_encoder.transform(test_2[categorial_columns])\n",
    "\n",
    "train_3[categorial_columns] = target_encoder.transform(train_3[categorial_columns])\n",
    "valid_3[categorial_columns] = target_encoder.transform(valid_3[categorial_columns])\n",
    "\n",
    "test_3[categorial_columns] = target_encoder.transform(test_3[categorial_columns])\n",
    "\n",
    "train_4[categorial_columns] = target_encoder.transform(train_4[categorial_columns])\n",
    "valid_4[categorial_columns] = target_encoder.transform(valid_4[categorial_columns])\n",
    "\n",
    "test_4[categorial_columns] = target_encoder.transform(test_4[categorial_columns])"
   ]
  },
  {
   "cell_type": "code",
   "execution_count": 32,
   "id": "b5411c04",
   "metadata": {},
   "outputs": [],
   "source": [
    "X_train_1 = train_1.drop('sellingprice', axis=1)\n",
    "y_train_1 = train_1['sellingprice']\n",
    "\n",
    "X_valid_1 = valid_1.drop('sellingprice', axis=1)\n",
    "y_valid_1 = valid_1['sellingprice']"
   ]
  },
  {
   "cell_type": "code",
   "execution_count": 33,
   "id": "94db9810",
   "metadata": {},
   "outputs": [],
   "source": [
    "#X_train_2 = train_2.drop('sellingprice', axis=1)\n",
    "#y_train_2 = train_2['sellingprice']\n",
    "\n",
    "#X_valid_2 = valid_2.drop('sellingprice', axis=1)\n",
    "#y_valid_2 = valid_2['sellingprice']"
   ]
  },
  {
   "cell_type": "code",
   "execution_count": 34,
   "id": "fc0b484d",
   "metadata": {},
   "outputs": [],
   "source": [
    "X_train_3 = train_3.drop('sellingprice', axis=1)\n",
    "y_train_3 = train_3['sellingprice']\n",
    "\n",
    "X_valid_3 = valid_3.drop('sellingprice', axis=1)\n",
    "y_valid_3 = valid_3['sellingprice']"
   ]
  },
  {
   "cell_type": "code",
   "execution_count": 35,
   "id": "de5f2e07",
   "metadata": {},
   "outputs": [],
   "source": [
    "X_train_4 = train_4.drop('sellingprice', axis=1)\n",
    "y_train_4 = train_4['sellingprice']\n",
    "\n",
    "X_valid_4 = valid_4.drop('sellingprice', axis=1)\n",
    "y_valid_4 = valid_4['sellingprice']"
   ]
  },
  {
   "cell_type": "code",
   "execution_count": 36,
   "id": "e7e089c9",
   "metadata": {},
   "outputs": [],
   "source": [
    "def test_model(model, features_train, features_test, target_train, target_test):\n",
    "    \n",
    "    fit_start_time = time.time()\n",
    "    model.fit(features_train, target_train)\n",
    "    fit_end_time = time.time()\n",
    "    \n",
    "    predict_start_time = time.time()\n",
    "    predict = model.predict(features_test)\n",
    "    predict_end_time = time.time()\n",
    "    \n",
    "    print('Время на обучение:', fit_end_time - fit_start_time)\n",
    "    print('Время на прогноз:', predict_end_time - predict_start_time)\n",
    "    print('MAPE на валидационной выборке:', mean_absolute_percentage_error(target_test, predict))"
   ]
  },
  {
   "cell_type": "code",
   "execution_count": null,
   "id": "39983101",
   "metadata": {},
   "outputs": [],
   "source": []
  },
  {
   "cell_type": "code",
   "execution_count": 37,
   "id": "41665a71",
   "metadata": {},
   "outputs": [
    {
     "name": "stdout",
     "output_type": "stream",
     "text": [
      "Время на обучение: 2.993382215499878\n",
      "Время на прогноз: 0.0052068233489990234\n",
      "MAPE на валидационной выборке: 0.6867124185360741\n",
      "learning_rate= 0.5\n"
     ]
    }
   ],
   "source": [
    "rate = 0.5\n",
    "model_1 = CatBoostRegressor(verbose=False, learning_rate=rate)\n",
    "test_model(model_1, X_train_1, X_valid_1, y_train_1, y_valid_1)\n",
    "print('learning_rate=',rate)"
   ]
  },
  {
   "cell_type": "code",
   "execution_count": 38,
   "id": "40462ece",
   "metadata": {},
   "outputs": [],
   "source": [
    "#rate = 0.5\n",
    "#model_2 = CatBoostRegressor(verbose=False, learning_rate=rate)\n",
    "#test_model(model_2, X_train_2, X_valid_2, y_train_2, y_valid_2)\n",
    "#print('learning_rate=',rate)"
   ]
  },
  {
   "cell_type": "code",
   "execution_count": 39,
   "id": "ebe960ed",
   "metadata": {},
   "outputs": [
    {
     "name": "stdout",
     "output_type": "stream",
     "text": [
      "Время на обучение: 7.650482177734375\n",
      "Время на прогноз: 0.004996299743652344\n",
      "MAPE на валидационной выборке: 0.10324053974402357\n",
      "learning_rate= 0.5\n"
     ]
    }
   ],
   "source": [
    "rate = 0.5\n",
    "model_3 = CatBoostRegressor(verbose=False, learning_rate=rate)\n",
    "test_model(model_3, X_train_3, X_valid_3, y_train_3, y_valid_3)\n",
    "print('learning_rate=',rate)"
   ]
  },
  {
   "cell_type": "code",
   "execution_count": 40,
   "id": "f6d2808e",
   "metadata": {},
   "outputs": [
    {
     "name": "stdout",
     "output_type": "stream",
     "text": [
      "Время на обучение: 36.72625708580017\n",
      "Время на прогноз: 0.012990474700927734\n",
      "MAPE на валидационной выборке: 0.15006971940421757\n",
      "learning_rate= 0.5\n"
     ]
    }
   ],
   "source": [
    "rate = 0.5\n",
    "model_4 = CatBoostRegressor(verbose=False, learning_rate=rate)\n",
    "test_model(model_4, X_train_4, X_valid_4, y_train_4, y_valid_4)\n",
    "print('learning_rate=',rate)"
   ]
  },
  {
   "cell_type": "code",
   "execution_count": 41,
   "id": "c8480a47",
   "metadata": {},
   "outputs": [],
   "source": [
    "vin_test_1 = test_1['vin']\n",
    "X_test_1 = test_1.drop('vin', axis=1)\n",
    "\n",
    "#vin_test_2 = test_2['vin']\n",
    "#X_test_2 = test_2.drop('vin', axis=1)\n",
    "\n",
    "vin_test_3 = test_3['vin']\n",
    "X_test_3 = test_3.drop('vin', axis=1)\n",
    "\n",
    "vin_test_4 = test_4['vin']\n",
    "X_test_4 = test_4.drop('vin', axis=1)\n",
    " \n",
    "\n"
   ]
  },
  {
   "cell_type": "code",
   "execution_count": 42,
   "id": "343db459",
   "metadata": {},
   "outputs": [],
   "source": [
    "predict_1 = model_1.predict(X_test_1)\n",
    "#predict_2 = model_2.predict(X_test_2)\n",
    "predict_3 = model_3.predict(X_test_3)\n",
    "predict_4 = model_4.predict(X_test_4)"
   ]
  },
  {
   "cell_type": "code",
   "execution_count": 43,
   "id": "3cd6ea41",
   "metadata": {},
   "outputs": [],
   "source": [
    "sub_1 = pd.DataFrame()\n",
    "sub_1['vin'] = vin_test_1\n",
    "sub_1['sellingprice'] = predict_1\n",
    "sub_1.loc[sub_1['sellingprice']<=400,'sellingprice'] = 400\n",
    "#sub_2 = pd.DataFrame()\n",
    "#sub_2['vin'] = vin_test_2\n",
    "#sub_2['sellingprice'] = predict_2\n",
    "\n",
    "sub_3 = pd.DataFrame()\n",
    "sub_3['vin'] = vin_test_3\n",
    "sub_3['sellingprice'] = predict_3\n",
    "sub_3.loc[sub_3['sellingprice']<=400,'sellingprice'] = 400\n",
    "\n",
    "sub_4 = pd.DataFrame()\n",
    "sub_4['vin'] = vin_test_4\n",
    "sub_4['sellingprice'] = predict_4\n",
    "sub_4.loc[sub_4['sellingprice']<=400,'sellingprice'] = 400"
   ]
  },
  {
   "cell_type": "code",
   "execution_count": 44,
   "id": "a96554a3",
   "metadata": {},
   "outputs": [],
   "source": [
    "submission = pd.concat([sub_1,sub_3,sub_4])"
   ]
  },
  {
   "cell_type": "code",
   "execution_count": 45,
   "id": "8d17f1b1",
   "metadata": {},
   "outputs": [],
   "source": [
    "submission.to_csv('C:/ya_pr/car_price_pred/submission2.csv', sep=',', index=False)"
   ]
  }
 ],
 "metadata": {
  "kernelspec": {
   "display_name": "Python 3 (ipykernel)",
   "language": "python",
   "name": "python3"
  },
  "language_info": {
   "codemirror_mode": {
    "name": "ipython",
    "version": 3
   },
   "file_extension": ".py",
   "mimetype": "text/x-python",
   "name": "python",
   "nbconvert_exporter": "python",
   "pygments_lexer": "ipython3",
   "version": "3.9.13"
  }
 },
 "nbformat": 4,
 "nbformat_minor": 5
}
