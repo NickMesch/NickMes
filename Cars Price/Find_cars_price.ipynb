{
 "cells": [
  {
   "cell_type": "markdown",
   "metadata": {},
   "source": [
    "# Определение стоимости автомобилей"
   ]
  },
  {
   "cell_type": "markdown",
   "metadata": {},
   "source": [
    "Сервис по продаже автомобилей с пробегом разрабатывает приложение для привлечения новых клиентов. В нём можно быстро узнать рыночную стоимость своего автомобиля. В вашем распоряжении исторические данные: технические характеристики, комплектации и цены автомобилей. Вам нужно построить модель для определения стоимости. \n",
    "\n",
    "Заказчику важны:\n",
    "\n",
    "- качество предсказания;\n",
    "- скорость предсказания;\n",
    "- время обучения."
   ]
  },
  {
   "cell_type": "markdown",
   "metadata": {},
   "source": [
    "**ПЛАН**\n",
    "\n",
    "1. Подготовка данных\n",
    "\n",
    "  1.1 Обзор данных\n",
    "\n",
    "  1.2 Обработка признаков\n",
    "\n",
    "  1.3 Кодирование категориальных признаков\n",
    "  \n",
    "\n",
    "2. Обучение моделей\n",
    "\n",
    "  2.1 Линейная регрессия\n",
    "\n",
    "  2.2 RandomForestRegressor\n",
    "\n",
    "  2.3 Градиентный бустинг LightGBM\n",
    "\n",
    "  2.4 Градиентный бустинг CatBoost\n",
    "\n",
    "\n",
    "3. Анализ результатов"
   ]
  },
  {
   "cell_type": "markdown",
   "metadata": {},
   "source": [
    "## Подготовка данных"
   ]
  },
  {
   "cell_type": "code",
   "execution_count": 1,
   "metadata": {},
   "outputs": [
    {
     "name": "stdout",
     "output_type": "stream",
     "text": [
      "Defaulting to user installation because normal site-packages is not writeable\n",
      "Requirement already satisfied: category_encoders in c:\\users\\korchakmv\\appdata\\roaming\\python\\python39\\site-packages (2.6.1)\n",
      "Requirement already satisfied: scipy>=1.0.0 in c:\\programdata\\anaconda3\\lib\\site-packages (from category_encoders) (1.9.1)\n",
      "Requirement already satisfied: pandas>=1.0.5 in c:\\programdata\\anaconda3\\lib\\site-packages (from category_encoders) (1.4.4)\n",
      "Requirement already satisfied: patsy>=0.5.1 in c:\\programdata\\anaconda3\\lib\\site-packages (from category_encoders) (0.5.2)\n",
      "Requirement already satisfied: numpy>=1.14.0 in c:\\programdata\\anaconda3\\lib\\site-packages (from category_encoders) (1.21.5)\n",
      "Requirement already satisfied: statsmodels>=0.9.0 in c:\\programdata\\anaconda3\\lib\\site-packages (from category_encoders) (0.13.2)\n",
      "Requirement already satisfied: scikit-learn>=0.20.0 in c:\\programdata\\anaconda3\\lib\\site-packages (from category_encoders) (1.0.2)\n",
      "Requirement already satisfied: pytz>=2020.1 in c:\\programdata\\anaconda3\\lib\\site-packages (from pandas>=1.0.5->category_encoders) (2022.1)\n",
      "Requirement already satisfied: python-dateutil>=2.8.1 in c:\\programdata\\anaconda3\\lib\\site-packages (from pandas>=1.0.5->category_encoders) (2.8.2)\n",
      "Requirement already satisfied: six in c:\\programdata\\anaconda3\\lib\\site-packages (from patsy>=0.5.1->category_encoders) (1.16.0)\n",
      "Requirement already satisfied: joblib>=0.11 in c:\\programdata\\anaconda3\\lib\\site-packages (from scikit-learn>=0.20.0->category_encoders) (1.1.0)\n",
      "Requirement already satisfied: threadpoolctl>=2.0.0 in c:\\programdata\\anaconda3\\lib\\site-packages (from scikit-learn>=0.20.0->category_encoders) (2.2.0)\n",
      "Requirement already satisfied: packaging>=21.3 in c:\\programdata\\anaconda3\\lib\\site-packages (from statsmodels>=0.9.0->category_encoders) (21.3)\n",
      "Requirement already satisfied: pyparsing!=3.0.5,>=2.0.2 in c:\\programdata\\anaconda3\\lib\\site-packages (from packaging>=21.3->statsmodels>=0.9.0->category_encoders) (3.0.9)\n"
     ]
    }
   ],
   "source": [
    "! pip install category_encoders\n",
    "\n",
    "import pandas as pd\n",
    "import matplotlib.pyplot as plt\n",
    "import seaborn as sns\n",
    "import time\n",
    "import warnings\n",
    "warnings.filterwarnings('ignore')\n",
    "\n",
    "\n",
    "from sklearn.ensemble import RandomForestRegressor\n",
    "from sklearn.linear_model import LinearRegression\n",
    "from sklearn.model_selection import train_test_split\n",
    "from sklearn.metrics import mean_squared_error\n",
    "\n",
    "from category_encoders import TargetEncoder\n",
    "\n",
    "from catboost import CatBoostRegressor\n",
    "from lightgbm import LGBMRegressor"
   ]
  },
  {
   "cell_type": "code",
   "execution_count": 2,
   "metadata": {},
   "outputs": [],
   "source": [
    "try:\n",
    "    cars = pd.read_csv('C:/ya_pr/autos/autos.csv')\n",
    "except:\n",
    "    cars = pd.read_csv('/datasets/autos.csv')\n",
    "    "
   ]
  },
  {
   "cell_type": "markdown",
   "metadata": {},
   "source": [
    "### Обзор данных\n",
    "\n",
    "Посмотрим на общую информацию о датасете:"
   ]
  },
  {
   "cell_type": "code",
   "execution_count": 3,
   "metadata": {},
   "outputs": [
    {
     "name": "stdout",
     "output_type": "stream",
     "text": [
      "<class 'pandas.core.frame.DataFrame'>\n",
      "RangeIndex: 354369 entries, 0 to 354368\n",
      "Data columns (total 16 columns):\n",
      " #   Column             Non-Null Count   Dtype \n",
      "---  ------             --------------   ----- \n",
      " 0   DateCrawled        354369 non-null  object\n",
      " 1   Price              354369 non-null  int64 \n",
      " 2   VehicleType        316879 non-null  object\n",
      " 3   RegistrationYear   354369 non-null  int64 \n",
      " 4   Gearbox            334536 non-null  object\n",
      " 5   Power              354369 non-null  int64 \n",
      " 6   Model              334664 non-null  object\n",
      " 7   Kilometer          354369 non-null  int64 \n",
      " 8   RegistrationMonth  354369 non-null  int64 \n",
      " 9   FuelType           321474 non-null  object\n",
      " 10  Brand              354369 non-null  object\n",
      " 11  Repaired           283215 non-null  object\n",
      " 12  DateCreated        354369 non-null  object\n",
      " 13  NumberOfPictures   354369 non-null  int64 \n",
      " 14  PostalCode         354369 non-null  int64 \n",
      " 15  LastSeen           354369 non-null  object\n",
      "dtypes: int64(7), object(9)\n",
      "memory usage: 43.3+ MB\n"
     ]
    }
   ],
   "source": [
    "cars.info()"
   ]
  },
  {
   "cell_type": "code",
   "execution_count": 4,
   "metadata": {},
   "outputs": [
    {
     "data": {
      "text/html": [
       "<div>\n",
       "<style scoped>\n",
       "    .dataframe tbody tr th:only-of-type {\n",
       "        vertical-align: middle;\n",
       "    }\n",
       "\n",
       "    .dataframe tbody tr th {\n",
       "        vertical-align: top;\n",
       "    }\n",
       "\n",
       "    .dataframe thead th {\n",
       "        text-align: right;\n",
       "    }\n",
       "</style>\n",
       "<table border=\"1\" class=\"dataframe\">\n",
       "  <thead>\n",
       "    <tr style=\"text-align: right;\">\n",
       "      <th></th>\n",
       "      <th>DateCrawled</th>\n",
       "      <th>Price</th>\n",
       "      <th>VehicleType</th>\n",
       "      <th>RegistrationYear</th>\n",
       "      <th>Gearbox</th>\n",
       "      <th>Power</th>\n",
       "      <th>Model</th>\n",
       "      <th>Kilometer</th>\n",
       "      <th>RegistrationMonth</th>\n",
       "      <th>FuelType</th>\n",
       "      <th>Brand</th>\n",
       "      <th>Repaired</th>\n",
       "      <th>DateCreated</th>\n",
       "      <th>NumberOfPictures</th>\n",
       "      <th>PostalCode</th>\n",
       "      <th>LastSeen</th>\n",
       "    </tr>\n",
       "  </thead>\n",
       "  <tbody>\n",
       "    <tr>\n",
       "      <th>0</th>\n",
       "      <td>2016-03-24 11:52:17</td>\n",
       "      <td>480</td>\n",
       "      <td>NaN</td>\n",
       "      <td>1993</td>\n",
       "      <td>manual</td>\n",
       "      <td>0</td>\n",
       "      <td>golf</td>\n",
       "      <td>150000</td>\n",
       "      <td>0</td>\n",
       "      <td>petrol</td>\n",
       "      <td>volkswagen</td>\n",
       "      <td>NaN</td>\n",
       "      <td>2016-03-24 00:00:00</td>\n",
       "      <td>0</td>\n",
       "      <td>70435</td>\n",
       "      <td>2016-04-07 03:16:57</td>\n",
       "    </tr>\n",
       "    <tr>\n",
       "      <th>1</th>\n",
       "      <td>2016-03-24 10:58:45</td>\n",
       "      <td>18300</td>\n",
       "      <td>coupe</td>\n",
       "      <td>2011</td>\n",
       "      <td>manual</td>\n",
       "      <td>190</td>\n",
       "      <td>NaN</td>\n",
       "      <td>125000</td>\n",
       "      <td>5</td>\n",
       "      <td>gasoline</td>\n",
       "      <td>audi</td>\n",
       "      <td>yes</td>\n",
       "      <td>2016-03-24 00:00:00</td>\n",
       "      <td>0</td>\n",
       "      <td>66954</td>\n",
       "      <td>2016-04-07 01:46:50</td>\n",
       "    </tr>\n",
       "    <tr>\n",
       "      <th>2</th>\n",
       "      <td>2016-03-14 12:52:21</td>\n",
       "      <td>9800</td>\n",
       "      <td>suv</td>\n",
       "      <td>2004</td>\n",
       "      <td>auto</td>\n",
       "      <td>163</td>\n",
       "      <td>grand</td>\n",
       "      <td>125000</td>\n",
       "      <td>8</td>\n",
       "      <td>gasoline</td>\n",
       "      <td>jeep</td>\n",
       "      <td>NaN</td>\n",
       "      <td>2016-03-14 00:00:00</td>\n",
       "      <td>0</td>\n",
       "      <td>90480</td>\n",
       "      <td>2016-04-05 12:47:46</td>\n",
       "    </tr>\n",
       "    <tr>\n",
       "      <th>3</th>\n",
       "      <td>2016-03-17 16:54:04</td>\n",
       "      <td>1500</td>\n",
       "      <td>small</td>\n",
       "      <td>2001</td>\n",
       "      <td>manual</td>\n",
       "      <td>75</td>\n",
       "      <td>golf</td>\n",
       "      <td>150000</td>\n",
       "      <td>6</td>\n",
       "      <td>petrol</td>\n",
       "      <td>volkswagen</td>\n",
       "      <td>no</td>\n",
       "      <td>2016-03-17 00:00:00</td>\n",
       "      <td>0</td>\n",
       "      <td>91074</td>\n",
       "      <td>2016-03-17 17:40:17</td>\n",
       "    </tr>\n",
       "    <tr>\n",
       "      <th>4</th>\n",
       "      <td>2016-03-31 17:25:20</td>\n",
       "      <td>3600</td>\n",
       "      <td>small</td>\n",
       "      <td>2008</td>\n",
       "      <td>manual</td>\n",
       "      <td>69</td>\n",
       "      <td>fabia</td>\n",
       "      <td>90000</td>\n",
       "      <td>7</td>\n",
       "      <td>gasoline</td>\n",
       "      <td>skoda</td>\n",
       "      <td>no</td>\n",
       "      <td>2016-03-31 00:00:00</td>\n",
       "      <td>0</td>\n",
       "      <td>60437</td>\n",
       "      <td>2016-04-06 10:17:21</td>\n",
       "    </tr>\n",
       "    <tr>\n",
       "      <th>5</th>\n",
       "      <td>2016-04-04 17:36:23</td>\n",
       "      <td>650</td>\n",
       "      <td>sedan</td>\n",
       "      <td>1995</td>\n",
       "      <td>manual</td>\n",
       "      <td>102</td>\n",
       "      <td>3er</td>\n",
       "      <td>150000</td>\n",
       "      <td>10</td>\n",
       "      <td>petrol</td>\n",
       "      <td>bmw</td>\n",
       "      <td>yes</td>\n",
       "      <td>2016-04-04 00:00:00</td>\n",
       "      <td>0</td>\n",
       "      <td>33775</td>\n",
       "      <td>2016-04-06 19:17:07</td>\n",
       "    </tr>\n",
       "    <tr>\n",
       "      <th>6</th>\n",
       "      <td>2016-04-01 20:48:51</td>\n",
       "      <td>2200</td>\n",
       "      <td>convertible</td>\n",
       "      <td>2004</td>\n",
       "      <td>manual</td>\n",
       "      <td>109</td>\n",
       "      <td>2_reihe</td>\n",
       "      <td>150000</td>\n",
       "      <td>8</td>\n",
       "      <td>petrol</td>\n",
       "      <td>peugeot</td>\n",
       "      <td>no</td>\n",
       "      <td>2016-04-01 00:00:00</td>\n",
       "      <td>0</td>\n",
       "      <td>67112</td>\n",
       "      <td>2016-04-05 18:18:39</td>\n",
       "    </tr>\n",
       "    <tr>\n",
       "      <th>7</th>\n",
       "      <td>2016-03-21 18:54:38</td>\n",
       "      <td>0</td>\n",
       "      <td>sedan</td>\n",
       "      <td>1980</td>\n",
       "      <td>manual</td>\n",
       "      <td>50</td>\n",
       "      <td>other</td>\n",
       "      <td>40000</td>\n",
       "      <td>7</td>\n",
       "      <td>petrol</td>\n",
       "      <td>volkswagen</td>\n",
       "      <td>no</td>\n",
       "      <td>2016-03-21 00:00:00</td>\n",
       "      <td>0</td>\n",
       "      <td>19348</td>\n",
       "      <td>2016-03-25 16:47:58</td>\n",
       "    </tr>\n",
       "    <tr>\n",
       "      <th>8</th>\n",
       "      <td>2016-04-04 23:42:13</td>\n",
       "      <td>14500</td>\n",
       "      <td>bus</td>\n",
       "      <td>2014</td>\n",
       "      <td>manual</td>\n",
       "      <td>125</td>\n",
       "      <td>c_max</td>\n",
       "      <td>30000</td>\n",
       "      <td>8</td>\n",
       "      <td>petrol</td>\n",
       "      <td>ford</td>\n",
       "      <td>NaN</td>\n",
       "      <td>2016-04-04 00:00:00</td>\n",
       "      <td>0</td>\n",
       "      <td>94505</td>\n",
       "      <td>2016-04-04 23:42:13</td>\n",
       "    </tr>\n",
       "    <tr>\n",
       "      <th>9</th>\n",
       "      <td>2016-03-17 10:53:50</td>\n",
       "      <td>999</td>\n",
       "      <td>small</td>\n",
       "      <td>1998</td>\n",
       "      <td>manual</td>\n",
       "      <td>101</td>\n",
       "      <td>golf</td>\n",
       "      <td>150000</td>\n",
       "      <td>0</td>\n",
       "      <td>NaN</td>\n",
       "      <td>volkswagen</td>\n",
       "      <td>NaN</td>\n",
       "      <td>2016-03-17 00:00:00</td>\n",
       "      <td>0</td>\n",
       "      <td>27472</td>\n",
       "      <td>2016-03-31 17:17:06</td>\n",
       "    </tr>\n",
       "  </tbody>\n",
       "</table>\n",
       "</div>"
      ],
      "text/plain": [
       "           DateCrawled  Price  VehicleType  RegistrationYear Gearbox  Power  \\\n",
       "0  2016-03-24 11:52:17    480          NaN              1993  manual      0   \n",
       "1  2016-03-24 10:58:45  18300        coupe              2011  manual    190   \n",
       "2  2016-03-14 12:52:21   9800          suv              2004    auto    163   \n",
       "3  2016-03-17 16:54:04   1500        small              2001  manual     75   \n",
       "4  2016-03-31 17:25:20   3600        small              2008  manual     69   \n",
       "5  2016-04-04 17:36:23    650        sedan              1995  manual    102   \n",
       "6  2016-04-01 20:48:51   2200  convertible              2004  manual    109   \n",
       "7  2016-03-21 18:54:38      0        sedan              1980  manual     50   \n",
       "8  2016-04-04 23:42:13  14500          bus              2014  manual    125   \n",
       "9  2016-03-17 10:53:50    999        small              1998  manual    101   \n",
       "\n",
       "     Model  Kilometer  RegistrationMonth  FuelType       Brand Repaired  \\\n",
       "0     golf     150000                  0    petrol  volkswagen      NaN   \n",
       "1      NaN     125000                  5  gasoline        audi      yes   \n",
       "2    grand     125000                  8  gasoline        jeep      NaN   \n",
       "3     golf     150000                  6    petrol  volkswagen       no   \n",
       "4    fabia      90000                  7  gasoline       skoda       no   \n",
       "5      3er     150000                 10    petrol         bmw      yes   \n",
       "6  2_reihe     150000                  8    petrol     peugeot       no   \n",
       "7    other      40000                  7    petrol  volkswagen       no   \n",
       "8    c_max      30000                  8    petrol        ford      NaN   \n",
       "9     golf     150000                  0       NaN  volkswagen      NaN   \n",
       "\n",
       "           DateCreated  NumberOfPictures  PostalCode             LastSeen  \n",
       "0  2016-03-24 00:00:00                 0       70435  2016-04-07 03:16:57  \n",
       "1  2016-03-24 00:00:00                 0       66954  2016-04-07 01:46:50  \n",
       "2  2016-03-14 00:00:00                 0       90480  2016-04-05 12:47:46  \n",
       "3  2016-03-17 00:00:00                 0       91074  2016-03-17 17:40:17  \n",
       "4  2016-03-31 00:00:00                 0       60437  2016-04-06 10:17:21  \n",
       "5  2016-04-04 00:00:00                 0       33775  2016-04-06 19:17:07  \n",
       "6  2016-04-01 00:00:00                 0       67112  2016-04-05 18:18:39  \n",
       "7  2016-03-21 00:00:00                 0       19348  2016-03-25 16:47:58  \n",
       "8  2016-04-04 00:00:00                 0       94505  2016-04-04 23:42:13  \n",
       "9  2016-03-17 00:00:00                 0       27472  2016-03-31 17:17:06  "
      ]
     },
     "execution_count": 4,
     "metadata": {},
     "output_type": "execute_result"
    }
   ],
   "source": [
    "cars.head(10)"
   ]
  },
  {
   "cell_type": "code",
   "execution_count": 5,
   "metadata": {},
   "outputs": [
    {
     "data": {
      "text/html": [
       "<div>\n",
       "<style scoped>\n",
       "    .dataframe tbody tr th:only-of-type {\n",
       "        vertical-align: middle;\n",
       "    }\n",
       "\n",
       "    .dataframe tbody tr th {\n",
       "        vertical-align: top;\n",
       "    }\n",
       "\n",
       "    .dataframe thead th {\n",
       "        text-align: right;\n",
       "    }\n",
       "</style>\n",
       "<table border=\"1\" class=\"dataframe\">\n",
       "  <thead>\n",
       "    <tr style=\"text-align: right;\">\n",
       "      <th></th>\n",
       "      <th>Price</th>\n",
       "      <th>RegistrationYear</th>\n",
       "      <th>Power</th>\n",
       "      <th>Kilometer</th>\n",
       "      <th>RegistrationMonth</th>\n",
       "      <th>NumberOfPictures</th>\n",
       "      <th>PostalCode</th>\n",
       "    </tr>\n",
       "  </thead>\n",
       "  <tbody>\n",
       "    <tr>\n",
       "      <th>count</th>\n",
       "      <td>354369.000000</td>\n",
       "      <td>354369.000000</td>\n",
       "      <td>354369.000000</td>\n",
       "      <td>354369.000000</td>\n",
       "      <td>354369.000000</td>\n",
       "      <td>354369.0</td>\n",
       "      <td>354369.000000</td>\n",
       "    </tr>\n",
       "    <tr>\n",
       "      <th>mean</th>\n",
       "      <td>4416.656776</td>\n",
       "      <td>2004.234448</td>\n",
       "      <td>110.094337</td>\n",
       "      <td>128211.172535</td>\n",
       "      <td>5.714645</td>\n",
       "      <td>0.0</td>\n",
       "      <td>50508.689087</td>\n",
       "    </tr>\n",
       "    <tr>\n",
       "      <th>std</th>\n",
       "      <td>4514.158514</td>\n",
       "      <td>90.227958</td>\n",
       "      <td>189.850405</td>\n",
       "      <td>37905.341530</td>\n",
       "      <td>3.726421</td>\n",
       "      <td>0.0</td>\n",
       "      <td>25783.096248</td>\n",
       "    </tr>\n",
       "    <tr>\n",
       "      <th>min</th>\n",
       "      <td>0.000000</td>\n",
       "      <td>1000.000000</td>\n",
       "      <td>0.000000</td>\n",
       "      <td>5000.000000</td>\n",
       "      <td>0.000000</td>\n",
       "      <td>0.0</td>\n",
       "      <td>1067.000000</td>\n",
       "    </tr>\n",
       "    <tr>\n",
       "      <th>25%</th>\n",
       "      <td>1050.000000</td>\n",
       "      <td>1999.000000</td>\n",
       "      <td>69.000000</td>\n",
       "      <td>125000.000000</td>\n",
       "      <td>3.000000</td>\n",
       "      <td>0.0</td>\n",
       "      <td>30165.000000</td>\n",
       "    </tr>\n",
       "    <tr>\n",
       "      <th>50%</th>\n",
       "      <td>2700.000000</td>\n",
       "      <td>2003.000000</td>\n",
       "      <td>105.000000</td>\n",
       "      <td>150000.000000</td>\n",
       "      <td>6.000000</td>\n",
       "      <td>0.0</td>\n",
       "      <td>49413.000000</td>\n",
       "    </tr>\n",
       "    <tr>\n",
       "      <th>75%</th>\n",
       "      <td>6400.000000</td>\n",
       "      <td>2008.000000</td>\n",
       "      <td>143.000000</td>\n",
       "      <td>150000.000000</td>\n",
       "      <td>9.000000</td>\n",
       "      <td>0.0</td>\n",
       "      <td>71083.000000</td>\n",
       "    </tr>\n",
       "    <tr>\n",
       "      <th>max</th>\n",
       "      <td>20000.000000</td>\n",
       "      <td>9999.000000</td>\n",
       "      <td>20000.000000</td>\n",
       "      <td>150000.000000</td>\n",
       "      <td>12.000000</td>\n",
       "      <td>0.0</td>\n",
       "      <td>99998.000000</td>\n",
       "    </tr>\n",
       "  </tbody>\n",
       "</table>\n",
       "</div>"
      ],
      "text/plain": [
       "               Price  RegistrationYear          Power      Kilometer  \\\n",
       "count  354369.000000     354369.000000  354369.000000  354369.000000   \n",
       "mean     4416.656776       2004.234448     110.094337  128211.172535   \n",
       "std      4514.158514         90.227958     189.850405   37905.341530   \n",
       "min         0.000000       1000.000000       0.000000    5000.000000   \n",
       "25%      1050.000000       1999.000000      69.000000  125000.000000   \n",
       "50%      2700.000000       2003.000000     105.000000  150000.000000   \n",
       "75%      6400.000000       2008.000000     143.000000  150000.000000   \n",
       "max     20000.000000       9999.000000   20000.000000  150000.000000   \n",
       "\n",
       "       RegistrationMonth  NumberOfPictures     PostalCode  \n",
       "count      354369.000000          354369.0  354369.000000  \n",
       "mean            5.714645               0.0   50508.689087  \n",
       "std             3.726421               0.0   25783.096248  \n",
       "min             0.000000               0.0    1067.000000  \n",
       "25%             3.000000               0.0   30165.000000  \n",
       "50%             6.000000               0.0   49413.000000  \n",
       "75%             9.000000               0.0   71083.000000  \n",
       "max            12.000000               0.0   99998.000000  "
      ]
     },
     "execution_count": 5,
     "metadata": {},
     "output_type": "execute_result"
    }
   ],
   "source": [
    "cars.describe()"
   ]
  },
  {
   "cell_type": "code",
   "execution_count": 6,
   "metadata": {},
   "outputs": [
    {
     "data": {
      "text/plain": [
       "4"
      ]
     },
     "execution_count": 6,
     "metadata": {},
     "output_type": "execute_result"
    }
   ],
   "source": [
    "cars.duplicated().sum()"
   ]
  },
  {
   "cell_type": "markdown",
   "metadata": {},
   "source": [
    "Дубликатов почти нет. "
   ]
  },
  {
   "cell_type": "code",
   "execution_count": 7,
   "metadata": {},
   "outputs": [],
   "source": [
    "num_features = ['Price','Power','Kilometer','RegistrationYear','RegistrationMonth']"
   ]
  },
  {
   "cell_type": "code",
   "execution_count": 8,
   "metadata": {
    "scrolled": false
   },
   "outputs": [
    {
     "data": {
      "image/png": "[encoded data removed]",
      "text/plain": [
       "<Figure size 1800x500 with 2 Axes>"
      ]
     },
     "metadata": {},
     "output_type": "display_data"
    },
    {
     "data": {
      "image/png": "[encoded data removed]",
      "text/plain": [
       "<Figure size 1800x500 with 2 Axes>"
      ]
     },
     "metadata": {},
     "output_type": "display_data"
    },
    {
     "data": {
      "image/png": "[encoded data removed]",
      "text/plain": [
       "<Figure size 1800x500 with 2 Axes>"
      ]
     },
     "metadata": {},
     "output_type": "display_data"
    },
    {
     "data": {
      "image/png": "[encoded data removed]",
      "text/plain": [
       "<Figure size 1800x500 with 2 Axes>"
      ]
     },
     "metadata": {},
     "output_type": "display_data"
    },
    {
     "data": {
      "image/png": "[encoded data removed]",
      "text/plain": [
       "<Figure size 1800x500 with 2 Axes>"
      ]
     },
     "metadata": {},
     "output_type": "display_data"
    }
   ],
   "source": [
    "for col in num_features:\n",
    "    fig,axes = plt.subplots(1, 2, figsize=(18,5))\n",
    "    axes[0].set_title('Распределение значений показателя: ' + col)\n",
    "    axes[0].set(xlabel=col, ylabel='Плотность')\n",
    "    axes[1].set(xlabel=col, ylabel='Гистограмма')\n",
    "    sns.boxplot(cars[col],ax=axes[0])\n",
    "    sns.histplot(cars[col],ax=axes[1])\n",
    "    plt.show()"
   ]
  },
  {
   "cell_type": "markdown",
   "metadata": {},
   "source": [
    "### Обработка признаков"
   ]
  },
  {
   "cell_type": "markdown",
   "metadata": {},
   "source": [
    "**DateCrawled, DateCreated, LastSeen** - в датасете есть три даты - полезная информация (год и сезон, когда был продан автомобиль) - одна и та же.\n",
    "\n",
    "переведем в формат дат. \n",
    "Вероятно столбцы DateCrawled, DateCreated дублируют друг друга с точностью до дня (время скачивания анкеты не имеет никакого значения)."
   ]
  },
  {
   "cell_type": "code",
   "execution_count": 9,
   "metadata": {},
   "outputs": [],
   "source": [
    "cars['DateCrawled'] = pd.to_datetime(cars['DateCrawled']).dt.date\n",
    "cars['DateCreated'] = pd.to_datetime(cars['DateCreated']).dt.date\n",
    "cars['LastSeen'] = pd.to_datetime(cars['LastSeen']).dt.date"
   ]
  },
  {
   "cell_type": "code",
   "execution_count": 10,
   "metadata": {},
   "outputs": [
    {
     "data": {
      "text/plain": [
       "0 days     342585\n",
       "1 days      10273\n",
       "2 days        543\n",
       "3 days         85\n",
       "4 days         80\n",
       "6 days         77\n",
       "5 days         72\n",
       "7 days         65\n",
       "8 days         45\n",
       "15 days        41\n",
       "9 days         28\n",
       "10 days        28\n",
       "13 days        25\n",
       "14 days        22\n",
       "11 days        22\n",
       "12 days        21\n",
       "18 days        20\n",
       "16 days        18\n",
       "20 days        17\n",
       "19 days        16\n",
       "dtype: int64"
      ]
     },
     "execution_count": 10,
     "metadata": {},
     "output_type": "execute_result"
    }
   ],
   "source": [
    "(cars['DateCrawled'] - cars['DateCreated']).value_counts().head(20)"
   ]
  },
  {
   "cell_type": "markdown",
   "metadata": {},
   "source": [
    "Для 97% записей даты DateCreated и DateCrawled не отличаются, а для 99% разница составляет не более 2 дней. Удалим столбец DateCrawled (отметим, что предположительно дата скачивания анкеты вообще не должна влиять на цену):"
   ]
  },
  {
   "cell_type": "code",
   "execution_count": 11,
   "metadata": {},
   "outputs": [],
   "source": [
    "cars = cars.drop('DateCrawled',axis=1)"
   ]
  },
  {
   "cell_type": "markdown",
   "metadata": {},
   "source": [
    "Рассмотрм оставшуюся дату LastSeen - дата последней активности пользователя:"
   ]
  },
  {
   "cell_type": "code",
   "execution_count": 12,
   "metadata": {},
   "outputs": [
    {
     "name": "stdout",
     "output_type": "stream",
     "text": [
      "Самая ранняя дата последнего просмотра: 2016-03-05\n",
      "Самая поздняя дата последнего просмотра: 2016-04-07\n",
      "\n",
      "Самая ранняя дата создания анкеты: 2014-03-10\n",
      "Самая поздняя дата создания анкеты: 2016-04-07\n"
     ]
    }
   ],
   "source": [
    "print('Самая ранняя дата последнего просмотра:',cars['LastSeen'].min())\n",
    "print('Самая поздняя дата последнего просмотра:',cars['LastSeen'].max())\n",
    "print()\n",
    "print('Самая ранняя дата создания анкеты:',cars['DateCreated'].min())\n",
    "print('Самая поздняя дата создания анкеты:',cars['DateCreated'].max())"
   ]
  },
  {
   "cell_type": "markdown",
   "metadata": {},
   "source": [
    "Все даты последнего просмотра близки к максимальной дате создания анкеты, а максимальная дата последнего просмотра равна максимальной дате создания анкеты - видимо даты последнего просмотра не связаны с фактом продажи машины (скорее все анкеты регулярно просматриваются и даты последнего просмотра связаны с датой выгрузки данных). \n",
    "\n",
    "Следовательно эта дата не имеет значения для стоимости машины. Удалим этот столбец: "
   ]
  },
  {
   "cell_type": "code",
   "execution_count": 13,
   "metadata": {},
   "outputs": [],
   "source": [
    "cars = cars.drop('LastSeen',axis=1)"
   ]
  },
  {
   "cell_type": "code",
   "execution_count": 14,
   "metadata": {},
   "outputs": [],
   "source": [
    "cars['days_created'] = (cars['DateCreated'] - cars['DateCreated'].min()).dt.days"
   ]
  },
  {
   "cell_type": "code",
   "execution_count": 15,
   "metadata": {},
   "outputs": [],
   "source": [
    "cars = cars.drop('DateCreated',axis=1)"
   ]
  },
  {
   "cell_type": "markdown",
   "metadata": {},
   "source": [
    "**Price** — цена (евро):"
   ]
  },
  {
   "cell_type": "code",
   "execution_count": 16,
   "metadata": {},
   "outputs": [
    {
     "name": "stdout",
     "output_type": "stream",
     "text": [
      "Кол-во объявлений с нулевой ценой: 10772\n"
     ]
    }
   ],
   "source": [
    "print('Кол-во объявлений с нулевой ценой:',cars.loc[cars['Price'] == 0]['Price'].count())"
   ]
  },
  {
   "cell_type": "markdown",
   "metadata": {},
   "source": [
    "Вероятно это пропуски данных. Мы не можем восстановить эти данные. Удалим эти строки:"
   ]
  },
  {
   "cell_type": "code",
   "execution_count": 17,
   "metadata": {},
   "outputs": [],
   "source": [
    "cars = cars.loc[cars['Price'] != 0]"
   ]
  },
  {
   "cell_type": "markdown",
   "metadata": {},
   "source": [
    "**Model** и **VehicleType, Gearbox, FuelType, Power** - название модели и признаки характеризующие модель:"
   ]
  },
  {
   "cell_type": "code",
   "execution_count": 18,
   "metadata": {},
   "outputs": [
    {
     "name": "stdout",
     "output_type": "stream",
     "text": [
      "Кол-во объявлений, в которых не указана модель: 17521\n"
     ]
    }
   ],
   "source": [
    "print('Кол-во объявлений, в которых не указана модель:',cars.loc[cars['Model'].isna()]['Price'].count())"
   ]
  },
  {
   "cell_type": "markdown",
   "metadata": {},
   "source": [
    "Модель машины - один из важнейших признаков определяющих цену машины. Мы не можем восстановить эти пропуски. Удалим соответствующие строки:"
   ]
  },
  {
   "cell_type": "code",
   "execution_count": 19,
   "metadata": {},
   "outputs": [],
   "source": [
    "cars = cars.loc[~cars['Model'].isna()]"
   ]
  },
  {
   "cell_type": "code",
   "execution_count": 20,
   "metadata": {},
   "outputs": [
    {
     "name": "stdout",
     "output_type": "stream",
     "text": [
      "Кол-во объявлений, в которых не указан тип: 28166\n",
      "Кол-во объявлений, в которых не указан тип коробки передач: 14270\n",
      "Кол-во объявлений, в которых не указан тип топлива: 23551\n",
      "Кол-во объявлений, в которых не указана мощность: 0\n"
     ]
    }
   ],
   "source": [
    "print('Кол-во объявлений, в которых не указан тип:',cars.loc[cars['VehicleType'].isna()]['Price'].count())\n",
    "print('Кол-во объявлений, в которых не указан тип коробки передач:',cars.loc[cars['Gearbox'].isna()]['Price'].count())\n",
    "print('Кол-во объявлений, в которых не указан тип топлива:',cars.loc[cars['FuelType'].isna()]['Price'].count())\n",
    "print('Кол-во объявлений, в которых не указана мощность:',cars.loc[cars['Power'].isna()]['Price'].count())"
   ]
  },
  {
   "cell_type": "markdown",
   "metadata": {},
   "source": [
    "Пропуски составляют значительную часть данных, проверим можем ли мы заполнить их наиболее частыми значениями для каждой модели (т.к. мы рассматриваем именно характеристики моделей):"
   ]
  },
  {
   "cell_type": "code",
   "execution_count": 21,
   "metadata": {},
   "outputs": [
    {
     "data": {
      "text/plain": [
       "golf        28246\n",
       "other       23707\n",
       "3er         19179\n",
       "polo        12628\n",
       "corsa       12197\n",
       "astra       10475\n",
       "passat       9835\n",
       "a4           9642\n",
       "c_klasse     8174\n",
       "5er          7665\n",
       "Name: Model, dtype: int64"
      ]
     },
     "execution_count": 21,
     "metadata": {},
     "output_type": "execute_result"
    }
   ],
   "source": [
    "cars['Model'].value_counts().head(10)"
   ]
  },
  {
   "cell_type": "markdown",
   "metadata": {},
   "source": [
    "Для other такой подход не возможен (это не одна модель а группа моделей). Проверим для наиболее часто встречающейся - \"golf\":"
   ]
  },
  {
   "cell_type": "code",
   "execution_count": 22,
   "metadata": {},
   "outputs": [
    {
     "data": {
      "text/plain": [
       "Model  VehicleType\n",
       "golf   sedan          14467\n",
       "       small           3724\n",
       "       wagon           3132\n",
       "       convertible     1900\n",
       "       bus              759\n",
       "       coupe            412\n",
       "       other            172\n",
       "       suv               24\n",
       "Name: VehicleType, dtype: int64"
      ]
     },
     "execution_count": 22,
     "metadata": {},
     "output_type": "execute_result"
    }
   ],
   "source": [
    "cars.loc[cars['Model']=='golf'].groupby('Model')['VehicleType'].value_counts()"
   ]
  },
  {
   "cell_type": "code",
   "execution_count": 23,
   "metadata": {},
   "outputs": [
    {
     "data": {
      "text/plain": [
       "Model  Gearbox\n",
       "golf   manual     24002\n",
       "       auto        2927\n",
       "Name: Gearbox, dtype: int64"
      ]
     },
     "execution_count": 23,
     "metadata": {},
     "output_type": "execute_result"
    }
   ],
   "source": [
    "cars.loc[cars['Model']=='golf'].groupby('Model')['Gearbox'].value_counts()"
   ]
  },
  {
   "cell_type": "code",
   "execution_count": 24,
   "metadata": {},
   "outputs": [
    {
     "data": {
      "text/plain": [
       "Model  FuelType\n",
       "golf   petrol      18869\n",
       "       gasoline     6987\n",
       "       lpg           168\n",
       "       cng            23\n",
       "       other           7\n",
       "       electric        3\n",
       "       hybrid          1\n",
       "Name: FuelType, dtype: int64"
      ]
     },
     "execution_count": 24,
     "metadata": {},
     "output_type": "execute_result"
    }
   ],
   "source": [
    "cars.loc[cars['Model']=='golf'].groupby('Model')['FuelType'].value_counts()"
   ]
  },
  {
   "cell_type": "markdown",
   "metadata": {},
   "source": [
    "Есть преобладающие значения, но и других значений так же много. Все три признака значительно влияют на цену машины, ошибчное присвоение внесет значительную погрешность - такой путь не подходит. Заполним пропуски значениями \"other\" (в признаках уже есть такие значения, по смыслу это тоже самое что пропуски):"
   ]
  },
  {
   "cell_type": "code",
   "execution_count": 25,
   "metadata": {},
   "outputs": [],
   "source": [
    "cars['VehicleType'] = cars['VehicleType'].fillna('other')\n",
    "cars['Gearbox'] = cars['Gearbox'].fillna('other')\n",
    "cars['FuelType'] = cars['FuelType'].fillna('other')"
   ]
  },
  {
   "cell_type": "markdown",
   "metadata": {},
   "source": [
    "Power - мощность (л. с.)"
   ]
  },
  {
   "cell_type": "code",
   "execution_count": 26,
   "metadata": {},
   "outputs": [
    {
     "data": {
      "text/html": [
       "<div>\n",
       "<style scoped>\n",
       "    .dataframe tbody tr th:only-of-type {\n",
       "        vertical-align: middle;\n",
       "    }\n",
       "\n",
       "    .dataframe tbody tr th {\n",
       "        vertical-align: top;\n",
       "    }\n",
       "\n",
       "    .dataframe thead th {\n",
       "        text-align: right;\n",
       "    }\n",
       "</style>\n",
       "<table border=\"1\" class=\"dataframe\">\n",
       "  <thead>\n",
       "    <tr style=\"text-align: right;\">\n",
       "      <th></th>\n",
       "      <th>Price</th>\n",
       "      <th>VehicleType</th>\n",
       "      <th>RegistrationYear</th>\n",
       "      <th>Gearbox</th>\n",
       "      <th>Power</th>\n",
       "      <th>Model</th>\n",
       "      <th>Kilometer</th>\n",
       "      <th>RegistrationMonth</th>\n",
       "      <th>FuelType</th>\n",
       "      <th>Brand</th>\n",
       "      <th>Repaired</th>\n",
       "      <th>NumberOfPictures</th>\n",
       "      <th>PostalCode</th>\n",
       "      <th>days_created</th>\n",
       "    </tr>\n",
       "  </thead>\n",
       "  <tbody>\n",
       "  </tbody>\n",
       "</table>\n",
       "</div>"
      ],
      "text/plain": [
       "Empty DataFrame\n",
       "Columns: [Price, VehicleType, RegistrationYear, Gearbox, Power, Model, Kilometer, RegistrationMonth, FuelType, Brand, Repaired, NumberOfPictures, PostalCode, days_created]\n",
       "Index: []"
      ]
     },
     "execution_count": 26,
     "metadata": {},
     "output_type": "execute_result"
    }
   ],
   "source": [
    "cars.loc[cars['Power'].isna()]"
   ]
  },
  {
   "cell_type": "code",
   "execution_count": 27,
   "metadata": {},
   "outputs": [
    {
     "data": {
      "text/plain": [
       "31333"
      ]
     },
     "execution_count": 27,
     "metadata": {},
     "output_type": "execute_result"
    }
   ],
   "source": [
    "cars.loc[cars['Power']==0]['Price'].count()"
   ]
  },
  {
   "cell_type": "markdown",
   "metadata": {},
   "source": [
    " - пропуски данных."
   ]
  },
  {
   "cell_type": "code",
   "execution_count": 28,
   "metadata": {},
   "outputs": [
    {
     "data": {
      "text/plain": [
       "584.9250000000466"
      ]
     },
     "execution_count": 28,
     "metadata": {},
     "output_type": "execute_result"
    }
   ],
   "source": [
    "cars['Power'].quantile(q=0.999)"
   ]
  },
  {
   "cell_type": "markdown",
   "metadata": {},
   "source": [
    " - аномальные значения. \n",
    " \n",
    " \n",
    " Заполним пропуски и аномальные значения медианными значениями для соответствующих моделей:"
   ]
  },
  {
   "cell_type": "code",
   "execution_count": 29,
   "metadata": {},
   "outputs": [],
   "source": [
    "cars.loc[(cars['Power']==0) | (cars['Power'] > 600), 'Power'] = None\n",
    "cars['Power'] = cars['Power'].fillna(cars.groupby('Model')['Power'].transform('median'))"
   ]
  },
  {
   "cell_type": "code",
   "execution_count": 30,
   "metadata": {},
   "outputs": [
    {
     "data": {
      "text/html": [
       "<div>\n",
       "<style scoped>\n",
       "    .dataframe tbody tr th:only-of-type {\n",
       "        vertical-align: middle;\n",
       "    }\n",
       "\n",
       "    .dataframe tbody tr th {\n",
       "        vertical-align: top;\n",
       "    }\n",
       "\n",
       "    .dataframe thead th {\n",
       "        text-align: right;\n",
       "    }\n",
       "</style>\n",
       "<table border=\"1\" class=\"dataframe\">\n",
       "  <thead>\n",
       "    <tr style=\"text-align: right;\">\n",
       "      <th></th>\n",
       "      <th>Price</th>\n",
       "      <th>VehicleType</th>\n",
       "      <th>RegistrationYear</th>\n",
       "      <th>Gearbox</th>\n",
       "      <th>Power</th>\n",
       "      <th>Model</th>\n",
       "      <th>Kilometer</th>\n",
       "      <th>RegistrationMonth</th>\n",
       "      <th>FuelType</th>\n",
       "      <th>Brand</th>\n",
       "      <th>Repaired</th>\n",
       "      <th>NumberOfPictures</th>\n",
       "      <th>PostalCode</th>\n",
       "      <th>days_created</th>\n",
       "    </tr>\n",
       "  </thead>\n",
       "  <tbody>\n",
       "    <tr>\n",
       "      <th>234296</th>\n",
       "      <td>3800</td>\n",
       "      <td>wagon</td>\n",
       "      <td>1978</td>\n",
       "      <td>manual</td>\n",
       "      <td>NaN</td>\n",
       "      <td>serie_1</td>\n",
       "      <td>30000</td>\n",
       "      <td>0</td>\n",
       "      <td>gasoline</td>\n",
       "      <td>land_rover</td>\n",
       "      <td>NaN</td>\n",
       "      <td>0</td>\n",
       "      <td>49824</td>\n",
       "      <td>751</td>\n",
       "    </tr>\n",
       "  </tbody>\n",
       "</table>\n",
       "</div>"
      ],
      "text/plain": [
       "        Price VehicleType  RegistrationYear Gearbox  Power    Model  \\\n",
       "234296   3800       wagon              1978  manual    NaN  serie_1   \n",
       "\n",
       "        Kilometer  RegistrationMonth  FuelType       Brand Repaired  \\\n",
       "234296      30000                  0  gasoline  land_rover      NaN   \n",
       "\n",
       "        NumberOfPictures  PostalCode  days_created  \n",
       "234296                 0       49824           751  "
      ]
     },
     "execution_count": 30,
     "metadata": {},
     "output_type": "execute_result"
    }
   ],
   "source": [
    "cars.loc[cars['Power'].isna()]"
   ]
  },
  {
   "cell_type": "markdown",
   "metadata": {},
   "source": [
    "- с такой моделью только одна запись."
   ]
  },
  {
   "cell_type": "code",
   "execution_count": 31,
   "metadata": {},
   "outputs": [],
   "source": [
    "cars = cars.drop(cars.loc[cars['Power'].isna()].index)"
   ]
  },
  {
   "cell_type": "markdown",
   "metadata": {},
   "source": [
    "**RegistrationYear** - год регистрации"
   ]
  },
  {
   "cell_type": "markdown",
   "metadata": {},
   "source": [
    "В обзоре данных мы видели, что некоторые значения этого признака заведомо ошибочные (например год регистрации - 1000 или 9999):"
   ]
  },
  {
   "cell_type": "code",
   "execution_count": 32,
   "metadata": {},
   "outputs": [
    {
     "name": "stdout",
     "output_type": "stream",
     "text": [
      "1962.074\n"
     ]
    }
   ],
   "source": [
    "print(cars['RegistrationYear'].quantile(0.001))"
   ]
  },
  {
   "cell_type": "markdown",
   "metadata": {},
   "source": [
    "Ранее (на основании исследования дат просмотра анкет и дат создания объявлений) мы убедились, что представленные данные не позднее 2016.04.07, т.е. год регистрации позже 2016 - ошибка:"
   ]
  },
  {
   "cell_type": "code",
   "execution_count": 33,
   "metadata": {},
   "outputs": [
    {
     "data": {
      "text/plain": [
       "11920"
      ]
     },
     "execution_count": 33,
     "metadata": {},
     "output_type": "execute_result"
    }
   ],
   "source": [
    "len(cars.loc[cars['RegistrationYear']>2016])"
   ]
  },
  {
   "cell_type": "markdown",
   "metadata": {},
   "source": [
    "Примерно 3% всех данных. Это много:"
   ]
  },
  {
   "cell_type": "code",
   "execution_count": 34,
   "metadata": {},
   "outputs": [
    {
     "data": {
      "text/plain": [
       "8591"
      ]
     },
     "execution_count": 34,
     "metadata": {},
     "output_type": "execute_result"
    }
   ],
   "source": [
    "len(cars.loc[cars['RegistrationYear']==2017])"
   ]
  },
  {
   "cell_type": "markdown",
   "metadata": {},
   "source": [
    "Большая часть \"ошибок\" приходится на 2017 год. Тогда мы можем предположить, что этот год не является ошибочным. \n",
    "\n",
    "Удалим все строки, где год регистрации позже 2017 или не позже 1962:"
   ]
  },
  {
   "cell_type": "code",
   "execution_count": 35,
   "metadata": {},
   "outputs": [],
   "source": [
    "cars = cars.drop(cars.loc[(cars['RegistrationYear'] <= 1962) | (cars['RegistrationYear'] > 2017)].index)"
   ]
  },
  {
   "cell_type": "markdown",
   "metadata": {},
   "source": [
    "**Repaired** - была машина в ремонте или нет.\n",
    "\n",
    "Заполним пропуски значениями \"undefined\":"
   ]
  },
  {
   "cell_type": "code",
   "execution_count": 36,
   "metadata": {},
   "outputs": [],
   "source": [
    "cars['Repaired'] = cars['Repaired'].fillna('undefined')"
   ]
  },
  {
   "cell_type": "markdown",
   "metadata": {},
   "source": [
    "**NumberOfPictures** - количество фотографий - заполнен нулями, информция отсутствует. \n",
    "\n",
    "**PostalCode** - почтовый индекс - бесполезная информация. \n",
    "\n",
    "Удалим оба признака:"
   ]
  },
  {
   "cell_type": "code",
   "execution_count": 37,
   "metadata": {},
   "outputs": [],
   "source": [
    "cars = cars.drop(['NumberOfPictures','PostalCode'], axis=1)"
   ]
  },
  {
   "cell_type": "markdown",
   "metadata": {},
   "source": [
    "### Кодирование категориальных признаков"
   ]
  },
  {
   "cell_type": "markdown",
   "metadata": {},
   "source": [
    "Не все модели поддерживают автоматическую обработку категориальных признаков. Создадим train и test выборки, в которых для кодирования категориальных признаков применим технику Target Encoding"
   ]
  },
  {
   "cell_type": "code",
   "execution_count": 38,
   "metadata": {},
   "outputs": [],
   "source": [
    "train, test = train_test_split(cars, test_size=0.2, random_state=123)\n",
    "train, valid = train_test_split(train, test_size=0.25, random_state=123)"
   ]
  },
  {
   "cell_type": "code",
   "execution_count": 39,
   "metadata": {},
   "outputs": [],
   "source": [
    "categorial_columns = ['Model','VehicleType','Gearbox','FuelType','Brand','Repaired']\n",
    "\n",
    "target_encoder = TargetEncoder()\n",
    "train[categorial_columns] = target_encoder.fit_transform(train[categorial_columns],train['Price'])\n",
    "valid[categorial_columns] = target_encoder.transform(valid[categorial_columns])\n",
    "test[categorial_columns] = target_encoder.transform(test[categorial_columns])\n",
    "\n",
    "X_train = train.drop('Price', axis=1)\n",
    "y_train = train['Price']\n",
    "\n",
    "X_valid = valid.drop('Price', axis=1)\n",
    "y_valid = valid['Price']"
   ]
  },
  {
   "cell_type": "markdown",
   "metadata": {},
   "source": [
    "## Обучение моделей"
   ]
  },
  {
   "cell_type": "markdown",
   "metadata": {},
   "source": [
    "Функция тестирования моделей (производит обучение, прогноз, получает время затраченное на каждое из двух действий, вычисляет RMSE):"
   ]
  },
  {
   "cell_type": "code",
   "execution_count": 40,
   "metadata": {},
   "outputs": [],
   "source": [
    "def test_model(model,features_train, features_test, target_train, target_test):\n",
    "    \n",
    "    fit_start_time = time.time()\n",
    "    model.fit(features_train, target_train)\n",
    "    fit_end_time = time.time()\n",
    "    \n",
    "    predict_start_time = time.time()\n",
    "    predict = model.predict(features_test)\n",
    "    predict_end_time = time.time()\n",
    "    \n",
    "    print('Время на обучение:', fit_end_time - fit_start_time)\n",
    "    print('Время на прогноз:', predict_end_time - predict_start_time)\n",
    "    print('RMSE на валидационной выборке:', mean_squared_error(target_test, predict)**0.5)\n"
   ]
  },
  {
   "cell_type": "markdown",
   "metadata": {},
   "source": [
    "### Линейная регрессия"
   ]
  },
  {
   "cell_type": "code",
   "execution_count": 41,
   "metadata": {},
   "outputs": [
    {
     "name": "stdout",
     "output_type": "stream",
     "text": [
      "Время на обучение: 0.16609501838684082\n",
      "Время на прогноз: 0.013993024826049805\n",
      "RMSE на валидационной выборке: 2794.6793727673903\n"
     ]
    }
   ],
   "source": [
    "model = LinearRegression()\n",
    "test_model(model, X_train, X_valid, y_train, y_valid)"
   ]
  },
  {
   "cell_type": "markdown",
   "metadata": {},
   "source": [
    "### Случайный лес деревьев"
   ]
  },
  {
   "cell_type": "code",
   "execution_count": 42,
   "metadata": {},
   "outputs": [
    {
     "name": "stdout",
     "output_type": "stream",
     "text": [
      "max_depth= 5\n",
      "Время на обучение: 5.064787864685059\n",
      "Время на прогноз: 0.05008077621459961\n",
      "RMSE на валидационной выборке: 2325.9908028557566\n",
      "\n",
      "max_depth= 10\n",
      "Время на обучение: 7.817051649093628\n",
      "Время на прогноз: 0.10039138793945312\n",
      "RMSE на валидационной выборке: 1819.872432803465\n",
      "\n",
      "max_depth= 15\n",
      "Время на обучение: 10.848705291748047\n",
      "Время на прогноз: 0.1832277774810791\n",
      "RMSE на валидационной выборке: 1630.3798622502084\n",
      "\n"
     ]
    }
   ],
   "source": [
    "for depth in range(5,16,5):\n",
    "    model = RandomForestRegressor(n_estimators=60, max_depth=depth, n_jobs=4)\n",
    "    print('max_depth=',depth)\n",
    "    test_model(model, X_train, X_valid, y_train, y_valid)\n",
    "    print('')"
   ]
  },
  {
   "cell_type": "markdown",
   "metadata": {},
   "source": [
    "### Градиентный бустинг LightGBM"
   ]
  },
  {
   "cell_type": "code",
   "execution_count": 43,
   "metadata": {},
   "outputs": [
    {
     "name": "stdout",
     "output_type": "stream",
     "text": [
      "Время на обучение: 0.9834432601928711\n",
      "Время на прогноз: 0.11635041236877441\n",
      "RMSE на валидационной выборке: 2633.773331817184\n",
      "learning_rate= 0.01\n",
      "\n",
      "Время на обучение: 1.0502591133117676\n",
      "Время на прогноз: 0.09957385063171387\n",
      "RMSE на валидационной выборке: 2057.7704914590367\n",
      "learning_rate= 0.02\n",
      "\n",
      "Время на обучение: 1.049307107925415\n",
      "Время на прогноз: 0.1173563003540039\n",
      "RMSE на валидационной выборке: 1763.1648709131289\n",
      "learning_rate= 0.05\n",
      "\n",
      "Время на обучение: 0.8672056198120117\n",
      "Время на прогноз: 0.13259458541870117\n",
      "RMSE на валидационной выборке: 1698.9317144860704\n",
      "learning_rate= 0.1\n",
      "\n",
      "Время на обучение: 0.8842430114746094\n",
      "Время на прогноз: 0.09934759140014648\n",
      "RMSE на валидационной выборке: 1656.5594028542148\n",
      "learning_rate= 0.2\n",
      "\n",
      "Время на обучение: 0.6837253570556641\n",
      "Время на прогноз: 0.09951639175415039\n",
      "RMSE на валидационной выборке: 1648.3778787319368\n",
      "learning_rate= 0.3\n",
      "\n"
     ]
    }
   ],
   "source": [
    "learning_rates = [0.01, 0.02, 0.05, 0.1, 0.2, 0.3]\n",
    "for rate in learning_rates:\n",
    "    model = LGBMRegressor(max_depth=50,learning_rate=rate, n_jobs=4)\n",
    "    test_model(model, X_train, X_valid, y_train, y_valid)\n",
    "    print('learning_rate=',rate)\n",
    "    print('')"
   ]
  },
  {
   "cell_type": "markdown",
   "metadata": {},
   "source": [
    "### Градиентный бустинг CatBoost"
   ]
  },
  {
   "cell_type": "code",
   "execution_count": 44,
   "metadata": {},
   "outputs": [
    {
     "name": "stdout",
     "output_type": "stream",
     "text": [
      "Время на обучение: 18.800060987472534\n",
      "Время на прогноз: 0.03296613693237305\n",
      "RMSE на валидационной выборке: 1786.6868607186607\n",
      "learning_rate= 0.01\n",
      "\n",
      "Время на обучение: 18.421530723571777\n",
      "Время на прогноз: 0.031249046325683594\n",
      "RMSE на валидационной выборке: 1717.2592499755547\n",
      "learning_rate= 0.02\n",
      "\n",
      "Время на обучение: 18.012248754501343\n",
      "Время на прогноз: 0.03271770477294922\n",
      "RMSE на валидационной выборке: 1653.2029888082286\n",
      "learning_rate= 0.05\n",
      "\n",
      "Время на обучение: 18.89856743812561\n",
      "Время на прогноз: 0.034026145935058594\n",
      "RMSE на валидационной выборке: 1617.7489768275746\n",
      "learning_rate= 0.1\n",
      "\n",
      "Время на обучение: 18.08646035194397\n",
      "Время на прогноз: 0.025433778762817383\n",
      "RMSE на валидационной выборке: 1592.3486442506667\n",
      "learning_rate= 0.2\n",
      "\n"
     ]
    }
   ],
   "source": [
    "learning_rates = [0.01, 0.02, 0.05, 0.1, 0.2]\n",
    "for rate in learning_rates:\n",
    "    model = CatBoostRegressor(verbose=False, learning_rate=rate)\n",
    "    test_model(model, X_train, X_valid, y_train, y_valid)\n",
    "    print('learning_rate=',rate)\n",
    "    print('')"
   ]
  },
  {
   "cell_type": "markdown",
   "metadata": {},
   "source": [
    "## Анализ моделей"
   ]
  },
  {
   "cell_type": "markdown",
   "metadata": {},
   "source": [
    "Посмотрим на результаты лучших моделей каждого типа:"
   ]
  },
  {
   "cell_type": "code",
   "execution_count": 45,
   "metadata": {},
   "outputs": [],
   "source": [
    "models = pd.DataFrame({'Модель':['Линейная регрессия','RandomForest','LightGBM','CatBoost']\n",
    "                       ,'Время на обучение':[0.07, 42.8, 2.56, 29.0]\n",
    "                       ,'Время на прогноз':[0.01, 0.79, 0.32, 0.71]\n",
    "                       ,'RMSE':[2793.65, 1628.51, 1649.56, 1595.29]})"
   ]
  },
  {
   "cell_type": "code",
   "execution_count": 46,
   "metadata": {
    "scrolled": false
   },
   "outputs": [
    {
     "data": {
      "text/html": [
       "<div>\n",
       "<style scoped>\n",
       "    .dataframe tbody tr th:only-of-type {\n",
       "        vertical-align: middle;\n",
       "    }\n",
       "\n",
       "    .dataframe tbody tr th {\n",
       "        vertical-align: top;\n",
       "    }\n",
       "\n",
       "    .dataframe thead th {\n",
       "        text-align: right;\n",
       "    }\n",
       "</style>\n",
       "<table border=\"1\" class=\"dataframe\">\n",
       "  <thead>\n",
       "    <tr style=\"text-align: right;\">\n",
       "      <th></th>\n",
       "      <th>Модель</th>\n",
       "      <th>Время на обучение</th>\n",
       "      <th>Время на прогноз</th>\n",
       "      <th>RMSE</th>\n",
       "    </tr>\n",
       "  </thead>\n",
       "  <tbody>\n",
       "    <tr>\n",
       "      <th>0</th>\n",
       "      <td>Линейная регрессия</td>\n",
       "      <td>0.07</td>\n",
       "      <td>0.01</td>\n",
       "      <td>2793.65</td>\n",
       "    </tr>\n",
       "    <tr>\n",
       "      <th>1</th>\n",
       "      <td>RandomForest</td>\n",
       "      <td>42.80</td>\n",
       "      <td>0.79</td>\n",
       "      <td>1628.51</td>\n",
       "    </tr>\n",
       "    <tr>\n",
       "      <th>2</th>\n",
       "      <td>LightGBM</td>\n",
       "      <td>2.56</td>\n",
       "      <td>0.32</td>\n",
       "      <td>1649.56</td>\n",
       "    </tr>\n",
       "    <tr>\n",
       "      <th>3</th>\n",
       "      <td>CatBoost</td>\n",
       "      <td>29.00</td>\n",
       "      <td>0.71</td>\n",
       "      <td>1595.29</td>\n",
       "    </tr>\n",
       "  </tbody>\n",
       "</table>\n",
       "</div>"
      ],
      "text/plain": [
       "               Модель  Время на обучение  Время на прогноз     RMSE\n",
       "0  Линейная регрессия               0.07              0.01  2793.65\n",
       "1        RandomForest              42.80              0.79  1628.51\n",
       "2            LightGBM               2.56              0.32  1649.56\n",
       "3            CatBoost              29.00              0.71  1595.29"
      ]
     },
     "execution_count": 46,
     "metadata": {},
     "output_type": "execute_result"
    }
   ],
   "source": [
    "models.head()"
   ]
  },
  {
   "cell_type": "markdown",
   "metadata": {},
   "source": [
    "Самый точный прогноз делает (в соответствии с метрикой RMSE) модель градиентный бустинг CatBoost. RMSE = 1592.3. \n",
    "При этом время обучения этой модели большое, чем LightGBM. \n",
    "\n",
    "LightGBM - качество прогноза немного хуже (RMSE = 1652.6), однако многократно меньше время обучения модели (4 с против 26 c у CatBoost)\n",
    "\n",
    "Линейная регрессия - самая быстрая (время на обучение - 0.07 с, время на прогноз -0.09 c), но качество её прогнозов существенно хуже чем у остальных моделей. RMSE = 2792. "
   ]
  },
  {
   "cell_type": "markdown",
   "metadata": {},
   "source": [
    "Проверим лучшую модель на тестовой выборке:"
   ]
  },
  {
   "cell_type": "code",
   "execution_count": 47,
   "metadata": {},
   "outputs": [
    {
     "name": "stdout",
     "output_type": "stream",
     "text": [
      "Время на обучение: 18.181769847869873\n",
      "Время на прогноз: 0.016629457473754883\n",
      "RMSE на валидационной выборке: 1592.3486442506667\n",
      "RMSE на тестовой выборке: 1564.3679983581167\n"
     ]
    }
   ],
   "source": [
    "model = CatBoostRegressor(verbose=False, learning_rate=0.2)\n",
    "test_model(model, X_train, X_valid, y_train, y_valid)\n",
    "\n",
    "X_test = test.drop('Price', axis=1)\n",
    "y_test = test['Price']\n",
    "\n",
    "predict = model.predict(X_test)\n",
    "\n",
    "print('RMSE на тестовой выборке:', mean_squared_error(y_test, predict)**0.5)"
   ]
  }
 ],
 "metadata": {
  "ExecuteTimeLog": [
   {
    "duration": 422,
    "start_time": "2022-12-11T08:58:07.932Z"
   },
   {
    "duration": 2891,
    "start_time": "2022-12-11T08:58:49.473Z"
   },
   {
    "duration": 111,
    "start_time": "2022-12-11T08:59:08.083Z"
   },
   {
    "duration": 24,
    "start_time": "2022-12-11T08:59:19.130Z"
   },
   {
    "duration": 799,
    "start_time": "2022-12-11T13:07:48.710Z"
   },
   {
    "duration": 2,
    "start_time": "2022-12-11T13:08:11.040Z"
   },
   {
    "duration": 3,
    "start_time": "2022-12-11T13:08:32.376Z"
   },
   {
    "duration": 115,
    "start_time": "2022-12-11T16:50:33.849Z"
   },
   {
    "duration": 68,
    "start_time": "2022-12-11T16:51:27.973Z"
   },
   {
    "duration": 10,
    "start_time": "2022-12-11T16:51:41.647Z"
   },
   {
    "duration": 472,
    "start_time": "2022-12-11T16:51:52.072Z"
   },
   {
    "duration": 488,
    "start_time": "2022-12-11T16:52:09.348Z"
   },
   {
    "duration": 824,
    "start_time": "2022-12-11T16:57:55.477Z"
   },
   {
    "duration": 108,
    "start_time": "2022-12-11T16:57:59.254Z"
   },
   {
    "duration": 16,
    "start_time": "2022-12-11T16:58:02.357Z"
   },
   {
    "duration": 501,
    "start_time": "2022-12-11T16:58:04.957Z"
   },
   {
    "duration": 11,
    "start_time": "2022-12-11T16:58:52.964Z"
   },
   {
    "duration": 122,
    "start_time": "2022-12-11T16:58:59.662Z"
   },
   {
    "duration": 622,
    "start_time": "2022-12-11T16:59:05.275Z"
   },
   {
    "duration": 8,
    "start_time": "2022-12-11T17:10:05.743Z"
   },
   {
    "duration": 1426,
    "start_time": "2022-12-11T17:32:15.574Z"
   },
   {
    "duration": 15,
    "start_time": "2022-12-11T17:48:31.084Z"
   },
   {
    "duration": 98,
    "start_time": "2022-12-11T18:32:59.797Z"
   },
   {
    "duration": 3,
    "start_time": "2022-12-11T19:15:34.533Z"
   },
   {
    "duration": 781,
    "start_time": "2022-12-11T19:15:34.972Z"
   },
   {
    "duration": 104,
    "start_time": "2022-12-11T19:15:36.442Z"
   },
   {
    "duration": 14,
    "start_time": "2022-12-11T19:15:37.363Z"
   },
   {
    "duration": 89,
    "start_time": "2022-12-11T19:15:40.482Z"
   },
   {
    "duration": 391,
    "start_time": "2022-12-11T19:15:43.282Z"
   },
   {
    "duration": 9,
    "start_time": "2022-12-11T19:18:33.619Z"
   },
   {
    "duration": 76,
    "start_time": "2022-12-11T19:18:56.119Z"
   },
   {
    "duration": 72,
    "start_time": "2022-12-11T19:19:17.207Z"
   },
   {
    "duration": 81,
    "start_time": "2022-12-11T19:20:22.897Z"
   },
   {
    "duration": 15,
    "start_time": "2022-12-11T19:20:26.913Z"
   },
   {
    "duration": 35,
    "start_time": "2022-12-11T19:43:29.659Z"
   },
   {
    "duration": 14,
    "start_time": "2022-12-11T19:43:31.183Z"
   },
   {
    "duration": 335,
    "start_time": "2022-12-11T19:44:17.204Z"
   },
   {
    "duration": 14,
    "start_time": "2022-12-11T19:44:17.626Z"
   },
   {
    "duration": 275,
    "start_time": "2022-12-11T19:50:24.056Z"
   },
   {
    "duration": 267,
    "start_time": "2022-12-11T19:50:40.825Z"
   },
   {
    "duration": 181,
    "start_time": "2022-12-11T19:50:54.085Z"
   },
   {
    "duration": 103,
    "start_time": "2022-12-11T19:50:57.222Z"
   },
   {
    "duration": 536,
    "start_time": "2022-12-11T19:52:57.212Z"
   },
   {
    "duration": 605,
    "start_time": "2022-12-11T19:53:40.530Z"
   },
   {
    "duration": 547,
    "start_time": "2022-12-11T19:54:23.761Z"
   },
   {
    "duration": 507,
    "start_time": "2022-12-11T19:54:48.831Z"
   },
   {
    "duration": 496,
    "start_time": "2022-12-11T19:55:14.340Z"
   },
   {
    "duration": 473,
    "start_time": "2022-12-11T19:55:30.096Z"
   },
   {
    "duration": 504,
    "start_time": "2022-12-11T19:57:20.464Z"
   },
   {
    "duration": 501,
    "start_time": "2022-12-11T19:57:43.227Z"
   },
   {
    "duration": 456,
    "start_time": "2022-12-11T19:58:12.839Z"
   },
   {
    "duration": 526,
    "start_time": "2022-12-11T19:58:41.533Z"
   },
   {
    "duration": 520,
    "start_time": "2022-12-11T19:58:47.117Z"
   },
   {
    "duration": 565,
    "start_time": "2022-12-11T19:59:01.677Z"
   },
   {
    "duration": 491,
    "start_time": "2022-12-11T20:02:16.856Z"
   },
   {
    "duration": 499,
    "start_time": "2022-12-11T20:02:29.137Z"
   },
   {
    "duration": 539,
    "start_time": "2022-12-11T20:02:51.071Z"
   },
   {
    "duration": 499,
    "start_time": "2022-12-11T20:03:40.565Z"
   },
   {
    "duration": 606,
    "start_time": "2022-12-11T20:04:11.797Z"
   },
   {
    "duration": 468,
    "start_time": "2022-12-11T20:33:47.320Z"
   },
   {
    "duration": 471,
    "start_time": "2022-12-11T20:36:30.819Z"
   },
   {
    "duration": 23,
    "start_time": "2022-12-11T20:37:08.153Z"
   },
   {
    "duration": 1110,
    "start_time": "2022-12-11T20:37:19.049Z"
   },
   {
    "duration": 759,
    "start_time": "2022-12-11T20:37:30.624Z"
   },
   {
    "duration": 107,
    "start_time": "2022-12-11T20:37:32.704Z"
   },
   {
    "duration": 14,
    "start_time": "2022-12-11T20:37:33.162Z"
   },
   {
    "duration": 92,
    "start_time": "2022-12-11T20:37:34.458Z"
   },
   {
    "duration": 395,
    "start_time": "2022-12-11T20:37:37.774Z"
   },
   {
    "duration": 441,
    "start_time": "2022-12-11T20:37:40.058Z"
   },
   {
    "duration": 483,
    "start_time": "2022-12-11T20:37:40.720Z"
   },
   {
    "duration": 504,
    "start_time": "2022-12-11T20:38:29.760Z"
   },
   {
    "duration": 500,
    "start_time": "2022-12-11T20:38:40.866Z"
   },
   {
    "duration": 509,
    "start_time": "2022-12-11T20:38:50.599Z"
   },
   {
    "duration": 70,
    "start_time": "2022-12-11T20:39:09.165Z"
   },
   {
    "duration": 69,
    "start_time": "2022-12-11T20:39:12.502Z"
   },
   {
    "duration": 518,
    "start_time": "2022-12-11T20:39:20.143Z"
   },
   {
    "duration": 11,
    "start_time": "2022-12-11T20:39:53.406Z"
   },
   {
    "duration": 10,
    "start_time": "2022-12-11T20:40:12.093Z"
   },
   {
    "duration": 536,
    "start_time": "2022-12-11T20:40:41.268Z"
   },
   {
    "duration": 51,
    "start_time": "2022-12-12T07:41:50.053Z"
   },
   {
    "duration": 1246,
    "start_time": "2022-12-12T07:42:03.116Z"
   },
   {
    "duration": 1242,
    "start_time": "2022-12-12T07:42:04.364Z"
   },
   {
    "duration": 149,
    "start_time": "2022-12-12T07:42:05.608Z"
   },
   {
    "duration": 22,
    "start_time": "2022-12-12T07:42:05.760Z"
   },
   {
    "duration": 127,
    "start_time": "2022-12-12T07:42:05.785Z"
   },
   {
    "duration": 544,
    "start_time": "2022-12-12T07:42:05.913Z"
   },
   {
    "duration": 540,
    "start_time": "2022-12-12T07:42:06.459Z"
   },
   {
    "duration": 572,
    "start_time": "2022-12-12T07:42:07.001Z"
   },
   {
    "duration": 32,
    "start_time": "2022-12-12T07:42:07.575Z"
   },
   {
    "duration": 670,
    "start_time": "2022-12-12T07:42:07.610Z"
   },
   {
    "duration": 24,
    "start_time": "2022-12-12T07:42:08.282Z"
   },
   {
    "duration": 113,
    "start_time": "2022-12-12T07:45:50.172Z"
   },
   {
    "duration": 19,
    "start_time": "2022-12-12T07:46:20.145Z"
   },
   {
    "duration": 4,
    "start_time": "2022-12-12T07:47:01.224Z"
   },
   {
    "duration": 4,
    "start_time": "2022-12-12T07:47:10.057Z"
   },
   {
    "duration": 4,
    "start_time": "2022-12-12T07:47:26.642Z"
   },
   {
    "duration": 3,
    "start_time": "2022-12-12T07:47:27.370Z"
   },
   {
    "duration": 4,
    "start_time": "2022-12-12T07:47:37.860Z"
   },
   {
    "duration": 4,
    "start_time": "2022-12-12T07:47:39.088Z"
   },
   {
    "duration": 4,
    "start_time": "2022-12-12T07:47:46.920Z"
   },
   {
    "duration": 4,
    "start_time": "2022-12-12T07:47:47.352Z"
   },
   {
    "duration": 4,
    "start_time": "2022-12-12T07:47:55.528Z"
   },
   {
    "duration": 4,
    "start_time": "2022-12-12T07:47:56.233Z"
   },
   {
    "duration": 4,
    "start_time": "2022-12-12T07:48:23.240Z"
   },
   {
    "duration": 4,
    "start_time": "2022-12-12T07:48:23.633Z"
   },
   {
    "duration": 4,
    "start_time": "2022-12-12T07:48:33.687Z"
   },
   {
    "duration": 4,
    "start_time": "2022-12-12T07:48:36.943Z"
   },
   {
    "duration": 4,
    "start_time": "2022-12-12T07:48:43.169Z"
   },
   {
    "duration": 4,
    "start_time": "2022-12-12T07:48:43.798Z"
   },
   {
    "duration": 4,
    "start_time": "2022-12-12T07:48:53.504Z"
   },
   {
    "duration": 4,
    "start_time": "2022-12-12T07:48:54.014Z"
   },
   {
    "duration": 4,
    "start_time": "2022-12-12T07:48:59.222Z"
   },
   {
    "duration": 4,
    "start_time": "2022-12-12T07:48:59.710Z"
   },
   {
    "duration": 11,
    "start_time": "2022-12-12T07:49:03.735Z"
   },
   {
    "duration": 3,
    "start_time": "2022-12-12T07:49:04.550Z"
   },
   {
    "duration": 66,
    "start_time": "2022-12-12T07:50:11.197Z"
   },
   {
    "duration": 4,
    "start_time": "2022-12-12T07:50:35.861Z"
   },
   {
    "duration": 4,
    "start_time": "2022-12-12T07:50:45.821Z"
   },
   {
    "duration": 672,
    "start_time": "2022-12-12T15:23:51.027Z"
   },
   {
    "duration": 637,
    "start_time": "2022-12-12T15:23:59.410Z"
   },
   {
    "duration": 15,
    "start_time": "2022-12-12T15:24:21.200Z"
   },
   {
    "duration": 6,
    "start_time": "2022-12-12T15:24:59.248Z"
   },
   {
    "duration": 9,
    "start_time": "2022-12-12T15:25:11.647Z"
   },
   {
    "duration": 10,
    "start_time": "2022-12-12T15:25:16.031Z"
   },
   {
    "duration": 13,
    "start_time": "2022-12-12T15:25:28.166Z"
   },
   {
    "duration": 11,
    "start_time": "2022-12-12T15:25:37.318Z"
   },
   {
    "duration": 12,
    "start_time": "2022-12-12T15:25:58.673Z"
   },
   {
    "duration": 632,
    "start_time": "2022-12-12T15:26:13.223Z"
   },
   {
    "duration": 7,
    "start_time": "2022-12-12T15:26:18.949Z"
   },
   {
    "duration": 5,
    "start_time": "2022-12-12T15:26:35.684Z"
   },
   {
    "duration": 4,
    "start_time": "2022-12-12T15:26:41.556Z"
   },
   {
    "duration": 627,
    "start_time": "2022-12-12T15:31:09.110Z"
   },
   {
    "duration": 5,
    "start_time": "2022-12-12T15:31:27.396Z"
   },
   {
    "duration": 5,
    "start_time": "2022-12-12T15:31:41.467Z"
   },
   {
    "duration": 25,
    "start_time": "2022-12-12T15:32:09.291Z"
   },
   {
    "duration": 24,
    "start_time": "2022-12-12T15:32:16.075Z"
   },
   {
    "duration": 23,
    "start_time": "2022-12-12T15:32:27.827Z"
   },
   {
    "duration": 24,
    "start_time": "2022-12-12T15:32:37.450Z"
   },
   {
    "duration": 481,
    "start_time": "2022-12-12T15:35:50.061Z"
   },
   {
    "duration": 454,
    "start_time": "2022-12-12T15:36:18.644Z"
   },
   {
    "duration": 455,
    "start_time": "2022-12-12T15:36:35.298Z"
   },
   {
    "duration": 478,
    "start_time": "2022-12-12T15:36:50.260Z"
   },
   {
    "duration": 587,
    "start_time": "2022-12-12T15:37:42.722Z"
   },
   {
    "duration": 614,
    "start_time": "2022-12-12T15:41:55.474Z"
   },
   {
    "duration": 623,
    "start_time": "2022-12-12T15:41:59.746Z"
   },
   {
    "duration": 589,
    "start_time": "2022-12-12T15:42:04.362Z"
   },
   {
    "duration": 584,
    "start_time": "2022-12-12T15:42:53.185Z"
   },
   {
    "duration": 29,
    "start_time": "2022-12-12T15:43:11.390Z"
   },
   {
    "duration": 24,
    "start_time": "2022-12-12T15:43:30.999Z"
   },
   {
    "duration": 27,
    "start_time": "2022-12-12T15:43:35.440Z"
   },
   {
    "duration": 42,
    "start_time": "2022-12-12T15:44:39.798Z"
   },
   {
    "duration": 3,
    "start_time": "2022-12-12T15:44:45.862Z"
   },
   {
    "duration": 851,
    "start_time": "2022-12-12T15:44:46.425Z"
   },
   {
    "duration": 56,
    "start_time": "2022-12-12T15:44:54.444Z"
   },
   {
    "duration": 28,
    "start_time": "2022-12-12T15:45:24.658Z"
   },
   {
    "duration": 56,
    "start_time": "2022-12-12T15:45:38.075Z"
   },
   {
    "duration": 508,
    "start_time": "2022-12-12T15:46:24.013Z"
   },
   {
    "duration": 540,
    "start_time": "2022-12-12T15:46:39.314Z"
   },
   {
    "duration": 25,
    "start_time": "2022-12-12T15:47:08.742Z"
   },
   {
    "duration": 611,
    "start_time": "2022-12-12T15:47:10.209Z"
   },
   {
    "duration": 45,
    "start_time": "2022-12-12T15:48:50.385Z"
   },
   {
    "duration": 47,
    "start_time": "2022-12-12T15:49:51.987Z"
   },
   {
    "duration": 64,
    "start_time": "2022-12-12T15:50:22.035Z"
   },
   {
    "duration": 61,
    "start_time": "2022-12-12T15:52:05.330Z"
   },
   {
    "duration": 84,
    "start_time": "2022-12-12T15:52:50.131Z"
   },
   {
    "duration": 102,
    "start_time": "2022-12-12T15:53:05.737Z"
   },
   {
    "duration": 43,
    "start_time": "2022-12-12T16:04:49.338Z"
   },
   {
    "duration": 708,
    "start_time": "2022-12-12T16:08:24.627Z"
   },
   {
    "duration": 20,
    "start_time": "2022-12-12T16:08:32.042Z"
   },
   {
    "duration": 13,
    "start_time": "2022-12-12T16:08:44.617Z"
   },
   {
    "duration": 12,
    "start_time": "2022-12-12T16:09:54.251Z"
   },
   {
    "duration": 9,
    "start_time": "2022-12-12T16:12:51.011Z"
   },
   {
    "duration": 11,
    "start_time": "2022-12-12T16:12:57.313Z"
   },
   {
    "duration": 9,
    "start_time": "2022-12-12T16:13:04.025Z"
   },
   {
    "duration": 33,
    "start_time": "2022-12-12T16:17:43.073Z"
   },
   {
    "duration": 57,
    "start_time": "2022-12-12T16:21:52.123Z"
   },
   {
    "duration": 108,
    "start_time": "2022-12-12T16:22:17.713Z"
   },
   {
    "duration": 35,
    "start_time": "2022-12-12T16:29:22.520Z"
   },
   {
    "duration": 29,
    "start_time": "2022-12-12T16:29:44.974Z"
   },
   {
    "duration": 622,
    "start_time": "2022-12-12T16:29:59.877Z"
   },
   {
    "duration": 36,
    "start_time": "2022-12-12T16:30:11.342Z"
   },
   {
    "duration": 26,
    "start_time": "2022-12-12T16:30:49.285Z"
   },
   {
    "duration": 45,
    "start_time": "2022-12-12T16:33:57.859Z"
   },
   {
    "duration": 114,
    "start_time": "2022-12-12T16:34:26.475Z"
   },
   {
    "duration": 20,
    "start_time": "2022-12-12T16:35:02.638Z"
   },
   {
    "duration": 87,
    "start_time": "2022-12-12T16:35:28.729Z"
   },
   {
    "duration": 85,
    "start_time": "2022-12-12T16:36:27.886Z"
   },
   {
    "duration": 22,
    "start_time": "2022-12-12T17:12:00.090Z"
   },
   {
    "duration": 8,
    "start_time": "2022-12-12T17:12:25.954Z"
   },
   {
    "duration": 12,
    "start_time": "2022-12-12T17:12:39.056Z"
   },
   {
    "duration": 4,
    "start_time": "2022-12-12T17:12:53.722Z"
   },
   {
    "duration": 4,
    "start_time": "2022-12-12T17:13:12.363Z"
   },
   {
    "duration": 3,
    "start_time": "2022-12-12T17:13:27.871Z"
   },
   {
    "duration": 10,
    "start_time": "2022-12-12T17:13:36.551Z"
   },
   {
    "duration": 44,
    "start_time": "2022-12-12T17:13:40.750Z"
   },
   {
    "duration": 29,
    "start_time": "2022-12-12T17:14:28.047Z"
   },
   {
    "duration": 6,
    "start_time": "2022-12-12T17:14:29.599Z"
   },
   {
    "duration": 39,
    "start_time": "2022-12-12T17:15:33.956Z"
   },
   {
    "duration": 91,
    "start_time": "2022-12-12T17:16:00.859Z"
   },
   {
    "duration": 86,
    "start_time": "2022-12-12T17:16:49.544Z"
   },
   {
    "duration": 93,
    "start_time": "2022-12-12T17:17:25.160Z"
   },
   {
    "duration": 51,
    "start_time": "2022-12-12T17:18:04.840Z"
   },
   {
    "duration": 35,
    "start_time": "2022-12-12T17:18:35.599Z"
   },
   {
    "duration": 39,
    "start_time": "2022-12-12T17:19:01.023Z"
   },
   {
    "duration": 40,
    "start_time": "2022-12-12T17:19:16.711Z"
   },
   {
    "duration": 38,
    "start_time": "2022-12-12T17:19:22.790Z"
   },
   {
    "duration": 63,
    "start_time": "2022-12-12T17:19:45.860Z"
   },
   {
    "duration": 53,
    "start_time": "2022-12-12T17:20:10.148Z"
   },
   {
    "duration": 36,
    "start_time": "2022-12-12T17:20:35.604Z"
   },
   {
    "duration": 41,
    "start_time": "2022-12-12T17:20:57.259Z"
   },
   {
    "duration": 39,
    "start_time": "2022-12-12T17:25:26.187Z"
   },
   {
    "duration": 41,
    "start_time": "2022-12-12T17:25:30.643Z"
   },
   {
    "duration": 53,
    "start_time": "2022-12-12T17:25:34.516Z"
   },
   {
    "duration": 54,
    "start_time": "2022-12-12T17:30:36.898Z"
   },
   {
    "duration": 22,
    "start_time": "2022-12-12T17:31:45.652Z"
   },
   {
    "duration": 34,
    "start_time": "2022-12-12T17:32:57.632Z"
   },
   {
    "duration": 9,
    "start_time": "2022-12-12T17:35:23.474Z"
   },
   {
    "duration": 10,
    "start_time": "2022-12-12T17:35:48.863Z"
   },
   {
    "duration": 9,
    "start_time": "2022-12-12T17:36:00.150Z"
   },
   {
    "duration": 9,
    "start_time": "2022-12-12T17:36:04.598Z"
   },
   {
    "duration": 10,
    "start_time": "2022-12-12T17:36:12.789Z"
   },
   {
    "duration": 8,
    "start_time": "2022-12-12T17:36:36.118Z"
   },
   {
    "duration": 8,
    "start_time": "2022-12-12T17:36:40.965Z"
   },
   {
    "duration": 8,
    "start_time": "2022-12-12T17:36:46.436Z"
   },
   {
    "duration": 10,
    "start_time": "2022-12-12T17:37:48.533Z"
   },
   {
    "duration": 28,
    "start_time": "2022-12-12T19:18:15.439Z"
   },
   {
    "duration": 15,
    "start_time": "2022-12-12T19:18:43.635Z"
   },
   {
    "duration": 18,
    "start_time": "2022-12-12T19:19:06.721Z"
   },
   {
    "duration": 21,
    "start_time": "2022-12-12T19:19:13.745Z"
   },
   {
    "duration": 16,
    "start_time": "2022-12-12T19:19:23.792Z"
   },
   {
    "duration": 15,
    "start_time": "2022-12-12T19:19:47.544Z"
   },
   {
    "duration": 24,
    "start_time": "2022-12-12T19:19:58.911Z"
   },
   {
    "duration": 15,
    "start_time": "2022-12-12T19:20:43.471Z"
   },
   {
    "duration": 14,
    "start_time": "2022-12-12T19:24:47.215Z"
   },
   {
    "duration": 14,
    "start_time": "2022-12-12T19:24:54.242Z"
   },
   {
    "duration": 50,
    "start_time": "2022-12-12T19:33:16.702Z"
   },
   {
    "duration": 11,
    "start_time": "2022-12-12T19:33:42.942Z"
   },
   {
    "duration": 6,
    "start_time": "2022-12-12T19:40:31.196Z"
   },
   {
    "duration": 15,
    "start_time": "2022-12-12T19:40:54.332Z"
   },
   {
    "duration": 8,
    "start_time": "2022-12-12T19:41:19.801Z"
   },
   {
    "duration": 8,
    "start_time": "2022-12-12T19:41:53.209Z"
   },
   {
    "duration": 8,
    "start_time": "2022-12-12T19:42:01.616Z"
   },
   {
    "duration": 9,
    "start_time": "2022-12-12T19:42:09.263Z"
   },
   {
    "duration": 7,
    "start_time": "2022-12-12T19:42:38.423Z"
   },
   {
    "duration": 4,
    "start_time": "2022-12-12T19:42:54.214Z"
   },
   {
    "duration": 9,
    "start_time": "2022-12-12T19:43:15.925Z"
   },
   {
    "duration": 10,
    "start_time": "2022-12-12T19:43:20.861Z"
   },
   {
    "duration": 13,
    "start_time": "2022-12-12T19:43:49.765Z"
   },
   {
    "duration": 9,
    "start_time": "2022-12-12T19:44:41.133Z"
   },
   {
    "duration": 9,
    "start_time": "2022-12-12T19:44:52.531Z"
   },
   {
    "duration": 5,
    "start_time": "2022-12-12T19:45:37.330Z"
   },
   {
    "duration": 21,
    "start_time": "2022-12-12T19:47:18.891Z"
   },
   {
    "duration": 12,
    "start_time": "2022-12-12T19:48:15.661Z"
   },
   {
    "duration": 3,
    "start_time": "2022-12-12T19:48:59.588Z"
   },
   {
    "duration": 23,
    "start_time": "2022-12-12T19:50:12.026Z"
   },
   {
    "duration": 47,
    "start_time": "2022-12-13T09:39:21.443Z"
   },
   {
    "duration": 1090,
    "start_time": "2022-12-13T09:39:29.564Z"
   },
   {
    "duration": 1012,
    "start_time": "2022-12-13T09:39:30.657Z"
   },
   {
    "duration": 120,
    "start_time": "2022-12-13T09:39:31.670Z"
   },
   {
    "duration": 18,
    "start_time": "2022-12-13T09:39:31.792Z"
   },
   {
    "duration": 91,
    "start_time": "2022-12-13T09:39:31.812Z"
   },
   {
    "duration": 409,
    "start_time": "2022-12-13T09:39:31.904Z"
   },
   {
    "duration": 435,
    "start_time": "2022-12-13T09:39:32.315Z"
   },
   {
    "duration": 481,
    "start_time": "2022-12-13T09:39:32.752Z"
   },
   {
    "duration": 30,
    "start_time": "2022-12-13T09:39:33.235Z"
   },
   {
    "duration": 85,
    "start_time": "2022-12-13T09:39:33.268Z"
   },
   {
    "duration": 37,
    "start_time": "2022-12-13T09:39:33.355Z"
   },
   {
    "duration": 609,
    "start_time": "2022-12-13T09:39:33.393Z"
   },
   {
    "duration": 36,
    "start_time": "2022-12-13T09:39:34.003Z"
   },
   {
    "duration": 27,
    "start_time": "2022-12-13T09:39:34.040Z"
   },
   {
    "duration": 26,
    "start_time": "2022-12-13T09:39:34.068Z"
   },
   {
    "duration": 59,
    "start_time": "2022-12-13T09:39:34.096Z"
   },
   {
    "duration": 75,
    "start_time": "2022-12-13T09:39:34.156Z"
   },
   {
    "duration": 31,
    "start_time": "2022-12-13T09:39:34.232Z"
   },
   {
    "duration": 34,
    "start_time": "2022-12-13T09:39:34.265Z"
   },
   {
    "duration": 52,
    "start_time": "2022-12-13T09:39:34.300Z"
   },
   {
    "duration": 33,
    "start_time": "2022-12-13T09:39:34.353Z"
   },
   {
    "duration": 66,
    "start_time": "2022-12-13T09:39:34.387Z"
   },
   {
    "duration": 13,
    "start_time": "2022-12-13T09:39:34.454Z"
   },
   {
    "duration": 15,
    "start_time": "2022-12-13T09:39:34.468Z"
   },
   {
    "duration": 55,
    "start_time": "2022-12-13T09:39:34.484Z"
   },
   {
    "duration": 10,
    "start_time": "2022-12-13T09:39:34.541Z"
   },
   {
    "duration": 7,
    "start_time": "2022-12-13T09:39:34.553Z"
   },
   {
    "duration": 12,
    "start_time": "2022-12-13T09:39:34.562Z"
   },
   {
    "duration": 5,
    "start_time": "2022-12-13T09:39:34.576Z"
   },
   {
    "duration": 59,
    "start_time": "2022-12-13T09:39:34.582Z"
   },
   {
    "duration": 23,
    "start_time": "2022-12-13T09:39:34.642Z"
   },
   {
    "duration": 46,
    "start_time": "2022-12-13T09:39:34.667Z"
   },
   {
    "duration": 11,
    "start_time": "2022-12-13T09:51:11.685Z"
   },
   {
    "duration": 12,
    "start_time": "2022-12-13T09:51:14.802Z"
   },
   {
    "duration": 13,
    "start_time": "2022-12-13T09:51:19.130Z"
   },
   {
    "duration": 13,
    "start_time": "2022-12-13T09:51:23.538Z"
   },
   {
    "duration": 5,
    "start_time": "2022-12-13T10:36:19.074Z"
   },
   {
    "duration": 4,
    "start_time": "2022-12-13T10:36:25.611Z"
   },
   {
    "duration": 8,
    "start_time": "2022-12-13T10:46:29.168Z"
   },
   {
    "duration": 22,
    "start_time": "2022-12-13T10:57:02.398Z"
   },
   {
    "duration": 29,
    "start_time": "2022-12-13T10:57:42.612Z"
   },
   {
    "duration": 10,
    "start_time": "2022-12-13T10:58:32.554Z"
   },
   {
    "duration": 8,
    "start_time": "2022-12-13T11:00:17.872Z"
   },
   {
    "duration": 6,
    "start_time": "2022-12-13T11:00:26.265Z"
   },
   {
    "duration": 10,
    "start_time": "2022-12-13T11:00:55.719Z"
   },
   {
    "duration": 244,
    "start_time": "2022-12-13T11:04:08.345Z"
   },
   {
    "duration": 10,
    "start_time": "2022-12-13T11:08:51.124Z"
   },
   {
    "duration": 9,
    "start_time": "2022-12-13T11:10:19.430Z"
   },
   {
    "duration": 258,
    "start_time": "2022-12-13T11:19:08.544Z"
   },
   {
    "duration": 45,
    "start_time": "2022-12-13T11:19:26.863Z"
   },
   {
    "duration": 31,
    "start_time": "2022-12-13T11:19:54.222Z"
   },
   {
    "duration": 31,
    "start_time": "2022-12-13T11:20:13.141Z"
   },
   {
    "duration": 30,
    "start_time": "2022-12-13T11:20:37.373Z"
   },
   {
    "duration": 30,
    "start_time": "2022-12-13T11:20:42.651Z"
   },
   {
    "duration": 41,
    "start_time": "2022-12-13T11:48:22.835Z"
   },
   {
    "duration": 3,
    "start_time": "2022-12-13T14:40:45.856Z"
   },
   {
    "duration": 215,
    "start_time": "2022-12-13T15:03:18.368Z"
   },
   {
    "duration": 3,
    "start_time": "2022-12-13T15:15:50.735Z"
   },
   {
    "duration": 2,
    "start_time": "2022-12-13T15:17:44.939Z"
   },
   {
    "duration": 176,
    "start_time": "2022-12-13T15:17:45.392Z"
   },
   {
    "duration": 2,
    "start_time": "2022-12-13T15:20:01.044Z"
   },
   {
    "duration": 161,
    "start_time": "2022-12-13T15:20:01.363Z"
   },
   {
    "duration": 154,
    "start_time": "2022-12-13T15:25:44.794Z"
   },
   {
    "duration": 99,
    "start_time": "2022-12-13T15:34:57.713Z"
   },
   {
    "duration": 65,
    "start_time": "2022-12-13T15:37:54.702Z"
   },
   {
    "duration": 9,
    "start_time": "2022-12-13T15:38:38.403Z"
   },
   {
    "duration": 46,
    "start_time": "2022-12-13T15:42:17.846Z"
   },
   {
    "duration": 2,
    "start_time": "2022-12-13T15:45:12.120Z"
   },
   {
    "duration": 39,
    "start_time": "2022-12-13T15:52:03.673Z"
   },
   {
    "duration": 17,
    "start_time": "2022-12-13T15:52:11.560Z"
   },
   {
    "duration": 68,
    "start_time": "2022-12-13T15:52:37.643Z"
   },
   {
    "duration": 17,
    "start_time": "2022-12-13T15:52:54.802Z"
   },
   {
    "duration": 55,
    "start_time": "2022-12-13T15:54:05.136Z"
   },
   {
    "duration": 17,
    "start_time": "2022-12-13T15:54:07.037Z"
   },
   {
    "duration": 12,
    "start_time": "2022-12-13T15:55:16.764Z"
   },
   {
    "duration": 3,
    "start_time": "2022-12-13T16:05:41.033Z"
   },
   {
    "duration": 185,
    "start_time": "2022-12-13T16:05:41.528Z"
   },
   {
    "duration": 81,
    "start_time": "2022-12-13T16:05:42.913Z"
   },
   {
    "duration": 12,
    "start_time": "2022-12-13T16:05:43.392Z"
   },
   {
    "duration": 143,
    "start_time": "2022-12-13T16:05:45.906Z"
   },
   {
    "duration": 8,
    "start_time": "2022-12-13T16:13:51.305Z"
   },
   {
    "duration": 92,
    "start_time": "2022-12-13T16:13:58.828Z"
   },
   {
    "duration": 524,
    "start_time": "2022-12-13T16:14:07.124Z"
   },
   {
    "duration": 15,
    "start_time": "2022-12-13T16:15:17.760Z"
   },
   {
    "duration": 572,
    "start_time": "2022-12-13T16:15:23.281Z"
   },
   {
    "duration": 2,
    "start_time": "2022-12-13T16:15:50.335Z"
   },
   {
    "duration": 175,
    "start_time": "2022-12-13T16:15:50.791Z"
   },
   {
    "duration": 67,
    "start_time": "2022-12-13T16:15:51.904Z"
   },
   {
    "duration": 12,
    "start_time": "2022-12-13T16:15:52.350Z"
   },
   {
    "duration": 106,
    "start_time": "2022-12-13T16:15:55.872Z"
   },
   {
    "duration": 86,
    "start_time": "2022-12-13T16:15:59.509Z"
   },
   {
    "duration": 50,
    "start_time": "2022-12-13T16:16:35.310Z"
   },
   {
    "duration": 11,
    "start_time": "2022-12-13T16:17:34.595Z"
   },
   {
    "duration": 3,
    "start_time": "2022-12-13T16:19:12.332Z"
   },
   {
    "duration": 743,
    "start_time": "2022-12-13T16:19:12.744Z"
   },
   {
    "duration": 122,
    "start_time": "2022-12-13T16:19:13.489Z"
   },
   {
    "duration": 14,
    "start_time": "2022-12-13T16:19:14.065Z"
   },
   {
    "duration": 85,
    "start_time": "2022-12-13T16:19:14.873Z"
   },
   {
    "duration": 370,
    "start_time": "2022-12-13T16:19:16.480Z"
   },
   {
    "duration": 455,
    "start_time": "2022-12-13T16:19:21.379Z"
   },
   {
    "duration": 466,
    "start_time": "2022-12-13T16:19:21.961Z"
   },
   {
    "duration": 27,
    "start_time": "2022-12-13T16:19:25.712Z"
   },
   {
    "duration": 74,
    "start_time": "2022-12-13T16:19:29.690Z"
   },
   {
    "duration": 36,
    "start_time": "2022-12-13T16:19:31.383Z"
   },
   {
    "duration": 549,
    "start_time": "2022-12-13T16:19:32.744Z"
   },
   {
    "duration": 31,
    "start_time": "2022-12-13T16:19:34.832Z"
   },
   {
    "duration": 9,
    "start_time": "2022-12-13T16:19:35.777Z"
   },
   {
    "duration": 25,
    "start_time": "2022-12-13T16:19:40.071Z"
   },
   {
    "duration": 20,
    "start_time": "2022-12-13T16:19:43.961Z"
   },
   {
    "duration": 45,
    "start_time": "2022-12-13T16:19:45.951Z"
   },
   {
    "duration": 57,
    "start_time": "2022-12-13T16:19:49.093Z"
   },
   {
    "duration": 29,
    "start_time": "2022-12-13T16:19:50.375Z"
   },
   {
    "duration": 32,
    "start_time": "2022-12-13T16:19:54.819Z"
   },
   {
    "duration": 31,
    "start_time": "2022-12-13T16:19:55.280Z"
   },
   {
    "duration": 34,
    "start_time": "2022-12-13T16:19:56.020Z"
   },
   {
    "duration": 47,
    "start_time": "2022-12-13T16:19:59.329Z"
   },
   {
    "duration": 9,
    "start_time": "2022-12-13T16:20:21.279Z"
   },
   {
    "duration": 12,
    "start_time": "2022-12-13T16:20:39.870Z"
   },
   {
    "duration": 9,
    "start_time": "2022-12-13T16:20:41.095Z"
   },
   {
    "duration": 9,
    "start_time": "2022-12-13T16:21:01.990Z"
   },
   {
    "duration": 13,
    "start_time": "2022-12-13T16:21:05.343Z"
   },
   {
    "duration": 10,
    "start_time": "2022-12-13T16:21:06.612Z"
   },
   {
    "duration": 44,
    "start_time": "2022-12-13T16:21:08.353Z"
   },
   {
    "duration": 12,
    "start_time": "2022-12-13T16:21:13.312Z"
   },
   {
    "duration": 8,
    "start_time": "2022-12-13T16:22:32.996Z"
   },
   {
    "duration": 25,
    "start_time": "2022-12-13T16:22:39.425Z"
   },
   {
    "duration": 206,
    "start_time": "2022-12-13T16:25:22.160Z"
   },
   {
    "duration": 44,
    "start_time": "2022-12-13T16:26:26.021Z"
   },
   {
    "duration": 8,
    "start_time": "2022-12-13T16:26:31.516Z"
   },
   {
    "duration": 9,
    "start_time": "2022-12-13T16:26:32.268Z"
   },
   {
    "duration": 9,
    "start_time": "2022-12-13T16:26:33.108Z"
   },
   {
    "duration": 33,
    "start_time": "2022-12-13T16:26:34.028Z"
   },
   {
    "duration": 19,
    "start_time": "2022-12-13T16:26:34.860Z"
   },
   {
    "duration": 18,
    "start_time": "2022-12-13T16:26:35.670Z"
   },
   {
    "duration": 3,
    "start_time": "2022-12-13T16:26:37.467Z"
   },
   {
    "duration": 146,
    "start_time": "2022-12-13T16:26:37.836Z"
   },
   {
    "duration": 71,
    "start_time": "2022-12-13T16:26:38.509Z"
   },
   {
    "duration": 11,
    "start_time": "2022-12-13T16:26:38.876Z"
   },
   {
    "duration": 107,
    "start_time": "2022-12-13T16:26:43.871Z"
   },
   {
    "duration": 9,
    "start_time": "2022-12-13T16:26:44.811Z"
   },
   {
    "duration": 41,
    "start_time": "2022-12-13T16:26:46.451Z"
   },
   {
    "duration": 3613,
    "start_time": "2022-12-13T16:26:48.609Z"
   },
   {
    "duration": 4,
    "start_time": "2022-12-13T16:27:42.445Z"
   },
   {
    "duration": 3206,
    "start_time": "2022-12-13T16:27:51.321Z"
   },
   {
    "duration": 3,
    "start_time": "2022-12-13T16:29:04.159Z"
   },
   {
    "duration": 37812,
    "start_time": "2022-12-13T16:32:06.471Z"
   },
   {
    "duration": 3,
    "start_time": "2022-12-13T16:32:54.097Z"
   },
   {
    "duration": 3545,
    "start_time": "2022-12-13T16:33:26.282Z"
   },
   {
    "duration": 3,
    "start_time": "2022-12-13T16:33:35.439Z"
   },
   {
    "duration": 3,
    "start_time": "2022-12-13T18:27:32.257Z"
   },
   {
    "duration": 94,
    "start_time": "2022-12-13T19:35:34.219Z"
   },
   {
    "duration": 48,
    "start_time": "2022-12-13T19:36:29.505Z"
   },
   {
    "duration": 47,
    "start_time": "2022-12-13T19:37:05.806Z"
   },
   {
    "duration": 234469,
    "start_time": "2022-12-13T19:37:12.613Z"
   },
   {
    "duration": 4,
    "start_time": "2022-12-13T19:44:35.751Z"
   },
   {
    "duration": 68,
    "start_time": "2022-12-13T19:51:22.179Z"
   },
   {
    "duration": 6829,
    "start_time": "2022-12-13T20:07:13.192Z"
   },
   {
    "duration": 3,
    "start_time": "2022-12-13T20:07:29.564Z"
   },
   {
    "duration": 3,
    "start_time": "2022-12-13T20:10:29.242Z"
   },
   {
    "duration": 4,
    "start_time": "2022-12-13T20:16:39.537Z"
   },
   {
    "duration": 5,
    "start_time": "2022-12-13T20:16:45.497Z"
   },
   {
    "duration": 3235,
    "start_time": "2022-12-13T20:17:41.699Z"
   },
   {
    "duration": 1511,
    "start_time": "2022-12-14T13:15:12.856Z"
   },
   {
    "duration": 3148,
    "start_time": "2022-12-14T13:15:14.369Z"
   },
   {
    "duration": 149,
    "start_time": "2022-12-14T13:15:17.519Z"
   },
   {
    "duration": 26,
    "start_time": "2022-12-14T13:15:17.670Z"
   },
   {
    "duration": 137,
    "start_time": "2022-12-14T13:15:17.699Z"
   },
   {
    "duration": 589,
    "start_time": "2022-12-14T13:15:17.838Z"
   },
   {
    "duration": 540,
    "start_time": "2022-12-14T13:15:18.429Z"
   },
   {
    "duration": 658,
    "start_time": "2022-12-14T13:15:18.971Z"
   },
   {
    "duration": 39,
    "start_time": "2022-12-14T13:15:19.631Z"
   },
   {
    "duration": 120,
    "start_time": "2022-12-14T13:15:19.672Z"
   },
   {
    "duration": 57,
    "start_time": "2022-12-14T13:15:19.794Z"
   },
   {
    "duration": 688,
    "start_time": "2022-12-14T13:15:19.964Z"
   },
   {
    "duration": 50,
    "start_time": "2022-12-14T13:15:20.655Z"
   },
   {
    "duration": 11,
    "start_time": "2022-12-14T13:15:21.206Z"
   },
   {
    "duration": 28,
    "start_time": "2022-12-14T13:15:22.205Z"
   },
   {
    "duration": 29,
    "start_time": "2022-12-14T13:15:23.752Z"
   },
   {
    "duration": 41,
    "start_time": "2022-12-14T13:15:24.709Z"
   },
   {
    "duration": 67,
    "start_time": "2022-12-14T13:15:25.101Z"
   },
   {
    "duration": 36,
    "start_time": "2022-12-14T13:15:26.580Z"
   },
   {
    "duration": 36,
    "start_time": "2022-12-14T13:15:27.774Z"
   },
   {
    "duration": 40,
    "start_time": "2022-12-14T13:15:28.943Z"
   },
   {
    "duration": 39,
    "start_time": "2022-12-14T13:15:29.477Z"
   },
   {
    "duration": 61,
    "start_time": "2022-12-14T13:15:31.135Z"
   },
   {
    "duration": 10,
    "start_time": "2022-12-14T13:15:33.006Z"
   },
   {
    "duration": 15,
    "start_time": "2022-12-14T13:15:34.350Z"
   },
   {
    "duration": 11,
    "start_time": "2022-12-14T13:15:36.100Z"
   },
   {
    "duration": 54,
    "start_time": "2022-12-14T13:15:37.750Z"
   },
   {
    "duration": 20,
    "start_time": "2022-12-14T13:15:38.157Z"
   },
   {
    "duration": 47,
    "start_time": "2022-12-14T13:15:39.694Z"
   },
   {
    "duration": 13,
    "start_time": "2022-12-14T13:15:40.900Z"
   },
   {
    "duration": 12,
    "start_time": "2022-12-14T13:15:42.357Z"
   },
   {
    "duration": 12,
    "start_time": "2022-12-14T13:15:43.286Z"
   },
   {
    "duration": 54,
    "start_time": "2022-12-14T13:15:44.724Z"
   },
   {
    "duration": 26,
    "start_time": "2022-12-14T13:15:46.356Z"
   },
   {
    "duration": 22,
    "start_time": "2022-12-14T13:15:47.557Z"
   },
   {
    "duration": 4,
    "start_time": "2022-12-14T13:15:50.452Z"
   },
   {
    "duration": 214,
    "start_time": "2022-12-14T13:15:50.828Z"
   },
   {
    "duration": 80,
    "start_time": "2022-12-14T13:15:52.125Z"
   },
   {
    "duration": 14,
    "start_time": "2022-12-14T13:15:54.701Z"
   },
   {
    "duration": 4,
    "start_time": "2022-12-14T13:16:04.354Z"
   },
   {
    "duration": 133,
    "start_time": "2022-12-14T13:16:14.582Z"
   },
   {
    "duration": 4579,
    "start_time": "2022-12-14T13:16:21.277Z"
   },
   {
    "duration": 4312,
    "start_time": "2022-12-14T13:16:28.244Z"
   },
   {
    "duration": 4280,
    "start_time": "2022-12-14T13:17:14.778Z"
   },
   {
    "duration": 4,
    "start_time": "2022-12-14T13:17:39.922Z"
   },
   {
    "duration": 46126,
    "start_time": "2022-12-14T13:17:40.659Z"
   },
   {
    "duration": 345347,
    "start_time": "2022-12-14T13:22:37.530Z"
   },
   {
    "duration": 67187,
    "start_time": "2022-12-14T14:20:07.285Z"
   },
   {
    "duration": 4813,
    "start_time": "2022-12-14T14:29:05.554Z"
   },
   {
    "duration": 5381,
    "start_time": "2022-12-14T14:29:41.093Z"
   },
   {
    "duration": 4969,
    "start_time": "2022-12-14T14:31:07.505Z"
   },
   {
    "duration": 4853,
    "start_time": "2022-12-14T14:31:25.425Z"
   },
   {
    "duration": 4088,
    "start_time": "2022-12-14T14:32:45.167Z"
   },
   {
    "duration": 3915,
    "start_time": "2022-12-14T14:33:14.438Z"
   },
   {
    "duration": 4251,
    "start_time": "2022-12-14T14:33:53.714Z"
   },
   {
    "duration": 208,
    "start_time": "2022-12-14T14:35:45.723Z"
   },
   {
    "duration": 104,
    "start_time": "2022-12-14T14:35:50.954Z"
   },
   {
    "duration": 296145,
    "start_time": "2022-12-14T14:35:51.657Z"
   },
   {
    "duration": 297530,
    "start_time": "2022-12-14T14:41:47.335Z"
   },
   {
    "duration": 301333,
    "start_time": "2022-12-14T14:48:23.211Z"
   },
   {
    "duration": 113,
    "start_time": "2022-12-14T14:56:05.406Z"
   },
   {
    "duration": 114,
    "start_time": "2022-12-14T14:57:38.308Z"
   },
   {
    "duration": 98,
    "start_time": "2022-12-14T14:58:03.131Z"
   },
   {
    "duration": 306524,
    "start_time": "2022-12-14T14:58:17.161Z"
   },
   {
    "duration": 95,
    "start_time": "2022-12-14T15:05:54.557Z"
   },
   {
    "duration": 103,
    "start_time": "2022-12-14T15:09:09.933Z"
   },
   {
    "duration": 37,
    "start_time": "2022-12-14T15:09:17.602Z"
   },
   {
    "duration": 309072,
    "start_time": "2022-12-14T15:11:17.067Z"
   },
   {
    "duration": 699,
    "start_time": "2022-12-14T15:16:56.543Z"
   },
   {
    "duration": 796,
    "start_time": "2022-12-14T15:17:16.072Z"
   },
   {
    "duration": 9,
    "start_time": "2022-12-14T15:17:19.640Z"
   },
   {
    "duration": 107,
    "start_time": "2022-12-14T15:17:46.893Z"
   },
   {
    "duration": 445,
    "start_time": "2022-12-14T15:17:55.488Z"
   },
   {
    "duration": 908,
    "start_time": "2022-12-14T15:17:56.021Z"
   },
   {
    "duration": 146,
    "start_time": "2022-12-14T15:17:57.581Z"
   },
   {
    "duration": 16,
    "start_time": "2022-12-14T15:17:59.061Z"
   },
   {
    "duration": 106,
    "start_time": "2022-12-14T15:18:04.013Z"
   },
   {
    "duration": 476,
    "start_time": "2022-12-14T15:18:15.508Z"
   },
   {
    "duration": 504,
    "start_time": "2022-12-14T15:18:25.461Z"
   },
   {
    "duration": 594,
    "start_time": "2022-12-14T15:18:25.968Z"
   },
   {
    "duration": 26,
    "start_time": "2022-12-14T15:18:26.739Z"
   },
   {
    "duration": 90,
    "start_time": "2022-12-14T15:18:31.104Z"
   },
   {
    "duration": 42,
    "start_time": "2022-12-14T15:18:32.267Z"
   },
   {
    "duration": 688,
    "start_time": "2022-12-14T15:18:32.739Z"
   },
   {
    "duration": 36,
    "start_time": "2022-12-14T15:18:33.429Z"
   },
   {
    "duration": 10,
    "start_time": "2022-12-14T15:18:34.683Z"
   },
   {
    "duration": 27,
    "start_time": "2022-12-14T15:18:37.731Z"
   },
   {
    "duration": 27,
    "start_time": "2022-12-14T15:18:38.939Z"
   },
   {
    "duration": 42,
    "start_time": "2022-12-14T15:18:43.043Z"
   },
   {
    "duration": 70,
    "start_time": "2022-12-14T15:18:43.737Z"
   },
   {
    "duration": 34,
    "start_time": "2022-12-14T15:18:45.205Z"
   },
   {
    "duration": 34,
    "start_time": "2022-12-14T15:18:46.699Z"
   },
   {
    "duration": 39,
    "start_time": "2022-12-14T15:18:49.499Z"
   },
   {
    "duration": 36,
    "start_time": "2022-12-14T15:18:50.188Z"
   },
   {
    "duration": 66,
    "start_time": "2022-12-14T15:18:51.732Z"
   },
   {
    "duration": 13,
    "start_time": "2022-12-14T15:18:55.755Z"
   },
   {
    "duration": 15,
    "start_time": "2022-12-14T15:18:56.555Z"
   },
   {
    "duration": 12,
    "start_time": "2022-12-14T15:18:58.171Z"
   },
   {
    "duration": 49,
    "start_time": "2022-12-14T15:18:59.475Z"
   },
   {
    "duration": 17,
    "start_time": "2022-12-14T15:19:00.010Z"
   },
   {
    "duration": 53,
    "start_time": "2022-12-14T15:19:02.962Z"
   },
   {
    "duration": 11,
    "start_time": "2022-12-14T15:19:04.250Z"
   },
   {
    "duration": 11,
    "start_time": "2022-12-14T15:19:05.138Z"
   },
   {
    "duration": 13,
    "start_time": "2022-12-14T15:19:09.282Z"
   },
   {
    "duration": 55,
    "start_time": "2022-12-14T15:19:10.186Z"
   },
   {
    "duration": 21,
    "start_time": "2022-12-14T15:19:11.033Z"
   },
   {
    "duration": 20,
    "start_time": "2022-12-14T15:19:11.817Z"
   },
   {
    "duration": 3,
    "start_time": "2022-12-14T15:19:14.146Z"
   },
   {
    "duration": 172,
    "start_time": "2022-12-14T15:19:16.972Z"
   },
   {
    "duration": 83,
    "start_time": "2022-12-14T15:19:17.946Z"
   },
   {
    "duration": 13,
    "start_time": "2022-12-14T15:19:18.578Z"
   },
   {
    "duration": 5,
    "start_time": "2022-12-14T15:19:23.854Z"
   },
   {
    "duration": 112,
    "start_time": "2022-12-14T15:19:35.699Z"
   },
   {
    "duration": 3984,
    "start_time": "2022-12-14T15:19:37.786Z"
   },
   {
    "duration": 106,
    "start_time": "2022-12-14T15:20:03.322Z"
   },
   {
    "duration": 93,
    "start_time": "2022-12-14T15:20:29.300Z"
   },
   {
    "duration": 108,
    "start_time": "2022-12-14T15:21:07.421Z"
   },
   {
    "duration": 38,
    "start_time": "2022-12-14T15:21:26.470Z"
   },
   {
    "duration": 25,
    "start_time": "2022-12-14T15:21:40.422Z"
   },
   {
    "duration": 6,
    "start_time": "2022-12-14T15:21:55.862Z"
   },
   {
    "duration": 4,
    "start_time": "2022-12-14T15:22:08.725Z"
   },
   {
    "duration": 4,
    "start_time": "2022-12-14T15:22:15.821Z"
   },
   {
    "duration": 4,
    "start_time": "2022-12-14T15:22:22.117Z"
   },
   {
    "duration": 5,
    "start_time": "2022-12-14T15:22:31.461Z"
   },
   {
    "duration": 300401,
    "start_time": "2022-12-14T15:23:33.441Z"
   },
   {
    "duration": 5,
    "start_time": "2022-12-14T15:29:52.517Z"
   },
   {
    "duration": 3951,
    "start_time": "2022-12-14T15:30:35.230Z"
   },
   {
    "duration": 94,
    "start_time": "2022-12-14T15:31:41.375Z"
   },
   {
    "duration": 305877,
    "start_time": "2022-12-14T15:31:41.861Z"
   },
   {
    "duration": 685437,
    "start_time": "2022-12-14T15:39:13.856Z"
   },
   {
    "duration": 696732,
    "start_time": "2022-12-14T15:53:14.349Z"
   },
   {
    "duration": 298937,
    "start_time": "2022-12-14T16:10:45.920Z"
   },
   {
    "duration": 291222,
    "start_time": "2022-12-14T16:32:13.780Z"
   },
   {
    "duration": 11,
    "start_time": "2022-12-14T16:38:06.789Z"
   },
   {
    "duration": 2,
    "start_time": "2022-12-14T16:38:12.007Z"
   },
   {
    "duration": 13,
    "start_time": "2022-12-14T16:38:12.647Z"
   },
   {
    "duration": 16602,
    "start_time": "2022-12-14T16:38:31.237Z"
   },
   {
    "duration": 3,
    "start_time": "2022-12-14T16:39:05.853Z"
   },
   {
    "duration": 10895,
    "start_time": "2022-12-14T16:39:07.094Z"
   },
   {
    "duration": 14,
    "start_time": "2022-12-14T16:41:31.716Z"
   },
   {
    "duration": 3,
    "start_time": "2022-12-14T16:41:37.676Z"
   },
   {
    "duration": 8851,
    "start_time": "2022-12-14T16:41:43.835Z"
   },
   {
    "duration": 3296,
    "start_time": "2022-12-14T16:42:22.402Z"
   },
   {
    "duration": 4,
    "start_time": "2022-12-14T16:43:57.472Z"
   },
   {
    "duration": 3206,
    "start_time": "2022-12-14T16:44:12.863Z"
   },
   {
    "duration": 3348,
    "start_time": "2022-12-14T16:47:39.345Z"
   },
   {
    "duration": 203388,
    "start_time": "2022-12-14T17:11:53.356Z"
   },
   {
    "duration": 4,
    "start_time": "2022-12-14T17:16:15.045Z"
   },
   {
    "duration": 17,
    "start_time": "2022-12-14T17:16:26.345Z"
   },
   {
    "duration": 11,
    "start_time": "2022-12-14T17:16:52.832Z"
   },
   {
    "duration": 1711,
    "start_time": "2022-12-14T17:17:53.766Z"
   },
   {
    "duration": 1026,
    "start_time": "2022-12-14T17:17:55.480Z"
   },
   {
    "duration": 173,
    "start_time": "2022-12-14T17:17:56.508Z"
   },
   {
    "duration": 28,
    "start_time": "2022-12-14T17:17:56.684Z"
   },
   {
    "duration": 131,
    "start_time": "2022-12-14T17:17:56.715Z"
   },
   {
    "duration": 590,
    "start_time": "2022-12-14T17:17:56.848Z"
   },
   {
    "duration": 3,
    "start_time": "2022-12-14T17:17:57.440Z"
   },
   {
    "duration": 81257,
    "start_time": "2022-12-14T17:17:57.450Z"
   },
   {
    "duration": 607,
    "start_time": "2022-12-14T17:19:18.708Z"
   },
   {
    "duration": 775,
    "start_time": "2022-12-14T17:19:19.319Z"
   },
   {
    "duration": 55,
    "start_time": "2022-12-14T17:19:20.096Z"
   },
   {
    "duration": 122,
    "start_time": "2022-12-14T17:19:20.153Z"
   },
   {
    "duration": 44,
    "start_time": "2022-12-14T17:19:20.277Z"
   },
   {
    "duration": 660,
    "start_time": "2022-12-14T17:19:20.323Z"
   },
   {
    "duration": 46,
    "start_time": "2022-12-14T17:19:20.985Z"
   },
   {
    "duration": 22,
    "start_time": "2022-12-14T17:19:21.033Z"
   },
   {
    "duration": 27,
    "start_time": "2022-12-14T17:19:21.058Z"
   },
   {
    "duration": 26,
    "start_time": "2022-12-14T17:19:21.088Z"
   },
   {
    "duration": 74,
    "start_time": "2022-12-14T17:19:21.116Z"
   },
   {
    "duration": 79,
    "start_time": "2022-12-14T17:19:21.192Z"
   },
   {
    "duration": 41,
    "start_time": "2022-12-14T17:19:21.273Z"
   },
   {
    "duration": 75,
    "start_time": "2022-12-14T17:19:21.316Z"
   },
   {
    "duration": 38,
    "start_time": "2022-12-14T17:19:21.393Z"
   },
   {
    "duration": 40,
    "start_time": "2022-12-14T17:19:21.451Z"
   },
   {
    "duration": 89,
    "start_time": "2022-12-14T17:19:21.493Z"
   },
   {
    "duration": 11,
    "start_time": "2022-12-14T17:19:21.584Z"
   },
   {
    "duration": 20,
    "start_time": "2022-12-14T17:19:21.597Z"
   },
   {
    "duration": 35,
    "start_time": "2022-12-14T17:19:21.623Z"
   },
   {
    "duration": 50,
    "start_time": "2022-12-14T17:19:21.660Z"
   },
   {
    "duration": 12,
    "start_time": "2022-12-14T17:19:21.712Z"
   },
   {
    "duration": 46,
    "start_time": "2022-12-14T17:19:21.751Z"
   },
   {
    "duration": 9,
    "start_time": "2022-12-14T17:19:21.798Z"
   },
   {
    "duration": 46,
    "start_time": "2022-12-14T17:19:21.809Z"
   },
   {
    "duration": 9,
    "start_time": "2022-12-14T17:19:21.858Z"
   },
   {
    "duration": 49,
    "start_time": "2022-12-14T17:19:21.869Z"
   },
   {
    "duration": 48,
    "start_time": "2022-12-14T17:19:21.920Z"
   },
   {
    "duration": 25,
    "start_time": "2022-12-14T17:19:21.971Z"
   },
   {
    "duration": 4,
    "start_time": "2022-12-14T17:19:21.998Z"
   },
   {
    "duration": 241,
    "start_time": "2022-12-14T17:19:22.004Z"
   },
   {
    "duration": 90,
    "start_time": "2022-12-14T17:19:22.247Z"
   },
   {
    "duration": 24,
    "start_time": "2022-12-14T17:19:22.339Z"
   },
   {
    "duration": 9,
    "start_time": "2022-12-14T17:19:22.367Z"
   },
   {
    "duration": 163,
    "start_time": "2022-12-14T17:19:22.378Z"
   },
   {
    "duration": 4614,
    "start_time": "2022-12-14T17:19:22.542Z"
   },
   {
    "duration": 10,
    "start_time": "2022-12-14T17:19:27.158Z"
   },
   {
    "duration": 46799,
    "start_time": "2022-12-14T17:19:27.253Z"
   },
   {
    "duration": 216152,
    "start_time": "2022-12-14T17:20:14.054Z"
   },
   {
    "duration": 7682,
    "start_time": "2022-12-14T17:23:50.208Z"
   },
   {
    "duration": 7470,
    "start_time": "2022-12-14T17:23:57.892Z"
   },
   {
    "duration": 6129,
    "start_time": "2022-12-14T17:24:05.365Z"
   },
   {
    "duration": 6096,
    "start_time": "2022-12-14T17:24:11.496Z"
   },
   {
    "duration": 6381,
    "start_time": "2022-12-14T17:24:17.594Z"
   },
   {
    "duration": 159,
    "start_time": "2022-12-14T17:24:23.978Z"
   },
   {
    "duration": 325349,
    "start_time": "2022-12-14T17:24:24.139Z"
   },
   {
    "duration": 346550,
    "start_time": "2022-12-14T17:29:49.492Z"
   },
   {
    "duration": 330614,
    "start_time": "2022-12-14T17:35:36.043Z"
   },
   {
    "duration": 9,
    "start_time": "2022-12-14T17:41:06.663Z"
   },
   {
    "duration": 23,
    "start_time": "2022-12-14T17:41:06.682Z"
   },
   {
    "duration": 6,
    "start_time": "2022-12-14T18:09:24.168Z"
   },
   {
    "duration": 12,
    "start_time": "2022-12-14T18:09:24.679Z"
   },
   {
    "duration": 5,
    "start_time": "2022-12-14T18:10:17.882Z"
   },
   {
    "duration": 13,
    "start_time": "2022-12-14T18:10:18.267Z"
   },
   {
    "duration": 7,
    "start_time": "2022-12-14T18:13:07.870Z"
   },
   {
    "duration": 17,
    "start_time": "2022-12-14T18:13:08.252Z"
   },
   {
    "duration": 2728,
    "start_time": "2022-12-16T07:40:20.065Z"
   },
   {
    "duration": 3097,
    "start_time": "2022-12-16T07:40:22.795Z"
   },
   {
    "duration": 178,
    "start_time": "2022-12-16T07:40:25.895Z"
   },
   {
    "duration": 26,
    "start_time": "2022-12-16T07:40:26.075Z"
   },
   {
    "duration": 136,
    "start_time": "2022-12-16T07:40:26.103Z"
   },
   {
    "duration": 521,
    "start_time": "2022-12-16T07:40:26.242Z"
   },
   {
    "duration": 3,
    "start_time": "2022-12-16T07:40:26.765Z"
   },
   {
    "duration": 73984,
    "start_time": "2022-12-16T07:40:26.770Z"
   },
   {
    "duration": 575,
    "start_time": "2022-12-16T07:41:40.756Z"
   },
   {
    "duration": 578,
    "start_time": "2022-12-16T07:41:41.332Z"
   },
   {
    "duration": 47,
    "start_time": "2022-12-16T07:41:41.912Z"
   },
   {
    "duration": 93,
    "start_time": "2022-12-16T07:41:41.961Z"
   },
   {
    "duration": 43,
    "start_time": "2022-12-16T07:41:42.056Z"
   },
   {
    "duration": 686,
    "start_time": "2022-12-16T07:41:42.102Z"
   },
   {
    "duration": 46,
    "start_time": "2022-12-16T07:41:42.789Z"
   },
   {
    "duration": 23,
    "start_time": "2022-12-16T07:41:42.837Z"
   },
   {
    "duration": 27,
    "start_time": "2022-12-16T07:41:42.862Z"
   },
   {
    "duration": 23,
    "start_time": "2022-12-16T07:41:42.891Z"
   },
   {
    "duration": 63,
    "start_time": "2022-12-16T07:41:42.916Z"
   },
   {
    "duration": 83,
    "start_time": "2022-12-16T07:41:42.981Z"
   },
   {
    "duration": 35,
    "start_time": "2022-12-16T07:41:43.066Z"
   },
   {
    "duration": 58,
    "start_time": "2022-12-16T07:41:43.103Z"
   },
   {
    "duration": 37,
    "start_time": "2022-12-16T07:41:43.162Z"
   },
   {
    "duration": 56,
    "start_time": "2022-12-16T07:41:43.201Z"
   },
   {
    "duration": 58,
    "start_time": "2022-12-16T07:41:43.260Z"
   },
   {
    "duration": 9,
    "start_time": "2022-12-16T07:41:43.320Z"
   },
   {
    "duration": 34,
    "start_time": "2022-12-16T07:41:43.331Z"
   },
   {
    "duration": 10,
    "start_time": "2022-12-16T07:41:43.367Z"
   },
   {
    "duration": 48,
    "start_time": "2022-12-16T07:41:43.379Z"
   },
   {
    "duration": 14,
    "start_time": "2022-12-16T07:41:43.452Z"
   },
   {
    "duration": 44,
    "start_time": "2022-12-16T07:41:43.467Z"
   },
   {
    "duration": 10,
    "start_time": "2022-12-16T07:41:43.513Z"
   },
   {
    "duration": 12,
    "start_time": "2022-12-16T07:41:43.550Z"
   },
   {
    "duration": 11,
    "start_time": "2022-12-16T07:41:43.564Z"
   },
   {
    "duration": 46,
    "start_time": "2022-12-16T07:41:43.576Z"
   },
   {
    "duration": 44,
    "start_time": "2022-12-16T07:41:43.623Z"
   },
   {
    "duration": 21,
    "start_time": "2022-12-16T07:41:43.669Z"
   },
   {
    "duration": 4,
    "start_time": "2022-12-16T07:41:43.692Z"
   },
   {
    "duration": 249,
    "start_time": "2022-12-16T07:41:43.698Z"
   },
   {
    "duration": 77,
    "start_time": "2022-12-16T07:41:43.949Z"
   },
   {
    "duration": 31,
    "start_time": "2022-12-16T07:41:44.032Z"
   },
   {
    "duration": 1662,
    "start_time": "2022-12-20T08:15:34.133Z"
   },
   {
    "duration": 136,
    "start_time": "2022-12-20T08:15:49.041Z"
   },
   {
    "duration": 1575,
    "start_time": "2022-12-20T08:17:29.200Z"
   },
   {
    "duration": 2641,
    "start_time": "2022-12-20T08:17:54.616Z"
   },
   {
    "duration": 15,
    "start_time": "2022-12-20T08:19:10.444Z"
   },
   {
    "duration": 81,
    "start_time": "2022-12-20T08:19:21.306Z"
   },
   {
    "duration": 4,
    "start_time": "2022-12-20T08:19:53.448Z"
   },
   {
    "duration": 3,
    "start_time": "2022-12-20T08:19:58.464Z"
   },
   {
    "duration": 86,
    "start_time": "2022-12-20T15:35:26.068Z"
   },
   {
    "duration": 4,
    "start_time": "2022-12-20T15:38:54.549Z"
   },
   {
    "duration": 749,
    "start_time": "2022-12-20T15:38:55.232Z"
   },
   {
    "duration": 128,
    "start_time": "2022-12-20T15:38:55.982Z"
   },
   {
    "duration": 14,
    "start_time": "2022-12-20T15:38:56.191Z"
   },
   {
    "duration": 83,
    "start_time": "2022-12-20T15:38:56.471Z"
   },
   {
    "duration": 417,
    "start_time": "2022-12-20T15:38:56.824Z"
   },
   {
    "duration": 3,
    "start_time": "2022-12-20T15:38:57.480Z"
   },
   {
    "duration": 2,
    "start_time": "2022-12-20T15:38:57.790Z"
   },
   {
    "duration": 443,
    "start_time": "2022-12-20T15:38:59.098Z"
   },
   {
    "duration": 454,
    "start_time": "2022-12-20T15:38:59.543Z"
   },
   {
    "duration": 44,
    "start_time": "2022-12-20T15:39:01.958Z"
   },
   {
    "duration": 76,
    "start_time": "2022-12-20T15:39:02.595Z"
   },
   {
    "duration": 39,
    "start_time": "2022-12-20T15:39:03.262Z"
   },
   {
    "duration": 572,
    "start_time": "2022-12-20T15:39:03.656Z"
   },
   {
    "duration": 734,
    "start_time": "2022-12-20T15:48:10.033Z"
   },
   {
    "duration": 127,
    "start_time": "2022-12-20T15:48:10.769Z"
   },
   {
    "duration": 13,
    "start_time": "2022-12-20T15:48:10.898Z"
   },
   {
    "duration": 76,
    "start_time": "2022-12-20T15:48:11.208Z"
   },
   {
    "duration": 370,
    "start_time": "2022-12-20T15:48:11.496Z"
   },
   {
    "duration": 2,
    "start_time": "2022-12-20T15:48:12.310Z"
   },
   {
    "duration": 2,
    "start_time": "2022-12-20T15:48:12.668Z"
   },
   {
    "duration": 508,
    "start_time": "2022-12-20T15:48:13.946Z"
   },
   {
    "duration": 461,
    "start_time": "2022-12-20T15:48:14.456Z"
   },
   {
    "duration": 22,
    "start_time": "2022-12-20T15:48:15.725Z"
   },
   {
    "duration": 76,
    "start_time": "2022-12-20T15:48:17.120Z"
   },
   {
    "duration": 30,
    "start_time": "2022-12-20T15:48:18.982Z"
   },
   {
    "duration": 532,
    "start_time": "2022-12-20T15:48:19.288Z"
   },
   {
    "duration": 35,
    "start_time": "2022-12-20T15:48:19.822Z"
   },
   {
    "duration": 9,
    "start_time": "2022-12-20T15:48:24.352Z"
   },
   {
    "duration": 25,
    "start_time": "2022-12-20T15:48:24.982Z"
   },
   {
    "duration": 24,
    "start_time": "2022-12-20T15:48:25.904Z"
   },
   {
    "duration": 34,
    "start_time": "2022-12-20T15:48:26.550Z"
   },
   {
    "duration": 59,
    "start_time": "2022-12-20T15:48:26.869Z"
   },
   {
    "duration": 30,
    "start_time": "2022-12-20T15:48:29.916Z"
   },
   {
    "duration": 35,
    "start_time": "2022-12-20T15:48:31.079Z"
   },
   {
    "duration": 32,
    "start_time": "2022-12-20T15:48:31.455Z"
   },
   {
    "duration": 31,
    "start_time": "2022-12-20T15:48:31.799Z"
   },
   {
    "duration": 56,
    "start_time": "2022-12-20T15:48:34.799Z"
   },
   {
    "duration": 8,
    "start_time": "2022-12-20T15:48:36.175Z"
   },
   {
    "duration": 11,
    "start_time": "2022-12-20T15:48:37.352Z"
   },
   {
    "duration": 10,
    "start_time": "2022-12-20T15:48:42.241Z"
   },
   {
    "duration": 41,
    "start_time": "2022-12-20T15:48:43.113Z"
   },
   {
    "duration": 11,
    "start_time": "2022-12-20T15:48:43.555Z"
   },
   {
    "duration": 36,
    "start_time": "2022-12-20T15:48:44.390Z"
   },
   {
    "duration": 8,
    "start_time": "2022-12-20T15:48:47.559Z"
   },
   {
    "duration": 9,
    "start_time": "2022-12-20T15:48:48.279Z"
   },
   {
    "duration": 10,
    "start_time": "2022-12-20T15:48:48.993Z"
   },
   {
    "duration": 46,
    "start_time": "2022-12-20T15:48:49.743Z"
   },
   {
    "duration": 19,
    "start_time": "2022-12-20T15:48:50.839Z"
   },
   {
    "duration": 18,
    "start_time": "2022-12-20T15:48:54.806Z"
   },
   {
    "duration": 79,
    "start_time": "2022-12-20T15:49:17.383Z"
   },
   {
    "duration": 3,
    "start_time": "2022-12-20T15:49:40.815Z"
   },
   {
    "duration": 165,
    "start_time": "2022-12-20T15:49:41.775Z"
   },
   {
    "duration": 49,
    "start_time": "2022-12-20T15:49:56.293Z"
   },
   {
    "duration": 13,
    "start_time": "2022-12-20T15:50:56.500Z"
   },
   {
    "duration": 18,
    "start_time": "2022-12-20T15:51:16.140Z"
   },
   {
    "duration": 48,
    "start_time": "2022-12-20T15:54:15.767Z"
   },
   {
    "duration": 97,
    "start_time": "2022-12-20T19:17:37.122Z"
   },
   {
    "duration": 877,
    "start_time": "2022-12-20T19:17:44.300Z"
   },
   {
    "duration": 145,
    "start_time": "2022-12-20T19:17:45.751Z"
   },
   {
    "duration": 14,
    "start_time": "2022-12-20T19:17:46.798Z"
   },
   {
    "duration": 88,
    "start_time": "2022-12-20T19:17:47.201Z"
   },
   {
    "duration": 443,
    "start_time": "2022-12-20T19:17:47.752Z"
   },
   {
    "duration": 3,
    "start_time": "2022-12-20T19:17:49.730Z"
   },
   {
    "duration": 3,
    "start_time": "2022-12-20T19:17:50.294Z"
   },
   {
    "duration": 545,
    "start_time": "2022-12-20T19:17:54.811Z"
   },
   {
    "duration": 572,
    "start_time": "2022-12-20T19:17:55.424Z"
   },
   {
    "duration": 38,
    "start_time": "2022-12-20T19:17:58.919Z"
   },
   {
    "duration": 122,
    "start_time": "2022-12-20T19:18:00.565Z"
   },
   {
    "duration": 38,
    "start_time": "2022-12-20T19:18:02.135Z"
   },
   {
    "duration": 676,
    "start_time": "2022-12-20T19:18:02.599Z"
   },
   {
    "duration": 36,
    "start_time": "2022-12-20T19:18:03.277Z"
   },
   {
    "duration": 16,
    "start_time": "2022-12-20T19:18:05.265Z"
   },
   {
    "duration": 33,
    "start_time": "2022-12-20T19:18:07.087Z"
   },
   {
    "duration": 22,
    "start_time": "2022-12-20T19:18:09.197Z"
   },
   {
    "duration": 41,
    "start_time": "2022-12-20T19:18:10.401Z"
   },
   {
    "duration": 96,
    "start_time": "2022-12-20T19:18:10.896Z"
   },
   {
    "duration": 31,
    "start_time": "2022-12-20T19:18:12.631Z"
   },
   {
    "duration": 33,
    "start_time": "2022-12-20T19:18:14.543Z"
   },
   {
    "duration": 42,
    "start_time": "2022-12-20T19:18:15.809Z"
   },
   {
    "duration": 33,
    "start_time": "2022-12-20T19:18:16.512Z"
   },
   {
    "duration": 58,
    "start_time": "2022-12-20T19:18:18.367Z"
   },
   {
    "duration": 10,
    "start_time": "2022-12-20T19:18:20.504Z"
   },
   {
    "duration": 16,
    "start_time": "2022-12-20T19:18:21.673Z"
   },
   {
    "duration": 9,
    "start_time": "2022-12-20T19:18:23.398Z"
   },
   {
    "duration": 47,
    "start_time": "2022-12-20T19:18:25.245Z"
   },
   {
    "duration": 12,
    "start_time": "2022-12-20T19:18:25.760Z"
   },
   {
    "duration": 50,
    "start_time": "2022-12-20T19:18:27.335Z"
   },
   {
    "duration": 8,
    "start_time": "2022-12-20T19:18:29.928Z"
   },
   {
    "duration": 11,
    "start_time": "2022-12-20T19:18:30.952Z"
   },
   {
    "duration": 10,
    "start_time": "2022-12-20T19:18:32.596Z"
   },
   {
    "duration": 57,
    "start_time": "2022-12-20T19:18:34.250Z"
   },
   {
    "duration": 19,
    "start_time": "2022-12-20T19:18:36.442Z"
   },
   {
    "duration": 26,
    "start_time": "2022-12-20T19:18:38.758Z"
   },
   {
    "duration": 102,
    "start_time": "2022-12-20T19:18:42.639Z"
   },
   {
    "duration": 3,
    "start_time": "2022-12-20T19:19:26.623Z"
   },
   {
    "duration": 155,
    "start_time": "2022-12-20T19:19:27.214Z"
   },
   {
    "duration": 18,
    "start_time": "2022-12-20T19:19:27.710Z"
   },
   {
    "duration": 52,
    "start_time": "2022-12-20T19:19:28.957Z"
   },
   {
    "duration": 68,
    "start_time": "2022-12-20T19:19:33.398Z"
   },
   {
    "duration": 18,
    "start_time": "2022-12-20T19:19:33.837Z"
   },
   {
    "duration": 7,
    "start_time": "2022-12-20T19:19:48.010Z"
   },
   {
    "duration": 103,
    "start_time": "2022-12-20T19:19:49.119Z"
   },
   {
    "duration": 4868,
    "start_time": "2022-12-20T19:20:00.732Z"
   },
   {
    "duration": 4,
    "start_time": "2022-12-20T19:20:10.355Z"
   },
   {
    "duration": 42566,
    "start_time": "2022-12-20T19:20:22.549Z"
   },
   {
    "duration": 50,
    "start_time": "2022-12-21T12:25:09.989Z"
   },
   {
    "duration": 6,
    "start_time": "2022-12-21T12:25:16.226Z"
   },
   {
    "duration": 1890,
    "start_time": "2022-12-21T12:25:18.885Z"
   },
   {
    "duration": 0,
    "start_time": "2022-12-21T12:25:20.776Z"
   },
   {
    "duration": 3302,
    "start_time": "2022-12-21T12:25:33.171Z"
   },
   {
    "duration": 115,
    "start_time": "2022-12-21T12:25:42.560Z"
   },
   {
    "duration": 2990,
    "start_time": "2022-12-21T12:25:49.216Z"
   },
   {
    "duration": 136,
    "start_time": "2022-12-21T12:25:52.209Z"
   },
   {
    "duration": 4,
    "start_time": "2022-12-21T13:40:12.896Z"
   },
   {
    "duration": 890,
    "start_time": "2022-12-21T13:40:13.737Z"
   },
   {
    "duration": 134,
    "start_time": "2022-12-21T13:40:14.629Z"
   },
   {
    "duration": 19,
    "start_time": "2022-12-21T13:40:14.766Z"
   },
   {
    "duration": 96,
    "start_time": "2022-12-21T13:40:14.913Z"
   },
   {
    "duration": 435,
    "start_time": "2022-12-21T13:40:15.194Z"
   },
   {
    "duration": 2,
    "start_time": "2022-12-21T13:40:15.755Z"
   },
   {
    "duration": 3,
    "start_time": "2022-12-21T13:40:16.013Z"
   },
   {
    "duration": 473,
    "start_time": "2022-12-21T13:40:17.203Z"
   },
   {
    "duration": 512,
    "start_time": "2022-12-21T13:40:17.678Z"
   },
   {
    "duration": 24,
    "start_time": "2022-12-21T13:40:18.521Z"
   },
   {
    "duration": 104,
    "start_time": "2022-12-21T13:40:19.133Z"
   },
   {
    "duration": 37,
    "start_time": "2022-12-21T13:40:19.713Z"
   },
   {
    "duration": 620,
    "start_time": "2022-12-21T13:40:19.961Z"
   },
   {
    "duration": 44,
    "start_time": "2022-12-21T13:40:20.583Z"
   },
   {
    "duration": 10,
    "start_time": "2022-12-21T13:40:21.202Z"
   },
   {
    "duration": 38,
    "start_time": "2022-12-21T13:40:21.809Z"
   },
   {
    "duration": 23,
    "start_time": "2022-12-21T13:40:22.833Z"
   },
   {
    "duration": 43,
    "start_time": "2022-12-21T13:40:25.824Z"
   },
   {
    "duration": 72,
    "start_time": "2022-12-21T13:40:26.119Z"
   },
   {
    "duration": 34,
    "start_time": "2022-12-21T13:40:26.769Z"
   },
   {
    "duration": 35,
    "start_time": "2022-12-21T13:40:27.385Z"
   },
   {
    "duration": 34,
    "start_time": "2022-12-21T13:40:27.681Z"
   },
   {
    "duration": 33,
    "start_time": "2022-12-21T13:40:28.049Z"
   },
   {
    "duration": 54,
    "start_time": "2022-12-21T13:40:32.194Z"
   },
   {
    "duration": 9,
    "start_time": "2022-12-21T13:40:33.200Z"
   },
   {
    "duration": 12,
    "start_time": "2022-12-21T13:40:33.554Z"
   },
   {
    "duration": 11,
    "start_time": "2022-12-21T13:40:34.488Z"
   },
   {
    "duration": 45,
    "start_time": "2022-12-21T13:40:35.593Z"
   },
   {
    "duration": 13,
    "start_time": "2022-12-21T13:40:38.521Z"
   },
   {
    "duration": 51,
    "start_time": "2022-12-21T13:40:39.688Z"
   },
   {
    "duration": 9,
    "start_time": "2022-12-21T13:40:41.392Z"
   },
   {
    "duration": 11,
    "start_time": "2022-12-21T13:40:43.784Z"
   },
   {
    "duration": 10,
    "start_time": "2022-12-21T13:40:44.424Z"
   },
   {
    "duration": 53,
    "start_time": "2022-12-21T13:40:45.056Z"
   },
   {
    "duration": 20,
    "start_time": "2022-12-21T13:40:45.976Z"
   },
   {
    "duration": 20,
    "start_time": "2022-12-21T13:40:48.592Z"
   },
   {
    "duration": 95,
    "start_time": "2022-12-21T13:40:50.088Z"
   },
   {
    "duration": 3,
    "start_time": "2022-12-21T13:40:50.440Z"
   },
   {
    "duration": 175,
    "start_time": "2022-12-21T13:40:50.872Z"
   },
   {
    "duration": 22,
    "start_time": "2022-12-21T13:40:52.928Z"
   },
   {
    "duration": 60,
    "start_time": "2022-12-21T13:40:53.239Z"
   },
   {
    "duration": 70,
    "start_time": "2022-12-21T13:42:15.952Z"
   },
   {
    "duration": 20,
    "start_time": "2022-12-21T13:42:17.365Z"
   },
   {
    "duration": 5,
    "start_time": "2022-12-21T13:42:21.955Z"
   },
   {
    "duration": 98,
    "start_time": "2022-12-21T13:42:22.609Z"
   },
   {
    "duration": 3277,
    "start_time": "2022-12-21T13:42:27.486Z"
   },
   {
    "duration": 3,
    "start_time": "2022-12-21T13:42:36.473Z"
   },
   {
    "duration": 42931,
    "start_time": "2022-12-21T13:42:37.725Z"
   },
   {
    "duration": 45,
    "start_time": "2022-12-21T16:19:30.123Z"
   },
   {
    "duration": 100,
    "start_time": "2022-12-21T16:21:41.454Z"
   },
   {
    "duration": 24,
    "start_time": "2022-12-21T16:30:11.328Z"
   },
   {
    "duration": 3,
    "start_time": "2022-12-21T16:30:35.300Z"
   },
   {
    "duration": 2,
    "start_time": "2022-12-21T16:30:43.798Z"
   },
   {
    "duration": 3,
    "start_time": "2022-12-21T16:31:24.350Z"
   },
   {
    "duration": 3,
    "start_time": "2022-12-21T16:31:32.069Z"
   },
   {
    "duration": 1725,
    "start_time": "2022-12-21T16:32:18.796Z"
   },
   {
    "duration": 65,
    "start_time": "2022-12-21T16:53:55.255Z"
   },
   {
    "duration": 3,
    "start_time": "2022-12-21T16:53:57.942Z"
   },
   {
    "duration": 3,
    "start_time": "2022-12-21T16:53:58.943Z"
   },
   {
    "duration": 1305,
    "start_time": "2022-12-21T16:54:19.804Z"
   },
   {
    "duration": 70,
    "start_time": "2022-12-21T16:54:55.923Z"
   },
   {
    "duration": 3,
    "start_time": "2022-12-21T16:54:56.411Z"
   },
   {
    "duration": 3,
    "start_time": "2022-12-21T16:54:56.964Z"
   },
   {
    "duration": 77,
    "start_time": "2022-12-21T16:55:07.330Z"
   },
   {
    "duration": 1834,
    "start_time": "2022-12-21T16:55:10.113Z"
   },
   {
    "duration": 96,
    "start_time": "2022-12-21T16:55:21.843Z"
   },
   {
    "duration": 1929,
    "start_time": "2022-12-21T16:58:29.006Z"
   },
   {
    "duration": 17,
    "start_time": "2022-12-21T16:58:32.524Z"
   },
   {
    "duration": 190,
    "start_time": "2022-12-21T16:59:29.619Z"
   },
   {
    "duration": 13,
    "start_time": "2022-12-21T16:59:41.258Z"
   },
   {
    "duration": 61,
    "start_time": "2022-12-21T17:07:09.280Z"
   },
   {
    "duration": 309,
    "start_time": "2022-12-21T17:08:41.148Z"
   },
   {
    "duration": 4250,
    "start_time": "2022-12-21T17:09:01.004Z"
   },
   {
    "duration": 5,
    "start_time": "2022-12-21T17:09:38.000Z"
   },
   {
    "duration": 4,
    "start_time": "2022-12-21T17:10:04.376Z"
   },
   {
    "duration": 5,
    "start_time": "2022-12-21T17:10:04.841Z"
   },
   {
    "duration": 5,
    "start_time": "2022-12-21T17:10:05.346Z"
   },
   {
    "duration": 3,
    "start_time": "2022-12-21T17:11:00.159Z"
   },
   {
    "duration": 4,
    "start_time": "2022-12-21T17:11:37.432Z"
   },
   {
    "duration": 4,
    "start_time": "2022-12-21T17:11:53.668Z"
   },
   {
    "duration": 277,
    "start_time": "2022-12-21T17:11:59.574Z"
   },
   {
    "duration": 5,
    "start_time": "2022-12-21T17:13:05.623Z"
   },
   {
    "duration": 106,
    "start_time": "2022-12-21T17:13:11.852Z"
   },
   {
    "duration": 3,
    "start_time": "2022-12-21T17:13:44.578Z"
   },
   {
    "duration": 14203,
    "start_time": "2022-12-21T17:13:45.314Z"
   },
   {
    "duration": 64792,
    "start_time": "2022-12-21T17:15:12.930Z"
   },
   {
    "duration": 3529,
    "start_time": "2022-12-21T17:18:22.723Z"
   },
   {
    "duration": 3593,
    "start_time": "2022-12-21T17:18:36.890Z"
   },
   {
    "duration": 2930,
    "start_time": "2022-12-21T17:18:43.746Z"
   },
   {
    "duration": 3619,
    "start_time": "2022-12-21T17:19:12.250Z"
   },
   {
    "duration": 3122,
    "start_time": "2022-12-21T17:19:28.633Z"
   },
   {
    "duration": 3220,
    "start_time": "2022-12-21T17:19:37.154Z"
   },
   {
    "duration": 2756,
    "start_time": "2022-12-21T17:19:43.097Z"
   },
   {
    "duration": 12,
    "start_time": "2022-12-21T17:20:12.729Z"
   },
   {
    "duration": 31331,
    "start_time": "2022-12-21T17:20:26.424Z"
   },
   {
    "duration": 29689,
    "start_time": "2022-12-21T17:21:56.773Z"
   },
   {
    "duration": 29087,
    "start_time": "2022-12-21T17:22:34.260Z"
   },
   {
    "duration": 127069,
    "start_time": "2022-12-21T17:42:53.516Z"
   },
   {
    "duration": 1985,
    "start_time": "2022-12-21T18:44:44.412Z"
   },
   {
    "duration": 1969,
    "start_time": "2022-12-21T18:44:54.655Z"
   },
   {
    "duration": 711,
    "start_time": "2022-12-21T18:44:56.627Z"
   },
   {
    "duration": 108,
    "start_time": "2022-12-21T18:44:57.340Z"
   },
   {
    "duration": 14,
    "start_time": "2022-12-21T18:44:57.451Z"
   },
   {
    "duration": 100,
    "start_time": "2022-12-21T18:44:57.467Z"
   },
   {
    "duration": 357,
    "start_time": "2022-12-21T18:44:57.569Z"
   },
   {
    "duration": 3,
    "start_time": "2022-12-21T18:44:57.927Z"
   },
   {
    "duration": 4,
    "start_time": "2022-12-21T18:44:57.932Z"
   },
   {
    "duration": 436,
    "start_time": "2022-12-21T18:44:58.744Z"
   },
   {
    "duration": 492,
    "start_time": "2022-12-21T18:44:59.182Z"
   },
   {
    "duration": 21,
    "start_time": "2022-12-21T18:44:59.962Z"
   },
   {
    "duration": 98,
    "start_time": "2022-12-21T18:45:00.518Z"
   },
   {
    "duration": 26,
    "start_time": "2022-12-21T18:45:01.113Z"
   },
   {
    "duration": 687,
    "start_time": "2022-12-21T18:45:01.443Z"
   },
   {
    "duration": 37,
    "start_time": "2022-12-21T18:45:02.132Z"
   },
   {
    "duration": 14,
    "start_time": "2022-12-21T18:45:02.731Z"
   },
   {
    "duration": 30,
    "start_time": "2022-12-21T18:45:03.378Z"
   },
   {
    "duration": 28,
    "start_time": "2022-12-21T18:45:04.619Z"
   },
   {
    "duration": 45,
    "start_time": "2022-12-21T18:45:05.362Z"
   },
   {
    "duration": 68,
    "start_time": "2022-12-21T18:45:05.798Z"
   },
   {
    "duration": 48,
    "start_time": "2022-12-21T18:45:06.521Z"
   },
   {
    "duration": 33,
    "start_time": "2022-12-21T18:45:07.257Z"
   },
   {
    "duration": 44,
    "start_time": "2022-12-21T18:45:07.633Z"
   },
   {
    "duration": 44,
    "start_time": "2022-12-21T18:45:08.002Z"
   },
   {
    "duration": 59,
    "start_time": "2022-12-21T18:45:10.675Z"
   },
   {
    "duration": 10,
    "start_time": "2022-12-21T18:45:11.853Z"
   },
   {
    "duration": 13,
    "start_time": "2022-12-21T18:45:12.209Z"
   },
   {
    "duration": 11,
    "start_time": "2022-12-21T18:45:12.921Z"
   },
   {
    "duration": 48,
    "start_time": "2022-12-21T18:45:13.723Z"
   },
   {
    "duration": 11,
    "start_time": "2022-12-21T18:45:14.125Z"
   },
   {
    "duration": 38,
    "start_time": "2022-12-21T18:45:14.913Z"
   },
   {
    "duration": 10,
    "start_time": "2022-12-21T18:45:16.553Z"
   },
   {
    "duration": 11,
    "start_time": "2022-12-21T18:45:17.300Z"
   },
   {
    "duration": 11,
    "start_time": "2022-12-21T18:45:18.065Z"
   },
   {
    "duration": 52,
    "start_time": "2022-12-21T18:45:18.818Z"
   },
   {
    "duration": 25,
    "start_time": "2022-12-21T18:45:20.370Z"
   },
   {
    "duration": 16,
    "start_time": "2022-12-21T18:45:21.409Z"
   },
   {
    "duration": 34,
    "start_time": "2022-12-21T18:56:39.814Z"
   },
   {
    "duration": 85,
    "start_time": "2022-12-21T18:56:47.302Z"
   },
   {
    "duration": 1673,
    "start_time": "2022-12-21T18:56:48.168Z"
   },
   {
    "duration": 0,
    "start_time": "2022-12-21T18:56:49.843Z"
   },
   {
    "duration": 1734,
    "start_time": "2022-12-21T18:57:11.541Z"
   },
   {
    "duration": 5,
    "start_time": "2022-12-21T18:57:14.625Z"
   },
   {
    "duration": 59,
    "start_time": "2022-12-21T18:57:18.222Z"
   },
   {
    "duration": 231,
    "start_time": "2022-12-21T18:57:19.525Z"
   },
   {
    "duration": 136310,
    "start_time": "2022-12-21T18:57:24.846Z"
   },
   {
    "duration": 132054,
    "start_time": "2022-12-21T19:00:28.502Z"
   },
   {
    "duration": 2480,
    "start_time": "2022-12-21T19:03:01.453Z"
   },
   {
    "duration": 14957,
    "start_time": "2022-12-21T19:03:17.669Z"
   },
   {
    "duration": 21025,
    "start_time": "2022-12-21T19:05:21.602Z"
   },
   {
    "duration": 16348,
    "start_time": "2022-12-21T19:07:18.991Z"
   },
   {
    "duration": 61944,
    "start_time": "2022-12-21T19:07:44.173Z"
   },
   {
    "duration": 177536,
    "start_time": "2022-12-21T19:08:53.807Z"
   },
   {
    "duration": 21209,
    "start_time": "2022-12-21T19:11:51.345Z"
   },
   {
    "duration": 186,
    "start_time": "2022-12-21T19:14:17.455Z"
   },
   {
    "duration": 6,
    "start_time": "2022-12-21T19:14:26.326Z"
   },
   {
    "duration": 22131,
    "start_time": "2022-12-21T19:14:45.233Z"
   },
   {
    "duration": 25488,
    "start_time": "2022-12-21T19:28:11.845Z"
   },
   {
    "duration": 3467,
    "start_time": "2022-12-21T19:43:38.850Z"
   },
   {
    "duration": 728,
    "start_time": "2022-12-21T19:43:42.318Z"
   },
   {
    "duration": 111,
    "start_time": "2022-12-21T19:43:43.049Z"
   },
   {
    "duration": 16,
    "start_time": "2022-12-21T19:43:43.163Z"
   },
   {
    "duration": 133,
    "start_time": "2022-12-21T19:43:43.180Z"
   },
   {
    "duration": 439,
    "start_time": "2022-12-21T19:43:43.314Z"
   },
   {
    "duration": 2,
    "start_time": "2022-12-21T19:43:43.761Z"
   },
   {
    "duration": 67468,
    "start_time": "2022-12-21T19:43:43.765Z"
   },
   {
    "duration": 486,
    "start_time": "2022-12-21T19:44:51.235Z"
   },
   {
    "duration": 568,
    "start_time": "2022-12-21T19:44:51.724Z"
   },
   {
    "duration": 50,
    "start_time": "2022-12-21T19:44:52.293Z"
   },
   {
    "duration": 65,
    "start_time": "2022-12-21T19:44:52.345Z"
   },
   {
    "duration": 45,
    "start_time": "2022-12-21T19:44:52.411Z"
   },
   {
    "duration": 681,
    "start_time": "2022-12-21T19:44:52.458Z"
   },
   {
    "duration": 45,
    "start_time": "2022-12-21T19:44:53.143Z"
   },
   {
    "duration": 10,
    "start_time": "2022-12-21T19:44:53.190Z"
   },
   {
    "duration": 46,
    "start_time": "2022-12-21T19:44:53.201Z"
   },
   {
    "duration": 18,
    "start_time": "2022-12-21T19:44:53.249Z"
   },
   {
    "duration": 37,
    "start_time": "2022-12-21T19:44:53.268Z"
   },
   {
    "duration": 76,
    "start_time": "2022-12-21T19:44:53.307Z"
   },
   {
    "duration": 26,
    "start_time": "2022-12-21T19:44:53.384Z"
   },
   {
    "duration": 54,
    "start_time": "2022-12-21T19:44:53.412Z"
   },
   {
    "duration": 28,
    "start_time": "2022-12-21T19:44:53.468Z"
   },
   {
    "duration": 52,
    "start_time": "2022-12-21T19:44:53.497Z"
   },
   {
    "duration": 54,
    "start_time": "2022-12-21T19:44:53.551Z"
   },
   {
    "duration": 9,
    "start_time": "2022-12-21T19:44:53.606Z"
   },
   {
    "duration": 34,
    "start_time": "2022-12-21T19:44:53.617Z"
   },
   {
    "duration": 9,
    "start_time": "2022-12-21T19:44:53.654Z"
   },
   {
    "duration": 38,
    "start_time": "2022-12-21T19:44:53.664Z"
   },
   {
    "duration": 12,
    "start_time": "2022-12-21T19:44:53.704Z"
   },
   {
    "duration": 38,
    "start_time": "2022-12-21T19:44:53.726Z"
   },
   {
    "duration": 7,
    "start_time": "2022-12-21T19:44:53.766Z"
   },
   {
    "duration": 11,
    "start_time": "2022-12-21T19:44:53.774Z"
   },
   {
    "duration": 8,
    "start_time": "2022-12-21T19:44:53.786Z"
   },
   {
    "duration": 76,
    "start_time": "2022-12-21T19:44:53.795Z"
   },
   {
    "duration": 18,
    "start_time": "2022-12-21T19:44:53.873Z"
   },
   {
    "duration": 35,
    "start_time": "2022-12-21T19:44:53.894Z"
   },
   {
    "duration": 74,
    "start_time": "2022-12-21T19:44:53.936Z"
   },
   {
    "duration": 1769,
    "start_time": "2022-12-21T19:44:54.012Z"
   },
   {
    "duration": 7,
    "start_time": "2022-12-21T19:44:55.784Z"
   },
   {
    "duration": 78,
    "start_time": "2022-12-21T19:44:55.793Z"
   },
   {
    "duration": 163,
    "start_time": "2022-12-21T19:44:55.873Z"
   },
   {
    "duration": 183887,
    "start_time": "2022-12-21T19:44:56.040Z"
   },
   {
    "duration": 35131,
    "start_time": "2022-12-21T19:47:59.928Z"
   },
   {
    "duration": 133595,
    "start_time": "2022-12-21T19:48:35.060Z"
   },
   {
    "duration": 4,
    "start_time": "2022-12-21T19:50:48.657Z"
   },
   {
    "duration": 19,
    "start_time": "2022-12-21T19:50:48.663Z"
   },
   {
    "duration": 26776,
    "start_time": "2022-12-21T19:50:48.684Z"
   },
   {
    "duration": 75644,
    "start_time": "2022-12-21T19:53:48.710Z"
   },
   {
    "duration": 4,
    "start_time": "2022-12-21T19:55:04.356Z"
   },
   {
    "duration": 71,
    "start_time": "2022-12-21T19:55:04.361Z"
   },
   {
    "duration": 4,
    "start_time": "2022-12-21T19:59:05.033Z"
   },
   {
    "duration": 11,
    "start_time": "2022-12-21T19:59:06.309Z"
   },
   {
    "duration": 52,
    "start_time": "2022-12-22T16:31:46.074Z"
   },
   {
    "duration": 4963,
    "start_time": "2022-12-22T16:34:17.571Z"
   },
   {
    "duration": 1347,
    "start_time": "2022-12-22T16:34:22.537Z"
   },
   {
    "duration": 159,
    "start_time": "2022-12-22T16:34:23.886Z"
   },
   {
    "duration": 34,
    "start_time": "2022-12-22T16:34:24.048Z"
   },
   {
    "duration": 135,
    "start_time": "2022-12-22T16:34:24.084Z"
   },
   {
    "duration": 536,
    "start_time": "2022-12-22T16:34:24.221Z"
   },
   {
    "duration": 4,
    "start_time": "2022-12-22T16:34:24.763Z"
   },
   {
    "duration": 77665,
    "start_time": "2022-12-22T16:34:24.771Z"
   },
   {
    "duration": 506,
    "start_time": "2022-12-22T16:35:42.438Z"
   },
   {
    "duration": 579,
    "start_time": "2022-12-22T16:35:42.954Z"
   },
   {
    "duration": 45,
    "start_time": "2022-12-22T16:35:43.535Z"
   },
   {
    "duration": 109,
    "start_time": "2022-12-22T16:35:43.582Z"
   },
   {
    "duration": 43,
    "start_time": "2022-12-22T16:35:43.693Z"
   },
   {
    "duration": 709,
    "start_time": "2022-12-22T16:35:43.739Z"
   },
   {
    "duration": 54,
    "start_time": "2022-12-22T16:35:44.450Z"
   },
   {
    "duration": 12,
    "start_time": "2022-12-22T16:35:44.506Z"
   },
   {
    "duration": 53,
    "start_time": "2022-12-22T16:35:44.521Z"
   },
   {
    "duration": 29,
    "start_time": "2022-12-22T16:35:44.576Z"
   },
   {
    "duration": 64,
    "start_time": "2022-12-22T16:35:44.607Z"
   },
   {
    "duration": 69,
    "start_time": "2022-12-22T16:35:44.673Z"
   },
   {
    "duration": 50,
    "start_time": "2022-12-22T16:35:44.754Z"
   },
   {
    "duration": 57,
    "start_time": "2022-12-22T16:35:44.805Z"
   },
   {
    "duration": 36,
    "start_time": "2022-12-22T16:35:44.864Z"
   },
   {
    "duration": 34,
    "start_time": "2022-12-22T16:35:44.902Z"
   },
   {
    "duration": 83,
    "start_time": "2022-12-22T16:35:44.938Z"
   },
   {
    "duration": 8,
    "start_time": "2022-12-22T16:35:45.023Z"
   },
   {
    "duration": 32,
    "start_time": "2022-12-22T16:35:45.032Z"
   },
   {
    "duration": 9,
    "start_time": "2022-12-22T16:35:45.068Z"
   },
   {
    "duration": 47,
    "start_time": "2022-12-22T16:35:45.079Z"
   },
   {
    "duration": 27,
    "start_time": "2022-12-22T16:35:45.128Z"
   },
   {
    "duration": 40,
    "start_time": "2022-12-22T16:35:45.158Z"
   },
   {
    "duration": 8,
    "start_time": "2022-12-22T16:35:45.200Z"
   },
   {
    "duration": 17,
    "start_time": "2022-12-22T16:35:45.210Z"
   },
   {
    "duration": 28,
    "start_time": "2022-12-22T16:35:45.228Z"
   },
   {
    "duration": 44,
    "start_time": "2022-12-22T16:35:45.259Z"
   },
   {
    "duration": 22,
    "start_time": "2022-12-22T16:35:45.305Z"
   },
   {
    "duration": 40,
    "start_time": "2022-12-22T16:35:45.328Z"
   },
   {
    "duration": 139,
    "start_time": "2022-12-22T16:35:45.370Z"
   },
   {
    "duration": 1562,
    "start_time": "2022-12-22T16:35:45.511Z"
   },
   {
    "duration": 4,
    "start_time": "2022-12-22T16:35:47.075Z"
   },
   {
    "duration": 315,
    "start_time": "2022-12-22T16:35:47.081Z"
   },
   {
    "duration": 0,
    "start_time": "2022-12-22T16:35:47.398Z"
   },
   {
    "duration": 0,
    "start_time": "2022-12-22T16:35:47.399Z"
   },
   {
    "duration": 0,
    "start_time": "2022-12-22T16:35:47.401Z"
   },
   {
    "duration": 0,
    "start_time": "2022-12-22T16:35:47.402Z"
   },
   {
    "duration": 0,
    "start_time": "2022-12-22T16:35:47.404Z"
   },
   {
    "duration": 0,
    "start_time": "2022-12-22T16:35:47.406Z"
   },
   {
    "duration": 12,
    "start_time": "2022-12-22T16:42:09.523Z"
   },
   {
    "duration": 120,
    "start_time": "2022-12-22T16:43:09.065Z"
   },
   {
    "duration": 1613,
    "start_time": "2022-12-22T16:43:09.869Z"
   },
   {
    "duration": 11,
    "start_time": "2022-12-22T16:43:11.484Z"
   },
   {
    "duration": 4,
    "start_time": "2022-12-22T16:43:29.710Z"
   },
   {
    "duration": 86,
    "start_time": "2022-12-22T16:43:32.097Z"
   },
   {
    "duration": 90664,
    "start_time": "2022-12-22T16:43:35.817Z"
   },
   {
    "duration": 22175,
    "start_time": "2022-12-22T16:45:06.483Z"
   },
   {
    "duration": 146371,
    "start_time": "2022-12-22T16:45:28.663Z"
   },
   {
    "duration": 4,
    "start_time": "2022-12-22T16:47:55.037Z"
   },
   {
    "duration": 36,
    "start_time": "2022-12-22T16:47:55.043Z"
   },
   {
    "duration": 29193,
    "start_time": "2022-12-22T16:47:55.081Z"
   },
   {
    "duration": 4,
    "start_time": "2022-12-22T16:57:05.067Z"
   },
   {
    "duration": 9,
    "start_time": "2022-12-22T16:57:09.374Z"
   },
   {
    "duration": 3670,
    "start_time": "2022-12-22T16:57:26.559Z"
   },
   {
    "duration": 879,
    "start_time": "2022-12-22T16:57:30.231Z"
   },
   {
    "duration": 138,
    "start_time": "2022-12-22T16:57:31.112Z"
   },
   {
    "duration": 21,
    "start_time": "2022-12-22T16:57:31.252Z"
   },
   {
    "duration": 112,
    "start_time": "2022-12-22T16:57:31.274Z"
   },
   {
    "duration": 470,
    "start_time": "2022-12-22T16:57:31.388Z"
   },
   {
    "duration": 3,
    "start_time": "2022-12-22T16:57:31.860Z"
   },
   {
    "duration": 67354,
    "start_time": "2022-12-22T16:57:31.864Z"
   },
   {
    "duration": 457,
    "start_time": "2022-12-22T16:58:39.220Z"
   },
   {
    "duration": 518,
    "start_time": "2022-12-22T16:58:39.680Z"
   },
   {
    "duration": 36,
    "start_time": "2022-12-22T16:58:40.200Z"
   },
   {
    "duration": 101,
    "start_time": "2022-12-22T16:58:40.238Z"
   },
   {
    "duration": 43,
    "start_time": "2022-12-22T16:58:40.341Z"
   },
   {
    "duration": 629,
    "start_time": "2022-12-22T16:58:40.386Z"
   },
   {
    "duration": 50,
    "start_time": "2022-12-22T16:58:41.016Z"
   },
   {
    "duration": 11,
    "start_time": "2022-12-22T16:58:41.068Z"
   },
   {
    "duration": 24,
    "start_time": "2022-12-22T16:58:41.081Z"
   },
   {
    "duration": 22,
    "start_time": "2022-12-22T16:58:41.107Z"
   },
   {
    "duration": 57,
    "start_time": "2022-12-22T16:58:41.131Z"
   },
   {
    "duration": 72,
    "start_time": "2022-12-22T16:58:41.189Z"
   },
   {
    "duration": 31,
    "start_time": "2022-12-22T16:58:41.263Z"
   },
   {
    "duration": 44,
    "start_time": "2022-12-22T16:58:41.295Z"
   },
   {
    "duration": 42,
    "start_time": "2022-12-22T16:58:41.354Z"
   },
   {
    "duration": 34,
    "start_time": "2022-12-22T16:58:41.398Z"
   },
   {
    "duration": 66,
    "start_time": "2022-12-22T16:58:41.434Z"
   },
   {
    "duration": 8,
    "start_time": "2022-12-22T16:58:41.502Z"
   },
   {
    "duration": 14,
    "start_time": "2022-12-22T16:58:41.511Z"
   },
   {
    "duration": 32,
    "start_time": "2022-12-22T16:58:41.529Z"
   },
   {
    "duration": 61,
    "start_time": "2022-12-22T16:58:41.563Z"
   },
   {
    "duration": 29,
    "start_time": "2022-12-22T16:58:41.626Z"
   },
   {
    "duration": 40,
    "start_time": "2022-12-22T16:58:41.656Z"
   },
   {
    "duration": 8,
    "start_time": "2022-12-22T16:58:41.698Z"
   },
   {
    "duration": 10,
    "start_time": "2022-12-22T16:58:41.708Z"
   },
   {
    "duration": 36,
    "start_time": "2022-12-22T16:58:41.720Z"
   },
   {
    "duration": 41,
    "start_time": "2022-12-22T16:58:41.758Z"
   },
   {
    "duration": 19,
    "start_time": "2022-12-22T16:58:41.801Z"
   },
   {
    "duration": 40,
    "start_time": "2022-12-22T16:58:41.823Z"
   },
   {
    "duration": 132,
    "start_time": "2022-12-22T16:58:41.865Z"
   },
   {
    "duration": 1423,
    "start_time": "2022-12-22T16:58:41.999Z"
   },
   {
    "duration": 4,
    "start_time": "2022-12-22T16:58:43.424Z"
   },
   {
    "duration": 138,
    "start_time": "2022-12-22T16:58:43.430Z"
   },
   {
    "duration": 77112,
    "start_time": "2022-12-22T16:58:43.570Z"
   },
   {
    "duration": 21089,
    "start_time": "2022-12-22T17:00:00.684Z"
   },
   {
    "duration": 139965,
    "start_time": "2022-12-22T17:00:21.774Z"
   },
   {
    "duration": 4,
    "start_time": "2022-12-22T17:02:41.742Z"
   },
   {
    "duration": 14,
    "start_time": "2022-12-22T17:02:41.748Z"
   },
   {
    "duration": 28981,
    "start_time": "2022-12-22T17:02:41.763Z"
   }
  ],
  "kernelspec": {
   "display_name": "Python 3 (ipykernel)",
   "language": "python",
   "name": "python3"
  },
  "language_info": {
   "codemirror_mode": {
    "name": "ipython",
    "version": 3
   },
   "file_extension": ".py",
   "mimetype": "text/x-python",
   "name": "python",
   "nbconvert_exporter": "python",
   "pygments_lexer": "ipython3",
   "version": "3.9.13"
  },
  "toc": {
   "base_numbering": 1,
   "nav_menu": {},
   "number_sections": true,
   "sideBar": true,
   "skip_h1_title": true,
   "title_cell": "Table of Contents",
   "title_sidebar": "Contents",
   "toc_cell": false,
   "toc_position": {},
   "toc_section_display": true,
   "toc_window_display": true
  }
 },
 "nbformat": 4,
 "nbformat_minor": 2
}
