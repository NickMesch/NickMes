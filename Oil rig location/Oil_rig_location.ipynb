{
 "cells": [
  {
   "cell_type": "markdown",
   "metadata": {},
   "source": [
    "# Выбор локации для скважины"
   ]
  },
  {
   "cell_type": "markdown",
   "metadata": {},
   "source": [
    "Нужно решить, где бурить новую скважину.\n",
    "\n",
    "Вам предоставлены пробы нефти в трёх регионах: в каждом 10 000 месторождений, где измерили качество нефти и объём её запасов. Постройте модель машинного обучения, которая поможет определить регион, где добыча принесёт наибольшую прибыль. Проанализируйте возможную прибыль и риски техникой *Bootstrap.*\n",
    "\n",
    "Шаги для выбора локации:\n",
    "\n",
    "- В избранном регионе ищут месторождения, для каждого определяют значения признаков;\n",
    "- Строят модель и оценивают объём запасов;\n",
    "- Выбирают месторождения с самым высокими оценками значений. Количество месторождений зависит от бюджета компании и стоимости разработки одной скважины;\n",
    "- Прибыль равна суммарной прибыли отобранных месторождений.\n",
    "\n",
    "\n",
    "**Выбор региона для разработки месторождений нефти:**\n",
    "\n",
    "Исходя из данных о бурении в трех регионах, построим модель прогнозирующую прибыльность инвестиций в разработку месторождений конкретного региона, с учетом предоженных условий:\n",
    "\n",
    "**План**\n",
    "\n",
    "1. Изучим и подготовим данные. \n",
    "2. Обучим и проверим модель \"линейная регрессия\", отдельно для каждого региона.\n",
    "3. Рассчитаем прогнозные прибыли и риски для каждого региона. \n",
    "4. Определим наилучший регион для инвестиций. "
   ]
  },
  {
   "cell_type": "markdown",
   "metadata": {},
   "source": [
    "## Загрузка и подготовка данных"
   ]
  },
  {
   "cell_type": "code",
   "execution_count": 1,
   "metadata": {},
   "outputs": [],
   "source": [
    "import pandas as pd\n",
    "import numpy as np\n",
    "from sklearn.linear_model import LinearRegression\n",
    "from sklearn.model_selection import train_test_split\n",
    "from sklearn.metrics import mean_squared_error\n",
    "from scipy import stats as st"
   ]
  },
  {
   "cell_type": "code",
   "execution_count": 2,
   "metadata": {},
   "outputs": [],
   "source": [
    "\n",
    "try:\n",
    "    geo_0 = pd.read_csv('/datasets/geo_data_0.csv')\n",
    "    geo_1 = pd.read_csv('/datasets/geo_data_1.csv')\n",
    "    geo_2 = pd.read_csv('/datasets/geo_data_2.csv')\n",
    "except:\n",
    "    geo_0 = pd.read_csv('C:/ya_pr/geo_rig/geo_data_0.csv')\n",
    "    geo_1 = pd.read_csv('C:/ya_pr/geo_rig/geo_data_1.csv')\n",
    "    geo_2 = pd.read_csv('C:/ya_pr/geo_rig/geo_data_2.csv')\n",
    "\n"
   ]
  },
  {
   "cell_type": "code",
   "execution_count": 3,
   "metadata": {},
   "outputs": [
    {
     "name": "stdout",
     "output_type": "stream",
     "text": [
      "      id        f0        f1        f2     product\n",
      "0  txEyH  0.705745 -0.497823  1.221170  105.280062\n",
      "1  2acmU  1.334711 -0.340164  4.365080   73.037750\n",
      "2  409Wp  1.022732  0.151990  1.419926   85.265647\n",
      "3  iJLyR -0.032172  0.139033  2.978566  168.620776\n",
      "4  Xdl7t  1.988431  0.155413  4.751769  154.036647\n",
      "5  wX4Hy  0.969570  0.489775 -0.735383   64.741541\n",
      "6  tL6pL  0.645075  0.530656  1.780266   49.055285\n",
      "7  BYPU6 -0.400648  0.808337 -5.624670   72.943292\n",
      "8  j9Oui  0.643105 -0.551583  2.372141  113.356160\n",
      "9  OLuZU  2.173381  0.563698  9.441852  127.910945\n",
      "      id         f0         f1        f2     product\n",
      "0  kBEdx -15.001348  -8.276000 -0.005876    3.179103\n",
      "1  62mP7  14.272088  -3.475083  0.999183   26.953261\n",
      "2  vyE1P   6.263187  -5.948386  5.001160  134.766305\n",
      "3  KcrkZ -13.081196 -11.506057  4.999415  137.945408\n",
      "4  AHL4O  12.702195  -8.147433  5.004363  134.766305\n",
      "5  HHckp  -3.327590  -2.205276  3.003647   84.038886\n",
      "6  h5Ujo -11.142655 -10.133399  4.002382  110.992147\n",
      "7  muH9x   4.234715  -0.001354  2.004588   53.906522\n",
      "8  YiRkx  13.355129  -0.332068  4.998647  134.766305\n",
      "9  jG6Gi   1.069227 -11.025667  4.997844  137.945408\n",
      "      id        f0        f1        f2     product\n",
      "0  fwXo0 -1.146987  0.963328 -0.828965   27.758673\n",
      "1  WJtFt  0.262778  0.269839 -2.530187   56.069697\n",
      "2  ovLUW  0.194587  0.289035 -5.586433   62.871910\n",
      "3  q6cA6  2.236060 -0.553760  0.930038  114.572842\n",
      "4  WPMUX -0.515993  1.716266  5.899011  149.600746\n",
      "5  LzZXx -0.758092  0.710691  2.585887   90.222465\n",
      "6  WBHRv -0.574891  0.317727  1.773745   45.641478\n",
      "7  XO8fn -1.906649 -2.458350 -0.177097   72.480640\n",
      "8  ybmQ5  1.776292 -0.279356  3.004156  106.616832\n",
      "9  OilcN -1.214452 -0.439314  5.922514   52.954532\n"
     ]
    }
   ],
   "source": [
    "print(geo_0.head(10))\n",
    "print(geo_1.head(10))\n",
    "print(geo_2.head(10))"
   ]
  },
  {
   "cell_type": "code",
   "execution_count": 6,
   "metadata": {},
   "outputs": [
    {
     "name": "stdout",
     "output_type": "stream",
     "text": [
      "<class 'pandas.core.frame.DataFrame'>\n",
      "RangeIndex: 100000 entries, 0 to 99999\n",
      "Data columns (total 5 columns):\n",
      " #   Column   Non-Null Count   Dtype  \n",
      "---  ------   --------------   -----  \n",
      " 0   id       100000 non-null  object \n",
      " 1   f0       100000 non-null  float64\n",
      " 2   f1       100000 non-null  float64\n",
      " 3   f2       100000 non-null  float64\n",
      " 4   product  100000 non-null  float64\n",
      "dtypes: float64(4), object(1)\n",
      "memory usage: 3.8+ MB\n",
      "<class 'pandas.core.frame.DataFrame'>\n",
      "RangeIndex: 100000 entries, 0 to 99999\n",
      "Data columns (total 5 columns):\n",
      " #   Column   Non-Null Count   Dtype  \n",
      "---  ------   --------------   -----  \n",
      " 0   id       100000 non-null  object \n",
      " 1   f0       100000 non-null  float64\n",
      " 2   f1       100000 non-null  float64\n",
      " 3   f2       100000 non-null  float64\n",
      " 4   product  100000 non-null  float64\n",
      "dtypes: float64(4), object(1)\n",
      "memory usage: 3.8+ MB\n",
      "<class 'pandas.core.frame.DataFrame'>\n",
      "RangeIndex: 100000 entries, 0 to 99999\n",
      "Data columns (total 5 columns):\n",
      " #   Column   Non-Null Count   Dtype  \n",
      "---  ------   --------------   -----  \n",
      " 0   id       100000 non-null  object \n",
      " 1   f0       100000 non-null  float64\n",
      " 2   f1       100000 non-null  float64\n",
      " 3   f2       100000 non-null  float64\n",
      " 4   product  100000 non-null  float64\n",
      "dtypes: float64(4), object(1)\n",
      "memory usage: 3.8+ MB\n"
     ]
    }
   ],
   "source": [
    "geo_0.info()\n",
    "geo_1.info()\n",
    "geo_2.info()"
   ]
  },
  {
   "cell_type": "markdown",
   "metadata": {},
   "source": [
    "Во всех трех датасетах все данные заполнены корректно, без пропусков.\n",
    "\n",
    "Посмотрим на разброс данных:"
   ]
  },
  {
   "cell_type": "code",
   "execution_count": 5,
   "metadata": {},
   "outputs": [
    {
     "name": "stdout",
     "output_type": "stream",
     "text": [
      "min geo_0 \n",
      " f0    -1.408605\n",
      "f1    -0.848218\n",
      "f2   -12.088328\n",
      "dtype: float64\n",
      "min geo_1 \n",
      " f0   -31.609576\n",
      "f1   -26.358598\n",
      "f2    -0.018144\n",
      "dtype: float64\n",
      "min geo_2 \n",
      " f0    -8.760004\n",
      "f1    -7.084020\n",
      "f2   -11.970335\n",
      "dtype: float64\n",
      "max geo_0 \n",
      " f0     2.362331\n",
      "f1     1.343769\n",
      "f2    16.003790\n",
      "dtype: float64\n",
      "max geo_1 \n",
      " f0    29.421755\n",
      "f1    18.734063\n",
      "f2     5.019721\n",
      "dtype: float64\n",
      "max geo_2 \n",
      " f0     7.238262\n",
      "f1     7.844801\n",
      "f2    16.739402\n",
      "dtype: float64\n"
     ]
    }
   ],
   "source": [
    "print('min geo_0 \\n',geo_0[['f0','f1','f2']].min())\n",
    "print('min geo_1 \\n',geo_1[['f0','f1','f2']].min())\n",
    "print('min geo_2 \\n',geo_2[['f0','f1','f2']].min())\n",
    "\n",
    "print('max geo_0 \\n',geo_0[['f0','f1','f2']].max())\n",
    "print('max geo_1 \\n',geo_1[['f0','f1','f2']].max())\n",
    "print('max geo_2 \\n',geo_2[['f0','f1','f2']].max())"
   ]
  },
  {
   "cell_type": "markdown",
   "metadata": {},
   "source": [
    "Во всех трех датасетах разброс значений по всем трем признакам находятся в приблизительно похожих диапазонах - следовательно масштабирование не требуется.\n",
    "\n",
    "Признак id не несет никакой полезной информации для обучения моделей. Удалим его:"
   ]
  },
  {
   "cell_type": "code",
   "execution_count": 6,
   "metadata": {},
   "outputs": [],
   "source": [
    "geo_0.drop('id', axis=1, inplace=True)\n",
    "geo_1.drop('id', axis=1, inplace=True)\n",
    "geo_2.drop('id', axis=1, inplace=True)"
   ]
  },
  {
   "cell_type": "markdown",
   "metadata": {},
   "source": [
    "## Обучение и проверка модели"
   ]
  },
  {
   "cell_type": "markdown",
   "metadata": {},
   "source": [
    "Разобьем данные на тестовые и валидационные выборки:"
   ]
  },
  {
   "cell_type": "code",
   "execution_count": 7,
   "metadata": {},
   "outputs": [
    {
     "name": "stdout",
     "output_type": "stream",
     "text": [
      "Тренировочная выборка 0: (75000, 3) (75000,)\n",
      "Валидационная выборка 0: (25000, 3) (25000,)\n",
      "Тренировочная выборка 1: (75000, 3) (75000,)\n",
      "Валидационная выборка 1: (25000, 3) (25000,)\n",
      "Тренировочная выборка 2: (75000, 3) (75000,)\n",
      "Валидационная выборка 2: (25000, 3) (25000,)\n"
     ]
    }
   ],
   "source": [
    "target_0 = geo_0['product']\n",
    "features_0 = geo_0.drop('product',axis=1)\n",
    "\n",
    "features_train_0, features_valid_0, target_train_0, target_valid_0 = train_test_split(\n",
    "    features_0, target_0, test_size=0.25, random_state=123)\n",
    "\n",
    "print('Тренировочная выборка 0:',features_train_0.shape, target_train_0.shape)\n",
    "print('Валидационная выборка 0:',features_valid_0.shape, target_valid_0.shape)\n",
    "\n",
    "target_1 = geo_1['product']\n",
    "features_1 = geo_1.drop('product',axis=1)\n",
    "\n",
    "features_train_1, features_valid_1, target_train_1, target_valid_1 = train_test_split(\n",
    "    features_1, target_1, test_size=0.25, random_state=123)\n",
    "\n",
    "print('Тренировочная выборка 1:',features_train_1.shape, target_train_1.shape)\n",
    "print('Валидационная выборка 1:',features_valid_1.shape, target_valid_1.shape)\n",
    "\n",
    "target_2 = geo_2['product']\n",
    "features_2 = geo_2.drop('product',axis=1)\n",
    "\n",
    "features_train_2, features_valid_2, target_train_2, target_valid_2 = train_test_split(\n",
    "    features_2, target_2, test_size=0.25, random_state=123)\n",
    "\n",
    "print('Тренировочная выборка 2:',features_train_2.shape, target_train_2.shape)\n",
    "print('Валидационная выборка 2:',features_valid_2.shape, target_valid_2.shape)"
   ]
  },
  {
   "cell_type": "code",
   "execution_count": 8,
   "metadata": {},
   "outputs": [
    {
     "name": "stdout",
     "output_type": "stream",
     "text": [
      "rmse 0: 37.64786282376177\n",
      "Средний предсказанный объем: 92.54936189116306\n"
     ]
    }
   ],
   "source": [
    "model_0 = LinearRegression()\n",
    "model_0.fit(features_train_0,target_train_0)\n",
    "predictions_valid_0 = model_0.predict(features_valid_0)\n",
    "rmse_0 = mean_squared_error(target_valid_0,predictions_valid_0) ** 0.5\n",
    "print('rmse 0:',rmse_0)\n",
    "print('Средний предсказанный объем:',predictions_valid_0.mean())\n"
   ]
  },
  {
   "cell_type": "code",
   "execution_count": 9,
   "metadata": {},
   "outputs": [
    {
     "name": "stdout",
     "output_type": "stream",
     "text": [
      "rmse 1: 0.8954139804944313\n",
      "Средний предсказанный объем: 69.28001860653976\n"
     ]
    }
   ],
   "source": [
    "model_1 = LinearRegression()\n",
    "model_1.fit(features_train_1,target_train_1)\n",
    "predictions_valid_1 = model_1.predict(features_valid_1)\n",
    "rmse_1 = mean_squared_error(target_valid_1,predictions_valid_1) ** 0.5\n",
    "print('rmse 1:',rmse_1)\n",
    "print('Средний предсказанный объем:',predictions_valid_1.mean())\n"
   ]
  },
  {
   "cell_type": "code",
   "execution_count": 10,
   "metadata": {},
   "outputs": [
    {
     "name": "stdout",
     "output_type": "stream",
     "text": [
      "rmse 2: 40.12803006598514\n",
      "Средний предсказанный объем: 95.09859933591373\n"
     ]
    }
   ],
   "source": [
    "model_2 = LinearRegression()\n",
    "model_2.fit(features_train_2,target_train_2)\n",
    "predictions_valid_2 = model_2.predict(features_valid_2)\n",
    "rmse_2 = mean_squared_error(target_valid_2,predictions_valid_2) ** 0.5\n",
    "print('rmse 2:',rmse_2)\n",
    "print('Средний предсказанный объем:',predictions_valid_2.mean())\n"
   ]
  },
  {
   "cell_type": "markdown",
   "metadata": {},
   "source": [
    " - Средние объемы сырья на одну скважину в регионах №0 и №2 значительно больше чем в регионе №1. \n",
    " \n",
    " - Так же важно отметить, что метрика качества RMSE в регионах №0 и №2 значительно хуже чем в регионе №1. Т.е. точность предсказаний модели для этого региона значительно выше.\n",
    "\n",
    " - Однако это еще не означает, что эти регионы больше подходят для разработки чем №1. Потому что разрабатываться будут всего 200 скважин из 100 000. \n",
    "\n",
    " - Если в одном регионе распредление сырья по скважинам неравномерное, то может так оказаться что лучшие скважины в суммарно (по всем скважинам) более плохом регионе прибыльнее чем лучшие скважины в других регионах. "
   ]
  },
  {
   "cell_type": "markdown",
   "metadata": {},
   "source": [
    "## Подготовка к расчёту прибыли"
   ]
  },
  {
   "cell_type": "code",
   "execution_count": 11,
   "metadata": {},
   "outputs": [
    {
     "name": "stdout",
     "output_type": "stream",
     "text": [
      "Достаточный объем сырья для безубыточной разработки скважины: 111.11\n"
     ]
    }
   ],
   "source": [
    "# Бюджет на разработку 200 скважин:\n",
    "BUDGET  = 10**10\n",
    "\n",
    "# Прибыль от добычи одной тысячи баррелей:\n",
    "PRICE = 4.5*10**5\n",
    "\n",
    "# Допустимая вероятность убытка:\n",
    "LOSS_PROB = 0.025\n",
    "\n",
    "# Количество скважин для исследования:\n",
    "WELLS = 500\n",
    "\n",
    "# Количество скважин для разработки:\n",
    "BEST_WELLS = 200\n",
    "\n",
    "# Достаточный объем сырья для безубыточной разработки скважины: \n",
    "enough_volume = BUDGET / 200 / PRICE\n",
    "\n",
    "print('Достаточный объем сырья для безубыточной разработки скважины:', round(enough_volume,2))"
   ]
  },
  {
   "cell_type": "markdown",
   "metadata": {},
   "source": [
    "Средние объемы добычи сырья на одной скважине в регионах №0, №1 и №2, соответственно: 93, 69, 95. Видим что это значительно меньше уровня безубыточности. Т.е. экономически целесообразно разрабатывать только лучшие скважины в любом из регионов. "
   ]
  },
  {
   "cell_type": "markdown",
   "metadata": {},
   "source": [
    "## Расчёт прибыли и рисков "
   ]
  },
  {
   "cell_type": "markdown",
   "metadata": {},
   "source": [
    "Функция для расчета прибыли, с учетом условий задачи:\n",
    "\n",
    " - из 500 скважин для разработки выбираем 200 лучших скважин по предсказаниям модели.\n",
    "  \n",
    " - заданный бюджет на разработку 200 скважин.\n",
    " \n",
    "Для выбранных 200 скважин посчитаем объем добычи по целевому признаку и прибыль с учетом фиксированной цены."
   ]
  },
  {
   "cell_type": "code",
   "execution_count": 12,
   "metadata": {},
   "outputs": [],
   "source": [
    "def get_profit(target,predictions,sample_size,top_size,price,budget,state):\n",
    "    predict_sample = predictions.sample(n=sample_size, replace=True, random_state=state)\n",
    "    predict_top = predict_sample.sort_values(ascending=False)[:top_size]\n",
    "    target_top = target.iloc[predict_top.index]\n",
    "    volume = sum(target_top)\n",
    "    profit = volume * price - budget\n",
    "    return profit   "
   ]
  },
  {
   "cell_type": "markdown",
   "metadata": {},
   "source": [
    "Для каждого региона оценим среднюю прибыль (для лучших скважин), а так же риски убытков и доверительный интервал. Для этого построим распределение прибыли по 1000 случайных выборок. Будем использовать методику bootstrap: "
   ]
  },
  {
   "cell_type": "code",
   "execution_count": 13,
   "metadata": {},
   "outputs": [],
   "source": [
    "def bootstraper(target,predictions,sample_size,top_size,price,budget,num_of_iterations):\n",
    "    state = np.random.RandomState(123)\n",
    "    profits = []\n",
    "    for i in range(num_of_iterations):\n",
    "        profit = get_profit(target,predictions,sample_size,top_size,price,budget,state)\n",
    "        profits.append(profit)\n",
    "    return pd.Series(profits)"
   ]
  },
  {
   "cell_type": "code",
   "execution_count": 14,
   "metadata": {},
   "outputs": [],
   "source": [
    "predictions_valid_0 = pd.Series(predictions_valid_0)\n",
    "predictions_valid_1 = pd.Series(predictions_valid_1)\n",
    "predictions_valid_2 = pd.Series(predictions_valid_2)\n",
    "\n",
    "target_valid_0 = target_valid_0.reset_index(drop=True)\n",
    "target_valid_1 = target_valid_1.reset_index(drop=True)\n",
    "target_valid_2 = target_valid_2.reset_index(drop=True)"
   ]
  },
  {
   "cell_type": "code",
   "execution_count": 15,
   "metadata": {},
   "outputs": [],
   "source": [
    "num_of_iterations = 1000\n",
    "\n",
    "profits_0 = bootstraper(target_valid_0,predictions_valid_0,WELLS,BEST_WELLS,PRICE,BUDGET,num_of_iterations)\n",
    "profits_1 = bootstraper(target_valid_1,predictions_valid_1,WELLS,BEST_WELLS,PRICE,BUDGET,num_of_iterations)\n",
    "profits_2 = bootstraper(target_valid_2,predictions_valid_2,WELLS,BEST_WELLS,PRICE,BUDGET,num_of_iterations)"
   ]
  },
  {
   "cell_type": "markdown",
   "metadata": {},
   "source": [
    "### Средняя прибыль"
   ]
  },
  {
   "cell_type": "code",
   "execution_count": 16,
   "metadata": {},
   "outputs": [
    {
     "name": "stdout",
     "output_type": "stream",
     "text": [
      "Cредняя суммарная прибыль от 200 лучших скважин в регионе №0: 477416824.27\n",
      "Cредняя суммарная прибыль от 200 лучших скважин в регионе №1: 479190161.30\n",
      "Cредняя суммарная прибыль от 200 лучших скважин в регионе №2: 343454376.58\n"
     ]
    }
   ],
   "source": [
    "print(\"Cредняя суммарная прибыль от 200 лучших скважин в регионе №0: {:.2f}\".format(profits_0.mean()))\n",
    "print(\"Cредняя суммарная прибыль от 200 лучших скважин в регионе №1: {:.2f}\".format(profits_1.mean()))\n",
    "print(\"Cредняя суммарная прибыль от 200 лучших скважин в регионе №2: {:.2f}\".format(profits_2.mean()))"
   ]
  },
  {
   "cell_type": "markdown",
   "metadata": {},
   "source": [
    " - наибольшая средняя прибыль для 200 лучших скважин в регионе №1."
   ]
  },
  {
   "cell_type": "markdown",
   "metadata": {},
   "source": [
    "### Доверительные интервалы:"
   ]
  },
  {
   "cell_type": "code",
   "execution_count": 17,
   "metadata": {},
   "outputs": [
    {
     "name": "stdout",
     "output_type": "stream",
     "text": [
      "95%-ый доверительный интервал, регион №0: от -57994 до 974822 тыс.руб.\n"
     ]
    }
   ],
   "source": [
    "alpha = 0.05\n",
    "\n",
    "lower_limit_0 = profits_0.quantile(alpha/2)\n",
    "upper_limit_0 = profits_0.quantile(1-alpha/2)\n",
    "print('95%-ый доверительный интервал, регион №0: от {:.0f} до {:.0f} тыс.руб.'.format(lower_limit_0/1000, upper_limit_0/1000))"
   ]
  },
  {
   "cell_type": "code",
   "execution_count": 18,
   "metadata": {},
   "outputs": [
    {
     "name": "stdout",
     "output_type": "stream",
     "text": [
      "95%-ый доверительный интервал, регион №1: от 58727 до 874425 тыс.руб.\n"
     ]
    }
   ],
   "source": [
    "lower_limit_1 = profits_1.quantile(alpha/2)\n",
    "upper_limit_1 = profits_1.quantile(1-alpha/2)\n",
    "print('95%-ый доверительный интервал, регион №1: от {:.0f} до {:.0f} тыс.руб.'.format(lower_limit_1/1000, upper_limit_1/1000))"
   ]
  },
  {
   "cell_type": "code",
   "execution_count": 19,
   "metadata": {},
   "outputs": [
    {
     "name": "stdout",
     "output_type": "stream",
     "text": [
      "95%-ый доверительный интервал, регион №2: от -231376 до 860841 тыс.руб.\n"
     ]
    }
   ],
   "source": [
    "lower_limit_2 = profits_2.quantile(alpha/2)\n",
    "upper_limit_2 = profits_2.quantile(1-alpha/2)\n",
    "print('95%-ый доверительный интервал, регион №2: от {:.0f} до {:.0f} тыс.руб.'.format(lower_limit_2/1000, upper_limit_2/1000))"
   ]
  },
  {
   "cell_type": "markdown",
   "metadata": {},
   "source": [
    " - из всех трех регионов только у региона №1 нижняя граница 95% доверительного интервала не заходит в зону убытков."
   ]
  },
  {
   "cell_type": "markdown",
   "metadata": {},
   "source": [
    "### Вероятность убытков:"
   ]
  },
  {
   "cell_type": "code",
   "execution_count": 20,
   "metadata": {},
   "outputs": [
    {
     "name": "stdout",
     "output_type": "stream",
     "text": [
      "Вероятность убытка в регионе №0: 4.10%\n",
      "Вероятность убытка в регионе №1: 0.90%\n",
      "Вероятность убытка в регионе №2: 9.90%\n"
     ]
    }
   ],
   "source": [
    "loss_prob = profits_0[profits_0<0].count()/profits_0.count()\n",
    "print('Вероятность убытка в регионе №0: {:.2%}'.format(loss_prob))\n",
    "loss_prob = profits_1[profits_1<0].count()/profits_1.count()\n",
    "print('Вероятность убытка в регионе №1: {:.2%}'.format(loss_prob))\n",
    "loss_prob = profits_2[profits_2<0].count()/profits_2.count()\n",
    "print('Вероятность убытка в регионе №2: {:.2%}'.format(loss_prob))"
   ]
  },
  {
   "cell_type": "markdown",
   "metadata": {},
   "source": [
    " - критериям задачи (максимальный риск убытка не должен превышать 2.5%) соответствует только регион №1."
   ]
  },
  {
   "cell_type": "markdown",
   "metadata": {},
   "source": [
    "## Выводы:\n",
    "\n",
    " - метрика качества RMSE показывает что наиболее точные предсказания дает модель обученная на данных в регионе №1\n",
    "\n",
    " - Наибольшую среднюю прибыль при разработке 200 лучших скважин даст второй регион (несмотря на то что средний объем сырья на одну скважину по всему датасету для этого региона самый маленький - в этом регионе нефть распределена не так равномерно, как в первом и третьем регионах). \n",
    " \n",
    " - 95% доверительный интервал не заходит в зону убытков только в регионе №1\n",
    "\n",
    " - Из всех трех регионов вероятность убытка удовлетворяет критериям задачи (не более 2.5%) только регион №1\n",
    "\n",
    " - Следовательно можно рекомендовать к разработке регион №1. "
   ]
  }
 ],
 "metadata": {
  "ExecuteTimeLog": [
   {
    "duration": 376,
    "start_time": "2022-11-21T20:43:20.840Z"
   },
   {
    "duration": 723,
    "start_time": "2022-11-21T20:43:21.217Z"
   },
   {
    "duration": 17,
    "start_time": "2022-11-21T20:43:21.942Z"
   },
   {
    "duration": 12,
    "start_time": "2022-11-21T20:43:21.960Z"
   },
   {
    "duration": 15,
    "start_time": "2022-11-21T20:43:21.973Z"
   },
   {
    "duration": 48,
    "start_time": "2022-11-22T09:21:36.545Z"
   },
   {
    "duration": 410,
    "start_time": "2022-11-22T09:21:41.775Z"
   },
   {
    "duration": 738,
    "start_time": "2022-11-22T09:21:42.188Z"
   },
   {
    "duration": 16,
    "start_time": "2022-11-22T09:21:42.930Z"
   },
   {
    "duration": 11,
    "start_time": "2022-11-22T09:21:42.947Z"
   },
   {
    "duration": 18,
    "start_time": "2022-11-22T09:21:42.960Z"
   },
   {
    "duration": 10,
    "start_time": "2022-11-22T09:21:55.914Z"
   },
   {
    "duration": 9,
    "start_time": "2022-11-22T09:21:57.994Z"
   },
   {
    "duration": 712,
    "start_time": "2022-11-22T11:00:13.318Z"
   },
   {
    "duration": 13,
    "start_time": "2022-11-22T11:04:07.349Z"
   },
   {
    "duration": 36,
    "start_time": "2022-11-22T11:04:29.876Z"
   },
   {
    "duration": 1329,
    "start_time": "2022-11-22T11:06:06.733Z"
   },
   {
    "duration": 16,
    "start_time": "2022-11-22T11:06:43.088Z"
   },
   {
    "duration": 74,
    "start_time": "2022-11-22T11:21:57.605Z"
   },
   {
    "duration": 15,
    "start_time": "2022-11-22T11:22:42.091Z"
   },
   {
    "duration": 23,
    "start_time": "2022-11-22T11:29:30.210Z"
   },
   {
    "duration": 28,
    "start_time": "2022-11-22T12:58:31.501Z"
   },
   {
    "duration": 26,
    "start_time": "2022-11-22T12:59:01.659Z"
   },
   {
    "duration": 23,
    "start_time": "2022-11-22T13:03:46.050Z"
   },
   {
    "duration": 25,
    "start_time": "2022-11-22T13:03:52.402Z"
   },
   {
    "duration": 30,
    "start_time": "2022-11-22T13:04:07.883Z"
   },
   {
    "duration": 14,
    "start_time": "2022-11-22T13:23:11.679Z"
   },
   {
    "duration": 15,
    "start_time": "2022-11-22T13:38:16.523Z"
   },
   {
    "duration": 3,
    "start_time": "2022-11-22T13:38:29.075Z"
   },
   {
    "duration": 54,
    "start_time": "2022-11-22T13:38:32.410Z"
   },
   {
    "duration": 13,
    "start_time": "2022-11-22T13:41:23.764Z"
   },
   {
    "duration": 38,
    "start_time": "2022-11-22T13:41:25.935Z"
   },
   {
    "duration": 3,
    "start_time": "2022-11-22T14:15:19.257Z"
   },
   {
    "duration": 10,
    "start_time": "2022-11-22T14:31:58.974Z"
   },
   {
    "duration": 90,
    "start_time": "2022-11-22T14:32:11.285Z"
   },
   {
    "duration": 14,
    "start_time": "2022-11-22T14:32:21.556Z"
   },
   {
    "duration": 63,
    "start_time": "2022-11-22T14:34:48.513Z"
   },
   {
    "duration": 15,
    "start_time": "2022-11-22T14:34:52.193Z"
   },
   {
    "duration": 3,
    "start_time": "2022-11-22T14:55:22.071Z"
   },
   {
    "duration": 4,
    "start_time": "2022-11-22T14:55:45.389Z"
   },
   {
    "duration": 8,
    "start_time": "2022-11-22T15:14:42.142Z"
   },
   {
    "duration": 5,
    "start_time": "2022-11-22T15:15:27.652Z"
   },
   {
    "duration": 4,
    "start_time": "2022-11-22T15:21:48.023Z"
   },
   {
    "duration": 4,
    "start_time": "2022-11-22T15:25:59.907Z"
   },
   {
    "duration": 55,
    "start_time": "2022-11-22T15:27:45.449Z"
   },
   {
    "duration": 3,
    "start_time": "2022-11-22T15:27:53.600Z"
   },
   {
    "duration": 4,
    "start_time": "2022-11-22T15:28:30.260Z"
   },
   {
    "duration": 3,
    "start_time": "2022-11-22T15:31:21.241Z"
   },
   {
    "duration": 3,
    "start_time": "2022-11-22T17:20:13.131Z"
   },
   {
    "duration": 16,
    "start_time": "2022-11-22T17:25:22.612Z"
   },
   {
    "duration": 3,
    "start_time": "2022-11-22T17:25:38.496Z"
   },
   {
    "duration": 15,
    "start_time": "2022-11-22T17:25:40.773Z"
   },
   {
    "duration": 22,
    "start_time": "2022-11-22T17:26:15.051Z"
   },
   {
    "duration": 1718,
    "start_time": "2022-11-22T17:27:20.233Z"
   },
   {
    "duration": 1603,
    "start_time": "2022-11-22T17:27:43.009Z"
   },
   {
    "duration": 59,
    "start_time": "2022-11-22T17:28:12.353Z"
   },
   {
    "duration": 60,
    "start_time": "2022-11-22T17:29:25.223Z"
   },
   {
    "duration": 32,
    "start_time": "2022-11-22T17:29:50.501Z"
   },
   {
    "duration": 39,
    "start_time": "2022-11-22T17:30:41.797Z"
   },
   {
    "duration": 43,
    "start_time": "2022-11-22T17:31:10.732Z"
   },
   {
    "duration": 3,
    "start_time": "2022-11-22T17:33:37.619Z"
   },
   {
    "duration": 34,
    "start_time": "2022-11-22T17:33:39.432Z"
   },
   {
    "duration": 14,
    "start_time": "2022-11-22T17:37:25.906Z"
   },
   {
    "duration": 28,
    "start_time": "2022-11-22T17:37:46.497Z"
   },
   {
    "duration": 3,
    "start_time": "2022-11-22T17:39:20.096Z"
   },
   {
    "duration": 24,
    "start_time": "2022-11-22T17:39:41.070Z"
   },
   {
    "duration": 26,
    "start_time": "2022-11-22T17:40:07.147Z"
   },
   {
    "duration": 25,
    "start_time": "2022-11-22T17:42:05.903Z"
   },
   {
    "duration": 24,
    "start_time": "2022-11-22T17:46:18.057Z"
   },
   {
    "duration": 23,
    "start_time": "2022-11-22T17:46:21.793Z"
   },
   {
    "duration": 3,
    "start_time": "2022-11-22T17:46:47.077Z"
   },
   {
    "duration": 25,
    "start_time": "2022-11-22T17:46:51.469Z"
   },
   {
    "duration": 64,
    "start_time": "2022-11-22T17:54:02.189Z"
   },
   {
    "duration": 4,
    "start_time": "2022-11-22T19:26:26.097Z"
   },
   {
    "duration": 6,
    "start_time": "2022-11-22T19:27:53.569Z"
   },
   {
    "duration": 4,
    "start_time": "2022-11-22T19:28:00.866Z"
   },
   {
    "duration": 68,
    "start_time": "2022-11-22T20:28:56.526Z"
   },
   {
    "duration": 4,
    "start_time": "2022-11-22T20:29:20.483Z"
   },
   {
    "duration": 4534,
    "start_time": "2022-11-22T20:29:23.934Z"
   },
   {
    "duration": 4,
    "start_time": "2022-11-22T20:29:46.131Z"
   },
   {
    "duration": 9,
    "start_time": "2022-11-22T20:30:23.410Z"
   },
   {
    "duration": 8,
    "start_time": "2022-11-22T20:30:30.354Z"
   },
   {
    "duration": 5,
    "start_time": "2022-11-22T20:30:40.594Z"
   },
   {
    "duration": 5,
    "start_time": "2022-11-22T20:31:32.016Z"
   },
   {
    "duration": 4,
    "start_time": "2022-11-22T20:32:26.535Z"
   },
   {
    "duration": 5,
    "start_time": "2022-11-22T20:33:00.574Z"
   },
   {
    "duration": 5,
    "start_time": "2022-11-22T20:33:03.286Z"
   },
   {
    "duration": 41,
    "start_time": "2022-11-22T20:36:26.650Z"
   },
   {
    "duration": 4695,
    "start_time": "2022-11-22T20:36:40.866Z"
   },
   {
    "duration": 4653,
    "start_time": "2022-11-22T20:37:14.312Z"
   },
   {
    "duration": 4675,
    "start_time": "2022-11-22T20:37:27.430Z"
   },
   {
    "duration": 4558,
    "start_time": "2022-11-22T20:37:44.384Z"
   },
   {
    "duration": 4508,
    "start_time": "2022-11-22T20:38:27.927Z"
   },
   {
    "duration": 4354,
    "start_time": "2022-11-22T20:39:47.357Z"
   },
   {
    "duration": 4636,
    "start_time": "2022-11-22T20:41:42.969Z"
   },
   {
    "duration": 4915,
    "start_time": "2022-11-22T20:42:02.729Z"
   },
   {
    "duration": 12,
    "start_time": "2022-11-22T20:47:05.553Z"
   },
   {
    "duration": 4,
    "start_time": "2022-11-22T20:47:11.689Z"
   },
   {
    "duration": 20,
    "start_time": "2022-11-22T20:47:13.512Z"
   },
   {
    "duration": 4,
    "start_time": "2022-11-22T20:47:27.048Z"
   },
   {
    "duration": 4885,
    "start_time": "2022-11-22T20:47:29.991Z"
   },
   {
    "duration": 4,
    "start_time": "2022-11-22T21:00:01.713Z"
   },
   {
    "duration": 7,
    "start_time": "2022-11-22T21:01:00.450Z"
   },
   {
    "duration": 19,
    "start_time": "2022-11-22T21:13:52.185Z"
   },
   {
    "duration": 13,
    "start_time": "2022-11-22T21:13:58.441Z"
   },
   {
    "duration": 12,
    "start_time": "2022-11-22T21:14:10.169Z"
   },
   {
    "duration": 953,
    "start_time": "2022-11-22T21:17:31.442Z"
   },
   {
    "duration": 394,
    "start_time": "2022-11-22T21:17:32.397Z"
   },
   {
    "duration": 13,
    "start_time": "2022-11-22T21:17:32.793Z"
   },
   {
    "duration": 34,
    "start_time": "2022-11-22T21:17:32.808Z"
   },
   {
    "duration": 43,
    "start_time": "2022-11-22T21:17:32.843Z"
   },
   {
    "duration": 18,
    "start_time": "2022-11-22T21:17:32.887Z"
   },
   {
    "duration": 41,
    "start_time": "2022-11-22T21:17:32.907Z"
   },
   {
    "duration": 37,
    "start_time": "2022-11-22T21:17:32.950Z"
   },
   {
    "duration": 200,
    "start_time": "2022-11-22T21:17:32.989Z"
   },
   {
    "duration": 105,
    "start_time": "2022-11-22T21:17:33.278Z"
   },
   {
    "duration": 270,
    "start_time": "2022-11-22T21:17:33.385Z"
   },
   {
    "duration": 0,
    "start_time": "2022-11-22T21:17:33.657Z"
   },
   {
    "duration": 0,
    "start_time": "2022-11-22T21:17:33.658Z"
   },
   {
    "duration": 0,
    "start_time": "2022-11-22T21:17:33.659Z"
   },
   {
    "duration": 0,
    "start_time": "2022-11-22T21:17:33.676Z"
   },
   {
    "duration": 1029,
    "start_time": "2022-11-22T21:18:18.428Z"
   },
   {
    "duration": 402,
    "start_time": "2022-11-22T21:18:19.459Z"
   },
   {
    "duration": 20,
    "start_time": "2022-11-22T21:18:19.862Z"
   },
   {
    "duration": 35,
    "start_time": "2022-11-22T21:18:19.885Z"
   },
   {
    "duration": 23,
    "start_time": "2022-11-22T21:18:19.922Z"
   },
   {
    "duration": 42,
    "start_time": "2022-11-22T21:18:19.946Z"
   },
   {
    "duration": 44,
    "start_time": "2022-11-22T21:18:19.990Z"
   },
   {
    "duration": 42,
    "start_time": "2022-11-22T21:18:20.036Z"
   },
   {
    "duration": 104,
    "start_time": "2022-11-22T21:18:20.079Z"
   },
   {
    "duration": 226,
    "start_time": "2022-11-22T21:18:20.186Z"
   },
   {
    "duration": 70,
    "start_time": "2022-11-22T21:18:20.414Z"
   },
   {
    "duration": 99,
    "start_time": "2022-11-22T21:18:20.491Z"
   },
   {
    "duration": 21,
    "start_time": "2022-11-22T21:18:20.592Z"
   },
   {
    "duration": 4956,
    "start_time": "2022-11-22T21:18:20.615Z"
   },
   {
    "duration": 7,
    "start_time": "2022-11-22T21:18:25.575Z"
   },
   {
    "duration": 1162,
    "start_time": "2022-11-23T14:02:09.099Z"
   },
   {
    "duration": 380,
    "start_time": "2022-11-23T14:02:10.264Z"
   },
   {
    "duration": 13,
    "start_time": "2022-11-23T14:02:10.646Z"
   },
   {
    "duration": 70,
    "start_time": "2022-11-23T14:02:10.661Z"
   },
   {
    "duration": 22,
    "start_time": "2022-11-23T14:02:10.734Z"
   },
   {
    "duration": 21,
    "start_time": "2022-11-23T14:02:10.758Z"
   },
   {
    "duration": 68,
    "start_time": "2022-11-23T14:02:10.781Z"
   },
   {
    "duration": 74,
    "start_time": "2022-11-23T14:02:10.850Z"
   },
   {
    "duration": 115,
    "start_time": "2022-11-23T14:02:10.926Z"
   },
   {
    "duration": 184,
    "start_time": "2022-11-23T14:02:11.043Z"
   },
   {
    "duration": 7,
    "start_time": "2022-11-23T14:02:11.229Z"
   },
   {
    "duration": 6,
    "start_time": "2022-11-23T14:02:11.323Z"
   },
   {
    "duration": 6,
    "start_time": "2022-11-23T14:02:11.331Z"
   },
   {
    "duration": 5168,
    "start_time": "2022-11-23T14:02:11.341Z"
   },
   {
    "duration": 18,
    "start_time": "2022-11-23T14:02:16.510Z"
   },
   {
    "duration": 1030,
    "start_time": "2022-11-23T16:30:11.746Z"
   },
   {
    "duration": 695,
    "start_time": "2022-11-23T16:30:12.778Z"
   },
   {
    "duration": 15,
    "start_time": "2022-11-23T16:30:13.474Z"
   },
   {
    "duration": 34,
    "start_time": "2022-11-23T16:30:13.491Z"
   },
   {
    "duration": 24,
    "start_time": "2022-11-23T16:30:13.527Z"
   },
   {
    "duration": 16,
    "start_time": "2022-11-23T16:30:13.552Z"
   },
   {
    "duration": 66,
    "start_time": "2022-11-23T16:30:13.570Z"
   },
   {
    "duration": 61,
    "start_time": "2022-11-23T16:30:13.638Z"
   },
   {
    "duration": 106,
    "start_time": "2022-11-23T16:30:13.702Z"
   },
   {
    "duration": 96,
    "start_time": "2022-11-23T16:30:13.811Z"
   },
   {
    "duration": 95,
    "start_time": "2022-11-23T16:30:13.909Z"
   },
   {
    "duration": 96,
    "start_time": "2022-11-23T16:30:14.007Z"
   },
   {
    "duration": 5,
    "start_time": "2022-11-23T16:30:14.105Z"
   },
   {
    "duration": 5293,
    "start_time": "2022-11-23T16:30:14.112Z"
   },
   {
    "duration": 7,
    "start_time": "2022-11-23T16:30:19.407Z"
   },
   {
    "duration": 20,
    "start_time": "2022-11-23T16:31:37.358Z"
   },
   {
    "duration": 14,
    "start_time": "2022-11-23T16:31:59.829Z"
   },
   {
    "duration": 14,
    "start_time": "2022-11-23T16:32:34.968Z"
   },
   {
    "duration": 5,
    "start_time": "2022-11-23T17:01:23.079Z"
   },
   {
    "duration": 4,
    "start_time": "2022-11-23T17:04:04.048Z"
   },
   {
    "duration": 4,
    "start_time": "2022-11-23T17:45:19.335Z"
   },
   {
    "duration": 100,
    "start_time": "2022-11-23T17:48:37.809Z"
   },
   {
    "duration": 24,
    "start_time": "2022-11-23T17:53:27.116Z"
   },
   {
    "duration": 22,
    "start_time": "2022-11-23T17:55:07.160Z"
   },
   {
    "duration": 20,
    "start_time": "2022-11-23T18:10:16.803Z"
   },
   {
    "duration": 19,
    "start_time": "2022-11-23T18:11:45.737Z"
   },
   {
    "duration": 6,
    "start_time": "2022-11-23T18:12:11.137Z"
   },
   {
    "duration": 6,
    "start_time": "2022-11-23T18:12:28.172Z"
   },
   {
    "duration": 8,
    "start_time": "2022-11-23T18:12:37.895Z"
   },
   {
    "duration": 9,
    "start_time": "2022-11-23T18:12:41.313Z"
   },
   {
    "duration": 3,
    "start_time": "2022-11-23T18:13:53.718Z"
   },
   {
    "duration": 8,
    "start_time": "2022-11-23T18:14:42.116Z"
   },
   {
    "duration": 5,
    "start_time": "2022-11-23T18:15:10.052Z"
   },
   {
    "duration": 4,
    "start_time": "2022-11-23T18:23:00.728Z"
   },
   {
    "duration": 1117,
    "start_time": "2022-11-23T18:23:41.582Z"
   },
   {
    "duration": 396,
    "start_time": "2022-11-23T18:23:42.701Z"
   },
   {
    "duration": 16,
    "start_time": "2022-11-23T18:23:43.099Z"
   },
   {
    "duration": 44,
    "start_time": "2022-11-23T18:23:43.119Z"
   },
   {
    "duration": 53,
    "start_time": "2022-11-23T18:23:43.164Z"
   },
   {
    "duration": 16,
    "start_time": "2022-11-23T18:23:43.218Z"
   },
   {
    "duration": 65,
    "start_time": "2022-11-23T18:23:43.235Z"
   },
   {
    "duration": 23,
    "start_time": "2022-11-23T18:23:43.302Z"
   },
   {
    "duration": 202,
    "start_time": "2022-11-23T18:23:43.396Z"
   },
   {
    "duration": 122,
    "start_time": "2022-11-23T18:23:43.601Z"
   },
   {
    "duration": 261,
    "start_time": "2022-11-23T18:23:43.725Z"
   },
   {
    "duration": 0,
    "start_time": "2022-11-23T18:23:43.988Z"
   },
   {
    "duration": 0,
    "start_time": "2022-11-23T18:23:43.997Z"
   },
   {
    "duration": 0,
    "start_time": "2022-11-23T18:23:43.999Z"
   },
   {
    "duration": 0,
    "start_time": "2022-11-23T18:23:44.001Z"
   },
   {
    "duration": 0,
    "start_time": "2022-11-23T18:23:44.003Z"
   },
   {
    "duration": 4,
    "start_time": "2022-11-23T18:24:32.435Z"
   },
   {
    "duration": 5,
    "start_time": "2022-11-23T18:24:37.866Z"
   },
   {
    "duration": 9,
    "start_time": "2022-11-23T18:24:39.939Z"
   },
   {
    "duration": 1142,
    "start_time": "2022-11-23T18:25:01.957Z"
   },
   {
    "duration": 412,
    "start_time": "2022-11-23T18:25:03.101Z"
   },
   {
    "duration": 17,
    "start_time": "2022-11-23T18:25:03.515Z"
   },
   {
    "duration": 35,
    "start_time": "2022-11-23T18:25:03.535Z"
   },
   {
    "duration": 46,
    "start_time": "2022-11-23T18:25:03.573Z"
   },
   {
    "duration": 18,
    "start_time": "2022-11-23T18:25:03.620Z"
   },
   {
    "duration": 88,
    "start_time": "2022-11-23T18:25:03.640Z"
   },
   {
    "duration": 166,
    "start_time": "2022-11-23T18:25:03.730Z"
   },
   {
    "duration": 19,
    "start_time": "2022-11-23T18:25:03.898Z"
   },
   {
    "duration": 188,
    "start_time": "2022-11-23T18:25:03.921Z"
   },
   {
    "duration": 192,
    "start_time": "2022-11-23T18:25:04.113Z"
   },
   {
    "duration": 8,
    "start_time": "2022-11-23T18:25:04.307Z"
   },
   {
    "duration": 125,
    "start_time": "2022-11-23T18:25:04.318Z"
   },
   {
    "duration": 0,
    "start_time": "2022-11-23T18:25:04.445Z"
   },
   {
    "duration": 0,
    "start_time": "2022-11-23T18:25:04.446Z"
   },
   {
    "duration": 0,
    "start_time": "2022-11-23T18:25:04.447Z"
   },
   {
    "duration": 6,
    "start_time": "2022-11-23T18:26:42.833Z"
   },
   {
    "duration": 10,
    "start_time": "2022-11-23T18:26:45.133Z"
   },
   {
    "duration": 7,
    "start_time": "2022-11-23T18:26:58.839Z"
   },
   {
    "duration": 9,
    "start_time": "2022-11-23T18:27:06.995Z"
   },
   {
    "duration": 7,
    "start_time": "2022-11-23T18:27:10.724Z"
   },
   {
    "duration": 8,
    "start_time": "2022-11-23T18:27:28.894Z"
   },
   {
    "duration": 13,
    "start_time": "2022-11-23T18:28:30.198Z"
   },
   {
    "duration": 3,
    "start_time": "2022-11-23T18:41:03.747Z"
   },
   {
    "duration": 3,
    "start_time": "2022-11-23T20:22:07.241Z"
   },
   {
    "duration": 6,
    "start_time": "2022-11-23T20:22:10.326Z"
   },
   {
    "duration": 7,
    "start_time": "2022-11-23T20:22:17.796Z"
   },
   {
    "duration": 14,
    "start_time": "2022-11-23T20:22:20.249Z"
   },
   {
    "duration": 4,
    "start_time": "2022-11-23T20:22:43.315Z"
   },
   {
    "duration": 523,
    "start_time": "2022-11-23T20:22:45.722Z"
   },
   {
    "duration": 5,
    "start_time": "2022-11-23T20:24:39.929Z"
   },
   {
    "duration": 649,
    "start_time": "2022-11-23T20:24:44.939Z"
   },
   {
    "duration": 4,
    "start_time": "2022-11-23T20:24:58.774Z"
   },
   {
    "duration": 407,
    "start_time": "2022-11-23T20:25:03.877Z"
   },
   {
    "duration": 393,
    "start_time": "2022-11-23T20:25:47.323Z"
   },
   {
    "duration": 9,
    "start_time": "2022-11-23T20:29:28.814Z"
   },
   {
    "duration": 1506,
    "start_time": "2022-11-23T20:31:05.120Z"
   },
   {
    "duration": 6,
    "start_time": "2022-11-23T20:31:36.251Z"
   },
   {
    "duration": 1718,
    "start_time": "2022-11-23T20:31:37.456Z"
   },
   {
    "duration": 8,
    "start_time": "2022-11-23T20:38:08.251Z"
   },
   {
    "duration": 6,
    "start_time": "2022-11-23T20:38:51.248Z"
   },
   {
    "duration": 7,
    "start_time": "2022-11-23T20:40:43.354Z"
   },
   {
    "duration": 6,
    "start_time": "2022-11-23T20:40:46.863Z"
   },
   {
    "duration": 7,
    "start_time": "2022-11-23T20:40:49.564Z"
   },
   {
    "duration": 9,
    "start_time": "2022-11-23T20:41:32.974Z"
   },
   {
    "duration": 3,
    "start_time": "2022-11-23T20:59:27.879Z"
   },
   {
    "duration": 1162,
    "start_time": "2022-11-23T21:11:11.508Z"
   },
   {
    "duration": 6,
    "start_time": "2022-11-23T21:15:58.196Z"
   },
   {
    "duration": 6,
    "start_time": "2022-11-23T21:16:10.982Z"
   },
   {
    "duration": 6,
    "start_time": "2022-11-23T21:17:22.108Z"
   },
   {
    "duration": 6,
    "start_time": "2022-11-23T21:17:45.081Z"
   },
   {
    "duration": 6,
    "start_time": "2022-11-23T21:18:09.093Z"
   },
   {
    "duration": 5,
    "start_time": "2022-11-23T21:18:43.464Z"
   },
   {
    "duration": 7,
    "start_time": "2022-11-23T21:19:30.942Z"
   },
   {
    "duration": 5,
    "start_time": "2022-11-23T21:20:00.397Z"
   },
   {
    "duration": 8,
    "start_time": "2022-11-23T21:21:24.959Z"
   },
   {
    "duration": 6,
    "start_time": "2022-11-23T21:22:34.538Z"
   },
   {
    "duration": 3,
    "start_time": "2022-11-23T21:26:18.608Z"
   },
   {
    "duration": 6,
    "start_time": "2022-11-23T21:26:29.907Z"
   },
   {
    "duration": 6,
    "start_time": "2022-11-23T21:26:50.258Z"
   },
   {
    "duration": 5,
    "start_time": "2022-11-23T21:27:04.761Z"
   },
   {
    "duration": 2,
    "start_time": "2022-11-23T21:27:15.655Z"
   },
   {
    "duration": 5,
    "start_time": "2022-11-23T21:34:44.043Z"
   },
   {
    "duration": 1110,
    "start_time": "2022-11-23T21:34:51.319Z"
   },
   {
    "duration": 2,
    "start_time": "2022-11-23T21:35:15.820Z"
   },
   {
    "duration": 68,
    "start_time": "2022-11-23T21:41:57.770Z"
   },
   {
    "duration": 1035,
    "start_time": "2022-11-23T21:59:41.248Z"
   },
   {
    "duration": 381,
    "start_time": "2022-11-23T21:59:42.285Z"
   },
   {
    "duration": 16,
    "start_time": "2022-11-23T21:59:42.668Z"
   },
   {
    "duration": 55,
    "start_time": "2022-11-23T21:59:42.687Z"
   },
   {
    "duration": 21,
    "start_time": "2022-11-23T21:59:42.744Z"
   },
   {
    "duration": 18,
    "start_time": "2022-11-23T21:59:42.766Z"
   },
   {
    "duration": 51,
    "start_time": "2022-11-23T21:59:42.786Z"
   },
   {
    "duration": 61,
    "start_time": "2022-11-23T21:59:42.839Z"
   },
   {
    "duration": 103,
    "start_time": "2022-11-23T21:59:42.902Z"
   },
   {
    "duration": 210,
    "start_time": "2022-11-23T21:59:43.013Z"
   },
   {
    "duration": 5,
    "start_time": "2022-11-23T21:59:43.224Z"
   },
   {
    "duration": 170,
    "start_time": "2022-11-23T21:59:43.231Z"
   },
   {
    "duration": 16,
    "start_time": "2022-11-23T21:59:43.403Z"
   },
   {
    "duration": 7,
    "start_time": "2022-11-23T21:59:43.421Z"
   },
   {
    "duration": 1198,
    "start_time": "2022-11-23T21:59:43.430Z"
   },
   {
    "duration": 5,
    "start_time": "2022-11-23T21:59:44.630Z"
   },
   {
    "duration": 7,
    "start_time": "2022-11-23T21:59:44.636Z"
   },
   {
    "duration": 7,
    "start_time": "2022-11-23T21:59:44.645Z"
   },
   {
    "duration": 5,
    "start_time": "2022-11-23T21:59:44.654Z"
   },
   {
    "duration": 39,
    "start_time": "2022-11-23T21:59:44.660Z"
   },
   {
    "duration": 1066,
    "start_time": "2022-11-23T22:18:23.483Z"
   },
   {
    "duration": 351,
    "start_time": "2022-11-23T22:18:24.551Z"
   },
   {
    "duration": 13,
    "start_time": "2022-11-23T22:18:24.904Z"
   },
   {
    "duration": 38,
    "start_time": "2022-11-23T22:18:24.919Z"
   },
   {
    "duration": 39,
    "start_time": "2022-11-23T22:18:24.958Z"
   },
   {
    "duration": 18,
    "start_time": "2022-11-23T22:18:24.999Z"
   },
   {
    "duration": 50,
    "start_time": "2022-11-23T22:18:25.019Z"
   },
   {
    "duration": 45,
    "start_time": "2022-11-23T22:18:25.070Z"
   },
   {
    "duration": 104,
    "start_time": "2022-11-23T22:18:25.196Z"
   },
   {
    "duration": 106,
    "start_time": "2022-11-23T22:18:25.303Z"
   },
   {
    "duration": 92,
    "start_time": "2022-11-23T22:18:25.411Z"
   },
   {
    "duration": 7,
    "start_time": "2022-11-23T22:18:25.596Z"
   },
   {
    "duration": 5,
    "start_time": "2022-11-23T22:18:25.605Z"
   },
   {
    "duration": 9,
    "start_time": "2022-11-23T22:18:25.611Z"
   },
   {
    "duration": 1163,
    "start_time": "2022-11-23T22:18:25.621Z"
   },
   {
    "duration": 10,
    "start_time": "2022-11-23T22:18:26.785Z"
   },
   {
    "duration": 5,
    "start_time": "2022-11-23T22:18:26.797Z"
   },
   {
    "duration": 13,
    "start_time": "2022-11-23T22:18:26.803Z"
   },
   {
    "duration": 9,
    "start_time": "2022-11-23T22:18:26.818Z"
   },
   {
    "duration": 6,
    "start_time": "2022-11-23T22:18:26.829Z"
   }
  ],
  "kernelspec": {
   "display_name": "Python 3 (ipykernel)",
   "language": "python",
   "name": "python3"
  },
  "language_info": {
   "codemirror_mode": {
    "name": "ipython",
    "version": 3
   },
   "file_extension": ".py",
   "mimetype": "text/x-python",
   "name": "python",
   "nbconvert_exporter": "python",
   "pygments_lexer": "ipython3",
   "version": "3.9.13"
  },
  "toc": {
   "base_numbering": 1,
   "nav_menu": {},
   "number_sections": true,
   "sideBar": true,
   "skip_h1_title": true,
   "title_cell": "Table of Contents",
   "title_sidebar": "Contents",
   "toc_cell": false,
   "toc_position": {},
   "toc_section_display": true,
   "toc_window_display": false
  }
 },
 "nbformat": 4,
 "nbformat_minor": 2
}
