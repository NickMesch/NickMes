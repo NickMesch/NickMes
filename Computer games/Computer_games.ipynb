{
 "cells": [
  {
   "cell_type": "markdown",
   "metadata": {},
   "source": [
    "# Исследование рынка компьютерных игр\n",
    "\n",
    "## Описание проекта\n",
    "\n",
    " Из открытых источников доступны исторические данные о продажах игр, оценки пользователей и экспертов, жанры и платформы (например, Xbox или PlayStation). Вам нужно выявить определяющие успешность игры закономерности. Это позволит сделать ставку на потенциально популярный продукт и спланировать рекламные кампании.\n",
    " \n",
    "Перед вами данные до 2016 года включительно. Представим, что сейчас декабрь 2016 г., и вы планируете кампанию на 2017-й. \n",
    "\n",
    "В наборе данных попадается аббревиатура ESRB (Entertainment Software Rating Board) — это ассоциация, определяющая возрастной рейтинг компьютерных игр. ESRB оценивает игровой контент и присваивает ему подходящую возрастную категорию, например, «Для взрослых», «Для детей младшего возраста» или «Для подростков».\n",
    " \n",
    "  \n",
    " 1. Получим данные и изучим общую информацию\n",
    " \n",
    " 2. Подготовка данных\n",
    " \n",
    " 3. Исследовательский анализ данных\n",
    " \n",
    "     3.1  Актуальность информации за прошлые годы, сроки жизни платформ\n",
    "     \n",
    "     3.2  Популярность актуальных платформ\n",
    "     \n",
    "     3.3  Оценка влияния отзывов критиков и пользователей на продажи\n",
    "     \n",
    "     3.4  Популярность и влияние жанров на продажи\n",
    "     \n",
    "   \n",
    " 4. Портрет пользователя по регионам\n",
    " \n",
    "     4.1  Самые популярные платформы по регионам\n",
    "   \n",
    "     4.2  Жанровые предпочтения в разных регионах\n",
    "\n",
    "     4.3  Влияние рейтинга ESRB на продажи в отдельных регионах\n",
    "     \n",
    "\n",
    " 5. Сравнение пользовательских рейтингов\n",
    "\n",
    "     5.1  Сравнение пользовательских рейтингов платформ XBox One и PC\n",
    "\n",
    "     5.2  Средние пользовательские рейтинги жанров Action и Sports"
   ]
  },
  {
   "cell_type": "markdown",
   "metadata": {},
   "source": [
    "## Получим данные и изучим общую информацию"
   ]
  },
  {
   "cell_type": "code",
   "execution_count": 51,
   "metadata": {},
   "outputs": [],
   "source": [
    "import pandas as pd\n",
    "import numpy as np\n",
    "\n",
    "from scipy import stats as st\n",
    "\n",
    "import matplotlib.pyplot as plt\n",
    "import seaborn as sns"
   ]
  },
  {
   "cell_type": "code",
   "execution_count": 2,
   "metadata": {},
   "outputs": [],
   "source": [
    "try:\n",
    "    games = pd.read_csv('C:/ya_pr/games/games.csv')\n",
    "except:\n",
    "    games = pd.read_csv('/datasets/games.csv')\n",
    "    \n"
   ]
  },
  {
   "cell_type": "code",
   "execution_count": 3,
   "metadata": {},
   "outputs": [
    {
     "name": "stdout",
     "output_type": "stream",
     "text": [
      "<class 'pandas.core.frame.DataFrame'>\n",
      "RangeIndex: 16715 entries, 0 to 16714\n",
      "Data columns (total 11 columns):\n",
      " #   Column           Non-Null Count  Dtype  \n",
      "---  ------           --------------  -----  \n",
      " 0   Name             16713 non-null  object \n",
      " 1   Platform         16715 non-null  object \n",
      " 2   Year_of_Release  16446 non-null  float64\n",
      " 3   Genre            16713 non-null  object \n",
      " 4   NA_sales         16715 non-null  float64\n",
      " 5   EU_sales         16715 non-null  float64\n",
      " 6   JP_sales         16715 non-null  float64\n",
      " 7   Other_sales      16715 non-null  float64\n",
      " 8   Critic_Score     8137 non-null   float64\n",
      " 9   User_Score       10014 non-null  object \n",
      " 10  Rating           9949 non-null   object \n",
      "dtypes: float64(6), object(5)\n",
      "memory usage: 1.4+ MB\n"
     ]
    }
   ],
   "source": [
    "games.info()"
   ]
  },
  {
   "cell_type": "code",
   "execution_count": 4,
   "metadata": {},
   "outputs": [
    {
     "data": {
      "text/html": [
       "<div>\n",
       "<style scoped>\n",
       "    .dataframe tbody tr th:only-of-type {\n",
       "        vertical-align: middle;\n",
       "    }\n",
       "\n",
       "    .dataframe tbody tr th {\n",
       "        vertical-align: top;\n",
       "    }\n",
       "\n",
       "    .dataframe thead th {\n",
       "        text-align: right;\n",
       "    }\n",
       "</style>\n",
       "<table border=\"1\" class=\"dataframe\">\n",
       "  <thead>\n",
       "    <tr style=\"text-align: right;\">\n",
       "      <th></th>\n",
       "      <th>Name</th>\n",
       "      <th>Platform</th>\n",
       "      <th>Year_of_Release</th>\n",
       "      <th>Genre</th>\n",
       "      <th>NA_sales</th>\n",
       "      <th>EU_sales</th>\n",
       "      <th>JP_sales</th>\n",
       "      <th>Other_sales</th>\n",
       "      <th>Critic_Score</th>\n",
       "      <th>User_Score</th>\n",
       "      <th>Rating</th>\n",
       "    </tr>\n",
       "  </thead>\n",
       "  <tbody>\n",
       "    <tr>\n",
       "      <th>0</th>\n",
       "      <td>Wii Sports</td>\n",
       "      <td>Wii</td>\n",
       "      <td>2006.0</td>\n",
       "      <td>Sports</td>\n",
       "      <td>41.36</td>\n",
       "      <td>28.96</td>\n",
       "      <td>3.77</td>\n",
       "      <td>8.45</td>\n",
       "      <td>76.0</td>\n",
       "      <td>8</td>\n",
       "      <td>E</td>\n",
       "    </tr>\n",
       "    <tr>\n",
       "      <th>1</th>\n",
       "      <td>Super Mario Bros.</td>\n",
       "      <td>NES</td>\n",
       "      <td>1985.0</td>\n",
       "      <td>Platform</td>\n",
       "      <td>29.08</td>\n",
       "      <td>3.58</td>\n",
       "      <td>6.81</td>\n",
       "      <td>0.77</td>\n",
       "      <td>NaN</td>\n",
       "      <td>NaN</td>\n",
       "      <td>NaN</td>\n",
       "    </tr>\n",
       "    <tr>\n",
       "      <th>2</th>\n",
       "      <td>Mario Kart Wii</td>\n",
       "      <td>Wii</td>\n",
       "      <td>2008.0</td>\n",
       "      <td>Racing</td>\n",
       "      <td>15.68</td>\n",
       "      <td>12.76</td>\n",
       "      <td>3.79</td>\n",
       "      <td>3.29</td>\n",
       "      <td>82.0</td>\n",
       "      <td>8.3</td>\n",
       "      <td>E</td>\n",
       "    </tr>\n",
       "    <tr>\n",
       "      <th>3</th>\n",
       "      <td>Wii Sports Resort</td>\n",
       "      <td>Wii</td>\n",
       "      <td>2009.0</td>\n",
       "      <td>Sports</td>\n",
       "      <td>15.61</td>\n",
       "      <td>10.93</td>\n",
       "      <td>3.28</td>\n",
       "      <td>2.95</td>\n",
       "      <td>80.0</td>\n",
       "      <td>8</td>\n",
       "      <td>E</td>\n",
       "    </tr>\n",
       "    <tr>\n",
       "      <th>4</th>\n",
       "      <td>Pokemon Red/Pokemon Blue</td>\n",
       "      <td>GB</td>\n",
       "      <td>1996.0</td>\n",
       "      <td>Role-Playing</td>\n",
       "      <td>11.27</td>\n",
       "      <td>8.89</td>\n",
       "      <td>10.22</td>\n",
       "      <td>1.00</td>\n",
       "      <td>NaN</td>\n",
       "      <td>NaN</td>\n",
       "      <td>NaN</td>\n",
       "    </tr>\n",
       "  </tbody>\n",
       "</table>\n",
       "</div>"
      ],
      "text/plain": [
       "                       Name Platform  Year_of_Release         Genre  NA_sales  \\\n",
       "0                Wii Sports      Wii           2006.0        Sports     41.36   \n",
       "1         Super Mario Bros.      NES           1985.0      Platform     29.08   \n",
       "2            Mario Kart Wii      Wii           2008.0        Racing     15.68   \n",
       "3         Wii Sports Resort      Wii           2009.0        Sports     15.61   \n",
       "4  Pokemon Red/Pokemon Blue       GB           1996.0  Role-Playing     11.27   \n",
       "\n",
       "   EU_sales  JP_sales  Other_sales  Critic_Score User_Score Rating  \n",
       "0     28.96      3.77         8.45          76.0          8      E  \n",
       "1      3.58      6.81         0.77           NaN        NaN    NaN  \n",
       "2     12.76      3.79         3.29          82.0        8.3      E  \n",
       "3     10.93      3.28         2.95          80.0          8      E  \n",
       "4      8.89     10.22         1.00           NaN        NaN    NaN  "
      ]
     },
     "execution_count": 4,
     "metadata": {},
     "output_type": "execute_result"
    }
   ],
   "source": [
    "games.head()"
   ]
  },
  {
   "cell_type": "markdown",
   "metadata": {},
   "source": [
    "## Подготовка данных"
   ]
  },
  {
   "cell_type": "code",
   "execution_count": 5,
   "metadata": {},
   "outputs": [],
   "source": [
    "#Приведем названия столбцов к нижнему регистру\n",
    "games.columns = games.columns.str.lower()"
   ]
  },
  {
   "cell_type": "code",
   "execution_count": 6,
   "metadata": {},
   "outputs": [],
   "source": [
    "#Типы данных приведем к более подходящим для работы\n",
    "games['year_of_release'] = games['year_of_release'].astype('Int64')\n",
    "games['critic_score'] = games['critic_score'].astype('float')\n",
    "\n",
    "games['user_score'] = games['user_score'].replace('tbd', np.nan)\n",
    "games['user_score'] = games['user_score'].astype('float')"
   ]
  },
  {
   "cell_type": "markdown",
   "metadata": {},
   "source": [
    "Устраним строки с незаполненным годом выпуска (такие данные бесполезны для анализа):"
   ]
  },
  {
   "cell_type": "code",
   "execution_count": 7,
   "metadata": {},
   "outputs": [],
   "source": [
    "games = games.dropna(subset=['year_of_release'])\n",
    "games.reset_index(drop=True, inplace=True)"
   ]
  },
  {
   "cell_type": "markdown",
   "metadata": {},
   "source": [
    "Суммарные продажи:"
   ]
  },
  {
   "cell_type": "code",
   "execution_count": 8,
   "metadata": {},
   "outputs": [],
   "source": [
    "games['sum_sales'] = games[['na_sales', 'eu_sales', 'jp_sales', 'other_sales']].sum(axis = 1)"
   ]
  },
  {
   "cell_type": "code",
   "execution_count": 9,
   "metadata": {},
   "outputs": [
    {
     "data": {
      "text/plain": [
       "name                object\n",
       "platform            object\n",
       "year_of_release      Int64\n",
       "genre               object\n",
       "na_sales           float64\n",
       "eu_sales           float64\n",
       "jp_sales           float64\n",
       "other_sales        float64\n",
       "critic_score       float64\n",
       "user_score         float64\n",
       "rating              object\n",
       "sum_sales          float64\n",
       "dtype: object"
      ]
     },
     "metadata": {},
     "output_type": "display_data"
    },
    {
     "data": {
      "text/plain": [
       "name               0.000122\n",
       "platform           0.000000\n",
       "year_of_release    0.000000\n",
       "genre              0.000122\n",
       "na_sales           0.000000\n",
       "eu_sales           0.000000\n",
       "jp_sales           0.000000\n",
       "other_sales        0.000000\n",
       "critic_score       0.514593\n",
       "user_score         0.546212\n",
       "rating             0.406056\n",
       "sum_sales          0.000000\n",
       "dtype: float64"
      ]
     },
     "execution_count": 9,
     "metadata": {},
     "output_type": "execute_result"
    }
   ],
   "source": [
    "display(games.dtypes)\n",
    "\n",
    "games.isna().mean()"
   ]
  },
  {
   "cell_type": "code",
   "execution_count": 10,
   "metadata": {},
   "outputs": [
    {
     "data": {
      "text/html": [
       "<div>\n",
       "<style scoped>\n",
       "    .dataframe tbody tr th:only-of-type {\n",
       "        vertical-align: middle;\n",
       "    }\n",
       "\n",
       "    .dataframe tbody tr th {\n",
       "        vertical-align: top;\n",
       "    }\n",
       "\n",
       "    .dataframe thead th {\n",
       "        text-align: right;\n",
       "    }\n",
       "</style>\n",
       "<table border=\"1\" class=\"dataframe\">\n",
       "  <thead>\n",
       "    <tr style=\"text-align: right;\">\n",
       "      <th></th>\n",
       "      <th>name</th>\n",
       "      <th>platform</th>\n",
       "      <th>year_of_release</th>\n",
       "      <th>genre</th>\n",
       "      <th>na_sales</th>\n",
       "      <th>eu_sales</th>\n",
       "      <th>jp_sales</th>\n",
       "      <th>other_sales</th>\n",
       "      <th>critic_score</th>\n",
       "      <th>user_score</th>\n",
       "      <th>rating</th>\n",
       "      <th>sum_sales</th>\n",
       "    </tr>\n",
       "  </thead>\n",
       "  <tbody>\n",
       "    <tr>\n",
       "      <th>652</th>\n",
       "      <td>NaN</td>\n",
       "      <td>GEN</td>\n",
       "      <td>1993</td>\n",
       "      <td>NaN</td>\n",
       "      <td>1.78</td>\n",
       "      <td>0.53</td>\n",
       "      <td>0.00</td>\n",
       "      <td>0.08</td>\n",
       "      <td>NaN</td>\n",
       "      <td>NaN</td>\n",
       "      <td>NaN</td>\n",
       "      <td>2.39</td>\n",
       "    </tr>\n",
       "    <tr>\n",
       "      <th>14022</th>\n",
       "      <td>NaN</td>\n",
       "      <td>GEN</td>\n",
       "      <td>1993</td>\n",
       "      <td>NaN</td>\n",
       "      <td>0.00</td>\n",
       "      <td>0.00</td>\n",
       "      <td>0.03</td>\n",
       "      <td>0.00</td>\n",
       "      <td>NaN</td>\n",
       "      <td>NaN</td>\n",
       "      <td>NaN</td>\n",
       "      <td>0.03</td>\n",
       "    </tr>\n",
       "  </tbody>\n",
       "</table>\n",
       "</div>"
      ],
      "text/plain": [
       "      name platform  year_of_release genre  na_sales  eu_sales  jp_sales  \\\n",
       "652    NaN      GEN             1993   NaN      1.78      0.53      0.00   \n",
       "14022  NaN      GEN             1993   NaN      0.00      0.00      0.03   \n",
       "\n",
       "       other_sales  critic_score  user_score rating  sum_sales  \n",
       "652           0.08           NaN         NaN    NaN       2.39  \n",
       "14022         0.00           NaN         NaN    NaN       0.03  "
      ]
     },
     "execution_count": 10,
     "metadata": {},
     "output_type": "execute_result"
    }
   ],
   "source": [
    "games[games['name'].isnull()]"
   ]
  },
  {
   "cell_type": "markdown",
   "metadata": {},
   "source": [
    "Обе строки относятся к очень старым данным и содержат мало данных - удаляем. (Таким образом избавляемся от всех пропусков в данных столбцов \"name\" и \"genre\"."
   ]
  },
  {
   "cell_type": "code",
   "execution_count": 11,
   "metadata": {},
   "outputs": [],
   "source": [
    "games = games.dropna(subset=['name'])\n",
    "games.reset_index(drop=True,inplace=True)"
   ]
  },
  {
   "cell_type": "markdown",
   "metadata": {},
   "source": [
    "Мы не имеем возможности заполнить пропуски данных в столбцах rating, user_score, critic_score, т.к. пропуски составляют более половины всех данных, т.е. любая попытка запонить эти значения некми средними (даже с учетом платформ, жанров, годов выпуска) приведет к значительному искажению данных.(Кроме того rating - качественная, неусредняемая характеристика.)\n",
    " \n",
    "По этой же причине (эти данные пропущены в более чем половине строк) мы не можем их удалить - мы потеряем слишком много ценной информации. На исследование популярности платформ, выручки и тенденций эти пропуски не повлияют, а при исследовании влияния самих этих рейтингов мы не будем учитывать строки с такими пропусками."
   ]
  },
  {
   "cell_type": "markdown",
   "metadata": {},
   "source": [
    "## Исследовательский анализ данных\n",
    "\n",
    "### Актуальность информации за прошлые годы, сроки жизни платформ"
   ]
  },
  {
   "cell_type": "code",
   "execution_count": 12,
   "metadata": {},
   "outputs": [
    {
     "data": {
      "text/plain": [
       "year_of_release\n",
       "1980       9\n",
       "1981      46\n",
       "1982      36\n",
       "1983      17\n",
       "1984      14\n",
       "1985      14\n",
       "1986      21\n",
       "1987      16\n",
       "1988      15\n",
       "1989      17\n",
       "1990      16\n",
       "1991      41\n",
       "1992      43\n",
       "1993      60\n",
       "1994     121\n",
       "1995     219\n",
       "1996     263\n",
       "1997     289\n",
       "1998     379\n",
       "1999     338\n",
       "2000     350\n",
       "2001     482\n",
       "2002     829\n",
       "2003     775\n",
       "2004     762\n",
       "2005     939\n",
       "2006    1006\n",
       "2007    1197\n",
       "2008    1427\n",
       "2009    1426\n",
       "2010    1255\n",
       "2011    1136\n",
       "2012     653\n",
       "2013     544\n",
       "2014     581\n",
       "2015     606\n",
       "2016     502\n",
       "Name: name, dtype: int64"
      ]
     },
     "execution_count": 12,
     "metadata": {},
     "output_type": "execute_result"
    }
   ],
   "source": [
    "games.groupby(['year_of_release'])['name'].count()"
   ]
  },
  {
   "cell_type": "code",
   "execution_count": 14,
   "metadata": {},
   "outputs": [
    {
     "data": {
      "image/png": "[encoded data removed]",
      "text/plain": [
       "<Figure size 1800x500 with 1 Axes>"
      ]
     },
     "metadata": {},
     "output_type": "display_data"
    }
   ],
   "source": [
    "games.groupby(['year_of_release'])['name'].count().to_frame().plot(\n",
    "    kind='bar',figsize=(18,5),legend=False,\n",
    "    title='Выпуск игр в разные годы').set(xlabel='Год релиза', ylabel='Количество');"
   ]
  },
  {
   "cell_type": "markdown",
   "metadata": {},
   "source": [
    "   Мы видим, что данных до 1995 года очень мало - рынок компьютерных игр только начинал развиваться. Данными до 1995 года можно пренебречь сразу, без дополнительных исследований. \n",
    "   \n",
    "   Так же мы видим, что в 2001-2002 годах было значительное увеличение активности производителей игр (в 2002 количество новых игр выросло почти в 2 раза по сравнению с 2001 годом).\n",
    "  \n",
    "  Для окончательного решения о том данные за какие годы мы будем использовать - посмотрим на то, какие платформы были актуальны в разные годы:"
   ]
  },
  {
   "cell_type": "code",
   "execution_count": 15,
   "metadata": {},
   "outputs": [
    {
     "data": {
      "text/html": [
       "<div>\n",
       "<style scoped>\n",
       "    .dataframe tbody tr th:only-of-type {\n",
       "        vertical-align: middle;\n",
       "    }\n",
       "\n",
       "    .dataframe tbody tr th {\n",
       "        vertical-align: top;\n",
       "    }\n",
       "\n",
       "    .dataframe thead th {\n",
       "        text-align: right;\n",
       "    }\n",
       "</style>\n",
       "<table border=\"1\" class=\"dataframe\">\n",
       "  <thead>\n",
       "    <tr style=\"text-align: right;\">\n",
       "      <th></th>\n",
       "      <th>count</th>\n",
       "      <th>min_year</th>\n",
       "      <th>max_year</th>\n",
       "    </tr>\n",
       "    <tr>\n",
       "      <th>platform</th>\n",
       "      <th></th>\n",
       "      <th></th>\n",
       "      <th></th>\n",
       "    </tr>\n",
       "  </thead>\n",
       "  <tbody>\n",
       "    <tr>\n",
       "      <th>2600</th>\n",
       "      <td>116</td>\n",
       "      <td>1980</td>\n",
       "      <td>1989</td>\n",
       "    </tr>\n",
       "    <tr>\n",
       "      <th>GG</th>\n",
       "      <td>1</td>\n",
       "      <td>1992</td>\n",
       "      <td>1992</td>\n",
       "    </tr>\n",
       "    <tr>\n",
       "      <th>SCD</th>\n",
       "      <td>6</td>\n",
       "      <td>1993</td>\n",
       "      <td>1994</td>\n",
       "    </tr>\n",
       "    <tr>\n",
       "      <th>GEN</th>\n",
       "      <td>27</td>\n",
       "      <td>1990</td>\n",
       "      <td>1994</td>\n",
       "    </tr>\n",
       "    <tr>\n",
       "      <th>NES</th>\n",
       "      <td>98</td>\n",
       "      <td>1983</td>\n",
       "      <td>1994</td>\n",
       "    </tr>\n",
       "    <tr>\n",
       "      <th>3DO</th>\n",
       "      <td>3</td>\n",
       "      <td>1994</td>\n",
       "      <td>1995</td>\n",
       "    </tr>\n",
       "    <tr>\n",
       "      <th>TG16</th>\n",
       "      <td>2</td>\n",
       "      <td>1995</td>\n",
       "      <td>1995</td>\n",
       "    </tr>\n",
       "    <tr>\n",
       "      <th>NG</th>\n",
       "      <td>12</td>\n",
       "      <td>1993</td>\n",
       "      <td>1996</td>\n",
       "    </tr>\n",
       "    <tr>\n",
       "      <th>PCFX</th>\n",
       "      <td>1</td>\n",
       "      <td>1996</td>\n",
       "      <td>1996</td>\n",
       "    </tr>\n",
       "    <tr>\n",
       "      <th>SNES</th>\n",
       "      <td>239</td>\n",
       "      <td>1990</td>\n",
       "      <td>1999</td>\n",
       "    </tr>\n",
       "    <tr>\n",
       "      <th>SAT</th>\n",
       "      <td>173</td>\n",
       "      <td>1994</td>\n",
       "      <td>1999</td>\n",
       "    </tr>\n",
       "    <tr>\n",
       "      <th>WS</th>\n",
       "      <td>6</td>\n",
       "      <td>1999</td>\n",
       "      <td>2001</td>\n",
       "    </tr>\n",
       "    <tr>\n",
       "      <th>GB</th>\n",
       "      <td>97</td>\n",
       "      <td>1988</td>\n",
       "      <td>2001</td>\n",
       "    </tr>\n",
       "    <tr>\n",
       "      <th>N64</th>\n",
       "      <td>316</td>\n",
       "      <td>1996</td>\n",
       "      <td>2002</td>\n",
       "    </tr>\n",
       "    <tr>\n",
       "      <th>PS</th>\n",
       "      <td>1190</td>\n",
       "      <td>1994</td>\n",
       "      <td>2003</td>\n",
       "    </tr>\n",
       "    <tr>\n",
       "      <th>GC</th>\n",
       "      <td>542</td>\n",
       "      <td>2001</td>\n",
       "      <td>2007</td>\n",
       "    </tr>\n",
       "    <tr>\n",
       "      <th>GBA</th>\n",
       "      <td>811</td>\n",
       "      <td>2000</td>\n",
       "      <td>2007</td>\n",
       "    </tr>\n",
       "    <tr>\n",
       "      <th>XB</th>\n",
       "      <td>803</td>\n",
       "      <td>2000</td>\n",
       "      <td>2008</td>\n",
       "    </tr>\n",
       "    <tr>\n",
       "      <th>DC</th>\n",
       "      <td>52</td>\n",
       "      <td>1998</td>\n",
       "      <td>2008</td>\n",
       "    </tr>\n",
       "    <tr>\n",
       "      <th>PS2</th>\n",
       "      <td>2127</td>\n",
       "      <td>2000</td>\n",
       "      <td>2011</td>\n",
       "    </tr>\n",
       "    <tr>\n",
       "      <th>DS</th>\n",
       "      <td>2121</td>\n",
       "      <td>1985</td>\n",
       "      <td>2013</td>\n",
       "    </tr>\n",
       "    <tr>\n",
       "      <th>PSP</th>\n",
       "      <td>1193</td>\n",
       "      <td>2004</td>\n",
       "      <td>2015</td>\n",
       "    </tr>\n",
       "    <tr>\n",
       "      <th>PS3</th>\n",
       "      <td>1306</td>\n",
       "      <td>2006</td>\n",
       "      <td>2016</td>\n",
       "    </tr>\n",
       "    <tr>\n",
       "      <th>PS4</th>\n",
       "      <td>392</td>\n",
       "      <td>2013</td>\n",
       "      <td>2016</td>\n",
       "    </tr>\n",
       "    <tr>\n",
       "      <th>PSV</th>\n",
       "      <td>429</td>\n",
       "      <td>2011</td>\n",
       "      <td>2016</td>\n",
       "    </tr>\n",
       "    <tr>\n",
       "      <th>3DS</th>\n",
       "      <td>512</td>\n",
       "      <td>2011</td>\n",
       "      <td>2016</td>\n",
       "    </tr>\n",
       "    <tr>\n",
       "      <th>Wii</th>\n",
       "      <td>1286</td>\n",
       "      <td>2006</td>\n",
       "      <td>2016</td>\n",
       "    </tr>\n",
       "    <tr>\n",
       "      <th>WiiU</th>\n",
       "      <td>147</td>\n",
       "      <td>2012</td>\n",
       "      <td>2016</td>\n",
       "    </tr>\n",
       "    <tr>\n",
       "      <th>X360</th>\n",
       "      <td>1232</td>\n",
       "      <td>2005</td>\n",
       "      <td>2016</td>\n",
       "    </tr>\n",
       "    <tr>\n",
       "      <th>PC</th>\n",
       "      <td>957</td>\n",
       "      <td>1985</td>\n",
       "      <td>2016</td>\n",
       "    </tr>\n",
       "    <tr>\n",
       "      <th>XOne</th>\n",
       "      <td>247</td>\n",
       "      <td>2013</td>\n",
       "      <td>2016</td>\n",
       "    </tr>\n",
       "  </tbody>\n",
       "</table>\n",
       "</div>"
      ],
      "text/plain": [
       "          count  min_year  max_year\n",
       "platform                           \n",
       "2600        116      1980      1989\n",
       "GG            1      1992      1992\n",
       "SCD           6      1993      1994\n",
       "GEN          27      1990      1994\n",
       "NES          98      1983      1994\n",
       "3DO           3      1994      1995\n",
       "TG16          2      1995      1995\n",
       "NG           12      1993      1996\n",
       "PCFX          1      1996      1996\n",
       "SNES        239      1990      1999\n",
       "SAT         173      1994      1999\n",
       "WS            6      1999      2001\n",
       "GB           97      1988      2001\n",
       "N64         316      1996      2002\n",
       "PS         1190      1994      2003\n",
       "GC          542      2001      2007\n",
       "GBA         811      2000      2007\n",
       "XB          803      2000      2008\n",
       "DC           52      1998      2008\n",
       "PS2        2127      2000      2011\n",
       "DS         2121      1985      2013\n",
       "PSP        1193      2004      2015\n",
       "PS3        1306      2006      2016\n",
       "PS4         392      2013      2016\n",
       "PSV         429      2011      2016\n",
       "3DS         512      2011      2016\n",
       "Wii        1286      2006      2016\n",
       "WiiU        147      2012      2016\n",
       "X360       1232      2005      2016\n",
       "PC          957      1985      2016\n",
       "XOne        247      2013      2016"
      ]
     },
     "execution_count": 15,
     "metadata": {},
     "output_type": "execute_result"
    }
   ],
   "source": [
    "games.groupby(['platform']).agg(\n",
    "    count=('year_of_release','count'),\n",
    "    min_year=('year_of_release','min'),\n",
    "    max_year=('year_of_release','max')).sort_values('max_year')"
   ]
  },
  {
   "cell_type": "markdown",
   "metadata": {},
   "source": [
    "  Мы видим, что из всех игровых платформ в 2016 году актуальными остались только 9. Соответственно для прогноза на 2017 год имеет смысл рассматривать только эти платформы.\n",
    "   \n",
    "  Рассмотрим продажи по годам тех платформ, деятельность которых остановилась к 2016 - что бы увидеть весь жизненный цикл одной платформы (возьмем самые популярные):  "
   ]
  },
  {
   "cell_type": "code",
   "execution_count": 16,
   "metadata": {},
   "outputs": [],
   "source": [
    "platforms = games.pivot_table(\n",
    "            index=['platform','year_of_release'],\\\n",
    "            values=['sum_sales'],\\\n",
    "            aggfunc=['sum']\\\n",
    ").reset_index()\n",
    "platforms.columns=['platform','year_of_release','sum_sales']"
   ]
  },
  {
   "cell_type": "code",
   "execution_count": 17,
   "metadata": {},
   "outputs": [
    {
     "data": {
      "image/png": "[encoded data removed]",
      "text/plain": [
       "<Figure size 640x480 with 1 Axes>"
      ]
     },
     "metadata": {},
     "output_type": "display_data"
    }
   ],
   "source": [
    "bp = sns.barplot(x='year_of_release',\n",
    "                y='sum_sales',\n",
    "                hue='platform',\n",
    "                data=platforms.loc[platforms['platform']=='PS'])\n",
    "bp.set_title('Продажи игр на платформе PS по годам')\n",
    "bp.set(xlabel='Год',ylabel='Продажи');"
   ]
  },
  {
   "cell_type": "code",
   "execution_count": 18,
   "metadata": {},
   "outputs": [
    {
     "data": {
      "image/png": "[encoded data removed]",
      "text/plain": [
       "<Figure size 640x480 with 1 Axes>"
      ]
     },
     "metadata": {},
     "output_type": "display_data"
    }
   ],
   "source": [
    "bp = sns.barplot(x='year_of_release',\n",
    "                y='sum_sales',\n",
    "                hue='platform',\n",
    "                data=platforms.loc[platforms['platform']=='PS2'])\n",
    "bp.set_title('Продажи игр на платформе PS2 по годам')\n",
    "bp.set(xlabel='Год',ylabel='Продажи');"
   ]
  },
  {
   "cell_type": "code",
   "execution_count": 19,
   "metadata": {},
   "outputs": [
    {
     "data": {
      "image/png": "[encoded data removed]",
      "text/plain": [
       "<Figure size 640x480 with 1 Axes>"
      ]
     },
     "metadata": {},
     "output_type": "display_data"
    }
   ],
   "source": [
    "bp = sns.barplot(x='year_of_release',\n",
    "                y='sum_sales',\n",
    "                hue='platform',\n",
    "                data=platforms.loc[platforms['platform']=='DS'])\n",
    "bp.set_title('Продажи игр на платформе DS по годам')\n",
    "bp.set(xlabel='Год',ylabel='Продажи');"
   ]
  },
  {
   "cell_type": "code",
   "execution_count": 20,
   "metadata": {},
   "outputs": [
    {
     "data": {
      "image/png": "[encoded data removed]",
      "text/plain": [
       "<Figure size 640x480 with 1 Axes>"
      ]
     },
     "metadata": {},
     "output_type": "display_data"
    }
   ],
   "source": [
    "bp = sns.barplot(x='year_of_release',\n",
    "                y='sum_sales',\n",
    "                hue='platform',\n",
    "                data=platforms.loc[platforms['platform']=='PSP'])\n",
    "bp.set_title('Продажи игр на платформе PSP по годам')\n",
    "bp.set(xlabel='Год',ylabel='Продажи');"
   ]
  },
  {
   "cell_type": "code",
   "execution_count": 21,
   "metadata": {},
   "outputs": [
    {
     "data": {
      "image/png": "[encoded data removed]",
      "text/plain": [
       "<Figure size 640x480 with 1 Axes>"
      ]
     },
     "metadata": {},
     "output_type": "display_data"
    }
   ],
   "source": [
    "bp = sns.barplot(x='year_of_release',\n",
    "                y='sum_sales',\n",
    "                hue='platform',\n",
    "                data=platforms.loc[platforms['platform']=='XB'])\n",
    "bp.set_title('Продажи игр на платформе XB по годам')\n",
    "bp.set(xlabel='Год',ylabel='Продажи');"
   ]
  },
  {
   "cell_type": "markdown",
   "metadata": {},
   "source": [
    " Итак мы видим что в среднем платформа живет 9-10 лет. При этом высокие продажи на популярной платформе держатся в течение примерно 5-6 лет. Активность на новой платформе, высокая сразу после появления (самый первый год на графиках не учитываем - потому что это не полный год), а на 7-й год значительно ниже пиковой (меньше половины).\n",
    " \n",
    " \n",
    " Выводы: \n",
    "  - Рынок компьютерных игр значительно вырос в 1994 и, затем, 2001-2002 годах. Все что происходило до 2001 года можно считать периодом становления.\n",
    "  - Все актуальные на конец 2016 года платформы (за исключением PC) появились не ранее 2006 года. \n",
    "  - Для дальнейшего исследования возьмем данные начиная 2014 года (т.е. за последние 3 года), т.к. рынок компьютерных игр бурно развивается, а многие из платформ представленных в датасете прекратили свою деятельность к 2016 году."
   ]
  },
  {
   "cell_type": "code",
   "execution_count": 22,
   "metadata": {},
   "outputs": [
    {
     "data": {
      "text/html": [
       "<div>\n",
       "<style scoped>\n",
       "    .dataframe tbody tr th:only-of-type {\n",
       "        vertical-align: middle;\n",
       "    }\n",
       "\n",
       "    .dataframe tbody tr th {\n",
       "        vertical-align: top;\n",
       "    }\n",
       "\n",
       "    .dataframe thead th {\n",
       "        text-align: right;\n",
       "    }\n",
       "</style>\n",
       "<table border=\"1\" class=\"dataframe\">\n",
       "  <thead>\n",
       "    <tr style=\"text-align: right;\">\n",
       "      <th></th>\n",
       "      <th>count</th>\n",
       "      <th>sum_sales</th>\n",
       "      <th>min_year</th>\n",
       "      <th>max_year</th>\n",
       "    </tr>\n",
       "    <tr>\n",
       "      <th>platform</th>\n",
       "      <th></th>\n",
       "      <th></th>\n",
       "      <th></th>\n",
       "      <th></th>\n",
       "    </tr>\n",
       "  </thead>\n",
       "  <tbody>\n",
       "    <tr>\n",
       "      <th>PSP</th>\n",
       "      <td>13</td>\n",
       "      <td>0.36</td>\n",
       "      <td>2014</td>\n",
       "      <td>2015</td>\n",
       "    </tr>\n",
       "    <tr>\n",
       "      <th>3DS</th>\n",
       "      <td>212</td>\n",
       "      <td>86.68</td>\n",
       "      <td>2014</td>\n",
       "      <td>2016</td>\n",
       "    </tr>\n",
       "    <tr>\n",
       "      <th>PC</th>\n",
       "      <td>151</td>\n",
       "      <td>27.05</td>\n",
       "      <td>2014</td>\n",
       "      <td>2016</td>\n",
       "    </tr>\n",
       "    <tr>\n",
       "      <th>PS3</th>\n",
       "      <td>219</td>\n",
       "      <td>68.18</td>\n",
       "      <td>2014</td>\n",
       "      <td>2016</td>\n",
       "    </tr>\n",
       "    <tr>\n",
       "      <th>PS4</th>\n",
       "      <td>376</td>\n",
       "      <td>288.15</td>\n",
       "      <td>2014</td>\n",
       "      <td>2016</td>\n",
       "    </tr>\n",
       "    <tr>\n",
       "      <th>PSV</th>\n",
       "      <td>295</td>\n",
       "      <td>22.40</td>\n",
       "      <td>2014</td>\n",
       "      <td>2016</td>\n",
       "    </tr>\n",
       "    <tr>\n",
       "      <th>Wii</th>\n",
       "      <td>11</td>\n",
       "      <td>5.07</td>\n",
       "      <td>2014</td>\n",
       "      <td>2016</td>\n",
       "    </tr>\n",
       "    <tr>\n",
       "      <th>WiiU</th>\n",
       "      <td>73</td>\n",
       "      <td>42.98</td>\n",
       "      <td>2014</td>\n",
       "      <td>2016</td>\n",
       "    </tr>\n",
       "    <tr>\n",
       "      <th>X360</th>\n",
       "      <td>111</td>\n",
       "      <td>48.22</td>\n",
       "      <td>2014</td>\n",
       "      <td>2016</td>\n",
       "    </tr>\n",
       "    <tr>\n",
       "      <th>XOne</th>\n",
       "      <td>228</td>\n",
       "      <td>140.36</td>\n",
       "      <td>2014</td>\n",
       "      <td>2016</td>\n",
       "    </tr>\n",
       "  </tbody>\n",
       "</table>\n",
       "</div>"
      ],
      "text/plain": [
       "          count  sum_sales  min_year  max_year\n",
       "platform                                      \n",
       "PSP          13       0.36      2014      2015\n",
       "3DS         212      86.68      2014      2016\n",
       "PC          151      27.05      2014      2016\n",
       "PS3         219      68.18      2014      2016\n",
       "PS4         376     288.15      2014      2016\n",
       "PSV         295      22.40      2014      2016\n",
       "Wii          11       5.07      2014      2016\n",
       "WiiU         73      42.98      2014      2016\n",
       "X360        111      48.22      2014      2016\n",
       "XOne        228     140.36      2014      2016"
      ]
     },
     "execution_count": 22,
     "metadata": {},
     "output_type": "execute_result"
    }
   ],
   "source": [
    "games = games.loc[games['year_of_release']>=2014]\n",
    "\n",
    "\n",
    "platforms = games.pivot_table(\n",
    "            index=['platform','year_of_release'],\\\n",
    "            values=['sum_sales'],\\\n",
    "            aggfunc=['sum']\\\n",
    ").reset_index()\n",
    "platforms.columns=['platform','year_of_release','sum_sales']\n",
    "\n",
    "games.groupby(['platform']).agg(\n",
    "    count=('year_of_release','count'),\n",
    "    sum_sales=('sum_sales','sum'),\n",
    "    min_year=('year_of_release','min'),\n",
    "    max_year=('year_of_release','max')).sort_values('max_year')"
   ]
  },
  {
   "cell_type": "markdown",
   "metadata": {},
   "source": [
    "### Популярность актуальных платформ\n",
    "  \n",
    "  Рассмотрим платформу PC - она не типичная, т.к. не является чисто игровой. Поэтому её активность кратно дольше остальных и может иметь несколько пиков, которые могут повторяться в будущем:"
   ]
  },
  {
   "cell_type": "code",
   "execution_count": 23,
   "metadata": {},
   "outputs": [
    {
     "data": {
      "image/png": "[encoded data removed]",
      "text/plain": [
       "<Figure size 640x480 with 1 Axes>"
      ]
     },
     "metadata": {},
     "output_type": "display_data"
    }
   ],
   "source": [
    "bp = sns.barplot(x='year_of_release',\n",
    "                y='sum_sales',\n",
    "                hue='platform',\n",
    "                data=platforms.loc[platforms['platform']=='PC'])\n",
    "bp.set_title('Продажи игр на платформе PC по годам')\n",
    "bp.set(xlabel='Год',ylabel='Продажи');"
   ]
  },
  {
   "cell_type": "markdown",
   "metadata": {},
   "source": [
    "Платформы актуальные на 2016 год:"
   ]
  },
  {
   "cell_type": "code",
   "execution_count": 24,
   "metadata": {},
   "outputs": [
    {
     "data": {
      "image/png": "[encoded data removed]",
      "text/plain": [
       "<Figure size 640x480 with 1 Axes>"
      ]
     },
     "metadata": {},
     "output_type": "display_data"
    }
   ],
   "source": [
    "bp = sns.barplot(x='year_of_release',\n",
    "                y='sum_sales',\n",
    "                hue='platform',\n",
    "                data=platforms.loc[platforms['platform']=='PS3'])\n",
    "bp.set_title('Продажи игр на платформе PS3 по годам')\n",
    "bp.set(xlabel='Год',ylabel='Продажи');"
   ]
  },
  {
   "cell_type": "code",
   "execution_count": 25,
   "metadata": {},
   "outputs": [
    {
     "data": {
      "image/png": "[encoded data removed]",
      "text/plain": [
       "<Figure size 640x480 with 1 Axes>"
      ]
     },
     "metadata": {},
     "output_type": "display_data"
    }
   ],
   "source": [
    "bp = sns.barplot(x='year_of_release',\n",
    "                y='sum_sales',\n",
    "                hue='platform',\n",
    "                data=platforms.loc[platforms['platform']=='PS4'])\n",
    "bp.set_title('Продажи игр на платформе PS4 по годам')\n",
    "bp.set(xlabel='Год',ylabel='Продажи');"
   ]
  },
  {
   "cell_type": "code",
   "execution_count": 26,
   "metadata": {},
   "outputs": [
    {
     "data": {
      "image/png": "[encoded data removed]",
      "text/plain": [
       "<Figure size 640x480 with 1 Axes>"
      ]
     },
     "metadata": {},
     "output_type": "display_data"
    }
   ],
   "source": [
    "bp = sns.barplot(x='year_of_release',\n",
    "                y='sum_sales',\n",
    "                hue='platform',\n",
    "                data=platforms.loc[platforms['platform']=='PSV'])\n",
    "bp.set_title('Продажи игр на платформе PSV по годам')\n",
    "bp.set(xlabel='Год',ylabel='Продажи');"
   ]
  },
  {
   "cell_type": "code",
   "execution_count": 27,
   "metadata": {},
   "outputs": [
    {
     "data": {
      "image/png": "[encoded data removed]",
      "text/plain": [
       "<Figure size 640x480 with 1 Axes>"
      ]
     },
     "metadata": {},
     "output_type": "display_data"
    }
   ],
   "source": [
    "bp = sns.barplot(x='year_of_release',\n",
    "                y='sum_sales',\n",
    "                hue='platform',\n",
    "                data=platforms.loc[platforms['platform']=='3DS'])\n",
    "bp.set_title('Продажи игр на платформе 3DS по годам')\n",
    "bp.set(xlabel='Год',ylabel='Продажи');"
   ]
  },
  {
   "cell_type": "code",
   "execution_count": 28,
   "metadata": {},
   "outputs": [
    {
     "data": {
      "image/png": "[encoded data removed]",
      "text/plain": [
       "<Figure size 640x480 with 1 Axes>"
      ]
     },
     "metadata": {},
     "output_type": "display_data"
    }
   ],
   "source": [
    "bp = sns.barplot(x='year_of_release',\n",
    "                y='sum_sales',\n",
    "                hue='platform',\n",
    "                data=platforms.loc[platforms['platform']=='Wii'])\n",
    "bp.set_title('Продажи игр на платформе Wii по годам')\n",
    "bp.set(xlabel='Год',ylabel='Продажи');"
   ]
  },
  {
   "cell_type": "code",
   "execution_count": 29,
   "metadata": {},
   "outputs": [
    {
     "data": {
      "image/png": "[encoded data removed]",
      "text/plain": [
       "<Figure size 640x480 with 1 Axes>"
      ]
     },
     "metadata": {},
     "output_type": "display_data"
    }
   ],
   "source": [
    "bp = sns.barplot(x='year_of_release',\n",
    "                y='sum_sales',\n",
    "                hue='platform',\n",
    "                data=platforms.loc[platforms['platform']=='WiiU'])\n",
    "bp.set_title('Продажи игр на платформе WiiU по годам')\n",
    "bp.set(xlabel='Год',ylabel='Продажи');"
   ]
  },
  {
   "cell_type": "code",
   "execution_count": 30,
   "metadata": {},
   "outputs": [
    {
     "data": {
      "image/png": "[encoded data removed]",
      "text/plain": [
       "<Figure size 640x480 with 1 Axes>"
      ]
     },
     "metadata": {},
     "output_type": "display_data"
    }
   ],
   "source": [
    "bp = sns.barplot(x='year_of_release',\n",
    "                y='sum_sales',\n",
    "                hue='platform',\n",
    "                data=platforms.loc[platforms['platform']=='X360'])\n",
    "bp.set_title('Продажи игр на платформе X360 по годам')\n",
    "bp.set(xlabel='Год',ylabel='Продажи');"
   ]
  },
  {
   "cell_type": "code",
   "execution_count": 31,
   "metadata": {},
   "outputs": [
    {
     "data": {
      "image/png": "[encoded data removed]",
      "text/plain": [
       "<Figure size 640x480 with 1 Axes>"
      ]
     },
     "metadata": {},
     "output_type": "display_data"
    }
   ],
   "source": [
    "bp = sns.barplot(x='year_of_release',\n",
    "                y='sum_sales',\n",
    "                hue='platform',\n",
    "                data=platforms.loc[platforms['platform']=='XOne'])\n",
    "bp.set_title('Продажи игр на платформе XOne по годам')\n",
    "bp.set(xlabel='Год',ylabel='Продажи');"
   ]
  },
  {
   "cell_type": "code",
   "execution_count": 32,
   "metadata": {},
   "outputs": [
    {
     "data": {
      "image/png": "[encoded data removed]",
      "text/plain": [
       "<Figure size 1500x900 with 1 Axes>"
      ]
     },
     "metadata": {},
     "output_type": "display_data"
    }
   ],
   "source": [
    "fig, ax = plt.subplots(figsize=(15, 9))\n",
    "\n",
    "ax = sns.barplot(x='year_of_release',\n",
    "            y='sum_sales',\n",
    "            hue=\"platform\",\n",
    "            data=platforms)\n",
    "\n",
    "ax.set_title('Распределение продаж по платформам и годам')\n",
    "ax.set(xlabel='Год', ylabel='Суммарный объем продаж');"
   ]
  },
  {
   "cell_type": "markdown",
   "metadata": {},
   "source": [
    "  Наиболее популярные (и находящиеся в середине \"жизненного цикла\") платформы: PS4 (самая популярная) и XOne. \n",
    "  \n",
    "  3DS и PSV - менее популярны, а главное уже в 2016 находятся на спаде популярности.\n",
    "   \n",
    "  PC - не типичная платформа с не очень большой популярностью, но ей не грозит резкий спад в связи с её универсальностью.\n",
    "   "
   ]
  },
  {
   "cell_type": "markdown",
   "metadata": {},
   "source": [
    "### Продажи в разрезе платформ"
   ]
  },
  {
   "cell_type": "markdown",
   "metadata": {},
   "source": [
    "Разброс суммарной выручки по платформам:"
   ]
  },
  {
   "cell_type": "code",
   "execution_count": 33,
   "metadata": {},
   "outputs": [
    {
     "name": "stdout",
     "output_type": "stream",
     "text": [
      "  platform  sum_sales  mean_sales  median_sales  count\n",
      "3      PS4     288.15    0.766356         0.185    376\n",
      "9     XOne     140.36    0.615614         0.205    228\n",
      "0      3DS      86.68    0.408868         0.090    212\n",
      "2      PS3      68.18    0.311324         0.110    219\n",
      "8     X360      48.22    0.434414         0.180    111\n",
      "7     WiiU      42.98    0.588767         0.190     73\n",
      "1       PC      27.05    0.179139         0.060    151\n",
      "5      PSV      22.40    0.075932         0.040    295\n",
      "6      Wii       5.07    0.460909         0.180     11\n",
      "4      PSP       0.36    0.027692         0.020     13\n"
     ]
    },
    {
     "data": {
      "image/png": "[encoded data removed]",
      "text/plain": [
       "<Figure size 640x480 with 1 Axes>"
      ]
     },
     "metadata": {},
     "output_type": "display_data"
    }
   ],
   "source": [
    "import matplotlib.pyplot as plt\n",
    "\n",
    "platform_sales = games.pivot_table(\n",
    "            index=['platform'],\\\n",
    "            values=['sum_sales'],\\\n",
    "            aggfunc=['sum','mean','median','count']\\\n",
    ").reset_index()\n",
    "platform_sales.columns=['platform','sum_sales','mean_sales','median_sales','count']\n",
    "platform_sales.sort_values('sum_sales',ascending=False,inplace=True)\n",
    "print(platform_sales.head(20))\n",
    "\n",
    "sns.boxplot(y=platform_sales.sum_sales)\n",
    "plt.title('Выручка по платформам')\n",
    "plt.show()"
   ]
  },
  {
   "cell_type": "markdown",
   "metadata": {},
   "source": [
    "  Для половины платформ суммарная выручка за все годы во всех регионах не превышает ~ 300 млн. долл. Однако для отдельных платформ выручка доходит до 1200 млн.$\n",
    " \n",
    "  Для большинства платформ средняя выручка с одной игры кратно превышает медианную - рассмотрим разброс выручки от продаж одной игры на каждой платформе:"
   ]
  },
  {
   "cell_type": "code",
   "execution_count": 37,
   "metadata": {},
   "outputs": [
    {
     "data": {
      "image/png": "[encoded data removed]",
      "text/plain": [
       "<Figure size 1500x500 with 1 Axes>"
      ]
     },
     "metadata": {},
     "output_type": "display_data"
    }
   ],
   "source": [
    "fig, ax = plt.subplots(figsize=(15, 5))\n",
    "sns.boxplot(x=games.platform, y=games.sum_sales)\n",
    "ax.set(xlabel='Платформа', ylabel='Сумма продаж одной игры')\n",
    "ax.set_title('Продажи игр в разбивке по платформам');"
   ]
  },
  {
   "cell_type": "markdown",
   "metadata": {},
   "source": [
    "Медианные значения продаж очень маленькие (по сравнению c продажами \"хитов\") для всех платформ. Межквартильный размах для разных платформ существенно различается, однако самый большой вклад в среднюю и суммарную выручку наиболее крупных платформ - таких как PS4, 3DS и XOne - дают отдельные выбросы - \"хиты\", наиболее популярные игры, выручка от которых превышает среднюю и медианную по платформе в десятки раз. "
   ]
  },
  {
   "cell_type": "markdown",
   "metadata": {},
   "source": [
    "Посмотрим на медианные значения и межквартильные размахи:"
   ]
  },
  {
   "cell_type": "code",
   "execution_count": 38,
   "metadata": {},
   "outputs": [
    {
     "data": {
      "image/png": "[encoded data removed]",
      "text/plain": [
       "<Figure size 1500x500 with 1 Axes>"
      ]
     },
     "metadata": {},
     "output_type": "display_data"
    }
   ],
   "source": [
    "plt.figure(figsize=(15, 5))\n",
    "sns.boxplot(x = 'platform', y = 'sum_sales', data = games)\n",
    "plt.xlabel('Платформа')\n",
    "plt.ylabel('Сумма продаж одной игры')\n",
    "plt.title('Продажи игр в разбивке по платформам')\n",
    "plt.ylim(0,3)\n",
    "plt.show()"
   ]
  },
  {
   "cell_type": "markdown",
   "metadata": {},
   "source": [
    "### Оценка влияния отзывов критиков и пользователей на продажи"
   ]
  },
  {
   "cell_type": "code",
   "execution_count": 45,
   "metadata": {},
   "outputs": [
    {
     "data": {
      "image/png": "[encoded data removed]",
      "text/plain": [
       "<Figure size 640x480 with 1 Axes>"
      ]
     },
     "metadata": {},
     "output_type": "display_data"
    }
   ],
   "source": [
    "ps4 = games.loc[games['platform']=='PS4']\n",
    "ps4 = ps4.dropna()\n",
    "ps4.reset_index(drop=True,inplace=True)\n",
    "\n",
    "sc_p = sns.scatterplot(x=ps4.critic_score, y=ps4.sum_sales, alpha=0.5)\n",
    "sc_p.set_title('Зависимость продаж от оценок критиков');"
   ]
  },
  {
   "cell_type": "code",
   "execution_count": 47,
   "metadata": {},
   "outputs": [
    {
     "data": {
      "image/png": "[encoded data removed]",
      "text/plain": [
       "<Figure size 640x480 with 1 Axes>"
      ]
     },
     "metadata": {},
     "output_type": "display_data"
    }
   ],
   "source": [
    "sc_p = sns.scatterplot(x=ps4.user_score, y=ps4.sum_sales, alpha=0.5);\n",
    "sc_p.set_title('Зависимость продаж от оценок пользователей');"
   ]
  },
  {
   "cell_type": "code",
   "execution_count": 39,
   "metadata": {},
   "outputs": [
    {
     "name": "stdout",
     "output_type": "stream",
     "text": [
      "PS4\n",
      "Коэффициент корреляции оценок критиков с продажами: 0.401\n",
      "Коэффициент корреляции оценок пользователей с продажами: -0.042\n"
     ]
    }
   ],
   "source": [
    "print('PS4')\n",
    "print('Коэффициент корреляции оценок критиков с продажами:',round(ps4['sum_sales'].corr(ps4['critic_score']),3))\n",
    "print('Коэффициент корреляции оценок пользователей с продажами:',round(ps4['sum_sales'].corr(ps4['user_score']),3))"
   ]
  },
  {
   "cell_type": "code",
   "execution_count": 40,
   "metadata": {},
   "outputs": [
    {
     "name": "stdout",
     "output_type": "stream",
     "text": [
      "XOne\n",
      "Коэффициент корреляции оценок критиков с продажами: 0.421\n",
      "Коэффициент корреляции оценок пользователей с продажами: -0.074\n"
     ]
    }
   ],
   "source": [
    "XOne = games.loc[games['platform']=='XOne']\n",
    "XOne = XOne.dropna()\n",
    "XOne.reset_index(drop=True,inplace=True)\n",
    "print('XOne')\n",
    "print('Коэффициент корреляции оценок критиков с продажами:',round(XOne['sum_sales'].corr(XOne['critic_score']),3))\n",
    "print('Коэффициент корреляции оценок пользователей с продажами:',round(XOne['sum_sales'].corr(XOne['user_score']),3))"
   ]
  },
  {
   "cell_type": "code",
   "execution_count": 41,
   "metadata": {},
   "outputs": [
    {
     "name": "stdout",
     "output_type": "stream",
     "text": [
      "3DS\n",
      "Коэффициент корреляции оценок критиков с продажами: 0.285\n",
      "Коэффициент корреляции оценок пользователей с продажами: 0.28\n"
     ]
    }
   ],
   "source": [
    "DS3 = games.loc[games['platform']=='3DS']\n",
    "DS3 = DS3.dropna()\n",
    "DS3.reset_index(drop=True,inplace=True)\n",
    "print('3DS')\n",
    "print('Коэффициент корреляции оценок критиков с продажами:',round(DS3['sum_sales'].corr(DS3['critic_score']),3))\n",
    "print('Коэффициент корреляции оценок пользователей с продажами:',round(DS3['sum_sales'].corr(DS3['user_score']),3))"
   ]
  },
  {
   "cell_type": "code",
   "execution_count": 42,
   "metadata": {},
   "outputs": [
    {
     "name": "stdout",
     "output_type": "stream",
     "text": [
      "3DS\n",
      "Коэффициент корреляции оценок критиков с продажами: 0.447\n",
      "Коэффициент корреляции оценок пользователей с продажами: 0.157\n"
     ]
    }
   ],
   "source": [
    "PS3 = games.loc[games['platform']=='PS3']\n",
    "PS3 = PS3.dropna()\n",
    "PS3.reset_index(drop=True,inplace=True)\n",
    "print('3DS')\n",
    "print('Коэффициент корреляции оценок критиков с продажами:',round(PS3['sum_sales'].corr(PS3['critic_score']),3))\n",
    "print('Коэффициент корреляции оценок пользователей с продажами:',round(PS3['sum_sales'].corr(PS3['user_score']),3))"
   ]
  },
  {
   "cell_type": "markdown",
   "metadata": {},
   "source": [
    "**Вывод:** на примере трех платформ мы видим, что продажи коррелируют с оценками критиков, но почти не коррелируют с оценками пользователей."
   ]
  },
  {
   "cell_type": "markdown",
   "metadata": {},
   "source": [
    "### Популярность и влияние жанров на продажи"
   ]
  },
  {
   "cell_type": "markdown",
   "metadata": {},
   "source": [
    "Жанры по суммарной выручке:"
   ]
  },
  {
   "cell_type": "code",
   "execution_count": 43,
   "metadata": {},
   "outputs": [
    {
     "data": {
      "text/html": [
       "<div>\n",
       "<style scoped>\n",
       "    .dataframe tbody tr th:only-of-type {\n",
       "        vertical-align: middle;\n",
       "    }\n",
       "\n",
       "    .dataframe tbody tr th {\n",
       "        vertical-align: top;\n",
       "    }\n",
       "\n",
       "    .dataframe thead th {\n",
       "        text-align: right;\n",
       "    }\n",
       "</style>\n",
       "<table border=\"1\" class=\"dataframe\">\n",
       "  <thead>\n",
       "    <tr style=\"text-align: right;\">\n",
       "      <th></th>\n",
       "      <th>genre</th>\n",
       "      <th>count</th>\n",
       "      <th>mean_critic_score</th>\n",
       "      <th>mean_user_score</th>\n",
       "      <th>sum_sales</th>\n",
       "      <th>mean_sales</th>\n",
       "    </tr>\n",
       "  </thead>\n",
       "  <tbody>\n",
       "    <tr>\n",
       "      <th>0</th>\n",
       "      <td>Action</td>\n",
       "      <td>619</td>\n",
       "      <td>70.298701</td>\n",
       "      <td>6.760606</td>\n",
       "      <td>199.36</td>\n",
       "      <td>0.32</td>\n",
       "    </tr>\n",
       "    <tr>\n",
       "      <th>8</th>\n",
       "      <td>Shooter</td>\n",
       "      <td>128</td>\n",
       "      <td>75.539326</td>\n",
       "      <td>6.549074</td>\n",
       "      <td>170.94</td>\n",
       "      <td>1.34</td>\n",
       "    </tr>\n",
       "    <tr>\n",
       "      <th>10</th>\n",
       "      <td>Sports</td>\n",
       "      <td>161</td>\n",
       "      <td>70.214286</td>\n",
       "      <td>5.225197</td>\n",
       "      <td>109.48</td>\n",
       "      <td>0.68</td>\n",
       "    </tr>\n",
       "    <tr>\n",
       "      <th>7</th>\n",
       "      <td>Role-Playing</td>\n",
       "      <td>221</td>\n",
       "      <td>74.525773</td>\n",
       "      <td>7.348571</td>\n",
       "      <td>101.44</td>\n",
       "      <td>0.46</td>\n",
       "    </tr>\n",
       "    <tr>\n",
       "      <th>3</th>\n",
       "      <td>Misc</td>\n",
       "      <td>113</td>\n",
       "      <td>73.606061</td>\n",
       "      <td>6.968293</td>\n",
       "      <td>37.55</td>\n",
       "      <td>0.33</td>\n",
       "    </tr>\n",
       "    <tr>\n",
       "      <th>2</th>\n",
       "      <td>Fighting</td>\n",
       "      <td>60</td>\n",
       "      <td>70.419355</td>\n",
       "      <td>6.983784</td>\n",
       "      <td>28.22</td>\n",
       "      <td>0.47</td>\n",
       "    </tr>\n",
       "    <tr>\n",
       "      <th>6</th>\n",
       "      <td>Racing</td>\n",
       "      <td>69</td>\n",
       "      <td>71.702128</td>\n",
       "      <td>6.327451</td>\n",
       "      <td>27.52</td>\n",
       "      <td>0.40</td>\n",
       "    </tr>\n",
       "    <tr>\n",
       "      <th>4</th>\n",
       "      <td>Platform</td>\n",
       "      <td>38</td>\n",
       "      <td>76.296296</td>\n",
       "      <td>6.741379</td>\n",
       "      <td>18.09</td>\n",
       "      <td>0.48</td>\n",
       "    </tr>\n",
       "    <tr>\n",
       "      <th>1</th>\n",
       "      <td>Adventure</td>\n",
       "      <td>185</td>\n",
       "      <td>72.714286</td>\n",
       "      <td>7.470213</td>\n",
       "      <td>17.55</td>\n",
       "      <td>0.09</td>\n",
       "    </tr>\n",
       "    <tr>\n",
       "      <th>9</th>\n",
       "      <td>Simulation</td>\n",
       "      <td>44</td>\n",
       "      <td>69.500000</td>\n",
       "      <td>6.504167</td>\n",
       "      <td>13.13</td>\n",
       "      <td>0.30</td>\n",
       "    </tr>\n",
       "    <tr>\n",
       "      <th>11</th>\n",
       "      <td>Strategy</td>\n",
       "      <td>37</td>\n",
       "      <td>77.888889</td>\n",
       "      <td>7.216667</td>\n",
       "      <td>3.96</td>\n",
       "      <td>0.11</td>\n",
       "    </tr>\n",
       "    <tr>\n",
       "      <th>5</th>\n",
       "      <td>Puzzle</td>\n",
       "      <td>14</td>\n",
       "      <td>77.250000</td>\n",
       "      <td>7.975000</td>\n",
       "      <td>2.21</td>\n",
       "      <td>0.16</td>\n",
       "    </tr>\n",
       "  </tbody>\n",
       "</table>\n",
       "</div>"
      ],
      "text/plain": [
       "           genre  count  mean_critic_score  mean_user_score  sum_sales  \\\n",
       "0         Action    619          70.298701         6.760606     199.36   \n",
       "8        Shooter    128          75.539326         6.549074     170.94   \n",
       "10        Sports    161          70.214286         5.225197     109.48   \n",
       "7   Role-Playing    221          74.525773         7.348571     101.44   \n",
       "3           Misc    113          73.606061         6.968293      37.55   \n",
       "2       Fighting     60          70.419355         6.983784      28.22   \n",
       "6         Racing     69          71.702128         6.327451      27.52   \n",
       "4       Platform     38          76.296296         6.741379      18.09   \n",
       "1      Adventure    185          72.714286         7.470213      17.55   \n",
       "9     Simulation     44          69.500000         6.504167      13.13   \n",
       "11      Strategy     37          77.888889         7.216667       3.96   \n",
       "5         Puzzle     14          77.250000         7.975000       2.21   \n",
       "\n",
       "    mean_sales  \n",
       "0         0.32  \n",
       "8         1.34  \n",
       "10        0.68  \n",
       "7         0.46  \n",
       "3         0.33  \n",
       "2         0.47  \n",
       "6         0.40  \n",
       "4         0.48  \n",
       "1         0.09  \n",
       "9         0.30  \n",
       "11        0.11  \n",
       "5         0.16  "
      ]
     },
     "execution_count": 43,
     "metadata": {},
     "output_type": "execute_result"
    }
   ],
   "source": [
    "genres = games.groupby(['genre']).agg(\n",
    "    count=('name','count'),\n",
    "    mean_critic_score=('critic_score','mean'),\n",
    "    mean_user_score=('user_score','mean'),\n",
    "    sum_sales=('sum_sales','sum')\n",
    ").reset_index().sort_values('sum_sales',ascending=False)\n",
    "genres['mean_sales'] = round(genres['sum_sales']/genres['count'],2)\n",
    "genres.head(20)"
   ]
  },
  {
   "cell_type": "markdown",
   "metadata": {},
   "source": [
    "Жанры по выручке на одну игру:"
   ]
  },
  {
   "cell_type": "code",
   "execution_count": 44,
   "metadata": {},
   "outputs": [
    {
     "data": {
      "text/html": [
       "<div>\n",
       "<style scoped>\n",
       "    .dataframe tbody tr th:only-of-type {\n",
       "        vertical-align: middle;\n",
       "    }\n",
       "\n",
       "    .dataframe tbody tr th {\n",
       "        vertical-align: top;\n",
       "    }\n",
       "\n",
       "    .dataframe thead th {\n",
       "        text-align: right;\n",
       "    }\n",
       "</style>\n",
       "<table border=\"1\" class=\"dataframe\">\n",
       "  <thead>\n",
       "    <tr style=\"text-align: right;\">\n",
       "      <th></th>\n",
       "      <th>genre</th>\n",
       "      <th>count</th>\n",
       "      <th>mean_critic_score</th>\n",
       "      <th>mean_user_score</th>\n",
       "      <th>sum_sales</th>\n",
       "      <th>mean_sales</th>\n",
       "    </tr>\n",
       "  </thead>\n",
       "  <tbody>\n",
       "    <tr>\n",
       "      <th>8</th>\n",
       "      <td>Shooter</td>\n",
       "      <td>128</td>\n",
       "      <td>75.539326</td>\n",
       "      <td>6.549074</td>\n",
       "      <td>170.94</td>\n",
       "      <td>1.34</td>\n",
       "    </tr>\n",
       "    <tr>\n",
       "      <th>10</th>\n",
       "      <td>Sports</td>\n",
       "      <td>161</td>\n",
       "      <td>70.214286</td>\n",
       "      <td>5.225197</td>\n",
       "      <td>109.48</td>\n",
       "      <td>0.68</td>\n",
       "    </tr>\n",
       "    <tr>\n",
       "      <th>4</th>\n",
       "      <td>Platform</td>\n",
       "      <td>38</td>\n",
       "      <td>76.296296</td>\n",
       "      <td>6.741379</td>\n",
       "      <td>18.09</td>\n",
       "      <td>0.48</td>\n",
       "    </tr>\n",
       "    <tr>\n",
       "      <th>2</th>\n",
       "      <td>Fighting</td>\n",
       "      <td>60</td>\n",
       "      <td>70.419355</td>\n",
       "      <td>6.983784</td>\n",
       "      <td>28.22</td>\n",
       "      <td>0.47</td>\n",
       "    </tr>\n",
       "    <tr>\n",
       "      <th>7</th>\n",
       "      <td>Role-Playing</td>\n",
       "      <td>221</td>\n",
       "      <td>74.525773</td>\n",
       "      <td>7.348571</td>\n",
       "      <td>101.44</td>\n",
       "      <td>0.46</td>\n",
       "    </tr>\n",
       "    <tr>\n",
       "      <th>6</th>\n",
       "      <td>Racing</td>\n",
       "      <td>69</td>\n",
       "      <td>71.702128</td>\n",
       "      <td>6.327451</td>\n",
       "      <td>27.52</td>\n",
       "      <td>0.40</td>\n",
       "    </tr>\n",
       "    <tr>\n",
       "      <th>3</th>\n",
       "      <td>Misc</td>\n",
       "      <td>113</td>\n",
       "      <td>73.606061</td>\n",
       "      <td>6.968293</td>\n",
       "      <td>37.55</td>\n",
       "      <td>0.33</td>\n",
       "    </tr>\n",
       "    <tr>\n",
       "      <th>0</th>\n",
       "      <td>Action</td>\n",
       "      <td>619</td>\n",
       "      <td>70.298701</td>\n",
       "      <td>6.760606</td>\n",
       "      <td>199.36</td>\n",
       "      <td>0.32</td>\n",
       "    </tr>\n",
       "    <tr>\n",
       "      <th>9</th>\n",
       "      <td>Simulation</td>\n",
       "      <td>44</td>\n",
       "      <td>69.500000</td>\n",
       "      <td>6.504167</td>\n",
       "      <td>13.13</td>\n",
       "      <td>0.30</td>\n",
       "    </tr>\n",
       "    <tr>\n",
       "      <th>5</th>\n",
       "      <td>Puzzle</td>\n",
       "      <td>14</td>\n",
       "      <td>77.250000</td>\n",
       "      <td>7.975000</td>\n",
       "      <td>2.21</td>\n",
       "      <td>0.16</td>\n",
       "    </tr>\n",
       "    <tr>\n",
       "      <th>11</th>\n",
       "      <td>Strategy</td>\n",
       "      <td>37</td>\n",
       "      <td>77.888889</td>\n",
       "      <td>7.216667</td>\n",
       "      <td>3.96</td>\n",
       "      <td>0.11</td>\n",
       "    </tr>\n",
       "    <tr>\n",
       "      <th>1</th>\n",
       "      <td>Adventure</td>\n",
       "      <td>185</td>\n",
       "      <td>72.714286</td>\n",
       "      <td>7.470213</td>\n",
       "      <td>17.55</td>\n",
       "      <td>0.09</td>\n",
       "    </tr>\n",
       "  </tbody>\n",
       "</table>\n",
       "</div>"
      ],
      "text/plain": [
       "           genre  count  mean_critic_score  mean_user_score  sum_sales  \\\n",
       "8        Shooter    128          75.539326         6.549074     170.94   \n",
       "10        Sports    161          70.214286         5.225197     109.48   \n",
       "4       Platform     38          76.296296         6.741379      18.09   \n",
       "2       Fighting     60          70.419355         6.983784      28.22   \n",
       "7   Role-Playing    221          74.525773         7.348571     101.44   \n",
       "6         Racing     69          71.702128         6.327451      27.52   \n",
       "3           Misc    113          73.606061         6.968293      37.55   \n",
       "0         Action    619          70.298701         6.760606     199.36   \n",
       "9     Simulation     44          69.500000         6.504167      13.13   \n",
       "5         Puzzle     14          77.250000         7.975000       2.21   \n",
       "11      Strategy     37          77.888889         7.216667       3.96   \n",
       "1      Adventure    185          72.714286         7.470213      17.55   \n",
       "\n",
       "    mean_sales  \n",
       "8         1.34  \n",
       "10        0.68  \n",
       "4         0.48  \n",
       "2         0.47  \n",
       "7         0.46  \n",
       "6         0.40  \n",
       "3         0.33  \n",
       "0         0.32  \n",
       "9         0.30  \n",
       "5         0.16  \n",
       "11        0.11  \n",
       "1         0.09  "
      ]
     },
     "execution_count": 44,
     "metadata": {},
     "output_type": "execute_result"
    }
   ],
   "source": [
    "genres.sort_values('mean_sales',ascending=False)"
   ]
  },
  {
   "cell_type": "markdown",
   "metadata": {},
   "source": [
    "  Самый популярный жанр - Action (по выручке). В пятерку самых популярных так же входят жанры Shooter, Sports, Role-Playing, Misc. \n",
    " \n",
    "  При этом, важно отметить, что по объему продаж на одну игру лидируют Shooter, Sports, Platform, Fighting, Role-Playing тогда как наиболее популярный жанр Action по этому показателю - средний. \n",
    "  \n",
    "  Наименее популярные жанры (по всем показателям) - Puzzle, Strategy, Adventure, Simulation. "
   ]
  },
  {
   "cell_type": "markdown",
   "metadata": {},
   "source": [
    "## Портрет пользователя по регионам\n",
    "\n",
    "Суммарные продажи по регионам:"
   ]
  },
  {
   "cell_type": "code",
   "execution_count": 45,
   "metadata": {},
   "outputs": [
    {
     "data": {
      "text/plain": [
       "na_sales    284.06\n",
       "eu_sales    270.68\n",
       "jp_sales     93.09\n",
       "dtype: float64"
      ]
     },
     "execution_count": 45,
     "metadata": {},
     "output_type": "execute_result"
    }
   ],
   "source": [
    "games[['na_sales','eu_sales','jp_sales']].sum()"
   ]
  },
  {
   "cell_type": "markdown",
   "metadata": {},
   "source": [
    "### Самые популярные платформы по регионам"
   ]
  },
  {
   "cell_type": "markdown",
   "metadata": {},
   "source": [
    "Рассмотрим наиболее популярные платформы:"
   ]
  },
  {
   "cell_type": "code",
   "execution_count": 46,
   "metadata": {},
   "outputs": [
    {
     "name": "stdout",
     "output_type": "stream",
     "text": [
      "  platform  na_sales\n",
      "3      PS4     98.61\n",
      "9     XOne     81.27\n",
      "8     X360     28.30\n",
      "0      3DS     22.64\n",
      "2      PS3     22.05\n",
      "7     WiiU     19.36\n",
      "1       PC      7.23\n",
      "5      PSV      2.52\n",
      "6      Wii      2.08\n",
      "4      PSP      0.00\n"
     ]
    }
   ],
   "source": [
    "platforms_regions = games.groupby(['platform']).agg(\n",
    "    na_sales=('na_sales','sum'),\n",
    "    eu_sales=('eu_sales','sum'),\n",
    "    jp_sales=('jp_sales','sum')\n",
    ").reset_index()\n",
    "\n",
    "print(platforms_regions[['platform','na_sales']].sort_values('na_sales',ascending=False).head(20))"
   ]
  },
  {
   "cell_type": "markdown",
   "metadata": {},
   "source": [
    "Самые популярные платформы в Северной Америке (в порядке убывания популярности): PS4, XOne, X360, 3DS, PS3"
   ]
  },
  {
   "cell_type": "code",
   "execution_count": 47,
   "metadata": {},
   "outputs": [
    {
     "name": "stdout",
     "output_type": "stream",
     "text": [
      "  platform  eu_sales\n",
      "3      PS4    130.04\n",
      "9     XOne     46.25\n",
      "2      PS3     25.54\n",
      "1       PC     17.97\n",
      "0      3DS     16.12\n",
      "8     X360     15.49\n",
      "7     WiiU     13.15\n",
      "5      PSV      3.53\n",
      "6      Wii      2.59\n",
      "4      PSP      0.00\n"
     ]
    }
   ],
   "source": [
    "print(platforms_regions[['platform','eu_sales']].sort_values('eu_sales',ascending=False).head(20))"
   ]
  },
  {
   "cell_type": "markdown",
   "metadata": {},
   "source": [
    "Самые популярные платформы в Европе (в порядке убывания популярности): PS4, XOne, PS3, PC, 3DS"
   ]
  },
  {
   "cell_type": "code",
   "execution_count": 48,
   "metadata": {},
   "outputs": [
    {
     "name": "stdout",
     "output_type": "stream",
     "text": [
      "  platform  jp_sales\n",
      "0      3DS     44.24\n",
      "3      PS4     15.02\n",
      "5      PSV     14.54\n",
      "2      PS3     11.22\n",
      "7     WiiU      7.31\n",
      "4      PSP      0.36\n",
      "9     XOne      0.32\n",
      "8     X360      0.08\n",
      "1       PC      0.00\n",
      "6      Wii      0.00\n"
     ]
    }
   ],
   "source": [
    "print(platforms_regions[['platform','jp_sales']].sort_values('jp_sales',ascending=False).head(20))"
   ]
  },
  {
   "cell_type": "markdown",
   "metadata": {},
   "source": [
    "  Самые популярные платформы в Японии (в порядке убывания популярности): 3DS, PS4, PSV, PS3, WiiU\n",
    "    \n",
    "  Рынок Северной Америки - самый большой, а Японии - самый маленький, среди трех рассматриваемых регионов.\n",
    "   \n",
    "  Интересно, что если рейтинги популярности платформ в Северной Америке и Европе более-менее похожи, то японский рейтинг сильно отличается: на первое место попала платформа 3DS вместо PS4, а так же наличием в топ 5 платформ PSV и WiiU. "
   ]
  },
  {
   "cell_type": "code",
   "execution_count": 48,
   "metadata": {},
   "outputs": [
    {
     "data": {
      "image/png": "[encoded data removed]",
      "text/plain": [
       "<Figure size 2000x500 with 3 Axes>"
      ]
     },
     "metadata": {},
     "output_type": "display_data"
    }
   ],
   "source": [
    "fig, ax = plt.subplots(1, 3, figsize=(20,5))\n",
    "\n",
    "na_platform = games.groupby('platform')['na_sales'].sum().sort_values(ascending = False).head()\n",
    "eu_platform = games.groupby('platform')['eu_sales'].sum().sort_values(ascending = False).head()\n",
    "jp_platform = games.groupby('platform')['jp_sales'].sum().sort_values(ascending = False).head()\n",
    "\n",
    "ax[0].bar(x = na_platform.index, height = na_platform)\n",
    "ax[0].set_title('NA top-5 platforms')\n",
    "\n",
    "ax[1].bar(x = eu_platform.index, height = eu_platform)\n",
    "ax[1].set_title('EU top-5 platforms')\n",
    "\n",
    "ax[2].bar(x = jp_platform.index, height = jp_platform)\n",
    "ax[2].set_title('JP top-5 platforms')\n",
    "\n",
    "plt.show()"
   ]
  },
  {
   "cell_type": "markdown",
   "metadata": {},
   "source": [
    "### Жанровые предпочтения в разных регионах"
   ]
  },
  {
   "cell_type": "code",
   "execution_count": 50,
   "metadata": {},
   "outputs": [],
   "source": [
    "genre_regions = games.groupby(['genre']).agg(\n",
    "    na_sales=('na_sales','sum'),\n",
    "    eu_sales=('eu_sales','sum'),\n",
    "    jp_sales=('jp_sales','sum')\n",
    ").reset_index()"
   ]
  },
  {
   "cell_type": "code",
   "execution_count": 51,
   "metadata": {},
   "outputs": [
    {
     "name": "stdout",
     "output_type": "stream",
     "text": [
      "           genre  na_sales\n",
      "8        Shooter     79.02\n",
      "0         Action     72.53\n",
      "10        Sports     46.13\n",
      "7   Role-Playing     33.47\n",
      "3           Misc     15.05\n"
     ]
    }
   ],
   "source": [
    "print(genre_regions[['genre','na_sales']].sort_values('na_sales',ascending=False).head(5))"
   ]
  },
  {
   "cell_type": "markdown",
   "metadata": {},
   "source": [
    "В Северной Америке наиболее популярные жанры (по убыванию):  Shooter, Action, Sports, Role-Playing, Misc"
   ]
  },
  {
   "cell_type": "code",
   "execution_count": 52,
   "metadata": {},
   "outputs": [
    {
     "name": "stdout",
     "output_type": "stream",
     "text": [
      "           genre  eu_sales\n",
      "0         Action     74.68\n",
      "8        Shooter     65.52\n",
      "10        Sports     45.73\n",
      "7   Role-Playing     28.17\n",
      "6         Racing     14.13\n"
     ]
    }
   ],
   "source": [
    "print(genre_regions[['genre','eu_sales']].sort_values('eu_sales',ascending=False).head(5))"
   ]
  },
  {
   "cell_type": "markdown",
   "metadata": {},
   "source": [
    "В Европе рейтинг жанров почти идентичен (по убыванию): Action, Shooter, Sports, Role-Playing, Racing"
   ]
  },
  {
   "cell_type": "code",
   "execution_count": 53,
   "metadata": {},
   "outputs": [
    {
     "name": "stdout",
     "output_type": "stream",
     "text": [
      "          genre  jp_sales\n",
      "7  Role-Playing     31.16\n",
      "0        Action     29.58\n",
      "2      Fighting      6.37\n",
      "3          Misc      5.61\n",
      "8       Shooter      4.87\n"
     ]
    }
   ],
   "source": [
    "print(genre_regions[['genre','jp_sales']].sort_values('jp_sales',ascending=False).head(5))"
   ]
  },
  {
   "cell_type": "markdown",
   "metadata": {},
   "source": [
    "Японский рейтинг жанров радикально отличается от европейского и американского: Role-Playing, Action, Fighting, Misc, Shooter - на первое место вышел жанр Role-Playing."
   ]
  },
  {
   "cell_type": "markdown",
   "metadata": {},
   "source": [
    " ### Влияние рейтинга ESRB на продажи в отдельных регионах"
   ]
  },
  {
   "cell_type": "code",
   "execution_count": 54,
   "metadata": {},
   "outputs": [
    {
     "data": {
      "text/plain": [
       "0"
      ]
     },
     "execution_count": 54,
     "metadata": {},
     "output_type": "execute_result"
    }
   ],
   "source": [
    "games['rating'].fillna('without_rating',inplace=True)\n",
    "games['rating'].isna().sum()\n",
    "\n"
   ]
  },
  {
   "cell_type": "code",
   "execution_count": 55,
   "metadata": {},
   "outputs": [],
   "source": [
    "\n",
    "rating_regions = games.groupby(['rating']).agg(\n",
    "    na_sales=('na_sales','sum'),\n",
    "    eu_sales=('eu_sales','sum'),\n",
    "    jp_sales=('jp_sales','sum')\n",
    ").reset_index()\n"
   ]
  },
  {
   "cell_type": "code",
   "execution_count": 56,
   "metadata": {},
   "outputs": [
    {
     "name": "stdout",
     "output_type": "stream",
     "text": [
      "           rating  na_sales\n",
      "2               M     96.42\n",
      "4  without_rating     64.72\n",
      "0               E     50.74\n",
      "3               T     38.95\n",
      "1            E10+     33.23\n"
     ]
    }
   ],
   "source": [
    "print(rating_regions[['rating','na_sales']].sort_values('na_sales',ascending=False).head(20))"
   ]
  },
  {
   "cell_type": "code",
   "execution_count": 57,
   "metadata": {},
   "outputs": [
    {
     "name": "stdout",
     "output_type": "stream",
     "text": [
      "           rating  eu_sales\n",
      "2               M     93.44\n",
      "4  without_rating     58.95\n",
      "0               E     58.06\n",
      "3               T     34.07\n",
      "1            E10+     26.16\n"
     ]
    }
   ],
   "source": [
    "print(rating_regions[['rating','eu_sales']].sort_values('eu_sales',ascending=False).head(20))"
   ]
  },
  {
   "cell_type": "code",
   "execution_count": 58,
   "metadata": {},
   "outputs": [
    {
     "name": "stdout",
     "output_type": "stream",
     "text": [
      "           rating  jp_sales\n",
      "4  without_rating     56.90\n",
      "3               T     14.78\n",
      "0               E      8.94\n",
      "2               M      8.01\n",
      "1            E10+      4.46\n"
     ]
    }
   ],
   "source": [
    "print(rating_regions[['rating','jp_sales']].sort_values('jp_sales',ascending=False).head(20))"
   ]
  },
  {
   "cell_type": "markdown",
   "metadata": {},
   "source": [
    "В Северной Америке и Европе распределение популярности игр по рейтингам одинаково. Япония же и по этому параметру так же сильно отличается от остальных рынков: первое место занимют игры без рейтинга, среди игр с рейтингом наиболее популярны игры \"T\" - для тинейджеров."
   ]
  },
  {
   "cell_type": "markdown",
   "metadata": {},
   "source": [
    "## Сравнение пользовательских рейтингов\n",
    "\n",
    "### Сравнение пользовательских рейтингов платформ XBox One и PC"
   ]
  },
  {
   "cell_type": "code",
   "execution_count": 52,
   "metadata": {},
   "outputs": [],
   "source": [
    "games = games.dropna(subset=['user_score'])\n",
    "games.reset_index(drop=True,inplace=True)"
   ]
  },
  {
   "cell_type": "markdown",
   "metadata": {},
   "source": [
    "  Нулевая гипотеза H0: Средний пользовательский рейтинг игр на платформе XBox One равен среднему пользовательскому рейтингу игр на платформе PC.\n",
    " \n",
    "  Альтернативная гипотеза H1: Средние пользовательские рейтинги игр на платформах XBox One и PC различаются."
   ]
  },
  {
   "cell_type": "code",
   "execution_count": 53,
   "metadata": {},
   "outputs": [
    {
     "name": "stdout",
     "output_type": "stream",
     "text": [
      "0.11601398086668832\n",
      "Не получилось отвергнуть нулевую гипотезу\n"
     ]
    }
   ],
   "source": [
    "results = st.ttest_ind(games[games['platform'] =='XOne']['user_score'],games[games['platform'] =='PC']['user_score'],equal_var=False)\n",
    "# Уровень значимости\n",
    "alpha = 0.05\n",
    "# p-value\n",
    "print(results.pvalue)\n",
    "\n",
    "if results.pvalue < alpha:\n",
    "    print('Отвергаем нулевую гипотезу')\n",
    "else:\n",
    "    print('Не получилось отвергнуть нулевую гипотезу')"
   ]
  },
  {
   "cell_type": "markdown",
   "metadata": {},
   "source": [
    "Таким образом мы можем утверждать что средние пользовательские рейтинги на этих плотформах различаются."
   ]
  },
  {
   "cell_type": "markdown",
   "metadata": {},
   "source": [
    "### Средние пользовательские рейтинги жанров Action и Sports\n",
    "\n",
    "Нулевая гипотеза H0: Средний пользовательский рейтинг игр в жанре Action равен среднему пользовательскому рейтингу игр в жанре Sports.\n",
    "\n",
    "Альтернативная гипотеза H1: Средние пользовательские рейтинги игр в жанрах Action и Sports различаются.\n"
   ]
  },
  {
   "cell_type": "code",
   "execution_count": 54,
   "metadata": {},
   "outputs": [
    {
     "name": "stdout",
     "output_type": "stream",
     "text": [
      "1.1825550382644557e-14\n",
      "Отвергаем нулевую гипотезу\n"
     ]
    }
   ],
   "source": [
    "results = st.ttest_ind(games[games['genre'] =='Action']['user_score'],games[games['genre'] =='Sports']['user_score'],equal_var=False)\n",
    "# уровень значимости\n",
    "alpha = 0.05\n",
    "# p-value\n",
    "print(results.pvalue)\n",
    "\n",
    "if results.pvalue < alpha:\n",
    "    print('Отвергаем нулевую гипотезу')\n",
    "else:\n",
    "    print('Не получилось отвергнуть нулевую гипотезу')"
   ]
  },
  {
   "cell_type": "markdown",
   "metadata": {},
   "source": [
    "Таким образом мы можем утверждать что средние пользовательские рейтинги для жанров Action и Sports различаются.\n",
    " \n",
    "*(Комментарий: в задании предлагается проверить не гипотезу о \"равенстве средних рейтингнов\", а именно о \"неравенстве средних рейтингов\" - на данный момент я не понял как это делать напрямую и можно ли вообще. Поэтому пошел от обратного - если удастся отвергнуть гипотезу о равенстве, то можно считать это подтверждением гипозы о неравнстве)*"
   ]
  },
  {
   "cell_type": "markdown",
   "metadata": {},
   "source": [
    "## Общий вывод"
   ]
  },
  {
   "cell_type": "markdown",
   "metadata": {},
   "source": [
    "1. Количество игр на всех платформах дважды резко возрастало: в 1994-1995 годах и 2001-2002 годах.\n",
    "2. Обычно срок активной жизни одной платформы составляет около 6 лет, далее начинается спад активности (полный срок жизни платформы 9-10 лет).\n",
    "3. В 2016 году наиболее популярные (и находящиеся в середине \"жизненного цикла\") платформы: PS4 (самая популярная) и XOne. 3DS и PS3 - менее популярны, а главное уже в 2016 находятся на спаде популярности.  PC - не типичная платформа с не очень большой популярностью, но ей не грозит резкий спад в связи с её универсальностью.\n",
    "4. Продажи игр прямо коррелируют с оценками критиков и слабо коррелируют с оценками пользователей.\n",
    "5. Самая популярная платформа в Северной Америке и Европе - PS4, в Японии - 3DS.\n",
    "6. В Северной Америке и Европе одинаковые жанровые предпочтения: Action, Shooter, Sports. Жанровые предпочтения пользователей из Японии отличаются от Северной Америки и Европы в пользу жанра Role-Playing, топ 3 Японии: Role-Playing, Action, Fighting.\n",
    "\n",
    "7. Рекомендации магазину видеоигр: \n",
    "\n",
    " - Рынки Северной Амерки и Европы очень похожи и кратно превосходят рынок Японии. Поэтому имеет смысл ориентироваться именно на них.\n",
    " - Соответственно, в первую очередь, имеет смысл рассмотреть платформы PS4 и XOne. Жанры Action, Shooter и Sports. Судя по рейтингу ESRB на этих рынках компьютерные игры популярны у взрослой аудитории - рейтинг M (для взрослых), игры без рейтинга и рейтиг E (для всех).\n",
    " \n"
   ]
  }
 ],
 "metadata": {
  "ExecuteTimeLog": [
   {
    "duration": 408,
    "start_time": "2022-10-14T15:13:40.733Z"
   },
   {
    "duration": 192,
    "start_time": "2022-10-14T15:14:19.565Z"
   },
   {
    "duration": 12,
    "start_time": "2022-10-14T15:14:38.402Z"
   },
   {
    "duration": 56,
    "start_time": "2022-10-14T15:15:45.655Z"
   },
   {
    "duration": 83,
    "start_time": "2022-10-14T15:26:15.977Z"
   },
   {
    "duration": 8,
    "start_time": "2022-10-14T15:27:05.407Z"
   },
   {
    "duration": 4,
    "start_time": "2022-10-14T15:28:09.219Z"
   },
   {
    "duration": 13,
    "start_time": "2022-10-14T15:28:13.078Z"
   },
   {
    "duration": 13,
    "start_time": "2022-10-14T15:37:12.430Z"
   },
   {
    "duration": 13,
    "start_time": "2022-10-14T16:22:24.749Z"
   },
   {
    "duration": 6,
    "start_time": "2022-10-14T16:25:32.846Z"
   },
   {
    "duration": 11,
    "start_time": "2022-10-14T16:25:39.968Z"
   },
   {
    "duration": 4,
    "start_time": "2022-10-14T16:26:26.952Z"
   },
   {
    "duration": 17,
    "start_time": "2022-10-14T16:26:30.904Z"
   },
   {
    "duration": 13,
    "start_time": "2022-10-14T16:38:14.979Z"
   },
   {
    "duration": 10,
    "start_time": "2022-10-14T16:40:40.886Z"
   },
   {
    "duration": 13,
    "start_time": "2022-10-14T16:40:55.182Z"
   },
   {
    "duration": 13,
    "start_time": "2022-10-14T16:43:17.893Z"
   },
   {
    "duration": 18,
    "start_time": "2022-10-14T16:43:53.357Z"
   },
   {
    "duration": 24,
    "start_time": "2022-10-14T18:07:22.938Z"
   },
   {
    "duration": 20,
    "start_time": "2022-10-14T18:07:34.050Z"
   },
   {
    "duration": 16,
    "start_time": "2022-10-14T18:07:45.805Z"
   },
   {
    "duration": 17,
    "start_time": "2022-10-14T18:08:19.636Z"
   },
   {
    "duration": 23,
    "start_time": "2022-10-14T18:09:03.332Z"
   },
   {
    "duration": 283,
    "start_time": "2022-10-14T18:11:57.129Z"
   },
   {
    "duration": 24,
    "start_time": "2022-10-14T18:12:59.261Z"
   },
   {
    "duration": 14,
    "start_time": "2022-10-14T18:14:12.143Z"
   },
   {
    "duration": 16,
    "start_time": "2022-10-14T18:14:41.695Z"
   },
   {
    "duration": 18,
    "start_time": "2022-10-14T18:15:06.047Z"
   },
   {
    "duration": 16,
    "start_time": "2022-10-14T18:16:56.164Z"
   },
   {
    "duration": 12,
    "start_time": "2022-10-14T18:17:26.460Z"
   },
   {
    "duration": 23,
    "start_time": "2022-10-14T18:18:04.514Z"
   },
   {
    "duration": 5,
    "start_time": "2022-10-14T19:06:58.774Z"
   },
   {
    "duration": 3,
    "start_time": "2022-10-14T19:07:24.372Z"
   },
   {
    "duration": 26,
    "start_time": "2022-10-14T19:07:52.176Z"
   },
   {
    "duration": 22,
    "start_time": "2022-10-14T19:07:59.393Z"
   },
   {
    "duration": 14,
    "start_time": "2022-10-14T19:08:49.728Z"
   },
   {
    "duration": 17,
    "start_time": "2022-10-14T19:14:05.460Z"
   },
   {
    "duration": 68,
    "start_time": "2022-10-14T19:15:45.324Z"
   },
   {
    "duration": 22,
    "start_time": "2022-10-14T19:15:50.834Z"
   },
   {
    "duration": 13,
    "start_time": "2022-10-14T19:16:01.404Z"
   },
   {
    "duration": 14,
    "start_time": "2022-10-14T19:18:58.008Z"
   },
   {
    "duration": 8,
    "start_time": "2022-10-14T19:20:07.001Z"
   },
   {
    "duration": 6,
    "start_time": "2022-10-14T19:20:40.047Z"
   },
   {
    "duration": 16,
    "start_time": "2022-10-14T19:21:03.258Z"
   },
   {
    "duration": 4,
    "start_time": "2022-10-14T19:23:59.562Z"
   },
   {
    "duration": 13,
    "start_time": "2022-10-14T19:24:01.977Z"
   },
   {
    "duration": 6,
    "start_time": "2022-10-14T19:26:11.758Z"
   },
   {
    "duration": 29,
    "start_time": "2022-10-14T19:26:28.283Z"
   },
   {
    "duration": 15,
    "start_time": "2022-10-14T19:28:33.760Z"
   },
   {
    "duration": 8,
    "start_time": "2022-10-14T19:33:02.792Z"
   },
   {
    "duration": 7,
    "start_time": "2022-10-14T19:45:40.288Z"
   },
   {
    "duration": 49,
    "start_time": "2022-10-15T11:01:54.826Z"
   },
   {
    "duration": 458,
    "start_time": "2022-10-15T11:02:02.257Z"
   },
   {
    "duration": 218,
    "start_time": "2022-10-15T11:02:02.717Z"
   },
   {
    "duration": 10,
    "start_time": "2022-10-15T11:02:02.937Z"
   },
   {
    "duration": 39,
    "start_time": "2022-10-15T11:02:02.949Z"
   },
   {
    "duration": 40,
    "start_time": "2022-10-15T11:02:02.990Z"
   },
   {
    "duration": 35,
    "start_time": "2022-10-15T11:02:03.032Z"
   },
   {
    "duration": 57,
    "start_time": "2022-10-15T11:02:03.069Z"
   },
   {
    "duration": 45,
    "start_time": "2022-10-15T11:02:03.128Z"
   },
   {
    "duration": 62,
    "start_time": "2022-10-15T11:02:03.174Z"
   },
   {
    "duration": 21,
    "start_time": "2022-10-15T11:02:03.239Z"
   },
   {
    "duration": 30,
    "start_time": "2022-10-15T11:02:03.261Z"
   },
   {
    "duration": 20,
    "start_time": "2022-10-15T11:02:03.293Z"
   },
   {
    "duration": 68,
    "start_time": "2022-10-15T11:02:03.315Z"
   },
   {
    "duration": 37,
    "start_time": "2022-10-15T11:02:03.385Z"
   },
   {
    "duration": 15,
    "start_time": "2022-10-15T11:02:03.424Z"
   },
   {
    "duration": 8,
    "start_time": "2022-10-15T11:24:25.640Z"
   },
   {
    "duration": 12,
    "start_time": "2022-10-15T11:25:37.617Z"
   },
   {
    "duration": 118,
    "start_time": "2022-10-15T17:58:13.420Z"
   },
   {
    "duration": 8,
    "start_time": "2022-10-15T17:58:32.523Z"
   },
   {
    "duration": 13,
    "start_time": "2022-10-15T17:58:35.481Z"
   },
   {
    "duration": 7,
    "start_time": "2022-10-15T17:58:44.049Z"
   },
   {
    "duration": 10,
    "start_time": "2022-10-15T17:58:46.802Z"
   },
   {
    "duration": 8,
    "start_time": "2022-10-15T17:59:01.409Z"
   },
   {
    "duration": 9,
    "start_time": "2022-10-15T17:59:03.728Z"
   },
   {
    "duration": 429,
    "start_time": "2022-10-15T17:59:35.314Z"
   },
   {
    "duration": 68,
    "start_time": "2022-10-15T17:59:35.745Z"
   },
   {
    "duration": 10,
    "start_time": "2022-10-15T17:59:35.816Z"
   },
   {
    "duration": 5,
    "start_time": "2022-10-15T17:59:35.828Z"
   },
   {
    "duration": 18,
    "start_time": "2022-10-15T17:59:35.834Z"
   },
   {
    "duration": 4,
    "start_time": "2022-10-15T17:59:35.854Z"
   },
   {
    "duration": 9,
    "start_time": "2022-10-15T17:59:35.860Z"
   },
   {
    "duration": 11,
    "start_time": "2022-10-15T17:59:35.892Z"
   },
   {
    "duration": 30,
    "start_time": "2022-10-15T17:59:35.905Z"
   },
   {
    "duration": 12,
    "start_time": "2022-10-15T17:59:35.938Z"
   },
   {
    "duration": 44,
    "start_time": "2022-10-15T17:59:35.952Z"
   },
   {
    "duration": 7,
    "start_time": "2022-10-15T17:59:35.998Z"
   },
   {
    "duration": 64,
    "start_time": "2022-10-15T17:59:36.007Z"
   },
   {
    "duration": 32,
    "start_time": "2022-10-15T17:59:36.073Z"
   },
   {
    "duration": 14,
    "start_time": "2022-10-15T17:59:36.107Z"
   },
   {
    "duration": 44,
    "start_time": "2022-10-15T17:59:36.123Z"
   },
   {
    "duration": 23,
    "start_time": "2022-10-15T17:59:36.169Z"
   },
   {
    "duration": 39,
    "start_time": "2022-10-15T17:59:36.195Z"
   },
   {
    "duration": 20,
    "start_time": "2022-10-15T19:52:42.443Z"
   },
   {
    "duration": 7,
    "start_time": "2022-10-15T19:55:45.658Z"
   },
   {
    "duration": 21,
    "start_time": "2022-10-15T19:55:48.109Z"
   },
   {
    "duration": 437,
    "start_time": "2022-10-16T10:06:58.905Z"
   },
   {
    "duration": 83,
    "start_time": "2022-10-16T10:06:59.344Z"
   },
   {
    "duration": 10,
    "start_time": "2022-10-16T10:06:59.428Z"
   },
   {
    "duration": 6,
    "start_time": "2022-10-16T10:06:59.440Z"
   },
   {
    "duration": 16,
    "start_time": "2022-10-16T10:06:59.447Z"
   },
   {
    "duration": 4,
    "start_time": "2022-10-16T10:06:59.465Z"
   },
   {
    "duration": 4,
    "start_time": "2022-10-16T10:06:59.470Z"
   },
   {
    "duration": 9,
    "start_time": "2022-10-16T10:06:59.475Z"
   },
   {
    "duration": 19,
    "start_time": "2022-10-16T10:06:59.486Z"
   },
   {
    "duration": 5,
    "start_time": "2022-10-16T10:06:59.533Z"
   },
   {
    "duration": 15,
    "start_time": "2022-10-16T10:06:59.540Z"
   },
   {
    "duration": 4,
    "start_time": "2022-10-16T10:06:59.557Z"
   },
   {
    "duration": 36,
    "start_time": "2022-10-16T10:06:59.563Z"
   },
   {
    "duration": 41,
    "start_time": "2022-10-16T10:06:59.601Z"
   },
   {
    "duration": 6,
    "start_time": "2022-10-16T10:06:59.644Z"
   },
   {
    "duration": 4,
    "start_time": "2022-10-16T10:06:59.652Z"
   },
   {
    "duration": 24,
    "start_time": "2022-10-16T10:06:59.657Z"
   },
   {
    "duration": 20,
    "start_time": "2022-10-16T10:08:27.497Z"
   },
   {
    "duration": 21,
    "start_time": "2022-10-16T12:26:26.009Z"
   },
   {
    "duration": 19,
    "start_time": "2022-10-16T12:26:35.142Z"
   },
   {
    "duration": 1312,
    "start_time": "2022-10-16T16:54:27.621Z"
   },
   {
    "duration": 52,
    "start_time": "2022-10-16T18:16:58.645Z"
   },
   {
    "duration": 415,
    "start_time": "2022-10-16T18:17:07.868Z"
   },
   {
    "duration": 99,
    "start_time": "2022-10-16T18:17:44.291Z"
   },
   {
    "duration": 12,
    "start_time": "2022-10-16T18:18:15.835Z"
   },
   {
    "duration": 11,
    "start_time": "2022-10-16T18:18:28.626Z"
   },
   {
    "duration": 395,
    "start_time": "2022-10-16T18:18:43.482Z"
   },
   {
    "duration": 25,
    "start_time": "2022-10-16T18:19:38.773Z"
   },
   {
    "duration": 15,
    "start_time": "2022-10-16T19:28:10.988Z"
   },
   {
    "duration": 21,
    "start_time": "2022-10-16T19:28:54.007Z"
   },
   {
    "duration": 19,
    "start_time": "2022-10-16T19:40:50.046Z"
   },
   {
    "duration": 14,
    "start_time": "2022-10-16T19:45:26.031Z"
   },
   {
    "duration": 16,
    "start_time": "2022-10-16T19:46:48.950Z"
   },
   {
    "duration": 16,
    "start_time": "2022-10-16T19:47:23.139Z"
   },
   {
    "duration": 17,
    "start_time": "2022-10-16T19:47:33.196Z"
   },
   {
    "duration": 698,
    "start_time": "2022-10-16T19:49:54.985Z"
   },
   {
    "duration": 217,
    "start_time": "2022-10-16T19:50:22.288Z"
   },
   {
    "duration": 188,
    "start_time": "2022-10-16T19:51:05.854Z"
   },
   {
    "duration": 216,
    "start_time": "2022-10-16T19:51:56.086Z"
   },
   {
    "duration": 393,
    "start_time": "2022-10-16T19:52:30.892Z"
   },
   {
    "duration": 297,
    "start_time": "2022-10-16T19:52:50.346Z"
   },
   {
    "duration": 439,
    "start_time": "2022-10-17T15:11:31.928Z"
   },
   {
    "duration": 80,
    "start_time": "2022-10-17T15:11:32.368Z"
   },
   {
    "duration": 9,
    "start_time": "2022-10-17T15:11:32.449Z"
   },
   {
    "duration": 9,
    "start_time": "2022-10-17T15:11:32.460Z"
   },
   {
    "duration": 19,
    "start_time": "2022-10-17T15:11:32.470Z"
   },
   {
    "duration": 8,
    "start_time": "2022-10-17T15:11:32.491Z"
   },
   {
    "duration": 9,
    "start_time": "2022-10-17T15:11:32.500Z"
   },
   {
    "duration": 22,
    "start_time": "2022-10-17T15:11:32.511Z"
   },
   {
    "duration": 19,
    "start_time": "2022-10-17T15:11:32.534Z"
   },
   {
    "duration": 4,
    "start_time": "2022-10-17T15:11:32.556Z"
   },
   {
    "duration": 14,
    "start_time": "2022-10-17T15:11:32.562Z"
   },
   {
    "duration": 5,
    "start_time": "2022-10-17T15:11:32.578Z"
   },
   {
    "duration": 52,
    "start_time": "2022-10-17T15:11:32.585Z"
   },
   {
    "duration": 16,
    "start_time": "2022-10-17T15:11:32.638Z"
   },
   {
    "duration": 6,
    "start_time": "2022-10-17T15:11:32.656Z"
   },
   {
    "duration": 19,
    "start_time": "2022-10-17T15:11:32.663Z"
   },
   {
    "duration": 40,
    "start_time": "2022-10-17T15:11:32.684Z"
   },
   {
    "duration": 1099,
    "start_time": "2022-10-17T15:11:32.725Z"
   },
   {
    "duration": 211,
    "start_time": "2022-10-17T15:11:33.826Z"
   },
   {
    "duration": 203,
    "start_time": "2022-10-17T15:11:34.039Z"
   },
   {
    "duration": 395,
    "start_time": "2022-10-17T15:11:34.244Z"
   },
   {
    "duration": 0,
    "start_time": "2022-10-17T15:11:34.641Z"
   },
   {
    "duration": 0,
    "start_time": "2022-10-17T15:11:34.643Z"
   },
   {
    "duration": 308,
    "start_time": "2022-10-17T15:11:43.336Z"
   },
   {
    "duration": 422,
    "start_time": "2022-10-17T15:12:18.823Z"
   },
   {
    "duration": 214,
    "start_time": "2022-10-17T15:12:24.511Z"
   },
   {
    "duration": 355,
    "start_time": "2022-10-17T15:15:49.186Z"
   },
   {
    "duration": 301,
    "start_time": "2022-10-17T15:16:31.681Z"
   },
   {
    "duration": 308,
    "start_time": "2022-10-17T15:17:01.352Z"
   },
   {
    "duration": 306,
    "start_time": "2022-10-17T15:17:16.238Z"
   },
   {
    "duration": 30,
    "start_time": "2022-10-17T15:18:38.804Z"
   },
   {
    "duration": 200,
    "start_time": "2022-10-17T15:19:10.623Z"
   },
   {
    "duration": 287,
    "start_time": "2022-10-17T15:21:05.944Z"
   },
   {
    "duration": 170,
    "start_time": "2022-10-17T15:52:20.105Z"
   },
   {
    "duration": 163,
    "start_time": "2022-10-17T15:52:56.241Z"
   },
   {
    "duration": 200,
    "start_time": "2022-10-17T15:53:01.672Z"
   },
   {
    "duration": 217,
    "start_time": "2022-10-17T15:53:05.592Z"
   },
   {
    "duration": 190,
    "start_time": "2022-10-17T16:22:31.780Z"
   },
   {
    "duration": 198,
    "start_time": "2022-10-17T16:31:49.915Z"
   },
   {
    "duration": 195,
    "start_time": "2022-10-17T16:31:54.405Z"
   },
   {
    "duration": 275,
    "start_time": "2022-10-17T16:32:17.706Z"
   },
   {
    "duration": 205,
    "start_time": "2022-10-17T16:32:38.870Z"
   },
   {
    "duration": 153,
    "start_time": "2022-10-17T16:33:38.576Z"
   },
   {
    "duration": 180,
    "start_time": "2022-10-17T16:33:50.352Z"
   },
   {
    "duration": 129,
    "start_time": "2022-10-17T16:34:00.855Z"
   },
   {
    "duration": 218,
    "start_time": "2022-10-17T16:35:04.981Z"
   },
   {
    "duration": 140,
    "start_time": "2022-10-17T16:35:08.333Z"
   },
   {
    "duration": 317,
    "start_time": "2022-10-17T17:04:18.148Z"
   },
   {
    "duration": 8,
    "start_time": "2022-10-17T18:56:39.905Z"
   },
   {
    "duration": 6,
    "start_time": "2022-10-17T18:56:43.281Z"
   },
   {
    "duration": 8,
    "start_time": "2022-10-17T18:56:51.936Z"
   },
   {
    "duration": 375,
    "start_time": "2022-10-18T12:20:34.525Z"
   },
   {
    "duration": 226,
    "start_time": "2022-10-18T12:20:34.901Z"
   },
   {
    "duration": 9,
    "start_time": "2022-10-18T12:20:35.128Z"
   },
   {
    "duration": 12,
    "start_time": "2022-10-18T12:20:35.140Z"
   },
   {
    "duration": 36,
    "start_time": "2022-10-18T12:20:35.153Z"
   },
   {
    "duration": 8,
    "start_time": "2022-10-18T12:20:35.191Z"
   },
   {
    "duration": 31,
    "start_time": "2022-10-18T12:20:35.200Z"
   },
   {
    "duration": 14,
    "start_time": "2022-10-18T12:20:35.233Z"
   },
   {
    "duration": 19,
    "start_time": "2022-10-18T12:20:35.248Z"
   },
   {
    "duration": 4,
    "start_time": "2022-10-18T12:20:35.269Z"
   },
   {
    "duration": 41,
    "start_time": "2022-10-18T12:20:35.275Z"
   },
   {
    "duration": 5,
    "start_time": "2022-10-18T12:20:35.319Z"
   },
   {
    "duration": 52,
    "start_time": "2022-10-18T12:20:35.326Z"
   },
   {
    "duration": 37,
    "start_time": "2022-10-18T12:20:35.380Z"
   },
   {
    "duration": 8,
    "start_time": "2022-10-18T12:20:35.421Z"
   },
   {
    "duration": 26,
    "start_time": "2022-10-18T12:20:35.431Z"
   },
   {
    "duration": 15,
    "start_time": "2022-10-18T12:20:35.458Z"
   },
   {
    "duration": 1253,
    "start_time": "2022-10-18T12:20:35.475Z"
   },
   {
    "duration": 206,
    "start_time": "2022-10-18T12:20:36.730Z"
   },
   {
    "duration": 194,
    "start_time": "2022-10-18T12:20:36.937Z"
   },
   {
    "duration": 193,
    "start_time": "2022-10-18T12:20:37.132Z"
   },
   {
    "duration": 220,
    "start_time": "2022-10-18T12:20:37.327Z"
   },
   {
    "duration": 3,
    "start_time": "2022-10-18T12:20:37.549Z"
   },
   {
    "duration": 383,
    "start_time": "2022-10-18T12:20:37.554Z"
   },
   {
    "duration": 324,
    "start_time": "2022-10-18T12:20:37.940Z"
   },
   {
    "duration": 154,
    "start_time": "2022-10-18T12:20:38.266Z"
   },
   {
    "duration": 163,
    "start_time": "2022-10-18T12:20:38.422Z"
   },
   {
    "duration": 167,
    "start_time": "2022-10-18T12:20:38.589Z"
   },
   {
    "duration": 198,
    "start_time": "2022-10-18T12:20:38.757Z"
   },
   {
    "duration": 142,
    "start_time": "2022-10-18T12:20:38.957Z"
   },
   {
    "duration": 222,
    "start_time": "2022-10-18T12:20:39.105Z"
   },
   {
    "duration": 145,
    "start_time": "2022-10-18T12:20:39.328Z"
   },
   {
    "duration": 14,
    "start_time": "2022-10-18T12:23:43.423Z"
   },
   {
    "duration": 21,
    "start_time": "2022-10-18T12:24:22.017Z"
   },
   {
    "duration": 110,
    "start_time": "2022-10-18T12:37:44.215Z"
   },
   {
    "duration": 19,
    "start_time": "2022-10-18T12:38:07.470Z"
   },
   {
    "duration": 21,
    "start_time": "2022-10-18T12:42:38.534Z"
   },
   {
    "duration": 19,
    "start_time": "2022-10-18T12:44:59.683Z"
   },
   {
    "duration": 20,
    "start_time": "2022-10-18T13:00:29.953Z"
   },
   {
    "duration": 322,
    "start_time": "2022-10-18T13:22:52.003Z"
   },
   {
    "duration": 31,
    "start_time": "2022-10-18T13:23:57.948Z"
   },
   {
    "duration": 232,
    "start_time": "2022-10-18T13:24:01.860Z"
   },
   {
    "duration": 271,
    "start_time": "2022-10-18T13:24:09.105Z"
   },
   {
    "duration": 131,
    "start_time": "2022-10-18T13:24:12.720Z"
   },
   {
    "duration": 148,
    "start_time": "2022-10-18T13:24:15.625Z"
   },
   {
    "duration": 144,
    "start_time": "2022-10-18T13:24:18.448Z"
   },
   {
    "duration": 196,
    "start_time": "2022-10-18T13:24:21.304Z"
   },
   {
    "duration": 138,
    "start_time": "2022-10-18T13:24:24.264Z"
   },
   {
    "duration": 206,
    "start_time": "2022-10-18T13:24:29.640Z"
   },
   {
    "duration": 133,
    "start_time": "2022-10-18T13:24:34.128Z"
   },
   {
    "duration": 78,
    "start_time": "2022-10-18T13:28:52.315Z"
   },
   {
    "duration": 99,
    "start_time": "2022-10-18T13:34:07.650Z"
   },
   {
    "duration": 88,
    "start_time": "2022-10-18T13:35:19.679Z"
   },
   {
    "duration": 163,
    "start_time": "2022-10-18T13:37:49.943Z"
   },
   {
    "duration": 94,
    "start_time": "2022-10-18T13:38:07.879Z"
   },
   {
    "duration": 388,
    "start_time": "2022-10-18T13:38:37.251Z"
   },
   {
    "duration": 100,
    "start_time": "2022-10-18T13:38:59.757Z"
   },
   {
    "duration": 310,
    "start_time": "2022-10-18T13:39:30.805Z"
   },
   {
    "duration": 83,
    "start_time": "2022-10-18T13:39:51.716Z"
   },
   {
    "duration": 26,
    "start_time": "2022-10-18T13:40:02.226Z"
   },
   {
    "duration": 90,
    "start_time": "2022-10-18T13:40:11.323Z"
   },
   {
    "duration": 18,
    "start_time": "2022-10-18T13:40:28.779Z"
   },
   {
    "duration": 22,
    "start_time": "2022-10-18T13:40:38.506Z"
   },
   {
    "duration": 19,
    "start_time": "2022-10-18T13:40:56.045Z"
   },
   {
    "duration": 92,
    "start_time": "2022-10-18T13:44:52.047Z"
   },
   {
    "duration": 23,
    "start_time": "2022-10-18T14:10:31.280Z"
   },
   {
    "duration": 7,
    "start_time": "2022-10-18T14:13:09.574Z"
   },
   {
    "duration": 11,
    "start_time": "2022-10-18T14:13:19.687Z"
   },
   {
    "duration": 11,
    "start_time": "2022-10-18T14:13:35.681Z"
   },
   {
    "duration": 118,
    "start_time": "2022-10-18T14:18:30.603Z"
   },
   {
    "duration": 103,
    "start_time": "2022-10-18T14:18:50.794Z"
   },
   {
    "duration": 799,
    "start_time": "2022-10-18T14:19:19.978Z"
   },
   {
    "duration": 112,
    "start_time": "2022-10-18T14:19:35.544Z"
   },
   {
    "duration": 837,
    "start_time": "2022-10-18T14:19:40.488Z"
   },
   {
    "duration": 792,
    "start_time": "2022-10-18T14:23:49.194Z"
   },
   {
    "duration": 790,
    "start_time": "2022-10-18T14:24:06.050Z"
   },
   {
    "duration": 869,
    "start_time": "2022-10-18T14:24:27.691Z"
   },
   {
    "duration": 16,
    "start_time": "2022-10-18T14:24:57.968Z"
   },
   {
    "duration": 20,
    "start_time": "2022-10-18T14:25:20.890Z"
   },
   {
    "duration": 16,
    "start_time": "2022-10-18T14:26:14.548Z"
   },
   {
    "duration": 10,
    "start_time": "2022-10-18T14:26:31.037Z"
   },
   {
    "duration": 5,
    "start_time": "2022-10-18T14:28:04.227Z"
   },
   {
    "duration": 773,
    "start_time": "2022-10-18T14:28:20.049Z"
   },
   {
    "duration": 9,
    "start_time": "2022-10-18T14:28:24.313Z"
   },
   {
    "duration": 16,
    "start_time": "2022-10-18T14:29:11.583Z"
   },
   {
    "duration": 22,
    "start_time": "2022-10-18T14:29:32.369Z"
   },
   {
    "duration": 111,
    "start_time": "2022-10-18T14:30:11.103Z"
   },
   {
    "duration": 125,
    "start_time": "2022-10-18T14:30:14.390Z"
   },
   {
    "duration": 117,
    "start_time": "2022-10-18T14:35:36.668Z"
   },
   {
    "duration": 189,
    "start_time": "2022-10-18T14:51:46.631Z"
   },
   {
    "duration": 105,
    "start_time": "2022-10-18T14:51:52.479Z"
   },
   {
    "duration": 110,
    "start_time": "2022-10-18T14:52:04.191Z"
   },
   {
    "duration": 117,
    "start_time": "2022-10-18T14:52:13.207Z"
   },
   {
    "duration": 8,
    "start_time": "2022-10-18T14:55:20.586Z"
   },
   {
    "duration": 236,
    "start_time": "2022-10-18T14:56:04.368Z"
   },
   {
    "duration": 241,
    "start_time": "2022-10-18T14:56:39.199Z"
   },
   {
    "duration": 234,
    "start_time": "2022-10-18T14:57:45.245Z"
   },
   {
    "duration": 14,
    "start_time": "2022-10-18T14:58:06.246Z"
   },
   {
    "duration": 7,
    "start_time": "2022-10-18T15:00:08.664Z"
   },
   {
    "duration": 7,
    "start_time": "2022-10-18T15:00:56.808Z"
   },
   {
    "duration": 11,
    "start_time": "2022-10-18T15:03:04.937Z"
   },
   {
    "duration": 228,
    "start_time": "2022-10-18T15:06:58.716Z"
   },
   {
    "duration": 244,
    "start_time": "2022-10-18T15:08:58.595Z"
   },
   {
    "duration": 25,
    "start_time": "2022-10-18T15:09:29.895Z"
   },
   {
    "duration": 109,
    "start_time": "2022-10-18T15:11:59.916Z"
   },
   {
    "duration": 119,
    "start_time": "2022-10-18T15:12:02.901Z"
   },
   {
    "duration": 140,
    "start_time": "2022-10-18T15:12:07.948Z"
   },
   {
    "duration": 229,
    "start_time": "2022-10-18T15:12:10.675Z"
   },
   {
    "duration": 11,
    "start_time": "2022-10-18T15:14:14.599Z"
   },
   {
    "duration": 23,
    "start_time": "2022-10-18T15:15:15.157Z"
   },
   {
    "duration": 110,
    "start_time": "2022-10-18T15:15:35.069Z"
   },
   {
    "duration": 11,
    "start_time": "2022-10-18T15:15:40.796Z"
   },
   {
    "duration": 5,
    "start_time": "2022-10-18T15:15:48.579Z"
   },
   {
    "duration": 8,
    "start_time": "2022-10-18T15:17:59.715Z"
   },
   {
    "duration": 9,
    "start_time": "2022-10-18T15:19:13.806Z"
   },
   {
    "duration": 6,
    "start_time": "2022-10-18T15:43:36.237Z"
   },
   {
    "duration": 10,
    "start_time": "2022-10-18T15:43:39.015Z"
   },
   {
    "duration": 9,
    "start_time": "2022-10-18T15:43:42.870Z"
   },
   {
    "duration": 7,
    "start_time": "2022-10-18T15:46:19.922Z"
   },
   {
    "duration": 5,
    "start_time": "2022-10-18T15:47:05.992Z"
   },
   {
    "duration": 9,
    "start_time": "2022-10-18T15:47:08.145Z"
   },
   {
    "duration": 9,
    "start_time": "2022-10-18T15:47:11.177Z"
   },
   {
    "duration": 12,
    "start_time": "2022-10-18T16:14:06.392Z"
   },
   {
    "duration": 23,
    "start_time": "2022-10-18T16:14:16.974Z"
   },
   {
    "duration": 30,
    "start_time": "2022-10-18T16:20:46.452Z"
   },
   {
    "duration": 23,
    "start_time": "2022-10-18T16:21:08.243Z"
   },
   {
    "duration": 29,
    "start_time": "2022-10-18T16:21:38.421Z"
   },
   {
    "duration": 23,
    "start_time": "2022-10-18T16:22:05.203Z"
   },
   {
    "duration": 25,
    "start_time": "2022-10-18T16:32:08.033Z"
   },
   {
    "duration": 25,
    "start_time": "2022-10-18T16:32:14.992Z"
   },
   {
    "duration": 28,
    "start_time": "2022-10-18T16:32:41.337Z"
   },
   {
    "duration": 17,
    "start_time": "2022-10-18T16:34:00.706Z"
   },
   {
    "duration": 82,
    "start_time": "2022-10-18T17:00:45.252Z"
   },
   {
    "duration": 33,
    "start_time": "2022-10-18T17:00:50.737Z"
   },
   {
    "duration": 102,
    "start_time": "2022-10-18T17:09:45.384Z"
   },
   {
    "duration": 24,
    "start_time": "2022-10-18T17:09:58.024Z"
   },
   {
    "duration": 28,
    "start_time": "2022-10-18T17:10:16.590Z"
   },
   {
    "duration": 21,
    "start_time": "2022-10-18T17:10:46.342Z"
   },
   {
    "duration": 1146,
    "start_time": "2022-10-18T17:11:11.669Z"
   },
   {
    "duration": 1279,
    "start_time": "2022-10-18T17:11:34.629Z"
   },
   {
    "duration": 20,
    "start_time": "2022-10-18T17:12:03.059Z"
   },
   {
    "duration": 21,
    "start_time": "2022-10-18T17:12:07.500Z"
   },
   {
    "duration": 34,
    "start_time": "2022-10-18T17:12:39.629Z"
   },
   {
    "duration": 27,
    "start_time": "2022-10-18T17:13:07.399Z"
   },
   {
    "duration": 18,
    "start_time": "2022-10-18T17:24:37.550Z"
   },
   {
    "duration": 9,
    "start_time": "2022-10-18T17:25:55.539Z"
   },
   {
    "duration": 6,
    "start_time": "2022-10-18T17:26:58.377Z"
   },
   {
    "duration": 76,
    "start_time": "2022-10-18T17:28:16.670Z"
   },
   {
    "duration": 7,
    "start_time": "2022-10-18T17:32:37.007Z"
   },
   {
    "duration": 13,
    "start_time": "2022-10-18T18:38:51.747Z"
   },
   {
    "duration": 6,
    "start_time": "2022-10-18T18:39:55.409Z"
   },
   {
    "duration": 7,
    "start_time": "2022-10-18T18:40:00.576Z"
   },
   {
    "duration": 7,
    "start_time": "2022-10-18T18:40:54.967Z"
   },
   {
    "duration": 7,
    "start_time": "2022-10-18T18:41:19.102Z"
   },
   {
    "duration": 77,
    "start_time": "2022-10-18T18:47:00.668Z"
   },
   {
    "duration": 8,
    "start_time": "2022-10-18T18:54:45.663Z"
   },
   {
    "duration": 11,
    "start_time": "2022-10-18T18:54:59.265Z"
   },
   {
    "duration": 6,
    "start_time": "2022-10-18T18:55:01.758Z"
   },
   {
    "duration": 6,
    "start_time": "2022-10-18T18:55:04.957Z"
   },
   {
    "duration": 6,
    "start_time": "2022-10-18T18:55:07.462Z"
   },
   {
    "duration": 2,
    "start_time": "2022-10-18T19:35:11.199Z"
   },
   {
    "duration": 8,
    "start_time": "2022-10-18T19:48:35.654Z"
   },
   {
    "duration": 11,
    "start_time": "2022-10-18T19:49:20.240Z"
   },
   {
    "duration": 6,
    "start_time": "2022-10-18T19:50:01.591Z"
   },
   {
    "duration": 6,
    "start_time": "2022-10-18T19:50:06.072Z"
   },
   {
    "duration": 4,
    "start_time": "2022-10-18T19:50:15.871Z"
   },
   {
    "duration": 7,
    "start_time": "2022-10-18T19:50:19.334Z"
   },
   {
    "duration": 6,
    "start_time": "2022-10-18T19:52:43.157Z"
   },
   {
    "duration": 7,
    "start_time": "2022-10-18T19:52:51.490Z"
   },
   {
    "duration": 7,
    "start_time": "2022-10-18T19:52:55.367Z"
   },
   {
    "duration": 8,
    "start_time": "2022-10-18T20:14:24.329Z"
   },
   {
    "duration": 75,
    "start_time": "2022-10-18T20:22:00.758Z"
   },
   {
    "duration": 4,
    "start_time": "2022-10-18T20:27:24.829Z"
   },
   {
    "duration": 1378,
    "start_time": "2022-10-19T07:09:09.033Z"
   },
   {
    "duration": 80,
    "start_time": "2022-10-19T07:09:10.413Z"
   },
   {
    "duration": 9,
    "start_time": "2022-10-19T07:09:10.494Z"
   },
   {
    "duration": 5,
    "start_time": "2022-10-19T07:09:10.505Z"
   },
   {
    "duration": 15,
    "start_time": "2022-10-19T07:09:10.512Z"
   },
   {
    "duration": 4,
    "start_time": "2022-10-19T07:09:10.528Z"
   },
   {
    "duration": 123,
    "start_time": "2022-10-19T07:09:10.534Z"
   },
   {
    "duration": 0,
    "start_time": "2022-10-19T07:09:10.660Z"
   },
   {
    "duration": 0,
    "start_time": "2022-10-19T07:09:10.661Z"
   },
   {
    "duration": 0,
    "start_time": "2022-10-19T07:09:10.662Z"
   },
   {
    "duration": 0,
    "start_time": "2022-10-19T07:09:10.662Z"
   },
   {
    "duration": 0,
    "start_time": "2022-10-19T07:09:10.663Z"
   },
   {
    "duration": 0,
    "start_time": "2022-10-19T07:09:10.664Z"
   },
   {
    "duration": 0,
    "start_time": "2022-10-19T07:09:10.665Z"
   },
   {
    "duration": 0,
    "start_time": "2022-10-19T07:09:10.665Z"
   },
   {
    "duration": 0,
    "start_time": "2022-10-19T07:09:10.666Z"
   },
   {
    "duration": 0,
    "start_time": "2022-10-19T07:09:10.667Z"
   },
   {
    "duration": 0,
    "start_time": "2022-10-19T07:09:10.667Z"
   },
   {
    "duration": 0,
    "start_time": "2022-10-19T07:09:10.668Z"
   },
   {
    "duration": 0,
    "start_time": "2022-10-19T07:09:10.669Z"
   },
   {
    "duration": 0,
    "start_time": "2022-10-19T07:09:10.670Z"
   },
   {
    "duration": 0,
    "start_time": "2022-10-19T07:09:10.670Z"
   },
   {
    "duration": 0,
    "start_time": "2022-10-19T07:09:10.671Z"
   },
   {
    "duration": 0,
    "start_time": "2022-10-19T07:09:10.672Z"
   },
   {
    "duration": 0,
    "start_time": "2022-10-19T07:09:10.673Z"
   },
   {
    "duration": 0,
    "start_time": "2022-10-19T07:09:10.674Z"
   },
   {
    "duration": 0,
    "start_time": "2022-10-19T07:09:10.676Z"
   },
   {
    "duration": 0,
    "start_time": "2022-10-19T07:09:10.677Z"
   },
   {
    "duration": 0,
    "start_time": "2022-10-19T07:09:10.678Z"
   },
   {
    "duration": 0,
    "start_time": "2022-10-19T07:09:10.709Z"
   },
   {
    "duration": 0,
    "start_time": "2022-10-19T07:09:10.711Z"
   },
   {
    "duration": 0,
    "start_time": "2022-10-19T07:09:10.712Z"
   },
   {
    "duration": 0,
    "start_time": "2022-10-19T07:09:10.714Z"
   },
   {
    "duration": 0,
    "start_time": "2022-10-19T07:09:10.715Z"
   },
   {
    "duration": 0,
    "start_time": "2022-10-19T07:09:10.716Z"
   },
   {
    "duration": 0,
    "start_time": "2022-10-19T07:09:10.717Z"
   },
   {
    "duration": 0,
    "start_time": "2022-10-19T07:09:10.719Z"
   },
   {
    "duration": 0,
    "start_time": "2022-10-19T07:09:10.720Z"
   },
   {
    "duration": 0,
    "start_time": "2022-10-19T07:09:10.721Z"
   },
   {
    "duration": 0,
    "start_time": "2022-10-19T07:09:10.722Z"
   },
   {
    "duration": 0,
    "start_time": "2022-10-19T07:09:10.723Z"
   },
   {
    "duration": 0,
    "start_time": "2022-10-19T07:09:10.725Z"
   },
   {
    "duration": 0,
    "start_time": "2022-10-19T07:09:10.726Z"
   },
   {
    "duration": 0,
    "start_time": "2022-10-19T07:09:10.727Z"
   },
   {
    "duration": 0,
    "start_time": "2022-10-19T07:09:10.729Z"
   },
   {
    "duration": 0,
    "start_time": "2022-10-19T07:09:10.730Z"
   },
   {
    "duration": 0,
    "start_time": "2022-10-19T07:09:10.731Z"
   },
   {
    "duration": 0,
    "start_time": "2022-10-19T07:09:10.732Z"
   },
   {
    "duration": 0,
    "start_time": "2022-10-19T07:09:10.734Z"
   },
   {
    "duration": 0,
    "start_time": "2022-10-19T07:09:10.735Z"
   },
   {
    "duration": 0,
    "start_time": "2022-10-19T07:09:10.736Z"
   },
   {
    "duration": 56,
    "start_time": "2022-10-19T07:12:50.092Z"
   },
   {
    "duration": 1398,
    "start_time": "2022-10-19T09:37:22.024Z"
   },
   {
    "duration": 199,
    "start_time": "2022-10-19T09:37:23.424Z"
   },
   {
    "duration": 13,
    "start_time": "2022-10-19T09:37:23.625Z"
   },
   {
    "duration": 5,
    "start_time": "2022-10-19T09:37:23.640Z"
   },
   {
    "duration": 21,
    "start_time": "2022-10-19T09:37:23.646Z"
   },
   {
    "duration": 5,
    "start_time": "2022-10-19T09:37:23.669Z"
   },
   {
    "duration": 25,
    "start_time": "2022-10-19T09:37:23.676Z"
   },
   {
    "duration": 10,
    "start_time": "2022-10-19T09:37:23.703Z"
   },
   {
    "duration": 5,
    "start_time": "2022-10-19T09:37:23.715Z"
   },
   {
    "duration": 12,
    "start_time": "2022-10-19T09:37:23.723Z"
   },
   {
    "duration": 59,
    "start_time": "2022-10-19T09:37:23.737Z"
   },
   {
    "duration": 18,
    "start_time": "2022-10-19T09:37:23.797Z"
   },
   {
    "duration": 243,
    "start_time": "2022-10-19T09:37:23.817Z"
   },
   {
    "duration": 220,
    "start_time": "2022-10-19T09:37:24.062Z"
   },
   {
    "duration": 215,
    "start_time": "2022-10-19T09:37:24.284Z"
   },
   {
    "duration": 219,
    "start_time": "2022-10-19T09:37:24.500Z"
   },
   {
    "duration": 233,
    "start_time": "2022-10-19T09:37:24.721Z"
   },
   {
    "duration": 45,
    "start_time": "2022-10-19T09:37:24.955Z"
   },
   {
    "duration": 289,
    "start_time": "2022-10-19T09:37:25.002Z"
   },
   {
    "duration": 218,
    "start_time": "2022-10-19T09:37:25.295Z"
   },
   {
    "duration": 248,
    "start_time": "2022-10-19T09:37:25.514Z"
   },
   {
    "duration": 182,
    "start_time": "2022-10-19T09:37:25.764Z"
   },
   {
    "duration": 180,
    "start_time": "2022-10-19T09:37:25.948Z"
   },
   {
    "duration": 214,
    "start_time": "2022-10-19T09:37:26.130Z"
   },
   {
    "duration": 169,
    "start_time": "2022-10-19T09:37:26.345Z"
   },
   {
    "duration": 306,
    "start_time": "2022-10-19T09:37:26.516Z"
   },
   {
    "duration": 186,
    "start_time": "2022-10-19T09:37:26.825Z"
   },
   {
    "duration": 150,
    "start_time": "2022-10-19T09:37:27.015Z"
   },
   {
    "duration": 138,
    "start_time": "2022-10-19T09:37:27.167Z"
   },
   {
    "duration": 144,
    "start_time": "2022-10-19T09:37:27.308Z"
   },
   {
    "duration": 6,
    "start_time": "2022-10-19T09:37:27.453Z"
   },
   {
    "duration": 11,
    "start_time": "2022-10-19T09:37:27.461Z"
   },
   {
    "duration": 31,
    "start_time": "2022-10-19T09:37:27.473Z"
   },
   {
    "duration": 27,
    "start_time": "2022-10-19T09:37:27.505Z"
   },
   {
    "duration": 31,
    "start_time": "2022-10-19T09:37:27.534Z"
   },
   {
    "duration": 32,
    "start_time": "2022-10-19T09:37:27.566Z"
   },
   {
    "duration": 19,
    "start_time": "2022-10-19T09:37:27.600Z"
   },
   {
    "duration": 7,
    "start_time": "2022-10-19T09:37:27.621Z"
   },
   {
    "duration": 14,
    "start_time": "2022-10-19T09:37:27.630Z"
   },
   {
    "duration": 18,
    "start_time": "2022-10-19T09:37:27.645Z"
   },
   {
    "duration": 35,
    "start_time": "2022-10-19T09:37:27.664Z"
   },
   {
    "duration": 11,
    "start_time": "2022-10-19T09:37:27.701Z"
   },
   {
    "duration": 10,
    "start_time": "2022-10-19T09:37:27.714Z"
   },
   {
    "duration": 15,
    "start_time": "2022-10-19T09:37:27.726Z"
   },
   {
    "duration": 6,
    "start_time": "2022-10-19T09:37:27.743Z"
   },
   {
    "duration": 11,
    "start_time": "2022-10-19T09:37:27.750Z"
   },
   {
    "duration": 37,
    "start_time": "2022-10-19T09:37:27.763Z"
   },
   {
    "duration": 9,
    "start_time": "2022-10-19T09:37:27.802Z"
   },
   {
    "duration": 68,
    "start_time": "2022-10-19T09:37:27.813Z"
   },
   {
    "duration": 11,
    "start_time": "2022-10-19T09:37:27.883Z"
   },
   {
    "duration": 1196,
    "start_time": "2022-10-19T09:54:40.808Z"
   },
   {
    "duration": 65,
    "start_time": "2022-10-19T09:54:42.006Z"
   },
   {
    "duration": 19,
    "start_time": "2022-10-19T09:54:42.073Z"
   },
   {
    "duration": 5,
    "start_time": "2022-10-19T09:54:42.093Z"
   },
   {
    "duration": 16,
    "start_time": "2022-10-19T09:54:42.100Z"
   },
   {
    "duration": 4,
    "start_time": "2022-10-19T09:54:42.118Z"
   },
   {
    "duration": 10,
    "start_time": "2022-10-19T09:54:42.124Z"
   },
   {
    "duration": 12,
    "start_time": "2022-10-19T09:54:42.136Z"
   },
   {
    "duration": 5,
    "start_time": "2022-10-19T09:54:42.150Z"
   },
   {
    "duration": 42,
    "start_time": "2022-10-19T09:54:42.157Z"
   },
   {
    "duration": 19,
    "start_time": "2022-10-19T09:54:42.201Z"
   },
   {
    "duration": 18,
    "start_time": "2022-10-19T09:54:42.222Z"
   },
   {
    "duration": 259,
    "start_time": "2022-10-19T09:54:42.242Z"
   },
   {
    "duration": 230,
    "start_time": "2022-10-19T09:54:42.504Z"
   },
   {
    "duration": 240,
    "start_time": "2022-10-19T09:54:42.736Z"
   },
   {
    "duration": 227,
    "start_time": "2022-10-19T09:54:42.978Z"
   },
   {
    "duration": 202,
    "start_time": "2022-10-19T09:54:43.207Z"
   },
   {
    "duration": 36,
    "start_time": "2022-10-19T09:54:43.411Z"
   },
   {
    "duration": 331,
    "start_time": "2022-10-19T09:54:43.449Z"
   },
   {
    "duration": 250,
    "start_time": "2022-10-19T09:54:43.783Z"
   },
   {
    "duration": 228,
    "start_time": "2022-10-19T09:54:44.035Z"
   },
   {
    "duration": 177,
    "start_time": "2022-10-19T09:54:44.265Z"
   },
   {
    "duration": 163,
    "start_time": "2022-10-19T09:54:44.444Z"
   },
   {
    "duration": 209,
    "start_time": "2022-10-19T09:54:44.609Z"
   },
   {
    "duration": 160,
    "start_time": "2022-10-19T09:54:44.820Z"
   },
   {
    "duration": 216,
    "start_time": "2022-10-19T09:54:44.982Z"
   },
   {
    "duration": 148,
    "start_time": "2022-10-19T09:54:45.200Z"
   },
   {
    "duration": 119,
    "start_time": "2022-10-19T09:54:45.350Z"
   },
   {
    "duration": 135,
    "start_time": "2022-10-19T09:54:45.470Z"
   },
   {
    "duration": 135,
    "start_time": "2022-10-19T09:54:45.607Z"
   },
   {
    "duration": 7,
    "start_time": "2022-10-19T09:54:45.744Z"
   },
   {
    "duration": 16,
    "start_time": "2022-10-19T09:54:45.754Z"
   },
   {
    "duration": 28,
    "start_time": "2022-10-19T09:54:45.772Z"
   },
   {
    "duration": 32,
    "start_time": "2022-10-19T09:54:45.802Z"
   },
   {
    "duration": 29,
    "start_time": "2022-10-19T09:54:45.836Z"
   },
   {
    "duration": 41,
    "start_time": "2022-10-19T09:54:45.867Z"
   },
   {
    "duration": 20,
    "start_time": "2022-10-19T09:54:45.909Z"
   },
   {
    "duration": 6,
    "start_time": "2022-10-19T09:54:45.931Z"
   },
   {
    "duration": 8,
    "start_time": "2022-10-19T09:54:45.939Z"
   },
   {
    "duration": 48,
    "start_time": "2022-10-19T09:54:45.948Z"
   },
   {
    "duration": 8,
    "start_time": "2022-10-19T09:54:46.000Z"
   },
   {
    "duration": 13,
    "start_time": "2022-10-19T09:54:46.010Z"
   },
   {
    "duration": 11,
    "start_time": "2022-10-19T09:54:46.025Z"
   },
   {
    "duration": 17,
    "start_time": "2022-10-19T09:54:46.037Z"
   },
   {
    "duration": 6,
    "start_time": "2022-10-19T09:54:46.056Z"
   },
   {
    "duration": 8,
    "start_time": "2022-10-19T09:54:46.094Z"
   },
   {
    "duration": 16,
    "start_time": "2022-10-19T09:54:46.104Z"
   },
   {
    "duration": 17,
    "start_time": "2022-10-19T09:54:46.121Z"
   },
   {
    "duration": 9,
    "start_time": "2022-10-19T09:54:46.139Z"
   },
   {
    "duration": 7,
    "start_time": "2022-10-19T09:54:46.150Z"
   },
   {
    "duration": 1359,
    "start_time": "2022-10-19T11:08:51.002Z"
   },
   {
    "duration": 212,
    "start_time": "2022-10-19T11:08:52.364Z"
   },
   {
    "duration": 19,
    "start_time": "2022-10-19T11:08:52.578Z"
   },
   {
    "duration": 5,
    "start_time": "2022-10-19T11:08:52.600Z"
   },
   {
    "duration": 22,
    "start_time": "2022-10-19T11:08:52.607Z"
   },
   {
    "duration": 20,
    "start_time": "2022-10-19T11:08:52.631Z"
   },
   {
    "duration": 15,
    "start_time": "2022-10-19T11:08:52.654Z"
   },
   {
    "duration": 14,
    "start_time": "2022-10-19T11:08:52.671Z"
   },
   {
    "duration": 20,
    "start_time": "2022-10-19T11:08:52.688Z"
   },
   {
    "duration": 12,
    "start_time": "2022-10-19T11:08:52.712Z"
   },
   {
    "duration": 33,
    "start_time": "2022-10-19T11:08:52.726Z"
   },
   {
    "duration": 19,
    "start_time": "2022-10-19T11:08:52.761Z"
   },
   {
    "duration": 280,
    "start_time": "2022-10-19T11:08:52.781Z"
   },
   {
    "duration": 237,
    "start_time": "2022-10-19T11:08:53.064Z"
   },
   {
    "duration": 238,
    "start_time": "2022-10-19T11:08:53.303Z"
   },
   {
    "duration": 259,
    "start_time": "2022-10-19T11:08:53.543Z"
   },
   {
    "duration": 235,
    "start_time": "2022-10-19T11:08:53.804Z"
   },
   {
    "duration": 44,
    "start_time": "2022-10-19T11:08:54.047Z"
   },
   {
    "duration": 271,
    "start_time": "2022-10-19T11:08:54.094Z"
   },
   {
    "duration": 208,
    "start_time": "2022-10-19T11:08:54.367Z"
   },
   {
    "duration": 212,
    "start_time": "2022-10-19T11:08:54.578Z"
   },
   {
    "duration": 262,
    "start_time": "2022-10-19T11:08:54.796Z"
   },
   {
    "duration": 165,
    "start_time": "2022-10-19T11:08:55.060Z"
   },
   {
    "duration": 208,
    "start_time": "2022-10-19T11:08:55.227Z"
   },
   {
    "duration": 143,
    "start_time": "2022-10-19T11:08:55.436Z"
   },
   {
    "duration": 224,
    "start_time": "2022-10-19T11:08:55.581Z"
   },
   {
    "duration": 165,
    "start_time": "2022-10-19T11:08:55.807Z"
   },
   {
    "duration": 128,
    "start_time": "2022-10-19T11:08:55.976Z"
   },
   {
    "duration": 138,
    "start_time": "2022-10-19T11:08:56.107Z"
   },
   {
    "duration": 149,
    "start_time": "2022-10-19T11:08:56.248Z"
   },
   {
    "duration": 6,
    "start_time": "2022-10-19T11:08:56.399Z"
   },
   {
    "duration": 18,
    "start_time": "2022-10-19T11:08:56.407Z"
   },
   {
    "duration": 15,
    "start_time": "2022-10-19T11:08:56.427Z"
   },
   {
    "duration": 59,
    "start_time": "2022-10-19T11:08:56.444Z"
   },
   {
    "duration": 49,
    "start_time": "2022-10-19T11:08:56.506Z"
   },
   {
    "duration": 16,
    "start_time": "2022-10-19T11:08:56.557Z"
   },
   {
    "duration": 29,
    "start_time": "2022-10-19T11:08:56.575Z"
   },
   {
    "duration": 16,
    "start_time": "2022-10-19T11:08:56.606Z"
   },
   {
    "duration": 20,
    "start_time": "2022-10-19T11:08:56.624Z"
   },
   {
    "duration": 21,
    "start_time": "2022-10-19T11:08:56.646Z"
   },
   {
    "duration": 10,
    "start_time": "2022-10-19T11:08:56.669Z"
   },
   {
    "duration": 23,
    "start_time": "2022-10-19T11:08:56.681Z"
   },
   {
    "duration": 20,
    "start_time": "2022-10-19T11:08:56.706Z"
   },
   {
    "duration": 21,
    "start_time": "2022-10-19T11:08:56.728Z"
   },
   {
    "duration": 8,
    "start_time": "2022-10-19T11:08:56.752Z"
   },
   {
    "duration": 13,
    "start_time": "2022-10-19T11:08:56.761Z"
   },
   {
    "duration": 10,
    "start_time": "2022-10-19T11:08:56.776Z"
   },
   {
    "duration": 14,
    "start_time": "2022-10-19T11:08:56.788Z"
   },
   {
    "duration": 13,
    "start_time": "2022-10-19T11:08:56.804Z"
   },
   {
    "duration": 14,
    "start_time": "2022-10-19T11:08:56.819Z"
   },
   {
    "duration": 9,
    "start_time": "2022-10-19T11:13:36.078Z"
   },
   {
    "duration": 1103,
    "start_time": "2022-10-19T11:14:19.691Z"
   },
   {
    "duration": 68,
    "start_time": "2022-10-19T11:14:20.796Z"
   },
   {
    "duration": 20,
    "start_time": "2022-10-19T11:14:20.865Z"
   },
   {
    "duration": 4,
    "start_time": "2022-10-19T11:14:20.887Z"
   },
   {
    "duration": 16,
    "start_time": "2022-10-19T11:14:20.892Z"
   },
   {
    "duration": 4,
    "start_time": "2022-10-19T11:14:20.910Z"
   },
   {
    "duration": 8,
    "start_time": "2022-10-19T11:14:20.915Z"
   },
   {
    "duration": 8,
    "start_time": "2022-10-19T11:14:20.925Z"
   },
   {
    "duration": 4,
    "start_time": "2022-10-19T11:14:20.935Z"
   },
   {
    "duration": 13,
    "start_time": "2022-10-19T11:14:20.941Z"
   },
   {
    "duration": 6,
    "start_time": "2022-10-19T11:14:20.956Z"
   },
   {
    "duration": 47,
    "start_time": "2022-10-19T11:14:20.964Z"
   },
   {
    "duration": 16,
    "start_time": "2022-10-19T11:14:21.013Z"
   },
   {
    "duration": 216,
    "start_time": "2022-10-19T11:14:21.031Z"
   },
   {
    "duration": 211,
    "start_time": "2022-10-19T11:14:21.249Z"
   },
   {
    "duration": 197,
    "start_time": "2022-10-19T11:14:21.461Z"
   },
   {
    "duration": 211,
    "start_time": "2022-10-19T11:14:21.659Z"
   },
   {
    "duration": 189,
    "start_time": "2022-10-19T11:14:21.872Z"
   },
   {
    "duration": 43,
    "start_time": "2022-10-19T11:14:22.062Z"
   },
   {
    "duration": 273,
    "start_time": "2022-10-19T11:14:22.106Z"
   },
   {
    "duration": 228,
    "start_time": "2022-10-19T11:14:22.381Z"
   },
   {
    "duration": 235,
    "start_time": "2022-10-19T11:14:22.611Z"
   },
   {
    "duration": 196,
    "start_time": "2022-10-19T11:14:22.848Z"
   },
   {
    "duration": 164,
    "start_time": "2022-10-19T11:14:23.046Z"
   },
   {
    "duration": 203,
    "start_time": "2022-10-19T11:14:23.212Z"
   },
   {
    "duration": 144,
    "start_time": "2022-10-19T11:14:23.417Z"
   },
   {
    "duration": 217,
    "start_time": "2022-10-19T11:14:23.562Z"
   },
   {
    "duration": 161,
    "start_time": "2022-10-19T11:14:23.782Z"
   },
   {
    "duration": 113,
    "start_time": "2022-10-19T11:14:23.945Z"
   },
   {
    "duration": 140,
    "start_time": "2022-10-19T11:14:24.060Z"
   },
   {
    "duration": 140,
    "start_time": "2022-10-19T11:14:24.201Z"
   },
   {
    "duration": 7,
    "start_time": "2022-10-19T11:14:24.343Z"
   },
   {
    "duration": 17,
    "start_time": "2022-10-19T11:14:24.352Z"
   },
   {
    "duration": 29,
    "start_time": "2022-10-19T11:14:24.370Z"
   },
   {
    "duration": 28,
    "start_time": "2022-10-19T11:14:24.401Z"
   },
   {
    "duration": 36,
    "start_time": "2022-10-19T11:14:24.430Z"
   },
   {
    "duration": 29,
    "start_time": "2022-10-19T11:14:24.468Z"
   },
   {
    "duration": 27,
    "start_time": "2022-10-19T11:14:24.499Z"
   },
   {
    "duration": 7,
    "start_time": "2022-10-19T11:14:24.528Z"
   },
   {
    "duration": 13,
    "start_time": "2022-10-19T11:14:24.537Z"
   },
   {
    "duration": 21,
    "start_time": "2022-10-19T11:14:24.552Z"
   },
   {
    "duration": 6,
    "start_time": "2022-10-19T11:14:24.574Z"
   },
   {
    "duration": 18,
    "start_time": "2022-10-19T11:14:24.582Z"
   },
   {
    "duration": 11,
    "start_time": "2022-10-19T11:14:24.602Z"
   },
   {
    "duration": 16,
    "start_time": "2022-10-19T11:14:24.615Z"
   },
   {
    "duration": 7,
    "start_time": "2022-10-19T11:14:24.632Z"
   },
   {
    "duration": 10,
    "start_time": "2022-10-19T11:14:24.641Z"
   },
   {
    "duration": 12,
    "start_time": "2022-10-19T11:14:24.652Z"
   },
   {
    "duration": 29,
    "start_time": "2022-10-19T11:14:24.666Z"
   },
   {
    "duration": 9,
    "start_time": "2022-10-19T11:14:24.697Z"
   },
   {
    "duration": 10,
    "start_time": "2022-10-19T11:14:24.708Z"
   },
   {
    "duration": 130,
    "start_time": "2022-10-19T11:23:25.842Z"
   },
   {
    "duration": 250,
    "start_time": "2022-10-19T11:23:46.726Z"
   },
   {
    "duration": 232,
    "start_time": "2022-10-19T11:24:08.231Z"
   },
   {
    "duration": 263,
    "start_time": "2022-10-19T11:25:37.537Z"
   },
   {
    "duration": 196,
    "start_time": "2022-10-19T11:26:14.652Z"
   },
   {
    "duration": 193,
    "start_time": "2022-10-19T11:27:07.815Z"
   },
   {
    "duration": 198,
    "start_time": "2022-10-19T11:29:12.339Z"
   },
   {
    "duration": 148,
    "start_time": "2022-10-19T11:36:22.114Z"
   },
   {
    "duration": 44,
    "start_time": "2022-10-19T17:12:00.685Z"
   },
   {
    "duration": 6,
    "start_time": "2022-10-19T18:07:25.523Z"
   },
   {
    "duration": 1263,
    "start_time": "2022-10-19T18:07:43.764Z"
   },
   {
    "duration": 112,
    "start_time": "2022-10-19T18:07:45.029Z"
   },
   {
    "duration": 17,
    "start_time": "2022-10-19T18:07:45.142Z"
   },
   {
    "duration": 3,
    "start_time": "2022-10-19T18:07:45.161Z"
   },
   {
    "duration": 19,
    "start_time": "2022-10-19T18:07:45.166Z"
   },
   {
    "duration": 4,
    "start_time": "2022-10-19T18:07:45.186Z"
   },
   {
    "duration": 31,
    "start_time": "2022-10-19T18:07:45.192Z"
   },
   {
    "duration": 7,
    "start_time": "2022-10-19T18:07:45.225Z"
   },
   {
    "duration": 9,
    "start_time": "2022-10-19T18:07:45.234Z"
   },
   {
    "duration": 13,
    "start_time": "2022-10-19T18:07:45.245Z"
   },
   {
    "duration": 6,
    "start_time": "2022-10-19T18:07:45.260Z"
   },
   {
    "duration": 179,
    "start_time": "2022-10-19T18:07:45.268Z"
   },
   {
    "duration": 18,
    "start_time": "2022-10-19T18:07:45.448Z"
   },
   {
    "duration": 16,
    "start_time": "2022-10-19T18:07:45.468Z"
   },
   {
    "duration": 212,
    "start_time": "2022-10-19T18:07:45.485Z"
   },
   {
    "duration": 208,
    "start_time": "2022-10-19T18:07:45.698Z"
   },
   {
    "duration": 194,
    "start_time": "2022-10-19T18:07:45.907Z"
   },
   {
    "duration": 192,
    "start_time": "2022-10-19T18:07:46.103Z"
   },
   {
    "duration": 176,
    "start_time": "2022-10-19T18:07:46.297Z"
   },
   {
    "duration": 35,
    "start_time": "2022-10-19T18:07:46.475Z"
   },
   {
    "duration": 251,
    "start_time": "2022-10-19T18:07:46.522Z"
   },
   {
    "duration": 271,
    "start_time": "2022-10-19T18:07:46.774Z"
   },
   {
    "duration": 139,
    "start_time": "2022-10-19T18:07:47.047Z"
   },
   {
    "duration": 156,
    "start_time": "2022-10-19T18:07:47.187Z"
   },
   {
    "duration": 158,
    "start_time": "2022-10-19T18:07:47.344Z"
   },
   {
    "duration": 210,
    "start_time": "2022-10-19T18:07:47.504Z"
   },
   {
    "duration": 140,
    "start_time": "2022-10-19T18:07:47.721Z"
   },
   {
    "duration": 207,
    "start_time": "2022-10-19T18:07:47.864Z"
   },
   {
    "duration": 140,
    "start_time": "2022-10-19T18:07:48.073Z"
   },
   {
    "duration": 109,
    "start_time": "2022-10-19T18:07:48.215Z"
   },
   {
    "duration": 125,
    "start_time": "2022-10-19T18:07:48.325Z"
   },
   {
    "duration": 134,
    "start_time": "2022-10-19T18:07:48.452Z"
   },
   {
    "duration": 7,
    "start_time": "2022-10-19T18:07:48.588Z"
   },
   {
    "duration": 29,
    "start_time": "2022-10-19T18:07:48.597Z"
   },
   {
    "duration": 10,
    "start_time": "2022-10-19T18:07:48.628Z"
   },
   {
    "duration": 25,
    "start_time": "2022-10-19T18:07:48.640Z"
   },
   {
    "duration": 134,
    "start_time": "2022-10-19T18:07:48.667Z"
   },
   {
    "duration": 20,
    "start_time": "2022-10-19T18:07:48.803Z"
   },
   {
    "duration": 16,
    "start_time": "2022-10-19T18:07:48.825Z"
   },
   {
    "duration": 8,
    "start_time": "2022-10-19T18:07:48.843Z"
   },
   {
    "duration": 18,
    "start_time": "2022-10-19T18:07:48.852Z"
   },
   {
    "duration": 25,
    "start_time": "2022-10-19T18:07:48.872Z"
   },
   {
    "duration": 28,
    "start_time": "2022-10-19T18:07:48.898Z"
   },
   {
    "duration": 12,
    "start_time": "2022-10-19T18:07:48.928Z"
   },
   {
    "duration": 18,
    "start_time": "2022-10-19T18:07:48.942Z"
   },
   {
    "duration": 33,
    "start_time": "2022-10-19T18:07:48.962Z"
   },
   {
    "duration": 9,
    "start_time": "2022-10-19T18:07:48.998Z"
   },
   {
    "duration": 8,
    "start_time": "2022-10-19T18:07:49.022Z"
   },
   {
    "duration": 26,
    "start_time": "2022-10-19T18:07:49.032Z"
   },
   {
    "duration": 14,
    "start_time": "2022-10-19T18:07:49.060Z"
   },
   {
    "duration": 13,
    "start_time": "2022-10-19T18:07:49.076Z"
   },
   {
    "duration": 14,
    "start_time": "2022-10-19T18:07:49.090Z"
   },
   {
    "duration": 120,
    "start_time": "2022-10-19T18:08:04.085Z"
   },
   {
    "duration": 127,
    "start_time": "2022-10-19T18:08:39.325Z"
   },
   {
    "duration": 114,
    "start_time": "2022-10-19T18:11:15.640Z"
   },
   {
    "duration": 7,
    "start_time": "2022-10-19T18:11:24.712Z"
   },
   {
    "duration": 10,
    "start_time": "2022-10-19T18:11:48.536Z"
   },
   {
    "duration": 10,
    "start_time": "2022-10-19T18:12:01.072Z"
   },
   {
    "duration": 11,
    "start_time": "2022-10-19T19:50:26.234Z"
   },
   {
    "duration": 50,
    "start_time": "2022-10-19T19:50:51.704Z"
   },
   {
    "duration": 180,
    "start_time": "2022-10-19T19:50:59.632Z"
   },
   {
    "duration": 1123,
    "start_time": "2022-10-19T19:51:24.092Z"
   },
   {
    "duration": 53,
    "start_time": "2022-10-19T19:51:25.216Z"
   },
   {
    "duration": 16,
    "start_time": "2022-10-19T19:51:25.271Z"
   },
   {
    "duration": 4,
    "start_time": "2022-10-19T19:51:25.289Z"
   },
   {
    "duration": 29,
    "start_time": "2022-10-19T19:51:25.294Z"
   },
   {
    "duration": 5,
    "start_time": "2022-10-19T19:51:25.324Z"
   },
   {
    "duration": 10,
    "start_time": "2022-10-19T19:51:25.331Z"
   },
   {
    "duration": 17,
    "start_time": "2022-10-19T19:51:25.342Z"
   },
   {
    "duration": 5,
    "start_time": "2022-10-19T19:51:25.360Z"
   },
   {
    "duration": 13,
    "start_time": "2022-10-19T19:51:25.367Z"
   },
   {
    "duration": 6,
    "start_time": "2022-10-19T19:51:25.382Z"
   },
   {
    "duration": 373,
    "start_time": "2022-10-19T19:51:25.390Z"
   },
   {
    "duration": 17,
    "start_time": "2022-10-19T19:51:25.765Z"
   },
   {
    "duration": 42,
    "start_time": "2022-10-19T19:51:25.784Z"
   },
   {
    "duration": 183,
    "start_time": "2022-10-19T19:51:25.827Z"
   },
   {
    "duration": 198,
    "start_time": "2022-10-19T19:51:26.012Z"
   },
   {
    "duration": 195,
    "start_time": "2022-10-19T19:51:26.212Z"
   },
   {
    "duration": 191,
    "start_time": "2022-10-19T19:51:26.408Z"
   },
   {
    "duration": 172,
    "start_time": "2022-10-19T19:51:26.601Z"
   },
   {
    "duration": 32,
    "start_time": "2022-10-19T19:51:26.775Z"
   },
   {
    "duration": 255,
    "start_time": "2022-10-19T19:51:26.808Z"
   },
   {
    "duration": 263,
    "start_time": "2022-10-19T19:51:27.065Z"
   },
   {
    "duration": 142,
    "start_time": "2022-10-19T19:51:27.330Z"
   },
   {
    "duration": 171,
    "start_time": "2022-10-19T19:51:27.474Z"
   },
   {
    "duration": 152,
    "start_time": "2022-10-19T19:51:27.646Z"
   },
   {
    "duration": 187,
    "start_time": "2022-10-19T19:51:27.799Z"
   },
   {
    "duration": 148,
    "start_time": "2022-10-19T19:51:27.988Z"
   },
   {
    "duration": 204,
    "start_time": "2022-10-19T19:51:28.141Z"
   },
   {
    "duration": 142,
    "start_time": "2022-10-19T19:51:28.346Z"
   },
   {
    "duration": 109,
    "start_time": "2022-10-19T19:51:28.490Z"
   },
   {
    "duration": 121,
    "start_time": "2022-10-19T19:51:28.601Z"
   },
   {
    "duration": 126,
    "start_time": "2022-10-19T19:51:28.723Z"
   },
   {
    "duration": 9,
    "start_time": "2022-10-19T19:51:28.851Z"
   },
   {
    "duration": 17,
    "start_time": "2022-10-19T19:51:28.861Z"
   },
   {
    "duration": 24,
    "start_time": "2022-10-19T19:51:28.881Z"
   },
   {
    "duration": 54,
    "start_time": "2022-10-19T19:51:28.907Z"
   },
   {
    "duration": 131,
    "start_time": "2022-10-19T19:51:28.963Z"
   },
   {
    "duration": 11,
    "start_time": "2022-10-19T19:51:29.096Z"
   },
   {
    "duration": 28,
    "start_time": "2022-10-19T19:51:29.108Z"
   },
   {
    "duration": 6,
    "start_time": "2022-10-19T19:51:29.137Z"
   },
   {
    "duration": 7,
    "start_time": "2022-10-19T19:51:29.145Z"
   },
   {
    "duration": 15,
    "start_time": "2022-10-19T19:51:29.154Z"
   },
   {
    "duration": 5,
    "start_time": "2022-10-19T19:51:29.171Z"
   },
   {
    "duration": 9,
    "start_time": "2022-10-19T19:51:29.178Z"
   },
   {
    "duration": 8,
    "start_time": "2022-10-19T19:51:29.221Z"
   },
   {
    "duration": 14,
    "start_time": "2022-10-19T19:51:29.230Z"
   },
   {
    "duration": 5,
    "start_time": "2022-10-19T19:51:29.246Z"
   },
   {
    "duration": 9,
    "start_time": "2022-10-19T19:51:29.253Z"
   },
   {
    "duration": 9,
    "start_time": "2022-10-19T19:51:29.263Z"
   },
   {
    "duration": 7,
    "start_time": "2022-10-19T19:51:29.273Z"
   },
   {
    "duration": 40,
    "start_time": "2022-10-19T19:51:29.282Z"
   },
   {
    "duration": 8,
    "start_time": "2022-10-19T19:51:29.324Z"
   },
   {
    "duration": 195,
    "start_time": "2022-10-19T19:51:43.034Z"
   },
   {
    "duration": 53,
    "start_time": "2022-10-19T19:55:30.484Z"
   },
   {
    "duration": 17,
    "start_time": "2022-10-19T21:13:54.889Z"
   },
   {
    "duration": 1290,
    "start_time": "2022-10-20T08:22:39.925Z"
   },
   {
    "duration": 207,
    "start_time": "2022-10-20T08:22:41.217Z"
   },
   {
    "duration": 20,
    "start_time": "2022-10-20T08:22:41.426Z"
   },
   {
    "duration": 4,
    "start_time": "2022-10-20T08:22:41.449Z"
   },
   {
    "duration": 31,
    "start_time": "2022-10-20T08:22:41.455Z"
   },
   {
    "duration": 8,
    "start_time": "2022-10-20T08:22:41.488Z"
   },
   {
    "duration": 20,
    "start_time": "2022-10-20T08:22:41.498Z"
   },
   {
    "duration": 26,
    "start_time": "2022-10-20T08:22:41.520Z"
   },
   {
    "duration": 6,
    "start_time": "2022-10-20T08:22:41.548Z"
   },
   {
    "duration": 26,
    "start_time": "2022-10-20T08:22:41.557Z"
   },
   {
    "duration": 11,
    "start_time": "2022-10-20T08:22:41.584Z"
   },
   {
    "duration": 371,
    "start_time": "2022-10-20T08:22:41.597Z"
   },
   {
    "duration": 28,
    "start_time": "2022-10-20T08:22:41.970Z"
   },
   {
    "duration": 16,
    "start_time": "2022-10-20T08:22:41.999Z"
   },
   {
    "duration": 265,
    "start_time": "2022-10-20T08:22:42.016Z"
   },
   {
    "duration": 232,
    "start_time": "2022-10-20T08:22:42.283Z"
   },
   {
    "duration": 211,
    "start_time": "2022-10-20T08:22:42.516Z"
   },
   {
    "duration": 217,
    "start_time": "2022-10-20T08:22:42.729Z"
   },
   {
    "duration": 194,
    "start_time": "2022-10-20T08:22:42.948Z"
   },
   {
    "duration": 38,
    "start_time": "2022-10-20T08:22:43.144Z"
   },
   {
    "duration": 269,
    "start_time": "2022-10-20T08:22:43.194Z"
   },
   {
    "duration": 290,
    "start_time": "2022-10-20T08:22:43.465Z"
   },
   {
    "duration": 162,
    "start_time": "2022-10-20T08:22:43.757Z"
   },
   {
    "duration": 175,
    "start_time": "2022-10-20T08:22:43.921Z"
   },
   {
    "duration": 170,
    "start_time": "2022-10-20T08:22:44.098Z"
   },
   {
    "duration": 209,
    "start_time": "2022-10-20T08:22:44.269Z"
   },
   {
    "duration": 160,
    "start_time": "2022-10-20T08:22:44.479Z"
   },
   {
    "duration": 229,
    "start_time": "2022-10-20T08:22:44.643Z"
   },
   {
    "duration": 158,
    "start_time": "2022-10-20T08:22:44.873Z"
   },
   {
    "duration": 117,
    "start_time": "2022-10-20T08:22:45.032Z"
   },
   {
    "duration": 141,
    "start_time": "2022-10-20T08:22:45.150Z"
   },
   {
    "duration": 138,
    "start_time": "2022-10-20T08:22:45.294Z"
   },
   {
    "duration": 6,
    "start_time": "2022-10-20T08:22:45.433Z"
   },
   {
    "duration": 11,
    "start_time": "2022-10-20T08:22:45.440Z"
   },
   {
    "duration": 12,
    "start_time": "2022-10-20T08:22:45.453Z"
   },
   {
    "duration": 53,
    "start_time": "2022-10-20T08:22:45.466Z"
   },
   {
    "duration": 127,
    "start_time": "2022-10-20T08:22:45.521Z"
   },
   {
    "duration": 13,
    "start_time": "2022-10-20T08:22:45.650Z"
   },
   {
    "duration": 37,
    "start_time": "2022-10-20T08:22:45.664Z"
   },
   {
    "duration": 7,
    "start_time": "2022-10-20T08:22:45.703Z"
   },
   {
    "duration": 9,
    "start_time": "2022-10-20T08:22:45.711Z"
   },
   {
    "duration": 15,
    "start_time": "2022-10-20T08:22:45.721Z"
   },
   {
    "duration": 6,
    "start_time": "2022-10-20T08:22:45.738Z"
   },
   {
    "duration": 11,
    "start_time": "2022-10-20T08:22:45.746Z"
   },
   {
    "duration": 42,
    "start_time": "2022-10-20T08:22:45.758Z"
   },
   {
    "duration": 17,
    "start_time": "2022-10-20T08:22:45.801Z"
   },
   {
    "duration": 6,
    "start_time": "2022-10-20T08:22:45.820Z"
   },
   {
    "duration": 11,
    "start_time": "2022-10-20T08:22:45.827Z"
   },
   {
    "duration": 29,
    "start_time": "2022-10-20T08:22:45.839Z"
   },
   {
    "duration": 9,
    "start_time": "2022-10-20T08:22:45.869Z"
   },
   {
    "duration": 21,
    "start_time": "2022-10-20T08:22:45.880Z"
   },
   {
    "duration": 9,
    "start_time": "2022-10-20T08:22:45.903Z"
   },
   {
    "duration": 15,
    "start_time": "2022-10-20T09:43:33.894Z"
   },
   {
    "duration": 1212,
    "start_time": "2022-10-20T09:44:10.193Z"
   },
   {
    "duration": 69,
    "start_time": "2022-10-20T09:44:11.410Z"
   },
   {
    "duration": 18,
    "start_time": "2022-10-20T09:44:11.481Z"
   },
   {
    "duration": 4,
    "start_time": "2022-10-20T09:44:11.500Z"
   },
   {
    "duration": 17,
    "start_time": "2022-10-20T09:44:11.506Z"
   },
   {
    "duration": 4,
    "start_time": "2022-10-20T09:44:11.525Z"
   },
   {
    "duration": 11,
    "start_time": "2022-10-20T09:44:11.531Z"
   },
   {
    "duration": 51,
    "start_time": "2022-10-20T09:44:11.544Z"
   },
   {
    "duration": 6,
    "start_time": "2022-10-20T09:44:11.598Z"
   },
   {
    "duration": 41,
    "start_time": "2022-10-20T09:44:11.606Z"
   },
   {
    "duration": 16,
    "start_time": "2022-10-20T09:44:11.649Z"
   },
   {
    "duration": 9,
    "start_time": "2022-10-20T09:44:11.667Z"
   },
   {
    "duration": 385,
    "start_time": "2022-10-20T09:44:11.678Z"
   },
   {
    "duration": 32,
    "start_time": "2022-10-20T09:44:12.065Z"
   },
   {
    "duration": 28,
    "start_time": "2022-10-20T09:44:12.099Z"
   },
   {
    "duration": 217,
    "start_time": "2022-10-20T09:44:12.128Z"
   },
   {
    "duration": 236,
    "start_time": "2022-10-20T09:44:12.347Z"
   },
   {
    "duration": 227,
    "start_time": "2022-10-20T09:44:12.584Z"
   },
   {
    "duration": 216,
    "start_time": "2022-10-20T09:44:12.813Z"
   },
   {
    "duration": 200,
    "start_time": "2022-10-20T09:44:13.031Z"
   },
   {
    "duration": 38,
    "start_time": "2022-10-20T09:44:13.232Z"
   },
   {
    "duration": 314,
    "start_time": "2022-10-20T09:44:13.272Z"
   },
   {
    "duration": 327,
    "start_time": "2022-10-20T09:44:13.587Z"
   },
   {
    "duration": 159,
    "start_time": "2022-10-20T09:44:13.916Z"
   },
   {
    "duration": 198,
    "start_time": "2022-10-20T09:44:14.077Z"
   },
   {
    "duration": 172,
    "start_time": "2022-10-20T09:44:14.277Z"
   },
   {
    "duration": 233,
    "start_time": "2022-10-20T09:44:14.452Z"
   },
   {
    "duration": 169,
    "start_time": "2022-10-20T09:44:14.687Z"
   },
   {
    "duration": 232,
    "start_time": "2022-10-20T09:44:14.858Z"
   },
   {
    "duration": 159,
    "start_time": "2022-10-20T09:44:15.094Z"
   },
   {
    "duration": 127,
    "start_time": "2022-10-20T09:44:15.254Z"
   },
   {
    "duration": 140,
    "start_time": "2022-10-20T09:44:15.383Z"
   },
   {
    "duration": 160,
    "start_time": "2022-10-20T09:44:15.525Z"
   },
   {
    "duration": 10,
    "start_time": "2022-10-20T09:44:15.687Z"
   },
   {
    "duration": 11,
    "start_time": "2022-10-20T09:44:15.698Z"
   },
   {
    "duration": 11,
    "start_time": "2022-10-20T09:44:15.711Z"
   },
   {
    "duration": 28,
    "start_time": "2022-10-20T09:44:15.723Z"
   },
   {
    "duration": 160,
    "start_time": "2022-10-20T09:44:15.753Z"
   },
   {
    "duration": 12,
    "start_time": "2022-10-20T09:44:15.915Z"
   },
   {
    "duration": 22,
    "start_time": "2022-10-20T09:44:15.929Z"
   },
   {
    "duration": 7,
    "start_time": "2022-10-20T09:44:15.953Z"
   },
   {
    "duration": 7,
    "start_time": "2022-10-20T09:44:15.995Z"
   },
   {
    "duration": 16,
    "start_time": "2022-10-20T09:44:16.004Z"
   },
   {
    "duration": 6,
    "start_time": "2022-10-20T09:44:16.022Z"
   },
   {
    "duration": 12,
    "start_time": "2022-10-20T09:44:16.030Z"
   },
   {
    "duration": 9,
    "start_time": "2022-10-20T09:44:16.044Z"
   },
   {
    "duration": 53,
    "start_time": "2022-10-20T09:44:16.055Z"
   },
   {
    "duration": 8,
    "start_time": "2022-10-20T09:44:16.110Z"
   },
   {
    "duration": 10,
    "start_time": "2022-10-20T09:44:16.119Z"
   },
   {
    "duration": 10,
    "start_time": "2022-10-20T09:44:16.130Z"
   },
   {
    "duration": 8,
    "start_time": "2022-10-20T09:44:16.142Z"
   },
   {
    "duration": 9,
    "start_time": "2022-10-20T09:44:16.194Z"
   },
   {
    "duration": 8,
    "start_time": "2022-10-20T09:44:16.205Z"
   },
   {
    "duration": 12,
    "start_time": "2022-10-20T11:08:32.811Z"
   },
   {
    "duration": 60,
    "start_time": "2022-10-20T11:08:43.561Z"
   },
   {
    "duration": 5,
    "start_time": "2022-10-20T11:09:06.108Z"
   },
   {
    "duration": 15,
    "start_time": "2022-10-20T11:09:09.344Z"
   },
   {
    "duration": 5,
    "start_time": "2022-10-20T11:09:11.856Z"
   },
   {
    "duration": 8,
    "start_time": "2022-10-20T11:09:13.873Z"
   },
   {
    "duration": 7,
    "start_time": "2022-10-20T11:09:17.609Z"
   },
   {
    "duration": 6,
    "start_time": "2022-10-20T11:09:19.992Z"
   },
   {
    "duration": 17,
    "start_time": "2022-10-20T11:09:23.752Z"
   },
   {
    "duration": 19,
    "start_time": "2022-10-20T11:09:28.007Z"
   },
   {
    "duration": 17,
    "start_time": "2022-10-20T11:09:56.070Z"
   },
   {
    "duration": 18,
    "start_time": "2022-10-20T11:10:41.950Z"
   },
   {
    "duration": 9,
    "start_time": "2022-10-20T11:10:54.013Z"
   },
   {
    "duration": 15,
    "start_time": "2022-10-20T11:11:23.172Z"
   },
   {
    "duration": 8,
    "start_time": "2022-10-20T11:14:15.296Z"
   },
   {
    "duration": 7,
    "start_time": "2022-10-20T11:20:37.809Z"
   },
   {
    "duration": 7,
    "start_time": "2022-10-20T11:21:08.267Z"
   },
   {
    "duration": 100,
    "start_time": "2022-10-20T11:21:43.829Z"
   },
   {
    "duration": 9,
    "start_time": "2022-10-20T11:21:58.353Z"
   },
   {
    "duration": 7,
    "start_time": "2022-10-20T11:22:08.882Z"
   },
   {
    "duration": 6,
    "start_time": "2022-10-20T11:22:18.178Z"
   },
   {
    "duration": 13,
    "start_time": "2022-10-20T11:22:26.778Z"
   },
   {
    "duration": 6,
    "start_time": "2022-10-20T11:22:31.546Z"
   },
   {
    "duration": 7,
    "start_time": "2022-10-20T11:22:45.289Z"
   },
   {
    "duration": 9,
    "start_time": "2022-10-20T11:22:56.536Z"
   },
   {
    "duration": 9,
    "start_time": "2022-10-20T11:23:14.323Z"
   },
   {
    "duration": 8,
    "start_time": "2022-10-20T11:23:21.139Z"
   },
   {
    "duration": 7,
    "start_time": "2022-10-20T11:23:27.576Z"
   },
   {
    "duration": 7,
    "start_time": "2022-10-20T11:23:32.952Z"
   },
   {
    "duration": 7,
    "start_time": "2022-10-20T12:29:45.561Z"
   },
   {
    "duration": 29,
    "start_time": "2022-10-20T14:22:16.228Z"
   },
   {
    "duration": 154,
    "start_time": "2022-10-20T14:22:30.385Z"
   },
   {
    "duration": 130,
    "start_time": "2022-10-20T14:22:36.297Z"
   },
   {
    "duration": 134,
    "start_time": "2022-10-20T14:22:48.200Z"
   },
   {
    "duration": 135,
    "start_time": "2022-10-20T14:22:52.850Z"
   },
   {
    "duration": 125,
    "start_time": "2022-10-20T14:22:56.968Z"
   },
   {
    "duration": 143,
    "start_time": "2022-10-20T14:23:02.981Z"
   },
   {
    "duration": 120,
    "start_time": "2022-10-20T14:23:08.224Z"
   },
   {
    "duration": 138,
    "start_time": "2022-10-20T14:23:14.959Z"
   },
   {
    "duration": 139,
    "start_time": "2022-10-20T14:23:20.343Z"
   },
   {
    "duration": 14,
    "start_time": "2022-10-20T14:26:14.492Z"
   },
   {
    "duration": 432,
    "start_time": "2022-10-20T14:26:36.579Z"
   },
   {
    "duration": 101,
    "start_time": "2022-10-20T14:27:29.361Z"
   },
   {
    "duration": 316,
    "start_time": "2022-10-20T14:27:52.131Z"
   },
   {
    "duration": 309,
    "start_time": "2022-10-20T14:29:04.326Z"
   },
   {
    "duration": 324,
    "start_time": "2022-10-20T14:29:40.414Z"
   },
   {
    "duration": 227,
    "start_time": "2022-10-20T14:56:14.876Z"
   },
   {
    "duration": 22,
    "start_time": "2022-10-20T14:56:46.220Z"
   },
   {
    "duration": 137,
    "start_time": "2022-10-20T14:57:09.004Z"
   },
   {
    "duration": 298,
    "start_time": "2022-10-20T14:58:11.416Z"
   },
   {
    "duration": 384,
    "start_time": "2022-10-20T14:58:32.112Z"
   },
   {
    "duration": 272,
    "start_time": "2022-10-20T14:59:33.583Z"
   },
   {
    "duration": 269,
    "start_time": "2022-10-20T15:34:35.033Z"
   },
   {
    "duration": 267,
    "start_time": "2022-10-20T15:35:17.129Z"
   },
   {
    "duration": 280,
    "start_time": "2022-10-20T15:36:09.776Z"
   },
   {
    "duration": 379,
    "start_time": "2022-10-20T15:36:30.324Z"
   },
   {
    "duration": 284,
    "start_time": "2022-10-20T15:37:16.284Z"
   },
   {
    "duration": 112,
    "start_time": "2022-10-20T15:50:52.710Z"
   },
   {
    "duration": 459,
    "start_time": "2022-10-20T16:03:43.167Z"
   },
   {
    "duration": 22,
    "start_time": "2022-10-20T16:04:05.071Z"
   },
   {
    "duration": 26,
    "start_time": "2022-10-20T16:06:01.443Z"
   },
   {
    "duration": 29,
    "start_time": "2022-10-20T16:06:26.859Z"
   },
   {
    "duration": 125,
    "start_time": "2022-10-20T16:09:18.526Z"
   },
   {
    "duration": 33,
    "start_time": "2022-10-20T16:10:10.589Z"
   },
   {
    "duration": 121,
    "start_time": "2022-10-20T16:10:27.100Z"
   },
   {
    "duration": 126,
    "start_time": "2022-10-20T16:10:54.188Z"
   },
   {
    "duration": 129,
    "start_time": "2022-10-20T16:11:12.076Z"
   },
   {
    "duration": 91,
    "start_time": "2022-10-20T16:25:05.341Z"
   },
   {
    "duration": 13,
    "start_time": "2022-10-20T16:28:14.850Z"
   },
   {
    "duration": 8,
    "start_time": "2022-10-20T16:28:17.192Z"
   },
   {
    "duration": 8,
    "start_time": "2022-10-20T16:28:19.679Z"
   },
   {
    "duration": 7,
    "start_time": "2022-10-20T16:28:22.402Z"
   },
   {
    "duration": 167,
    "start_time": "2022-10-20T16:44:30.593Z"
   },
   {
    "duration": 156,
    "start_time": "2022-10-20T16:44:41.420Z"
   },
   {
    "duration": 139,
    "start_time": "2022-10-20T16:44:49.364Z"
   },
   {
    "duration": 144,
    "start_time": "2022-10-20T16:45:31.050Z"
   },
   {
    "duration": 143,
    "start_time": "2022-10-20T16:46:09.825Z"
   },
   {
    "duration": 135,
    "start_time": "2022-10-20T16:46:23.496Z"
   },
   {
    "duration": 5,
    "start_time": "2022-10-20T16:46:32.580Z"
   },
   {
    "duration": 144,
    "start_time": "2022-10-20T16:47:13.912Z"
   },
   {
    "duration": 154,
    "start_time": "2022-10-20T16:47:32.394Z"
   },
   {
    "duration": 339,
    "start_time": "2022-10-20T16:47:46.511Z"
   },
   {
    "duration": 139,
    "start_time": "2022-10-20T16:47:49.181Z"
   },
   {
    "duration": 6,
    "start_time": "2022-10-20T17:59:38.563Z"
   },
   {
    "duration": 10,
    "start_time": "2022-10-20T18:00:00.773Z"
   },
   {
    "duration": 158,
    "start_time": "2022-10-20T18:01:07.959Z"
   },
   {
    "duration": 135,
    "start_time": "2022-10-20T18:01:12.326Z"
   },
   {
    "duration": 68,
    "start_time": "2022-10-20T18:01:45.769Z"
   },
   {
    "duration": 9,
    "start_time": "2022-10-20T18:02:10.617Z"
   },
   {
    "duration": 13,
    "start_time": "2022-10-20T18:02:44.183Z"
   },
   {
    "duration": 10,
    "start_time": "2022-10-20T18:03:50.210Z"
   },
   {
    "duration": 25,
    "start_time": "2022-10-20T18:31:52.931Z"
   },
   {
    "duration": 13,
    "start_time": "2022-10-20T18:31:55.496Z"
   },
   {
    "duration": 26,
    "start_time": "2022-10-20T18:35:14.720Z"
   },
   {
    "duration": 12,
    "start_time": "2022-10-20T18:35:19.914Z"
   },
   {
    "duration": 16,
    "start_time": "2022-10-20T18:35:49.835Z"
   },
   {
    "duration": 7,
    "start_time": "2022-10-20T18:35:54.345Z"
   },
   {
    "duration": 7,
    "start_time": "2022-10-20T18:35:58.017Z"
   },
   {
    "duration": 17,
    "start_time": "2022-10-20T18:37:17.009Z"
   },
   {
    "duration": 7,
    "start_time": "2022-10-20T18:37:20.551Z"
   },
   {
    "duration": 9,
    "start_time": "2022-10-20T18:38:26.324Z"
   },
   {
    "duration": 10,
    "start_time": "2022-10-20T18:38:29.605Z"
   },
   {
    "duration": 14,
    "start_time": "2022-10-20T18:42:40.926Z"
   },
   {
    "duration": 9,
    "start_time": "2022-10-20T18:42:43.844Z"
   },
   {
    "duration": 6,
    "start_time": "2022-10-20T18:42:48.745Z"
   },
   {
    "duration": 7,
    "start_time": "2022-10-20T18:42:52.629Z"
   },
   {
    "duration": 13,
    "start_time": "2022-10-20T18:43:16.069Z"
   },
   {
    "duration": 19,
    "start_time": "2022-10-20T18:43:26.757Z"
   },
   {
    "duration": 7,
    "start_time": "2022-10-20T18:43:31.340Z"
   },
   {
    "duration": 8,
    "start_time": "2022-10-20T18:43:37.451Z"
   },
   {
    "duration": 7,
    "start_time": "2022-10-20T18:43:43.709Z"
   },
   {
    "duration": 7,
    "start_time": "2022-10-20T18:44:52.706Z"
   },
   {
    "duration": 7,
    "start_time": "2022-10-20T18:45:38.417Z"
   },
   {
    "duration": 86,
    "start_time": "2022-10-20T18:48:02.315Z"
   },
   {
    "duration": 19,
    "start_time": "2022-10-20T18:48:57.691Z"
   },
   {
    "duration": 20,
    "start_time": "2022-10-20T18:49:12.606Z"
   },
   {
    "duration": 7,
    "start_time": "2022-10-20T18:50:02.601Z"
   },
   {
    "duration": 7,
    "start_time": "2022-10-20T18:50:14.135Z"
   },
   {
    "duration": 9,
    "start_time": "2022-10-20T18:50:16.896Z"
   },
   {
    "duration": 18,
    "start_time": "2022-10-20T18:50:42.609Z"
   },
   {
    "duration": 6,
    "start_time": "2022-10-20T18:50:55.527Z"
   },
   {
    "duration": 5,
    "start_time": "2022-10-20T18:57:49.898Z"
   },
   {
    "duration": 5,
    "start_time": "2022-10-20T18:58:42.482Z"
   },
   {
    "duration": 20,
    "start_time": "2022-10-20T18:58:46.130Z"
   },
   {
    "duration": 5,
    "start_time": "2022-10-20T18:58:54.481Z"
   },
   {
    "duration": 5,
    "start_time": "2022-10-20T18:59:04.160Z"
   },
   {
    "duration": 19,
    "start_time": "2022-10-20T18:59:07.817Z"
   },
   {
    "duration": 8,
    "start_time": "2022-10-20T18:59:30.087Z"
   },
   {
    "duration": 7,
    "start_time": "2022-10-20T18:59:36.447Z"
   },
   {
    "duration": 7,
    "start_time": "2022-10-20T18:59:42.527Z"
   },
   {
    "duration": 1343,
    "start_time": "2022-10-20T19:37:56.681Z"
   },
   {
    "duration": 7,
    "start_time": "2022-10-20T19:38:13.068Z"
   },
   {
    "duration": 14,
    "start_time": "2022-10-20T19:45:26.496Z"
   },
   {
    "duration": 1200,
    "start_time": "2022-10-20T19:48:42.885Z"
   },
   {
    "duration": 72,
    "start_time": "2022-10-20T19:48:44.087Z"
   },
   {
    "duration": 17,
    "start_time": "2022-10-20T19:48:44.161Z"
   },
   {
    "duration": 4,
    "start_time": "2022-10-20T19:48:44.180Z"
   },
   {
    "duration": 17,
    "start_time": "2022-10-20T19:48:44.185Z"
   },
   {
    "duration": 5,
    "start_time": "2022-10-20T19:48:44.203Z"
   },
   {
    "duration": 13,
    "start_time": "2022-10-20T19:48:44.210Z"
   },
   {
    "duration": 15,
    "start_time": "2022-10-20T19:48:44.226Z"
   },
   {
    "duration": 10,
    "start_time": "2022-10-20T19:48:44.242Z"
   },
   {
    "duration": 15,
    "start_time": "2022-10-20T19:48:44.256Z"
   },
   {
    "duration": 20,
    "start_time": "2022-10-20T19:48:44.295Z"
   },
   {
    "duration": 17,
    "start_time": "2022-10-20T19:48:44.317Z"
   },
   {
    "duration": 7,
    "start_time": "2022-10-20T19:48:44.335Z"
   },
   {
    "duration": 8,
    "start_time": "2022-10-20T19:48:44.344Z"
   },
   {
    "duration": 364,
    "start_time": "2022-10-20T19:48:44.354Z"
   },
   {
    "duration": 18,
    "start_time": "2022-10-20T19:48:44.720Z"
   },
   {
    "duration": 54,
    "start_time": "2022-10-20T19:48:44.740Z"
   },
   {
    "duration": 224,
    "start_time": "2022-10-20T19:48:44.796Z"
   },
   {
    "duration": 214,
    "start_time": "2022-10-20T19:48:45.022Z"
   },
   {
    "duration": 211,
    "start_time": "2022-10-20T19:48:45.238Z"
   },
   {
    "duration": 272,
    "start_time": "2022-10-20T19:48:45.451Z"
   },
   {
    "duration": 196,
    "start_time": "2022-10-20T19:48:45.725Z"
   },
   {
    "duration": 29,
    "start_time": "2022-10-20T19:48:45.923Z"
   },
   {
    "duration": 162,
    "start_time": "2022-10-20T19:48:45.954Z"
   },
   {
    "duration": 236,
    "start_time": "2022-10-20T19:48:46.118Z"
   },
   {
    "duration": 143,
    "start_time": "2022-10-20T19:48:46.356Z"
   },
   {
    "duration": 187,
    "start_time": "2022-10-20T19:48:46.501Z"
   },
   {
    "duration": 187,
    "start_time": "2022-10-20T19:48:46.695Z"
   },
   {
    "duration": 152,
    "start_time": "2022-10-20T19:48:46.884Z"
   },
   {
    "duration": 128,
    "start_time": "2022-10-20T19:48:47.037Z"
   },
   {
    "duration": 155,
    "start_time": "2022-10-20T19:48:47.168Z"
   },
   {
    "duration": 157,
    "start_time": "2022-10-20T19:48:47.326Z"
   },
   {
    "duration": 332,
    "start_time": "2022-10-20T19:48:47.494Z"
   },
   {
    "duration": 121,
    "start_time": "2022-10-20T19:48:47.828Z"
   },
   {
    "duration": 349,
    "start_time": "2022-10-20T19:48:47.951Z"
   },
   {
    "duration": 152,
    "start_time": "2022-10-20T19:48:48.302Z"
   },
   {
    "duration": 144,
    "start_time": "2022-10-20T19:48:48.456Z"
   },
   {
    "duration": 5,
    "start_time": "2022-10-20T19:48:48.602Z"
   },
   {
    "duration": 14,
    "start_time": "2022-10-20T19:48:48.608Z"
   },
   {
    "duration": 12,
    "start_time": "2022-10-20T19:48:48.624Z"
   },
   {
    "duration": 9,
    "start_time": "2022-10-20T19:48:48.638Z"
   },
   {
    "duration": 60,
    "start_time": "2022-10-20T19:48:48.648Z"
   },
   {
    "duration": 12,
    "start_time": "2022-10-20T19:48:48.709Z"
   },
   {
    "duration": 9,
    "start_time": "2022-10-20T19:48:48.723Z"
   },
   {
    "duration": 16,
    "start_time": "2022-10-20T19:48:48.734Z"
   },
   {
    "duration": 12,
    "start_time": "2022-10-20T19:48:48.752Z"
   },
   {
    "duration": 8,
    "start_time": "2022-10-20T19:48:48.795Z"
   },
   {
    "duration": 17,
    "start_time": "2022-10-20T19:48:48.804Z"
   },
   {
    "duration": 6,
    "start_time": "2022-10-20T19:48:48.823Z"
   },
   {
    "duration": 9,
    "start_time": "2022-10-20T19:48:48.831Z"
   },
   {
    "duration": 9,
    "start_time": "2022-10-20T19:48:48.841Z"
   },
   {
    "duration": 45,
    "start_time": "2022-10-20T19:48:48.851Z"
   },
   {
    "duration": 16,
    "start_time": "2022-10-20T19:48:48.898Z"
   },
   {
    "duration": 7,
    "start_time": "2022-10-20T19:48:48.916Z"
   },
   {
    "duration": 8,
    "start_time": "2022-10-20T19:48:48.925Z"
   },
   {
    "duration": 9,
    "start_time": "2022-10-20T19:48:48.934Z"
   },
   {
    "duration": 8,
    "start_time": "2022-10-20T19:48:48.945Z"
   },
   {
    "duration": 41,
    "start_time": "2022-10-20T19:48:48.955Z"
   },
   {
    "duration": 11,
    "start_time": "2022-10-20T19:48:48.998Z"
   },
   {
    "duration": 1100,
    "start_time": "2022-10-21T07:05:43.638Z"
   },
   {
    "duration": 77,
    "start_time": "2022-10-21T07:05:44.740Z"
   },
   {
    "duration": 17,
    "start_time": "2022-10-21T07:05:44.819Z"
   },
   {
    "duration": 3,
    "start_time": "2022-10-21T07:05:44.838Z"
   },
   {
    "duration": 14,
    "start_time": "2022-10-21T07:05:44.843Z"
   },
   {
    "duration": 4,
    "start_time": "2022-10-21T07:05:44.858Z"
   },
   {
    "duration": 8,
    "start_time": "2022-10-21T07:05:44.864Z"
   },
   {
    "duration": 8,
    "start_time": "2022-10-21T07:05:44.873Z"
   },
   {
    "duration": 56,
    "start_time": "2022-10-21T07:05:44.882Z"
   },
   {
    "duration": 21,
    "start_time": "2022-10-21T07:05:44.941Z"
   },
   {
    "duration": 24,
    "start_time": "2022-10-21T07:05:44.964Z"
   },
   {
    "duration": 51,
    "start_time": "2022-10-21T07:05:44.989Z"
   },
   {
    "duration": 8,
    "start_time": "2022-10-21T07:05:45.043Z"
   },
   {
    "duration": 20,
    "start_time": "2022-10-21T07:05:45.053Z"
   },
   {
    "duration": 319,
    "start_time": "2022-10-21T07:05:45.075Z"
   },
   {
    "duration": 25,
    "start_time": "2022-10-21T07:05:45.396Z"
   },
   {
    "duration": 16,
    "start_time": "2022-10-21T07:05:45.423Z"
   },
   {
    "duration": 204,
    "start_time": "2022-10-21T07:05:45.440Z"
   },
   {
    "duration": 229,
    "start_time": "2022-10-21T07:05:45.646Z"
   },
   {
    "duration": 184,
    "start_time": "2022-10-21T07:05:45.876Z"
   },
   {
    "duration": 221,
    "start_time": "2022-10-21T07:05:46.062Z"
   },
   {
    "duration": 176,
    "start_time": "2022-10-21T07:05:46.284Z"
   },
   {
    "duration": 30,
    "start_time": "2022-10-21T07:05:46.462Z"
   },
   {
    "duration": 142,
    "start_time": "2022-10-21T07:05:46.494Z"
   },
   {
    "duration": 183,
    "start_time": "2022-10-21T07:05:46.637Z"
   },
   {
    "duration": 140,
    "start_time": "2022-10-21T07:05:46.822Z"
   },
   {
    "duration": 129,
    "start_time": "2022-10-21T07:05:46.963Z"
   },
   {
    "duration": 117,
    "start_time": "2022-10-21T07:05:47.096Z"
   },
   {
    "duration": 138,
    "start_time": "2022-10-21T07:05:47.215Z"
   },
   {
    "duration": 122,
    "start_time": "2022-10-21T07:05:47.354Z"
   },
   {
    "duration": 146,
    "start_time": "2022-10-21T07:05:47.478Z"
   },
   {
    "duration": 129,
    "start_time": "2022-10-21T07:05:47.625Z"
   },
   {
    "duration": 302,
    "start_time": "2022-10-21T07:05:47.755Z"
   },
   {
    "duration": 113,
    "start_time": "2022-10-21T07:05:48.058Z"
   },
   {
    "duration": 315,
    "start_time": "2022-10-21T07:05:48.173Z"
   },
   {
    "duration": 132,
    "start_time": "2022-10-21T07:05:48.490Z"
   },
   {
    "duration": 127,
    "start_time": "2022-10-21T07:05:48.623Z"
   },
   {
    "duration": 5,
    "start_time": "2022-10-21T07:05:48.752Z"
   },
   {
    "duration": 13,
    "start_time": "2022-10-21T07:05:48.758Z"
   },
   {
    "duration": 32,
    "start_time": "2022-10-21T07:05:48.772Z"
   },
   {
    "duration": 28,
    "start_time": "2022-10-21T07:05:48.805Z"
   },
   {
    "duration": 27,
    "start_time": "2022-10-21T07:05:48.834Z"
   },
   {
    "duration": 19,
    "start_time": "2022-10-21T07:05:48.863Z"
   },
   {
    "duration": 30,
    "start_time": "2022-10-21T07:05:48.884Z"
   },
   {
    "duration": 33,
    "start_time": "2022-10-21T07:05:48.915Z"
   },
   {
    "duration": 29,
    "start_time": "2022-10-21T07:05:48.950Z"
   },
   {
    "duration": 32,
    "start_time": "2022-10-21T07:05:48.980Z"
   },
   {
    "duration": 23,
    "start_time": "2022-10-21T07:05:49.013Z"
   },
   {
    "duration": 30,
    "start_time": "2022-10-21T07:05:49.037Z"
   },
   {
    "duration": 30,
    "start_time": "2022-10-21T07:05:49.069Z"
   },
   {
    "duration": 27,
    "start_time": "2022-10-21T07:05:49.104Z"
   },
   {
    "duration": 24,
    "start_time": "2022-10-21T07:05:49.133Z"
   },
   {
    "duration": 24,
    "start_time": "2022-10-21T07:05:49.158Z"
   },
   {
    "duration": 16,
    "start_time": "2022-10-21T07:05:49.184Z"
   },
   {
    "duration": 14,
    "start_time": "2022-10-21T07:05:49.201Z"
   },
   {
    "duration": 16,
    "start_time": "2022-10-21T07:05:49.217Z"
   },
   {
    "duration": 20,
    "start_time": "2022-10-21T07:05:49.234Z"
   },
   {
    "duration": 28,
    "start_time": "2022-10-21T07:05:49.256Z"
   },
   {
    "duration": 36,
    "start_time": "2022-10-21T07:05:49.286Z"
   },
   {
    "duration": 224,
    "start_time": "2022-10-21T07:16:20.591Z"
   },
   {
    "duration": 218,
    "start_time": "2022-10-21T07:16:27.530Z"
   },
   {
    "duration": 259,
    "start_time": "2022-10-21T07:19:22.067Z"
   },
   {
    "duration": 312,
    "start_time": "2022-10-21T07:19:31.826Z"
   },
   {
    "duration": 304,
    "start_time": "2022-10-21T07:25:41.565Z"
   },
   {
    "duration": 1182,
    "start_time": "2022-10-21T07:26:03.108Z"
   },
   {
    "duration": 49,
    "start_time": "2022-10-21T07:26:04.292Z"
   },
   {
    "duration": 15,
    "start_time": "2022-10-21T07:26:04.343Z"
   },
   {
    "duration": 3,
    "start_time": "2022-10-21T07:26:04.360Z"
   },
   {
    "duration": 16,
    "start_time": "2022-10-21T07:26:04.364Z"
   },
   {
    "duration": 12,
    "start_time": "2022-10-21T07:26:04.381Z"
   },
   {
    "duration": 19,
    "start_time": "2022-10-21T07:26:04.395Z"
   },
   {
    "duration": 9,
    "start_time": "2022-10-21T07:26:04.416Z"
   },
   {
    "duration": 6,
    "start_time": "2022-10-21T07:26:04.427Z"
   },
   {
    "duration": 17,
    "start_time": "2022-10-21T07:26:04.437Z"
   },
   {
    "duration": 27,
    "start_time": "2022-10-21T07:26:04.456Z"
   },
   {
    "duration": 32,
    "start_time": "2022-10-21T07:26:04.485Z"
   },
   {
    "duration": 9,
    "start_time": "2022-10-21T07:26:04.518Z"
   },
   {
    "duration": 12,
    "start_time": "2022-10-21T07:26:04.529Z"
   },
   {
    "duration": 343,
    "start_time": "2022-10-21T07:26:04.543Z"
   },
   {
    "duration": 22,
    "start_time": "2022-10-21T07:26:04.887Z"
   },
   {
    "duration": 12,
    "start_time": "2022-10-21T07:26:04.911Z"
   },
   {
    "duration": 188,
    "start_time": "2022-10-21T07:26:04.924Z"
   },
   {
    "duration": 193,
    "start_time": "2022-10-21T07:26:05.113Z"
   },
   {
    "duration": 181,
    "start_time": "2022-10-21T07:26:05.308Z"
   },
   {
    "duration": 178,
    "start_time": "2022-10-21T07:26:05.490Z"
   },
   {
    "duration": 157,
    "start_time": "2022-10-21T07:26:05.670Z"
   },
   {
    "duration": 26,
    "start_time": "2022-10-21T07:26:05.829Z"
   },
   {
    "duration": 131,
    "start_time": "2022-10-21T07:26:05.856Z"
   },
   {
    "duration": 187,
    "start_time": "2022-10-21T07:26:05.989Z"
   },
   {
    "duration": 135,
    "start_time": "2022-10-21T07:26:06.178Z"
   },
   {
    "duration": 127,
    "start_time": "2022-10-21T07:26:06.314Z"
   },
   {
    "duration": 136,
    "start_time": "2022-10-21T07:26:06.444Z"
   },
   {
    "duration": 134,
    "start_time": "2022-10-21T07:26:06.582Z"
   },
   {
    "duration": 120,
    "start_time": "2022-10-21T07:26:06.718Z"
   },
   {
    "duration": 131,
    "start_time": "2022-10-21T07:26:06.840Z"
   },
   {
    "duration": 124,
    "start_time": "2022-10-21T07:26:06.973Z"
   },
   {
    "duration": 319,
    "start_time": "2022-10-21T07:26:07.098Z"
   },
   {
    "duration": 114,
    "start_time": "2022-10-21T07:26:07.419Z"
   },
   {
    "duration": 303,
    "start_time": "2022-10-21T07:26:07.535Z"
   },
   {
    "duration": 224,
    "start_time": "2022-10-21T07:26:07.839Z"
   },
   {
    "duration": 136,
    "start_time": "2022-10-21T07:26:08.065Z"
   },
   {
    "duration": 139,
    "start_time": "2022-10-21T07:26:08.202Z"
   },
   {
    "duration": 5,
    "start_time": "2022-10-21T07:26:08.342Z"
   },
   {
    "duration": 14,
    "start_time": "2022-10-21T07:26:08.348Z"
   },
   {
    "duration": 17,
    "start_time": "2022-10-21T07:26:08.364Z"
   },
   {
    "duration": 8,
    "start_time": "2022-10-21T07:26:08.383Z"
   },
   {
    "duration": 34,
    "start_time": "2022-10-21T07:26:08.393Z"
   },
   {
    "duration": 11,
    "start_time": "2022-10-21T07:26:08.429Z"
   },
   {
    "duration": 7,
    "start_time": "2022-10-21T07:26:08.442Z"
   },
   {
    "duration": 16,
    "start_time": "2022-10-21T07:26:08.450Z"
   },
   {
    "duration": 6,
    "start_time": "2022-10-21T07:26:08.468Z"
   },
   {
    "duration": 35,
    "start_time": "2022-10-21T07:26:08.475Z"
   },
   {
    "duration": 293,
    "start_time": "2022-10-21T07:26:08.511Z"
   },
   {
    "duration": 12,
    "start_time": "2022-10-21T07:26:08.806Z"
   },
   {
    "duration": 6,
    "start_time": "2022-10-21T07:26:08.819Z"
   },
   {
    "duration": 7,
    "start_time": "2022-10-21T07:26:08.827Z"
   },
   {
    "duration": 7,
    "start_time": "2022-10-21T07:26:08.836Z"
   },
   {
    "duration": 9,
    "start_time": "2022-10-21T07:26:08.845Z"
   },
   {
    "duration": 12,
    "start_time": "2022-10-21T07:26:08.856Z"
   },
   {
    "duration": 6,
    "start_time": "2022-10-21T07:26:08.870Z"
   },
   {
    "duration": 7,
    "start_time": "2022-10-21T07:26:08.908Z"
   },
   {
    "duration": 15,
    "start_time": "2022-10-21T07:26:08.917Z"
   },
   {
    "duration": 8,
    "start_time": "2022-10-21T07:26:08.933Z"
   },
   {
    "duration": 10,
    "start_time": "2022-10-21T07:26:08.943Z"
   },
   {
    "duration": 8,
    "start_time": "2022-10-21T07:26:08.954Z"
   },
   {
    "duration": 1029,
    "start_time": "2022-10-21T07:27:27.250Z"
   },
   {
    "duration": 55,
    "start_time": "2022-10-21T07:27:28.282Z"
   },
   {
    "duration": 16,
    "start_time": "2022-10-21T07:27:28.339Z"
   },
   {
    "duration": 8,
    "start_time": "2022-10-21T07:27:28.358Z"
   },
   {
    "duration": 21,
    "start_time": "2022-10-21T07:27:28.367Z"
   },
   {
    "duration": 5,
    "start_time": "2022-10-21T07:27:28.389Z"
   },
   {
    "duration": 20,
    "start_time": "2022-10-21T07:27:28.395Z"
   },
   {
    "duration": 11,
    "start_time": "2022-10-21T07:27:28.417Z"
   },
   {
    "duration": 5,
    "start_time": "2022-10-21T07:27:28.429Z"
   },
   {
    "duration": 19,
    "start_time": "2022-10-21T07:27:28.437Z"
   },
   {
    "duration": 17,
    "start_time": "2022-10-21T07:27:28.457Z"
   },
   {
    "duration": 13,
    "start_time": "2022-10-21T07:27:28.475Z"
   },
   {
    "duration": 7,
    "start_time": "2022-10-21T07:27:28.509Z"
   },
   {
    "duration": 13,
    "start_time": "2022-10-21T07:27:28.517Z"
   },
   {
    "duration": 313,
    "start_time": "2022-10-21T07:27:28.531Z"
   },
   {
    "duration": 17,
    "start_time": "2022-10-21T07:27:28.845Z"
   },
   {
    "duration": 13,
    "start_time": "2022-10-21T07:27:28.864Z"
   },
   {
    "duration": 209,
    "start_time": "2022-10-21T07:27:28.878Z"
   },
   {
    "duration": 193,
    "start_time": "2022-10-21T07:27:29.089Z"
   },
   {
    "duration": 273,
    "start_time": "2022-10-21T07:27:29.284Z"
   },
   {
    "duration": 193,
    "start_time": "2022-10-21T07:27:29.559Z"
   },
   {
    "duration": 158,
    "start_time": "2022-10-21T07:27:29.754Z"
   },
   {
    "duration": 26,
    "start_time": "2022-10-21T07:27:29.913Z"
   },
   {
    "duration": 134,
    "start_time": "2022-10-21T07:27:29.941Z"
   },
   {
    "duration": 182,
    "start_time": "2022-10-21T07:27:30.077Z"
   },
   {
    "duration": 131,
    "start_time": "2022-10-21T07:27:30.261Z"
   },
   {
    "duration": 135,
    "start_time": "2022-10-21T07:27:30.394Z"
   },
   {
    "duration": 121,
    "start_time": "2022-10-21T07:27:30.532Z"
   },
   {
    "duration": 140,
    "start_time": "2022-10-21T07:27:30.655Z"
   },
   {
    "duration": 121,
    "start_time": "2022-10-21T07:27:30.797Z"
   },
   {
    "duration": 125,
    "start_time": "2022-10-21T07:27:30.920Z"
   },
   {
    "duration": 129,
    "start_time": "2022-10-21T07:27:31.047Z"
   },
   {
    "duration": 305,
    "start_time": "2022-10-21T07:27:31.177Z"
   },
   {
    "duration": 119,
    "start_time": "2022-10-21T07:27:31.484Z"
   },
   {
    "duration": 312,
    "start_time": "2022-10-21T07:27:31.608Z"
   },
   {
    "duration": 229,
    "start_time": "2022-10-21T07:27:31.922Z"
   },
   {
    "duration": 140,
    "start_time": "2022-10-21T07:27:32.153Z"
   },
   {
    "duration": 143,
    "start_time": "2022-10-21T07:27:32.295Z"
   },
   {
    "duration": 5,
    "start_time": "2022-10-21T07:27:32.440Z"
   },
   {
    "duration": 19,
    "start_time": "2022-10-21T07:27:32.447Z"
   },
   {
    "duration": 9,
    "start_time": "2022-10-21T07:27:32.467Z"
   },
   {
    "duration": 12,
    "start_time": "2022-10-21T07:27:32.477Z"
   },
   {
    "duration": 40,
    "start_time": "2022-10-21T07:27:32.490Z"
   },
   {
    "duration": 12,
    "start_time": "2022-10-21T07:27:32.532Z"
   },
   {
    "duration": 14,
    "start_time": "2022-10-21T07:27:32.546Z"
   },
   {
    "duration": 15,
    "start_time": "2022-10-21T07:27:32.562Z"
   },
   {
    "duration": 5,
    "start_time": "2022-10-21T07:27:32.578Z"
   },
   {
    "duration": 29,
    "start_time": "2022-10-21T07:27:32.584Z"
   },
   {
    "duration": 269,
    "start_time": "2022-10-21T07:27:32.614Z"
   },
   {
    "duration": 13,
    "start_time": "2022-10-21T07:27:32.885Z"
   },
   {
    "duration": 15,
    "start_time": "2022-10-21T07:27:32.899Z"
   },
   {
    "duration": 9,
    "start_time": "2022-10-21T07:27:32.915Z"
   },
   {
    "duration": 8,
    "start_time": "2022-10-21T07:27:32.925Z"
   },
   {
    "duration": 7,
    "start_time": "2022-10-21T07:27:32.935Z"
   },
   {
    "duration": 16,
    "start_time": "2022-10-21T07:27:32.944Z"
   },
   {
    "duration": 6,
    "start_time": "2022-10-21T07:27:32.961Z"
   },
   {
    "duration": 8,
    "start_time": "2022-10-21T07:27:32.969Z"
   },
   {
    "duration": 7,
    "start_time": "2022-10-21T07:27:33.009Z"
   },
   {
    "duration": 7,
    "start_time": "2022-10-21T07:27:33.018Z"
   },
   {
    "duration": 7,
    "start_time": "2022-10-21T07:27:33.027Z"
   },
   {
    "duration": 7,
    "start_time": "2022-10-21T07:27:33.035Z"
   }
  ],
  "kernelspec": {
   "display_name": "Python 3 (ipykernel)",
   "language": "python",
   "name": "python3"
  },
  "language_info": {
   "codemirror_mode": {
    "name": "ipython",
    "version": 3
   },
   "file_extension": ".py",
   "mimetype": "text/x-python",
   "name": "python",
   "nbconvert_exporter": "python",
   "pygments_lexer": "ipython3",
   "version": "3.9.13"
  },
  "toc": {
   "base_numbering": 1,
   "nav_menu": {},
   "number_sections": true,
   "sideBar": true,
   "skip_h1_title": true,
   "title_cell": "Table of Contents",
   "title_sidebar": "Contents",
   "toc_cell": false,
   "toc_position": {},
   "toc_section_display": true,
   "toc_window_display": false
  }
 },
 "nbformat": 4,
 "nbformat_minor": 2
}
