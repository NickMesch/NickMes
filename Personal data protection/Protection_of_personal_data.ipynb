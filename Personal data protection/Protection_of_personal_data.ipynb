{
 "cells": [
  {
   "cell_type": "markdown",
   "metadata": {
    "toc": true
   },
   "source": [
    "<h1>Содержание<span class=\"tocSkip\"></span></h1>\n",
    "<div class=\"toc\"><ul class=\"toc-item\"><li><span><a href=\"#Загрузка-данных\" data-toc-modified-id=\"Загрузка-данных-1\"><span class=\"toc-item-num\">1&nbsp;&nbsp;</span>Загрузка данных</a></span></li><li><span><a href=\"#Умножение-матриц\" data-toc-modified-id=\"Умножение-матриц-2\"><span class=\"toc-item-num\">2&nbsp;&nbsp;</span>Умножение матриц</a></span></li><li><span><a href=\"#Алгоритм-преобразования\" data-toc-modified-id=\"Алгоритм-преобразования-3\"><span class=\"toc-item-num\">3&nbsp;&nbsp;</span>Алгоритм преобразования</a></span></li><li><span><a href=\"#Проверка-алгоритма\" data-toc-modified-id=\"Проверка-алгоритма-4\"><span class=\"toc-item-num\">4&nbsp;&nbsp;</span>Проверка алгоритма</a></span></li></ul></div>"
   ]
  },
  {
   "cell_type": "markdown",
   "metadata": {},
   "source": [
    "# Защита персональных данных клиентов"
   ]
  },
  {
   "cell_type": "markdown",
   "metadata": {},
   "source": [
    "Вам нужно защитить данные клиентов страховой компании «Хоть потоп». Разработайте такой метод преобразования данных, чтобы по ним было сложно восстановить персональную информацию. Обоснуйте корректность его работы.\n",
    "\n",
    "Нужно защитить данные, чтобы при преобразовании качество моделей машинного обучения не ухудшилось. Подбирать наилучшую модель не требуется."
   ]
  },
  {
   "cell_type": "markdown",
   "metadata": {},
   "source": [
    "## Загрузка данных"
   ]
  },
  {
   "cell_type": "code",
   "execution_count": 1,
   "metadata": {},
   "outputs": [],
   "source": [
    "import pandas as pd\n",
    "import numpy as np\n",
    "import matplotlib.pyplot as plt\n",
    "import seaborn as sns\n",
    "\n",
    "from sklearn.linear_model import LinearRegression\n",
    "from sklearn.metrics import mean_squared_error, r2_score"
   ]
  },
  {
   "cell_type": "code",
   "execution_count": 2,
   "metadata": {},
   "outputs": [],
   "source": [
    "try:\n",
    "    clients = pd.read_csv('C:/ya_pr/linal/insurance.csv')\n",
    "except:\n",
    "    clients = pd.read_csv('/datasets/insurance.csv')"
   ]
  },
  {
   "cell_type": "code",
   "execution_count": 3,
   "metadata": {},
   "outputs": [
    {
     "name": "stdout",
     "output_type": "stream",
     "text": [
      "<class 'pandas.core.frame.DataFrame'>\n",
      "RangeIndex: 5000 entries, 0 to 4999\n",
      "Data columns (total 5 columns):\n",
      " #   Column             Non-Null Count  Dtype  \n",
      "---  ------             --------------  -----  \n",
      " 0   Пол                5000 non-null   int64  \n",
      " 1   Возраст            5000 non-null   float64\n",
      " 2   Зарплата           5000 non-null   float64\n",
      " 3   Члены семьи        5000 non-null   int64  \n",
      " 4   Страховые выплаты  5000 non-null   int64  \n",
      "dtypes: float64(2), int64(3)\n",
      "memory usage: 195.4 KB\n"
     ]
    }
   ],
   "source": [
    "clients.info()"
   ]
  },
  {
   "cell_type": "code",
   "execution_count": 4,
   "metadata": {},
   "outputs": [
    {
     "data": {
      "text/html": [
       "<div>\n",
       "<style scoped>\n",
       "    .dataframe tbody tr th:only-of-type {\n",
       "        vertical-align: middle;\n",
       "    }\n",
       "\n",
       "    .dataframe tbody tr th {\n",
       "        vertical-align: top;\n",
       "    }\n",
       "\n",
       "    .dataframe thead th {\n",
       "        text-align: right;\n",
       "    }\n",
       "</style>\n",
       "<table border=\"1\" class=\"dataframe\">\n",
       "  <thead>\n",
       "    <tr style=\"text-align: right;\">\n",
       "      <th></th>\n",
       "      <th>Пол</th>\n",
       "      <th>Возраст</th>\n",
       "      <th>Зарплата</th>\n",
       "      <th>Члены семьи</th>\n",
       "      <th>Страховые выплаты</th>\n",
       "    </tr>\n",
       "  </thead>\n",
       "  <tbody>\n",
       "    <tr>\n",
       "      <th>0</th>\n",
       "      <td>1</td>\n",
       "      <td>41.0</td>\n",
       "      <td>49600.0</td>\n",
       "      <td>1</td>\n",
       "      <td>0</td>\n",
       "    </tr>\n",
       "    <tr>\n",
       "      <th>1</th>\n",
       "      <td>0</td>\n",
       "      <td>46.0</td>\n",
       "      <td>38000.0</td>\n",
       "      <td>1</td>\n",
       "      <td>1</td>\n",
       "    </tr>\n",
       "    <tr>\n",
       "      <th>2</th>\n",
       "      <td>0</td>\n",
       "      <td>29.0</td>\n",
       "      <td>21000.0</td>\n",
       "      <td>0</td>\n",
       "      <td>0</td>\n",
       "    </tr>\n",
       "    <tr>\n",
       "      <th>3</th>\n",
       "      <td>0</td>\n",
       "      <td>21.0</td>\n",
       "      <td>41700.0</td>\n",
       "      <td>2</td>\n",
       "      <td>0</td>\n",
       "    </tr>\n",
       "    <tr>\n",
       "      <th>4</th>\n",
       "      <td>1</td>\n",
       "      <td>28.0</td>\n",
       "      <td>26100.0</td>\n",
       "      <td>0</td>\n",
       "      <td>0</td>\n",
       "    </tr>\n",
       "  </tbody>\n",
       "</table>\n",
       "</div>"
      ],
      "text/plain": [
       "   Пол  Возраст  Зарплата  Члены семьи  Страховые выплаты\n",
       "0    1     41.0   49600.0            1                  0\n",
       "1    0     46.0   38000.0            1                  1\n",
       "2    0     29.0   21000.0            0                  0\n",
       "3    0     21.0   41700.0            2                  0\n",
       "4    1     28.0   26100.0            0                  0"
      ]
     },
     "execution_count": 4,
     "metadata": {},
     "output_type": "execute_result"
    }
   ],
   "source": [
    "clients.head()"
   ]
  },
  {
   "cell_type": "code",
   "execution_count": 5,
   "metadata": {},
   "outputs": [
    {
     "data": {
      "text/html": [
       "<div>\n",
       "<style scoped>\n",
       "    .dataframe tbody tr th:only-of-type {\n",
       "        vertical-align: middle;\n",
       "    }\n",
       "\n",
       "    .dataframe tbody tr th {\n",
       "        vertical-align: top;\n",
       "    }\n",
       "\n",
       "    .dataframe thead th {\n",
       "        text-align: right;\n",
       "    }\n",
       "</style>\n",
       "<table border=\"1\" class=\"dataframe\">\n",
       "  <thead>\n",
       "    <tr style=\"text-align: right;\">\n",
       "      <th></th>\n",
       "      <th>Пол</th>\n",
       "      <th>Возраст</th>\n",
       "      <th>Зарплата</th>\n",
       "      <th>Члены семьи</th>\n",
       "      <th>Страховые выплаты</th>\n",
       "    </tr>\n",
       "  </thead>\n",
       "  <tbody>\n",
       "    <tr>\n",
       "      <th>count</th>\n",
       "      <td>5000.000000</td>\n",
       "      <td>5000.000000</td>\n",
       "      <td>5000.000000</td>\n",
       "      <td>5000.000000</td>\n",
       "      <td>5000.000000</td>\n",
       "    </tr>\n",
       "    <tr>\n",
       "      <th>mean</th>\n",
       "      <td>0.499000</td>\n",
       "      <td>30.952800</td>\n",
       "      <td>39916.360000</td>\n",
       "      <td>1.194200</td>\n",
       "      <td>0.148000</td>\n",
       "    </tr>\n",
       "    <tr>\n",
       "      <th>std</th>\n",
       "      <td>0.500049</td>\n",
       "      <td>8.440807</td>\n",
       "      <td>9900.083569</td>\n",
       "      <td>1.091387</td>\n",
       "      <td>0.463183</td>\n",
       "    </tr>\n",
       "    <tr>\n",
       "      <th>min</th>\n",
       "      <td>0.000000</td>\n",
       "      <td>18.000000</td>\n",
       "      <td>5300.000000</td>\n",
       "      <td>0.000000</td>\n",
       "      <td>0.000000</td>\n",
       "    </tr>\n",
       "    <tr>\n",
       "      <th>25%</th>\n",
       "      <td>0.000000</td>\n",
       "      <td>24.000000</td>\n",
       "      <td>33300.000000</td>\n",
       "      <td>0.000000</td>\n",
       "      <td>0.000000</td>\n",
       "    </tr>\n",
       "    <tr>\n",
       "      <th>50%</th>\n",
       "      <td>0.000000</td>\n",
       "      <td>30.000000</td>\n",
       "      <td>40200.000000</td>\n",
       "      <td>1.000000</td>\n",
       "      <td>0.000000</td>\n",
       "    </tr>\n",
       "    <tr>\n",
       "      <th>75%</th>\n",
       "      <td>1.000000</td>\n",
       "      <td>37.000000</td>\n",
       "      <td>46600.000000</td>\n",
       "      <td>2.000000</td>\n",
       "      <td>0.000000</td>\n",
       "    </tr>\n",
       "    <tr>\n",
       "      <th>max</th>\n",
       "      <td>1.000000</td>\n",
       "      <td>65.000000</td>\n",
       "      <td>79000.000000</td>\n",
       "      <td>6.000000</td>\n",
       "      <td>5.000000</td>\n",
       "    </tr>\n",
       "  </tbody>\n",
       "</table>\n",
       "</div>"
      ],
      "text/plain": [
       "               Пол      Возраст      Зарплата  Члены семьи  Страховые выплаты\n",
       "count  5000.000000  5000.000000   5000.000000  5000.000000        5000.000000\n",
       "mean      0.499000    30.952800  39916.360000     1.194200           0.148000\n",
       "std       0.500049     8.440807   9900.083569     1.091387           0.463183\n",
       "min       0.000000    18.000000   5300.000000     0.000000           0.000000\n",
       "25%       0.000000    24.000000  33300.000000     0.000000           0.000000\n",
       "50%       0.000000    30.000000  40200.000000     1.000000           0.000000\n",
       "75%       1.000000    37.000000  46600.000000     2.000000           0.000000\n",
       "max       1.000000    65.000000  79000.000000     6.000000           5.000000"
      ]
     },
     "execution_count": 5,
     "metadata": {},
     "output_type": "execute_result"
    }
   ],
   "source": [
    "clients.describe()"
   ]
  },
  {
   "cell_type": "code",
   "execution_count": 6,
   "metadata": {},
   "outputs": [
    {
     "data": {
      "image/png": "[encoded data removed]",
      "text/plain": [
       "<Figure size 432x288 with 1 Axes>"
      ]
     },
     "metadata": {
      "needs_background": "light"
     },
     "output_type": "display_data"
    },
    {
     "data": {
      "image/png": "[encoded data removed]",
      "text/plain": [
       "<Figure size 432x288 with 1 Axes>"
      ]
     },
     "metadata": {
      "needs_background": "light"
     },
     "output_type": "display_data"
    },
    {
     "data": {
      "image/png": "[encoded data removed]",
      "text/plain": [
       "<Figure size 432x288 with 1 Axes>"
      ]
     },
     "metadata": {
      "needs_background": "light"
     },
     "output_type": "display_data"
    },
    {
     "data": {
      "image/png": "[encoded data removed]",
      "text/plain": [
       "<Figure size 432x288 with 1 Axes>"
      ]
     },
     "metadata": {
      "needs_background": "light"
     },
     "output_type": "display_data"
    },
    {
     "data": {
      "image/png": "[encoded data removed]",
      "text/plain": [
       "<Figure size 432x288 with 1 Axes>"
      ]
     },
     "metadata": {
      "needs_background": "light"
     },
     "output_type": "display_data"
    }
   ],
   "source": [
    "for column in clients.columns:\n",
    "    clients[column].hist(bins=30)\n",
    "    plt.title(f'Распределение признака {column}')\n",
    "    plt.show()"
   ]
  },
  {
   "cell_type": "markdown",
   "metadata": {},
   "source": [
    "Видим, что из пяти признаков только два ('Зарплата' и 'Возраст') являются количественными. Проверим есть ли между ними корреляция:"
   ]
  },
  {
   "cell_type": "code",
   "execution_count": 7,
   "metadata": {},
   "outputs": [
    {
     "data": {
      "text/plain": [
       "-0.01909259551237576"
      ]
     },
     "execution_count": 7,
     "metadata": {},
     "output_type": "execute_result"
    }
   ],
   "source": [
    "clients['Зарплата'].corr(clients['Возраст'])"
   ]
  },
  {
   "cell_type": "markdown",
   "metadata": {},
   "source": [
    "Корреляции нет."
   ]
  },
  {
   "cell_type": "code",
   "execution_count": 8,
   "metadata": {},
   "outputs": [
    {
     "data": {
      "image/png": "[encoded data removed]",
      "text/plain": [
       "<Figure size 432x288 with 1 Axes>"
      ]
     },
     "metadata": {
      "needs_background": "light"
     },
     "output_type": "display_data"
    }
   ],
   "source": [
    "sns.boxplot(y=clients['Зарплата'])\n",
    "plt.title('Зарплата')\n",
    "plt.show()"
   ]
  },
  {
   "cell_type": "code",
   "execution_count": 9,
   "metadata": {},
   "outputs": [
    {
     "data": {
      "image/png": "[encoded data removed]",
      "text/plain": [
       "<Figure size 432x288 with 1 Axes>"
      ]
     },
     "metadata": {
      "needs_background": "light"
     },
     "output_type": "display_data"
    }
   ],
   "source": [
    "sns.boxplot(y=clients['Возраст'])\n",
    "plt.title('Возраст')\n",
    "plt.show()"
   ]
  },
  {
   "cell_type": "markdown",
   "metadata": {},
   "source": [
    "Проверим есть ли выраженная взаимосвязь между категориальными признаками 'Пол', 'Члены семьи' и целевым признаком 'Страховые выплаты':"
   ]
  },
  {
   "cell_type": "code",
   "execution_count": 10,
   "metadata": {},
   "outputs": [
    {
     "data": {
      "text/html": [
       "<div>\n",
       "<style scoped>\n",
       "    .dataframe tbody tr th:only-of-type {\n",
       "        vertical-align: middle;\n",
       "    }\n",
       "\n",
       "    .dataframe tbody tr th {\n",
       "        vertical-align: top;\n",
       "    }\n",
       "\n",
       "    .dataframe thead th {\n",
       "        text-align: right;\n",
       "    }\n",
       "</style>\n",
       "<table border=\"1\" class=\"dataframe\">\n",
       "  <thead>\n",
       "    <tr style=\"text-align: right;\">\n",
       "      <th></th>\n",
       "      <th>mean_payments</th>\n",
       "    </tr>\n",
       "    <tr>\n",
       "      <th>Пол</th>\n",
       "      <th></th>\n",
       "    </tr>\n",
       "  </thead>\n",
       "  <tbody>\n",
       "    <tr>\n",
       "      <th>0</th>\n",
       "      <td>0.143313</td>\n",
       "    </tr>\n",
       "    <tr>\n",
       "      <th>1</th>\n",
       "      <td>0.152705</td>\n",
       "    </tr>\n",
       "  </tbody>\n",
       "</table>\n",
       "</div>"
      ],
      "text/plain": [
       "     mean_payments\n",
       "Пол               \n",
       "0         0.143313\n",
       "1         0.152705"
      ]
     },
     "execution_count": 10,
     "metadata": {},
     "output_type": "execute_result"
    }
   ],
   "source": [
    "clients.groupby(clients['Пол']).agg(mean_payments=('Страховые выплаты','mean'))"
   ]
  },
  {
   "cell_type": "code",
   "execution_count": 11,
   "metadata": {},
   "outputs": [
    {
     "data": {
      "text/html": [
       "<div>\n",
       "<style scoped>\n",
       "    .dataframe tbody tr th:only-of-type {\n",
       "        vertical-align: middle;\n",
       "    }\n",
       "\n",
       "    .dataframe tbody tr th {\n",
       "        vertical-align: top;\n",
       "    }\n",
       "\n",
       "    .dataframe thead th {\n",
       "        text-align: right;\n",
       "    }\n",
       "</style>\n",
       "<table border=\"1\" class=\"dataframe\">\n",
       "  <thead>\n",
       "    <tr style=\"text-align: right;\">\n",
       "      <th></th>\n",
       "      <th>mean_payments</th>\n",
       "    </tr>\n",
       "    <tr>\n",
       "      <th>Члены семьи</th>\n",
       "      <th></th>\n",
       "    </tr>\n",
       "  </thead>\n",
       "  <tbody>\n",
       "    <tr>\n",
       "      <th>0</th>\n",
       "      <td>0.159947</td>\n",
       "    </tr>\n",
       "    <tr>\n",
       "      <th>1</th>\n",
       "      <td>0.159868</td>\n",
       "    </tr>\n",
       "    <tr>\n",
       "      <th>2</th>\n",
       "      <td>0.134454</td>\n",
       "    </tr>\n",
       "    <tr>\n",
       "      <th>3</th>\n",
       "      <td>0.109339</td>\n",
       "    </tr>\n",
       "    <tr>\n",
       "      <th>4</th>\n",
       "      <td>0.088710</td>\n",
       "    </tr>\n",
       "    <tr>\n",
       "      <th>5</th>\n",
       "      <td>0.125000</td>\n",
       "    </tr>\n",
       "    <tr>\n",
       "      <th>6</th>\n",
       "      <td>0.142857</td>\n",
       "    </tr>\n",
       "  </tbody>\n",
       "</table>\n",
       "</div>"
      ],
      "text/plain": [
       "             mean_payments\n",
       "Члены семьи               \n",
       "0                 0.159947\n",
       "1                 0.159868\n",
       "2                 0.134454\n",
       "3                 0.109339\n",
       "4                 0.088710\n",
       "5                 0.125000\n",
       "6                 0.142857"
      ]
     },
     "execution_count": 11,
     "metadata": {},
     "output_type": "execute_result"
    }
   ],
   "source": [
    "clients.groupby(clients['Члены семьи']).agg(mean_payments=('Страховые выплаты','mean'))"
   ]
  },
  {
   "cell_type": "markdown",
   "metadata": {},
   "source": [
    "- Среднее количество выплат не зависит от признаков 'Пол' и 'Члены семьи'."
   ]
  },
  {
   "cell_type": "code",
   "execution_count": 12,
   "metadata": {},
   "outputs": [
    {
     "data": {
      "image/png": "[encoded data removed]",
      "text/plain": [
       "<Figure size 432x288 with 1 Axes>"
      ]
     },
     "metadata": {
      "needs_background": "light"
     },
     "output_type": "display_data"
    }
   ],
   "source": [
    "sns.scatterplot(x=clients['Страховые выплаты'], y=clients['Возраст'], alpha=0.5);"
   ]
  },
  {
   "cell_type": "markdown",
   "metadata": {},
   "source": [
    " - видим, что количество страховых выплат очень сильно зависит от возраста."
   ]
  },
  {
   "cell_type": "code",
   "execution_count": 13,
   "metadata": {},
   "outputs": [
    {
     "data": {
      "image/png": "[encoded data removed]",
      "text/plain": [
       "<Figure size 432x288 with 1 Axes>"
      ]
     },
     "metadata": {
      "needs_background": "light"
     },
     "output_type": "display_data"
    }
   ],
   "source": [
    "sns.scatterplot(x=clients['Страховые выплаты'], y=clients['Зарплата'], alpha=0.5);"
   ]
  },
  {
   "cell_type": "code",
   "execution_count": 14,
   "metadata": {},
   "outputs": [
    {
     "data": {
      "text/plain": [
       "153"
      ]
     },
     "execution_count": 14,
     "metadata": {},
     "output_type": "execute_result"
    }
   ],
   "source": [
    "clients.duplicated().sum()"
   ]
  },
  {
   "cell_type": "markdown",
   "metadata": {},
   "source": [
    "- Есть дубликаты. Не будем их устранять, т.к. перед нами не стоит задача обучения прогнозирующей модели."
   ]
  },
  {
   "cell_type": "markdown",
   "metadata": {},
   "source": [
    "## Умножение матриц"
   ]
  },
  {
   "cell_type": "markdown",
   "metadata": {},
   "source": [
    "В этом задании вы можете записывать формулы в *Jupyter Notebook.*\n",
    "\n",
    "Чтобы записать формулу внутри текста, окружите её символами доллара \\\\$; если снаружи —  двойными символами \\\\$\\\\$. Эти формулы записываются на языке вёрстки *LaTeX.* \n",
    "\n",
    "Для примера мы записали формулы линейной регрессии. Можете их скопировать и отредактировать, чтобы решить задачу.\n",
    "\n",
    "Работать в *LaTeX* необязательно."
   ]
  },
  {
   "cell_type": "markdown",
   "metadata": {},
   "source": [
    "Обозначения:\n",
    "\n",
    "- $X$ — матрица признаков (нулевой столбец состоит из единиц)\n",
    "\n",
    "- $y$ — вектор целевого признака\n",
    "\n",
    "- $P$ — матрица, на которую умножаются признаки\n",
    "\n",
    "- $w$ — вектор весов линейной регрессии (нулевой элемент равен сдвигу)"
   ]
  },
  {
   "cell_type": "markdown",
   "metadata": {},
   "source": [
    "Предсказания:\n",
    "\n",
    "$$\n",
    "a = Xw\n",
    "$$\n",
    "\n",
    "Задача обучения:\n",
    "\n",
    "$$\n",
    "w = \\arg\\min_w MSE(Xw, y)\n",
    "$$\n",
    "\n",
    "Формула обучения:\n",
    "\n",
    "$$\n",
    "w = (X^T X)^{-1} X^T y\n",
    "$$"
   ]
  },
  {
   "cell_type": "markdown",
   "metadata": {},
   "source": [
    "**Признаки умножают на обратимую матрицу. Изменится ли качество линейной регрессии? (Её можно обучить заново.)**"
   ]
  },
  {
   "cell_type": "markdown",
   "metadata": {},
   "source": [
    "Пусть P - обратимая матрица. Тогда, новая матрица признаков:\n",
    "$$\n",
    " X' = X P\n",
    "$$\n",
    "\n",
    "Новые предсказания:\n",
    "\n",
    "$$a' = X'w'$$\n",
    "\n",
    "где $w'$ - решение новой задачи (с новым набором признаков - $X'$):\n",
    "\n",
    "$$\n",
    "w' = (X'^T X')^{-1} X'^T y\n",
    "$$\n",
    "\n",
    "или:\n",
    "\n",
    "$$\n",
    "w' = ((XP)^T X P)^{-1} (XP)^T y = (P^T X^T X P)^{-1} P^T X^T y = P^{-1}(X^T X)^{-1} (P^T)^{-1} P^T X^T y\n",
    "$$\n",
    "\n",
    "$(P^T)^{-1} P^T = E$ - т.к. $P$ - обратимая матрица по условию, то и $P^T$ обратимая матрица. Тогда:\n",
    "\n",
    "$$\n",
    "w' = P^{-1}\\underbrace{(X^T X)^{-1} X^T y}_{w} = P^{-1} w\n",
    "$$\n",
    "\n",
    "Подставим полученный результат в формулу для новых предсказаний:\n",
    "$$\n",
    "a' = X P P^{-1} w = X w = a\n",
    "$$\n",
    "\n",
    "Таким образом мы доказали, что умножение матрицы признаков на обратимую матрицу не меняет предсказания модели линейной регрессии.\n"
   ]
  },
  {
   "cell_type": "markdown",
   "metadata": {},
   "source": [
    "## Алгоритм преобразования"
   ]
  },
  {
   "cell_type": "markdown",
   "metadata": {},
   "source": [
    "**Алгоритм**\n",
    "\n",
    " В соответствии с полученным результатом: \n",
    " \n",
    "1. Возьмем часть данных без целевого признака. \n",
    "\n",
    "2. Создадим случайную квадратную матрицу P соответствующего размера\n",
    "\n",
    "3. Проверим её на обратимость. \n",
    "\n",
    "4. Домножим матрицу признаков (без целевого признака) на матрицу P.\n",
    "\n",
    "5. На полученных данных можем обучать модель линейной регрессии. "
   ]
  },
  {
   "cell_type": "markdown",
   "metadata": {},
   "source": [
    "**Обоснование**\n",
    "\n",
    "1. В разделе 2. мы показали, что предсказания модели \"линейная регрессия\" на данных, полученных таким способом, не изменятся.\n",
    "\n",
    "2. Данные будут изменены. Сопоставить их напрямую с изначальными данными можно только зная матрицу P. "
   ]
  },
  {
   "cell_type": "markdown",
   "metadata": {},
   "source": [
    "## Проверка алгоритма"
   ]
  },
  {
   "cell_type": "markdown",
   "metadata": {},
   "source": [
    "Получение P матрицы:"
   ]
  },
  {
   "cell_type": "code",
   "execution_count": 15,
   "metadata": {},
   "outputs": [],
   "source": [
    "def get_matrix(size, state):\n",
    "    rng = np.random.RandomState(state)\n",
    "    p_matrix = rng.randint(100,size=(size,size))\n",
    "    try:\n",
    "        p_matrix_inv = np.linalg.inv(p_matrix)\n",
    "        return p_matrix\n",
    "    except:\n",
    "        print(\"Случайная матрица оказалась необратимой!\")\n",
    "        "
   ]
  },
  {
   "cell_type": "markdown",
   "metadata": {},
   "source": [
    "Разделим признаки и целевой признак; зашифруем данные:"
   ]
  },
  {
   "cell_type": "code",
   "execution_count": 16,
   "metadata": {},
   "outputs": [
    {
     "data": {
      "text/html": [
       "<div>\n",
       "<style scoped>\n",
       "    .dataframe tbody tr th:only-of-type {\n",
       "        vertical-align: middle;\n",
       "    }\n",
       "\n",
       "    .dataframe tbody tr th {\n",
       "        vertical-align: top;\n",
       "    }\n",
       "\n",
       "    .dataframe thead th {\n",
       "        text-align: right;\n",
       "    }\n",
       "</style>\n",
       "<table border=\"1\" class=\"dataframe\">\n",
       "  <thead>\n",
       "    <tr style=\"text-align: right;\">\n",
       "      <th></th>\n",
       "      <th>Пол</th>\n",
       "      <th>Возраст</th>\n",
       "      <th>Зарплата</th>\n",
       "      <th>Члены семьи</th>\n",
       "    </tr>\n",
       "  </thead>\n",
       "  <tbody>\n",
       "    <tr>\n",
       "      <th>0</th>\n",
       "      <td>4765115.0</td>\n",
       "      <td>2333725.0</td>\n",
       "      <td>3624449.0</td>\n",
       "      <td>1591277.0</td>\n",
       "    </tr>\n",
       "    <tr>\n",
       "      <th>1</th>\n",
       "      <td>3651864.0</td>\n",
       "      <td>1788718.0</td>\n",
       "      <td>2777981.0</td>\n",
       "      <td>1220545.0</td>\n",
       "    </tr>\n",
       "    <tr>\n",
       "      <th>2</th>\n",
       "      <td>2018407.0</td>\n",
       "      <td>988653.0</td>\n",
       "      <td>1535494.0</td>\n",
       "      <td>674813.0</td>\n",
       "    </tr>\n",
       "    <tr>\n",
       "      <th>3</th>\n",
       "      <td>4005035.0</td>\n",
       "      <td>1961289.0</td>\n",
       "      <td>3045956.0</td>\n",
       "      <td>1336603.0</td>\n",
       "    </tr>\n",
       "    <tr>\n",
       "      <th>4</th>\n",
       "      <td>2507990.0</td>\n",
       "      <td>1228388.0</td>\n",
       "      <td>1907806.0</td>\n",
       "      <td>837933.0</td>\n",
       "    </tr>\n",
       "  </tbody>\n",
       "</table>\n",
       "</div>"
      ],
      "text/plain": [
       "         Пол    Возраст   Зарплата  Члены семьи\n",
       "0  4765115.0  2333725.0  3624449.0    1591277.0\n",
       "1  3651864.0  1788718.0  2777981.0    1220545.0\n",
       "2  2018407.0   988653.0  1535494.0     674813.0\n",
       "3  4005035.0  1961289.0  3045956.0    1336603.0\n",
       "4  2507990.0  1228388.0  1907806.0     837933.0"
      ]
     },
     "execution_count": 16,
     "metadata": {},
     "output_type": "execute_result"
    }
   ],
   "source": [
    "target = clients['Страховые выплаты']\n",
    "features = clients.drop('Страховые выплаты', axis=1)\n",
    "\n",
    "size = features.shape[1]\n",
    "state = 123\n",
    "\n",
    "P = get_matrix(size, state)\n",
    "\n",
    "features_encripted = pd.DataFrame(np.dot(features,P), columns=features.columns)\n",
    "\n",
    "features_encripted.head()"
   ]
  },
  {
   "cell_type": "markdown",
   "metadata": {},
   "source": [
    "Обучим модель линейная регрессия на исходных данных и получим метрики качества (не будем разбивать данные на обучающую и тестовую выборки, т.к. перед нами стоит задача проверки качества шифрования, а не обучения модели):"
   ]
  },
  {
   "cell_type": "code",
   "execution_count": 17,
   "metadata": {},
   "outputs": [
    {
     "name": "stdout",
     "output_type": "stream",
     "text": [
      "Метрика MSE на исходных данных: 0.12334688941710859\n",
      "Метрика R2 на исходных данных: 0.4249455028666801\n"
     ]
    }
   ],
   "source": [
    "model = LinearRegression()\n",
    "model.fit(features,target)\n",
    "predict = model.predict(features)\n",
    "\n",
    "mse = mean_squared_error(target,predict)\n",
    "r2 = r2_score(target,predict)\n",
    "\n",
    "print('Метрика MSE на исходных данных:',mse)\n",
    "print('Метрика R2 на исходных данных:',r2)"
   ]
  },
  {
   "cell_type": "markdown",
   "metadata": {},
   "source": [
    "Обучим эту же модель на зашифрованных данных и получим метрики качества:"
   ]
  },
  {
   "cell_type": "code",
   "execution_count": 18,
   "metadata": {},
   "outputs": [
    {
     "name": "stdout",
     "output_type": "stream",
     "text": [
      "Метрика MSE на зашифрованных данных: 0.12334688941710759\n",
      "Метрика R2 на зашифрованных данных: 0.42494550286668475\n"
     ]
    }
   ],
   "source": [
    "model = LinearRegression()\n",
    "model.fit(features_encripted,target)\n",
    "predict_enc = model.predict(features_encripted)\n",
    "\n",
    "mse = mean_squared_error(target,predict_enc)\n",
    "r2 = r2_score(target,predict_enc)\n",
    "\n",
    "print('Метрика MSE на зашифрованных данных:',mse)\n",
    "print('Метрика R2 на зашифрованных данных:',r2)"
   ]
  },
  {
   "cell_type": "markdown",
   "metadata": {},
   "source": [
    "**Вывод:**\n",
    "\n",
    " - Метрики не изменились (разница в 15-м знаке - связана с погрешностью вычислений). \n",
    " - Алгоритм шифрования не влияет на результат."
   ]
  }
 ],
 "metadata": {
  "ExecuteTimeLog": [
   {
    "duration": 468,
    "start_time": "2022-12-04T17:02:47.096Z"
   },
   {
    "duration": 100,
    "start_time": "2022-12-04T17:03:35.766Z"
   },
   {
    "duration": 13,
    "start_time": "2022-12-04T17:03:57.558Z"
   },
   {
    "duration": 16,
    "start_time": "2022-12-04T17:04:16.349Z"
   },
   {
    "duration": 435,
    "start_time": "2022-12-05T19:21:24.604Z"
   },
   {
    "duration": 74,
    "start_time": "2022-12-05T19:21:25.310Z"
   },
   {
    "duration": 13,
    "start_time": "2022-12-05T19:21:26.030Z"
   },
   {
    "duration": 16,
    "start_time": "2022-12-05T19:21:27.430Z"
   },
   {
    "duration": 24,
    "start_time": "2022-12-05T19:21:28.182Z"
   },
   {
    "duration": 11,
    "start_time": "2022-12-05T19:22:51.536Z"
   },
   {
    "duration": 8,
    "start_time": "2022-12-05T19:24:14.146Z"
   },
   {
    "duration": 7,
    "start_time": "2022-12-05T19:24:29.209Z"
   },
   {
    "duration": 79,
    "start_time": "2022-12-06T15:17:24.767Z"
   },
   {
    "duration": 372,
    "start_time": "2022-12-06T17:38:11.283Z"
   },
   {
    "duration": 99,
    "start_time": "2022-12-06T17:38:12.455Z"
   },
   {
    "duration": 11,
    "start_time": "2022-12-06T17:38:13.185Z"
   },
   {
    "duration": 15,
    "start_time": "2022-12-06T17:38:13.801Z"
   },
   {
    "duration": 22,
    "start_time": "2022-12-06T17:38:16.055Z"
   },
   {
    "duration": 10,
    "start_time": "2022-12-06T17:38:19.211Z"
   },
   {
    "duration": 74,
    "start_time": "2022-12-06T17:40:44.582Z"
   },
   {
    "duration": 27,
    "start_time": "2022-12-06T17:41:05.700Z"
   },
   {
    "duration": 11,
    "start_time": "2022-12-06T17:41:09.975Z"
   },
   {
    "duration": 3,
    "start_time": "2022-12-06T17:41:43.757Z"
   },
   {
    "duration": 27,
    "start_time": "2022-12-06T17:41:44.089Z"
   },
   {
    "duration": 10,
    "start_time": "2022-12-06T17:41:44.455Z"
   },
   {
    "duration": 9,
    "start_time": "2022-12-06T17:41:44.923Z"
   },
   {
    "duration": 27,
    "start_time": "2022-12-06T17:41:50.920Z"
   },
   {
    "duration": 9,
    "start_time": "2022-12-06T17:41:52.339Z"
   },
   {
    "duration": 5,
    "start_time": "2022-12-06T17:41:52.963Z"
   },
   {
    "duration": 2,
    "start_time": "2022-12-06T17:41:53.637Z"
   },
   {
    "duration": 11,
    "start_time": "2022-12-06T17:42:02.837Z"
   },
   {
    "duration": 4,
    "start_time": "2022-12-06T17:43:12.306Z"
   },
   {
    "duration": 3,
    "start_time": "2022-12-06T17:45:50.170Z"
   },
   {
    "duration": 301,
    "start_time": "2022-12-06T17:50:00.632Z"
   },
   {
    "duration": 3,
    "start_time": "2022-12-06T17:50:28.320Z"
   },
   {
    "duration": 4,
    "start_time": "2022-12-06T17:50:36.139Z"
   },
   {
    "duration": 5,
    "start_time": "2022-12-06T17:50:43.002Z"
   },
   {
    "duration": 4,
    "start_time": "2022-12-06T17:56:35.673Z"
   },
   {
    "duration": 368,
    "start_time": "2022-12-06T17:56:48.296Z"
   },
   {
    "duration": 5,
    "start_time": "2022-12-06T17:56:57.794Z"
   },
   {
    "duration": 3,
    "start_time": "2022-12-06T18:13:11.211Z"
   },
   {
    "duration": 5,
    "start_time": "2022-12-06T18:16:06.940Z"
   },
   {
    "duration": 3,
    "start_time": "2022-12-06T18:16:17.758Z"
   },
   {
    "duration": 5,
    "start_time": "2022-12-06T18:16:18.259Z"
   },
   {
    "duration": 6,
    "start_time": "2022-12-06T18:17:58.095Z"
   },
   {
    "duration": 702,
    "start_time": "2022-12-06T18:19:36.016Z"
   },
   {
    "duration": 91,
    "start_time": "2022-12-06T18:20:00.633Z"
   },
   {
    "duration": 21,
    "start_time": "2022-12-06T18:20:54.063Z"
   },
   {
    "duration": 17,
    "start_time": "2022-12-06T18:21:07.927Z"
   },
   {
    "duration": 17,
    "start_time": "2022-12-06T18:21:30.398Z"
   },
   {
    "duration": 19,
    "start_time": "2022-12-06T18:25:47.685Z"
   },
   {
    "duration": 14,
    "start_time": "2022-12-06T18:32:56.777Z"
   },
   {
    "duration": 9,
    "start_time": "2022-12-06T18:33:07.505Z"
   },
   {
    "duration": 2,
    "start_time": "2022-12-06T18:33:15.400Z"
   },
   {
    "duration": 10,
    "start_time": "2022-12-06T18:33:20.672Z"
   },
   {
    "duration": 10,
    "start_time": "2022-12-06T18:33:43.808Z"
   },
   {
    "duration": 16,
    "start_time": "2022-12-06T18:44:00.291Z"
   },
   {
    "duration": 11,
    "start_time": "2022-12-06T18:46:21.067Z"
   },
   {
    "duration": 10,
    "start_time": "2022-12-06T18:46:22.863Z"
   },
   {
    "duration": 10,
    "start_time": "2022-12-06T18:47:28.910Z"
   },
   {
    "duration": 11,
    "start_time": "2022-12-06T18:47:58.129Z"
   },
   {
    "duration": 5,
    "start_time": "2022-12-06T18:48:19.524Z"
   },
   {
    "duration": 5,
    "start_time": "2022-12-06T18:48:30.733Z"
   },
   {
    "duration": 1137,
    "start_time": "2022-12-06T18:52:48.608Z"
   },
   {
    "duration": 27,
    "start_time": "2022-12-06T18:52:49.746Z"
   },
   {
    "duration": 11,
    "start_time": "2022-12-06T18:52:49.775Z"
   },
   {
    "duration": 16,
    "start_time": "2022-12-06T18:52:49.787Z"
   },
   {
    "duration": 28,
    "start_time": "2022-12-06T18:52:49.805Z"
   },
   {
    "duration": 13,
    "start_time": "2022-12-06T18:52:49.835Z"
   },
   {
    "duration": 6,
    "start_time": "2022-12-06T18:52:49.849Z"
   },
   {
    "duration": 6,
    "start_time": "2022-12-06T18:52:49.857Z"
   },
   {
    "duration": 58,
    "start_time": "2022-12-06T18:52:49.865Z"
   },
   {
    "duration": 93,
    "start_time": "2022-12-06T18:52:49.926Z"
   },
   {
    "duration": 102,
    "start_time": "2022-12-06T18:52:50.020Z"
   },
   {
    "duration": 1532,
    "start_time": "2022-12-06T20:26:19.279Z"
   },
   {
    "duration": 96,
    "start_time": "2022-12-06T20:26:20.813Z"
   },
   {
    "duration": 15,
    "start_time": "2022-12-06T20:28:51.652Z"
   },
   {
    "duration": 24,
    "start_time": "2022-12-06T20:28:52.403Z"
   },
   {
    "duration": 37,
    "start_time": "2022-12-06T20:28:52.959Z"
   },
   {
    "duration": 18,
    "start_time": "2022-12-06T20:28:53.658Z"
   },
   {
    "duration": 8,
    "start_time": "2022-12-06T20:28:54.489Z"
   },
   {
    "duration": 3,
    "start_time": "2022-12-06T20:39:08.059Z"
   },
   {
    "duration": 22,
    "start_time": "2022-12-06T20:39:33.340Z"
   },
   {
    "duration": 13,
    "start_time": "2022-12-06T20:39:40.438Z"
   },
   {
    "duration": 12,
    "start_time": "2022-12-06T20:39:45.179Z"
   },
   {
    "duration": 1087,
    "start_time": "2022-12-07T14:17:13.274Z"
   },
   {
    "duration": 122,
    "start_time": "2022-12-07T14:17:14.363Z"
   },
   {
    "duration": 15,
    "start_time": "2022-12-07T14:17:18.702Z"
   },
   {
    "duration": 20,
    "start_time": "2022-12-07T14:17:19.605Z"
   },
   {
    "duration": 24,
    "start_time": "2022-12-07T14:17:20.407Z"
   },
   {
    "duration": 1522,
    "start_time": "2022-12-07T14:23:09.348Z"
   },
   {
    "duration": 9,
    "start_time": "2022-12-07T14:23:26.221Z"
   },
   {
    "duration": 9,
    "start_time": "2022-12-07T14:28:55.083Z"
   },
   {
    "duration": 9,
    "start_time": "2022-12-07T14:29:08.882Z"
   },
   {
    "duration": 421,
    "start_time": "2022-12-07T14:29:14.865Z"
   },
   {
    "duration": 31,
    "start_time": "2022-12-07T14:29:19.170Z"
   },
   {
    "duration": 6,
    "start_time": "2022-12-07T14:30:17.462Z"
   },
   {
    "duration": 12,
    "start_time": "2022-12-07T14:31:57.221Z"
   },
   {
    "duration": 15,
    "start_time": "2022-12-07T14:32:17.877Z"
   },
   {
    "duration": 180,
    "start_time": "2022-12-07T14:35:04.302Z"
   },
   {
    "duration": 160,
    "start_time": "2022-12-07T14:35:36.223Z"
   },
   {
    "duration": 913,
    "start_time": "2022-12-07T14:35:46.871Z"
   },
   {
    "duration": 163,
    "start_time": "2022-12-07T14:37:58.282Z"
   },
   {
    "duration": 12,
    "start_time": "2022-12-07T14:38:13.463Z"
   },
   {
    "duration": 10,
    "start_time": "2022-12-07T14:39:01.644Z"
   },
   {
    "duration": 8,
    "start_time": "2022-12-07T14:43:26.431Z"
   },
   {
    "duration": 57,
    "start_time": "2022-12-07T14:44:15.792Z"
   },
   {
    "duration": 84,
    "start_time": "2022-12-07T14:44:22.447Z"
   },
   {
    "duration": 88,
    "start_time": "2022-12-07T14:44:34.511Z"
   },
   {
    "duration": 98,
    "start_time": "2022-12-07T14:45:13.313Z"
   },
   {
    "duration": 81,
    "start_time": "2022-12-07T14:45:18.684Z"
   },
   {
    "duration": 99,
    "start_time": "2022-12-07T14:45:31.396Z"
   },
   {
    "duration": 131,
    "start_time": "2022-12-07T14:50:47.627Z"
   },
   {
    "duration": 84,
    "start_time": "2022-12-07T14:51:13.355Z"
   },
   {
    "duration": 6,
    "start_time": "2022-12-07T14:55:00.437Z"
   },
   {
    "duration": 232,
    "start_time": "2022-12-07T15:00:43.587Z"
   },
   {
    "duration": 144,
    "start_time": "2022-12-07T15:01:04.008Z"
   },
   {
    "duration": 147,
    "start_time": "2022-12-07T15:01:15.545Z"
   },
   {
    "duration": 133,
    "start_time": "2022-12-07T15:01:34.496Z"
   },
   {
    "duration": 14,
    "start_time": "2022-12-07T15:04:58.079Z"
   },
   {
    "duration": 13,
    "start_time": "2022-12-07T15:06:12.472Z"
   },
   {
    "duration": 14,
    "start_time": "2022-12-07T15:07:39.602Z"
   },
   {
    "duration": 12,
    "start_time": "2022-12-07T15:07:40.497Z"
   },
   {
    "duration": 15,
    "start_time": "2022-12-07T15:08:02.665Z"
   },
   {
    "duration": 14,
    "start_time": "2022-12-07T15:15:26.252Z"
   },
   {
    "duration": 13,
    "start_time": "2022-12-07T15:15:26.989Z"
   },
   {
    "duration": 133,
    "start_time": "2022-12-07T15:17:01.085Z"
   },
   {
    "duration": 120,
    "start_time": "2022-12-07T15:17:23.845Z"
   },
   {
    "duration": 146,
    "start_time": "2022-12-07T15:18:12.082Z"
   },
   {
    "duration": 17,
    "start_time": "2022-12-07T15:23:26.346Z"
   },
   {
    "duration": 165,
    "start_time": "2022-12-07T15:23:55.001Z"
   },
   {
    "duration": 190,
    "start_time": "2022-12-07T15:24:05.697Z"
   },
   {
    "duration": 20,
    "start_time": "2022-12-07T15:25:15.080Z"
   },
   {
    "duration": 1967,
    "start_time": "2022-12-07T15:25:58.302Z"
   },
   {
    "duration": 10,
    "start_time": "2022-12-07T15:26:29.558Z"
   },
   {
    "duration": 15,
    "start_time": "2022-12-07T15:26:36.781Z"
   },
   {
    "duration": 2118,
    "start_time": "2022-12-07T15:27:20.643Z"
   },
   {
    "duration": 118,
    "start_time": "2022-12-07T15:27:45.789Z"
   },
   {
    "duration": 138,
    "start_time": "2022-12-07T15:27:55.922Z"
   },
   {
    "duration": 155,
    "start_time": "2022-12-07T15:28:08.019Z"
   },
   {
    "duration": 5,
    "start_time": "2022-12-07T15:39:35.955Z"
   },
   {
    "duration": 1476,
    "start_time": "2022-12-07T15:41:26.272Z"
   },
   {
    "duration": 29,
    "start_time": "2022-12-07T15:41:27.750Z"
   },
   {
    "duration": 14,
    "start_time": "2022-12-07T15:41:27.782Z"
   },
   {
    "duration": 40,
    "start_time": "2022-12-07T15:41:27.800Z"
   },
   {
    "duration": 27,
    "start_time": "2022-12-07T15:41:27.842Z"
   },
   {
    "duration": 893,
    "start_time": "2022-12-07T15:41:27.870Z"
   },
   {
    "duration": 6,
    "start_time": "2022-12-07T15:41:28.765Z"
   },
   {
    "duration": 122,
    "start_time": "2022-12-07T15:41:28.772Z"
   },
   {
    "duration": 92,
    "start_time": "2022-12-07T15:41:28.904Z"
   },
   {
    "duration": 17,
    "start_time": "2022-12-07T15:41:29.005Z"
   },
   {
    "duration": 16,
    "start_time": "2022-12-07T15:41:29.023Z"
   },
   {
    "duration": 146,
    "start_time": "2022-12-07T15:41:29.041Z"
   },
   {
    "duration": 154,
    "start_time": "2022-12-07T15:41:29.189Z"
   },
   {
    "duration": 7,
    "start_time": "2022-12-07T15:41:29.344Z"
   },
   {
    "duration": 4,
    "start_time": "2022-12-07T15:41:29.353Z"
   },
   {
    "duration": 65,
    "start_time": "2022-12-07T15:41:29.358Z"
   },
   {
    "duration": 100,
    "start_time": "2022-12-07T15:41:29.424Z"
   },
   {
    "duration": 95,
    "start_time": "2022-12-07T15:41:29.525Z"
   }
  ],
  "kernelspec": {
   "display_name": "Python 3 (ipykernel)",
   "language": "python",
   "name": "python3"
  },
  "language_info": {
   "codemirror_mode": {
    "name": "ipython",
    "version": 3
   },
   "file_extension": ".py",
   "mimetype": "text/x-python",
   "name": "python",
   "nbconvert_exporter": "python",
   "pygments_lexer": "ipython3",
   "version": "3.9.13"
  },
  "toc": {
   "base_numbering": 1,
   "nav_menu": {},
   "number_sections": true,
   "sideBar": true,
   "skip_h1_title": true,
   "title_cell": "Содержание",
   "title_sidebar": "Contents",
   "toc_cell": true,
   "toc_position": {},
   "toc_section_display": true,
   "toc_window_display": true
  }
 },
 "nbformat": 4,
 "nbformat_minor": 2
}
