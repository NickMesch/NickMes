{
 "cells": [
  {
   "cell_type": "markdown",
   "metadata": {
    "toc": true
   },
   "source": [
    "<h1>Содержание<span class=\"tocSkip\"></span></h1>\n",
    "<div class=\"toc\"><ul class=\"toc-item\"><li><span><a href=\"#Подготовка\" data-toc-modified-id=\"Подготовка-1\"><span class=\"toc-item-num\">1&nbsp;&nbsp;</span>Подготовка</a></span><ul class=\"toc-item\"><li><span><a href=\"#Обзор-данных:\" data-toc-modified-id=\"Обзор-данных:-1.1\"><span class=\"toc-item-num\">1.1&nbsp;&nbsp;</span>Обзор данных:</a></span></li><li><span><a href=\"#Подготовка-данных\" data-toc-modified-id=\"Подготовка-данных-1.2\"><span class=\"toc-item-num\">1.2&nbsp;&nbsp;</span>Подготовка данных</a></span></li></ul></li><li><span><a href=\"#Обучение\" data-toc-modified-id=\"Обучение-2\"><span class=\"toc-item-num\">2&nbsp;&nbsp;</span>Обучение</a></span><ul class=\"toc-item\"><li><span><a href=\"#Логистическая-регрессия\" data-toc-modified-id=\"Логистическая-регрессия-2.1\"><span class=\"toc-item-num\">2.1&nbsp;&nbsp;</span>Логистическая регрессия</a></span></li><li><span><a href=\"#Дерево-решений\" data-toc-modified-id=\"Дерево-решений-2.2\"><span class=\"toc-item-num\">2.2&nbsp;&nbsp;</span>Дерево решений</a></span></li></ul></li><li><span><a href=\"#Выводы\" data-toc-modified-id=\"Выводы-3\"><span class=\"toc-item-num\">3&nbsp;&nbsp;</span>Выводы</a></span></li><li><span><a href=\"#Чек-лист-проверки\" data-toc-modified-id=\"Чек-лист-проверки-4\"><span class=\"toc-item-num\">4&nbsp;&nbsp;</span>Чек-лист проверки</a></span></li></ul></div>"
   ]
  },
  {
   "cell_type": "markdown",
   "metadata": {},
   "source": [
    "# Проект для «Викишоп»"
   ]
  },
  {
   "cell_type": "markdown",
   "metadata": {},
   "source": [
    "Интернет-магазин «Викишоп» запускает новый сервис. Теперь пользователи могут редактировать и дополнять описания товаров, как в вики-сообществах. То есть клиенты предлагают свои правки и комментируют изменения других. Магазину нужен инструмент, который будет искать токсичные комментарии и отправлять их на модерацию. \n",
    "\n",
    "Обучите модель классифицировать комментарии на позитивные и негативные. В вашем распоряжении набор данных с разметкой о токсичности правок.\n",
    "\n",
    "Постройте модель со значением метрики качества *F1* не меньше 0.75. \n",
    "\n",
    "**План**\n",
    "\n",
    "1. Загрузить и подготовитье данные.\n",
    "2. Обучить разные модели. \n",
    "3. Выводы.\n",
    "\n",
    "Для выполнения проекта применять *BERT* необязательно, но вы можете попробовать.\n",
    "\n",
    "**Описание данных**\n",
    "\n",
    "Данные находятся в файле `toxic_comments.csv`. Столбец *text* в нём содержит текст комментария, а *toxic* — целевой признак."
   ]
  },
  {
   "cell_type": "markdown",
   "metadata": {},
   "source": [
    "## Подготовка"
   ]
  },
  {
   "cell_type": "code",
   "execution_count": 11,
   "metadata": {},
   "outputs": [
    {
     "name": "stderr",
     "output_type": "stream",
     "text": [
      "[nltk_data] Downloading package wordnet to /home/jovyan/nltk_data...\n",
      "[nltk_data]   Package wordnet is already up-to-date!\n",
      "[nltk_data] Downloading package averaged_perceptron_tagger to\n",
      "[nltk_data]     /home/jovyan/nltk_data...\n",
      "[nltk_data]   Package averaged_perceptron_tagger is already up-to-\n",
      "[nltk_data]       date!\n"
     ]
    }
   ],
   "source": [
    "import pandas as pd\n",
    "import matplotlib.pyplot as plt\n",
    "import seaborn as sns\n",
    "\n",
    "import nltk\n",
    "nltk.download('wordnet')\n",
    "nltk.download('averaged_perceptron_tagger')\n",
    "\n",
    "from nltk.stem import WordNetLemmatizer\n",
    "from nltk.corpus import stopwords as nltk_stopwords\n",
    "from nltk.corpus import wordnet\n",
    "from nltk.tokenize import word_tokenize\n",
    "\n",
    "import re\n",
    "\n",
    "from sklearn.feature_extraction.text import TfidfVectorizer\n",
    "from sklearn.feature_extraction.text import CountVectorizer\n",
    "\n",
    "from sklearn.linear_model import LogisticRegression\n",
    "from sklearn.ensemble import RandomForestClassifier\n",
    "from sklearn.tree import DecisionTreeClassifier\n",
    "import lightgbm as lgb\n",
    "\n",
    "from sklearn.model_selection import train_test_split, GridSearchCV, RandomizedSearchCV\n",
    "\n",
    "from sklearn.metrics import f1_score\n",
    "\n",
    "import warnings\n",
    "warnings.filterwarnings('ignore')\n"
   ]
  },
  {
   "cell_type": "markdown",
   "metadata": {},
   "source": [
    "### Обзор данных:"
   ]
  },
  {
   "cell_type": "markdown",
   "metadata": {},
   "source": [
    "Загрузим датасет:"
   ]
  },
  {
   "cell_type": "code",
   "execution_count": 12,
   "metadata": {},
   "outputs": [],
   "source": [
    "try:\n",
    "    comments = pd.read_csv('C:/ya_pr/comments/toxic_comments.csv', index_col=[0])\n",
    "except:\n",
    "    comments = pd.read_csv('/datasets/toxic_comments.csv', index_col=[0])\n",
    "    \n"
   ]
  },
  {
   "cell_type": "markdown",
   "metadata": {},
   "source": [
    "Ознакомимся с данными:"
   ]
  },
  {
   "cell_type": "code",
   "execution_count": 13,
   "metadata": {},
   "outputs": [
    {
     "name": "stdout",
     "output_type": "stream",
     "text": [
      "<class 'pandas.core.frame.DataFrame'>\n",
      "Int64Index: 159292 entries, 0 to 159450\n",
      "Data columns (total 2 columns):\n",
      " #   Column  Non-Null Count   Dtype \n",
      "---  ------  --------------   ----- \n",
      " 0   text    159292 non-null  object\n",
      " 1   toxic   159292 non-null  int64 \n",
      "dtypes: int64(1), object(1)\n",
      "memory usage: 3.6+ MB\n"
     ]
    }
   ],
   "source": [
    "comments.info()"
   ]
  },
  {
   "cell_type": "code",
   "execution_count": 14,
   "metadata": {},
   "outputs": [
    {
     "data": {
      "text/html": [
       "<div>\n",
       "<style scoped>\n",
       "    .dataframe tbody tr th:only-of-type {\n",
       "        vertical-align: middle;\n",
       "    }\n",
       "\n",
       "    .dataframe tbody tr th {\n",
       "        vertical-align: top;\n",
       "    }\n",
       "\n",
       "    .dataframe thead th {\n",
       "        text-align: right;\n",
       "    }\n",
       "</style>\n",
       "<table border=\"1\" class=\"dataframe\">\n",
       "  <thead>\n",
       "    <tr style=\"text-align: right;\">\n",
       "      <th></th>\n",
       "      <th>text</th>\n",
       "      <th>toxic</th>\n",
       "    </tr>\n",
       "  </thead>\n",
       "  <tbody>\n",
       "    <tr>\n",
       "      <th>0</th>\n",
       "      <td>Explanation\\nWhy the edits made under my usern...</td>\n",
       "      <td>0</td>\n",
       "    </tr>\n",
       "    <tr>\n",
       "      <th>1</th>\n",
       "      <td>D'aww! He matches this background colour I'm s...</td>\n",
       "      <td>0</td>\n",
       "    </tr>\n",
       "    <tr>\n",
       "      <th>2</th>\n",
       "      <td>Hey man, I'm really not trying to edit war. It...</td>\n",
       "      <td>0</td>\n",
       "    </tr>\n",
       "    <tr>\n",
       "      <th>3</th>\n",
       "      <td>\"\\nMore\\nI can't make any real suggestions on ...</td>\n",
       "      <td>0</td>\n",
       "    </tr>\n",
       "    <tr>\n",
       "      <th>4</th>\n",
       "      <td>You, sir, are my hero. Any chance you remember...</td>\n",
       "      <td>0</td>\n",
       "    </tr>\n",
       "  </tbody>\n",
       "</table>\n",
       "</div>"
      ],
      "text/plain": [
       "                                                text  toxic\n",
       "0  Explanation\\nWhy the edits made under my usern...      0\n",
       "1  D'aww! He matches this background colour I'm s...      0\n",
       "2  Hey man, I'm really not trying to edit war. It...      0\n",
       "3  \"\\nMore\\nI can't make any real suggestions on ...      0\n",
       "4  You, sir, are my hero. Any chance you remember...      0"
      ]
     },
     "execution_count": 14,
     "metadata": {},
     "output_type": "execute_result"
    }
   ],
   "source": [
    "comments.head()"
   ]
  },
  {
   "cell_type": "code",
   "execution_count": 15,
   "metadata": {},
   "outputs": [
    {
     "data": {
      "text/plain": [
       "0"
      ]
     },
     "execution_count": 15,
     "metadata": {},
     "output_type": "execute_result"
    }
   ],
   "source": [
    "comments.duplicated().sum()"
   ]
  },
  {
   "cell_type": "markdown",
   "metadata": {},
   "source": [
    " - Дубликатов нет."
   ]
  },
  {
   "cell_type": "markdown",
   "metadata": {},
   "source": [
    "Проверим баланс классов по целевому признаку:"
   ]
  },
  {
   "cell_type": "code",
   "execution_count": 16,
   "metadata": {},
   "outputs": [
    {
     "data": {
      "text/plain": [
       "0    143106\n",
       "1     16186\n",
       "Name: toxic, dtype: int64"
      ]
     },
     "execution_count": 16,
     "metadata": {},
     "output_type": "execute_result"
    }
   ],
   "source": [
    "comments.toxic.value_counts()"
   ]
  },
  {
   "cell_type": "markdown",
   "metadata": {},
   "source": [
    " - классы не сбалансированы. Учтем это при разбиении на тренировочную и тестовую выборки, а так же при обучении моделей."
   ]
  },
  {
   "cell_type": "markdown",
   "metadata": {},
   "source": [
    "### Подготовка данных"
   ]
  },
  {
   "cell_type": "markdown",
   "metadata": {},
   "source": [
    "Удалим из текстов посторонние символы, числа и лишние пробелы, а так же приведем к нижнему регистру. Токенизируем и лемматизируем тексты. Для этого сделаем соответствующие функции:"
   ]
  },
  {
   "cell_type": "markdown",
   "metadata": {},
   "source": [
    "Очистка текста от лишних символов:"
   ]
  },
  {
   "cell_type": "code",
   "execution_count": 17,
   "metadata": {},
   "outputs": [],
   "source": [
    "def clear_text(text):\n",
    "    text = re.sub(r'[^a-zA-Z ]', ' ', text).lower()\n",
    "    return \" \".join(text.split())"
   ]
  },
  {
   "cell_type": "markdown",
   "metadata": {},
   "source": [
    "Получение POS-тегов NLTK и сопоставление с форматом, принятым лемматизатором wordnet:"
   ]
  },
  {
   "cell_type": "code",
   "execution_count": 18,
   "metadata": {},
   "outputs": [],
   "source": [
    "def get_wordnet_pos(word):\n",
    "    tag = nltk.pos_tag([word])[0][1][0].upper()\n",
    "    tag_dict = {\"J\": wordnet.ADJ,\n",
    "                \"N\": wordnet.NOUN,\n",
    "                \"V\": wordnet.VERB,\n",
    "                \"R\": wordnet.ADV}\n",
    "    return tag_dict.get(tag, wordnet.NOUN)"
   ]
  },
  {
   "cell_type": "markdown",
   "metadata": {},
   "source": [
    "Лемматизация с учетом POS-тегов (частей речи):"
   ]
  },
  {
   "cell_type": "code",
   "execution_count": 19,
   "metadata": {},
   "outputs": [],
   "source": [
    "def lemmatize_pos(text):\n",
    "    lemmatizer = WordNetLemmatizer()\n",
    "    word_list = nltk.word_tokenize(text)\n",
    "    lemmatized_output = ' '.join([lemmatizer.lemmatize(w, get_wordnet_pos(w)) for w in word_list])\n",
    "    return lemmatized_output"
   ]
  },
  {
   "cell_type": "code",
   "execution_count": 20,
   "metadata": {},
   "outputs": [],
   "source": [
    "comments['lemm'] = comments['text'].apply(clear_text)\n",
    "comments['lemm'] = comments['lemm'].apply(lemmatize_pos)"
   ]
  },
  {
   "cell_type": "code",
   "execution_count": 21,
   "metadata": {},
   "outputs": [
    {
     "data": {
      "text/html": [
       "<div>\n",
       "<style scoped>\n",
       "    .dataframe tbody tr th:only-of-type {\n",
       "        vertical-align: middle;\n",
       "    }\n",
       "\n",
       "    .dataframe tbody tr th {\n",
       "        vertical-align: top;\n",
       "    }\n",
       "\n",
       "    .dataframe thead th {\n",
       "        text-align: right;\n",
       "    }\n",
       "</style>\n",
       "<table border=\"1\" class=\"dataframe\">\n",
       "  <thead>\n",
       "    <tr style=\"text-align: right;\">\n",
       "      <th></th>\n",
       "      <th>text</th>\n",
       "      <th>toxic</th>\n",
       "      <th>lemm</th>\n",
       "    </tr>\n",
       "  </thead>\n",
       "  <tbody>\n",
       "    <tr>\n",
       "      <th>0</th>\n",
       "      <td>Explanation\\nWhy the edits made under my usern...</td>\n",
       "      <td>0</td>\n",
       "      <td>explanation why the edits make under my userna...</td>\n",
       "    </tr>\n",
       "    <tr>\n",
       "      <th>1</th>\n",
       "      <td>D'aww! He matches this background colour I'm s...</td>\n",
       "      <td>0</td>\n",
       "      <td>d aww he match this background colour i m seem...</td>\n",
       "    </tr>\n",
       "    <tr>\n",
       "      <th>2</th>\n",
       "      <td>Hey man, I'm really not trying to edit war. It...</td>\n",
       "      <td>0</td>\n",
       "      <td>hey man i m really not try to edit war it s ju...</td>\n",
       "    </tr>\n",
       "    <tr>\n",
       "      <th>3</th>\n",
       "      <td>\"\\nMore\\nI can't make any real suggestions on ...</td>\n",
       "      <td>0</td>\n",
       "      <td>more i can t make any real suggestion on impro...</td>\n",
       "    </tr>\n",
       "    <tr>\n",
       "      <th>4</th>\n",
       "      <td>You, sir, are my hero. Any chance you remember...</td>\n",
       "      <td>0</td>\n",
       "      <td>you sir be my hero any chance you remember wha...</td>\n",
       "    </tr>\n",
       "  </tbody>\n",
       "</table>\n",
       "</div>"
      ],
      "text/plain": [
       "                                                text  toxic  \\\n",
       "0  Explanation\\nWhy the edits made under my usern...      0   \n",
       "1  D'aww! He matches this background colour I'm s...      0   \n",
       "2  Hey man, I'm really not trying to edit war. It...      0   \n",
       "3  \"\\nMore\\nI can't make any real suggestions on ...      0   \n",
       "4  You, sir, are my hero. Any chance you remember...      0   \n",
       "\n",
       "                                                lemm  \n",
       "0  explanation why the edits make under my userna...  \n",
       "1  d aww he match this background colour i m seem...  \n",
       "2  hey man i m really not try to edit war it s ju...  \n",
       "3  more i can t make any real suggestion on impro...  \n",
       "4  you sir be my hero any chance you remember wha...  "
      ]
     },
     "execution_count": 21,
     "metadata": {},
     "output_type": "execute_result"
    }
   ],
   "source": [
    "comments.head()"
   ]
  },
  {
   "cell_type": "markdown",
   "metadata": {},
   "source": [
    "Разобьем данные на тренировочную и тестовую выборки, с учетом выявленного ранее дисбаланса классов:"
   ]
  },
  {
   "cell_type": "code",
   "execution_count": 22,
   "metadata": {},
   "outputs": [],
   "source": [
    "X_train, X_test, y_train, y_test = train_test_split(comments['lemm'],\n",
    "                                                    comments['toxic'],\n",
    "                                                    test_size=0.2,\n",
    "                                                    random_state=123,\n",
    "                                                    stratify=comments['toxic'])"
   ]
  },
  {
   "cell_type": "markdown",
   "metadata": {},
   "source": [
    "Векторизуем тексты и очистим их от стоп-слов:"
   ]
  },
  {
   "cell_type": "code",
   "execution_count": 23,
   "metadata": {},
   "outputs": [],
   "source": [
    "stopwords = set(nltk_stopwords.words('english'))"
   ]
  },
  {
   "cell_type": "code",
   "execution_count": 24,
   "metadata": {},
   "outputs": [],
   "source": [
    "tf_idf_vec = TfidfVectorizer(ngram_range=(1,1), stop_words=stopwords,\n",
    "               use_idf=1,\n",
    "               smooth_idf=1, sublinear_tf=1 )"
   ]
  },
  {
   "cell_type": "code",
   "execution_count": 25,
   "metadata": {},
   "outputs": [],
   "source": [
    "X_train_vec = tf_idf_vec.fit_transform(X_train)"
   ]
  },
  {
   "cell_type": "code",
   "execution_count": 26,
   "metadata": {},
   "outputs": [],
   "source": [
    "X_test_vec = tf_idf_vec.transform(X_test)"
   ]
  },
  {
   "cell_type": "code",
   "execution_count": 29,
   "metadata": {},
   "outputs": [
    {
     "name": "stdout",
     "output_type": "stream",
     "text": [
      "Тренировочная выборка: (127433, 132685)\n",
      "Тестовая выборка: (31859, 132685)\n"
     ]
    }
   ],
   "source": [
    "print(f\"Тренировочная выборка: {X_train_vec.shape}\")\n",
    "print(f\"Тестовая выборка: {X_test_vec.shape}\")"
   ]
  },
  {
   "cell_type": "markdown",
   "metadata": {},
   "source": [
    "## Обучение"
   ]
  },
  {
   "cell_type": "markdown",
   "metadata": {},
   "source": [
    "Функция для обучения модели:"
   ]
  },
  {
   "cell_type": "code",
   "execution_count": 30,
   "metadata": {},
   "outputs": [],
   "source": [
    "def execute_model(model, param, features, target):\n",
    "    cv_model = GridSearchCV(\n",
    "        estimator=model,\n",
    "        param_grid=param,\n",
    "        cv=3,\n",
    "        scoring='f1',\n",
    "        n_jobs=-1,\n",
    "        verbose=2)\n",
    "    \n",
    "    cv_model.fit(features, target)\n",
    "    \n",
    "    print('Лучший F1:',cv_model.best_score_)\n",
    "    print('Лучшие параметры:',cv_model.best_params_)"
   ]
  },
  {
   "cell_type": "markdown",
   "metadata": {},
   "source": [
    "### Логистическая регрессия"
   ]
  },
  {
   "cell_type": "markdown",
   "metadata": {},
   "source": [
    "Набор параметров учитывает существенный дисбаланс классов:"
   ]
  },
  {
   "cell_type": "code",
   "execution_count": 19,
   "metadata": {},
   "outputs": [
    {
     "name": "stdout",
     "output_type": "stream",
     "text": [
      "Fitting 3 folds for each of 6 candidates, totalling 18 fits\n",
      "[CV] END .........................C=5, class_weight=balanced; total time=  37.1s\n",
      "[CV] END .........................C=5, class_weight=balanced; total time=  35.8s\n",
      "[CV] END .........................C=5, class_weight=balanced; total time=  38.0s\n",
      "[CV] END .............................C=5, class_weight=None; total time=  37.4s\n",
      "[CV] END .............................C=5, class_weight=None; total time=  37.2s\n",
      "[CV] END .............................C=5, class_weight=None; total time=  34.8s\n",
      "[CV] END ........................C=10, class_weight=balanced; total time=  39.7s\n",
      "[CV] END ........................C=10, class_weight=balanced; total time=  36.8s\n",
      "[CV] END ........................C=10, class_weight=balanced; total time=  37.6s\n",
      "[CV] END ............................C=10, class_weight=None; total time=  39.4s\n",
      "[CV] END ............................C=10, class_weight=None; total time=  37.9s\n",
      "[CV] END ............................C=10, class_weight=None; total time=  39.1s\n",
      "[CV] END ........................C=15, class_weight=balanced; total time=  37.4s\n",
      "[CV] END ........................C=15, class_weight=balanced; total time=  37.5s\n",
      "[CV] END ........................C=15, class_weight=balanced; total time=  41.7s\n",
      "[CV] END ............................C=15, class_weight=None; total time=  38.3s\n",
      "[CV] END ............................C=15, class_weight=None; total time=  38.0s\n",
      "[CV] END ............................C=15, class_weight=None; total time=  36.1s\n",
      "Лучший F1: 0.7645703975693258\n",
      "Лучшие параметры: {'C': 15, 'class_weight': 'None'}\n"
     ]
    }
   ],
   "source": [
    "lr_model = LogisticRegression()\n",
    "params = {'C': [5,10,15],\n",
    "         'class_weight': ['balanced','None']}\n",
    "execute_model(lr_model, params, X_train_vec, y_train)"
   ]
  },
  {
   "cell_type": "markdown",
   "metadata": {},
   "source": [
    "### Дерево решений"
   ]
  },
  {
   "cell_type": "code",
   "execution_count": 20,
   "metadata": {},
   "outputs": [
    {
     "name": "stdout",
     "output_type": "stream",
     "text": [
      "Fitting 3 folds for each of 3 candidates, totalling 9 fits\n",
      "[CV] END .......................................max_depth=60; total time=  22.3s\n",
      "[CV] END .......................................max_depth=60; total time=  22.3s\n",
      "[CV] END .......................................max_depth=60; total time=  22.6s\n",
      "[CV] END .......................................max_depth=80; total time=  27.6s\n",
      "[CV] END .......................................max_depth=80; total time=  28.0s\n",
      "[CV] END .......................................max_depth=80; total time=  28.4s\n",
      "[CV] END ......................................max_depth=100; total time=  33.0s\n",
      "[CV] END ......................................max_depth=100; total time=  33.3s\n",
      "[CV] END ......................................max_depth=100; total time=  33.7s\n",
      "Лучший F1: 0.7158289728700611\n",
      "Лучшие параметры: {'max_depth': 100}\n"
     ]
    }
   ],
   "source": [
    "dt_model = DecisionTreeClassifier()\n",
    "params = {'max_depth': [60,80,100]}\n",
    "execute_model(dt_model, params, X_train_vec, y_train)"
   ]
  },
  {
   "cell_type": "code",
   "execution_count": 21,
   "metadata": {},
   "outputs": [
    {
     "name": "stdout",
     "output_type": "stream",
     "text": [
      "Fitting 3 folds for each of 3 candidates, totalling 9 fits\n",
      "[CV] END ................class_weight=balanced, max_depth=60; total time=  32.0s\n",
      "[CV] END ................class_weight=balanced, max_depth=60; total time=  31.8s\n",
      "[CV] END ................class_weight=balanced, max_depth=60; total time=  31.6s\n",
      "[CV] END ................class_weight=balanced, max_depth=80; total time=  38.1s\n",
      "[CV] END ................class_weight=balanced, max_depth=80; total time=  39.1s\n",
      "[CV] END ................class_weight=balanced, max_depth=80; total time=  37.7s\n",
      "[CV] END ...............class_weight=balanced, max_depth=100; total time=  42.3s\n",
      "[CV] END ...............class_weight=balanced, max_depth=100; total time=  43.5s\n",
      "[CV] END ...............class_weight=balanced, max_depth=100; total time=  41.0s\n",
      "Лучший F1: 0.641939214164111\n",
      "Лучшие параметры: {'class_weight': 'balanced', 'max_depth': 100}\n"
     ]
    }
   ],
   "source": [
    "dt_b_model = DecisionTreeClassifier()\n",
    "params = {'max_depth': [60,80,100],\n",
    "         'class_weight': ['balanced']}\n",
    "execute_model(dt_b_model, params, X_train_vec, y_train)"
   ]
  },
  {
   "cell_type": "code",
   "execution_count": 31,
   "metadata": {},
   "outputs": [
    {
     "name": "stdout",
     "output_type": "stream",
     "text": [
      "Fitting 3 folds for each of 2 candidates, totalling 6 fits\n",
      "[CV] END .......................................max_depth=50; total time= 1.5min\n",
      "[CV] END .......................................max_depth=50; total time= 1.5min\n",
      "[CV] END .......................................max_depth=50; total time= 1.6min\n",
      "[CV] END .......................................max_depth=80; total time= 2.5min\n",
      "[CV] END .......................................max_depth=80; total time= 2.5min\n",
      "[CV] END .......................................max_depth=80; total time= 2.7min\n",
      "Лучший F1: 0.15801372410607387\n",
      "Лучшие параметры: {'max_depth': 80}\n"
     ]
    }
   ],
   "source": [
    "rf_model = RandomForestClassifier()\n",
    "params = {'max_depth': [50,80]}\n",
    "execute_model(rf_model, params, X_train_vec, y_train)"
   ]
  },
  {
   "cell_type": "code",
   "execution_count": 32,
   "metadata": {},
   "outputs": [
    {
     "name": "stdout",
     "output_type": "stream",
     "text": [
      "Fitting 3 folds for each of 2 candidates, totalling 6 fits\n",
      "[CV] END ................class_weight=balanced, max_depth=50; total time= 1.7min\n",
      "[CV] END ................class_weight=balanced, max_depth=50; total time= 1.7min\n",
      "[CV] END ................class_weight=balanced, max_depth=50; total time= 1.6min\n",
      "[CV] END ................class_weight=balanced, max_depth=80; total time= 2.8min\n",
      "[CV] END ................class_weight=balanced, max_depth=80; total time= 2.8min\n",
      "[CV] END ................class_weight=balanced, max_depth=80; total time= 2.8min\n",
      "Лучший F1: 0.5254520626366858\n",
      "Лучшие параметры: {'class_weight': 'balanced', 'max_depth': 80}\n"
     ]
    }
   ],
   "source": [
    "rf_b_model = RandomForestClassifier()\n",
    "params = {'max_depth': [50,80],\n",
    "         'class_weight': ['balanced']}\n",
    "execute_model(rf_b_model, params, X_train_vec, y_train)"
   ]
  },
  {
   "cell_type": "markdown",
   "metadata": {},
   "source": [
    "## Выводы"
   ]
  },
  {
   "cell_type": "markdown",
   "metadata": {},
   "source": [
    "Лучшие результаты на тренировочных выборках показала модель \"Логистическая регрессия\":\n",
    "\n",
    "Лучший F1: 0.765\n",
    "\n",
    "Лучшие параметры: {'C': 15, 'class_weight': 'None'}"
   ]
  },
  {
   "cell_type": "markdown",
   "metadata": {},
   "source": [
    " - отметим, что несмотря на дисбаланс классов, модель (логистическая регрессия) не учитывающая этот факт показала лучшие результаты. (\"Случайный лес деревьев\" наоборот - вариант с учетом дисбаланса классов показывает кратно лучшие результаты, но в любом случае они хуже чем у логистической регрессии."
   ]
  },
  {
   "cell_type": "markdown",
   "metadata": {},
   "source": [
    "Обучим лучшую модель на полной тренировочной выборке и посчитаем метрику качества на тестовой выборке:"
   ]
  },
  {
   "cell_type": "code",
   "execution_count": 33,
   "metadata": {},
   "outputs": [
    {
     "name": "stdout",
     "output_type": "stream",
     "text": [
      "F1 на тестовой выборке: 0.783\n"
     ]
    }
   ],
   "source": [
    "model = LogisticRegression(C=15)\n",
    "model.fit(X_train_vec, y_train)\n",
    "predictions = model.predict(X_test_vec)\n",
    "f1_test = f1_score(y_test,predictions)\n",
    "\n",
    "print(f'F1 на тестовой выборке: {f1_test:.3f}')\n"
   ]
  },
  {
   "cell_type": "markdown",
   "metadata": {},
   "source": [
    " - Требуемый в задаче размер метрики качества F1 (f1>0.75) достигнут на модели \"Логистическая регрессия\": F1 = 0.783"
   ]
  }
 ],
 "metadata": {
  "ExecuteTimeLog": [
   {
    "duration": 449,
    "start_time": "2023-01-05T13:13:16.705Z"
   },
   {
    "duration": 3469,
    "start_time": "2023-01-05T13:13:53.203Z"
   },
   {
    "duration": 15,
    "start_time": "2023-01-05T13:14:00.437Z"
   },
   {
    "duration": 39,
    "start_time": "2023-01-05T13:23:19.571Z"
   },
   {
    "duration": 1507,
    "start_time": "2023-01-05T18:55:10.825Z"
   },
   {
    "duration": 2573,
    "start_time": "2023-01-05T18:55:14.673Z"
   },
   {
    "duration": 15,
    "start_time": "2023-01-05T18:55:19.464Z"
   },
   {
    "duration": 31,
    "start_time": "2023-01-05T18:55:33.743Z"
   },
   {
    "duration": 4,
    "start_time": "2023-01-05T18:56:19.534Z"
   },
   {
    "duration": 807,
    "start_time": "2023-01-05T18:57:59.984Z"
   },
   {
    "duration": 9,
    "start_time": "2023-01-05T18:58:01.515Z"
   },
   {
    "duration": 30,
    "start_time": "2023-01-05T18:58:02.899Z"
   },
   {
    "duration": 3,
    "start_time": "2023-01-05T18:58:04.315Z"
   },
   {
    "duration": 3,
    "start_time": "2023-01-05T18:58:36.908Z"
   },
   {
    "duration": 3,
    "start_time": "2023-01-05T18:58:43.267Z"
   },
   {
    "duration": 107,
    "start_time": "2023-01-05T18:58:49.794Z"
   },
   {
    "duration": 1832,
    "start_time": "2023-01-05T18:58:57.585Z"
   },
   {
    "duration": 77542,
    "start_time": "2023-01-05T18:59:10.050Z"
   },
   {
    "duration": 3,
    "start_time": "2023-01-05T19:01:16.983Z"
   },
   {
    "duration": 11,
    "start_time": "2023-01-05T19:01:17.976Z"
   },
   {
    "duration": 3,
    "start_time": "2023-01-05T19:28:11.517Z"
   },
   {
    "duration": 48,
    "start_time": "2023-01-05T19:28:16.897Z"
   },
   {
    "duration": 3,
    "start_time": "2023-01-05T19:28:21.345Z"
   },
   {
    "duration": 4888,
    "start_time": "2023-01-05T19:28:23.919Z"
   },
   {
    "duration": 1174,
    "start_time": "2023-01-05T19:28:29.591Z"
   },
   {
    "duration": 1399,
    "start_time": "2023-01-06T15:48:49.291Z"
   },
   {
    "duration": 5058,
    "start_time": "2023-01-06T15:48:51.653Z"
   },
   {
    "duration": 14,
    "start_time": "2023-01-06T15:48:57.804Z"
   },
   {
    "duration": 34,
    "start_time": "2023-01-06T15:49:01.945Z"
   },
   {
    "duration": 4,
    "start_time": "2023-01-06T15:49:04.765Z"
   },
   {
    "duration": 4,
    "start_time": "2023-01-06T15:49:05.243Z"
   },
   {
    "duration": 1874,
    "start_time": "2023-01-06T15:49:08.840Z"
   },
   {
    "duration": 5,
    "start_time": "2023-01-06T15:49:31.299Z"
   },
   {
    "duration": 4,
    "start_time": "2023-01-06T15:49:38.155Z"
   },
   {
    "duration": 9,
    "start_time": "2023-01-06T15:49:59.545Z"
   },
   {
    "duration": 7,
    "start_time": "2023-01-06T15:51:51.895Z"
   },
   {
    "duration": 5,
    "start_time": "2023-01-06T15:52:28.499Z"
   },
   {
    "duration": 5,
    "start_time": "2023-01-06T15:52:44.563Z"
   },
   {
    "duration": 100563,
    "start_time": "2023-01-06T15:53:15.200Z"
   },
   {
    "duration": 4,
    "start_time": "2023-01-06T15:55:29.561Z"
   },
   {
    "duration": 87867,
    "start_time": "2023-01-06T15:58:01.343Z"
   },
   {
    "duration": 4,
    "start_time": "2023-01-06T16:43:33.848Z"
   },
   {
    "duration": 65,
    "start_time": "2023-01-06T16:43:44.448Z"
   },
   {
    "duration": 4,
    "start_time": "2023-01-06T16:45:45.606Z"
   },
   {
    "duration": 5685,
    "start_time": "2023-01-06T16:45:51.460Z"
   },
   {
    "duration": 1367,
    "start_time": "2023-01-06T16:45:57.147Z"
   },
   {
    "duration": 7,
    "start_time": "2023-01-06T16:45:58.516Z"
   },
   {
    "duration": 122,
    "start_time": "2023-01-06T16:46:28.824Z"
   },
   {
    "duration": 4,
    "start_time": "2023-01-06T16:46:54.295Z"
   },
   {
    "duration": 3,
    "start_time": "2023-01-06T16:46:59.257Z"
   },
   {
    "duration": 34033,
    "start_time": "2023-01-06T16:50:50.191Z"
   },
   {
    "duration": 5,
    "start_time": "2023-01-06T16:52:05.609Z"
   },
   {
    "duration": 11,
    "start_time": "2023-01-06T16:53:06.830Z"
   },
   {
    "duration": 17,
    "start_time": "2023-01-06T16:53:15.166Z"
   },
   {
    "duration": 3,
    "start_time": "2023-01-06T16:55:13.578Z"
   },
   {
    "duration": 22702,
    "start_time": "2023-01-06T16:55:14.026Z"
   },
   {
    "duration": 6,
    "start_time": "2023-01-06T16:55:36.730Z"
   },
   {
    "duration": 127,
    "start_time": "2023-01-06T16:55:36.738Z"
   },
   {
    "duration": 3,
    "start_time": "2023-01-06T16:55:44.394Z"
   },
   {
    "duration": 33400,
    "start_time": "2023-01-06T16:55:44.723Z"
   },
   {
    "duration": 5,
    "start_time": "2023-01-06T16:56:18.125Z"
   },
   {
    "duration": 17,
    "start_time": "2023-01-06T16:56:18.131Z"
   },
   {
    "duration": 3,
    "start_time": "2023-01-06T16:56:29.968Z"
   },
   {
    "duration": 35482,
    "start_time": "2023-01-06T16:56:30.343Z"
   },
   {
    "duration": 19,
    "start_time": "2023-01-06T16:57:05.836Z"
   },
   {
    "duration": 22,
    "start_time": "2023-01-06T16:57:05.861Z"
   },
   {
    "duration": 10,
    "start_time": "2023-01-06T16:59:23.396Z"
   },
   {
    "duration": 6,
    "start_time": "2023-01-06T16:59:44.674Z"
   },
   {
    "duration": 11,
    "start_time": "2023-01-06T16:59:45.491Z"
   },
   {
    "duration": 2,
    "start_time": "2023-01-06T17:00:31.395Z"
   },
   {
    "duration": 8886,
    "start_time": "2023-01-06T17:00:32.173Z"
   },
   {
    "duration": 9,
    "start_time": "2023-01-06T17:00:41.062Z"
   },
   {
    "duration": 18,
    "start_time": "2023-01-06T17:00:41.074Z"
   },
   {
    "duration": 3,
    "start_time": "2023-01-06T17:01:00.440Z"
   },
   {
    "duration": 1643,
    "start_time": "2023-01-06T17:01:01.138Z"
   },
   {
    "duration": 6,
    "start_time": "2023-01-06T17:01:02.783Z"
   },
   {
    "duration": 60,
    "start_time": "2023-01-06T17:01:02.790Z"
   },
   {
    "duration": 3,
    "start_time": "2023-01-06T17:01:22.345Z"
   },
   {
    "duration": 14,
    "start_time": "2023-01-06T17:01:22.832Z"
   },
   {
    "duration": 3,
    "start_time": "2023-01-06T17:01:43.304Z"
   },
   {
    "duration": 2668,
    "start_time": "2023-01-06T17:01:43.799Z"
   },
   {
    "duration": 5,
    "start_time": "2023-01-06T17:01:46.469Z"
   },
   {
    "duration": 20,
    "start_time": "2023-01-06T17:01:46.475Z"
   },
   {
    "duration": 4,
    "start_time": "2023-01-06T17:01:57.832Z"
   },
   {
    "duration": 11,
    "start_time": "2023-01-06T17:01:58.278Z"
   },
   {
    "duration": 3,
    "start_time": "2023-01-06T17:02:50.254Z"
   },
   {
    "duration": 124206,
    "start_time": "2023-01-06T17:02:50.781Z"
   },
   {
    "duration": 5,
    "start_time": "2023-01-06T17:04:54.989Z"
   },
   {
    "duration": 15,
    "start_time": "2023-01-06T17:04:54.996Z"
   },
   {
    "duration": 3,
    "start_time": "2023-01-06T17:05:15.649Z"
   },
   {
    "duration": 1530,
    "start_time": "2023-01-06T17:05:15.992Z"
   },
   {
    "duration": 5,
    "start_time": "2023-01-06T17:05:17.524Z"
   },
   {
    "duration": 14,
    "start_time": "2023-01-06T17:05:17.531Z"
   },
   {
    "duration": 3,
    "start_time": "2023-01-06T17:05:25.793Z"
   },
   {
    "duration": 1949,
    "start_time": "2023-01-06T17:05:26.361Z"
   },
   {
    "duration": 14,
    "start_time": "2023-01-06T17:05:28.312Z"
   },
   {
    "duration": 15,
    "start_time": "2023-01-06T17:05:32.145Z"
   },
   {
    "duration": 11,
    "start_time": "2023-01-06T17:10:44.706Z"
   },
   {
    "duration": 64,
    "start_time": "2023-01-06T17:11:32.991Z"
   },
   {
    "duration": 23992,
    "start_time": "2023-01-06T17:11:40.240Z"
   },
   {
    "duration": 107,
    "start_time": "2023-01-06T17:12:29.443Z"
   },
   {
    "duration": 16,
    "start_time": "2023-01-06T17:14:32.691Z"
   },
   {
    "duration": 12917,
    "start_time": "2023-01-06T17:14:46.179Z"
   },
   {
    "duration": 25824,
    "start_time": "2023-01-06T17:15:04.125Z"
   },
   {
    "duration": 33403,
    "start_time": "2023-01-06T17:15:29.951Z"
   },
   {
    "duration": 45812,
    "start_time": "2023-01-06T17:16:03.356Z"
   },
   {
    "duration": 64532,
    "start_time": "2023-01-06T17:16:49.170Z"
   },
   {
    "duration": 15,
    "start_time": "2023-01-06T18:00:44.749Z"
   },
   {
    "duration": 6,
    "start_time": "2023-01-06T18:01:19.477Z"
   },
   {
    "duration": 13,
    "start_time": "2023-01-06T18:01:28.303Z"
   },
   {
    "duration": 16,
    "start_time": "2023-01-06T18:01:53.591Z"
   },
   {
    "duration": 310778,
    "start_time": "2023-01-06T18:02:58.454Z"
   },
   {
    "duration": 14,
    "start_time": "2023-01-06T18:09:19.181Z"
   },
   {
    "duration": 14,
    "start_time": "2023-01-06T18:09:32.805Z"
   },
   {
    "duration": 489979,
    "start_time": "2023-01-06T18:09:44.844Z"
   },
   {
    "duration": 4,
    "start_time": "2023-01-06T18:19:01.106Z"
   },
   {
    "duration": 5,
    "start_time": "2023-01-06T18:19:15.841Z"
   },
   {
    "duration": 10,
    "start_time": "2023-01-06T18:19:39.290Z"
   },
   {
    "duration": 12,
    "start_time": "2023-01-06T18:19:50.055Z"
   },
   {
    "duration": 4,
    "start_time": "2023-01-06T18:20:12.023Z"
   },
   {
    "duration": 494440,
    "start_time": "2023-01-06T18:20:29.896Z"
   },
   {
    "duration": 636396,
    "start_time": "2023-01-06T18:28:44.339Z"
   },
   {
    "duration": 207523,
    "start_time": "2023-01-06T18:39:20.738Z"
   },
   {
    "duration": 0,
    "start_time": "2023-01-06T18:42:48.263Z"
   },
   {
    "duration": 0,
    "start_time": "2023-01-06T18:42:48.265Z"
   },
   {
    "duration": 648799,
    "start_time": "2023-01-06T18:44:51.038Z"
   },
   {
    "duration": 49,
    "start_time": "2023-01-06T19:05:59.405Z"
   },
   {
    "duration": 68,
    "start_time": "2023-01-06T19:16:59.349Z"
   },
   {
    "duration": 1627,
    "start_time": "2023-01-06T19:17:14.728Z"
   },
   {
    "duration": 77,
    "start_time": "2023-01-06T19:17:17.145Z"
   },
   {
    "duration": 3237,
    "start_time": "2023-01-06T19:17:20.499Z"
   },
   {
    "duration": 13,
    "start_time": "2023-01-06T19:17:23.738Z"
   },
   {
    "duration": 36,
    "start_time": "2023-01-06T19:17:25.345Z"
   },
   {
    "duration": 4,
    "start_time": "2023-01-06T19:17:28.139Z"
   },
   {
    "duration": 3,
    "start_time": "2023-01-06T19:17:28.825Z"
   },
   {
    "duration": 1953,
    "start_time": "2023-01-06T19:17:29.336Z"
   },
   {
    "duration": 37456,
    "start_time": "2023-01-06T19:17:31.292Z"
   },
   {
    "duration": 0,
    "start_time": "2023-01-06T19:18:08.750Z"
   },
   {
    "duration": 9,
    "start_time": "2023-01-06T19:18:12.558Z"
   },
   {
    "duration": 1035,
    "start_time": "2023-01-06T19:18:13.584Z"
   },
   {
    "duration": 11,
    "start_time": "2023-01-06T19:18:14.639Z"
   },
   {
    "duration": 37,
    "start_time": "2023-01-06T19:18:15.959Z"
   },
   {
    "duration": 4,
    "start_time": "2023-01-06T19:18:17.033Z"
   },
   {
    "duration": 3,
    "start_time": "2023-01-06T19:18:17.464Z"
   },
   {
    "duration": 1493,
    "start_time": "2023-01-06T19:19:11.869Z"
   },
   {
    "duration": 3501,
    "start_time": "2023-01-06T19:19:13.494Z"
   },
   {
    "duration": 12,
    "start_time": "2023-01-06T19:19:16.997Z"
   },
   {
    "duration": 33,
    "start_time": "2023-01-06T19:19:21.148Z"
   },
   {
    "duration": 3,
    "start_time": "2023-01-06T19:19:21.807Z"
   },
   {
    "duration": 3,
    "start_time": "2023-01-06T19:19:22.318Z"
   },
   {
    "duration": 1982,
    "start_time": "2023-01-06T19:19:23.341Z"
   },
   {
    "duration": 75892,
    "start_time": "2023-01-06T19:19:27.246Z"
   },
   {
    "duration": 3,
    "start_time": "2023-01-06T19:29:06.514Z"
   },
   {
    "duration": 56,
    "start_time": "2023-01-06T19:29:07.172Z"
   },
   {
    "duration": 3,
    "start_time": "2023-01-06T19:29:07.916Z"
   },
   {
    "duration": 5019,
    "start_time": "2023-01-06T19:29:08.650Z"
   },
   {
    "duration": 1183,
    "start_time": "2023-01-06T19:29:15.170Z"
   },
   {
    "duration": 4,
    "start_time": "2023-01-06T19:29:16.355Z"
   },
   {
    "duration": 161371,
    "start_time": "2023-01-06T19:29:33.012Z"
   },
   {
    "duration": 11,
    "start_time": "2023-01-06T19:51:00.924Z"
   },
   {
    "duration": 3,
    "start_time": "2023-01-06T19:51:25.506Z"
   },
   {
    "duration": 3,
    "start_time": "2023-01-06T19:54:22.285Z"
   },
   {
    "duration": 40,
    "start_time": "2023-01-06T19:54:27.906Z"
   },
   {
    "duration": 1530,
    "start_time": "2023-01-06T19:54:34.800Z"
   },
   {
    "duration": 3232,
    "start_time": "2023-01-06T19:54:36.332Z"
   },
   {
    "duration": 13,
    "start_time": "2023-01-06T19:54:40.960Z"
   },
   {
    "duration": 32,
    "start_time": "2023-01-06T19:54:41.537Z"
   },
   {
    "duration": 3,
    "start_time": "2023-01-06T19:54:45.219Z"
   },
   {
    "duration": 2,
    "start_time": "2023-01-06T19:54:45.729Z"
   },
   {
    "duration": 1850,
    "start_time": "2023-01-06T19:54:48.016Z"
   },
   {
    "duration": 73420,
    "start_time": "2023-01-06T19:54:51.288Z"
   },
   {
    "duration": 3,
    "start_time": "2023-01-06T19:56:54.967Z"
   },
   {
    "duration": 55,
    "start_time": "2023-01-06T19:56:55.878Z"
   },
   {
    "duration": 3,
    "start_time": "2023-01-06T19:56:57.406Z"
   },
   {
    "duration": 5103,
    "start_time": "2023-01-06T19:56:58.916Z"
   },
   {
    "duration": 1203,
    "start_time": "2023-01-06T19:57:07.076Z"
   },
   {
    "duration": 3,
    "start_time": "2023-01-06T19:57:09.581Z"
   },
   {
    "duration": 3,
    "start_time": "2023-01-06T19:57:17.568Z"
   },
   {
    "duration": 1134,
    "start_time": "2023-01-06T19:57:22.605Z"
   },
   {
    "duration": 59055,
    "start_time": "2023-01-06T19:57:55.695Z"
   },
   {
    "duration": 129858,
    "start_time": "2023-01-06T19:59:06.069Z"
   },
   {
    "duration": 791791,
    "start_time": "2023-01-06T20:01:25.039Z"
   },
   {
    "duration": 37,
    "start_time": "2023-01-06T20:15:10.156Z"
   },
   {
    "duration": 721,
    "start_time": "2023-01-06T20:15:36.547Z"
   },
   {
    "duration": 738,
    "start_time": "2023-01-06T20:16:07.786Z"
   },
   {
    "duration": 246269,
    "start_time": "2023-01-06T20:16:21.697Z"
   },
   {
    "duration": 49842,
    "start_time": "2023-01-06T20:21:30.242Z"
   },
   {
    "duration": 238260,
    "start_time": "2023-01-06T20:22:35.568Z"
   },
   {
    "duration": 320964,
    "start_time": "2023-01-06T20:33:00.743Z"
   },
   {
    "duration": 73,
    "start_time": "2023-01-06T20:38:21.709Z"
   },
   {
    "duration": 20696,
    "start_time": "2023-01-06T20:46:18.245Z"
   },
   {
    "duration": 4,
    "start_time": "2023-01-06T20:50:52.086Z"
   },
   {
    "duration": 736,
    "start_time": "2023-01-06T20:50:53.240Z"
   },
   {
    "duration": 30,
    "start_time": "2023-01-06T20:51:22.870Z"
   },
   {
    "duration": 7,
    "start_time": "2023-01-06T20:51:27.053Z"
   },
   {
    "duration": 199,
    "start_time": "2023-01-06T20:51:40.630Z"
   },
   {
    "duration": 186,
    "start_time": "2023-01-06T20:51:49.965Z"
   },
   {
    "duration": 5,
    "start_time": "2023-01-06T20:52:59.779Z"
   },
   {
    "duration": 90,
    "start_time": "2023-01-06T20:56:20.267Z"
   },
   {
    "duration": 586,
    "start_time": "2023-01-06T20:58:01.936Z"
   },
   {
    "duration": 6,
    "start_time": "2023-01-06T20:58:33.358Z"
   },
   {
    "duration": 5,
    "start_time": "2023-01-06T20:58:42.302Z"
   },
   {
    "duration": 24,
    "start_time": "2023-01-06T20:59:55.142Z"
   },
   {
    "duration": 12,
    "start_time": "2023-01-06T21:00:13.388Z"
   },
   {
    "duration": 13,
    "start_time": "2023-01-06T21:00:28.588Z"
   },
   {
    "duration": 79,
    "start_time": "2023-01-07T07:10:34.941Z"
   },
   {
    "duration": 1933,
    "start_time": "2023-01-07T07:12:24.999Z"
   },
   {
    "duration": 2251,
    "start_time": "2023-01-07T07:12:26.934Z"
   },
   {
    "duration": 29,
    "start_time": "2023-01-07T07:12:29.187Z"
   },
   {
    "duration": 9,
    "start_time": "2023-01-07T07:12:29.218Z"
   },
   {
    "duration": 215,
    "start_time": "2023-01-07T07:12:31.912Z"
   },
   {
    "duration": 6,
    "start_time": "2023-01-07T07:12:33.855Z"
   },
   {
    "duration": 2,
    "start_time": "2023-01-07T07:12:35.960Z"
   },
   {
    "duration": 3,
    "start_time": "2023-01-07T07:12:36.425Z"
   },
   {
    "duration": 1859,
    "start_time": "2023-01-07T07:12:38.016Z"
   },
   {
    "duration": 78873,
    "start_time": "2023-01-07T07:12:39.991Z"
   },
   {
    "duration": 132,
    "start_time": "2023-01-07T07:13:58.866Z"
   },
   {
    "duration": 4,
    "start_time": "2023-01-07T07:14:45.836Z"
   },
   {
    "duration": 92,
    "start_time": "2023-01-07T07:15:19.486Z"
   },
   {
    "duration": 6,
    "start_time": "2023-01-07T07:15:20.739Z"
   },
   {
    "duration": 11,
    "start_time": "2023-01-07T07:15:21.181Z"
   },
   {
    "duration": 5059,
    "start_time": "2023-01-07T07:15:21.546Z"
   },
   {
    "duration": 1254,
    "start_time": "2023-01-07T07:15:26.607Z"
   },
   {
    "duration": 3,
    "start_time": "2023-01-07T07:15:27.863Z"
   },
   {
    "duration": 4,
    "start_time": "2023-01-07T07:16:39.900Z"
   },
   {
    "duration": 642626,
    "start_time": "2023-01-07T07:19:32.500Z"
   },
   {
    "duration": 264193,
    "start_time": "2023-01-07T07:30:15.129Z"
   },
   {
    "duration": 345523,
    "start_time": "2023-01-07T07:34:39.324Z"
   },
   {
    "duration": 408952,
    "start_time": "2023-01-07T07:40:24.849Z"
   },
   {
    "duration": 513715,
    "start_time": "2023-01-07T07:47:13.803Z"
   },
   {
    "duration": 33997,
    "start_time": "2023-01-07T07:56:14.028Z"
   },
   {
    "duration": 1560,
    "start_time": "2023-01-07T08:04:15.478Z"
   },
   {
    "duration": 761,
    "start_time": "2023-01-07T08:04:17.039Z"
   },
   {
    "duration": 30,
    "start_time": "2023-01-07T08:04:17.802Z"
   },
   {
    "duration": 10,
    "start_time": "2023-01-07T08:04:17.834Z"
   },
   {
    "duration": 224,
    "start_time": "2023-01-07T08:04:17.845Z"
   },
   {
    "duration": 6,
    "start_time": "2023-01-07T08:04:18.071Z"
   },
   {
    "duration": 7,
    "start_time": "2023-01-07T08:04:18.078Z"
   },
   {
    "duration": 14,
    "start_time": "2023-01-07T08:04:18.087Z"
   },
   {
    "duration": 1858,
    "start_time": "2023-01-07T08:04:18.103Z"
   },
   {
    "duration": 78686,
    "start_time": "2023-01-07T08:04:19.963Z"
   },
   {
    "duration": 4,
    "start_time": "2023-01-07T08:05:38.651Z"
   },
   {
    "duration": 91,
    "start_time": "2023-01-07T08:05:38.656Z"
   },
   {
    "duration": 3,
    "start_time": "2023-01-07T08:05:38.749Z"
   },
   {
    "duration": 4,
    "start_time": "2023-01-07T08:05:38.754Z"
   },
   {
    "duration": 5065,
    "start_time": "2023-01-07T08:05:38.760Z"
   },
   {
    "duration": 1196,
    "start_time": "2023-01-07T08:05:43.826Z"
   },
   {
    "duration": 3,
    "start_time": "2023-01-07T08:05:45.024Z"
   },
   {
    "duration": 10,
    "start_time": "2023-01-07T08:05:45.029Z"
   },
   {
    "duration": 841091,
    "start_time": "2023-01-07T08:05:45.040Z"
   },
   {
    "duration": 340173,
    "start_time": "2023-01-07T08:19:46.133Z"
   },
   {
    "duration": 482442,
    "start_time": "2023-01-07T08:25:26.308Z"
   },
   {
    "duration": 751471,
    "start_time": "2023-01-07T08:33:28.751Z"
   },
   {
    "duration": 910375,
    "start_time": "2023-01-07T08:46:00.224Z"
   },
   {
    "duration": 47834,
    "start_time": "2023-01-07T09:01:10.601Z"
   },
   {
    "duration": 1789,
    "start_time": "2023-01-07T20:27:17.521Z"
   },
   {
    "duration": 2174,
    "start_time": "2023-01-07T20:27:19.317Z"
   },
   {
    "duration": 30,
    "start_time": "2023-01-07T20:27:21.493Z"
   },
   {
    "duration": 15,
    "start_time": "2023-01-07T20:27:21.524Z"
   },
   {
    "duration": 211,
    "start_time": "2023-01-07T20:27:24.205Z"
   },
   {
    "duration": 6,
    "start_time": "2023-01-07T20:27:26.207Z"
   },
   {
    "duration": 3,
    "start_time": "2023-01-07T20:27:28.698Z"
   },
   {
    "duration": 3,
    "start_time": "2023-01-07T20:27:29.472Z"
   },
   {
    "duration": 3,
    "start_time": "2023-01-07T20:27:39.565Z"
   },
   {
    "duration": 73556,
    "start_time": "2023-01-07T20:27:41.517Z"
   },
   {
    "duration": 4,
    "start_time": "2023-01-07T20:28:55.074Z"
   },
   {
    "duration": 90,
    "start_time": "2023-01-07T20:28:55.080Z"
   },
   {
    "duration": 4,
    "start_time": "2023-01-07T20:28:55.172Z"
   },
   {
    "duration": 3,
    "start_time": "2023-01-07T20:28:55.185Z"
   },
   {
    "duration": 4995,
    "start_time": "2023-01-07T20:28:55.189Z"
   },
   {
    "duration": 1213,
    "start_time": "2023-01-07T20:29:00.185Z"
   },
   {
    "duration": 4,
    "start_time": "2023-01-07T20:29:01.399Z"
   },
   {
    "duration": 3,
    "start_time": "2023-01-07T20:29:17.519Z"
   },
   {
    "duration": 319546,
    "start_time": "2023-01-07T20:29:54.363Z"
   },
   {
    "duration": 13,
    "start_time": "2023-01-07T20:35:48.736Z"
   },
   {
    "duration": 4883,
    "start_time": "2023-01-07T20:35:50.342Z"
   },
   {
    "duration": 1228,
    "start_time": "2023-01-07T20:35:55.227Z"
   },
   {
    "duration": 3,
    "start_time": "2023-01-07T20:36:02.914Z"
   },
   {
    "duration": 3,
    "start_time": "2023-01-07T20:36:05.028Z"
   },
   {
    "duration": 318778,
    "start_time": "2023-01-07T20:36:07.656Z"
   },
   {
    "duration": 1712,
    "start_time": "2023-01-08T12:00:36.465Z"
   },
   {
    "duration": 3013,
    "start_time": "2023-01-08T12:00:38.750Z"
   },
   {
    "duration": 29,
    "start_time": "2023-01-08T12:00:42.893Z"
   },
   {
    "duration": 10,
    "start_time": "2023-01-08T12:00:43.965Z"
   },
   {
    "duration": 207,
    "start_time": "2023-01-08T12:00:47.285Z"
   },
   {
    "duration": 7,
    "start_time": "2023-01-08T12:00:59.342Z"
   },
   {
    "duration": 3,
    "start_time": "2023-01-08T12:01:08.550Z"
   },
   {
    "duration": 3,
    "start_time": "2023-01-08T12:04:29.385Z"
   },
   {
    "duration": 114,
    "start_time": "2023-01-08T12:04:50.655Z"
   },
   {
    "duration": 3,
    "start_time": "2023-01-08T12:04:57.024Z"
   },
   {
    "duration": 4,
    "start_time": "2023-01-08T12:04:58.077Z"
   },
   {
    "duration": 1760,
    "start_time": "2023-01-08T12:05:40.975Z"
   },
   {
    "duration": 4,
    "start_time": "2023-01-08T12:05:47.661Z"
   },
   {
    "duration": 3,
    "start_time": "2023-01-08T12:06:03.157Z"
   },
   {
    "duration": 24,
    "start_time": "2023-01-08T12:06:58.547Z"
   },
   {
    "duration": 1130,
    "start_time": "2023-01-08T12:18:21.653Z"
   },
   {
    "duration": 13,
    "start_time": "2023-01-08T12:29:20.635Z"
   },
   {
    "duration": 13,
    "start_time": "2023-01-08T12:29:26.452Z"
   },
   {
    "duration": 11,
    "start_time": "2023-01-08T12:29:38.388Z"
   },
   {
    "duration": 15,
    "start_time": "2023-01-08T12:30:41.944Z"
   },
   {
    "duration": 175,
    "start_time": "2023-01-08T12:31:34.959Z"
   },
   {
    "duration": 14,
    "start_time": "2023-01-08T12:31:44.870Z"
   },
   {
    "duration": 13,
    "start_time": "2023-01-08T12:32:54.908Z"
   },
   {
    "duration": 2,
    "start_time": "2023-01-08T12:33:02.077Z"
   },
   {
    "duration": 362,
    "start_time": "2023-01-08T12:38:07.844Z"
   },
   {
    "duration": 94,
    "start_time": "2023-01-08T12:38:20.075Z"
   },
   {
    "duration": 3,
    "start_time": "2023-01-08T12:38:33.786Z"
   },
   {
    "duration": 4,
    "start_time": "2023-01-08T13:00:05.962Z"
   },
   {
    "duration": 3,
    "start_time": "2023-01-08T13:00:19.188Z"
   },
   {
    "duration": 68395,
    "start_time": "2023-01-08T13:01:51.057Z"
   },
   {
    "duration": 4,
    "start_time": "2023-01-08T13:05:38.239Z"
   },
   {
    "duration": 79,
    "start_time": "2023-01-08T13:05:50.522Z"
   },
   {
    "duration": 4,
    "start_time": "2023-01-08T13:05:52.522Z"
   },
   {
    "duration": 3,
    "start_time": "2023-01-08T13:05:53.106Z"
   },
   {
    "duration": 4777,
    "start_time": "2023-01-08T13:06:01.664Z"
   },
   {
    "duration": 1096,
    "start_time": "2023-01-08T13:06:06.443Z"
   },
   {
    "duration": 4,
    "start_time": "2023-01-08T13:06:19.923Z"
   },
   {
    "duration": 303959,
    "start_time": "2023-01-08T13:06:24.832Z"
   },
   {
    "duration": 1727,
    "start_time": "2023-01-08T13:19:01.426Z"
   },
   {
    "duration": 65490,
    "start_time": "2023-01-08T13:20:14.723Z"
   },
   {
    "duration": 61,
    "start_time": "2023-01-08T13:22:32.311Z"
   },
   {
    "duration": 2,
    "start_time": "2023-01-08T13:22:34.355Z"
   },
   {
    "duration": 13,
    "start_time": "2023-01-08T13:22:34.765Z"
   },
   {
    "duration": 4595,
    "start_time": "2023-01-08T13:22:35.867Z"
   },
   {
    "duration": 1118,
    "start_time": "2023-01-08T13:22:40.464Z"
   },
   {
    "duration": 3,
    "start_time": "2023-01-08T13:22:46.652Z"
   },
   {
    "duration": 4,
    "start_time": "2023-01-08T13:22:52.382Z"
   },
   {
    "duration": 305632,
    "start_time": "2023-01-08T13:22:56.874Z"
   },
   {
    "duration": 4,
    "start_time": "2023-01-08T13:30:32.781Z"
   },
   {
    "duration": 4,
    "start_time": "2023-01-08T13:30:47.905Z"
   },
   {
    "duration": 3,
    "start_time": "2023-01-08T13:32:18.565Z"
   },
   {
    "duration": 5,
    "start_time": "2023-01-08T13:32:46.061Z"
   },
   {
    "duration": 4,
    "start_time": "2023-01-08T13:35:40.158Z"
   },
   {
    "duration": 4,
    "start_time": "2023-01-08T13:36:28.452Z"
   },
   {
    "duration": 993413,
    "start_time": "2023-01-08T13:36:46.451Z"
   },
   {
    "duration": 78,
    "start_time": "2023-01-08T13:54:52.060Z"
   },
   {
    "duration": 3,
    "start_time": "2023-01-08T13:54:54.280Z"
   },
   {
    "duration": 12,
    "start_time": "2023-01-08T13:54:54.977Z"
   },
   {
    "duration": 4815,
    "start_time": "2023-01-08T13:55:01.921Z"
   },
   {
    "duration": 1123,
    "start_time": "2023-01-08T13:55:07.343Z"
   },
   {
    "duration": 3,
    "start_time": "2023-01-08T13:55:11.922Z"
   },
   {
    "duration": 4,
    "start_time": "2023-01-08T13:55:20.163Z"
   },
   {
    "duration": 303721,
    "start_time": "2023-01-08T13:55:31.168Z"
   },
   {
    "duration": 35,
    "start_time": "2023-01-08T14:00:46.784Z"
   },
   {
    "duration": 709458,
    "start_time": "2023-01-08T14:01:04.567Z"
   },
   {
    "duration": 8,
    "start_time": "2023-01-08T14:18:06.381Z"
   },
   {
    "duration": 9,
    "start_time": "2023-01-08T14:18:19.237Z"
   },
   {
    "duration": 7,
    "start_time": "2023-01-08T14:19:59.394Z"
   },
   {
    "duration": 1787,
    "start_time": "2023-01-08T14:44:16.249Z"
   },
   {
    "duration": 1045,
    "start_time": "2023-01-08T14:44:18.038Z"
   },
   {
    "duration": 33,
    "start_time": "2023-01-08T14:44:19.084Z"
   },
   {
    "duration": 9,
    "start_time": "2023-01-08T14:44:19.118Z"
   },
   {
    "duration": 215,
    "start_time": "2023-01-08T14:44:19.129Z"
   },
   {
    "duration": 5,
    "start_time": "2023-01-08T14:44:19.346Z"
   },
   {
    "duration": 3,
    "start_time": "2023-01-08T14:44:19.352Z"
   },
   {
    "duration": 5,
    "start_time": "2023-01-08T14:44:19.356Z"
   },
   {
    "duration": 7,
    "start_time": "2023-01-08T14:44:19.362Z"
   },
   {
    "duration": 984912,
    "start_time": "2023-01-08T14:44:19.371Z"
   },
   {
    "duration": 8,
    "start_time": "2023-01-08T15:00:44.284Z"
   },
   {
    "duration": 66,
    "start_time": "2023-01-08T15:00:44.294Z"
   },
   {
    "duration": 3,
    "start_time": "2023-01-08T15:00:44.362Z"
   },
   {
    "duration": 5,
    "start_time": "2023-01-08T15:00:44.367Z"
   },
   {
    "duration": 4493,
    "start_time": "2023-01-08T15:00:44.373Z"
   },
   {
    "duration": 1139,
    "start_time": "2023-01-08T15:00:48.867Z"
   },
   {
    "duration": 3,
    "start_time": "2023-01-08T15:00:50.008Z"
   },
   {
    "duration": 8,
    "start_time": "2023-01-08T15:00:50.013Z"
   },
   {
    "duration": 720700,
    "start_time": "2023-01-08T15:00:50.023Z"
   },
   {
    "duration": 298532,
    "start_time": "2023-01-08T15:12:50.813Z"
   },
   {
    "duration": 406293,
    "start_time": "2023-01-08T15:17:49.347Z"
   },
   {
    "duration": 0,
    "start_time": "2023-01-08T16:10:23.937Z"
   },
   {
    "duration": 10,
    "start_time": "2023-01-08T16:10:32.660Z"
   },
   {
    "duration": 945,
    "start_time": "2023-01-08T16:11:04.554Z"
   },
   {
    "duration": 29,
    "start_time": "2023-01-08T16:11:06.544Z"
   },
   {
    "duration": 7,
    "start_time": "2023-01-08T16:11:07.833Z"
   },
   {
    "duration": 233,
    "start_time": "2023-01-08T16:11:08.285Z"
   },
   {
    "duration": 6,
    "start_time": "2023-01-08T16:11:11.002Z"
   },
   {
    "duration": 3,
    "start_time": "2023-01-08T16:11:14.712Z"
   },
   {
    "duration": 4,
    "start_time": "2023-01-08T16:11:17.659Z"
   },
   {
    "duration": 3,
    "start_time": "2023-01-08T16:11:18.762Z"
   },
   {
    "duration": 1212295,
    "start_time": "2023-01-08T16:11:19.394Z"
   },
   {
    "duration": 9,
    "start_time": "2023-01-08T16:31:31.692Z"
   },
   {
    "duration": 71,
    "start_time": "2023-01-08T16:31:31.703Z"
   },
   {
    "duration": 13,
    "start_time": "2023-01-08T16:31:31.780Z"
   },
   {
    "duration": 7,
    "start_time": "2023-01-08T16:31:31.795Z"
   },
   {
    "duration": 5575,
    "start_time": "2023-01-08T16:31:31.803Z"
   },
   {
    "duration": 1359,
    "start_time": "2023-01-08T16:31:37.387Z"
   },
   {
    "duration": 3,
    "start_time": "2023-01-08T16:31:38.748Z"
   },
   {
    "duration": 10,
    "start_time": "2023-01-08T16:31:38.753Z"
   },
   {
    "duration": 4,
    "start_time": "2023-01-08T16:35:37.062Z"
   },
   {
    "duration": 4,
    "start_time": "2023-01-08T16:35:39.524Z"
   },
   {
    "duration": 805407,
    "start_time": "2023-01-08T16:35:46.054Z"
   },
   {
    "duration": 920434,
    "start_time": "2023-01-08T16:49:11.463Z"
   },
   {
    "duration": 49490,
    "start_time": "2023-01-08T17:04:43.915Z"
   }
  ],
  "kernelspec": {
   "display_name": "Python 3 (ipykernel)",
   "language": "python",
   "name": "python3"
  },
  "language_info": {
   "codemirror_mode": {
    "name": "ipython",
    "version": 3
   },
   "file_extension": ".py",
   "mimetype": "text/x-python",
   "name": "python",
   "nbconvert_exporter": "python",
   "pygments_lexer": "ipython3",
   "version": "3.9.13"
  },
  "toc": {
   "base_numbering": 1,
   "nav_menu": {},
   "number_sections": true,
   "sideBar": true,
   "skip_h1_title": true,
   "title_cell": "Содержание",
   "title_sidebar": "Contents",
   "toc_cell": true,
   "toc_position": {
    "height": "calc(100% - 180px)",
    "left": "10px",
    "top": "150px",
    "width": "302.391px"
   },
   "toc_section_display": true,
   "toc_window_display": false
  }
 },
 "nbformat": 4,
 "nbformat_minor": 2
}
