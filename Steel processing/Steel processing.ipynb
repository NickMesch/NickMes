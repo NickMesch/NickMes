{
 "cells": [
  {
   "cell_type": "markdown",
   "id": "835718b1",
   "metadata": {},
   "source": [
    "# Задача проекта\n",
    "\n",
    "Чтобы оптимизировать производственные расходы, металлургический комбинат ООО «Так закаляем сталь» решил уменьшить потребление электроэнергии на этапе обработки стали. Вам предстоит построить модель, которая предскажет температуру стали.\n",
    "\n",
    "### Описание этапа обработки\n",
    "\n",
    "Сталь обрабатывают в металлическом ковше вместимостью около 100 тонн. Чтобы ковш выдерживал высокие температуры, изнутри его облицовывают огнеупорным кирпичом. Расплавленную сталь заливают в ковш и подогревают до нужной температуры графитовыми электродами. Они установлены в крышке ковша. \n",
    "\n",
    "Из сплава выводится сера (десульфурация), добавлением примесей корректируется химический состав и отбираются пробы. Сталь легируют — изменяют её состав — подавая куски сплава из бункера для сыпучих материалов или проволоку через специальный трайб-аппарат (англ. tribe, «масса»).\n",
    "\n",
    "Перед тем как первый раз ввести легирующие добавки, измеряют температуру стали и производят её химический анализ. Потом температуру на несколько минут повышают, добавляют легирующие материалы и продувают сплав инертным газом. Затем его перемешивают и снова проводят измерения. Такой цикл повторяется до достижения целевого химического состава и оптимальной температуры плавки.\n",
    "\n",
    "Тогда расплавленная сталь отправляется на доводку металла или поступает в машину непрерывной разливки. Оттуда готовый продукт выходит в виде заготовок-слябов (англ. *slab*, «плита»).\n",
    "\n",
    "### Описание данных\n",
    "\n",
    "Данные состоят из файлов, полученных из разных источников:\n",
    "\n",
    "- `data_arc.csv` — данные об электродах;\n",
    "- `data_bulk.csv` — данные о подаче сыпучих материалов (объём);\n",
    "- `data_bulk_time.csv` *—* данные о подаче сыпучих материалов (время);\n",
    "- `data_gas.csv` — данные о продувке сплава газом;\n",
    "- `data_temp.csv` — результаты измерения температуры;\n",
    "- `data_wire.csv` — данные о проволочных материалах (объём);\n",
    "- `data_wire_time.csv` — данные о проволочных материалах (время)."
   ]
  },
  {
   "cell_type": "markdown",
   "id": "78bda539",
   "metadata": {},
   "source": [
    "## План\n",
    "\n",
    "1. Исследование, анализ данных. Выявление пропусков, ошибок, аномалий. \n",
    "\n",
    "2. Проверка хронологической корректности \n",
    "\n",
    "3. Уточняющие вопросы заказчику.\n",
    "\n",
    "4. Приведение данных к виду позволяющему обучать модели. Удаление ошибок и аномальных значений, заполнение пропусков. Сведение в общую таблицу с учетом партий и хронологической последовательности.\n",
    "\n",
    "5. Модели (разделить данные на тренировочную и тестовую выборки, обучить модели, выбрать лучшуюю)\n",
    "\n",
    "6. Выводы."
   ]
  },
  {
   "cell_type": "code",
   "execution_count": 1,
   "id": "a7333be1",
   "metadata": {},
   "outputs": [],
   "source": [
    "import pandas as pd\n",
    "import matplotlib.pyplot as plt \n",
    "import seaborn as sns \n",
    "import numpy as np \n",
    "import warnings\n",
    "warnings.filterwarnings('ignore')\n",
    "\n",
    "from sklearn.model_selection import train_test_split, GridSearchCV\n",
    "from sklearn.metrics import mean_absolute_error\n",
    "from sklearn.preprocessing import MinMaxScaler\n",
    "\n",
    "from catboost import CatBoostRegressor\n",
    "from sklearn.tree import DecisionTreeRegressor\n",
    "from sklearn.linear_model import LinearRegression, Lasso\n",
    "from lightgbm import LGBMRegressor\n",
    "from sklearn.ensemble import RandomForestRegressor\n",
    "\n",
    "\n"
   ]
  },
  {
   "cell_type": "markdown",
   "id": "c00ce9b5",
   "metadata": {},
   "source": [
    "Загрузка данных:"
   ]
  },
  {
   "cell_type": "code",
   "execution_count": 2,
   "id": "202fef85",
   "metadata": {},
   "outputs": [],
   "source": [
    "try:\n",
    "    data_arc = pd.read_csv('C:/ya_pr/steel/data_arc.csv')\n",
    "    data_bulk = pd.read_csv('C:/ya_pr/steel/data_bulk.csv')\n",
    "    data_bulk_time = pd.read_csv('C:/ya_pr/steel/data_bulk_time.csv')\n",
    "    data_gas = pd.read_csv('C:/ya_pr/steel/data_gas.csv')\n",
    "    data_temp = pd.read_csv('C:/ya_pr/steel/data_temp.csv')\n",
    "    data_wire = pd.read_csv('C:/ya_pr/steel/data_wire.csv')\n",
    "    data_wire_time = pd.read_csv('C:/ya_pr/steel/data_wire_time.csv')\n",
    "except:\n",
    "    data_arc = pd.read_csv('/datasets/final_steel/data_arc.csv')\n",
    "    data_bulk = pd.read_csv('/datasets/final_steel/data_bulk.csv')\n",
    "    data_bulk_time = pd.read_csv('/datasets/final_steel/data_bulk_time.csv')\n",
    "    data_gas = pd.read_csv('/datasets/final_steel/data_gas.csv')\n",
    "    data_temp = pd.read_csv('/datasets/final_steel/data_temp.csv')\n",
    "    data_wire = pd.read_csv('/datasets/final_steel/data_wire.csv')\n",
    "    data_wire_time = pd.read_csv('/datasets/final_steel/data_wire_time.csv')"
   ]
  },
  {
   "cell_type": "code",
   "execution_count": 3,
   "id": "a0f38f1c",
   "metadata": {},
   "outputs": [],
   "source": [
    "title_df = {\n",
    "    'Данные об электродах': data_arc,\n",
    "    'Данные о подаче сыпучих материалов (объём)': data_bulk,\n",
    "    'Данные о подаче сыпучих материалов (время)': data_bulk_time,\n",
    "    'Данные о продувке сплава газом': data_gas,\n",
    "    'Результаты измерения температуры': data_temp,\n",
    "    'Данные о проволочных материалах (объём)': data_wire,\n",
    "    'Данные о проволочных материалах (время)': data_wire_time\n",
    "}"
   ]
  },
  {
   "cell_type": "markdown",
   "id": "229c0b54",
   "metadata": {},
   "source": [
    "### 1 Общий обзор данных ###"
   ]
  },
  {
   "cell_type": "code",
   "execution_count": 4,
   "id": "b8bdedf1",
   "metadata": {
    "scrolled": false
   },
   "outputs": [
    {
     "name": "stdout",
     "output_type": "stream",
     "text": [
      "\n",
      "\u001b[1m\u001b[92mДанные об электродах\u001b[0m\n",
      "\n",
      "<class 'pandas.core.frame.DataFrame'>\n",
      "RangeIndex: 14876 entries, 0 to 14875\n",
      "Data columns (total 5 columns):\n",
      " #   Column                Non-Null Count  Dtype  \n",
      "---  ------                --------------  -----  \n",
      " 0   key                   14876 non-null  int64  \n",
      " 1   Начало нагрева дугой  14876 non-null  object \n",
      " 2   Конец нагрева дугой   14876 non-null  object \n",
      " 3   Активная мощность     14876 non-null  float64\n",
      " 4   Реактивная мощность   14876 non-null  float64\n",
      "dtypes: float64(2), int64(1), object(2)\n",
      "memory usage: 581.2+ KB\n"
     ]
    },
    {
     "data": {
      "text/plain": [
       "None"
      ]
     },
     "metadata": {},
     "output_type": "display_data"
    },
    {
     "name": "stdout",
     "output_type": "stream",
     "text": [
      "\n",
      "\n",
      "\u001b[1m\u001b[92mДанные о подаче сыпучих материалов (объём)\u001b[0m\n",
      "\n",
      "<class 'pandas.core.frame.DataFrame'>\n",
      "RangeIndex: 3129 entries, 0 to 3128\n",
      "Data columns (total 16 columns):\n",
      " #   Column   Non-Null Count  Dtype  \n",
      "---  ------   --------------  -----  \n",
      " 0   key      3129 non-null   int64  \n",
      " 1   Bulk 1   252 non-null    float64\n",
      " 2   Bulk 2   22 non-null     float64\n",
      " 3   Bulk 3   1298 non-null   float64\n",
      " 4   Bulk 4   1014 non-null   float64\n",
      " 5   Bulk 5   77 non-null     float64\n",
      " 6   Bulk 6   576 non-null    float64\n",
      " 7   Bulk 7   25 non-null     float64\n",
      " 8   Bulk 8   1 non-null      float64\n",
      " 9   Bulk 9   19 non-null     float64\n",
      " 10  Bulk 10  176 non-null    float64\n",
      " 11  Bulk 11  177 non-null    float64\n",
      " 12  Bulk 12  2450 non-null   float64\n",
      " 13  Bulk 13  18 non-null     float64\n",
      " 14  Bulk 14  2806 non-null   float64\n",
      " 15  Bulk 15  2248 non-null   float64\n",
      "dtypes: float64(15), int64(1)\n",
      "memory usage: 391.2 KB\n"
     ]
    },
    {
     "data": {
      "text/plain": [
       "None"
      ]
     },
     "metadata": {},
     "output_type": "display_data"
    },
    {
     "name": "stdout",
     "output_type": "stream",
     "text": [
      "\n",
      "\n",
      "\u001b[1m\u001b[92mДанные о подаче сыпучих материалов (время)\u001b[0m\n",
      "\n",
      "<class 'pandas.core.frame.DataFrame'>\n",
      "RangeIndex: 3129 entries, 0 to 3128\n",
      "Data columns (total 16 columns):\n",
      " #   Column   Non-Null Count  Dtype \n",
      "---  ------   --------------  ----- \n",
      " 0   key      3129 non-null   int64 \n",
      " 1   Bulk 1   252 non-null    object\n",
      " 2   Bulk 2   22 non-null     object\n",
      " 3   Bulk 3   1298 non-null   object\n",
      " 4   Bulk 4   1014 non-null   object\n",
      " 5   Bulk 5   77 non-null     object\n",
      " 6   Bulk 6   576 non-null    object\n",
      " 7   Bulk 7   25 non-null     object\n",
      " 8   Bulk 8   1 non-null      object\n",
      " 9   Bulk 9   19 non-null     object\n",
      " 10  Bulk 10  176 non-null    object\n",
      " 11  Bulk 11  177 non-null    object\n",
      " 12  Bulk 12  2450 non-null   object\n",
      " 13  Bulk 13  18 non-null     object\n",
      " 14  Bulk 14  2806 non-null   object\n",
      " 15  Bulk 15  2248 non-null   object\n",
      "dtypes: int64(1), object(15)\n",
      "memory usage: 391.2+ KB\n"
     ]
    },
    {
     "data": {
      "text/plain": [
       "None"
      ]
     },
     "metadata": {},
     "output_type": "display_data"
    },
    {
     "name": "stdout",
     "output_type": "stream",
     "text": [
      "\n",
      "\n",
      "\u001b[1m\u001b[92mДанные о продувке сплава газом\u001b[0m\n",
      "\n",
      "<class 'pandas.core.frame.DataFrame'>\n",
      "RangeIndex: 3239 entries, 0 to 3238\n",
      "Data columns (total 2 columns):\n",
      " #   Column  Non-Null Count  Dtype  \n",
      "---  ------  --------------  -----  \n",
      " 0   key     3239 non-null   int64  \n",
      " 1   Газ 1   3239 non-null   float64\n",
      "dtypes: float64(1), int64(1)\n",
      "memory usage: 50.7 KB\n"
     ]
    },
    {
     "data": {
      "text/plain": [
       "None"
      ]
     },
     "metadata": {},
     "output_type": "display_data"
    },
    {
     "name": "stdout",
     "output_type": "stream",
     "text": [
      "\n",
      "\n",
      "\u001b[1m\u001b[92mРезультаты измерения температуры\u001b[0m\n",
      "\n",
      "<class 'pandas.core.frame.DataFrame'>\n",
      "RangeIndex: 15907 entries, 0 to 15906\n",
      "Data columns (total 3 columns):\n",
      " #   Column        Non-Null Count  Dtype  \n",
      "---  ------        --------------  -----  \n",
      " 0   key           15907 non-null  int64  \n",
      " 1   Время замера  15907 non-null  object \n",
      " 2   Температура   13006 non-null  float64\n",
      "dtypes: float64(1), int64(1), object(1)\n",
      "memory usage: 372.9+ KB\n"
     ]
    },
    {
     "data": {
      "text/plain": [
       "None"
      ]
     },
     "metadata": {},
     "output_type": "display_data"
    },
    {
     "name": "stdout",
     "output_type": "stream",
     "text": [
      "\n",
      "\n",
      "\u001b[1m\u001b[92mДанные о проволочных материалах (объём)\u001b[0m\n",
      "\n",
      "<class 'pandas.core.frame.DataFrame'>\n",
      "RangeIndex: 3081 entries, 0 to 3080\n",
      "Data columns (total 10 columns):\n",
      " #   Column  Non-Null Count  Dtype  \n",
      "---  ------  --------------  -----  \n",
      " 0   key     3081 non-null   int64  \n",
      " 1   Wire 1  3055 non-null   float64\n",
      " 2   Wire 2  1079 non-null   float64\n",
      " 3   Wire 3  63 non-null     float64\n",
      " 4   Wire 4  14 non-null     float64\n",
      " 5   Wire 5  1 non-null      float64\n",
      " 6   Wire 6  73 non-null     float64\n",
      " 7   Wire 7  11 non-null     float64\n",
      " 8   Wire 8  19 non-null     float64\n",
      " 9   Wire 9  29 non-null     float64\n",
      "dtypes: float64(9), int64(1)\n",
      "memory usage: 240.8 KB\n"
     ]
    },
    {
     "data": {
      "text/plain": [
       "None"
      ]
     },
     "metadata": {},
     "output_type": "display_data"
    },
    {
     "name": "stdout",
     "output_type": "stream",
     "text": [
      "\n",
      "\n",
      "\u001b[1m\u001b[92mДанные о проволочных материалах (время)\u001b[0m\n",
      "\n",
      "<class 'pandas.core.frame.DataFrame'>\n",
      "RangeIndex: 3081 entries, 0 to 3080\n",
      "Data columns (total 10 columns):\n",
      " #   Column  Non-Null Count  Dtype \n",
      "---  ------  --------------  ----- \n",
      " 0   key     3081 non-null   int64 \n",
      " 1   Wire 1  3055 non-null   object\n",
      " 2   Wire 2  1079 non-null   object\n",
      " 3   Wire 3  63 non-null     object\n",
      " 4   Wire 4  14 non-null     object\n",
      " 5   Wire 5  1 non-null      object\n",
      " 6   Wire 6  73 non-null     object\n",
      " 7   Wire 7  11 non-null     object\n",
      " 8   Wire 8  19 non-null     object\n",
      " 9   Wire 9  29 non-null     object\n",
      "dtypes: int64(1), object(9)\n",
      "memory usage: 240.8+ KB\n"
     ]
    },
    {
     "data": {
      "text/plain": [
       "None"
      ]
     },
     "metadata": {},
     "output_type": "display_data"
    },
    {
     "name": "stdout",
     "output_type": "stream",
     "text": [
      "\n"
     ]
    }
   ],
   "source": [
    "for title in title_df:\n",
    "    print()\n",
    "    print('\\033[1m' + '\\033[92m' + title + '\\033[0m')\n",
    "    print()\n",
    "    display(title_df[title].info())\n",
    "    print()\n",
    "    "
   ]
  },
  {
   "cell_type": "markdown",
   "id": "fcc4744b",
   "metadata": {},
   "source": [
    " "
   ]
  },
  {
   "cell_type": "markdown",
   "id": "2f78495b",
   "metadata": {},
   "source": [
    "Помотрим на конкретные примеры данных:"
   ]
  },
  {
   "cell_type": "code",
   "execution_count": 5,
   "id": "e3fc4d4b",
   "metadata": {
    "scrolled": false
   },
   "outputs": [
    {
     "name": "stdout",
     "output_type": "stream",
     "text": [
      "\n",
      "\u001b[1m\u001b[92mДанные об электродах\u001b[0m\n",
      "\n"
     ]
    },
    {
     "data": {
      "text/html": [
       "<div>\n",
       "<style scoped>\n",
       "    .dataframe tbody tr th:only-of-type {\n",
       "        vertical-align: middle;\n",
       "    }\n",
       "\n",
       "    .dataframe tbody tr th {\n",
       "        vertical-align: top;\n",
       "    }\n",
       "\n",
       "    .dataframe thead th {\n",
       "        text-align: right;\n",
       "    }\n",
       "</style>\n",
       "<table border=\"1\" class=\"dataframe\">\n",
       "  <thead>\n",
       "    <tr style=\"text-align: right;\">\n",
       "      <th></th>\n",
       "      <th>key</th>\n",
       "      <th>Начало нагрева дугой</th>\n",
       "      <th>Конец нагрева дугой</th>\n",
       "      <th>Активная мощность</th>\n",
       "      <th>Реактивная мощность</th>\n",
       "    </tr>\n",
       "  </thead>\n",
       "  <tbody>\n",
       "    <tr>\n",
       "      <th>0</th>\n",
       "      <td>1</td>\n",
       "      <td>2019-05-03 11:02:14</td>\n",
       "      <td>2019-05-03 11:06:02</td>\n",
       "      <td>0.976059</td>\n",
       "      <td>0.687084</td>\n",
       "    </tr>\n",
       "    <tr>\n",
       "      <th>1</th>\n",
       "      <td>1</td>\n",
       "      <td>2019-05-03 11:07:28</td>\n",
       "      <td>2019-05-03 11:10:33</td>\n",
       "      <td>0.805607</td>\n",
       "      <td>0.520285</td>\n",
       "    </tr>\n",
       "    <tr>\n",
       "      <th>2</th>\n",
       "      <td>1</td>\n",
       "      <td>2019-05-03 11:11:44</td>\n",
       "      <td>2019-05-03 11:14:36</td>\n",
       "      <td>0.744363</td>\n",
       "      <td>0.498805</td>\n",
       "    </tr>\n",
       "    <tr>\n",
       "      <th>3</th>\n",
       "      <td>1</td>\n",
       "      <td>2019-05-03 11:18:14</td>\n",
       "      <td>2019-05-03 11:24:19</td>\n",
       "      <td>1.659363</td>\n",
       "      <td>1.062669</td>\n",
       "    </tr>\n",
       "    <tr>\n",
       "      <th>4</th>\n",
       "      <td>1</td>\n",
       "      <td>2019-05-03 11:26:09</td>\n",
       "      <td>2019-05-03 11:28:37</td>\n",
       "      <td>0.692755</td>\n",
       "      <td>0.414397</td>\n",
       "    </tr>\n",
       "    <tr>\n",
       "      <th>5</th>\n",
       "      <td>2</td>\n",
       "      <td>2019-05-03 11:34:14</td>\n",
       "      <td>2019-05-03 11:36:31</td>\n",
       "      <td>0.438063</td>\n",
       "      <td>0.283043</td>\n",
       "    </tr>\n",
       "    <tr>\n",
       "      <th>6</th>\n",
       "      <td>2</td>\n",
       "      <td>2019-05-03 11:38:50</td>\n",
       "      <td>2019-05-03 11:44:28</td>\n",
       "      <td>1.296415</td>\n",
       "      <td>0.892914</td>\n",
       "    </tr>\n",
       "    <tr>\n",
       "      <th>7</th>\n",
       "      <td>2</td>\n",
       "      <td>2019-05-03 11:46:19</td>\n",
       "      <td>2019-05-03 11:48:25</td>\n",
       "      <td>0.490377</td>\n",
       "      <td>0.305281</td>\n",
       "    </tr>\n",
       "    <tr>\n",
       "      <th>8</th>\n",
       "      <td>2</td>\n",
       "      <td>2019-05-03 11:49:48</td>\n",
       "      <td>2019-05-03 11:53:18</td>\n",
       "      <td>0.827743</td>\n",
       "      <td>0.516874</td>\n",
       "    </tr>\n",
       "    <tr>\n",
       "      <th>9</th>\n",
       "      <td>3</td>\n",
       "      <td>2019-05-03 12:06:54</td>\n",
       "      <td>2019-05-03 12:11:34</td>\n",
       "      <td>1.062053</td>\n",
       "      <td>0.671494</td>\n",
       "    </tr>\n",
       "    <tr>\n",
       "      <th>10</th>\n",
       "      <td>3</td>\n",
       "      <td>2019-05-03 12:13:52</td>\n",
       "      <td>2019-05-03 12:15:56</td>\n",
       "      <td>0.484206</td>\n",
       "      <td>0.312100</td>\n",
       "    </tr>\n",
       "    <tr>\n",
       "      <th>11</th>\n",
       "      <td>3</td>\n",
       "      <td>2019-05-03 12:18:56</td>\n",
       "      <td>2019-05-03 12:20:45</td>\n",
       "      <td>0.429355</td>\n",
       "      <td>0.271774</td>\n",
       "    </tr>\n",
       "    <tr>\n",
       "      <th>12</th>\n",
       "      <td>3</td>\n",
       "      <td>2019-05-03 12:25:43</td>\n",
       "      <td>2019-05-03 12:27:00</td>\n",
       "      <td>0.299989</td>\n",
       "      <td>0.187806</td>\n",
       "    </tr>\n",
       "    <tr>\n",
       "      <th>13</th>\n",
       "      <td>3</td>\n",
       "      <td>2019-05-03 12:31:14</td>\n",
       "      <td>2019-05-03 12:32:19</td>\n",
       "      <td>0.250280</td>\n",
       "      <td>0.155901</td>\n",
       "    </tr>\n",
       "    <tr>\n",
       "      <th>14</th>\n",
       "      <td>4</td>\n",
       "      <td>2019-05-03 12:39:37</td>\n",
       "      <td>2019-05-03 12:43:04</td>\n",
       "      <td>0.875313</td>\n",
       "      <td>0.614404</td>\n",
       "    </tr>\n",
       "  </tbody>\n",
       "</table>\n",
       "</div>"
      ],
      "text/plain": [
       "    key Начало нагрева дугой  Конец нагрева дугой  Активная мощность  \\\n",
       "0     1  2019-05-03 11:02:14  2019-05-03 11:06:02           0.976059   \n",
       "1     1  2019-05-03 11:07:28  2019-05-03 11:10:33           0.805607   \n",
       "2     1  2019-05-03 11:11:44  2019-05-03 11:14:36           0.744363   \n",
       "3     1  2019-05-03 11:18:14  2019-05-03 11:24:19           1.659363   \n",
       "4     1  2019-05-03 11:26:09  2019-05-03 11:28:37           0.692755   \n",
       "5     2  2019-05-03 11:34:14  2019-05-03 11:36:31           0.438063   \n",
       "6     2  2019-05-03 11:38:50  2019-05-03 11:44:28           1.296415   \n",
       "7     2  2019-05-03 11:46:19  2019-05-03 11:48:25           0.490377   \n",
       "8     2  2019-05-03 11:49:48  2019-05-03 11:53:18           0.827743   \n",
       "9     3  2019-05-03 12:06:54  2019-05-03 12:11:34           1.062053   \n",
       "10    3  2019-05-03 12:13:52  2019-05-03 12:15:56           0.484206   \n",
       "11    3  2019-05-03 12:18:56  2019-05-03 12:20:45           0.429355   \n",
       "12    3  2019-05-03 12:25:43  2019-05-03 12:27:00           0.299989   \n",
       "13    3  2019-05-03 12:31:14  2019-05-03 12:32:19           0.250280   \n",
       "14    4  2019-05-03 12:39:37  2019-05-03 12:43:04           0.875313   \n",
       "\n",
       "    Реактивная мощность  \n",
       "0              0.687084  \n",
       "1              0.520285  \n",
       "2              0.498805  \n",
       "3              1.062669  \n",
       "4              0.414397  \n",
       "5              0.283043  \n",
       "6              0.892914  \n",
       "7              0.305281  \n",
       "8              0.516874  \n",
       "9              0.671494  \n",
       "10             0.312100  \n",
       "11             0.271774  \n",
       "12             0.187806  \n",
       "13             0.155901  \n",
       "14             0.614404  "
      ]
     },
     "metadata": {},
     "output_type": "display_data"
    },
    {
     "name": "stdout",
     "output_type": "stream",
     "text": [
      "\n",
      "\n",
      "\u001b[1m\u001b[92mДанные о подаче сыпучих материалов (объём)\u001b[0m\n",
      "\n"
     ]
    },
    {
     "data": {
      "text/html": [
       "<div>\n",
       "<style scoped>\n",
       "    .dataframe tbody tr th:only-of-type {\n",
       "        vertical-align: middle;\n",
       "    }\n",
       "\n",
       "    .dataframe tbody tr th {\n",
       "        vertical-align: top;\n",
       "    }\n",
       "\n",
       "    .dataframe thead th {\n",
       "        text-align: right;\n",
       "    }\n",
       "</style>\n",
       "<table border=\"1\" class=\"dataframe\">\n",
       "  <thead>\n",
       "    <tr style=\"text-align: right;\">\n",
       "      <th></th>\n",
       "      <th>key</th>\n",
       "      <th>Bulk 1</th>\n",
       "      <th>Bulk 2</th>\n",
       "      <th>Bulk 3</th>\n",
       "      <th>Bulk 4</th>\n",
       "      <th>Bulk 5</th>\n",
       "      <th>Bulk 6</th>\n",
       "      <th>Bulk 7</th>\n",
       "      <th>Bulk 8</th>\n",
       "      <th>Bulk 9</th>\n",
       "      <th>Bulk 10</th>\n",
       "      <th>Bulk 11</th>\n",
       "      <th>Bulk 12</th>\n",
       "      <th>Bulk 13</th>\n",
       "      <th>Bulk 14</th>\n",
       "      <th>Bulk 15</th>\n",
       "    </tr>\n",
       "  </thead>\n",
       "  <tbody>\n",
       "    <tr>\n",
       "      <th>0</th>\n",
       "      <td>1</td>\n",
       "      <td>NaN</td>\n",
       "      <td>NaN</td>\n",
       "      <td>NaN</td>\n",
       "      <td>43.0</td>\n",
       "      <td>NaN</td>\n",
       "      <td>NaN</td>\n",
       "      <td>NaN</td>\n",
       "      <td>NaN</td>\n",
       "      <td>NaN</td>\n",
       "      <td>NaN</td>\n",
       "      <td>NaN</td>\n",
       "      <td>206.0</td>\n",
       "      <td>NaN</td>\n",
       "      <td>150.0</td>\n",
       "      <td>154.0</td>\n",
       "    </tr>\n",
       "    <tr>\n",
       "      <th>1</th>\n",
       "      <td>2</td>\n",
       "      <td>NaN</td>\n",
       "      <td>NaN</td>\n",
       "      <td>NaN</td>\n",
       "      <td>73.0</td>\n",
       "      <td>NaN</td>\n",
       "      <td>NaN</td>\n",
       "      <td>NaN</td>\n",
       "      <td>NaN</td>\n",
       "      <td>NaN</td>\n",
       "      <td>NaN</td>\n",
       "      <td>NaN</td>\n",
       "      <td>206.0</td>\n",
       "      <td>NaN</td>\n",
       "      <td>149.0</td>\n",
       "      <td>154.0</td>\n",
       "    </tr>\n",
       "    <tr>\n",
       "      <th>2</th>\n",
       "      <td>3</td>\n",
       "      <td>NaN</td>\n",
       "      <td>NaN</td>\n",
       "      <td>NaN</td>\n",
       "      <td>34.0</td>\n",
       "      <td>NaN</td>\n",
       "      <td>NaN</td>\n",
       "      <td>NaN</td>\n",
       "      <td>NaN</td>\n",
       "      <td>NaN</td>\n",
       "      <td>NaN</td>\n",
       "      <td>NaN</td>\n",
       "      <td>205.0</td>\n",
       "      <td>NaN</td>\n",
       "      <td>152.0</td>\n",
       "      <td>153.0</td>\n",
       "    </tr>\n",
       "    <tr>\n",
       "      <th>3</th>\n",
       "      <td>4</td>\n",
       "      <td>NaN</td>\n",
       "      <td>NaN</td>\n",
       "      <td>NaN</td>\n",
       "      <td>81.0</td>\n",
       "      <td>NaN</td>\n",
       "      <td>NaN</td>\n",
       "      <td>NaN</td>\n",
       "      <td>NaN</td>\n",
       "      <td>NaN</td>\n",
       "      <td>NaN</td>\n",
       "      <td>NaN</td>\n",
       "      <td>207.0</td>\n",
       "      <td>NaN</td>\n",
       "      <td>153.0</td>\n",
       "      <td>154.0</td>\n",
       "    </tr>\n",
       "    <tr>\n",
       "      <th>4</th>\n",
       "      <td>5</td>\n",
       "      <td>NaN</td>\n",
       "      <td>NaN</td>\n",
       "      <td>NaN</td>\n",
       "      <td>78.0</td>\n",
       "      <td>NaN</td>\n",
       "      <td>NaN</td>\n",
       "      <td>NaN</td>\n",
       "      <td>NaN</td>\n",
       "      <td>NaN</td>\n",
       "      <td>NaN</td>\n",
       "      <td>NaN</td>\n",
       "      <td>203.0</td>\n",
       "      <td>NaN</td>\n",
       "      <td>151.0</td>\n",
       "      <td>152.0</td>\n",
       "    </tr>\n",
       "    <tr>\n",
       "      <th>5</th>\n",
       "      <td>6</td>\n",
       "      <td>NaN</td>\n",
       "      <td>NaN</td>\n",
       "      <td>NaN</td>\n",
       "      <td>117.0</td>\n",
       "      <td>NaN</td>\n",
       "      <td>NaN</td>\n",
       "      <td>NaN</td>\n",
       "      <td>NaN</td>\n",
       "      <td>NaN</td>\n",
       "      <td>NaN</td>\n",
       "      <td>NaN</td>\n",
       "      <td>204.0</td>\n",
       "      <td>NaN</td>\n",
       "      <td>201.0</td>\n",
       "      <td>154.0</td>\n",
       "    </tr>\n",
       "    <tr>\n",
       "      <th>6</th>\n",
       "      <td>7</td>\n",
       "      <td>NaN</td>\n",
       "      <td>NaN</td>\n",
       "      <td>NaN</td>\n",
       "      <td>117.0</td>\n",
       "      <td>NaN</td>\n",
       "      <td>NaN</td>\n",
       "      <td>NaN</td>\n",
       "      <td>NaN</td>\n",
       "      <td>NaN</td>\n",
       "      <td>NaN</td>\n",
       "      <td>NaN</td>\n",
       "      <td>204.0</td>\n",
       "      <td>NaN</td>\n",
       "      <td>152.0</td>\n",
       "      <td>154.0</td>\n",
       "    </tr>\n",
       "    <tr>\n",
       "      <th>7</th>\n",
       "      <td>8</td>\n",
       "      <td>NaN</td>\n",
       "      <td>NaN</td>\n",
       "      <td>NaN</td>\n",
       "      <td>99.0</td>\n",
       "      <td>NaN</td>\n",
       "      <td>NaN</td>\n",
       "      <td>NaN</td>\n",
       "      <td>NaN</td>\n",
       "      <td>NaN</td>\n",
       "      <td>NaN</td>\n",
       "      <td>NaN</td>\n",
       "      <td>410.0</td>\n",
       "      <td>NaN</td>\n",
       "      <td>252.0</td>\n",
       "      <td>153.0</td>\n",
       "    </tr>\n",
       "    <tr>\n",
       "      <th>8</th>\n",
       "      <td>9</td>\n",
       "      <td>NaN</td>\n",
       "      <td>NaN</td>\n",
       "      <td>NaN</td>\n",
       "      <td>117.0</td>\n",
       "      <td>NaN</td>\n",
       "      <td>NaN</td>\n",
       "      <td>NaN</td>\n",
       "      <td>NaN</td>\n",
       "      <td>NaN</td>\n",
       "      <td>NaN</td>\n",
       "      <td>NaN</td>\n",
       "      <td>107.0</td>\n",
       "      <td>NaN</td>\n",
       "      <td>99.0</td>\n",
       "      <td>203.0</td>\n",
       "    </tr>\n",
       "    <tr>\n",
       "      <th>9</th>\n",
       "      <td>10</td>\n",
       "      <td>NaN</td>\n",
       "      <td>NaN</td>\n",
       "      <td>NaN</td>\n",
       "      <td>NaN</td>\n",
       "      <td>NaN</td>\n",
       "      <td>NaN</td>\n",
       "      <td>NaN</td>\n",
       "      <td>NaN</td>\n",
       "      <td>NaN</td>\n",
       "      <td>NaN</td>\n",
       "      <td>NaN</td>\n",
       "      <td>203.0</td>\n",
       "      <td>NaN</td>\n",
       "      <td>102.0</td>\n",
       "      <td>204.0</td>\n",
       "    </tr>\n",
       "    <tr>\n",
       "      <th>10</th>\n",
       "      <td>11</td>\n",
       "      <td>NaN</td>\n",
       "      <td>NaN</td>\n",
       "      <td>NaN</td>\n",
       "      <td>69.0</td>\n",
       "      <td>NaN</td>\n",
       "      <td>NaN</td>\n",
       "      <td>NaN</td>\n",
       "      <td>NaN</td>\n",
       "      <td>NaN</td>\n",
       "      <td>NaN</td>\n",
       "      <td>NaN</td>\n",
       "      <td>207.0</td>\n",
       "      <td>NaN</td>\n",
       "      <td>101.0</td>\n",
       "      <td>202.0</td>\n",
       "    </tr>\n",
       "    <tr>\n",
       "      <th>11</th>\n",
       "      <td>12</td>\n",
       "      <td>46.0</td>\n",
       "      <td>NaN</td>\n",
       "      <td>NaN</td>\n",
       "      <td>34.0</td>\n",
       "      <td>NaN</td>\n",
       "      <td>NaN</td>\n",
       "      <td>NaN</td>\n",
       "      <td>NaN</td>\n",
       "      <td>NaN</td>\n",
       "      <td>NaN</td>\n",
       "      <td>NaN</td>\n",
       "      <td>618.0</td>\n",
       "      <td>NaN</td>\n",
       "      <td>406.0</td>\n",
       "      <td>203.0</td>\n",
       "    </tr>\n",
       "    <tr>\n",
       "      <th>12</th>\n",
       "      <td>13</td>\n",
       "      <td>NaN</td>\n",
       "      <td>NaN</td>\n",
       "      <td>NaN</td>\n",
       "      <td>NaN</td>\n",
       "      <td>NaN</td>\n",
       "      <td>72.0</td>\n",
       "      <td>NaN</td>\n",
       "      <td>NaN</td>\n",
       "      <td>NaN</td>\n",
       "      <td>NaN</td>\n",
       "      <td>NaN</td>\n",
       "      <td>410.0</td>\n",
       "      <td>NaN</td>\n",
       "      <td>151.0</td>\n",
       "      <td>204.0</td>\n",
       "    </tr>\n",
       "    <tr>\n",
       "      <th>13</th>\n",
       "      <td>14</td>\n",
       "      <td>NaN</td>\n",
       "      <td>NaN</td>\n",
       "      <td>71.0</td>\n",
       "      <td>NaN</td>\n",
       "      <td>NaN</td>\n",
       "      <td>NaN</td>\n",
       "      <td>NaN</td>\n",
       "      <td>NaN</td>\n",
       "      <td>NaN</td>\n",
       "      <td>NaN</td>\n",
       "      <td>NaN</td>\n",
       "      <td>204.0</td>\n",
       "      <td>NaN</td>\n",
       "      <td>152.0</td>\n",
       "      <td>203.0</td>\n",
       "    </tr>\n",
       "    <tr>\n",
       "      <th>14</th>\n",
       "      <td>15</td>\n",
       "      <td>NaN</td>\n",
       "      <td>NaN</td>\n",
       "      <td>NaN</td>\n",
       "      <td>NaN</td>\n",
       "      <td>NaN</td>\n",
       "      <td>77.0</td>\n",
       "      <td>NaN</td>\n",
       "      <td>NaN</td>\n",
       "      <td>NaN</td>\n",
       "      <td>NaN</td>\n",
       "      <td>NaN</td>\n",
       "      <td>NaN</td>\n",
       "      <td>NaN</td>\n",
       "      <td>251.0</td>\n",
       "      <td>203.0</td>\n",
       "    </tr>\n",
       "  </tbody>\n",
       "</table>\n",
       "</div>"
      ],
      "text/plain": [
       "    key  Bulk 1  Bulk 2  Bulk 3  Bulk 4  Bulk 5  Bulk 6  Bulk 7  Bulk 8  \\\n",
       "0     1     NaN     NaN     NaN    43.0     NaN     NaN     NaN     NaN   \n",
       "1     2     NaN     NaN     NaN    73.0     NaN     NaN     NaN     NaN   \n",
       "2     3     NaN     NaN     NaN    34.0     NaN     NaN     NaN     NaN   \n",
       "3     4     NaN     NaN     NaN    81.0     NaN     NaN     NaN     NaN   \n",
       "4     5     NaN     NaN     NaN    78.0     NaN     NaN     NaN     NaN   \n",
       "5     6     NaN     NaN     NaN   117.0     NaN     NaN     NaN     NaN   \n",
       "6     7     NaN     NaN     NaN   117.0     NaN     NaN     NaN     NaN   \n",
       "7     8     NaN     NaN     NaN    99.0     NaN     NaN     NaN     NaN   \n",
       "8     9     NaN     NaN     NaN   117.0     NaN     NaN     NaN     NaN   \n",
       "9    10     NaN     NaN     NaN     NaN     NaN     NaN     NaN     NaN   \n",
       "10   11     NaN     NaN     NaN    69.0     NaN     NaN     NaN     NaN   \n",
       "11   12    46.0     NaN     NaN    34.0     NaN     NaN     NaN     NaN   \n",
       "12   13     NaN     NaN     NaN     NaN     NaN    72.0     NaN     NaN   \n",
       "13   14     NaN     NaN    71.0     NaN     NaN     NaN     NaN     NaN   \n",
       "14   15     NaN     NaN     NaN     NaN     NaN    77.0     NaN     NaN   \n",
       "\n",
       "    Bulk 9  Bulk 10  Bulk 11  Bulk 12  Bulk 13  Bulk 14  Bulk 15  \n",
       "0      NaN      NaN      NaN    206.0      NaN    150.0    154.0  \n",
       "1      NaN      NaN      NaN    206.0      NaN    149.0    154.0  \n",
       "2      NaN      NaN      NaN    205.0      NaN    152.0    153.0  \n",
       "3      NaN      NaN      NaN    207.0      NaN    153.0    154.0  \n",
       "4      NaN      NaN      NaN    203.0      NaN    151.0    152.0  \n",
       "5      NaN      NaN      NaN    204.0      NaN    201.0    154.0  \n",
       "6      NaN      NaN      NaN    204.0      NaN    152.0    154.0  \n",
       "7      NaN      NaN      NaN    410.0      NaN    252.0    153.0  \n",
       "8      NaN      NaN      NaN    107.0      NaN     99.0    203.0  \n",
       "9      NaN      NaN      NaN    203.0      NaN    102.0    204.0  \n",
       "10     NaN      NaN      NaN    207.0      NaN    101.0    202.0  \n",
       "11     NaN      NaN      NaN    618.0      NaN    406.0    203.0  \n",
       "12     NaN      NaN      NaN    410.0      NaN    151.0    204.0  \n",
       "13     NaN      NaN      NaN    204.0      NaN    152.0    203.0  \n",
       "14     NaN      NaN      NaN      NaN      NaN    251.0    203.0  "
      ]
     },
     "metadata": {},
     "output_type": "display_data"
    },
    {
     "name": "stdout",
     "output_type": "stream",
     "text": [
      "\n",
      "\n",
      "\u001b[1m\u001b[92mДанные о подаче сыпучих материалов (время)\u001b[0m\n",
      "\n"
     ]
    },
    {
     "data": {
      "text/html": [
       "<div>\n",
       "<style scoped>\n",
       "    .dataframe tbody tr th:only-of-type {\n",
       "        vertical-align: middle;\n",
       "    }\n",
       "\n",
       "    .dataframe tbody tr th {\n",
       "        vertical-align: top;\n",
       "    }\n",
       "\n",
       "    .dataframe thead th {\n",
       "        text-align: right;\n",
       "    }\n",
       "</style>\n",
       "<table border=\"1\" class=\"dataframe\">\n",
       "  <thead>\n",
       "    <tr style=\"text-align: right;\">\n",
       "      <th></th>\n",
       "      <th>key</th>\n",
       "      <th>Bulk 1</th>\n",
       "      <th>Bulk 2</th>\n",
       "      <th>Bulk 3</th>\n",
       "      <th>Bulk 4</th>\n",
       "      <th>Bulk 5</th>\n",
       "      <th>Bulk 6</th>\n",
       "      <th>Bulk 7</th>\n",
       "      <th>Bulk 8</th>\n",
       "      <th>Bulk 9</th>\n",
       "      <th>Bulk 10</th>\n",
       "      <th>Bulk 11</th>\n",
       "      <th>Bulk 12</th>\n",
       "      <th>Bulk 13</th>\n",
       "      <th>Bulk 14</th>\n",
       "      <th>Bulk 15</th>\n",
       "    </tr>\n",
       "  </thead>\n",
       "  <tbody>\n",
       "    <tr>\n",
       "      <th>0</th>\n",
       "      <td>1</td>\n",
       "      <td>NaN</td>\n",
       "      <td>NaN</td>\n",
       "      <td>NaN</td>\n",
       "      <td>2019-05-03 11:21:30</td>\n",
       "      <td>NaN</td>\n",
       "      <td>NaN</td>\n",
       "      <td>NaN</td>\n",
       "      <td>NaN</td>\n",
       "      <td>NaN</td>\n",
       "      <td>NaN</td>\n",
       "      <td>NaN</td>\n",
       "      <td>2019-05-03 11:03:52</td>\n",
       "      <td>NaN</td>\n",
       "      <td>2019-05-03 11:03:52</td>\n",
       "      <td>2019-05-03 11:03:52</td>\n",
       "    </tr>\n",
       "    <tr>\n",
       "      <th>1</th>\n",
       "      <td>2</td>\n",
       "      <td>NaN</td>\n",
       "      <td>NaN</td>\n",
       "      <td>NaN</td>\n",
       "      <td>2019-05-03 11:46:38</td>\n",
       "      <td>NaN</td>\n",
       "      <td>NaN</td>\n",
       "      <td>NaN</td>\n",
       "      <td>NaN</td>\n",
       "      <td>NaN</td>\n",
       "      <td>NaN</td>\n",
       "      <td>NaN</td>\n",
       "      <td>2019-05-03 11:40:20</td>\n",
       "      <td>NaN</td>\n",
       "      <td>2019-05-03 11:40:20</td>\n",
       "      <td>2019-05-03 11:40:20</td>\n",
       "    </tr>\n",
       "    <tr>\n",
       "      <th>2</th>\n",
       "      <td>3</td>\n",
       "      <td>NaN</td>\n",
       "      <td>NaN</td>\n",
       "      <td>NaN</td>\n",
       "      <td>2019-05-03 12:31:06</td>\n",
       "      <td>NaN</td>\n",
       "      <td>NaN</td>\n",
       "      <td>NaN</td>\n",
       "      <td>NaN</td>\n",
       "      <td>NaN</td>\n",
       "      <td>NaN</td>\n",
       "      <td>NaN</td>\n",
       "      <td>2019-05-03 12:09:40</td>\n",
       "      <td>NaN</td>\n",
       "      <td>2019-05-03 12:09:40</td>\n",
       "      <td>2019-05-03 12:09:40</td>\n",
       "    </tr>\n",
       "    <tr>\n",
       "      <th>3</th>\n",
       "      <td>4</td>\n",
       "      <td>NaN</td>\n",
       "      <td>NaN</td>\n",
       "      <td>NaN</td>\n",
       "      <td>2019-05-03 12:48:43</td>\n",
       "      <td>NaN</td>\n",
       "      <td>NaN</td>\n",
       "      <td>NaN</td>\n",
       "      <td>NaN</td>\n",
       "      <td>NaN</td>\n",
       "      <td>NaN</td>\n",
       "      <td>NaN</td>\n",
       "      <td>2019-05-03 12:41:24</td>\n",
       "      <td>NaN</td>\n",
       "      <td>2019-05-03 12:41:24</td>\n",
       "      <td>2019-05-03 12:41:24</td>\n",
       "    </tr>\n",
       "    <tr>\n",
       "      <th>4</th>\n",
       "      <td>5</td>\n",
       "      <td>NaN</td>\n",
       "      <td>NaN</td>\n",
       "      <td>NaN</td>\n",
       "      <td>2019-05-03 13:18:50</td>\n",
       "      <td>NaN</td>\n",
       "      <td>NaN</td>\n",
       "      <td>NaN</td>\n",
       "      <td>NaN</td>\n",
       "      <td>NaN</td>\n",
       "      <td>NaN</td>\n",
       "      <td>NaN</td>\n",
       "      <td>2019-05-03 13:12:56</td>\n",
       "      <td>NaN</td>\n",
       "      <td>2019-05-03 13:12:56</td>\n",
       "      <td>2019-05-03 13:12:56</td>\n",
       "    </tr>\n",
       "    <tr>\n",
       "      <th>5</th>\n",
       "      <td>6</td>\n",
       "      <td>NaN</td>\n",
       "      <td>NaN</td>\n",
       "      <td>NaN</td>\n",
       "      <td>2019-05-03 13:59:24</td>\n",
       "      <td>NaN</td>\n",
       "      <td>NaN</td>\n",
       "      <td>NaN</td>\n",
       "      <td>NaN</td>\n",
       "      <td>NaN</td>\n",
       "      <td>NaN</td>\n",
       "      <td>NaN</td>\n",
       "      <td>2019-05-03 13:53:27</td>\n",
       "      <td>NaN</td>\n",
       "      <td>2019-05-03 13:53:27</td>\n",
       "      <td>2019-05-03 13:53:27</td>\n",
       "    </tr>\n",
       "    <tr>\n",
       "      <th>6</th>\n",
       "      <td>7</td>\n",
       "      <td>NaN</td>\n",
       "      <td>NaN</td>\n",
       "      <td>NaN</td>\n",
       "      <td>2019-05-03 14:29:14</td>\n",
       "      <td>NaN</td>\n",
       "      <td>NaN</td>\n",
       "      <td>NaN</td>\n",
       "      <td>NaN</td>\n",
       "      <td>NaN</td>\n",
       "      <td>NaN</td>\n",
       "      <td>NaN</td>\n",
       "      <td>2019-05-03 14:22:19</td>\n",
       "      <td>NaN</td>\n",
       "      <td>2019-05-03 14:22:19</td>\n",
       "      <td>2019-05-03 14:22:19</td>\n",
       "    </tr>\n",
       "    <tr>\n",
       "      <th>7</th>\n",
       "      <td>8</td>\n",
       "      <td>NaN</td>\n",
       "      <td>NaN</td>\n",
       "      <td>NaN</td>\n",
       "      <td>2019-05-03 15:04:05</td>\n",
       "      <td>NaN</td>\n",
       "      <td>NaN</td>\n",
       "      <td>NaN</td>\n",
       "      <td>NaN</td>\n",
       "      <td>NaN</td>\n",
       "      <td>NaN</td>\n",
       "      <td>NaN</td>\n",
       "      <td>2019-05-03 14:55:46</td>\n",
       "      <td>NaN</td>\n",
       "      <td>2019-05-03 14:55:46</td>\n",
       "      <td>2019-05-03 14:55:46</td>\n",
       "    </tr>\n",
       "    <tr>\n",
       "      <th>8</th>\n",
       "      <td>9</td>\n",
       "      <td>NaN</td>\n",
       "      <td>NaN</td>\n",
       "      <td>NaN</td>\n",
       "      <td>2019-05-03 15:47:34</td>\n",
       "      <td>NaN</td>\n",
       "      <td>NaN</td>\n",
       "      <td>NaN</td>\n",
       "      <td>NaN</td>\n",
       "      <td>NaN</td>\n",
       "      <td>NaN</td>\n",
       "      <td>NaN</td>\n",
       "      <td>2019-05-03 15:41:00</td>\n",
       "      <td>NaN</td>\n",
       "      <td>2019-05-03 15:41:00</td>\n",
       "      <td>2019-05-03 15:41:00</td>\n",
       "    </tr>\n",
       "    <tr>\n",
       "      <th>9</th>\n",
       "      <td>10</td>\n",
       "      <td>NaN</td>\n",
       "      <td>NaN</td>\n",
       "      <td>NaN</td>\n",
       "      <td>NaN</td>\n",
       "      <td>NaN</td>\n",
       "      <td>NaN</td>\n",
       "      <td>NaN</td>\n",
       "      <td>NaN</td>\n",
       "      <td>NaN</td>\n",
       "      <td>NaN</td>\n",
       "      <td>NaN</td>\n",
       "      <td>2019-05-03 16:18:52</td>\n",
       "      <td>NaN</td>\n",
       "      <td>2019-05-03 16:18:52</td>\n",
       "      <td>2019-05-03 16:18:52</td>\n",
       "    </tr>\n",
       "    <tr>\n",
       "      <th>10</th>\n",
       "      <td>11</td>\n",
       "      <td>NaN</td>\n",
       "      <td>NaN</td>\n",
       "      <td>NaN</td>\n",
       "      <td>2019-05-03 17:16:34</td>\n",
       "      <td>NaN</td>\n",
       "      <td>NaN</td>\n",
       "      <td>NaN</td>\n",
       "      <td>NaN</td>\n",
       "      <td>NaN</td>\n",
       "      <td>NaN</td>\n",
       "      <td>NaN</td>\n",
       "      <td>2019-05-03 17:03:52</td>\n",
       "      <td>NaN</td>\n",
       "      <td>2019-05-03 17:03:52</td>\n",
       "      <td>2019-05-03 17:03:52</td>\n",
       "    </tr>\n",
       "    <tr>\n",
       "      <th>11</th>\n",
       "      <td>12</td>\n",
       "      <td>2019-05-03 17:50:19</td>\n",
       "      <td>NaN</td>\n",
       "      <td>NaN</td>\n",
       "      <td>2019-05-03 18:03:59</td>\n",
       "      <td>NaN</td>\n",
       "      <td>NaN</td>\n",
       "      <td>NaN</td>\n",
       "      <td>NaN</td>\n",
       "      <td>NaN</td>\n",
       "      <td>NaN</td>\n",
       "      <td>NaN</td>\n",
       "      <td>2019-05-03 17:45:21</td>\n",
       "      <td>NaN</td>\n",
       "      <td>2019-05-03 17:45:21</td>\n",
       "      <td>2019-05-03 17:45:21</td>\n",
       "    </tr>\n",
       "    <tr>\n",
       "      <th>12</th>\n",
       "      <td>13</td>\n",
       "      <td>NaN</td>\n",
       "      <td>NaN</td>\n",
       "      <td>NaN</td>\n",
       "      <td>NaN</td>\n",
       "      <td>NaN</td>\n",
       "      <td>2019-05-03 18:52:57</td>\n",
       "      <td>NaN</td>\n",
       "      <td>NaN</td>\n",
       "      <td>NaN</td>\n",
       "      <td>NaN</td>\n",
       "      <td>NaN</td>\n",
       "      <td>2019-05-03 18:43:48</td>\n",
       "      <td>NaN</td>\n",
       "      <td>2019-05-03 18:43:48</td>\n",
       "      <td>2019-05-03 18:43:48</td>\n",
       "    </tr>\n",
       "    <tr>\n",
       "      <th>13</th>\n",
       "      <td>14</td>\n",
       "      <td>NaN</td>\n",
       "      <td>NaN</td>\n",
       "      <td>2019-05-03 20:13:36</td>\n",
       "      <td>NaN</td>\n",
       "      <td>NaN</td>\n",
       "      <td>NaN</td>\n",
       "      <td>NaN</td>\n",
       "      <td>NaN</td>\n",
       "      <td>NaN</td>\n",
       "      <td>NaN</td>\n",
       "      <td>NaN</td>\n",
       "      <td>2019-05-03 20:05:47</td>\n",
       "      <td>NaN</td>\n",
       "      <td>2019-05-03 20:05:47</td>\n",
       "      <td>2019-05-03 20:05:47</td>\n",
       "    </tr>\n",
       "    <tr>\n",
       "      <th>14</th>\n",
       "      <td>15</td>\n",
       "      <td>NaN</td>\n",
       "      <td>NaN</td>\n",
       "      <td>NaN</td>\n",
       "      <td>NaN</td>\n",
       "      <td>NaN</td>\n",
       "      <td>2019-05-03 21:15:20</td>\n",
       "      <td>NaN</td>\n",
       "      <td>NaN</td>\n",
       "      <td>NaN</td>\n",
       "      <td>NaN</td>\n",
       "      <td>NaN</td>\n",
       "      <td>NaN</td>\n",
       "      <td>NaN</td>\n",
       "      <td>2019-05-03 21:03:07</td>\n",
       "      <td>2019-05-03 21:03:07</td>\n",
       "    </tr>\n",
       "  </tbody>\n",
       "</table>\n",
       "</div>"
      ],
      "text/plain": [
       "    key               Bulk 1 Bulk 2               Bulk 3               Bulk 4  \\\n",
       "0     1                  NaN    NaN                  NaN  2019-05-03 11:21:30   \n",
       "1     2                  NaN    NaN                  NaN  2019-05-03 11:46:38   \n",
       "2     3                  NaN    NaN                  NaN  2019-05-03 12:31:06   \n",
       "3     4                  NaN    NaN                  NaN  2019-05-03 12:48:43   \n",
       "4     5                  NaN    NaN                  NaN  2019-05-03 13:18:50   \n",
       "5     6                  NaN    NaN                  NaN  2019-05-03 13:59:24   \n",
       "6     7                  NaN    NaN                  NaN  2019-05-03 14:29:14   \n",
       "7     8                  NaN    NaN                  NaN  2019-05-03 15:04:05   \n",
       "8     9                  NaN    NaN                  NaN  2019-05-03 15:47:34   \n",
       "9    10                  NaN    NaN                  NaN                  NaN   \n",
       "10   11                  NaN    NaN                  NaN  2019-05-03 17:16:34   \n",
       "11   12  2019-05-03 17:50:19    NaN                  NaN  2019-05-03 18:03:59   \n",
       "12   13                  NaN    NaN                  NaN                  NaN   \n",
       "13   14                  NaN    NaN  2019-05-03 20:13:36                  NaN   \n",
       "14   15                  NaN    NaN                  NaN                  NaN   \n",
       "\n",
       "   Bulk 5               Bulk 6 Bulk 7 Bulk 8 Bulk 9 Bulk 10 Bulk 11  \\\n",
       "0     NaN                  NaN    NaN    NaN    NaN     NaN     NaN   \n",
       "1     NaN                  NaN    NaN    NaN    NaN     NaN     NaN   \n",
       "2     NaN                  NaN    NaN    NaN    NaN     NaN     NaN   \n",
       "3     NaN                  NaN    NaN    NaN    NaN     NaN     NaN   \n",
       "4     NaN                  NaN    NaN    NaN    NaN     NaN     NaN   \n",
       "5     NaN                  NaN    NaN    NaN    NaN     NaN     NaN   \n",
       "6     NaN                  NaN    NaN    NaN    NaN     NaN     NaN   \n",
       "7     NaN                  NaN    NaN    NaN    NaN     NaN     NaN   \n",
       "8     NaN                  NaN    NaN    NaN    NaN     NaN     NaN   \n",
       "9     NaN                  NaN    NaN    NaN    NaN     NaN     NaN   \n",
       "10    NaN                  NaN    NaN    NaN    NaN     NaN     NaN   \n",
       "11    NaN                  NaN    NaN    NaN    NaN     NaN     NaN   \n",
       "12    NaN  2019-05-03 18:52:57    NaN    NaN    NaN     NaN     NaN   \n",
       "13    NaN                  NaN    NaN    NaN    NaN     NaN     NaN   \n",
       "14    NaN  2019-05-03 21:15:20    NaN    NaN    NaN     NaN     NaN   \n",
       "\n",
       "                Bulk 12 Bulk 13              Bulk 14              Bulk 15  \n",
       "0   2019-05-03 11:03:52     NaN  2019-05-03 11:03:52  2019-05-03 11:03:52  \n",
       "1   2019-05-03 11:40:20     NaN  2019-05-03 11:40:20  2019-05-03 11:40:20  \n",
       "2   2019-05-03 12:09:40     NaN  2019-05-03 12:09:40  2019-05-03 12:09:40  \n",
       "3   2019-05-03 12:41:24     NaN  2019-05-03 12:41:24  2019-05-03 12:41:24  \n",
       "4   2019-05-03 13:12:56     NaN  2019-05-03 13:12:56  2019-05-03 13:12:56  \n",
       "5   2019-05-03 13:53:27     NaN  2019-05-03 13:53:27  2019-05-03 13:53:27  \n",
       "6   2019-05-03 14:22:19     NaN  2019-05-03 14:22:19  2019-05-03 14:22:19  \n",
       "7   2019-05-03 14:55:46     NaN  2019-05-03 14:55:46  2019-05-03 14:55:46  \n",
       "8   2019-05-03 15:41:00     NaN  2019-05-03 15:41:00  2019-05-03 15:41:00  \n",
       "9   2019-05-03 16:18:52     NaN  2019-05-03 16:18:52  2019-05-03 16:18:52  \n",
       "10  2019-05-03 17:03:52     NaN  2019-05-03 17:03:52  2019-05-03 17:03:52  \n",
       "11  2019-05-03 17:45:21     NaN  2019-05-03 17:45:21  2019-05-03 17:45:21  \n",
       "12  2019-05-03 18:43:48     NaN  2019-05-03 18:43:48  2019-05-03 18:43:48  \n",
       "13  2019-05-03 20:05:47     NaN  2019-05-03 20:05:47  2019-05-03 20:05:47  \n",
       "14                  NaN     NaN  2019-05-03 21:03:07  2019-05-03 21:03:07  "
      ]
     },
     "metadata": {},
     "output_type": "display_data"
    },
    {
     "name": "stdout",
     "output_type": "stream",
     "text": [
      "\n",
      "\n",
      "\u001b[1m\u001b[92mДанные о продувке сплава газом\u001b[0m\n",
      "\n"
     ]
    },
    {
     "data": {
      "text/html": [
       "<div>\n",
       "<style scoped>\n",
       "    .dataframe tbody tr th:only-of-type {\n",
       "        vertical-align: middle;\n",
       "    }\n",
       "\n",
       "    .dataframe tbody tr th {\n",
       "        vertical-align: top;\n",
       "    }\n",
       "\n",
       "    .dataframe thead th {\n",
       "        text-align: right;\n",
       "    }\n",
       "</style>\n",
       "<table border=\"1\" class=\"dataframe\">\n",
       "  <thead>\n",
       "    <tr style=\"text-align: right;\">\n",
       "      <th></th>\n",
       "      <th>key</th>\n",
       "      <th>Газ 1</th>\n",
       "    </tr>\n",
       "  </thead>\n",
       "  <tbody>\n",
       "    <tr>\n",
       "      <th>0</th>\n",
       "      <td>1</td>\n",
       "      <td>29.749986</td>\n",
       "    </tr>\n",
       "    <tr>\n",
       "      <th>1</th>\n",
       "      <td>2</td>\n",
       "      <td>12.555561</td>\n",
       "    </tr>\n",
       "    <tr>\n",
       "      <th>2</th>\n",
       "      <td>3</td>\n",
       "      <td>28.554793</td>\n",
       "    </tr>\n",
       "    <tr>\n",
       "      <th>3</th>\n",
       "      <td>4</td>\n",
       "      <td>18.841219</td>\n",
       "    </tr>\n",
       "    <tr>\n",
       "      <th>4</th>\n",
       "      <td>5</td>\n",
       "      <td>5.413692</td>\n",
       "    </tr>\n",
       "    <tr>\n",
       "      <th>5</th>\n",
       "      <td>6</td>\n",
       "      <td>11.273392</td>\n",
       "    </tr>\n",
       "    <tr>\n",
       "      <th>6</th>\n",
       "      <td>7</td>\n",
       "      <td>9.836267</td>\n",
       "    </tr>\n",
       "    <tr>\n",
       "      <th>7</th>\n",
       "      <td>8</td>\n",
       "      <td>15.171553</td>\n",
       "    </tr>\n",
       "    <tr>\n",
       "      <th>8</th>\n",
       "      <td>9</td>\n",
       "      <td>8.216623</td>\n",
       "    </tr>\n",
       "    <tr>\n",
       "      <th>9</th>\n",
       "      <td>10</td>\n",
       "      <td>6.529891</td>\n",
       "    </tr>\n",
       "    <tr>\n",
       "      <th>10</th>\n",
       "      <td>11</td>\n",
       "      <td>3.639128</td>\n",
       "    </tr>\n",
       "    <tr>\n",
       "      <th>11</th>\n",
       "      <td>12</td>\n",
       "      <td>11.026259</td>\n",
       "    </tr>\n",
       "    <tr>\n",
       "      <th>12</th>\n",
       "      <td>13</td>\n",
       "      <td>11.443643</td>\n",
       "    </tr>\n",
       "    <tr>\n",
       "      <th>13</th>\n",
       "      <td>14</td>\n",
       "      <td>5.098945</td>\n",
       "    </tr>\n",
       "    <tr>\n",
       "      <th>14</th>\n",
       "      <td>15</td>\n",
       "      <td>11.085451</td>\n",
       "    </tr>\n",
       "  </tbody>\n",
       "</table>\n",
       "</div>"
      ],
      "text/plain": [
       "    key      Газ 1\n",
       "0     1  29.749986\n",
       "1     2  12.555561\n",
       "2     3  28.554793\n",
       "3     4  18.841219\n",
       "4     5   5.413692\n",
       "5     6  11.273392\n",
       "6     7   9.836267\n",
       "7     8  15.171553\n",
       "8     9   8.216623\n",
       "9    10   6.529891\n",
       "10   11   3.639128\n",
       "11   12  11.026259\n",
       "12   13  11.443643\n",
       "13   14   5.098945\n",
       "14   15  11.085451"
      ]
     },
     "metadata": {},
     "output_type": "display_data"
    },
    {
     "name": "stdout",
     "output_type": "stream",
     "text": [
      "\n",
      "\n",
      "\u001b[1m\u001b[92mРезультаты измерения температуры\u001b[0m\n",
      "\n"
     ]
    },
    {
     "data": {
      "text/html": [
       "<div>\n",
       "<style scoped>\n",
       "    .dataframe tbody tr th:only-of-type {\n",
       "        vertical-align: middle;\n",
       "    }\n",
       "\n",
       "    .dataframe tbody tr th {\n",
       "        vertical-align: top;\n",
       "    }\n",
       "\n",
       "    .dataframe thead th {\n",
       "        text-align: right;\n",
       "    }\n",
       "</style>\n",
       "<table border=\"1\" class=\"dataframe\">\n",
       "  <thead>\n",
       "    <tr style=\"text-align: right;\">\n",
       "      <th></th>\n",
       "      <th>key</th>\n",
       "      <th>Время замера</th>\n",
       "      <th>Температура</th>\n",
       "    </tr>\n",
       "  </thead>\n",
       "  <tbody>\n",
       "    <tr>\n",
       "      <th>0</th>\n",
       "      <td>1</td>\n",
       "      <td>2019-05-03 11:16:18</td>\n",
       "      <td>1571.0</td>\n",
       "    </tr>\n",
       "    <tr>\n",
       "      <th>1</th>\n",
       "      <td>1</td>\n",
       "      <td>2019-05-03 11:25:53</td>\n",
       "      <td>1604.0</td>\n",
       "    </tr>\n",
       "    <tr>\n",
       "      <th>2</th>\n",
       "      <td>1</td>\n",
       "      <td>2019-05-03 11:29:11</td>\n",
       "      <td>1618.0</td>\n",
       "    </tr>\n",
       "    <tr>\n",
       "      <th>3</th>\n",
       "      <td>1</td>\n",
       "      <td>2019-05-03 11:30:01</td>\n",
       "      <td>1601.0</td>\n",
       "    </tr>\n",
       "    <tr>\n",
       "      <th>4</th>\n",
       "      <td>1</td>\n",
       "      <td>2019-05-03 11:30:39</td>\n",
       "      <td>1613.0</td>\n",
       "    </tr>\n",
       "    <tr>\n",
       "      <th>5</th>\n",
       "      <td>2</td>\n",
       "      <td>2019-05-03 11:37:27</td>\n",
       "      <td>1581.0</td>\n",
       "    </tr>\n",
       "    <tr>\n",
       "      <th>6</th>\n",
       "      <td>2</td>\n",
       "      <td>2019-05-03 11:38:00</td>\n",
       "      <td>1577.0</td>\n",
       "    </tr>\n",
       "    <tr>\n",
       "      <th>7</th>\n",
       "      <td>2</td>\n",
       "      <td>2019-05-03 11:49:38</td>\n",
       "      <td>1589.0</td>\n",
       "    </tr>\n",
       "    <tr>\n",
       "      <th>8</th>\n",
       "      <td>2</td>\n",
       "      <td>2019-05-03 11:55:50</td>\n",
       "      <td>1604.0</td>\n",
       "    </tr>\n",
       "    <tr>\n",
       "      <th>9</th>\n",
       "      <td>2</td>\n",
       "      <td>2019-05-03 11:58:24</td>\n",
       "      <td>1608.0</td>\n",
       "    </tr>\n",
       "    <tr>\n",
       "      <th>10</th>\n",
       "      <td>2</td>\n",
       "      <td>2019-05-03 11:59:12</td>\n",
       "      <td>1602.0</td>\n",
       "    </tr>\n",
       "    <tr>\n",
       "      <th>11</th>\n",
       "      <td>3</td>\n",
       "      <td>2019-05-03 12:13:17</td>\n",
       "      <td>1596.0</td>\n",
       "    </tr>\n",
       "    <tr>\n",
       "      <th>12</th>\n",
       "      <td>3</td>\n",
       "      <td>2019-05-03 12:18:36</td>\n",
       "      <td>1597.0</td>\n",
       "    </tr>\n",
       "    <tr>\n",
       "      <th>13</th>\n",
       "      <td>3</td>\n",
       "      <td>2019-05-03 12:25:06</td>\n",
       "      <td>1598.0</td>\n",
       "    </tr>\n",
       "    <tr>\n",
       "      <th>14</th>\n",
       "      <td>3</td>\n",
       "      <td>2019-05-03 12:30:48</td>\n",
       "      <td>1599.0</td>\n",
       "    </tr>\n",
       "  </tbody>\n",
       "</table>\n",
       "</div>"
      ],
      "text/plain": [
       "    key         Время замера  Температура\n",
       "0     1  2019-05-03 11:16:18       1571.0\n",
       "1     1  2019-05-03 11:25:53       1604.0\n",
       "2     1  2019-05-03 11:29:11       1618.0\n",
       "3     1  2019-05-03 11:30:01       1601.0\n",
       "4     1  2019-05-03 11:30:39       1613.0\n",
       "5     2  2019-05-03 11:37:27       1581.0\n",
       "6     2  2019-05-03 11:38:00       1577.0\n",
       "7     2  2019-05-03 11:49:38       1589.0\n",
       "8     2  2019-05-03 11:55:50       1604.0\n",
       "9     2  2019-05-03 11:58:24       1608.0\n",
       "10    2  2019-05-03 11:59:12       1602.0\n",
       "11    3  2019-05-03 12:13:17       1596.0\n",
       "12    3  2019-05-03 12:18:36       1597.0\n",
       "13    3  2019-05-03 12:25:06       1598.0\n",
       "14    3  2019-05-03 12:30:48       1599.0"
      ]
     },
     "metadata": {},
     "output_type": "display_data"
    },
    {
     "name": "stdout",
     "output_type": "stream",
     "text": [
      "\n",
      "\n",
      "\u001b[1m\u001b[92mДанные о проволочных материалах (объём)\u001b[0m\n",
      "\n"
     ]
    },
    {
     "data": {
      "text/html": [
       "<div>\n",
       "<style scoped>\n",
       "    .dataframe tbody tr th:only-of-type {\n",
       "        vertical-align: middle;\n",
       "    }\n",
       "\n",
       "    .dataframe tbody tr th {\n",
       "        vertical-align: top;\n",
       "    }\n",
       "\n",
       "    .dataframe thead th {\n",
       "        text-align: right;\n",
       "    }\n",
       "</style>\n",
       "<table border=\"1\" class=\"dataframe\">\n",
       "  <thead>\n",
       "    <tr style=\"text-align: right;\">\n",
       "      <th></th>\n",
       "      <th>key</th>\n",
       "      <th>Wire 1</th>\n",
       "      <th>Wire 2</th>\n",
       "      <th>Wire 3</th>\n",
       "      <th>Wire 4</th>\n",
       "      <th>Wire 5</th>\n",
       "      <th>Wire 6</th>\n",
       "      <th>Wire 7</th>\n",
       "      <th>Wire 8</th>\n",
       "      <th>Wire 9</th>\n",
       "    </tr>\n",
       "  </thead>\n",
       "  <tbody>\n",
       "    <tr>\n",
       "      <th>0</th>\n",
       "      <td>1</td>\n",
       "      <td>60.059998</td>\n",
       "      <td>NaN</td>\n",
       "      <td>NaN</td>\n",
       "      <td>NaN</td>\n",
       "      <td>NaN</td>\n",
       "      <td>NaN</td>\n",
       "      <td>NaN</td>\n",
       "      <td>NaN</td>\n",
       "      <td>NaN</td>\n",
       "    </tr>\n",
       "    <tr>\n",
       "      <th>1</th>\n",
       "      <td>2</td>\n",
       "      <td>96.052315</td>\n",
       "      <td>NaN</td>\n",
       "      <td>NaN</td>\n",
       "      <td>NaN</td>\n",
       "      <td>NaN</td>\n",
       "      <td>NaN</td>\n",
       "      <td>NaN</td>\n",
       "      <td>NaN</td>\n",
       "      <td>NaN</td>\n",
       "    </tr>\n",
       "    <tr>\n",
       "      <th>2</th>\n",
       "      <td>3</td>\n",
       "      <td>91.160157</td>\n",
       "      <td>NaN</td>\n",
       "      <td>NaN</td>\n",
       "      <td>NaN</td>\n",
       "      <td>NaN</td>\n",
       "      <td>NaN</td>\n",
       "      <td>NaN</td>\n",
       "      <td>NaN</td>\n",
       "      <td>NaN</td>\n",
       "    </tr>\n",
       "    <tr>\n",
       "      <th>3</th>\n",
       "      <td>4</td>\n",
       "      <td>89.063515</td>\n",
       "      <td>NaN</td>\n",
       "      <td>NaN</td>\n",
       "      <td>NaN</td>\n",
       "      <td>NaN</td>\n",
       "      <td>NaN</td>\n",
       "      <td>NaN</td>\n",
       "      <td>NaN</td>\n",
       "      <td>NaN</td>\n",
       "    </tr>\n",
       "    <tr>\n",
       "      <th>4</th>\n",
       "      <td>5</td>\n",
       "      <td>89.238236</td>\n",
       "      <td>9.114560</td>\n",
       "      <td>NaN</td>\n",
       "      <td>NaN</td>\n",
       "      <td>NaN</td>\n",
       "      <td>NaN</td>\n",
       "      <td>NaN</td>\n",
       "      <td>NaN</td>\n",
       "      <td>NaN</td>\n",
       "    </tr>\n",
       "    <tr>\n",
       "      <th>5</th>\n",
       "      <td>6</td>\n",
       "      <td>99.109917</td>\n",
       "      <td>9.114560</td>\n",
       "      <td>NaN</td>\n",
       "      <td>NaN</td>\n",
       "      <td>NaN</td>\n",
       "      <td>NaN</td>\n",
       "      <td>NaN</td>\n",
       "      <td>NaN</td>\n",
       "      <td>NaN</td>\n",
       "    </tr>\n",
       "    <tr>\n",
       "      <th>6</th>\n",
       "      <td>7</td>\n",
       "      <td>98.061600</td>\n",
       "      <td>NaN</td>\n",
       "      <td>NaN</td>\n",
       "      <td>NaN</td>\n",
       "      <td>NaN</td>\n",
       "      <td>NaN</td>\n",
       "      <td>NaN</td>\n",
       "      <td>NaN</td>\n",
       "      <td>NaN</td>\n",
       "    </tr>\n",
       "    <tr>\n",
       "      <th>7</th>\n",
       "      <td>8</td>\n",
       "      <td>155.282394</td>\n",
       "      <td>NaN</td>\n",
       "      <td>NaN</td>\n",
       "      <td>NaN</td>\n",
       "      <td>NaN</td>\n",
       "      <td>NaN</td>\n",
       "      <td>NaN</td>\n",
       "      <td>NaN</td>\n",
       "      <td>NaN</td>\n",
       "    </tr>\n",
       "    <tr>\n",
       "      <th>8</th>\n",
       "      <td>9</td>\n",
       "      <td>113.393279</td>\n",
       "      <td>9.143681</td>\n",
       "      <td>NaN</td>\n",
       "      <td>NaN</td>\n",
       "      <td>NaN</td>\n",
       "      <td>NaN</td>\n",
       "      <td>NaN</td>\n",
       "      <td>NaN</td>\n",
       "      <td>NaN</td>\n",
       "    </tr>\n",
       "    <tr>\n",
       "      <th>9</th>\n",
       "      <td>10</td>\n",
       "      <td>81.244796</td>\n",
       "      <td>12.376000</td>\n",
       "      <td>NaN</td>\n",
       "      <td>NaN</td>\n",
       "      <td>NaN</td>\n",
       "      <td>NaN</td>\n",
       "      <td>NaN</td>\n",
       "      <td>NaN</td>\n",
       "      <td>NaN</td>\n",
       "    </tr>\n",
       "    <tr>\n",
       "      <th>10</th>\n",
       "      <td>11</td>\n",
       "      <td>99.197281</td>\n",
       "      <td>NaN</td>\n",
       "      <td>NaN</td>\n",
       "      <td>NaN</td>\n",
       "      <td>NaN</td>\n",
       "      <td>NaN</td>\n",
       "      <td>NaN</td>\n",
       "      <td>NaN</td>\n",
       "      <td>NaN</td>\n",
       "    </tr>\n",
       "    <tr>\n",
       "      <th>11</th>\n",
       "      <td>12</td>\n",
       "      <td>153.578873</td>\n",
       "      <td>NaN</td>\n",
       "      <td>NaN</td>\n",
       "      <td>NaN</td>\n",
       "      <td>NaN</td>\n",
       "      <td>NaN</td>\n",
       "      <td>NaN</td>\n",
       "      <td>NaN</td>\n",
       "      <td>NaN</td>\n",
       "    </tr>\n",
       "    <tr>\n",
       "      <th>12</th>\n",
       "      <td>13</td>\n",
       "      <td>77.269920</td>\n",
       "      <td>52.416003</td>\n",
       "      <td>NaN</td>\n",
       "      <td>NaN</td>\n",
       "      <td>NaN</td>\n",
       "      <td>NaN</td>\n",
       "      <td>NaN</td>\n",
       "      <td>NaN</td>\n",
       "      <td>NaN</td>\n",
       "    </tr>\n",
       "    <tr>\n",
       "      <th>13</th>\n",
       "      <td>14</td>\n",
       "      <td>120.251038</td>\n",
       "      <td>37.826881</td>\n",
       "      <td>NaN</td>\n",
       "      <td>NaN</td>\n",
       "      <td>NaN</td>\n",
       "      <td>NaN</td>\n",
       "      <td>NaN</td>\n",
       "      <td>NaN</td>\n",
       "      <td>NaN</td>\n",
       "    </tr>\n",
       "    <tr>\n",
       "      <th>14</th>\n",
       "      <td>15</td>\n",
       "      <td>71.285759</td>\n",
       "      <td>52.095680</td>\n",
       "      <td>NaN</td>\n",
       "      <td>NaN</td>\n",
       "      <td>NaN</td>\n",
       "      <td>NaN</td>\n",
       "      <td>NaN</td>\n",
       "      <td>NaN</td>\n",
       "      <td>NaN</td>\n",
       "    </tr>\n",
       "  </tbody>\n",
       "</table>\n",
       "</div>"
      ],
      "text/plain": [
       "    key      Wire 1     Wire 2  Wire 3  Wire 4  Wire 5  Wire 6  Wire 7  \\\n",
       "0     1   60.059998        NaN     NaN     NaN     NaN     NaN     NaN   \n",
       "1     2   96.052315        NaN     NaN     NaN     NaN     NaN     NaN   \n",
       "2     3   91.160157        NaN     NaN     NaN     NaN     NaN     NaN   \n",
       "3     4   89.063515        NaN     NaN     NaN     NaN     NaN     NaN   \n",
       "4     5   89.238236   9.114560     NaN     NaN     NaN     NaN     NaN   \n",
       "5     6   99.109917   9.114560     NaN     NaN     NaN     NaN     NaN   \n",
       "6     7   98.061600        NaN     NaN     NaN     NaN     NaN     NaN   \n",
       "7     8  155.282394        NaN     NaN     NaN     NaN     NaN     NaN   \n",
       "8     9  113.393279   9.143681     NaN     NaN     NaN     NaN     NaN   \n",
       "9    10   81.244796  12.376000     NaN     NaN     NaN     NaN     NaN   \n",
       "10   11   99.197281        NaN     NaN     NaN     NaN     NaN     NaN   \n",
       "11   12  153.578873        NaN     NaN     NaN     NaN     NaN     NaN   \n",
       "12   13   77.269920  52.416003     NaN     NaN     NaN     NaN     NaN   \n",
       "13   14  120.251038  37.826881     NaN     NaN     NaN     NaN     NaN   \n",
       "14   15   71.285759  52.095680     NaN     NaN     NaN     NaN     NaN   \n",
       "\n",
       "    Wire 8  Wire 9  \n",
       "0      NaN     NaN  \n",
       "1      NaN     NaN  \n",
       "2      NaN     NaN  \n",
       "3      NaN     NaN  \n",
       "4      NaN     NaN  \n",
       "5      NaN     NaN  \n",
       "6      NaN     NaN  \n",
       "7      NaN     NaN  \n",
       "8      NaN     NaN  \n",
       "9      NaN     NaN  \n",
       "10     NaN     NaN  \n",
       "11     NaN     NaN  \n",
       "12     NaN     NaN  \n",
       "13     NaN     NaN  \n",
       "14     NaN     NaN  "
      ]
     },
     "metadata": {},
     "output_type": "display_data"
    },
    {
     "name": "stdout",
     "output_type": "stream",
     "text": [
      "\n",
      "\n",
      "\u001b[1m\u001b[92mДанные о проволочных материалах (время)\u001b[0m\n",
      "\n"
     ]
    },
    {
     "data": {
      "text/html": [
       "<div>\n",
       "<style scoped>\n",
       "    .dataframe tbody tr th:only-of-type {\n",
       "        vertical-align: middle;\n",
       "    }\n",
       "\n",
       "    .dataframe tbody tr th {\n",
       "        vertical-align: top;\n",
       "    }\n",
       "\n",
       "    .dataframe thead th {\n",
       "        text-align: right;\n",
       "    }\n",
       "</style>\n",
       "<table border=\"1\" class=\"dataframe\">\n",
       "  <thead>\n",
       "    <tr style=\"text-align: right;\">\n",
       "      <th></th>\n",
       "      <th>key</th>\n",
       "      <th>Wire 1</th>\n",
       "      <th>Wire 2</th>\n",
       "      <th>Wire 3</th>\n",
       "      <th>Wire 4</th>\n",
       "      <th>Wire 5</th>\n",
       "      <th>Wire 6</th>\n",
       "      <th>Wire 7</th>\n",
       "      <th>Wire 8</th>\n",
       "      <th>Wire 9</th>\n",
       "    </tr>\n",
       "  </thead>\n",
       "  <tbody>\n",
       "    <tr>\n",
       "      <th>0</th>\n",
       "      <td>1</td>\n",
       "      <td>2019-05-03 11:11:41</td>\n",
       "      <td>NaN</td>\n",
       "      <td>NaN</td>\n",
       "      <td>NaN</td>\n",
       "      <td>NaN</td>\n",
       "      <td>NaN</td>\n",
       "      <td>NaN</td>\n",
       "      <td>NaN</td>\n",
       "      <td>NaN</td>\n",
       "    </tr>\n",
       "    <tr>\n",
       "      <th>1</th>\n",
       "      <td>2</td>\n",
       "      <td>2019-05-03 11:46:10</td>\n",
       "      <td>NaN</td>\n",
       "      <td>NaN</td>\n",
       "      <td>NaN</td>\n",
       "      <td>NaN</td>\n",
       "      <td>NaN</td>\n",
       "      <td>NaN</td>\n",
       "      <td>NaN</td>\n",
       "      <td>NaN</td>\n",
       "    </tr>\n",
       "    <tr>\n",
       "      <th>2</th>\n",
       "      <td>3</td>\n",
       "      <td>2019-05-03 12:13:47</td>\n",
       "      <td>NaN</td>\n",
       "      <td>NaN</td>\n",
       "      <td>NaN</td>\n",
       "      <td>NaN</td>\n",
       "      <td>NaN</td>\n",
       "      <td>NaN</td>\n",
       "      <td>NaN</td>\n",
       "      <td>NaN</td>\n",
       "    </tr>\n",
       "    <tr>\n",
       "      <th>3</th>\n",
       "      <td>4</td>\n",
       "      <td>2019-05-03 12:48:05</td>\n",
       "      <td>NaN</td>\n",
       "      <td>NaN</td>\n",
       "      <td>NaN</td>\n",
       "      <td>NaN</td>\n",
       "      <td>NaN</td>\n",
       "      <td>NaN</td>\n",
       "      <td>NaN</td>\n",
       "      <td>NaN</td>\n",
       "    </tr>\n",
       "    <tr>\n",
       "      <th>4</th>\n",
       "      <td>5</td>\n",
       "      <td>2019-05-03 13:18:15</td>\n",
       "      <td>2019-05-03 13:32:06</td>\n",
       "      <td>NaN</td>\n",
       "      <td>NaN</td>\n",
       "      <td>NaN</td>\n",
       "      <td>NaN</td>\n",
       "      <td>NaN</td>\n",
       "      <td>NaN</td>\n",
       "      <td>NaN</td>\n",
       "    </tr>\n",
       "    <tr>\n",
       "      <th>5</th>\n",
       "      <td>6</td>\n",
       "      <td>2019-05-03 13:59:02</td>\n",
       "      <td>2019-05-03 13:59:54</td>\n",
       "      <td>NaN</td>\n",
       "      <td>NaN</td>\n",
       "      <td>NaN</td>\n",
       "      <td>NaN</td>\n",
       "      <td>NaN</td>\n",
       "      <td>NaN</td>\n",
       "      <td>NaN</td>\n",
       "    </tr>\n",
       "    <tr>\n",
       "      <th>6</th>\n",
       "      <td>7</td>\n",
       "      <td>2019-05-03 14:28:46</td>\n",
       "      <td>NaN</td>\n",
       "      <td>NaN</td>\n",
       "      <td>NaN</td>\n",
       "      <td>NaN</td>\n",
       "      <td>NaN</td>\n",
       "      <td>NaN</td>\n",
       "      <td>NaN</td>\n",
       "      <td>NaN</td>\n",
       "    </tr>\n",
       "    <tr>\n",
       "      <th>7</th>\n",
       "      <td>8</td>\n",
       "      <td>2019-05-03 15:03:42</td>\n",
       "      <td>NaN</td>\n",
       "      <td>NaN</td>\n",
       "      <td>NaN</td>\n",
       "      <td>NaN</td>\n",
       "      <td>NaN</td>\n",
       "      <td>NaN</td>\n",
       "      <td>NaN</td>\n",
       "      <td>NaN</td>\n",
       "    </tr>\n",
       "    <tr>\n",
       "      <th>8</th>\n",
       "      <td>9</td>\n",
       "      <td>2019-05-03 15:42:43</td>\n",
       "      <td>2019-05-03 15:58:12</td>\n",
       "      <td>NaN</td>\n",
       "      <td>NaN</td>\n",
       "      <td>NaN</td>\n",
       "      <td>NaN</td>\n",
       "      <td>NaN</td>\n",
       "      <td>NaN</td>\n",
       "      <td>NaN</td>\n",
       "    </tr>\n",
       "    <tr>\n",
       "      <th>9</th>\n",
       "      <td>10</td>\n",
       "      <td>2019-05-03 16:20:25</td>\n",
       "      <td>2019-05-03 16:21:02</td>\n",
       "      <td>NaN</td>\n",
       "      <td>NaN</td>\n",
       "      <td>NaN</td>\n",
       "      <td>NaN</td>\n",
       "      <td>NaN</td>\n",
       "      <td>NaN</td>\n",
       "      <td>NaN</td>\n",
       "    </tr>\n",
       "    <tr>\n",
       "      <th>10</th>\n",
       "      <td>11</td>\n",
       "      <td>2019-05-03 17:15:01</td>\n",
       "      <td>NaN</td>\n",
       "      <td>NaN</td>\n",
       "      <td>NaN</td>\n",
       "      <td>NaN</td>\n",
       "      <td>NaN</td>\n",
       "      <td>NaN</td>\n",
       "      <td>NaN</td>\n",
       "      <td>NaN</td>\n",
       "    </tr>\n",
       "    <tr>\n",
       "      <th>11</th>\n",
       "      <td>12</td>\n",
       "      <td>2019-05-03 17:51:14</td>\n",
       "      <td>NaN</td>\n",
       "      <td>NaN</td>\n",
       "      <td>NaN</td>\n",
       "      <td>NaN</td>\n",
       "      <td>NaN</td>\n",
       "      <td>NaN</td>\n",
       "      <td>NaN</td>\n",
       "      <td>NaN</td>\n",
       "    </tr>\n",
       "    <tr>\n",
       "      <th>12</th>\n",
       "      <td>13</td>\n",
       "      <td>2019-05-03 18:52:04</td>\n",
       "      <td>2019-05-03 18:52:34</td>\n",
       "      <td>NaN</td>\n",
       "      <td>NaN</td>\n",
       "      <td>NaN</td>\n",
       "      <td>NaN</td>\n",
       "      <td>NaN</td>\n",
       "      <td>NaN</td>\n",
       "      <td>NaN</td>\n",
       "    </tr>\n",
       "    <tr>\n",
       "      <th>13</th>\n",
       "      <td>14</td>\n",
       "      <td>2019-05-03 20:12:21</td>\n",
       "      <td>2019-05-03 20:13:16</td>\n",
       "      <td>NaN</td>\n",
       "      <td>NaN</td>\n",
       "      <td>NaN</td>\n",
       "      <td>NaN</td>\n",
       "      <td>NaN</td>\n",
       "      <td>NaN</td>\n",
       "      <td>NaN</td>\n",
       "    </tr>\n",
       "    <tr>\n",
       "      <th>14</th>\n",
       "      <td>15</td>\n",
       "      <td>2019-05-03 21:07:40</td>\n",
       "      <td>2019-05-03 21:15:12</td>\n",
       "      <td>NaN</td>\n",
       "      <td>NaN</td>\n",
       "      <td>NaN</td>\n",
       "      <td>NaN</td>\n",
       "      <td>NaN</td>\n",
       "      <td>NaN</td>\n",
       "      <td>NaN</td>\n",
       "    </tr>\n",
       "  </tbody>\n",
       "</table>\n",
       "</div>"
      ],
      "text/plain": [
       "    key               Wire 1               Wire 2 Wire 3 Wire 4 Wire 5 Wire 6  \\\n",
       "0     1  2019-05-03 11:11:41                  NaN    NaN    NaN    NaN    NaN   \n",
       "1     2  2019-05-03 11:46:10                  NaN    NaN    NaN    NaN    NaN   \n",
       "2     3  2019-05-03 12:13:47                  NaN    NaN    NaN    NaN    NaN   \n",
       "3     4  2019-05-03 12:48:05                  NaN    NaN    NaN    NaN    NaN   \n",
       "4     5  2019-05-03 13:18:15  2019-05-03 13:32:06    NaN    NaN    NaN    NaN   \n",
       "5     6  2019-05-03 13:59:02  2019-05-03 13:59:54    NaN    NaN    NaN    NaN   \n",
       "6     7  2019-05-03 14:28:46                  NaN    NaN    NaN    NaN    NaN   \n",
       "7     8  2019-05-03 15:03:42                  NaN    NaN    NaN    NaN    NaN   \n",
       "8     9  2019-05-03 15:42:43  2019-05-03 15:58:12    NaN    NaN    NaN    NaN   \n",
       "9    10  2019-05-03 16:20:25  2019-05-03 16:21:02    NaN    NaN    NaN    NaN   \n",
       "10   11  2019-05-03 17:15:01                  NaN    NaN    NaN    NaN    NaN   \n",
       "11   12  2019-05-03 17:51:14                  NaN    NaN    NaN    NaN    NaN   \n",
       "12   13  2019-05-03 18:52:04  2019-05-03 18:52:34    NaN    NaN    NaN    NaN   \n",
       "13   14  2019-05-03 20:12:21  2019-05-03 20:13:16    NaN    NaN    NaN    NaN   \n",
       "14   15  2019-05-03 21:07:40  2019-05-03 21:15:12    NaN    NaN    NaN    NaN   \n",
       "\n",
       "   Wire 7 Wire 8 Wire 9  \n",
       "0     NaN    NaN    NaN  \n",
       "1     NaN    NaN    NaN  \n",
       "2     NaN    NaN    NaN  \n",
       "3     NaN    NaN    NaN  \n",
       "4     NaN    NaN    NaN  \n",
       "5     NaN    NaN    NaN  \n",
       "6     NaN    NaN    NaN  \n",
       "7     NaN    NaN    NaN  \n",
       "8     NaN    NaN    NaN  \n",
       "9     NaN    NaN    NaN  \n",
       "10    NaN    NaN    NaN  \n",
       "11    NaN    NaN    NaN  \n",
       "12    NaN    NaN    NaN  \n",
       "13    NaN    NaN    NaN  \n",
       "14    NaN    NaN    NaN  "
      ]
     },
     "metadata": {},
     "output_type": "display_data"
    },
    {
     "name": "stdout",
     "output_type": "stream",
     "text": [
      "\n"
     ]
    }
   ],
   "source": [
    "for title in title_df:\n",
    "    print()\n",
    "    print('\\033[1m' + '\\033[92m' + title + '\\033[0m')\n",
    "    print()\n",
    "    display(title_df[title].head(15))\n",
    "    print()"
   ]
  },
  {
   "cell_type": "markdown",
   "id": "10778082",
   "metadata": {},
   "source": [
    "**Технические выводы о качестве данных:**"
   ]
  },
  {
   "cell_type": "markdown",
   "id": "2915b227",
   "metadata": {},
   "source": [
    "- Все временные признаки, во всех таблицах представленны строковым типом. Переведем в формат datetime:"
   ]
  },
  {
   "cell_type": "code",
   "execution_count": 6,
   "id": "0b3ee157",
   "metadata": {},
   "outputs": [],
   "source": [
    "for title in title_df:\n",
    "    for column in title_df[title].columns:\n",
    "        if title_df[title][column].dtype == 'object':\n",
    "            title_df[title][column] = pd.to_datetime(title_df[title][column], format='%Y-%m-%d %H:%M:%S')"
   ]
  },
  {
   "cell_type": "markdown",
   "id": "026a2ecb",
   "metadata": {},
   "source": [
    " - В таблицах \"Данные об электродах\" и \"Данные о продувке сплава газом\" пропусков нет.\n",
    " - В таблице \"Результаты измерения температуры\" пропущены результаты измерений для примерно 15% записей. Необходимо дополнительно разобраться каких именно измерений не хватает - первых, промежуточных или финальных.\n",
    " - В таблицах с данными о подаче сыпучих и проволочных материалов порпусков очень много. Похоже что эти пропуски означают отсутствие подачи соответствующих добавок в конкретной партии - заменим нулями."
   ]
  },
  {
   "cell_type": "markdown",
   "id": "d56cf9ba",
   "metadata": {},
   "source": [
    "**Рассмотрим распределения значений признаков:**"
   ]
  },
  {
   "cell_type": "markdown",
   "id": "78659b7e",
   "metadata": {},
   "source": [
    "Данные об электродах:"
   ]
  },
  {
   "cell_type": "code",
   "execution_count": 7,
   "id": "50e2f1b4",
   "metadata": {},
   "outputs": [
    {
     "data": {
      "text/html": [
       "<div>\n",
       "<style scoped>\n",
       "    .dataframe tbody tr th:only-of-type {\n",
       "        vertical-align: middle;\n",
       "    }\n",
       "\n",
       "    .dataframe tbody tr th {\n",
       "        vertical-align: top;\n",
       "    }\n",
       "\n",
       "    .dataframe thead th {\n",
       "        text-align: right;\n",
       "    }\n",
       "</style>\n",
       "<table border=\"1\" class=\"dataframe\">\n",
       "  <thead>\n",
       "    <tr style=\"text-align: right;\">\n",
       "      <th></th>\n",
       "      <th>Активная мощность</th>\n",
       "      <th>Реактивная мощность</th>\n",
       "    </tr>\n",
       "  </thead>\n",
       "  <tbody>\n",
       "    <tr>\n",
       "      <th>count</th>\n",
       "      <td>14876.000000</td>\n",
       "      <td>14876.000000</td>\n",
       "    </tr>\n",
       "    <tr>\n",
       "      <th>mean</th>\n",
       "      <td>0.670441</td>\n",
       "      <td>0.452592</td>\n",
       "    </tr>\n",
       "    <tr>\n",
       "      <th>std</th>\n",
       "      <td>0.408159</td>\n",
       "      <td>5.878702</td>\n",
       "    </tr>\n",
       "    <tr>\n",
       "      <th>min</th>\n",
       "      <td>0.030002</td>\n",
       "      <td>-715.504924</td>\n",
       "    </tr>\n",
       "    <tr>\n",
       "      <th>25%</th>\n",
       "      <td>0.395297</td>\n",
       "      <td>0.290991</td>\n",
       "    </tr>\n",
       "    <tr>\n",
       "      <th>50%</th>\n",
       "      <td>0.555517</td>\n",
       "      <td>0.415962</td>\n",
       "    </tr>\n",
       "    <tr>\n",
       "      <th>75%</th>\n",
       "      <td>0.857034</td>\n",
       "      <td>0.637371</td>\n",
       "    </tr>\n",
       "    <tr>\n",
       "      <th>max</th>\n",
       "      <td>3.731596</td>\n",
       "      <td>2.676388</td>\n",
       "    </tr>\n",
       "  </tbody>\n",
       "</table>\n",
       "</div>"
      ],
      "text/plain": [
       "       Активная мощность  Реактивная мощность\n",
       "count       14876.000000         14876.000000\n",
       "mean            0.670441             0.452592\n",
       "std             0.408159             5.878702\n",
       "min             0.030002          -715.504924\n",
       "25%             0.395297             0.290991\n",
       "50%             0.555517             0.415962\n",
       "75%             0.857034             0.637371\n",
       "max             3.731596             2.676388"
      ]
     },
     "execution_count": 7,
     "metadata": {},
     "output_type": "execute_result"
    }
   ],
   "source": [
    "data_arc.drop('key', axis=1).describe()"
   ]
  },
  {
   "cell_type": "markdown",
   "id": "c7b6d1b7",
   "metadata": {},
   "source": [
    " - Видим, что признак \"Реактивная мощность\" иногда принимает странные отрицательные значения (очень большие по модулю по сравнению с большей частью значений):"
   ]
  },
  {
   "cell_type": "code",
   "execution_count": 8,
   "id": "0e08e2d2",
   "metadata": {},
   "outputs": [
    {
     "name": "stdout",
     "output_type": "stream",
     "text": [
      "       key Начало нагрева дугой Конец нагрева дугой  Активная мощность  \\\n",
      "9780  2116  2019-07-24 00:44:48 2019-07-24 00:46:37           0.495782   \n",
      "\n",
      "      Реактивная мощность  \n",
      "9780          -715.504924  \n"
     ]
    }
   ],
   "source": [
    "print(data_arc[data_arc['Реактивная мощность']<0])"
   ]
  },
  {
   "cell_type": "markdown",
   "id": "8d88a978",
   "metadata": {},
   "source": [
    " - всего 1 строка. Очевидно это ошибка, удаляем:"
   ]
  },
  {
   "cell_type": "code",
   "execution_count": 9,
   "id": "6e4438f5",
   "metadata": {},
   "outputs": [],
   "source": [
    "data_arc = data_arc[data_arc['Реактивная мощность']>=0]"
   ]
  },
  {
   "cell_type": "code",
   "execution_count": 10,
   "id": "799ee345",
   "metadata": {},
   "outputs": [
    {
     "data": {
      "image/png": "[encoded data removed]",
      "text/plain": [
       "<Figure size 864x72 with 1 Axes>"
      ]
     },
     "metadata": {
      "needs_background": "light"
     },
     "output_type": "display_data"
    },
    {
     "data": {
      "image/png": "[encoded data removed]",
      "text/plain": [
       "<Figure size 1080x720 with 1 Axes>"
      ]
     },
     "metadata": {
      "needs_background": "light"
     },
     "output_type": "display_data"
    },
    {
     "data": {
      "image/png": "[encoded data removed]",
      "text/plain": [
       "<Figure size 864x72 with 1 Axes>"
      ]
     },
     "metadata": {
      "needs_background": "light"
     },
     "output_type": "display_data"
    },
    {
     "data": {
      "image/png": "[encoded data removed]",
      "text/plain": [
       "<Figure size 1080x720 with 1 Axes>"
      ]
     },
     "metadata": {
      "needs_background": "light"
     },
     "output_type": "display_data"
    }
   ],
   "source": [
    "plt.figure(figsize=(12,1))\n",
    "sns.boxplot(data_arc['Активная мощность'],  orient=\"h\")\n",
    "plt.show()\n",
    "\n",
    "plt.figure(figsize=(15,10))\n",
    "sns.histplot(data_arc['Активная мощность'], kde=True)\n",
    "plt.show()\n",
    "\n",
    "\n",
    "plt.figure(figsize=(12,1))\n",
    "sns.boxplot(data_arc['Реактивная мощность'],  orient=\"h\")\n",
    "plt.show()\n",
    "\n",
    "plt.figure(figsize=(15,10))\n",
    "sns.histplot(data_arc['Реактивная мощность'], kde=True)\n",
    "plt.show()"
   ]
  },
  {
   "cell_type": "markdown",
   "id": "584bf800",
   "metadata": {},
   "source": [
    " - в показателях мощности есть выбросы в 5-7 раз превышающие медианные значения."
   ]
  },
  {
   "cell_type": "markdown",
   "id": "3de09675",
   "metadata": {},
   "source": [
    "Данные о подаче сыпучих материалов:"
   ]
  },
  {
   "cell_type": "code",
   "execution_count": 11,
   "id": "71efc42b",
   "metadata": {},
   "outputs": [
    {
     "data": {
      "image/png": "[encoded data removed]",
      "text/plain": [
       "<Figure size 720x1080 with 1 Axes>"
      ]
     },
     "metadata": {
      "needs_background": "light"
     },
     "output_type": "display_data"
    }
   ],
   "source": [
    "plt.figure(figsize=(10, 15))\n",
    "data_bulk.boxplot([column for column in data_bulk.columns if column != 'key' and column != 'Bulk 8'], vert=False)\n",
    "plt.show()"
   ]
  },
  {
   "cell_type": "markdown",
   "id": "05d7570f",
   "metadata": {},
   "source": [
    " - Bulk 8 содержит всего одно значение. Партию включающую эту операцию исключим из рассмотрения.\n",
    " - Bulk 12 и 5 содержат по одному аномально большому выбросу (так же исключим соответствующие партии из рассмотрения)\n",
    " - Bulk 14,12,6,5,3,1 так же содержат некоторое количество выбросов."
   ]
  },
  {
   "cell_type": "markdown",
   "id": "ed92520b",
   "metadata": {},
   "source": [
    "**Данные о продувке сплава газом:**"
   ]
  },
  {
   "cell_type": "code",
   "execution_count": 12,
   "id": "0ffc3c49",
   "metadata": {},
   "outputs": [
    {
     "data": {
      "image/png": "[encoded data removed]",
      "text/plain": [
       "<Figure size 864x72 with 1 Axes>"
      ]
     },
     "metadata": {
      "needs_background": "light"
     },
     "output_type": "display_data"
    },
    {
     "data": {
      "image/png": "[encoded data removed]",
      "text/plain": [
       "<Figure size 1080x720 with 1 Axes>"
      ]
     },
     "metadata": {
      "needs_background": "light"
     },
     "output_type": "display_data"
    }
   ],
   "source": [
    "plt.figure(figsize=(12,1))\n",
    "sns.boxplot(data_gas['Газ 1'],  orient=\"h\")\n",
    "plt.show()\n",
    "\n",
    "plt.figure(figsize=(15,10))\n",
    "sns.histplot(data_gas['Газ 1'], kde=True)\n",
    "plt.show()"
   ]
  },
  {
   "cell_type": "markdown",
   "id": "254d08bc",
   "metadata": {},
   "source": [
    " - есть отдельные выбросы многократно превышающие медианное значение."
   ]
  },
  {
   "cell_type": "markdown",
   "id": "8028f0ec",
   "metadata": {},
   "source": [
    "Результаты измерения температуры:"
   ]
  },
  {
   "cell_type": "code",
   "execution_count": 13,
   "id": "88d305a8",
   "metadata": {},
   "outputs": [
    {
     "data": {
      "image/png": "[encoded data removed]",
      "text/plain": [
       "<Figure size 864x72 with 1 Axes>"
      ]
     },
     "metadata": {
      "needs_background": "light"
     },
     "output_type": "display_data"
    },
    {
     "data": {
      "image/png": "[encoded data removed]",
      "text/plain": [
       "<Figure size 1080x720 with 1 Axes>"
      ]
     },
     "metadata": {
      "needs_background": "light"
     },
     "output_type": "display_data"
    }
   ],
   "source": [
    "plt.figure(figsize=(12,1))\n",
    "sns.boxplot(data_temp['Температура'],  orient=\"h\")\n",
    "plt.show()\n",
    "\n",
    "plt.figure(figsize=(15,10))\n",
    "sns.histplot(data_temp['Температура'], kde=True)\n",
    "plt.show()"
   ]
  },
  {
   "cell_type": "markdown",
   "id": "f378c2e0",
   "metadata": {},
   "source": [
    " - Так же много выбросов в обе стороны\n",
    " - Особенно странно выглядят выбросы в районе температур 1200 градусов - эта температура заведомо ниже температуры плавления железа и большинства (возможно всех) видов стали. Необходимо уточнить у заказчика. \n",
    " - настолько широкий разброс температур (1500-1700) в отлаженном технологическом процессе может говорить о том что в процессе участвуют смеси сильно различающиеся по составу. Учитывая, что мы прогнозируем термодинамическую характеристику, отсутствие данных о составе (в случае больших различий) может вносить большую погрешность. "
   ]
  },
  {
   "cell_type": "markdown",
   "id": "621f0d26",
   "metadata": {},
   "source": [
    "**Данные о проволочных материалах:**"
   ]
  },
  {
   "cell_type": "code",
   "execution_count": 14,
   "id": "9bd81a83",
   "metadata": {},
   "outputs": [
    {
     "data": {
      "image/png": "[encoded data removed]",
      "text/plain": [
       "<Figure size 720x576 with 1 Axes>"
      ]
     },
     "metadata": {
      "needs_background": "light"
     },
     "output_type": "display_data"
    }
   ],
   "source": [
    "plt.figure(figsize=(10, 8))\n",
    "data_wire.boxplot([column for column in data_wire.columns if column != 'key' and column != 'Wire 5'], vert=False)\n",
    "plt.show()"
   ]
  },
  {
   "cell_type": "markdown",
   "id": "3ccd6586",
   "metadata": {},
   "source": [
    "- Wire 5 содержит всего одно значение. Партию включающую эту операцию исключим из рассмотрения.\n",
    "- Wire 9,8,7,6,2,1 имеют выбросы. Самые экстремальные из них имеет смысл удалить."
   ]
  },
  {
   "cell_type": "markdown",
   "id": "3838b086",
   "metadata": {},
   "source": [
    "Выводы:"
   ]
  },
  {
   "cell_type": "markdown",
   "id": "9c4cdbed",
   "metadata": {},
   "source": [
    " - Все строки с одинаковым значением \"Key\" соответствуют одной партии. При этом мы видим, что в таблицах \"Результаты измерения температуры\" и \"Данные об электродах\" примерно по 15 тыс. записей и одинаковые значения \"Key\" используются в них многократно , а в остальных таблицах (содержащих данные об объемах и времени подачи дополнительных материалов и газа) около 3100 записей и каждое значение \"Key\" встречается однократно (это предположение необходимо проверить). \n",
    " - Таким образом можно предположить, что процесс обработки одной партии (одной загрузки ковша) включает несколько этапов подогрева и несколько измерений температуры. При этом подача каждого вида проволочных материалов осуществляется не более 1 раза, так же и подача каждого вида сыпучих материалов осущствляется не более 1 раза - время подачи каждого материала указано.\n",
    " - Данных о времмени подачи газа нет. Есть только суммарное количество использованного газа. Либо газ подается непрерывно, либо интервально (как и дополнительные материалы). Эту информацию необходимо дополнительно уточнить у заказчика - единицы измерения не указаны, если объемы газа значительные, то это может быть существенным фактором, влияющим на конечную температуру. "
   ]
  },
  {
   "cell_type": "markdown",
   "id": "88506721",
   "metadata": {},
   "source": [
    "Следовательно: для построения модели предсказывающей температуру (предположительно последнюю - необходимо уточнить у заказчика) нам необходимо объеденить все таблицы в одну в соответствии с номерами партий и выстроить все события в хронологическом порядке (измерение температуры, нагрев, подачу дополнительных материалов и газа). \n",
    "\n",
    " - для этого необходимо проверить соответствие временных интервалов (все события в рамках обработки одной партии должны лежать между первым и последним измерением температуры)"
   ]
  },
  {
   "cell_type": "markdown",
   "id": "64caa8b9",
   "metadata": {},
   "source": [
    "### 2 Проверка хронологической корректности ###"
   ]
  },
  {
   "cell_type": "markdown",
   "id": "0fa03b04",
   "metadata": {},
   "source": [
    "- Проверим наличие первой и последней температур для каждой партии:"
   ]
  },
  {
   "cell_type": "code",
   "execution_count": 15,
   "id": "c5b7f7fe",
   "metadata": {},
   "outputs": [
    {
     "data": {
      "text/plain": [
       "key             0\n",
       "Время замера    0\n",
       "Температура     0\n",
       "dtype: int64"
      ]
     },
     "execution_count": 15,
     "metadata": {},
     "output_type": "execute_result"
    }
   ],
   "source": [
    "first_temp = data_temp.groupby('key').agg('min')['Время замера']\n",
    "first_temp = data_temp.merge(first_temp, on='Время замера', how='right')\n",
    "first_temp.isna().sum()"
   ]
  },
  {
   "cell_type": "code",
   "execution_count": 16,
   "id": "ac8fac95",
   "metadata": {},
   "outputs": [
    {
     "data": {
      "text/plain": [
       "key               0\n",
       "Время замера      0\n",
       "Температура     739\n",
       "dtype: int64"
      ]
     },
     "execution_count": 16,
     "metadata": {},
     "output_type": "execute_result"
    }
   ],
   "source": [
    "last_temp = data_temp.groupby('key').agg('max')['Время замера']\n",
    "last_temp = data_temp.merge(last_temp, on='Время замера', how='right')\n",
    "last_temp.isna().sum()"
   ]
  },
  {
   "cell_type": "markdown",
   "id": "195dfe6d",
   "metadata": {},
   "source": [
    "- нет пропусков в измерениях первой температуры, но есть 739 пропусков последней температуры (являющейся целевым признаком). Придется удалить все соответствующие партии."
   ]
  },
  {
   "cell_type": "code",
   "execution_count": 17,
   "id": "ebf09733",
   "metadata": {},
   "outputs": [],
   "source": [
    "last_temp = last_temp.dropna()"
   ]
  },
  {
   "cell_type": "markdown",
   "id": "dcafec1a",
   "metadata": {},
   "source": [
    "- Объединим данные о первых и последних измерениях температуры в одну таблицу."
   ]
  },
  {
   "cell_type": "code",
   "execution_count": 18,
   "id": "d28ae7fc",
   "metadata": {},
   "outputs": [],
   "source": [
    "temperature = first_temp.merge(last_temp, on='key', how='inner')\n",
    "temperature.set_axis(['key','first_time','first_temp','last_time','last_temp'], axis = 'columns', inplace = True)\n",
    "\n",
    "temp_time = temperature.drop(['first_temp','last_temp'], axis=1)"
   ]
  },
  {
   "cell_type": "markdown",
   "id": "4292e2d2",
   "metadata": {},
   "source": [
    "Данные о нагреве (data_arc - \"Данные об электродах\"):\n",
    "\n",
    "- время \"Начало нагрева дугой\" не должно превышать время \"Конец нагрева дугой\":"
   ]
  },
  {
   "cell_type": "code",
   "execution_count": 19,
   "id": "f5569bac",
   "metadata": {},
   "outputs": [
    {
     "data": {
      "text/plain": [
       "(0, 5)"
      ]
     },
     "execution_count": 19,
     "metadata": {},
     "output_type": "execute_result"
    }
   ],
   "source": [
    "data_arc[data_arc['Начало нагрева дугой'] > data_arc['Конец нагрева дугой']].shape"
   ]
  },
  {
   "cell_type": "markdown",
   "id": "0f8007e5",
   "metadata": {},
   "source": [
    "- ошибок нет.\n",
    "\n",
    "- Нагрев осуществляется несколько раз для одной партии. Соответственно, для каждой партии возьмем максимальное время \"Конец нагрева дугой\" и минимальное время \"Начало нагрева дугой\" (сравнивать будем, соответственно, с последним временем измерения температуры и первым временем измерения температуры):"
   ]
  },
  {
   "cell_type": "code",
   "execution_count": 20,
   "id": "cc2f664e",
   "metadata": {},
   "outputs": [],
   "source": [
    "start_time = data_arc.groupby('key').agg('min')['Начало нагрева дугой']\n",
    "start_time = data_arc.merge(start_time, on='Начало нагрева дугой', how='right')[['key','Начало нагрева дугой']]\n",
    "\n",
    "end_time = data_arc.groupby('key').agg('max')['Конец нагрева дугой']\n",
    "end_time = data_arc.merge(end_time, on='Конец нагрева дугой', how='right')[['key','Конец нагрева дугой']]\n",
    "\n",
    "heat_time = start_time.merge(end_time, on='key', how='inner')"
   ]
  },
  {
   "cell_type": "markdown",
   "id": "c090b012",
   "metadata": {},
   "source": [
    "- Объеденим данные с min/max временем измерения температуры (таб. temperature), данные с min/max временем начала/конца обогрева (таб. heat_time) и данные о времени загрузки насыпных добавок и проволоки (таб. data_bulk_time и data_wire_time) \n",
    "- В итоговую таблицу не включаем строки с номерами партий отсутствующими в какой-либо из таблиц\n",
    "- Добавим столбцы с минималным и максимальным временем по каждой строке\n",
    "- Сравним эти времена с временем первого и последнего замера температуры"
   ]
  },
  {
   "cell_type": "code",
   "execution_count": 21,
   "id": "2d093284",
   "metadata": {},
   "outputs": [
    {
     "name": "stdout",
     "output_type": "stream",
     "text": [
      "Кол-во партий в которых последняя операция проведена после последнего замера температуры: 123\n",
      "Кол-во партий в которых первая операция проведена до первого замера температуры: 2303\n"
     ]
    }
   ],
   "source": [
    "time_comparision = temp_time.merge(heat_time, on='key',how='inner')\n",
    "time_comparision = time_comparision.merge(data_bulk_time, on='key',how='inner')\n",
    "time_comparision = time_comparision.merge(data_wire_time, on='key',how='inner')\n",
    "\n",
    "time_comparision['min_time'] = time_comparision.drop('key', axis=1).min(axis=1)\n",
    "time_comparision['max_time'] = time_comparision.drop('key', axis=1).max(axis=1)\n",
    "\n",
    "print('Кол-во партий в которых последняя операция проведена после последнего замера температуры:'\n",
    "      ,time_comparision[time_comparision['max_time']>time_comparision['last_time']]['key'].count())\n",
    "print('Кол-во партий в которых первая операция проведена до первого замера температуры:',\n",
    "      time_comparision[time_comparision['min_time']<time_comparision['first_time']]['key'].count())"
   ]
  },
  {
   "cell_type": "markdown",
   "id": "5cc21a87",
   "metadata": {},
   "source": [
    "**Для большинства партий стали есть операции, которые были сделаны до первого замера темпаратуры!**\n",
    "- Вывод: необходимо задать вопрос заказчику - синхронизировано ли время между различными таблицами? Если нет, то можно ли считать, что первое измерение температуры было сделано до всех остальных операций? (Если время синхронизировано, то это означает что почти везде не хватает первого измерения температуры до всех остальных операций и данные не пригодны для построения прогноза)."
   ]
  },
  {
   "cell_type": "markdown",
   "id": "9482d04c",
   "metadata": {},
   "source": [
    "### 3 Уточняющие вопросы к заказчику ###\n",
    "\n",
    "1. Мы видим, что для каждой партии товара температура измеряется несколько раз. Это означает, что необходимо уточнить постановку задачи у заказчика:\n",
    "\n",
    "- какую из этих темепратур мы должны прогнозировать? Только последнюю (измерение по результатам которого сталь извлекается из ковша) или все температуры или все, кроме первой?\n",
    "- таблица с результатами измерений температуры содержит разные количества измерений для разных партий. Как отличить ситуацию, когда данные пропущены от ситуации, когда измерений действительно было сделано меньше? Всегда ли последнее измерение в таблице является финальным измерением, после которого расплавленная сталь извлекается из ковша?\n",
    "\n",
    "2. Чем обусловленны выбросы в признаках Bulk, Wire и в подаче газа? \n",
    "\n",
    "3. Почему некоторые температуры аномально низкие (ниже температуры плавления железа)? Какие температуры нужно считать ошибочными? Почему разброс температур смеси настолько большой (для отлаженного тех процесса)?\n",
    "\n",
    "4. Синхронизировано ли время между различными таблицами? Если нет, то можно ли считать, что первое измерение температуры было сделано до всех остальных операций? (Если время синхронизировано, то это означает что почти везде не хватает первого измерения температуры до всех остальных операций и данные не пригодны для построения прогноза)."
   ]
  },
  {
   "cell_type": "markdown",
   "id": "fe01566f",
   "metadata": {},
   "source": [
    "**По итогам общения с заказчиком вносим уточнения в задачу:**\n",
    "\n",
    "- Мы прогнозируем только конечную, итоговую температуру для каждой партии. \n",
    "- Для прогноза мы можем использовать только первую температуру. Промежуточные замеры температуры не могут быть использованы для прогноза итоговой.\n",
    "- время между операциями разного типа не синхронизировано (измерение температуры, нагрев, добавление присадок). Первое измерение температуры мы можем считать самой первой операцией с каждой партией, а время последнего измерения самой последней операцией."
   ]
  },
  {
   "cell_type": "markdown",
   "id": "b3bfdefa",
   "metadata": {},
   "source": [
    "### 4 Преобразуем данные: получим дополнительные признаки, уберем лишние для обучения"
   ]
  },
  {
   "cell_type": "markdown",
   "id": "81bdabb7",
   "metadata": {},
   "source": [
    "- Т.к. время между операциями разного типа не синхронизировано, то нет возможности использовать в качестве признаков какие-либо временные связи (например время между последним нагревом и измерением температуры имеет значение, однако фактически у нас нет этой информации, т.к. фиксации времени этих двух операций не синхронизированы)\n",
    "- Следовательно имеет смысл использовать суммарную энергию на нагрев для каждой партии - нет смысла считать мощность потому что время нагрева везде разное. (т.е. по всей партии (одно значение 'key') сумма произведений мощности на время для каждой операции нагрева)"
   ]
  },
  {
   "cell_type": "code",
   "execution_count": 22,
   "id": "4d438a6a",
   "metadata": {},
   "outputs": [
    {
     "data": {
      "text/html": [
       "<div>\n",
       "<style scoped>\n",
       "    .dataframe tbody tr th:only-of-type {\n",
       "        vertical-align: middle;\n",
       "    }\n",
       "\n",
       "    .dataframe tbody tr th {\n",
       "        vertical-align: top;\n",
       "    }\n",
       "\n",
       "    .dataframe thead th {\n",
       "        text-align: right;\n",
       "    }\n",
       "</style>\n",
       "<table border=\"1\" class=\"dataframe\">\n",
       "  <thead>\n",
       "    <tr style=\"text-align: right;\">\n",
       "      <th></th>\n",
       "      <th>key</th>\n",
       "      <th>act_energy</th>\n",
       "      <th>react_energy</th>\n",
       "      <th>sum_heat_time</th>\n",
       "    </tr>\n",
       "  </thead>\n",
       "  <tbody>\n",
       "    <tr>\n",
       "      <th>0</th>\n",
       "      <td>1</td>\n",
       "      <td>1207.804249</td>\n",
       "      <td>787.907510</td>\n",
       "      <td>1098.0</td>\n",
       "    </tr>\n",
       "    <tr>\n",
       "      <th>1</th>\n",
       "      <td>2</td>\n",
       "      <td>733.816470</td>\n",
       "      <td>487.590677</td>\n",
       "      <td>811.0</td>\n",
       "    </tr>\n",
       "    <tr>\n",
       "      <th>2</th>\n",
       "      <td>3</td>\n",
       "      <td>443.583327</td>\n",
       "      <td>280.936835</td>\n",
       "      <td>655.0</td>\n",
       "    </tr>\n",
       "    <tr>\n",
       "      <th>3</th>\n",
       "      <td>4</td>\n",
       "      <td>670.663327</td>\n",
       "      <td>429.935932</td>\n",
       "      <td>741.0</td>\n",
       "    </tr>\n",
       "    <tr>\n",
       "      <th>4</th>\n",
       "      <td>5</td>\n",
       "      <td>997.496095</td>\n",
       "      <td>664.940090</td>\n",
       "      <td>869.0</td>\n",
       "    </tr>\n",
       "  </tbody>\n",
       "</table>\n",
       "</div>"
      ],
      "text/plain": [
       "   key   act_energy  react_energy  sum_heat_time\n",
       "0    1  1207.804249    787.907510         1098.0\n",
       "1    2   733.816470    487.590677          811.0\n",
       "2    3   443.583327    280.936835          655.0\n",
       "3    4   670.663327    429.935932          741.0\n",
       "4    5   997.496095    664.940090          869.0"
      ]
     },
     "execution_count": 22,
     "metadata": {},
     "output_type": "execute_result"
    }
   ],
   "source": [
    "data_arc.head()\n",
    "data_arc['Длительность нагрева'] = (data_arc['Конец нагрева дугой'] \n",
    "                                    - data_arc['Начало нагрева дугой']).apply(pd.Timedelta.total_seconds)\n",
    "data_arc['Активная энергия'] = data_arc['Длительность нагрева'] * data_arc['Активная мощность']\n",
    "data_arc['Реактивная энергия'] = data_arc['Длительность нагрева'] * data_arc['Реактивная мощность']\n",
    "\n",
    "heat_full = data_arc.groupby('key').agg(\n",
    "    act_energy=('Активная энергия','sum'),\n",
    "    react_energy=('Реактивная энергия','sum'),\n",
    "    sum_heat_time=('Длительность нагрева','sum')).reset_index()\n",
    "\n",
    "heat_full.head()"
   ]
  },
  {
   "cell_type": "markdown",
   "id": "b56dd83e",
   "metadata": {},
   "source": [
    "- Активная и реактивная мощности должны сильно коррелировать, проверим:"
   ]
  },
  {
   "cell_type": "code",
   "execution_count": 23,
   "id": "d6f8fa00",
   "metadata": {},
   "outputs": [
    {
     "data": {
      "text/html": [
       "<div>\n",
       "<style scoped>\n",
       "    .dataframe tbody tr th:only-of-type {\n",
       "        vertical-align: middle;\n",
       "    }\n",
       "\n",
       "    .dataframe tbody tr th {\n",
       "        vertical-align: top;\n",
       "    }\n",
       "\n",
       "    .dataframe thead th {\n",
       "        text-align: right;\n",
       "    }\n",
       "</style>\n",
       "<table border=\"1\" class=\"dataframe\">\n",
       "  <thead>\n",
       "    <tr style=\"text-align: right;\">\n",
       "      <th></th>\n",
       "      <th>act_energy</th>\n",
       "      <th>react_energy</th>\n",
       "    </tr>\n",
       "  </thead>\n",
       "  <tbody>\n",
       "    <tr>\n",
       "      <th>act_energy</th>\n",
       "      <td>1.000000</td>\n",
       "      <td>0.985929</td>\n",
       "    </tr>\n",
       "    <tr>\n",
       "      <th>react_energy</th>\n",
       "      <td>0.985929</td>\n",
       "      <td>1.000000</td>\n",
       "    </tr>\n",
       "  </tbody>\n",
       "</table>\n",
       "</div>"
      ],
      "text/plain": [
       "              act_energy  react_energy\n",
       "act_energy      1.000000      0.985929\n",
       "react_energy    0.985929      1.000000"
      ]
     },
     "execution_count": 23,
     "metadata": {},
     "output_type": "execute_result"
    }
   ],
   "source": [
    "heat_full[['act_energy','react_energy']].corr(method='spearman')"
   ]
  },
  {
   "cell_type": "markdown",
   "id": "5b8c21e6",
   "metadata": {},
   "source": [
    "- Гипотеза подтверждена. Кроме того на нагрев должна идти только активная мощность. Таким образом реактивная мощность не нужна для обучения моделей. Удалим соответствующий признак:"
   ]
  },
  {
   "cell_type": "code",
   "execution_count": 24,
   "id": "4bd0bdd2",
   "metadata": {},
   "outputs": [],
   "source": [
    "heat_full = heat_full.drop('react_energy', axis=1)"
   ]
  },
  {
   "cell_type": "markdown",
   "id": "ad660acf",
   "metadata": {},
   "source": [
    "В таблице temperature (содержит первую и последнюю температуры):\n",
    "\n",
    " - добавим столбец с временем между первым и последним измерением - возможно это будет полезный признак при обучении моделей (для операций одного типа время можно использовать - рассинхронизация только между операциями разного типа).\n",
    " \n",
    " - удалим столбцы с временем измерения, т.к. они бесполезны."
   ]
  },
  {
   "cell_type": "code",
   "execution_count": 25,
   "id": "c561b335",
   "metadata": {},
   "outputs": [
    {
     "data": {
      "text/html": [
       "<div>\n",
       "<style scoped>\n",
       "    .dataframe tbody tr th:only-of-type {\n",
       "        vertical-align: middle;\n",
       "    }\n",
       "\n",
       "    .dataframe tbody tr th {\n",
       "        vertical-align: top;\n",
       "    }\n",
       "\n",
       "    .dataframe thead th {\n",
       "        text-align: right;\n",
       "    }\n",
       "</style>\n",
       "<table border=\"1\" class=\"dataframe\">\n",
       "  <thead>\n",
       "    <tr style=\"text-align: right;\">\n",
       "      <th></th>\n",
       "      <th>key</th>\n",
       "      <th>first_temp</th>\n",
       "      <th>last_temp</th>\n",
       "      <th>time_between_temperatures</th>\n",
       "    </tr>\n",
       "  </thead>\n",
       "  <tbody>\n",
       "    <tr>\n",
       "      <th>0</th>\n",
       "      <td>1</td>\n",
       "      <td>1571.0</td>\n",
       "      <td>1613.0</td>\n",
       "      <td>861.0</td>\n",
       "    </tr>\n",
       "    <tr>\n",
       "      <th>1</th>\n",
       "      <td>2</td>\n",
       "      <td>1581.0</td>\n",
       "      <td>1602.0</td>\n",
       "      <td>1305.0</td>\n",
       "    </tr>\n",
       "    <tr>\n",
       "      <th>2</th>\n",
       "      <td>3</td>\n",
       "      <td>1596.0</td>\n",
       "      <td>1599.0</td>\n",
       "      <td>1300.0</td>\n",
       "    </tr>\n",
       "    <tr>\n",
       "      <th>3</th>\n",
       "      <td>4</td>\n",
       "      <td>1601.0</td>\n",
       "      <td>1625.0</td>\n",
       "      <td>388.0</td>\n",
       "    </tr>\n",
       "    <tr>\n",
       "      <th>4</th>\n",
       "      <td>5</td>\n",
       "      <td>1576.0</td>\n",
       "      <td>1602.0</td>\n",
       "      <td>762.0</td>\n",
       "    </tr>\n",
       "  </tbody>\n",
       "</table>\n",
       "</div>"
      ],
      "text/plain": [
       "   key  first_temp  last_temp  time_between_temperatures\n",
       "0    1      1571.0     1613.0                      861.0\n",
       "1    2      1581.0     1602.0                     1305.0\n",
       "2    3      1596.0     1599.0                     1300.0\n",
       "3    4      1601.0     1625.0                      388.0\n",
       "4    5      1576.0     1602.0                      762.0"
      ]
     },
     "execution_count": 25,
     "metadata": {},
     "output_type": "execute_result"
    }
   ],
   "source": [
    "temperature['time_between_temperatures'] = (temperature['last_time'] \n",
    "                            - temperature['first_time']).apply(pd.Timedelta.total_seconds)\n",
    "temperature = temperature.drop(['first_time','last_time'], axis=1)\n",
    "temperature.head()"
   ]
  },
  {
   "cell_type": "markdown",
   "id": "c523f2b2",
   "metadata": {},
   "source": [
    "#### Соберем все данные в одну таблицу подходящую для обучения моделей"
   ]
  },
  {
   "cell_type": "code",
   "execution_count": 26,
   "id": "c35e6cbe",
   "metadata": {},
   "outputs": [],
   "source": [
    "data_model = temperature.merge(heat_full, on='key', how='inner')\n",
    "data_model = data_model.merge(data_bulk, on='key', how='inner')\n",
    "data_model = data_model.merge(data_gas, on='key', how='inner')\n",
    "data_model = data_model.merge(data_wire, on='key', how='inner')\n",
    "\n",
    "data_model = data_model.drop('key', axis=1)\n",
    "data_model = data_model.fillna(0)"
   ]
  },
  {
   "cell_type": "code",
   "execution_count": 27,
   "id": "399a814f",
   "metadata": {},
   "outputs": [
    {
     "data": {
      "text/html": [
       "<div>\n",
       "<style scoped>\n",
       "    .dataframe tbody tr th:only-of-type {\n",
       "        vertical-align: middle;\n",
       "    }\n",
       "\n",
       "    .dataframe tbody tr th {\n",
       "        vertical-align: top;\n",
       "    }\n",
       "\n",
       "    .dataframe thead th {\n",
       "        text-align: right;\n",
       "    }\n",
       "</style>\n",
       "<table border=\"1\" class=\"dataframe\">\n",
       "  <thead>\n",
       "    <tr style=\"text-align: right;\">\n",
       "      <th></th>\n",
       "      <th>first_temp</th>\n",
       "      <th>last_temp</th>\n",
       "      <th>time_between_temperatures</th>\n",
       "      <th>act_energy</th>\n",
       "      <th>sum_heat_time</th>\n",
       "      <th>Bulk 1</th>\n",
       "      <th>Bulk 2</th>\n",
       "      <th>Bulk 3</th>\n",
       "      <th>Bulk 4</th>\n",
       "      <th>Bulk 5</th>\n",
       "      <th>...</th>\n",
       "      <th>Газ 1</th>\n",
       "      <th>Wire 1</th>\n",
       "      <th>Wire 2</th>\n",
       "      <th>Wire 3</th>\n",
       "      <th>Wire 4</th>\n",
       "      <th>Wire 5</th>\n",
       "      <th>Wire 6</th>\n",
       "      <th>Wire 7</th>\n",
       "      <th>Wire 8</th>\n",
       "      <th>Wire 9</th>\n",
       "    </tr>\n",
       "  </thead>\n",
       "  <tbody>\n",
       "    <tr>\n",
       "      <th>0</th>\n",
       "      <td>1571.0</td>\n",
       "      <td>1613.0</td>\n",
       "      <td>861.0</td>\n",
       "      <td>1207.804249</td>\n",
       "      <td>1098.0</td>\n",
       "      <td>0.0</td>\n",
       "      <td>0.0</td>\n",
       "      <td>0.0</td>\n",
       "      <td>43.0</td>\n",
       "      <td>0.0</td>\n",
       "      <td>...</td>\n",
       "      <td>29.749986</td>\n",
       "      <td>60.059998</td>\n",
       "      <td>0.00000</td>\n",
       "      <td>0.0</td>\n",
       "      <td>0.0</td>\n",
       "      <td>0.0</td>\n",
       "      <td>0.0</td>\n",
       "      <td>0.0</td>\n",
       "      <td>0.0</td>\n",
       "      <td>0.0</td>\n",
       "    </tr>\n",
       "    <tr>\n",
       "      <th>1</th>\n",
       "      <td>1581.0</td>\n",
       "      <td>1602.0</td>\n",
       "      <td>1305.0</td>\n",
       "      <td>733.816470</td>\n",
       "      <td>811.0</td>\n",
       "      <td>0.0</td>\n",
       "      <td>0.0</td>\n",
       "      <td>0.0</td>\n",
       "      <td>73.0</td>\n",
       "      <td>0.0</td>\n",
       "      <td>...</td>\n",
       "      <td>12.555561</td>\n",
       "      <td>96.052315</td>\n",
       "      <td>0.00000</td>\n",
       "      <td>0.0</td>\n",
       "      <td>0.0</td>\n",
       "      <td>0.0</td>\n",
       "      <td>0.0</td>\n",
       "      <td>0.0</td>\n",
       "      <td>0.0</td>\n",
       "      <td>0.0</td>\n",
       "    </tr>\n",
       "    <tr>\n",
       "      <th>2</th>\n",
       "      <td>1596.0</td>\n",
       "      <td>1599.0</td>\n",
       "      <td>1300.0</td>\n",
       "      <td>443.583327</td>\n",
       "      <td>655.0</td>\n",
       "      <td>0.0</td>\n",
       "      <td>0.0</td>\n",
       "      <td>0.0</td>\n",
       "      <td>34.0</td>\n",
       "      <td>0.0</td>\n",
       "      <td>...</td>\n",
       "      <td>28.554793</td>\n",
       "      <td>91.160157</td>\n",
       "      <td>0.00000</td>\n",
       "      <td>0.0</td>\n",
       "      <td>0.0</td>\n",
       "      <td>0.0</td>\n",
       "      <td>0.0</td>\n",
       "      <td>0.0</td>\n",
       "      <td>0.0</td>\n",
       "      <td>0.0</td>\n",
       "    </tr>\n",
       "    <tr>\n",
       "      <th>3</th>\n",
       "      <td>1601.0</td>\n",
       "      <td>1625.0</td>\n",
       "      <td>388.0</td>\n",
       "      <td>670.663327</td>\n",
       "      <td>741.0</td>\n",
       "      <td>0.0</td>\n",
       "      <td>0.0</td>\n",
       "      <td>0.0</td>\n",
       "      <td>81.0</td>\n",
       "      <td>0.0</td>\n",
       "      <td>...</td>\n",
       "      <td>18.841219</td>\n",
       "      <td>89.063515</td>\n",
       "      <td>0.00000</td>\n",
       "      <td>0.0</td>\n",
       "      <td>0.0</td>\n",
       "      <td>0.0</td>\n",
       "      <td>0.0</td>\n",
       "      <td>0.0</td>\n",
       "      <td>0.0</td>\n",
       "      <td>0.0</td>\n",
       "    </tr>\n",
       "    <tr>\n",
       "      <th>4</th>\n",
       "      <td>1576.0</td>\n",
       "      <td>1602.0</td>\n",
       "      <td>762.0</td>\n",
       "      <td>997.496095</td>\n",
       "      <td>869.0</td>\n",
       "      <td>0.0</td>\n",
       "      <td>0.0</td>\n",
       "      <td>0.0</td>\n",
       "      <td>78.0</td>\n",
       "      <td>0.0</td>\n",
       "      <td>...</td>\n",
       "      <td>5.413692</td>\n",
       "      <td>89.238236</td>\n",
       "      <td>9.11456</td>\n",
       "      <td>0.0</td>\n",
       "      <td>0.0</td>\n",
       "      <td>0.0</td>\n",
       "      <td>0.0</td>\n",
       "      <td>0.0</td>\n",
       "      <td>0.0</td>\n",
       "      <td>0.0</td>\n",
       "    </tr>\n",
       "    <tr>\n",
       "      <th>...</th>\n",
       "      <td>...</td>\n",
       "      <td>...</td>\n",
       "      <td>...</td>\n",
       "      <td>...</td>\n",
       "      <td>...</td>\n",
       "      <td>...</td>\n",
       "      <td>...</td>\n",
       "      <td>...</td>\n",
       "      <td>...</td>\n",
       "      <td>...</td>\n",
       "      <td>...</td>\n",
       "      <td>...</td>\n",
       "      <td>...</td>\n",
       "      <td>...</td>\n",
       "      <td>...</td>\n",
       "      <td>...</td>\n",
       "      <td>...</td>\n",
       "      <td>...</td>\n",
       "      <td>...</td>\n",
       "      <td>...</td>\n",
       "      <td>...</td>\n",
       "    </tr>\n",
       "    <tr>\n",
       "      <th>2324</th>\n",
       "      <td>1570.0</td>\n",
       "      <td>1591.0</td>\n",
       "      <td>1137.0</td>\n",
       "      <td>626.167357</td>\n",
       "      <td>723.0</td>\n",
       "      <td>0.0</td>\n",
       "      <td>0.0</td>\n",
       "      <td>21.0</td>\n",
       "      <td>0.0</td>\n",
       "      <td>0.0</td>\n",
       "      <td>...</td>\n",
       "      <td>7.125735</td>\n",
       "      <td>89.150879</td>\n",
       "      <td>0.00000</td>\n",
       "      <td>0.0</td>\n",
       "      <td>0.0</td>\n",
       "      <td>0.0</td>\n",
       "      <td>0.0</td>\n",
       "      <td>0.0</td>\n",
       "      <td>0.0</td>\n",
       "      <td>0.0</td>\n",
       "    </tr>\n",
       "    <tr>\n",
       "      <th>2325</th>\n",
       "      <td>1554.0</td>\n",
       "      <td>1591.0</td>\n",
       "      <td>1618.0</td>\n",
       "      <td>727.868032</td>\n",
       "      <td>940.0</td>\n",
       "      <td>0.0</td>\n",
       "      <td>0.0</td>\n",
       "      <td>0.0</td>\n",
       "      <td>63.0</td>\n",
       "      <td>0.0</td>\n",
       "      <td>...</td>\n",
       "      <td>9.412616</td>\n",
       "      <td>114.179527</td>\n",
       "      <td>0.00000</td>\n",
       "      <td>0.0</td>\n",
       "      <td>0.0</td>\n",
       "      <td>0.0</td>\n",
       "      <td>0.0</td>\n",
       "      <td>0.0</td>\n",
       "      <td>0.0</td>\n",
       "      <td>0.0</td>\n",
       "    </tr>\n",
       "    <tr>\n",
       "      <th>2326</th>\n",
       "      <td>1571.0</td>\n",
       "      <td>1589.0</td>\n",
       "      <td>717.0</td>\n",
       "      <td>427.535518</td>\n",
       "      <td>569.0</td>\n",
       "      <td>0.0</td>\n",
       "      <td>0.0</td>\n",
       "      <td>0.0</td>\n",
       "      <td>85.0</td>\n",
       "      <td>0.0</td>\n",
       "      <td>...</td>\n",
       "      <td>6.271699</td>\n",
       "      <td>94.086723</td>\n",
       "      <td>9.04800</td>\n",
       "      <td>0.0</td>\n",
       "      <td>0.0</td>\n",
       "      <td>0.0</td>\n",
       "      <td>0.0</td>\n",
       "      <td>0.0</td>\n",
       "      <td>0.0</td>\n",
       "      <td>0.0</td>\n",
       "    </tr>\n",
       "    <tr>\n",
       "      <th>2327</th>\n",
       "      <td>1591.0</td>\n",
       "      <td>1594.0</td>\n",
       "      <td>1302.0</td>\n",
       "      <td>629.928649</td>\n",
       "      <td>750.0</td>\n",
       "      <td>0.0</td>\n",
       "      <td>0.0</td>\n",
       "      <td>90.0</td>\n",
       "      <td>0.0</td>\n",
       "      <td>0.0</td>\n",
       "      <td>...</td>\n",
       "      <td>14.953657</td>\n",
       "      <td>118.110717</td>\n",
       "      <td>0.00000</td>\n",
       "      <td>0.0</td>\n",
       "      <td>0.0</td>\n",
       "      <td>0.0</td>\n",
       "      <td>0.0</td>\n",
       "      <td>0.0</td>\n",
       "      <td>0.0</td>\n",
       "      <td>0.0</td>\n",
       "    </tr>\n",
       "    <tr>\n",
       "      <th>2328</th>\n",
       "      <td>1569.0</td>\n",
       "      <td>1603.0</td>\n",
       "      <td>1203.0</td>\n",
       "      <td>1075.132183</td>\n",
       "      <td>883.0</td>\n",
       "      <td>0.0</td>\n",
       "      <td>0.0</td>\n",
       "      <td>47.0</td>\n",
       "      <td>0.0</td>\n",
       "      <td>0.0</td>\n",
       "      <td>...</td>\n",
       "      <td>11.336151</td>\n",
       "      <td>110.160958</td>\n",
       "      <td>50.00528</td>\n",
       "      <td>0.0</td>\n",
       "      <td>0.0</td>\n",
       "      <td>0.0</td>\n",
       "      <td>0.0</td>\n",
       "      <td>0.0</td>\n",
       "      <td>0.0</td>\n",
       "      <td>0.0</td>\n",
       "    </tr>\n",
       "  </tbody>\n",
       "</table>\n",
       "<p>2329 rows × 30 columns</p>\n",
       "</div>"
      ],
      "text/plain": [
       "      first_temp  last_temp  time_between_temperatures   act_energy  \\\n",
       "0         1571.0     1613.0                      861.0  1207.804249   \n",
       "1         1581.0     1602.0                     1305.0   733.816470   \n",
       "2         1596.0     1599.0                     1300.0   443.583327   \n",
       "3         1601.0     1625.0                      388.0   670.663327   \n",
       "4         1576.0     1602.0                      762.0   997.496095   \n",
       "...          ...        ...                        ...          ...   \n",
       "2324      1570.0     1591.0                     1137.0   626.167357   \n",
       "2325      1554.0     1591.0                     1618.0   727.868032   \n",
       "2326      1571.0     1589.0                      717.0   427.535518   \n",
       "2327      1591.0     1594.0                     1302.0   629.928649   \n",
       "2328      1569.0     1603.0                     1203.0  1075.132183   \n",
       "\n",
       "      sum_heat_time  Bulk 1  Bulk 2  Bulk 3  Bulk 4  Bulk 5  ...      Газ 1  \\\n",
       "0            1098.0     0.0     0.0     0.0    43.0     0.0  ...  29.749986   \n",
       "1             811.0     0.0     0.0     0.0    73.0     0.0  ...  12.555561   \n",
       "2             655.0     0.0     0.0     0.0    34.0     0.0  ...  28.554793   \n",
       "3             741.0     0.0     0.0     0.0    81.0     0.0  ...  18.841219   \n",
       "4             869.0     0.0     0.0     0.0    78.0     0.0  ...   5.413692   \n",
       "...             ...     ...     ...     ...     ...     ...  ...        ...   \n",
       "2324          723.0     0.0     0.0    21.0     0.0     0.0  ...   7.125735   \n",
       "2325          940.0     0.0     0.0     0.0    63.0     0.0  ...   9.412616   \n",
       "2326          569.0     0.0     0.0     0.0    85.0     0.0  ...   6.271699   \n",
       "2327          750.0     0.0     0.0    90.0     0.0     0.0  ...  14.953657   \n",
       "2328          883.0     0.0     0.0    47.0     0.0     0.0  ...  11.336151   \n",
       "\n",
       "          Wire 1    Wire 2  Wire 3  Wire 4  Wire 5  Wire 6  Wire 7  Wire 8  \\\n",
       "0      60.059998   0.00000     0.0     0.0     0.0     0.0     0.0     0.0   \n",
       "1      96.052315   0.00000     0.0     0.0     0.0     0.0     0.0     0.0   \n",
       "2      91.160157   0.00000     0.0     0.0     0.0     0.0     0.0     0.0   \n",
       "3      89.063515   0.00000     0.0     0.0     0.0     0.0     0.0     0.0   \n",
       "4      89.238236   9.11456     0.0     0.0     0.0     0.0     0.0     0.0   \n",
       "...          ...       ...     ...     ...     ...     ...     ...     ...   \n",
       "2324   89.150879   0.00000     0.0     0.0     0.0     0.0     0.0     0.0   \n",
       "2325  114.179527   0.00000     0.0     0.0     0.0     0.0     0.0     0.0   \n",
       "2326   94.086723   9.04800     0.0     0.0     0.0     0.0     0.0     0.0   \n",
       "2327  118.110717   0.00000     0.0     0.0     0.0     0.0     0.0     0.0   \n",
       "2328  110.160958  50.00528     0.0     0.0     0.0     0.0     0.0     0.0   \n",
       "\n",
       "      Wire 9  \n",
       "0        0.0  \n",
       "1        0.0  \n",
       "2        0.0  \n",
       "3        0.0  \n",
       "4        0.0  \n",
       "...      ...  \n",
       "2324     0.0  \n",
       "2325     0.0  \n",
       "2326     0.0  \n",
       "2327     0.0  \n",
       "2328     0.0  \n",
       "\n",
       "[2329 rows x 30 columns]"
      ]
     },
     "execution_count": 27,
     "metadata": {},
     "output_type": "execute_result"
    }
   ],
   "source": [
    "data_model"
   ]
  },
  {
   "cell_type": "markdown",
   "id": "0db9633c",
   "metadata": {},
   "source": [
    "#### Проверим наличие коррелирующих признаков:"
   ]
  },
  {
   "cell_type": "code",
   "execution_count": 29,
   "id": "51fd1023",
   "metadata": {},
   "outputs": [
    {
     "data": {
      "image/png": "[encoded data removed]",
      "text/plain": [
       "<Figure size 1500x1500 with 2 Axes>"
      ]
     },
     "metadata": {},
     "output_type": "display_data"
    }
   ],
   "source": [
    "plt.figure(figsize=(15, 15))\n",
    "plt.title('Матрица корреляций признаков')\n",
    "\n",
    "sns.heatmap(data_model[['first_temp','last_temp','time_between_temperatures'\n",
    "                        ,'act_energy','sum_heat_time','Bulk 3','Bulk 4','Bulk 12'\n",
    "                        ,'Bulk 14','Bulk 15','Газ 1','Wire 1','Wire 2']].corr(method='spearman'), annot = True)\n",
    "\n",
    "plt.show()\n"
   ]
  },
  {
   "cell_type": "markdown",
   "id": "7729640c",
   "metadata": {},
   "source": [
    "- Высокая корреляция только между признаками \"Суммарная активная энергия на нагрев\" и \"Суммарное время нагрева\". Это логично - чем дольше нагревали, тем большее количество энергии передали. \n",
    "- Оставим только признак \"Суммарное время нагрева\", а вместо суммарной энергии будем использовать среднюю мощность - что бы избежать корреляции между признаками и, при этом, не терять важную информацию о мощности нагрева.\n",
    "- (удалять признак \"суммарное время нагрева\" мы не хотим - он соизмерим с признаком \"время между первым и последним измерением температуры\" - возможно это даст дополнительную информацию для модели - это единственный способ хоть как-то учесть время, учитывая что между разными процессами время рассинхронизировано)"
   ]
  },
  {
   "cell_type": "code",
   "execution_count": 30,
   "id": "406a0caf",
   "metadata": {},
   "outputs": [],
   "source": [
    "data_model['avg_power'] = data_model['act_energy']/data_model['sum_heat_time']\n",
    "data_model = data_model.drop('act_energy',axis=1)"
   ]
  },
  {
   "cell_type": "code",
   "execution_count": 31,
   "id": "f3babcc4",
   "metadata": {},
   "outputs": [
    {
     "data": {
      "text/html": [
       "<div>\n",
       "<style scoped>\n",
       "    .dataframe tbody tr th:only-of-type {\n",
       "        vertical-align: middle;\n",
       "    }\n",
       "\n",
       "    .dataframe tbody tr th {\n",
       "        vertical-align: top;\n",
       "    }\n",
       "\n",
       "    .dataframe thead th {\n",
       "        text-align: right;\n",
       "    }\n",
       "</style>\n",
       "<table border=\"1\" class=\"dataframe\">\n",
       "  <thead>\n",
       "    <tr style=\"text-align: right;\">\n",
       "      <th></th>\n",
       "      <th>avg_power</th>\n",
       "      <th>sum_heat_time</th>\n",
       "    </tr>\n",
       "  </thead>\n",
       "  <tbody>\n",
       "    <tr>\n",
       "      <th>avg_power</th>\n",
       "      <td>1.00000</td>\n",
       "      <td>0.66166</td>\n",
       "    </tr>\n",
       "    <tr>\n",
       "      <th>sum_heat_time</th>\n",
       "      <td>0.66166</td>\n",
       "      <td>1.00000</td>\n",
       "    </tr>\n",
       "  </tbody>\n",
       "</table>\n",
       "</div>"
      ],
      "text/plain": [
       "               avg_power  sum_heat_time\n",
       "avg_power        1.00000        0.66166\n",
       "sum_heat_time    0.66166        1.00000"
      ]
     },
     "execution_count": 31,
     "metadata": {},
     "output_type": "execute_result"
    }
   ],
   "source": [
    "data_model[['avg_power','sum_heat_time']].corr(method='spearman')"
   ]
  },
  {
   "cell_type": "markdown",
   "id": "f23abdfe",
   "metadata": {},
   "source": [
    "- средняя мощность и время нагрева тоже коррелируют, но уже не так сильно (можно предположить, что на производстве, когда возникала необходимость более сильного нагрева использовали как большую мощность так и большее время на нагрев)."
   ]
  },
  {
   "attachments": {
    "image.png": {
     "image/png": "[encoded data removed]"
    }
   },
   "cell_type": "markdown",
   "id": "47a91ce2",
   "metadata": {},
   "source": [
    "![image.png](attachment:image.png)"
   ]
  },
  {
   "cell_type": "markdown",
   "id": "d2ccc679",
   "metadata": {},
   "source": [
    "### 5 Обучение моделей"
   ]
  },
  {
   "cell_type": "markdown",
   "id": "f5477303",
   "metadata": {},
   "source": [
    "Тренировочная и тестовая выборки:"
   ]
  },
  {
   "cell_type": "code",
   "execution_count": 32,
   "id": "8e2dbf25",
   "metadata": {},
   "outputs": [],
   "source": [
    "features = data_model.drop('last_temp', axis=1)\n",
    "target = data_model['last_temp']\n",
    "\n",
    "train_features, test_features, train_target, test_target = train_test_split(features, \n",
    "                                                                            target,\n",
    "                                                                            test_size=0.2,\n",
    "                                                                            random_state=27012023)"
   ]
  },
  {
   "cell_type": "markdown",
   "id": "2964c29e",
   "metadata": {},
   "source": [
    "Для линейных моделей сделаем масштабирование признаков:"
   ]
  },
  {
   "cell_type": "code",
   "execution_count": 33,
   "id": "f4ac4060",
   "metadata": {},
   "outputs": [],
   "source": [
    "scaler = MinMaxScaler()\n",
    "scaler.fit(train_features)\n",
    "X_train = scaler.transform(train_features)\n",
    "X_test = scaler.transform(test_features)\n",
    "y_train = train_target\n",
    "y_test = test_target"
   ]
  },
  {
   "cell_type": "markdown",
   "id": "1223a69b",
   "metadata": {},
   "source": [
    "Функция для обучения моделей на GridSearchCV:"
   ]
  },
  {
   "cell_type": "code",
   "execution_count": 34,
   "id": "b0eb1481",
   "metadata": {},
   "outputs": [],
   "source": [
    "models = pd.DataFrame({'name':[], 'parameters':[], 'best_MAE_train':[]})\n",
    "\n",
    "def train_on_grid(model, parameters, name, features, target):\n",
    "    \n",
    "    grid_model = GridSearchCV(estimator=model,\n",
    "                         param_grid=parameters,\n",
    "                         scoring='neg_mean_absolute_error',\n",
    "                         cv=3,\n",
    "                         verbose=1)\n",
    "    \n",
    "    grid_model.fit(features, target)\n",
    "    \n",
    "    mae = grid_model.best_score_ * -1\n",
    "    \n",
    "    models.append([name, grid_model.best_params_, mae])\n",
    "    \n",
    "    row = []\n",
    "    row.extend([name, grid_model.best_params_, mae])\n",
    "    models.loc[len(models.index)] = row\n",
    "    \n",
    "    print('Лучшие параметры:', grid_model.best_params_)\n",
    "    print('MAE обученной модели:', mae)\n",
    "    \n",
    "    return model"
   ]
  },
  {
   "cell_type": "markdown",
   "id": "1f6c3a51",
   "metadata": {},
   "source": [
    "**Линейная регрессия**"
   ]
  },
  {
   "cell_type": "code",
   "execution_count": 35,
   "id": "9546b1a4",
   "metadata": {},
   "outputs": [
    {
     "name": "stdout",
     "output_type": "stream",
     "text": [
      "Fitting 3 folds for each of 1 candidates, totalling 3 fits\n",
      "Лучшие параметры: {}\n",
      "MAE обученной модели: 6.572721780553203\n"
     ]
    }
   ],
   "source": [
    "linear = LinearRegression(n_jobs=-1)\n",
    "params = {}\n",
    "linear_model = train_on_grid(linear, params, 'LinearRegression',X_train,y_train)"
   ]
  },
  {
   "cell_type": "markdown",
   "id": "7c212d49",
   "metadata": {},
   "source": [
    "**Lasso**"
   ]
  },
  {
   "cell_type": "code",
   "execution_count": 36,
   "id": "d7bf5992",
   "metadata": {},
   "outputs": [
    {
     "name": "stdout",
     "output_type": "stream",
     "text": [
      "Fitting 3 folds for each of 8 candidates, totalling 24 fits\n",
      "Лучшие параметры: {'alpha': 0.01}\n",
      "MAE обученной модели: 6.420394218752875\n"
     ]
    }
   ],
   "source": [
    "lasso = Lasso()\n",
    "params = {'alpha': [0.01, 0.05, 0.1, 0.3, 0.5, 0.8, 1.5, 2]}\n",
    "lasso_model = train_on_grid(lasso, params, 'Lasso', X_train,y_train)"
   ]
  },
  {
   "cell_type": "markdown",
   "id": "b1b48285",
   "metadata": {},
   "source": [
    "**Случайный лес деревьев**"
   ]
  },
  {
   "cell_type": "code",
   "execution_count": 37,
   "id": "c9458618",
   "metadata": {},
   "outputs": [
    {
     "name": "stdout",
     "output_type": "stream",
     "text": [
      "Fitting 3 folds for each of 44 candidates, totalling 132 fits\n",
      "Лучшие параметры: {'max_depth': 21, 'n_estimators': 300}\n",
      "MAE обученной модели: 5.967312597712028\n"
     ]
    }
   ],
   "source": [
    "RandomForest = RandomForestRegressor(n_jobs=-1)\n",
    "\n",
    "params = {\n",
    "    'max_depth': list(range(20, 31)),\n",
    "    'n_estimators': [150, 200, 250, 300]\n",
    "}\n",
    "\n",
    "rf_model = train_on_grid(RandomForest, params,'RandomForestRegressor', X_train,y_train)"
   ]
  },
  {
   "cell_type": "markdown",
   "id": "6ad6164a",
   "metadata": {},
   "source": [
    "**CatBoost**"
   ]
  },
  {
   "cell_type": "code",
   "execution_count": 38,
   "id": "9cf7de44",
   "metadata": {},
   "outputs": [
    {
     "name": "stdout",
     "output_type": "stream",
     "text": [
      "Fitting 3 folds for each of 15 candidates, totalling 45 fits\n",
      "Лучшие параметры: {'learning_rate': 0.05, 'max_depth': 7}\n",
      "MAE обученной модели: 5.803895820531853\n"
     ]
    }
   ],
   "source": [
    "catboost = CatBoostRegressor(verbose=False)\n",
    "\n",
    "params = {\n",
    "    'max_depth': [5, 6, 7, 8, 9],\n",
    "    'learning_rate': [0.01, 0.05, 0.1]\n",
    "}\n",
    "\n",
    "catboost_model = train_on_grid(catboost, params,'CatBoostRegressor', X_train,y_train)"
   ]
  },
  {
   "cell_type": "markdown",
   "id": "215a678f",
   "metadata": {},
   "source": [
    "**LGBMRegressor**"
   ]
  },
  {
   "cell_type": "code",
   "execution_count": 39,
   "id": "82cd4eb9",
   "metadata": {},
   "outputs": [
    {
     "name": "stdout",
     "output_type": "stream",
     "text": [
      "Fitting 3 folds for each of 18 candidates, totalling 54 fits\n",
      "Лучшие параметры: {'learning_rate': 0.1, 'max_depth': 4}\n",
      "MAE обученной модели: 5.853346307706395\n"
     ]
    }
   ],
   "source": [
    "lgbm = LGBMRegressor(metric='mae')\n",
    "\n",
    "params = {\n",
    "    'max_depth': [3,4,5,6,7,8],\n",
    "    'learning_rate': [0.01, 0.1, 0.15]\n",
    "}\n",
    "\n",
    "lgbm_model = train_on_grid(lgbm, params,'LGBMRegressor', X_train,y_train)"
   ]
  },
  {
   "cell_type": "markdown",
   "id": "250c3c7a",
   "metadata": {},
   "source": [
    "### 6 Выводы"
   ]
  },
  {
   "cell_type": "code",
   "execution_count": 40,
   "id": "bd538928",
   "metadata": {},
   "outputs": [
    {
     "data": {
      "text/html": [
       "<div>\n",
       "<style scoped>\n",
       "    .dataframe tbody tr th:only-of-type {\n",
       "        vertical-align: middle;\n",
       "    }\n",
       "\n",
       "    .dataframe tbody tr th {\n",
       "        vertical-align: top;\n",
       "    }\n",
       "\n",
       "    .dataframe thead th {\n",
       "        text-align: right;\n",
       "    }\n",
       "</style>\n",
       "<table border=\"1\" class=\"dataframe\">\n",
       "  <thead>\n",
       "    <tr style=\"text-align: right;\">\n",
       "      <th></th>\n",
       "      <th>name</th>\n",
       "      <th>parameters</th>\n",
       "      <th>best_MAE_train</th>\n",
       "    </tr>\n",
       "  </thead>\n",
       "  <tbody>\n",
       "    <tr>\n",
       "      <th>0</th>\n",
       "      <td>LinearRegression</td>\n",
       "      <td>{}</td>\n",
       "      <td>6.572722</td>\n",
       "    </tr>\n",
       "    <tr>\n",
       "      <th>1</th>\n",
       "      <td>Lasso</td>\n",
       "      <td>{'alpha': 0.01}</td>\n",
       "      <td>6.420394</td>\n",
       "    </tr>\n",
       "    <tr>\n",
       "      <th>2</th>\n",
       "      <td>RandomForestRegressor</td>\n",
       "      <td>{'max_depth': 21, 'n_estimators': 300}</td>\n",
       "      <td>5.967313</td>\n",
       "    </tr>\n",
       "    <tr>\n",
       "      <th>3</th>\n",
       "      <td>CatBoostRegressor</td>\n",
       "      <td>{'learning_rate': 0.05, 'max_depth': 7}</td>\n",
       "      <td>5.803896</td>\n",
       "    </tr>\n",
       "    <tr>\n",
       "      <th>4</th>\n",
       "      <td>LGBMRegressor</td>\n",
       "      <td>{'learning_rate': 0.1, 'max_depth': 4}</td>\n",
       "      <td>5.853346</td>\n",
       "    </tr>\n",
       "  </tbody>\n",
       "</table>\n",
       "</div>"
      ],
      "text/plain": [
       "                    name                               parameters  \\\n",
       "0       LinearRegression                                       {}   \n",
       "1                  Lasso                          {'alpha': 0.01}   \n",
       "2  RandomForestRegressor   {'max_depth': 21, 'n_estimators': 300}   \n",
       "3      CatBoostRegressor  {'learning_rate': 0.05, 'max_depth': 7}   \n",
       "4          LGBMRegressor   {'learning_rate': 0.1, 'max_depth': 4}   \n",
       "\n",
       "   best_MAE_train  \n",
       "0        6.572722  \n",
       "1        6.420394  \n",
       "2        5.967313  \n",
       "3        5.803896  \n",
       "4        5.853346  "
      ]
     },
     "execution_count": 40,
     "metadata": {},
     "output_type": "execute_result"
    }
   ],
   "source": [
    "models.head()"
   ]
  },
  {
   "cell_type": "markdown",
   "id": "8e53ba4e",
   "metadata": {},
   "source": [
    "**Вывод:** Лучшие результаты на тренировочной выборке показала модель CatBoostRegressor (MAE = 5.804)."
   ]
  },
  {
   "cell_type": "markdown",
   "id": "3efd557b",
   "metadata": {},
   "source": [
    "**Тест лучшей модели**"
   ]
  },
  {
   "cell_type": "code",
   "execution_count": 41,
   "id": "c5cb3e27",
   "metadata": {},
   "outputs": [
    {
     "name": "stdout",
     "output_type": "stream",
     "text": [
      "MAE на тестовой выборке при использовании GridSearchCV: 5.789\n"
     ]
    }
   ],
   "source": [
    "catboost_model.fit(train_features, train_target)\n",
    "predicted = catboost_model.predict(test_features)\n",
    "mae_on_test = mean_absolute_error(test_target, predicted)\n",
    "print('MAE на тестовой выборке при использовании GridSearchCV: {:.3f}'.format(mae_on_test))"
   ]
  },
  {
   "cell_type": "markdown",
   "id": "1dd4831b",
   "metadata": {},
   "source": [
    "**Рассмотрим важность признаков на лучшей модели:**"
   ]
  },
  {
   "cell_type": "code",
   "execution_count": 42,
   "id": "5b2ef370",
   "metadata": {},
   "outputs": [
    {
     "data": {
      "image/png": "[encoded data removed]",
      "text/plain": [
       "<Figure size 1500x500 with 1 Axes>"
      ]
     },
     "metadata": {},
     "output_type": "display_data"
    }
   ],
   "source": [
    "features = pd.Series(catboost_model.feature_importances_, index=train_features.columns).sort_values(ascending=False)\n",
    "\n",
    "plt.figure(figsize=(15,5))\n",
    "features.plot.bar()\n",
    "plt.show()"
   ]
  },
  {
   "cell_type": "markdown",
   "id": "3e8f79a5",
   "metadata": {},
   "source": [
    "Итак, параметры оказывающие наибольшее влияние на конечную температуру: \n",
    "\n",
    " - начальная температура\n",
    " - время нагрева и мощность нагрева\n",
    " - время между первым измерением температуры и последним\n",
    " - количество наибольшей добавки (Wire 1)\n",
    " "
   ]
  },
  {
   "cell_type": "markdown",
   "id": "aaa16af0",
   "metadata": {},
   "source": [
    "**Выводы:**\n",
    "\n",
    " - Найдена модель дающая наилучшие прогнозы (CatBoostRegressor, MAE на тестовой выборке 5.789)\n",
    " - Выявлены признаки оказывающие наибольшее влияние на целевой признак (конечную температуру)\n",
    " - Выявлены ошибки в указании времени операций различных типов - не синхронизированы часы. \n",
    " - качество прогнозов моделей можно повысить, если синхронизировать время при фиксации операций разного типа\n",
    " - все пункты плана были выполнены"
   ]
  }
 ],
 "metadata": {
  "ExecuteTimeLog": [
   {
    "duration": 1067,
    "start_time": "2023-01-31T19:26:57.758Z"
   },
   {
    "duration": 324,
    "start_time": "2023-01-31T19:26:58.827Z"
   },
   {
    "duration": 174,
    "start_time": "2023-01-31T19:27:20.294Z"
   },
   {
    "duration": 201,
    "start_time": "2023-01-31T19:27:29.895Z"
   },
   {
    "duration": 3,
    "start_time": "2023-01-31T19:28:13.763Z"
   },
   {
    "duration": 62,
    "start_time": "2023-01-31T19:28:14.864Z"
   },
   {
    "duration": 69,
    "start_time": "2023-01-31T19:28:55.942Z"
   },
   {
    "duration": 49,
    "start_time": "2023-01-31T19:29:12.326Z"
   },
   {
    "duration": 16,
    "start_time": "2023-01-31T19:29:42.485Z"
   },
   {
    "duration": 8,
    "start_time": "2023-01-31T19:29:47.932Z"
   },
   {
    "duration": 4,
    "start_time": "2023-01-31T19:29:49.441Z"
   },
   {
    "duration": 1262,
    "start_time": "2023-01-31T19:29:50.513Z"
   },
   {
    "duration": 284,
    "start_time": "2023-01-31T19:30:18.453Z"
   },
   {
    "duration": 427,
    "start_time": "2023-01-31T19:30:22.134Z"
   },
   {
    "duration": 818,
    "start_time": "2023-01-31T19:30:27.454Z"
   },
   {
    "duration": 187,
    "start_time": "2023-01-31T19:31:25.781Z"
   },
   {
    "duration": 2445,
    "start_time": "2023-02-03T14:27:03.343Z"
   },
   {
    "duration": 764,
    "start_time": "2023-02-03T14:27:05.792Z"
   },
   {
    "duration": 4,
    "start_time": "2023-02-03T14:27:06.558Z"
   },
   {
    "duration": 107,
    "start_time": "2023-02-03T14:27:06.691Z"
   },
   {
    "duration": 95,
    "start_time": "2023-02-03T14:27:08.734Z"
   },
   {
    "duration": 58,
    "start_time": "2023-02-03T14:27:10.180Z"
   },
   {
    "duration": 20,
    "start_time": "2023-02-03T14:27:11.504Z"
   },
   {
    "duration": 7,
    "start_time": "2023-02-03T14:27:12.033Z"
   },
   {
    "duration": 5,
    "start_time": "2023-02-03T14:27:12.817Z"
   },
   {
    "duration": 1351,
    "start_time": "2023-02-03T14:27:13.729Z"
   },
   {
    "duration": 289,
    "start_time": "2023-02-03T14:27:17.883Z"
   },
   {
    "duration": 401,
    "start_time": "2023-02-03T14:27:20.723Z"
   },
   {
    "duration": 921,
    "start_time": "2023-02-03T14:27:22.609Z"
   },
   {
    "duration": 206,
    "start_time": "2023-02-03T14:27:29.067Z"
   },
   {
    "duration": 14,
    "start_time": "2023-02-03T14:27:40.276Z"
   },
   {
    "duration": 13,
    "start_time": "2023-02-03T14:27:40.874Z"
   },
   {
    "duration": 5,
    "start_time": "2023-02-03T14:27:42.017Z"
   },
   {
    "duration": 8,
    "start_time": "2023-02-03T14:27:43.760Z"
   },
   {
    "duration": 5,
    "start_time": "2023-02-03T14:27:44.860Z"
   },
   {
    "duration": 23,
    "start_time": "2023-02-03T14:27:45.600Z"
   },
   {
    "duration": 30,
    "start_time": "2023-02-03T14:27:46.536Z"
   },
   {
    "duration": 94,
    "start_time": "2023-02-03T14:33:52.764Z"
   },
   {
    "duration": 8,
    "start_time": "2023-02-03T14:33:54.836Z"
   },
   {
    "duration": 4,
    "start_time": "2023-02-03T14:36:57.192Z"
   },
   {
    "duration": 30,
    "start_time": "2023-02-03T14:37:33.891Z"
   },
   {
    "duration": 20,
    "start_time": "2023-02-03T14:39:03.849Z"
   },
   {
    "duration": 10,
    "start_time": "2023-02-03T14:39:05.378Z"
   },
   {
    "duration": 35,
    "start_time": "2023-02-03T14:39:16.389Z"
   },
   {
    "duration": 1339,
    "start_time": "2023-02-03T14:40:31.869Z"
   },
   {
    "duration": 5,
    "start_time": "2023-02-03T14:42:41.956Z"
   },
   {
    "duration": 11,
    "start_time": "2023-02-03T14:42:42.459Z"
   },
   {
    "duration": 6,
    "start_time": "2023-02-03T14:43:44.216Z"
   },
   {
    "duration": 5,
    "start_time": "2023-02-03T14:44:22.529Z"
   },
   {
    "duration": 313,
    "start_time": "2023-02-03T14:45:02.285Z"
   },
   {
    "duration": 239844,
    "start_time": "2023-02-03T14:46:54.017Z"
   },
   {
    "duration": 9,
    "start_time": "2023-02-03T14:50:53.863Z"
   },
   {
    "duration": 2630,
    "start_time": "2023-02-06T05:12:05.055Z"
   },
   {
    "duration": 497,
    "start_time": "2023-02-06T05:12:09.018Z"
   },
   {
    "duration": 3,
    "start_time": "2023-02-06T05:12:10.532Z"
   },
   {
    "duration": 71,
    "start_time": "2023-02-06T05:12:11.376Z"
   },
   {
    "duration": 88,
    "start_time": "2023-02-06T05:12:13.201Z"
   },
   {
    "duration": 60,
    "start_time": "2023-02-06T05:12:14.956Z"
   },
   {
    "duration": 16,
    "start_time": "2023-02-06T05:12:16.701Z"
   },
   {
    "duration": 7,
    "start_time": "2023-02-06T05:12:17.599Z"
   },
   {
    "duration": 4,
    "start_time": "2023-02-06T05:12:18.079Z"
   },
   {
    "duration": 1332,
    "start_time": "2023-02-06T05:12:18.301Z"
   },
   {
    "duration": 323,
    "start_time": "2023-02-06T05:12:20.043Z"
   },
   {
    "duration": 408,
    "start_time": "2023-02-06T05:12:20.698Z"
   },
   {
    "duration": 953,
    "start_time": "2023-02-06T05:12:22.682Z"
   },
   {
    "duration": 216,
    "start_time": "2023-02-06T05:12:24.293Z"
   },
   {
    "duration": 15,
    "start_time": "2023-02-06T05:12:28.961Z"
   },
   {
    "duration": 19,
    "start_time": "2023-02-06T05:12:29.150Z"
   },
   {
    "duration": 7,
    "start_time": "2023-02-06T05:12:29.559Z"
   },
   {
    "duration": 7,
    "start_time": "2023-02-06T05:12:30.111Z"
   },
   {
    "duration": 6,
    "start_time": "2023-02-06T05:12:30.473Z"
   },
   {
    "duration": 22,
    "start_time": "2023-02-06T05:12:30.867Z"
   },
   {
    "duration": 25,
    "start_time": "2023-02-06T05:12:31.215Z"
   },
   {
    "duration": 117,
    "start_time": "2023-02-06T05:12:38.684Z"
   },
   {
    "duration": 13,
    "start_time": "2023-02-06T05:12:39.134Z"
   },
   {
    "duration": 3,
    "start_time": "2023-02-06T05:21:04.330Z"
   },
   {
    "duration": 24,
    "start_time": "2023-02-06T05:21:06.167Z"
   },
   {
    "duration": 16,
    "start_time": "2023-02-06T05:21:08.359Z"
   },
   {
    "duration": 29,
    "start_time": "2023-02-06T05:21:09.002Z"
   }
  ],
  "kernelspec": {
   "display_name": "Python 3 (ipykernel)",
   "language": "python",
   "name": "python3"
  },
  "language_info": {
   "codemirror_mode": {
    "name": "ipython",
    "version": 3
   },
   "file_extension": ".py",
   "mimetype": "text/x-python",
   "name": "python",
   "nbconvert_exporter": "python",
   "pygments_lexer": "ipython3",
   "version": "3.9.13"
  },
  "toc": {
   "base_numbering": 1,
   "nav_menu": {},
   "number_sections": true,
   "sideBar": true,
   "skip_h1_title": true,
   "title_cell": "Table of Contents",
   "title_sidebar": "Contents",
   "toc_cell": false,
   "toc_position": {},
   "toc_section_display": true,
   "toc_window_display": false
  }
 },
 "nbformat": 4,
 "nbformat_minor": 5
}
